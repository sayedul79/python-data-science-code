{
 "cells": [
  {
   "cell_type": "code",
   "execution_count": 1,
   "metadata": {},
   "outputs": [],
   "source": [
    "import numpy as np\n",
    "import pandas as pd\n",
    "from bokeh.io import output_notebook, show\n",
    "from bokeh.plotting import figure, ColumnDataSource\n",
    "from bokeh.models import HoverTool"
   ]
  },
  {
   "cell_type": "code",
   "execution_count": 2,
   "metadata": {},
   "outputs": [
    {
     "data": {
      "text/html": [
       "\n",
       "    <div class=\"bk-root\">\n",
       "        <a href=\"https://bokeh.org\" target=\"_blank\" class=\"bk-logo bk-logo-small bk-logo-notebook\"></a>\n",
       "        <span id=\"1002\">Loading BokehJS ...</span>\n",
       "    </div>"
      ]
     },
     "metadata": {},
     "output_type": "display_data"
    },
    {
     "data": {
      "application/javascript": [
       "\n",
       "(function(root) {\n",
       "  function now() {\n",
       "    return new Date();\n",
       "  }\n",
       "\n",
       "  var force = true;\n",
       "\n",
       "  if (typeof root._bokeh_onload_callbacks === \"undefined\" || force === true) {\n",
       "    root._bokeh_onload_callbacks = [];\n",
       "    root._bokeh_is_loading = undefined;\n",
       "  }\n",
       "\n",
       "  var JS_MIME_TYPE = 'application/javascript';\n",
       "  var HTML_MIME_TYPE = 'text/html';\n",
       "  var EXEC_MIME_TYPE = 'application/vnd.bokehjs_exec.v0+json';\n",
       "  var CLASS_NAME = 'output_bokeh rendered_html';\n",
       "\n",
       "  /**\n",
       "   * Render data to the DOM node\n",
       "   */\n",
       "  function render(props, node) {\n",
       "    var script = document.createElement(\"script\");\n",
       "    node.appendChild(script);\n",
       "  }\n",
       "\n",
       "  /**\n",
       "   * Handle when an output is cleared or removed\n",
       "   */\n",
       "  function handleClearOutput(event, handle) {\n",
       "    var cell = handle.cell;\n",
       "\n",
       "    var id = cell.output_area._bokeh_element_id;\n",
       "    var server_id = cell.output_area._bokeh_server_id;\n",
       "    // Clean up Bokeh references\n",
       "    if (id != null && id in Bokeh.index) {\n",
       "      Bokeh.index[id].model.document.clear();\n",
       "      delete Bokeh.index[id];\n",
       "    }\n",
       "\n",
       "    if (server_id !== undefined) {\n",
       "      // Clean up Bokeh references\n",
       "      var cmd = \"from bokeh.io.state import curstate; print(curstate().uuid_to_server['\" + server_id + \"'].get_sessions()[0].document.roots[0]._id)\";\n",
       "      cell.notebook.kernel.execute(cmd, {\n",
       "        iopub: {\n",
       "          output: function(msg) {\n",
       "            var id = msg.content.text.trim();\n",
       "            if (id in Bokeh.index) {\n",
       "              Bokeh.index[id].model.document.clear();\n",
       "              delete Bokeh.index[id];\n",
       "            }\n",
       "          }\n",
       "        }\n",
       "      });\n",
       "      // Destroy server and session\n",
       "      var cmd = \"import bokeh.io.notebook as ion; ion.destroy_server('\" + server_id + \"')\";\n",
       "      cell.notebook.kernel.execute(cmd);\n",
       "    }\n",
       "  }\n",
       "\n",
       "  /**\n",
       "   * Handle when a new output is added\n",
       "   */\n",
       "  function handleAddOutput(event, handle) {\n",
       "    var output_area = handle.output_area;\n",
       "    var output = handle.output;\n",
       "\n",
       "    // limit handleAddOutput to display_data with EXEC_MIME_TYPE content only\n",
       "    if ((output.output_type != \"display_data\") || (!Object.prototype.hasOwnProperty.call(output.data, EXEC_MIME_TYPE))) {\n",
       "      return\n",
       "    }\n",
       "\n",
       "    var toinsert = output_area.element.find(\".\" + CLASS_NAME.split(' ')[0]);\n",
       "\n",
       "    if (output.metadata[EXEC_MIME_TYPE][\"id\"] !== undefined) {\n",
       "      toinsert[toinsert.length - 1].firstChild.textContent = output.data[JS_MIME_TYPE];\n",
       "      // store reference to embed id on output_area\n",
       "      output_area._bokeh_element_id = output.metadata[EXEC_MIME_TYPE][\"id\"];\n",
       "    }\n",
       "    if (output.metadata[EXEC_MIME_TYPE][\"server_id\"] !== undefined) {\n",
       "      var bk_div = document.createElement(\"div\");\n",
       "      bk_div.innerHTML = output.data[HTML_MIME_TYPE];\n",
       "      var script_attrs = bk_div.children[0].attributes;\n",
       "      for (var i = 0; i < script_attrs.length; i++) {\n",
       "        toinsert[toinsert.length - 1].firstChild.setAttribute(script_attrs[i].name, script_attrs[i].value);\n",
       "        toinsert[toinsert.length - 1].firstChild.textContent = bk_div.children[0].textContent\n",
       "      }\n",
       "      // store reference to server id on output_area\n",
       "      output_area._bokeh_server_id = output.metadata[EXEC_MIME_TYPE][\"server_id\"];\n",
       "    }\n",
       "  }\n",
       "\n",
       "  function register_renderer(events, OutputArea) {\n",
       "\n",
       "    function append_mime(data, metadata, element) {\n",
       "      // create a DOM node to render to\n",
       "      var toinsert = this.create_output_subarea(\n",
       "        metadata,\n",
       "        CLASS_NAME,\n",
       "        EXEC_MIME_TYPE\n",
       "      );\n",
       "      this.keyboard_manager.register_events(toinsert);\n",
       "      // Render to node\n",
       "      var props = {data: data, metadata: metadata[EXEC_MIME_TYPE]};\n",
       "      render(props, toinsert[toinsert.length - 1]);\n",
       "      element.append(toinsert);\n",
       "      return toinsert\n",
       "    }\n",
       "\n",
       "    /* Handle when an output is cleared or removed */\n",
       "    events.on('clear_output.CodeCell', handleClearOutput);\n",
       "    events.on('delete.Cell', handleClearOutput);\n",
       "\n",
       "    /* Handle when a new output is added */\n",
       "    events.on('output_added.OutputArea', handleAddOutput);\n",
       "\n",
       "    /**\n",
       "     * Register the mime type and append_mime function with output_area\n",
       "     */\n",
       "    OutputArea.prototype.register_mime_type(EXEC_MIME_TYPE, append_mime, {\n",
       "      /* Is output safe? */\n",
       "      safe: true,\n",
       "      /* Index of renderer in `output_area.display_order` */\n",
       "      index: 0\n",
       "    });\n",
       "  }\n",
       "\n",
       "  // register the mime type if in Jupyter Notebook environment and previously unregistered\n",
       "  if (root.Jupyter !== undefined) {\n",
       "    var events = require('base/js/events');\n",
       "    var OutputArea = require('notebook/js/outputarea').OutputArea;\n",
       "\n",
       "    if (OutputArea.prototype.mime_types().indexOf(EXEC_MIME_TYPE) == -1) {\n",
       "      register_renderer(events, OutputArea);\n",
       "    }\n",
       "  }\n",
       "\n",
       "  \n",
       "  if (typeof (root._bokeh_timeout) === \"undefined\" || force === true) {\n",
       "    root._bokeh_timeout = Date.now() + 5000;\n",
       "    root._bokeh_failed_load = false;\n",
       "  }\n",
       "\n",
       "  var NB_LOAD_WARNING = {'data': {'text/html':\n",
       "     \"<div style='background-color: #fdd'>\\n\"+\n",
       "     \"<p>\\n\"+\n",
       "     \"BokehJS does not appear to have successfully loaded. If loading BokehJS from CDN, this \\n\"+\n",
       "     \"may be due to a slow or bad network connection. Possible fixes:\\n\"+\n",
       "     \"</p>\\n\"+\n",
       "     \"<ul>\\n\"+\n",
       "     \"<li>re-rerun `output_notebook()` to attempt to load from CDN again, or</li>\\n\"+\n",
       "     \"<li>use INLINE resources instead, as so:</li>\\n\"+\n",
       "     \"</ul>\\n\"+\n",
       "     \"<code>\\n\"+\n",
       "     \"from bokeh.resources import INLINE\\n\"+\n",
       "     \"output_notebook(resources=INLINE)\\n\"+\n",
       "     \"</code>\\n\"+\n",
       "     \"</div>\"}};\n",
       "\n",
       "  function display_loaded() {\n",
       "    var el = document.getElementById(\"1002\");\n",
       "    if (el != null) {\n",
       "      el.textContent = \"BokehJS is loading...\";\n",
       "    }\n",
       "    if (root.Bokeh !== undefined) {\n",
       "      if (el != null) {\n",
       "        el.textContent = \"BokehJS \" + root.Bokeh.version + \" successfully loaded.\";\n",
       "      }\n",
       "    } else if (Date.now() < root._bokeh_timeout) {\n",
       "      setTimeout(display_loaded, 100)\n",
       "    }\n",
       "  }\n",
       "\n",
       "\n",
       "  function run_callbacks() {\n",
       "    try {\n",
       "      root._bokeh_onload_callbacks.forEach(function(callback) {\n",
       "        if (callback != null)\n",
       "          callback();\n",
       "      });\n",
       "    } finally {\n",
       "      delete root._bokeh_onload_callbacks\n",
       "    }\n",
       "    console.debug(\"Bokeh: all callbacks have finished\");\n",
       "  }\n",
       "\n",
       "  function load_libs(css_urls, js_urls, callback) {\n",
       "    if (css_urls == null) css_urls = [];\n",
       "    if (js_urls == null) js_urls = [];\n",
       "\n",
       "    root._bokeh_onload_callbacks.push(callback);\n",
       "    if (root._bokeh_is_loading > 0) {\n",
       "      console.debug(\"Bokeh: BokehJS is being loaded, scheduling callback at\", now());\n",
       "      return null;\n",
       "    }\n",
       "    if (js_urls == null || js_urls.length === 0) {\n",
       "      run_callbacks();\n",
       "      return null;\n",
       "    }\n",
       "    console.debug(\"Bokeh: BokehJS not loaded, scheduling load and callback at\", now());\n",
       "    root._bokeh_is_loading = css_urls.length + js_urls.length;\n",
       "\n",
       "    function on_load() {\n",
       "      root._bokeh_is_loading--;\n",
       "      if (root._bokeh_is_loading === 0) {\n",
       "        console.debug(\"Bokeh: all BokehJS libraries/stylesheets loaded\");\n",
       "        run_callbacks()\n",
       "      }\n",
       "    }\n",
       "\n",
       "    function on_error(url) {\n",
       "      console.error(\"failed to load \" + url);\n",
       "    }\n",
       "\n",
       "    for (let i = 0; i < css_urls.length; i++) {\n",
       "      const url = css_urls[i];\n",
       "      const element = document.createElement(\"link\");\n",
       "      element.onload = on_load;\n",
       "      element.onerror = on_error.bind(null, url);\n",
       "      element.rel = \"stylesheet\";\n",
       "      element.type = \"text/css\";\n",
       "      element.href = url;\n",
       "      console.debug(\"Bokeh: injecting link tag for BokehJS stylesheet: \", url);\n",
       "      document.body.appendChild(element);\n",
       "    }\n",
       "\n",
       "    const hashes = {\"https://cdn.bokeh.org/bokeh/release/bokeh-2.3.2.min.js\": \"XypntL49z55iwGVUW4qsEu83zKL3XEcz0MjuGOQ9SlaaQ68X/g+k1FcioZi7oQAc\", \"https://cdn.bokeh.org/bokeh/release/bokeh-tables-2.3.2.min.js\": \"bEsM86IHGDTLCS0Zod8a8WM6Y4+lafAL/eSiyQcuPzinmWNgNO2/olUF0Z2Dkn5i\", \"https://cdn.bokeh.org/bokeh/release/bokeh-widgets-2.3.2.min.js\": \"TX0gSQTdXTTeScqxj6PVQxTiRW8DOoGVwinyi1D3kxv7wuxQ02XkOxv0xwiypcAH\"};\n",
       "\n",
       "    for (let i = 0; i < js_urls.length; i++) {\n",
       "      const url = js_urls[i];\n",
       "      const element = document.createElement('script');\n",
       "      element.onload = on_load;\n",
       "      element.onerror = on_error.bind(null, url);\n",
       "      element.async = false;\n",
       "      element.src = url;\n",
       "      if (url in hashes) {\n",
       "        element.crossOrigin = \"anonymous\";\n",
       "        element.integrity = \"sha384-\" + hashes[url];\n",
       "      }\n",
       "      console.debug(\"Bokeh: injecting script tag for BokehJS library: \", url);\n",
       "      document.head.appendChild(element);\n",
       "    }\n",
       "  };\n",
       "\n",
       "  function inject_raw_css(css) {\n",
       "    const element = document.createElement(\"style\");\n",
       "    element.appendChild(document.createTextNode(css));\n",
       "    document.body.appendChild(element);\n",
       "  }\n",
       "\n",
       "  \n",
       "  var js_urls = [\"https://cdn.bokeh.org/bokeh/release/bokeh-2.3.2.min.js\", \"https://cdn.bokeh.org/bokeh/release/bokeh-widgets-2.3.2.min.js\", \"https://cdn.bokeh.org/bokeh/release/bokeh-tables-2.3.2.min.js\"];\n",
       "  var css_urls = [];\n",
       "  \n",
       "\n",
       "  var inline_js = [\n",
       "    function(Bokeh) {\n",
       "      Bokeh.set_log_level(\"info\");\n",
       "    },\n",
       "    function(Bokeh) {\n",
       "    \n",
       "    \n",
       "    }\n",
       "  ];\n",
       "\n",
       "  function run_inline_js() {\n",
       "    \n",
       "    if (root.Bokeh !== undefined || force === true) {\n",
       "      \n",
       "    for (var i = 0; i < inline_js.length; i++) {\n",
       "      inline_js[i].call(root, root.Bokeh);\n",
       "    }\n",
       "    if (force === true) {\n",
       "        display_loaded();\n",
       "      }} else if (Date.now() < root._bokeh_timeout) {\n",
       "      setTimeout(run_inline_js, 100);\n",
       "    } else if (!root._bokeh_failed_load) {\n",
       "      console.log(\"Bokeh: BokehJS failed to load within specified timeout.\");\n",
       "      root._bokeh_failed_load = true;\n",
       "    } else if (force !== true) {\n",
       "      var cell = $(document.getElementById(\"1002\")).parents('.cell').data().cell;\n",
       "      cell.output_area.append_execute_result(NB_LOAD_WARNING)\n",
       "    }\n",
       "\n",
       "  }\n",
       "\n",
       "  if (root._bokeh_is_loading === 0) {\n",
       "    console.debug(\"Bokeh: BokehJS loaded, going straight to plotting\");\n",
       "    run_inline_js();\n",
       "  } else {\n",
       "    load_libs(css_urls, js_urls, function() {\n",
       "      console.debug(\"Bokeh: BokehJS plotting callback run at\", now());\n",
       "      run_inline_js();\n",
       "    });\n",
       "  }\n",
       "}(window));"
      ],
      "application/vnd.bokehjs_load.v0+json": "\n(function(root) {\n  function now() {\n    return new Date();\n  }\n\n  var force = true;\n\n  if (typeof root._bokeh_onload_callbacks === \"undefined\" || force === true) {\n    root._bokeh_onload_callbacks = [];\n    root._bokeh_is_loading = undefined;\n  }\n\n  \n\n  \n  if (typeof (root._bokeh_timeout) === \"undefined\" || force === true) {\n    root._bokeh_timeout = Date.now() + 5000;\n    root._bokeh_failed_load = false;\n  }\n\n  var NB_LOAD_WARNING = {'data': {'text/html':\n     \"<div style='background-color: #fdd'>\\n\"+\n     \"<p>\\n\"+\n     \"BokehJS does not appear to have successfully loaded. If loading BokehJS from CDN, this \\n\"+\n     \"may be due to a slow or bad network connection. Possible fixes:\\n\"+\n     \"</p>\\n\"+\n     \"<ul>\\n\"+\n     \"<li>re-rerun `output_notebook()` to attempt to load from CDN again, or</li>\\n\"+\n     \"<li>use INLINE resources instead, as so:</li>\\n\"+\n     \"</ul>\\n\"+\n     \"<code>\\n\"+\n     \"from bokeh.resources import INLINE\\n\"+\n     \"output_notebook(resources=INLINE)\\n\"+\n     \"</code>\\n\"+\n     \"</div>\"}};\n\n  function display_loaded() {\n    var el = document.getElementById(\"1002\");\n    if (el != null) {\n      el.textContent = \"BokehJS is loading...\";\n    }\n    if (root.Bokeh !== undefined) {\n      if (el != null) {\n        el.textContent = \"BokehJS \" + root.Bokeh.version + \" successfully loaded.\";\n      }\n    } else if (Date.now() < root._bokeh_timeout) {\n      setTimeout(display_loaded, 100)\n    }\n  }\n\n\n  function run_callbacks() {\n    try {\n      root._bokeh_onload_callbacks.forEach(function(callback) {\n        if (callback != null)\n          callback();\n      });\n    } finally {\n      delete root._bokeh_onload_callbacks\n    }\n    console.debug(\"Bokeh: all callbacks have finished\");\n  }\n\n  function load_libs(css_urls, js_urls, callback) {\n    if (css_urls == null) css_urls = [];\n    if (js_urls == null) js_urls = [];\n\n    root._bokeh_onload_callbacks.push(callback);\n    if (root._bokeh_is_loading > 0) {\n      console.debug(\"Bokeh: BokehJS is being loaded, scheduling callback at\", now());\n      return null;\n    }\n    if (js_urls == null || js_urls.length === 0) {\n      run_callbacks();\n      return null;\n    }\n    console.debug(\"Bokeh: BokehJS not loaded, scheduling load and callback at\", now());\n    root._bokeh_is_loading = css_urls.length + js_urls.length;\n\n    function on_load() {\n      root._bokeh_is_loading--;\n      if (root._bokeh_is_loading === 0) {\n        console.debug(\"Bokeh: all BokehJS libraries/stylesheets loaded\");\n        run_callbacks()\n      }\n    }\n\n    function on_error(url) {\n      console.error(\"failed to load \" + url);\n    }\n\n    for (let i = 0; i < css_urls.length; i++) {\n      const url = css_urls[i];\n      const element = document.createElement(\"link\");\n      element.onload = on_load;\n      element.onerror = on_error.bind(null, url);\n      element.rel = \"stylesheet\";\n      element.type = \"text/css\";\n      element.href = url;\n      console.debug(\"Bokeh: injecting link tag for BokehJS stylesheet: \", url);\n      document.body.appendChild(element);\n    }\n\n    const hashes = {\"https://cdn.bokeh.org/bokeh/release/bokeh-2.3.2.min.js\": \"XypntL49z55iwGVUW4qsEu83zKL3XEcz0MjuGOQ9SlaaQ68X/g+k1FcioZi7oQAc\", \"https://cdn.bokeh.org/bokeh/release/bokeh-tables-2.3.2.min.js\": \"bEsM86IHGDTLCS0Zod8a8WM6Y4+lafAL/eSiyQcuPzinmWNgNO2/olUF0Z2Dkn5i\", \"https://cdn.bokeh.org/bokeh/release/bokeh-widgets-2.3.2.min.js\": \"TX0gSQTdXTTeScqxj6PVQxTiRW8DOoGVwinyi1D3kxv7wuxQ02XkOxv0xwiypcAH\"};\n\n    for (let i = 0; i < js_urls.length; i++) {\n      const url = js_urls[i];\n      const element = document.createElement('script');\n      element.onload = on_load;\n      element.onerror = on_error.bind(null, url);\n      element.async = false;\n      element.src = url;\n      if (url in hashes) {\n        element.crossOrigin = \"anonymous\";\n        element.integrity = \"sha384-\" + hashes[url];\n      }\n      console.debug(\"Bokeh: injecting script tag for BokehJS library: \", url);\n      document.head.appendChild(element);\n    }\n  };\n\n  function inject_raw_css(css) {\n    const element = document.createElement(\"style\");\n    element.appendChild(document.createTextNode(css));\n    document.body.appendChild(element);\n  }\n\n  \n  var js_urls = [\"https://cdn.bokeh.org/bokeh/release/bokeh-2.3.2.min.js\", \"https://cdn.bokeh.org/bokeh/release/bokeh-widgets-2.3.2.min.js\", \"https://cdn.bokeh.org/bokeh/release/bokeh-tables-2.3.2.min.js\"];\n  var css_urls = [];\n  \n\n  var inline_js = [\n    function(Bokeh) {\n      Bokeh.set_log_level(\"info\");\n    },\n    function(Bokeh) {\n    \n    \n    }\n  ];\n\n  function run_inline_js() {\n    \n    if (root.Bokeh !== undefined || force === true) {\n      \n    for (var i = 0; i < inline_js.length; i++) {\n      inline_js[i].call(root, root.Bokeh);\n    }\n    if (force === true) {\n        display_loaded();\n      }} else if (Date.now() < root._bokeh_timeout) {\n      setTimeout(run_inline_js, 100);\n    } else if (!root._bokeh_failed_load) {\n      console.log(\"Bokeh: BokehJS failed to load within specified timeout.\");\n      root._bokeh_failed_load = true;\n    } else if (force !== true) {\n      var cell = $(document.getElementById(\"1002\")).parents('.cell').data().cell;\n      cell.output_area.append_execute_result(NB_LOAD_WARNING)\n    }\n\n  }\n\n  if (root._bokeh_is_loading === 0) {\n    console.debug(\"Bokeh: BokehJS loaded, going straight to plotting\");\n    run_inline_js();\n  } else {\n    load_libs(css_urls, js_urls, function() {\n      console.debug(\"Bokeh: BokehJS plotting callback run at\", now());\n      run_inline_js();\n    });\n  }\n}(window));"
     },
     "metadata": {},
     "output_type": "display_data"
    }
   ],
   "source": [
    "output_notebook()"
   ]
  },
  {
   "cell_type": "markdown",
   "metadata": {},
   "source": [
    "### [Customizing visual properties](https://docs.bokeh.org/en/latest/docs/user_guide/styling.html#plots)\n",
    "To style the visual attributes of Bokeh plots, you need to know what the available properties are. The full [Reference](https://docs.bokeh.org/en/latest/docs/reference.html#refguide) contains all properties of every object individually. However, there are three groups of properties that many objects have in common. They are:\n",
    "\n",
    "* <b>line properties</b>: line color, width, etc.\n",
    "\n",
    "* <b>fill properties</b>: fill color, alpha, etc.\n",
    "\n",
    "* <b>text properties</b>: font styles, colors, etc.\n",
    "----\n",
    "\n",
    "### Line Properties\n",
    "\n",
    "Set the visual appearance of lines. The most common are ``line_color``, ``line_alpha``, ``line_width`` and ``line_dash``.\n",
    "\n",
    "`line_dash`\n",
    "a line style to use\n",
    "\n",
    "* `solid`\n",
    "\n",
    "* `dashed`\n",
    "\n",
    "* `dotted`\n",
    "\n",
    "* `dotdash`\n",
    "\n",
    "* `dashdot`\n",
    "\n",
    "### Fill Properties\n",
    "\n",
    "Set the visual appearance of filled areas: ``fill_color`` and ``fill_alpha``.\n",
    "\n",
    "### Text Properties\n",
    "\n",
    "Set the visual appearance of lines of text. The most common are ``text_font``, ``text_font_size``, ``text_color``, and ``text_alpha``.\n",
    "\n",
    "----\n"
   ]
  },
  {
   "cell_type": "code",
   "execution_count": null,
   "metadata": {},
   "outputs": [],
   "source": []
  },
  {
   "cell_type": "markdown",
   "metadata": {},
   "source": [
    "### Title\n",
    "To style the title of your plot, use the Title annotation, which is available as the .title property of the Plot.\n",
    "\n",
    "You can use most of the standard Text Properties. However, `text_align` and `text_baseline` do not apply. To position the title relative to the entire plot, use the properties align and offset instead.\n",
    "\n",
    "As an example, to set the color and font style of the title text, use `plot.title.text_color`"
   ]
  },
  {
   "cell_type": "code",
   "execution_count": 7,
   "metadata": {},
   "outputs": [
    {
     "data": {
      "text/html": [
       "\n",
       "\n",
       "\n",
       "\n",
       "\n",
       "\n",
       "  <div class=\"bk-root\" id=\"db76ca33-14d2-4b31-a998-f42d37caa0d9\" data-root-id=\"1219\"></div>\n"
      ]
     },
     "metadata": {},
     "output_type": "display_data"
    },
    {
     "data": {
      "application/javascript": [
       "(function(root) {\n",
       "  function embed_document(root) {\n",
       "    \n",
       "  var docs_json = {\"b563e5b4-a529-44d7-a647-3fc1a9563e20\":{\"defs\":[],\"roots\":{\"references\":[{\"attributes\":{\"below\":[{\"id\":\"1230\"}],\"center\":[{\"id\":\"1233\"},{\"id\":\"1237\"}],\"height\":300,\"left\":[{\"id\":\"1234\"}],\"renderers\":[{\"id\":\"1255\"}],\"title\":{\"id\":\"1220\"},\"toolbar\":{\"id\":\"1245\"},\"x_range\":{\"id\":\"1222\"},\"x_scale\":{\"id\":\"1226\"},\"y_range\":{\"id\":\"1224\"},\"y_scale\":{\"id\":\"1228\"}},\"id\":\"1219\",\"subtype\":\"Figure\",\"type\":\"Plot\"},{\"attributes\":{},\"id\":\"1286\",\"type\":\"Selection\"},{\"attributes\":{\"line_alpha\":0.1,\"line_color\":\"red\",\"line_dash\":[2,4],\"line_width\":2,\"x\":{\"field\":\"x\"},\"y\":{\"field\":\"y\"}},\"id\":\"1254\",\"type\":\"Line\"},{\"attributes\":{},\"id\":\"1287\",\"type\":\"UnionRenderers\"},{\"attributes\":{},\"id\":\"1283\",\"type\":\"AllLabels\"},{\"attributes\":{},\"id\":\"1228\",\"type\":\"LinearScale\"},{\"attributes\":{},\"id\":\"1284\",\"type\":\"BasicTickFormatter\"},{\"attributes\":{\"end\":10},\"id\":\"1222\",\"type\":\"Range1d\"},{\"attributes\":{},\"id\":\"1224\",\"type\":\"DataRange1d\"},{\"attributes\":{},\"id\":\"1231\",\"type\":\"BasicTicker\"},{\"attributes\":{\"axis\":{\"id\":\"1230\"},\"ticker\":null},\"id\":\"1233\",\"type\":\"Grid\"},{\"attributes\":{},\"id\":\"1226\",\"type\":\"LinearScale\"},{\"attributes\":{\"formatter\":{\"id\":\"1284\"},\"major_label_policy\":{\"id\":\"1283\"},\"ticker\":{\"id\":\"1235\"}},\"id\":\"1234\",\"type\":\"LinearAxis\"},{\"attributes\":{\"data\":{\"x\":{\"__ndarray__\":\"AAAAAAAAAACamZmZmZm5P5qZmZmZmck/NDMzMzMz0z+amZmZmZnZPwAAAAAAAOA/NDMzMzMz4z9nZmZmZmbmP5qZmZmZmek/zczMzMzM7D8AAAAAAADwP5qZmZmZmfE/NDMzMzMz8z/NzMzMzMz0P2dmZmZmZvY/AAAAAAAA+D+amZmZmZn5PzQzMzMzM/s/zczMzMzM/D9nZmZmZmb+PwAAAAAAAABAzczMzMzMAECamZmZmZkBQGdmZmZmZgJANDMzMzMzA0AAAAAAAAAEQM3MzMzMzARAmpmZmZmZBUBnZmZmZmYGQDQzMzMzMwdAAAAAAAAACEDNzMzMzMwIQJqZmZmZmQlAZ2ZmZmZmCkA0MzMzMzMLQAAAAAAAAAxAzczMzMzMDECamZmZmZkNQGdmZmZmZg5ANDMzMzMzD0AAAAAAAAAQQGdmZmZmZhBAzczMzMzMEEAzMzMzMzMRQJqZmZmZmRFAAAAAAAAAEkBnZmZmZmYSQM3MzMzMzBJANDMzMzMzE0CamZmZmZkTQAAAAAAAABRAZ2ZmZmZmFEDNzMzMzMwUQDQzMzMzMxVAmpmZmZmZFUAAAAAAAAAWQGdmZmZmZhZAzczMzMzMFkA0MzMzMzMXQJqZmZmZmRdAAAAAAAAAGEBnZmZmZmYYQM3MzMzMzBhANDMzMzMzGUCamZmZmZkZQAAAAAAAABpAZ2ZmZmZmGkDNzMzMzMwaQDQzMzMzMxtAmpmZmZmZG0AAAAAAAAAcQGdmZmZmZhxAzczMzMzMHEA0MzMzMzMdQJqZmZmZmR1AAAAAAAAAHkBnZmZmZmYeQM3MzMzMzB5ANDMzMzMzH0CamZmZmZkfQAAAAAAAACBAMzMzMzMzIEBnZmZmZmYgQJqZmZmZmSBAzczMzMzMIEAAAAAAAAAhQDMzMzMzMyFAZ2ZmZmZmIUCamZmZmZkhQM3MzMzMzCFAAAAAAAAAIkAzMzMzMzMiQGdmZmZmZiJAmpmZmZmZIkDNzMzMzMwiQAAAAAAAACNANDMzMzMzI0BnZmZmZmYjQJqZmZmZmSNAzczMzMzMI0A=\",\"dtype\":\"float64\",\"order\":\"little\",\"shape\":[100]},\"y\":{\"__ndarray__\":\"AAAAAAAA8D/BF6j5EtfvP3pid5W0XO8/ugkv1B2S7j/4otvnVHntP1B9WwYoFew/FFtIPCZp6j+SnZ9SlnnoP2WYcd5rS+Y/HOKSljrk4z+MBrUPKErhPxFhxwa4B90/0Hk7lN4w1z9fTCposx7RPwNXE7x7wcU/p/nFT9Ubsj8zFl/Feuadv45sovT5fcC/eg4lT/UUzb+vRTS5xrDUvwVyU1cmotq/yp6YBLMn4L9wrYhLANXiv+QvMBciUuW/iNGQtLqY5799i4Xv96Lpv3D0gPaha+u/pgNmsyju7L9McFd3rybuv8pAo9sWEu+/0uWFvgSu778kplZH6vjvv7bLueIH8u+/tgunLG+Z778Cvl7DAvDuv18awQN09+2/WSzStD6y7L832X2toiPrv+io24SbT+m/58g0YtY657/BJNsGpurkv2QtajD1ZOK/HceK7G5g379TOxaSsabZv6rCYnxXq9O/aj1YVFv7yr+KjVkrB7a8vzRqUEM6X4m/f0BOWFVmtj9kFnwno9/HP9lKa3CFJ9I/q1zkjskw2D/uajdZLfzdP9wydD9vveE/jLAlb2dP5D9I1Ac8bK3mP4QKg4hv0eg/Kv4Nlve16j8ncqcGLVbsPylQ+T7nre0/9SJ4Cbe57j+0mElf73bvP86peUCs4+8/QXr8idf+7z+hTB69K8jvP8jDRbE0QO8/KsRBLk5o7j8b5bVyoELtP/fciK8a0us/SxJyhmsa6j8XINme9x/oP0ClHmnO5+U/6qAMLZ134z/EAYqEoNXgP32Ia88oEdw/L1xv5kUv1j/SFqwppBTQP57FwTTBocM/elqEfQugqz+rKlYyl42nv5QvY7++n8K/Ha+2b3Qsz7/FHg2XtrTVv3GhWaCtm9u/P65TPQOe4L+OsDp3rkPjv/sgzBoTuOW/3Dpjz+n057+NFS1WefTpv3nrDy6lseu/axmmpvon7b8KtdtAvFPuv5SkFEDrMe+/1J5iU0/A778TjzJDfP3vv0gM65TV6O+/s+4sG5CC77/lOLZuscvuv33uQFENxu2/GmQNAUF07L8=\",\"dtype\":\"float64\",\"order\":\"little\",\"shape\":[100]}},\"selected\":{\"id\":\"1286\"},\"selection_policy\":{\"id\":\"1287\"}},\"id\":\"1252\",\"type\":\"ColumnDataSource\"},{\"attributes\":{\"formatter\":{\"id\":\"1281\"},\"major_label_policy\":{\"id\":\"1280\"},\"ticker\":{\"id\":\"1231\"}},\"id\":\"1230\",\"type\":\"LinearAxis\"},{\"attributes\":{},\"id\":\"1243\",\"type\":\"HelpTool\"},{\"attributes\":{\"axis\":{\"id\":\"1234\"},\"dimension\":1,\"ticker\":null},\"id\":\"1237\",\"type\":\"Grid\"},{\"attributes\":{},\"id\":\"1235\",\"type\":\"BasicTicker\"},{\"attributes\":{},\"id\":\"1239\",\"type\":\"WheelZoomTool\"},{\"attributes\":{\"active_multi\":null,\"tools\":[{\"id\":\"1238\"},{\"id\":\"1239\"},{\"id\":\"1240\"},{\"id\":\"1241\"},{\"id\":\"1242\"},{\"id\":\"1243\"}]},\"id\":\"1245\",\"type\":\"Toolbar\"},{\"attributes\":{},\"id\":\"1238\",\"type\":\"PanTool\"},{\"attributes\":{\"overlay\":{\"id\":\"1244\"}},\"id\":\"1240\",\"type\":\"BoxZoomTool\"},{\"attributes\":{\"text\":\"A trigonometric function\",\"text_color\":\"olive\",\"text_font\":\"ecotype\",\"text_font_size\":\"20px\"},\"id\":\"1220\",\"type\":\"Title\"},{\"attributes\":{},\"id\":\"1241\",\"type\":\"SaveTool\"},{\"attributes\":{},\"id\":\"1242\",\"type\":\"ResetTool\"},{\"attributes\":{\"source\":{\"id\":\"1252\"}},\"id\":\"1256\",\"type\":\"CDSView\"},{\"attributes\":{\"line_color\":\"red\",\"line_dash\":[2,4],\"line_width\":2,\"x\":{\"field\":\"x\"},\"y\":{\"field\":\"y\"}},\"id\":\"1253\",\"type\":\"Line\"},{\"attributes\":{\"data_source\":{\"id\":\"1252\"},\"glyph\":{\"id\":\"1253\"},\"hover_glyph\":null,\"muted_glyph\":null,\"nonselection_glyph\":{\"id\":\"1254\"},\"view\":{\"id\":\"1256\"}},\"id\":\"1255\",\"type\":\"GlyphRenderer\"},{\"attributes\":{},\"id\":\"1280\",\"type\":\"AllLabels\"},{\"attributes\":{},\"id\":\"1281\",\"type\":\"BasicTickFormatter\"},{\"attributes\":{\"bottom_units\":\"screen\",\"fill_alpha\":0.5,\"fill_color\":\"lightgrey\",\"left_units\":\"screen\",\"level\":\"overlay\",\"line_alpha\":1.0,\"line_color\":\"black\",\"line_dash\":[4,4],\"line_width\":2,\"right_units\":\"screen\",\"syncable\":false,\"top_units\":\"screen\"},\"id\":\"1244\",\"type\":\"BoxAnnotation\"}],\"root_ids\":[\"1219\"]},\"title\":\"Bokeh Application\",\"version\":\"2.3.2\"}};\n",
       "  var render_items = [{\"docid\":\"b563e5b4-a529-44d7-a647-3fc1a9563e20\",\"root_ids\":[\"1219\"],\"roots\":{\"1219\":\"db76ca33-14d2-4b31-a998-f42d37caa0d9\"}}];\n",
       "  root.Bokeh.embed.embed_items_notebook(docs_json, render_items);\n",
       "\n",
       "  }\n",
       "  if (root.Bokeh !== undefined) {\n",
       "    embed_document(root);\n",
       "  } else {\n",
       "    var attempts = 0;\n",
       "    var timer = setInterval(function(root) {\n",
       "      if (root.Bokeh !== undefined) {\n",
       "        clearInterval(timer);\n",
       "        embed_document(root);\n",
       "      } else {\n",
       "        attempts++;\n",
       "        if (attempts > 100) {\n",
       "          clearInterval(timer);\n",
       "          console.log(\"Bokeh: ERROR: Unable to run BokehJS code because BokehJS library is missing\");\n",
       "        }\n",
       "      }\n",
       "    }, 10, root)\n",
       "  }\n",
       "})(window);"
      ],
      "application/vnd.bokehjs_exec.v0+json": ""
     },
     "metadata": {
      "application/vnd.bokehjs_exec.v0+json": {
       "id": "1219"
      }
     },
     "output_type": "display_data"
    }
   ],
   "source": [
    "x=np.arange(0,10,0.1)\n",
    "y=np.cos(x)\n",
    "p=figure(plot_width=600, plot_height=300,\n",
    "        title=\"A trigonometric function\", \n",
    "        x_range=(0,10))\n",
    "p.line(x, y, \n",
    "       line_dash=\"dotted\", \n",
    "       color=\"red\", \n",
    "       line_width=2)\n",
    "\n",
    "p.title.text_color=\"olive\"\n",
    "p.title.text_font=\"ecotype\"\n",
    "p.title.text_font_size=\"20px\"\n",
    "#p.title.text_font_style = \"italic\"\n",
    "\n",
    " \n",
    "show(p)"
   ]
  },
  {
   "cell_type": "markdown",
   "metadata": {},
   "source": [
    "## Configuring tick labels\n",
    "\n",
    "All Bokeh axes have a `formatter` property, whose value is a `TickFormatter` object that Bokeh uses to format the ticks displayed by that axis. Bokeh will configure default tick formatters for numeric, datetime, or categotical axes. But often we would like to customize the appearance of tick labels. This can be accomplished by changing properties on the default formatter that Bokeh chooses, or by replacing the formatter with a new type entirely. \n",
    "\n",
    "Let's first look at changing the properties of a default formatter. The default datetime formatter is configured to show *month/day* when the axis is on the scale of days. If would like the also always show the year, we can change the `days` property to a format that includes the year, as done below. "
   ]
  },
  {
   "cell_type": "code",
   "execution_count": 8,
   "metadata": {},
   "outputs": [
    {
     "data": {
      "text/html": [
       "\n",
       "\n",
       "\n",
       "\n",
       "\n",
       "\n",
       "  <div class=\"bk-root\" id=\"8a856fe3-774b-46f0-ad21-27be42b80b04\" data-root-id=\"1339\"></div>\n"
      ]
     },
     "metadata": {},
     "output_type": "display_data"
    },
    {
     "data": {
      "application/javascript": [
       "(function(root) {\n",
       "  function embed_document(root) {\n",
       "    \n",
       "  var docs_json = {\"03948905-bb5d-4e08-879b-6d37c666cc61\":{\"defs\":[],\"roots\":{\"references\":[{\"attributes\":{\"below\":[{\"id\":\"1350\"}],\"center\":[{\"id\":\"1353\"},{\"id\":\"1357\"}],\"height\":300,\"left\":[{\"id\":\"1354\"}],\"renderers\":[{\"id\":\"1376\"}],\"title\":{\"id\":\"1340\"},\"toolbar\":{\"id\":\"1365\"},\"x_range\":{\"id\":\"1342\"},\"x_scale\":{\"id\":\"1346\"},\"y_range\":{\"id\":\"1344\"},\"y_scale\":{\"id\":\"1348\"}},\"id\":\"1339\",\"subtype\":\"Figure\",\"type\":\"Plot\"},{\"attributes\":{\"formatter\":{\"id\":\"1372\"},\"major_label_orientation\":1.0471975511965976,\"major_label_policy\":{\"id\":\"1411\"},\"ticker\":{\"id\":\"1351\"}},\"id\":\"1350\",\"type\":\"DatetimeAxis\"},{\"attributes\":{\"months\":[0,1,2,3,4,5,6,7,8,9,10,11]},\"id\":\"1424\",\"type\":\"MonthsTicker\"},{\"attributes\":{\"axis\":{\"id\":\"1354\"},\"dimension\":1,\"ticker\":null},\"id\":\"1357\",\"type\":\"Grid\"},{\"attributes\":{},\"id\":\"1428\",\"type\":\"YearsTicker\"},{\"attributes\":{},\"id\":\"1414\",\"type\":\"AllLabels\"},{\"attributes\":{\"months\":[0,6]},\"id\":\"1427\",\"type\":\"MonthsTicker\"},{\"attributes\":{},\"id\":\"1415\",\"type\":\"BasicTickFormatter\"},{\"attributes\":{\"base\":24,\"mantissas\":[1,2,4,6,8,12],\"max_interval\":43200000.0,\"min_interval\":3600000.0,\"num_minor_ticks\":0},\"id\":\"1419\",\"type\":\"AdaptiveTicker\"},{\"attributes\":{\"months\":[0,2,4,6,8,10]},\"id\":\"1425\",\"type\":\"MonthsTicker\"},{\"attributes\":{\"months\":[0,4,8]},\"id\":\"1426\",\"type\":\"MonthsTicker\"},{\"attributes\":{\"days\":[1,4,7,10,13,16,19,22,25,28]},\"id\":\"1421\",\"type\":\"DaysTicker\"},{\"attributes\":{\"days\":[1,15]},\"id\":\"1423\",\"type\":\"DaysTicker\"},{\"attributes\":{},\"id\":\"1429\",\"type\":\"Selection\"},{\"attributes\":{\"days\":[\"%m/%d/%Y\"]},\"id\":\"1372\",\"type\":\"DatetimeTickFormatter\"},{\"attributes\":{},\"id\":\"1430\",\"type\":\"UnionRenderers\"},{\"attributes\":{},\"id\":\"1358\",\"type\":\"PanTool\"},{\"attributes\":{},\"id\":\"1362\",\"type\":\"ResetTool\"},{\"attributes\":{\"text\":\"Glocose Range\"},\"id\":\"1340\",\"type\":\"Title\"},{\"attributes\":{},\"id\":\"1346\",\"type\":\"LinearScale\"},{\"attributes\":{\"data_source\":{\"id\":\"1373\"},\"glyph\":{\"id\":\"1374\"},\"hover_glyph\":null,\"muted_glyph\":null,\"nonselection_glyph\":{\"id\":\"1375\"},\"view\":{\"id\":\"1377\"}},\"id\":\"1376\",\"type\":\"GlyphRenderer\"},{\"attributes\":{\"line_color\":\"#1f77b4\",\"x\":{\"field\":\"x\"},\"y\":{\"field\":\"y\"}},\"id\":\"1374\",\"type\":\"Line\"},{\"attributes\":{\"data\":{\"x\":{\"__ndarray__\":\"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\",\"dtype\":\"float64\",\"order\":\"little\",\"shape\":[2217]},\"y\":[92,100,108,115,120,124,128,133,137,142,147,152,157,162,167,171,175,179,185,192,200,207,212,215,217,219,218,219,217,216,216,216,215,214,212,211,209,207,204,203,203,203,203,204,203,202,201,200,199,199,197,193,189,185,182,182,183,184,184,182,177,174,172,170,168,167,166,164,162,160,158,155,152,150,147,140,131,124,120,116,114,114,116,118,119,120,120,120,119,117,114,112,112,111,111,112,111,111,110,108,106,106,106,106,104,101,101,103,102,100,99,100,100,99,99,99,100,99,98,97,97,96,92,90,89,86,85,85,84,84,81,80,81,86,99,115,125,130,129,128,123,118,113,111,112,111,109,108,105,101,100,102,107,113,119,125,129,131,129,128,127,127,127,125,122,117,113,108,103,98,93,89,86,85,83,82,81,82,84,87,92,99,107,121,133,142,146,149,150,151,151,152,152,150,148,161,160,158,157,157,157,156,153,149,147,145,144,145,149,154,159,163,164,164,164,163,162,158,154,153,154,155,157,159,158,156,152,148,144,139,134,128,123,121,119,117,115,115,112,109,106,105,103,101,97,93,89,86,85,88,93,100,106,113,119,125,131,137,142,149,159,172,186,197,204,207,208,207,205,202,199,197,193,185,176,178,177,177,176,173,171,170,169,167,166,165,163,163,162,160,156,150,150,150,151,150,150,150,149,149,148,149,147,145,143,139,141,145,147,147,146,145,141,138,136,135,134,133,132,129,124,120,118,112,114,119,123,125,126,127,128,135,143,148,151,153,154,155,156,156,157,157,156,155,154,147,137,131,128,129,131,132,133,135,135,133,131,132,135,138,139,138,136,132,128,126,125,120,113,108,106,105,108,111,113,116,120,120,120,119,118,118,118,118,117,116,113,106,98,93,97,107,115,122,120,113,102,94,95,96,90,88,83,83,85,90,97,98,99,94,89,95,105,111,113,106,95,90,91,96,101,104,109,112,120,123,118,115,123,130,128,130,136,131,121,113,110,108,109,111,115,120,115,108,105,105,104,106,110,111,115,115,117,114,111,107,105,109,111,110,111,115,121,126,135,142,145,147,150,153,156,160,162,161,160,160,159,157,154,152,152,150,143,138,132,128,124,119,112,105,98,92,94,98,106,118,126,128,127,123,123,121,118,115,112,112,114,113,105,78,209,204,214,252,282,290,295,292,284,268,263,262,263,263,262,258,249,236,179,165,157,152,150,149,150,154,158,163,166,166,163,159,158,161,170,176,178,174,170,166,160,156,151,148,147,145,142,141,145,144,144,153,155,152,147,143,145,152,156,157,156,155,155,156,158,158,158,156,152,146,139,139,141,143,145,147,148,149,149,149,148,147,144,140,139,139,138,137,136,135,134,133,134,136,137,136,134,135,139,142,143,141,138,141,145,148,151,152,154,156,155,155,159,163,166,166,166,164,162,160,158,157,155,153,150,150,149,149,149,149,150,152,154,155,155,156,156,157,160,163,165,165,164,163,121,119,117,114,113,112,113,113,113,113,112,113,113,113,114,112,110,109,109,109,108,108,90,90,94,99,107,116,125,130,132,130,124,117,110,103,95,88,81,77,75,63,65,70,73,78,80,80,79,80,83,86,89,94,96,98,104,105,106,106,107,107,109,114,118,121,123,124,123,122,122,123,123,123,124,123,123,124,127,132,137,139,140,140,142,147,152,156,160,165,168,169,169,165,162,160,158,156,154,150,146,144,141,138,136,133,129,124,118,112,107,106,107,108,109,110,111,112,112,113,114,115,116,117,118,119,122,125,128,130,130,131,130,128,126,123,120,116,93,89,86,84,82,79,76,74,72,71,69,70,68,67,66,67,68,69,69,69,68,68,67,66,65,64,63,61,61,60,60,61,63,64,64,64,63,64,65,66,67,67,66,66,67,68,69,71,73,72,71,70,71,72,74,75,76,78,79,80,81,82,84,86,88,88,87,86,85,86,86,86,86,87,87,88,88,88,89,87,83,79,78,82,85,87,88,89,89,89,87,86,88,89,90,89,90,92,91,90,89,88,87,87,89,90,91,92,94,108,110,110,111,111,111,112,113,114,116,116,116,117,119,121,124,127,131,138,145,150,155,161,165,169,173,177,182,185,185,184,189,193,195,198,198,197,196,196,199,202,202,201,202,204,205,205,203,202,201,197,197,198,199,200,199,195,190,184,180,178,179,180,179,176,175,174,172,169,168,167,170,180,191,203,214,219,219,222,227,228,226,223,221,219,219,218,218,219,218,216,214,214,211,208,207,206,206,205,202,199,193,190,187,182,179,176,173,170,167,163,158,152,146,141,135,129,122,114,108,102,97,90,85,81,77,73,68,65,62,61,61,61,61,61,60,59,59,60,61,64,69,75,82,92,104,117,128,137,144,149,153,156,160,164,169,175,180,184,188,191,193,195,196,200,203,207,212,218,223,228,231,234,235,236,327,327,330,333,328,321,316,308,298,287,274,263,255,249,243,239,234,230,225,220,215,210,206,204,204,199,195,190,185,181,177,175,173,171,170,169,169,168,167,166,166,166,163,161,159,158,157,156,154,152,150,149,149,150,150,151,151,152,153,153,153,154,154,154,154,153,152,152,150,149,148,146,145,144,144,143,142,142,141,140,139,137,137,138,136,137,137,136,137,136,134,133,132,132,132,132,132,134,136,138,141,142,142,143,145,150,154,156,158,160,162,164,167,169,172,175,176,175,174,172,170,171,173,178,185,191,198,210,223,235,244,254,265,273,283,290,296,302,307,309,313,316,318,320,322,320,319,317,313,311,306,300,297,294,293,290,287,286,285,282,279,274,271,270,270,269,274,271,267,264,262,259,255,250,244,237,232,227,223,220,215,210,205,199,195,193,197,206,221,239,258,276,291,302,311,318,323,324,322,320,319,320,319,317,314,311,307,302,294,286,280,276,272,267,259,251,245,241,241,241,242,244,245,245,242,237,232,228,225,216,215,216,217,217,215,211,206,202,200,201,203,201,196,188,176,163,149,138,129,119,108,98,89,79,71,66,66,67,67,68,69,71,74,77,79,81,85,91,99,109,119,132,145,157,168,175,179,183,185,188,188,187,184,179,172,163,159,157,155,153,151,149,148,148,148,147,146,145,145,144,143,143,143,144,145,146,145,144,143,142,140,140,140,140,140,143,147,150,152,152,152,154,155,142,140,138,134,131,130,128,127,126,126,126,126,127,129,131,132,134,136,136,136,136,135,134,132,130,130,130,129,128,127,125,124,123,123,122,121,120,118,115,112,111,111,110,110,109,108,107,107,107,108,107,105,105,105,105,104,103,102,99,97,96,94,94,93,93,92,91,92,94,95,96,97,99,102,104,112,112,112,111,110,107,104,105,105,103,99,96,94,95,102,114,128,144,160,173,185,196,205,209,214,219,226,234,241,248,255,260,265,268,270,272,271,271,268,265,261,256,253,250,246,244,241,237,233,229,225,222,204,200,197,193,190,186,182,179,175,171,168,164,158,154,151,148,145,141,133,139,152,173,196,217,233,244,249,250,253,256,260,263,265,265,264,260,254,246,234,217,200,188,181,175,169,164,159,154,147,138,132,129,127,123,117,111,106,104,103,100,94,88,83,78,75,73,71,69,68,67,67,68,70,71,71,70,69,68,67,67,67,66,67,69,71,74,76,78,80,80,80,80,80,80,82,84,87,90,92,87,87,86,86,86,86,87,87,87,85,83,82,83,87,95,107,118,130,141,149,172,179,187,201,214,221,225,230,232,230,223,216,208,199,191,185,181,177,176,177,176,173,171,169,163,154,152,153,154,154,153,151,150,150,150,152,149,147,148,150,152,152,152,151,151,150,149,147,146,143,140,138,136,137,138,140,138,135,132,130,129,129,129,130,130,129,128,128,128,129,129,128,127,126,125,125,125,125,124,124,121,120,120,123,124,123,122,120,115,113,114,114,115,116,115,112,111,111,109,108,107,107,110,113,114,115,115,115,114,113,113,116,119,120,121,121,122,123,124,125,126,126,126,126,126,127,127,125,122,118,115,111,112,115,117,120,124,127,131,137,143,148,153,159,166,172,178,184,191,199,206,212,217,223,229,232,233,235,237,240,241,243,246,247,246,243,240,234,229,225,221,217,216,215,215,215,212,208,203,199,196,194,190,185,180,177,163,158,152,149,153,163,174,182,188,192,195,197,201,204,205,203,199,195,189,184,176,169,162,150,138,128,119,110,100,90,80,73,68,64,63,63,66,68,70,71,72,74,80,94,116,141,164,183,198,210,220,228,233,237,241,247,252,256,260,259,258,256,251,245,238,234,227,221,215,208,207,207,203,201,201,199,179,176,171,163,152,137,119,98,77,61,50,45,47,59,71,86,99,109,116,117,115,111,107,102,96,91,90,94,97,97,95,92,87,84,84,83,84,86,86,86,84,82,82,81,81,82,84,87,89,91,92,94,93,93,94,96,100,101,99,97,96,96,97,97,98,99,101,102,106,114,121,127,130,124,105,109,119,127,129,132,129,126,126,126,126,126,125,124,125,130,130,128,126,126,126,126,126,126,126,127,128,129,129,127,128,136,141,143,141,138,131,129,133,134,130,129,134,137,139,138,130,122,118,115,114,113,113,112,112,117,118,117,118,118,117,117,114,112,115,118,124,126,119,121,122,274,285,293,297,298,298,296,293,289,282,275,267,256,249,242,233,225,217,217,215,203,190,185,193,202,202,194,182,170,143,130,120,110,102,93,80,67,57,52,50,49,49,54,72,93,104,114,125,134,140,145,145,141,136,130,124,118,116,114,112,108,105,102,99,95,91,88,85,83,82,80,79,79,83,86,87,88,89,89,88,88,90,92,88,86,86,86,84,82,84,88,90,94,99,104,107,107,105,104,103,95,94,93,93,93,93,93,94,99,109,122,172,169,164,156,147,137,126,115,104,99,99,103,106,111,115,117,118,120,120,120,120,119,119,118,118,117,116,115,115,116,116,115,115,114,112,109,110,111,111,110,109,109,109,108,107,106,105,101,100,99,99,98,97,97]},\"selected\":{\"id\":\"1429\"},\"selection_policy\":{\"id\":\"1430\"}},\"id\":\"1373\",\"type\":\"ColumnDataSource\"},{\"attributes\":{\"line_alpha\":0.1,\"line_color\":\"#1f77b4\",\"x\":{\"field\":\"x\"},\"y\":{\"field\":\"y\"}},\"id\":\"1375\",\"type\":\"Line\"},{\"attributes\":{\"active_multi\":null,\"tools\":[{\"id\":\"1358\"},{\"id\":\"1359\"},{\"id\":\"1360\"},{\"id\":\"1361\"},{\"id\":\"1362\"},{\"id\":\"1363\"}]},\"id\":\"1365\",\"type\":\"Toolbar\"},{\"attributes\":{\"formatter\":{\"id\":\"1415\"},\"major_label_policy\":{\"id\":\"1414\"},\"ticker\":{\"id\":\"1355\"}},\"id\":\"1354\",\"type\":\"LinearAxis\"},{\"attributes\":{},\"id\":\"1363\",\"type\":\"HelpTool\"},{\"attributes\":{\"axis\":{\"id\":\"1350\"},\"ticker\":null},\"id\":\"1353\",\"type\":\"Grid\"},{\"attributes\":{\"bottom_units\":\"screen\",\"fill_alpha\":0.5,\"fill_color\":\"lightgrey\",\"left_units\":\"screen\",\"level\":\"overlay\",\"line_alpha\":1.0,\"line_color\":\"black\",\"line_dash\":[4,4],\"line_width\":2,\"right_units\":\"screen\",\"syncable\":false,\"top_units\":\"screen\"},\"id\":\"1364\",\"type\":\"BoxAnnotation\"},{\"attributes\":{},\"id\":\"1411\",\"type\":\"AllLabels\"},{\"attributes\":{\"num_minor_ticks\":5,\"tickers\":[{\"id\":\"1417\"},{\"id\":\"1418\"},{\"id\":\"1419\"},{\"id\":\"1420\"},{\"id\":\"1421\"},{\"id\":\"1422\"},{\"id\":\"1423\"},{\"id\":\"1424\"},{\"id\":\"1425\"},{\"id\":\"1426\"},{\"id\":\"1427\"},{\"id\":\"1428\"}]},\"id\":\"1351\",\"type\":\"DatetimeTicker\"},{\"attributes\":{},\"id\":\"1361\",\"type\":\"SaveTool\"},{\"attributes\":{\"mantissas\":[1,2,5],\"max_interval\":500.0,\"num_minor_ticks\":0},\"id\":\"1417\",\"type\":\"AdaptiveTicker\"},{\"attributes\":{\"overlay\":{\"id\":\"1364\"}},\"id\":\"1360\",\"type\":\"BoxZoomTool\"},{\"attributes\":{\"base\":60,\"mantissas\":[1,2,5,10,15,20,30],\"max_interval\":1800000.0,\"min_interval\":1000.0,\"num_minor_ticks\":0},\"id\":\"1418\",\"type\":\"AdaptiveTicker\"},{\"attributes\":{},\"id\":\"1344\",\"type\":\"DataRange1d\"},{\"attributes\":{},\"id\":\"1342\",\"type\":\"DataRange1d\"},{\"attributes\":{\"days\":[1,8,15,22]},\"id\":\"1422\",\"type\":\"DaysTicker\"},{\"attributes\":{\"days\":[1,2,3,4,5,6,7,8,9,10,11,12,13,14,15,16,17,18,19,20,21,22,23,24,25,26,27,28,29,30,31]},\"id\":\"1420\",\"type\":\"DaysTicker\"},{\"attributes\":{},\"id\":\"1359\",\"type\":\"WheelZoomTool\"},{\"attributes\":{\"source\":{\"id\":\"1373\"}},\"id\":\"1377\",\"type\":\"CDSView\"},{\"attributes\":{},\"id\":\"1355\",\"type\":\"BasicTicker\"},{\"attributes\":{},\"id\":\"1348\",\"type\":\"LinearScale\"}],\"root_ids\":[\"1339\"]},\"title\":\"Bokeh Application\",\"version\":\"2.3.2\"}};\n",
       "  var render_items = [{\"docid\":\"03948905-bb5d-4e08-879b-6d37c666cc61\",\"root_ids\":[\"1339\"],\"roots\":{\"1339\":\"8a856fe3-774b-46f0-ad21-27be42b80b04\"}}];\n",
       "  root.Bokeh.embed.embed_items_notebook(docs_json, render_items);\n",
       "\n",
       "  }\n",
       "  if (root.Bokeh !== undefined) {\n",
       "    embed_document(root);\n",
       "  } else {\n",
       "    var attempts = 0;\n",
       "    var timer = setInterval(function(root) {\n",
       "      if (root.Bokeh !== undefined) {\n",
       "        clearInterval(timer);\n",
       "        embed_document(root);\n",
       "      } else {\n",
       "        attempts++;\n",
       "        if (attempts > 100) {\n",
       "          clearInterval(timer);\n",
       "          console.log(\"Bokeh: ERROR: Unable to run BokehJS code because BokehJS library is missing\");\n",
       "        }\n",
       "      }\n",
       "    }, 10, root)\n",
       "  }\n",
       "})(window);"
      ],
      "application/vnd.bokehjs_exec.v0+json": ""
     },
     "metadata": {
      "application/vnd.bokehjs_exec.v0+json": {
       "id": "1339"
      }
     },
     "output_type": "display_data"
    }
   ],
   "source": [
    "from bokeh.models import DatetimeTickFormatter\n",
    "from bokeh.sampledata.glucose import data\n",
    "\n",
    "week = data.loc['2010-10-01':'2010-10-08']\n",
    "\n",
    "p = figure(plot_width=600, plot_height=300,\n",
    "           x_axis_type=\"datetime\", \n",
    "           title=\"Glocose Range\")\n",
    "p.xaxis.formatter.days = '%m/%d/%Y'\n",
    "#p.xaxis.formatter=DatetimeTickFormatter(days=\"%m/%d/%Y\")\n",
    "p.xaxis.major_label_orientation = np.pi/3\n",
    "\n",
    "p.line(week.index, week.glucose)\n",
    "\n",
    "show(p)"
   ]
  },
  {
   "cell_type": "markdown",
   "metadata": {},
   "source": [
    "See the reference guide entry for [DatetimeTickFormatter](https://bokeh.pydata.org/en/latest/docs/reference/models/formatters.html#bokeh.models.formatters.DatetimeTickFormatter) to see other properties that can be updated. \n",
    "\n",
    "In addition to the tick formatters that Bokeh will use by default, there are others such as the [`NumeralTickFormatter`](https://bokeh.pydata.org/en/latest/docs/user_guide/styling.html#numeraltickformatter) that we can configure explicitly. The example below shows how to set a formatter on each axis. "
   ]
  },
  {
   "cell_type": "code",
   "execution_count": 9,
   "metadata": {},
   "outputs": [
    {
     "data": {
      "text/html": [
       "\n",
       "\n",
       "\n",
       "\n",
       "\n",
       "\n",
       "  <div class=\"bk-root\" id=\"b02dcf43-bc02-41f5-9a5f-050617f0c086\" data-root-id=\"1542\"></div>\n"
      ]
     },
     "metadata": {},
     "output_type": "display_data"
    },
    {
     "data": {
      "application/javascript": [
       "(function(root) {\n",
       "  function embed_document(root) {\n",
       "    \n",
       "  var docs_json = {\"9aa07eec-79bc-44f3-bf63-dbca4c050bb2\":{\"defs\":[],\"roots\":{\"references\":[{\"attributes\":{\"below\":[{\"id\":\"1551\"}],\"center\":[{\"id\":\"1554\"},{\"id\":\"1558\"}],\"height\":300,\"left\":[{\"id\":\"1555\"}],\"renderers\":[{\"id\":\"1576\"}],\"title\":{\"id\":\"1636\"},\"toolbar\":{\"id\":\"1566\"},\"x_range\":{\"id\":\"1543\"},\"x_scale\":{\"id\":\"1547\"},\"y_range\":{\"id\":\"1545\"},\"y_scale\":{\"id\":\"1549\"}},\"id\":\"1542\",\"subtype\":\"Figure\",\"type\":\"Plot\"},{\"attributes\":{},\"id\":\"1564\",\"type\":\"HelpTool\"},{\"attributes\":{\"formatter\":{\"id\":\"1580\"},\"major_label_policy\":{\"id\":\"1640\"},\"ticker\":{\"id\":\"1556\"}},\"id\":\"1555\",\"type\":\"LinearAxis\"},{\"attributes\":{},\"id\":\"1552\",\"type\":\"BasicTicker\"},{\"attributes\":{\"axis\":{\"id\":\"1551\"},\"ticker\":null},\"id\":\"1554\",\"type\":\"Grid\"},{\"attributes\":{\"axis\":{\"id\":\"1555\"},\"dimension\":1,\"ticker\":null},\"id\":\"1558\",\"type\":\"Grid\"},{\"attributes\":{},\"id\":\"1556\",\"type\":\"BasicTicker\"},{\"attributes\":{\"format\":\"$0.00\"},\"id\":\"1580\",\"type\":\"NumeralTickFormatter\"},{\"attributes\":{},\"id\":\"1560\",\"type\":\"WheelZoomTool\"},{\"attributes\":{\"formatter\":{\"id\":\"1578\"},\"major_label_policy\":{\"id\":\"1638\"},\"ticker\":{\"id\":\"1552\"}},\"id\":\"1551\",\"type\":\"LinearAxis\"},{\"attributes\":{},\"id\":\"1559\",\"type\":\"PanTool\"},{\"attributes\":{\"overlay\":{\"id\":\"1565\"}},\"id\":\"1561\",\"type\":\"BoxZoomTool\"},{\"attributes\":{},\"id\":\"1543\",\"type\":\"DataRange1d\"},{\"attributes\":{},\"id\":\"1562\",\"type\":\"SaveTool\"},{\"attributes\":{},\"id\":\"1563\",\"type\":\"ResetTool\"},{\"attributes\":{\"active_multi\":null,\"tools\":[{\"id\":\"1559\"},{\"id\":\"1560\"},{\"id\":\"1561\"},{\"id\":\"1562\"},{\"id\":\"1563\"},{\"id\":\"1564\"}]},\"id\":\"1566\",\"type\":\"Toolbar\"},{\"attributes\":{},\"id\":\"1640\",\"type\":\"AllLabels\"},{\"attributes\":{\"format\":\"0.0%\"},\"id\":\"1578\",\"type\":\"NumeralTickFormatter\"},{\"attributes\":{},\"id\":\"1638\",\"type\":\"AllLabels\"},{\"attributes\":{\"data\":{\"x\":[1,2,3,4,5],\"y\":[2,5,8,2,7]},\"selected\":{\"id\":\"1642\"},\"selection_policy\":{\"id\":\"1643\"}},\"id\":\"1573\",\"type\":\"ColumnDataSource\"},{\"attributes\":{\"fill_color\":{\"value\":\"#1f77b4\"},\"line_color\":{\"value\":\"#1f77b4\"},\"size\":{\"value\":10},\"x\":{\"field\":\"x\"},\"y\":{\"field\":\"y\"}},\"id\":\"1574\",\"type\":\"Circle\"},{\"attributes\":{},\"id\":\"1547\",\"type\":\"LinearScale\"},{\"attributes\":{\"source\":{\"id\":\"1573\"}},\"id\":\"1577\",\"type\":\"CDSView\"},{\"attributes\":{\"fill_alpha\":{\"value\":0.1},\"fill_color\":{\"value\":\"#1f77b4\"},\"line_alpha\":{\"value\":0.1},\"line_color\":{\"value\":\"#1f77b4\"},\"size\":{\"value\":10},\"x\":{\"field\":\"x\"},\"y\":{\"field\":\"y\"}},\"id\":\"1575\",\"type\":\"Circle\"},{\"attributes\":{\"data_source\":{\"id\":\"1573\"},\"glyph\":{\"id\":\"1574\"},\"hover_glyph\":null,\"muted_glyph\":null,\"nonselection_glyph\":{\"id\":\"1575\"},\"view\":{\"id\":\"1577\"}},\"id\":\"1576\",\"type\":\"GlyphRenderer\"},{\"attributes\":{\"bottom_units\":\"screen\",\"fill_alpha\":0.5,\"fill_color\":\"lightgrey\",\"left_units\":\"screen\",\"level\":\"overlay\",\"line_alpha\":1.0,\"line_color\":\"black\",\"line_dash\":[4,4],\"line_width\":2,\"right_units\":\"screen\",\"syncable\":false,\"top_units\":\"screen\"},\"id\":\"1565\",\"type\":\"BoxAnnotation\"},{\"attributes\":{},\"id\":\"1549\",\"type\":\"LinearScale\"},{\"attributes\":{},\"id\":\"1545\",\"type\":\"DataRange1d\"},{\"attributes\":{},\"id\":\"1642\",\"type\":\"Selection\"},{\"attributes\":{},\"id\":\"1643\",\"type\":\"UnionRenderers\"},{\"attributes\":{},\"id\":\"1636\",\"type\":\"Title\"}],\"root_ids\":[\"1542\"]},\"title\":\"Bokeh Application\",\"version\":\"2.3.2\"}};\n",
       "  var render_items = [{\"docid\":\"9aa07eec-79bc-44f3-bf63-dbca4c050bb2\",\"root_ids\":[\"1542\"],\"roots\":{\"1542\":\"b02dcf43-bc02-41f5-9a5f-050617f0c086\"}}];\n",
       "  root.Bokeh.embed.embed_items_notebook(docs_json, render_items);\n",
       "\n",
       "  }\n",
       "  if (root.Bokeh !== undefined) {\n",
       "    embed_document(root);\n",
       "  } else {\n",
       "    var attempts = 0;\n",
       "    var timer = setInterval(function(root) {\n",
       "      if (root.Bokeh !== undefined) {\n",
       "        clearInterval(timer);\n",
       "        embed_document(root);\n",
       "      } else {\n",
       "        attempts++;\n",
       "        if (attempts > 100) {\n",
       "          clearInterval(timer);\n",
       "          console.log(\"Bokeh: ERROR: Unable to run BokehJS code because BokehJS library is missing\");\n",
       "        }\n",
       "      }\n",
       "    }, 10, root)\n",
       "  }\n",
       "})(window);"
      ],
      "application/vnd.bokehjs_exec.v0+json": ""
     },
     "metadata": {
      "application/vnd.bokehjs_exec.v0+json": {
       "id": "1542"
      }
     },
     "output_type": "display_data"
    }
   ],
   "source": [
    "from bokeh.models import NumeralTickFormatter\n",
    "\n",
    "p = figure(plot_height=300, plot_width=600)\n",
    "p.circle([1,2,3,4,5], [2,5,8,2,7], size=10)\n",
    "\n",
    "p.xaxis.formatter = NumeralTickFormatter(format=\"0.0%\")\n",
    "p.yaxis.formatter = NumeralTickFormatter(format=\"$0.00\")\n",
    "\n",
    "show(p)"
   ]
  },
  {
   "cell_type": "code",
   "execution_count": null,
   "metadata": {},
   "outputs": [],
   "source": []
  },
  {
   "cell_type": "markdown",
   "metadata": {},
   "source": [
    "### Specifying tools"
   ]
  },
  {
   "cell_type": "markdown",
   "metadata": {},
   "source": [
    "### Selection and non-selection glyphs"
   ]
  },
  {
   "cell_type": "code",
   "execution_count": 10,
   "metadata": {},
   "outputs": [
    {
     "data": {
      "text/html": [
       "\n",
       "\n",
       "\n",
       "\n",
       "\n",
       "\n",
       "  <div class=\"bk-root\" id=\"2272adc6-e917-4f77-9d6e-ac0140042112\" data-root-id=\"1690\"></div>\n"
      ]
     },
     "metadata": {},
     "output_type": "display_data"
    },
    {
     "data": {
      "application/javascript": [
       "(function(root) {\n",
       "  function embed_document(root) {\n",
       "    \n",
       "  var docs_json = {\"e1d06ef5-05d2-44df-aae7-e9fb34c610d3\":{\"defs\":[],\"roots\":{\"references\":[{\"attributes\":{\"below\":[{\"id\":\"1699\"}],\"center\":[{\"id\":\"1702\"},{\"id\":\"1706\"}],\"height\":300,\"left\":[{\"id\":\"1703\"}],\"renderers\":[{\"id\":\"1717\"}],\"title\":{\"id\":\"1782\"},\"toolbar\":{\"id\":\"1710\"},\"x_range\":{\"id\":\"1691\"},\"x_scale\":{\"id\":\"1695\"},\"y_range\":{\"id\":\"1693\"},\"y_scale\":{\"id\":\"1697\"}},\"id\":\"1690\",\"subtype\":\"Figure\",\"type\":\"Plot\"},{\"attributes\":{\"bottom_units\":\"screen\",\"fill_alpha\":0.5,\"fill_color\":\"lightgrey\",\"left_units\":\"screen\",\"level\":\"overlay\",\"line_alpha\":1.0,\"line_color\":\"black\",\"line_dash\":[4,4],\"line_width\":2,\"right_units\":\"screen\",\"syncable\":false,\"top_units\":\"screen\"},\"id\":\"1709\",\"type\":\"BoxAnnotation\"},{\"attributes\":{},\"id\":\"1782\",\"type\":\"Title\"},{\"attributes\":{\"axis_label\":\"Time\",\"formatter\":{\"id\":\"1788\"},\"major_label_policy\":{\"id\":\"1787\"},\"ticker\":{\"id\":\"1704\"}},\"id\":\"1703\",\"type\":\"LinearAxis\"},{\"attributes\":{},\"id\":\"1700\",\"type\":\"BasicTicker\"},{\"attributes\":{},\"id\":\"1695\",\"type\":\"LinearScale\"},{\"attributes\":{\"data_source\":{\"id\":\"1105\"},\"glyph\":{\"id\":\"1714\"},\"hover_glyph\":null,\"muted_glyph\":null,\"nonselection_glyph\":{\"id\":\"1715\"},\"selection_glyph\":{\"id\":\"1716\"},\"view\":{\"id\":\"1718\"}},\"id\":\"1717\",\"type\":\"GlyphRenderer\"},{\"attributes\":{\"fill_color\":{\"value\":\"red\"},\"line_color\":{\"value\":\"red\"},\"x\":{\"field\":\"horsepower\"},\"y\":{\"field\":\"mpg\"}},\"id\":\"1716\",\"type\":\"Circle\"},{\"attributes\":{},\"id\":\"1697\",\"type\":\"LinearScale\"},{\"attributes\":{\"source\":{\"id\":\"1105\"}},\"id\":\"1718\",\"type\":\"CDSView\"},{\"attributes\":{\"overlay\":{\"id\":\"1709\"}},\"id\":\"1707\",\"type\":\"BoxSelectTool\"},{\"attributes\":{\"active_multi\":null,\"tools\":[{\"id\":\"1707\"},{\"id\":\"1708\"}]},\"id\":\"1710\",\"type\":\"Toolbar\"},{\"attributes\":{\"fill_alpha\":{\"value\":0.2},\"fill_color\":{\"value\":\"grey\"},\"line_alpha\":{\"value\":0.2},\"line_color\":{\"value\":\"grey\"},\"x\":{\"field\":\"horsepower\"},\"y\":{\"field\":\"mpg\"}},\"id\":\"1715\",\"type\":\"Circle\"},{\"attributes\":{},\"id\":\"1161\",\"type\":\"Selection\"},{\"attributes\":{\"axis_label\":\"Year\",\"formatter\":{\"id\":\"1785\"},\"major_label_policy\":{\"id\":\"1784\"},\"ticker\":{\"id\":\"1700\"}},\"id\":\"1699\",\"type\":\"LinearAxis\"},{\"attributes\":{},\"id\":\"1787\",\"type\":\"AllLabels\"},{\"attributes\":{},\"id\":\"1162\",\"type\":\"UnionRenderers\"},{\"attributes\":{},\"id\":\"1691\",\"type\":\"DataRange1d\"},{\"attributes\":{},\"id\":\"1693\",\"type\":\"DataRange1d\"},{\"attributes\":{},\"id\":\"1788\",\"type\":\"BasicTickFormatter\"},{\"attributes\":{\"axis\":{\"id\":\"1703\"},\"dimension\":1,\"ticker\":null},\"id\":\"1706\",\"type\":\"Grid\"},{\"attributes\":{},\"id\":\"1704\",\"type\":\"BasicTicker\"},{\"attributes\":{\"fill_color\":{\"value\":\"#1f77b4\"},\"line_color\":{\"value\":\"#1f77b4\"},\"x\":{\"field\":\"horsepower\"},\"y\":{\"field\":\"mpg\"}},\"id\":\"1714\",\"type\":\"Circle\"},{\"attributes\":{},\"id\":\"1785\",\"type\":\"BasicTickFormatter\"},{\"attributes\":{\"axis\":{\"id\":\"1699\"},\"ticker\":null},\"id\":\"1702\",\"type\":\"Grid\"},{\"attributes\":{},\"id\":\"1784\",\"type\":\"AllLabels\"},{\"attributes\":{},\"id\":\"1708\",\"type\":\"WheelZoomTool\"},{\"attributes\":{\"data\":{\"acceleration\":{\"__ndarray__\":\"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\",\"dtype\":\"float64\",\"order\":\"little\",\"shape\":[398]},\"cylinders\":[8,8,8,8,8,8,8,8,8,8,8,8,8,8,4,6,6,6,4,4,4,4,4,4,6,8,8,8,8,4,4,4,4,6,6,6,6,6,8,8,8,8,8,8,8,6,4,6,6,4,4,4,4,4,4,4,4,4,4,4,4,4,8,8,8,8,8,8,8,8,8,3,8,8,8,8,4,4,4,4,4,4,4,4,4,8,8,8,8,8,8,8,8,8,8,8,8,6,6,6,6,6,4,8,8,8,8,6,4,4,4,3,4,6,4,8,8,4,4,4,4,8,4,6,8,6,6,6,6,4,4,4,4,6,6,6,8,8,8,8,8,4,4,4,4,4,4,4,4,4,4,4,6,6,6,6,8,8,8,8,6,6,6,6,6,8,8,4,4,6,4,4,4,4,6,4,6,4,4,4,4,4,4,4,4,4,4,8,8,8,8,6,6,6,6,4,4,4,4,6,6,6,6,4,4,4,4,4,8,4,6,6,8,8,8,8,4,4,4,4,4,8,8,8,8,6,6,6,6,8,8,8,8,4,4,4,4,4,4,4,4,6,4,3,4,4,4,4,4,8,8,8,6,6,6,4,6,6,6,6,6,6,8,6,8,8,4,4,4,4,4,4,4,4,5,6,4,6,4,4,6,6,4,6,6,8,8,8,8,8,8,8,8,4,4,4,4,5,8,4,8,4,4,4,4,4,6,6,4,4,4,4,4,4,4,4,6,4,4,4,4,4,4,4,4,4,4,5,4,4,4,4,4,6,3,4,4,4,4,4,4,6,4,4,4,4,4,4,4,4,4,4,4,4,4,4,4,4,4,4,6,6,6,6,8,6,6,4,4,4,4,4,4,4,4,4,4,4,4,4,4,4,4,4,4,4,6,6,4,6,4,4,4,4,4,4,4,4],\"displacement\":{\"__ndarray__\":\"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\",\"dtype\":\"float64\",\"order\":\"little\",\"shape\":[398]},\"horsepower\":{\"__ndarray__\":\"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\",\"dtype\":\"float64\",\"order\":\"little\",\"shape\":[398]},\"index\":[0,1,2,3,4,5,6,7,8,9,10,11,12,13,14,15,16,17,18,19,20,21,22,23,24,25,26,27,28,29,30,31,32,33,34,35,36,37,38,39,40,41,42,43,44,45,46,47,48,49,50,51,52,53,54,55,56,57,58,59,60,61,62,63,64,65,66,67,68,69,70,71,72,73,74,75,76,77,78,79,80,81,82,83,84,85,86,87,88,89,90,91,92,93,94,95,96,97,98,99,100,101,102,103,104,105,106,107,108,109,110,111,112,113,114,115,116,117,118,119,120,121,122,123,124,125,126,127,128,129,130,131,132,133,134,135,136,137,138,139,140,141,142,143,144,145,146,147,148,149,150,151,152,153,154,155,156,157,158,159,160,161,162,163,164,165,166,167,168,169,170,171,172,173,174,175,176,177,178,179,180,181,182,183,184,185,186,187,188,189,190,191,192,193,194,195,196,197,198,199,200,201,202,203,204,205,206,207,208,209,210,211,212,213,214,215,216,217,218,219,220,221,222,223,224,225,226,227,228,229,230,231,232,233,234,235,236,237,238,239,240,241,242,243,244,245,246,247,248,249,250,251,252,253,254,255,256,257,258,259,260,261,262,263,264,265,266,267,268,269,270,271,272,273,274,275,276,277,278,279,280,281,282,283,284,285,286,287,288,289,290,291,292,293,294,295,296,297,298,299,300,301,302,303,304,305,306,307,308,309,310,311,312,313,314,315,316,317,318,319,320,321,322,323,324,325,326,327,328,329,330,331,332,333,334,335,336,337,338,339,340,341,342,343,344,345,346,347,348,349,350,351,352,353,354,355,356,357,358,359,360,361,362,363,364,365,366,367,368,369,370,371,372,373,374,375,376,377,378,379,380,381,382,383,384,385,386,387,388,389,390,391,392,393,394,395,396,397],\"model_year\":[70,70,70,70,70,70,70,70,70,70,70,70,70,70,70,70,70,70,70,70,70,70,70,70,70,70,70,70,70,71,71,71,71,71,71,71,71,71,71,71,71,71,71,71,71,71,71,71,71,71,71,71,71,71,71,71,71,72,72,72,72,72,72,72,72,72,72,72,72,72,72,72,72,72,72,72,72,72,72,72,72,72,72,72,72,73,73,73,73,73,73,73,73,73,73,73,73,73,73,73,73,73,73,73,73,73,73,73,73,73,73,73,73,73,73,73,73,73,73,73,73,73,73,73,73,74,74,74,74,74,74,74,74,74,74,74,74,74,74,74,74,74,74,74,74,74,74,74,74,74,74,74,75,75,75,75,75,75,75,75,75,75,75,75,75,75,75,75,75,75,75,75,75,75,75,75,75,75,75,75,75,75,76,76,76,76,76,76,76,76,76,76,76,76,76,76,76,76,76,76,76,76,76,76,76,76,76,76,76,76,76,76,76,76,76,76,77,77,77,77,77,77,77,77,77,77,77,77,77,77,77,77,77,77,77,77,77,77,77,77,77,77,77,77,78,78,78,78,78,78,78,78,78,78,78,78,78,78,78,78,78,78,78,78,78,78,78,78,78,78,78,78,78,78,78,78,78,78,78,78,79,79,79,79,79,79,79,79,79,79,79,79,79,79,79,79,79,79,79,79,79,79,79,79,79,79,79,79,79,80,80,80,80,80,80,80,80,80,80,80,80,80,80,80,80,80,80,80,80,80,80,80,80,80,80,80,80,80,81,81,81,81,81,81,81,81,81,81,81,81,81,81,81,81,81,81,81,81,81,81,81,81,81,81,81,81,81,82,82,82,82,82,82,82,82,82,82,82,82,82,82,82,82,82,82,82,82,82,82,82,82,82,82,82,82,82,82,82],\"mpg\":{\"__ndarray__\":\"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\",\"dtype\":\"float64\",\"order\":\"little\",\"shape\":[398]},\"name\":[\"chevrolet chevelle malibu\",\"buick skylark 320\",\"plymouth satellite\",\"amc rebel sst\",\"ford torino\",\"ford galaxie 500\",\"chevrolet impala\",\"plymouth fury iii\",\"pontiac catalina\",\"amc ambassador dpl\",\"dodge challenger se\",\"plymouth 'cuda 340\",\"chevrolet monte carlo\",\"buick estate wagon (sw)\",\"toyota corona mark ii\",\"plymouth duster\",\"amc hornet\",\"ford maverick\",\"datsun pl510\",\"volkswagen 1131 deluxe sedan\",\"peugeot 504\",\"audi 100 ls\",\"saab 99e\",\"bmw 2002\",\"amc gremlin\",\"ford f250\",\"chevy c20\",\"dodge d200\",\"hi 1200d\",\"datsun pl510\",\"chevrolet vega 2300\",\"toyota corona\",\"ford pinto\",\"amc gremlin\",\"plymouth satellite custom\",\"chevrolet chevelle malibu\",\"ford torino 500\",\"amc matador\",\"chevrolet impala\",\"pontiac catalina brougham\",\"ford galaxie 500\",\"plymouth fury iii\",\"dodge monaco (sw)\",\"ford country squire (sw)\",\"pontiac safari (sw)\",\"amc hornet sportabout (sw)\",\"chevrolet vega (sw)\",\"pontiac firebird\",\"ford mustang\",\"mercury capri 2000\",\"opel 1900\",\"peugeot 304\",\"fiat 124b\",\"toyota corolla 1200\",\"datsun 1200\",\"volkswagen model 111\",\"plymouth cricket\",\"toyota corona hardtop\",\"dodge colt hardtop\",\"volkswagen type 3\",\"chevrolet vega\",\"ford pinto runabout\",\"chevrolet impala\",\"pontiac catalina\",\"plymouth fury iii\",\"ford galaxie 500\",\"amc ambassador sst\",\"mercury marquis\",\"buick lesabre custom\",\"oldsmobile delta 88 royale\",\"chrysler newport royal\",\"mazda rx2 coupe\",\"amc matador (sw)\",\"chevrolet chevelle concours (sw)\",\"ford gran torino (sw)\",\"plymouth satellite custom (sw)\",\"volvo 145e (sw)\",\"volkswagen 411 (sw)\",\"peugeot 504 (sw)\",\"renault 12 (sw)\",\"ford pinto (sw)\",\"datsun 510 (sw)\",\"toyouta corona mark ii (sw)\",\"dodge colt (sw)\",\"toyota corolla 1600 (sw)\",\"buick century 350\",\"amc matador\",\"chevrolet malibu\",\"ford gran torino\",\"dodge coronet custom\",\"mercury marquis brougham\",\"chevrolet caprice classic\",\"ford ltd\",\"plymouth fury gran sedan\",\"chrysler new yorker brougham\",\"buick electra 225 custom\",\"amc ambassador brougham\",\"plymouth valiant\",\"chevrolet nova custom\",\"amc hornet\",\"ford maverick\",\"plymouth duster\",\"volkswagen super beetle\",\"chevrolet impala\",\"ford country\",\"plymouth custom suburb\",\"oldsmobile vista cruiser\",\"amc gremlin\",\"toyota carina\",\"chevrolet vega\",\"datsun 610\",\"maxda rx3\",\"ford pinto\",\"mercury capri v6\",\"fiat 124 sport coupe\",\"chevrolet monte carlo s\",\"pontiac grand prix\",\"fiat 128\",\"opel manta\",\"audi 100ls\",\"volvo 144ea\",\"dodge dart custom\",\"saab 99le\",\"toyota mark ii\",\"oldsmobile omega\",\"plymouth duster\",\"ford maverick\",\"amc hornet\",\"chevrolet nova\",\"datsun b210\",\"ford pinto\",\"toyota corolla 1200\",\"chevrolet vega\",\"chevrolet chevelle malibu classic\",\"amc matador\",\"plymouth satellite sebring\",\"ford gran torino\",\"buick century luxus (sw)\",\"dodge coronet custom (sw)\",\"ford gran torino (sw)\",\"amc matador (sw)\",\"audi fox\",\"volkswagen dasher\",\"opel manta\",\"toyota corona\",\"datsun 710\",\"dodge colt\",\"fiat 128\",\"fiat 124 tc\",\"honda civic\",\"subaru\",\"fiat x1.9\",\"plymouth valiant custom\",\"chevrolet nova\",\"mercury monarch\",\"ford maverick\",\"pontiac catalina\",\"chevrolet bel air\",\"plymouth grand fury\",\"ford ltd\",\"buick century\",\"chevroelt chevelle malibu\",\"amc matador\",\"plymouth fury\",\"buick skyhawk\",\"chevrolet monza 2+2\",\"ford mustang ii\",\"toyota corolla\",\"ford pinto\",\"amc gremlin\",\"pontiac astro\",\"toyota corona\",\"volkswagen dasher\",\"datsun 710\",\"ford pinto\",\"volkswagen rabbit\",\"amc pacer\",\"audi 100ls\",\"peugeot 504\",\"volvo 244dl\",\"saab 99le\",\"honda civic cvcc\",\"fiat 131\",\"opel 1900\",\"capri ii\",\"dodge colt\",\"renault 12tl\",\"chevrolet chevelle malibu classic\",\"dodge coronet brougham\",\"amc matador\",\"ford gran torino\",\"plymouth valiant\",\"chevrolet nova\",\"ford maverick\",\"amc hornet\",\"chevrolet chevette\",\"chevrolet woody\",\"vw rabbit\",\"honda civic\",\"dodge aspen se\",\"ford granada ghia\",\"pontiac ventura sj\",\"amc pacer d/l\",\"volkswagen rabbit\",\"datsun b-210\",\"toyota corolla\",\"ford pinto\",\"volvo 245\",\"plymouth volare premier v8\",\"peugeot 504\",\"toyota mark ii\",\"mercedes-benz 280s\",\"cadillac seville\",\"chevy c10\",\"ford f108\",\"dodge d100\",\"honda accord cvcc\",\"buick opel isuzu deluxe\",\"renault 5 gtl\",\"plymouth arrow gs\",\"datsun f-10 hatchback\",\"chevrolet caprice classic\",\"oldsmobile cutlass supreme\",\"dodge monaco brougham\",\"mercury cougar brougham\",\"chevrolet concours\",\"buick skylark\",\"plymouth volare custom\",\"ford granada\",\"pontiac grand prix lj\",\"chevrolet monte carlo landau\",\"chrysler cordoba\",\"ford thunderbird\",\"volkswagen rabbit custom\",\"pontiac sunbird coupe\",\"toyota corolla liftback\",\"ford mustang ii 2+2\",\"chevrolet chevette\",\"dodge colt m/m\",\"subaru dl\",\"volkswagen dasher\",\"datsun 810\",\"bmw 320i\",\"mazda rx-4\",\"volkswagen rabbit custom diesel\",\"ford fiesta\",\"mazda glc deluxe\",\"datsun b210 gx\",\"honda civic cvcc\",\"oldsmobile cutlass salon brougham\",\"dodge diplomat\",\"mercury monarch ghia\",\"pontiac phoenix lj\",\"chevrolet malibu\",\"ford fairmont (auto)\",\"ford fairmont (man)\",\"plymouth volare\",\"amc concord\",\"buick century special\",\"mercury zephyr\",\"dodge aspen\",\"amc concord d/l\",\"chevrolet monte carlo landau\",\"buick regal sport coupe (turbo)\",\"ford futura\",\"dodge magnum xe\",\"chevrolet chevette\",\"toyota corona\",\"datsun 510\",\"dodge omni\",\"toyota celica gt liftback\",\"plymouth sapporo\",\"oldsmobile starfire sx\",\"datsun 200-sx\",\"audi 5000\",\"volvo 264gl\",\"saab 99gle\",\"peugeot 604sl\",\"volkswagen scirocco\",\"honda accord lx\",\"pontiac lemans v6\",\"mercury zephyr 6\",\"ford fairmont 4\",\"amc concord dl 6\",\"dodge aspen 6\",\"chevrolet caprice classic\",\"ford ltd landau\",\"mercury grand marquis\",\"dodge st. regis\",\"buick estate wagon (sw)\",\"ford country squire (sw)\",\"chevrolet malibu classic (sw)\",\"chrysler lebaron town @ country (sw)\",\"vw rabbit custom\",\"maxda glc deluxe\",\"dodge colt hatchback custom\",\"amc spirit dl\",\"mercedes benz 300d\",\"cadillac eldorado\",\"peugeot 504\",\"oldsmobile cutlass salon brougham\",\"plymouth horizon\",\"plymouth horizon tc3\",\"datsun 210\",\"fiat strada custom\",\"buick skylark limited\",\"chevrolet citation\",\"oldsmobile omega brougham\",\"pontiac phoenix\",\"vw rabbit\",\"toyota corolla tercel\",\"chevrolet chevette\",\"datsun 310\",\"chevrolet citation\",\"ford fairmont\",\"amc concord\",\"dodge aspen\",\"audi 4000\",\"toyota corona liftback\",\"mazda 626\",\"datsun 510 hatchback\",\"toyota corolla\",\"mazda glc\",\"dodge colt\",\"datsun 210\",\"vw rabbit c (diesel)\",\"vw dasher (diesel)\",\"audi 5000s (diesel)\",\"mercedes-benz 240d\",\"honda civic 1500 gl\",\"renault lecar deluxe\",\"subaru dl\",\"vokswagen rabbit\",\"datsun 280-zx\",\"mazda rx-7 gs\",\"triumph tr7 coupe\",\"ford mustang cobra\",\"honda accord\",\"plymouth reliant\",\"buick skylark\",\"dodge aries wagon (sw)\",\"chevrolet citation\",\"plymouth reliant\",\"toyota starlet\",\"plymouth champ\",\"honda civic 1300\",\"subaru\",\"datsun 210 mpg\",\"toyota tercel\",\"mazda glc 4\",\"plymouth horizon 4\",\"ford escort 4w\",\"ford escort 2h\",\"volkswagen jetta\",\"renault 18i\",\"honda prelude\",\"toyota corolla\",\"datsun 200sx\",\"mazda 626\",\"peugeot 505s turbo diesel\",\"volvo diesel\",\"toyota cressida\",\"datsun 810 maxima\",\"buick century\",\"oldsmobile cutlass ls\",\"ford granada gl\",\"chrysler lebaron salon\",\"chevrolet cavalier\",\"chevrolet cavalier wagon\",\"chevrolet cavalier 2-door\",\"pontiac j2000 se hatchback\",\"dodge aries se\",\"pontiac phoenix\",\"ford fairmont futura\",\"amc concord dl\",\"volkswagen rabbit l\",\"mazda glc custom l\",\"mazda glc custom\",\"plymouth horizon miser\",\"mercury lynx l\",\"nissan stanza xe\",\"honda accord\",\"toyota corolla\",\"honda civic\",\"honda civic (auto)\",\"datsun 310 gx\",\"buick century limited\",\"oldsmobile cutlass ciera (diesel)\",\"chrysler lebaron medallion\",\"ford granada l\",\"toyota celica gt\",\"dodge charger 2.2\",\"chevrolet camaro\",\"ford mustang gl\",\"vw pickup\",\"dodge rampage\",\"ford ranger\",\"chevy s-10\"],\"origin\":[\"usa\",\"usa\",\"usa\",\"usa\",\"usa\",\"usa\",\"usa\",\"usa\",\"usa\",\"usa\",\"usa\",\"usa\",\"usa\",\"usa\",\"japan\",\"usa\",\"usa\",\"usa\",\"japan\",\"europe\",\"europe\",\"europe\",\"europe\",\"europe\",\"usa\",\"usa\",\"usa\",\"usa\",\"usa\",\"japan\",\"usa\",\"japan\",\"usa\",\"usa\",\"usa\",\"usa\",\"usa\",\"usa\",\"usa\",\"usa\",\"usa\",\"usa\",\"usa\",\"usa\",\"usa\",\"usa\",\"usa\",\"usa\",\"usa\",\"usa\",\"europe\",\"europe\",\"europe\",\"japan\",\"japan\",\"europe\",\"usa\",\"japan\",\"usa\",\"europe\",\"usa\",\"usa\",\"usa\",\"usa\",\"usa\",\"usa\",\"usa\",\"usa\",\"usa\",\"usa\",\"usa\",\"japan\",\"usa\",\"usa\",\"usa\",\"usa\",\"europe\",\"europe\",\"europe\",\"europe\",\"usa\",\"japan\",\"japan\",\"usa\",\"japan\",\"usa\",\"usa\",\"usa\",\"usa\",\"usa\",\"usa\",\"usa\",\"usa\",\"usa\",\"usa\",\"usa\",\"usa\",\"usa\",\"usa\",\"usa\",\"usa\",\"usa\",\"europe\",\"usa\",\"usa\",\"usa\",\"usa\",\"usa\",\"japan\",\"usa\",\"japan\",\"japan\",\"usa\",\"usa\",\"europe\",\"usa\",\"usa\",\"europe\",\"europe\",\"europe\",\"europe\",\"usa\",\"europe\",\"japan\",\"usa\",\"usa\",\"usa\",\"usa\",\"usa\",\"japan\",\"usa\",\"japan\",\"usa\",\"usa\",\"usa\",\"usa\",\"usa\",\"usa\",\"usa\",\"usa\",\"usa\",\"europe\",\"europe\",\"europe\",\"japan\",\"japan\",\"usa\",\"europe\",\"europe\",\"japan\",\"japan\",\"europe\",\"usa\",\"usa\",\"usa\",\"usa\",\"usa\",\"usa\",\"usa\",\"usa\",\"usa\",\"usa\",\"usa\",\"usa\",\"usa\",\"usa\",\"usa\",\"japan\",\"usa\",\"usa\",\"usa\",\"japan\",\"europe\",\"japan\",\"usa\",\"europe\",\"usa\",\"europe\",\"europe\",\"europe\",\"europe\",\"japan\",\"europe\",\"europe\",\"usa\",\"usa\",\"europe\",\"usa\",\"usa\",\"usa\",\"usa\",\"usa\",\"usa\",\"usa\",\"usa\",\"usa\",\"usa\",\"europe\",\"japan\",\"usa\",\"usa\",\"usa\",\"usa\",\"europe\",\"japan\",\"japan\",\"usa\",\"europe\",\"usa\",\"europe\",\"japan\",\"europe\",\"usa\",\"usa\",\"usa\",\"usa\",\"japan\",\"usa\",\"europe\",\"usa\",\"japan\",\"usa\",\"usa\",\"usa\",\"usa\",\"usa\",\"usa\",\"usa\",\"usa\",\"usa\",\"usa\",\"usa\",\"usa\",\"europe\",\"usa\",\"japan\",\"usa\",\"usa\",\"usa\",\"japan\",\"europe\",\"japan\",\"europe\",\"japan\",\"europe\",\"usa\",\"japan\",\"japan\",\"japan\",\"usa\",\"usa\",\"usa\",\"usa\",\"usa\",\"usa\",\"usa\",\"usa\",\"usa\",\"usa\",\"usa\",\"usa\",\"usa\",\"usa\",\"usa\",\"usa\",\"usa\",\"usa\",\"japan\",\"japan\",\"usa\",\"japan\",\"usa\",\"usa\",\"japan\",\"europe\",\"europe\",\"europe\",\"europe\",\"europe\",\"japan\",\"usa\",\"usa\",\"usa\",\"usa\",\"usa\",\"usa\",\"usa\",\"usa\",\"usa\",\"usa\",\"usa\",\"usa\",\"usa\",\"europe\",\"japan\",\"usa\",\"usa\",\"europe\",\"usa\",\"europe\",\"usa\",\"usa\",\"usa\",\"japan\",\"europe\",\"usa\",\"usa\",\"usa\",\"usa\",\"europe\",\"japan\",\"usa\",\"japan\",\"usa\",\"usa\",\"usa\",\"usa\",\"europe\",\"japan\",\"japan\",\"japan\",\"japan\",\"japan\",\"usa\",\"japan\",\"europe\",\"europe\",\"europe\",\"europe\",\"japan\",\"europe\",\"japan\",\"europe\",\"japan\",\"japan\",\"europe\",\"usa\",\"japan\",\"usa\",\"usa\",\"usa\",\"usa\",\"usa\",\"japan\",\"usa\",\"japan\",\"japan\",\"japan\",\"japan\",\"japan\",\"usa\",\"usa\",\"usa\",\"europe\",\"europe\",\"japan\",\"japan\",\"japan\",\"japan\",\"europe\",\"europe\",\"japan\",\"japan\",\"usa\",\"usa\",\"usa\",\"usa\",\"usa\",\"usa\",\"usa\",\"usa\",\"usa\",\"usa\",\"usa\",\"usa\",\"europe\",\"japan\",\"japan\",\"usa\",\"usa\",\"japan\",\"japan\",\"japan\",\"japan\",\"japan\",\"japan\",\"usa\",\"usa\",\"usa\",\"usa\",\"japan\",\"usa\",\"usa\",\"usa\",\"europe\",\"usa\",\"usa\",\"usa\"],\"weight\":[3504,3693,3436,3433,3449,4341,4354,4312,4425,3850,3563,3609,3761,3086,2372,2833,2774,2587,2130,1835,2672,2430,2375,2234,2648,4615,4376,4382,4732,2130,2264,2228,2046,2634,3439,3329,3302,3288,4209,4464,4154,4096,4955,4746,5140,2962,2408,3282,3139,2220,2123,2074,2065,1773,1613,1834,1955,2278,2126,2254,2408,2226,4274,4385,4135,4129,3672,4633,4502,4456,4422,2330,3892,4098,4294,4077,2933,2511,2979,2189,2395,2288,2506,2164,2100,4100,3672,3988,4042,3777,4952,4464,4363,4237,4735,4951,3821,3121,3278,2945,3021,2904,1950,4997,4906,4654,4499,2789,2279,2401,2379,2124,2310,2472,2265,4082,4278,1867,2158,2582,2868,3399,2660,2807,3664,3102,2875,2901,3336,1950,2451,1836,2542,3781,3632,3613,4141,4699,4457,4638,4257,2219,1963,2300,1649,2003,2125,2108,2246,2489,2391,2000,3264,3459,3432,3158,4668,4440,4498,4657,3907,3897,3730,3785,3039,3221,3169,2171,2639,2914,2592,2702,2223,2545,2984,1937,3211,2694,2957,2945,2671,1795,2464,2220,2572,2255,2202,4215,4190,3962,4215,3233,3353,3012,3085,2035,2164,1937,1795,3651,3574,3645,3193,1825,1990,2155,2565,3150,3940,3270,2930,3820,4380,4055,3870,3755,2045,2155,1825,2300,1945,3880,4060,4140,4295,3520,3425,3630,3525,4220,4165,4325,4335,1940,2740,2265,2755,2051,2075,1985,2190,2815,2600,2720,1985,1800,1985,2070,1800,3365,3735,3570,3535,3155,2965,2720,3430,3210,3380,3070,3620,3410,3425,3445,3205,4080,2155,2560,2300,2230,2515,2745,2855,2405,2830,3140,2795,3410,1990,2135,3245,2990,2890,3265,3360,3840,3725,3955,3830,4360,4054,3605,3940,1925,1975,1915,2670,3530,3900,3190,3420,2200,2150,2020,2130,2670,2595,2700,2556,2144,1968,2120,2019,2678,2870,3003,3381,2188,2711,2542,2434,2265,2110,2800,2110,2085,2335,2950,3250,1850,1835,2145,1845,2910,2420,2500,2905,2290,2490,2635,2620,2725,2385,1755,1875,1760,2065,1975,2050,1985,2215,2045,2380,2190,2320,2210,2350,2615,2635,3230,3160,2900,2930,3415,3725,3060,3465,2605,2640,2395,2575,2525,2735,2865,3035,1980,2025,1970,2125,2125,2160,2205,2245,1965,1965,1995,2945,3015,2585,2835,2665,2370,2950,2790,2130,2295,2625,2720]},\"selected\":{\"id\":\"1161\"},\"selection_policy\":{\"id\":\"1162\"}},\"id\":\"1105\",\"type\":\"ColumnDataSource\"}],\"root_ids\":[\"1690\"]},\"title\":\"Bokeh Application\",\"version\":\"2.3.2\"}};\n",
       "  var render_items = [{\"docid\":\"e1d06ef5-05d2-44df-aae7-e9fb34c610d3\",\"root_ids\":[\"1690\"],\"roots\":{\"1690\":\"2272adc6-e917-4f77-9d6e-ac0140042112\"}}];\n",
       "  root.Bokeh.embed.embed_items_notebook(docs_json, render_items);\n",
       "\n",
       "  }\n",
       "  if (root.Bokeh !== undefined) {\n",
       "    embed_document(root);\n",
       "  } else {\n",
       "    var attempts = 0;\n",
       "    var timer = setInterval(function(root) {\n",
       "      if (root.Bokeh !== undefined) {\n",
       "        clearInterval(timer);\n",
       "        embed_document(root);\n",
       "      } else {\n",
       "        attempts++;\n",
       "        if (attempts > 100) {\n",
       "          clearInterval(timer);\n",
       "          console.log(\"Bokeh: ERROR: Unable to run BokehJS code because BokehJS library is missing\");\n",
       "        }\n",
       "      }\n",
       "    }, 10, root)\n",
       "  }\n",
       "})(window);"
      ],
      "application/vnd.bokehjs_exec.v0+json": ""
     },
     "metadata": {
      "application/vnd.bokehjs_exec.v0+json": {
       "id": "1690"
      }
     },
     "output_type": "display_data"
    }
   ],
   "source": [
    "p = figure(plot_width=600, plot_height=300,\n",
    "            x_axis_label=\"Year\", \n",
    "            y_axis_label=\"Time\", \n",
    "            tools=\"box_select, wheel_zoom\")\n",
    "\n",
    "# Add circle glyphs to the figure p with the selected and non-selected properties\n",
    "p.circle(x=\"horsepower\", y=\"mpg\", source=source, \n",
    "         selection_color=\"red\",\n",
    "         nonselection_color=\"grey\",\n",
    "         nonselection_alpha=0.2)\n",
    "show(p)"
   ]
  },
  {
   "cell_type": "markdown",
   "metadata": {},
   "source": [
    "### Axis properties\n",
    "Axes objects have many configurable properties that afford control over most visual aspects of an axis. These can be grouped by function according to prefix:\n",
    "\n",
    "* **axis**  [line properties](https://bokeh.pydata.org/en/latest/docs/user_guide/styling.html#line-properties) e.g `axis_line_width`\n",
    "\n",
    "* **axis_label** [text properties](https://bokeh.pydata.org/en/latest/docs/user_guide/styling.html#text-properties)  e.g. `axis_label_text_color`, as well as ``axis_label_standoff``\n",
    "\n",
    "* **major_label** [text properties](https://bokeh.pydata.org/en/latest/docs/user_guide/styling.html#text-properties) e.g. `major_label_text_font_size`, as well as ``major_label_orientation``\n",
    "\n",
    "* **major_tick** [line_properties](https://bokeh.pydata.org/en/latest/docs/user_guide/styling.html#line-properties) e.g. `major_tick_line_dash`, as well as  ``major_tick_in`` and ``major_tick_out``\n",
    "\n",
    "* **minor_tick** [line properties](https://bokeh.pydata.org/en/latest/docs/user_guide/styling.html#line-properties) e.g. `minor_tick_line_width`, as well as ``minor_tick_in`` and ``minor_tick_out``\n",
    "\n",
    "As a simple first case, let's change the orientation of the major tick labels on both axes of a plot:"
   ]
  },
  {
   "cell_type": "code",
   "execution_count": 11,
   "metadata": {},
   "outputs": [
    {
     "data": {
      "text/html": [
       "\n",
       "\n",
       "\n",
       "\n",
       "\n",
       "\n",
       "  <div class=\"bk-root\" id=\"129510ff-e5d3-4b20-a451-49604b3e43c6\" data-root-id=\"1848\"></div>\n"
      ]
     },
     "metadata": {},
     "output_type": "display_data"
    },
    {
     "data": {
      "application/javascript": [
       "(function(root) {\n",
       "  function embed_document(root) {\n",
       "    \n",
       "  var docs_json = {\"bcd0efd8-5725-4f35-adfb-3c36ee5b1f20\":{\"defs\":[],\"roots\":{\"references\":[{\"attributes\":{\"below\":[{\"id\":\"1857\"}],\"center\":[{\"id\":\"1860\"},{\"id\":\"1864\"}],\"height\":300,\"left\":[{\"id\":\"1861\"}],\"renderers\":[{\"id\":\"1882\"}],\"title\":{\"id\":\"1958\"},\"toolbar\":{\"id\":\"1872\"},\"x_range\":{\"id\":\"1849\"},\"x_scale\":{\"id\":\"1853\"},\"y_range\":{\"id\":\"1851\"},\"y_scale\":{\"id\":\"1855\"}},\"id\":\"1848\",\"subtype\":\"Figure\",\"type\":\"Plot\"},{\"attributes\":{\"line_alpha\":0.1,\"line_color\":\"Red\",\"x\":{\"field\":\"x\"},\"y\":{\"field\":\"y\"}},\"id\":\"1881\",\"type\":\"Line\"},{\"attributes\":{\"line_color\":\"Red\",\"x\":{\"field\":\"x\"},\"y\":{\"field\":\"y\"}},\"id\":\"1880\",\"type\":\"Line\"},{\"attributes\":{\"source\":{\"id\":\"1879\"}},\"id\":\"1883\",\"type\":\"CDSView\"},{\"attributes\":{},\"id\":\"1958\",\"type\":\"Title\"},{\"attributes\":{\"bottom_units\":\"screen\",\"fill_alpha\":0.5,\"fill_color\":\"lightgrey\",\"left_units\":\"screen\",\"level\":\"overlay\",\"line_alpha\":1.0,\"line_color\":\"black\",\"line_dash\":[4,4],\"line_width\":2,\"right_units\":\"screen\",\"syncable\":false,\"top_units\":\"screen\"},\"id\":\"1871\",\"type\":\"BoxAnnotation\"},{\"attributes\":{},\"id\":\"1960\",\"type\":\"AllLabels\"},{\"attributes\":{},\"id\":\"1961\",\"type\":\"BasicTickFormatter\"},{\"attributes\":{\"axis_label\":\"Time\",\"axis_line_color\":\"blue\",\"axis_line_width\":3,\"formatter\":{\"id\":\"1961\"},\"major_label_orientation\":0.7853981633974483,\"major_label_policy\":{\"id\":\"1960\"},\"minor_tick_in\":-3,\"minor_tick_out\":6,\"ticker\":{\"id\":\"1858\"}},\"id\":\"1857\",\"type\":\"LinearAxis\"},{\"attributes\":{\"axis\":{\"id\":\"1861\"},\"dimension\":1,\"ticker\":null},\"id\":\"1864\",\"type\":\"Grid\"},{\"attributes\":{},\"id\":\"1865\",\"type\":\"PanTool\"},{\"attributes\":{},\"id\":\"1855\",\"type\":\"LinearScale\"},{\"attributes\":{\"active_multi\":null,\"tools\":[{\"id\":\"1865\"},{\"id\":\"1866\"},{\"id\":\"1867\"},{\"id\":\"1868\"},{\"id\":\"1869\"},{\"id\":\"1870\"}]},\"id\":\"1872\",\"type\":\"Toolbar\"},{\"attributes\":{},\"id\":\"1858\",\"type\":\"BasicTicker\"},{\"attributes\":{},\"id\":\"1966\",\"type\":\"Selection\"},{\"attributes\":{\"data\":{\"x\":{\"__ndarray__\":\"AAAAAAAAAAD8qfHSTWJQP/yp8dJNYmA/+n5qvHSTaD/8qfHSTWJwP3sUrkfhenQ/+n5qvHSTeD956SYxCKx8P/yp8dJNYoA/PN9PjZdugj97FK5H4XqEP7pJDAIrh4Y/+n5qvHSTiD86tMh2vp+KP3npJjEIrIw/uB6F61G4jj/8qfHSTWKQP5zEILByaJE/PN9PjZdukj/b+X5qvHSTP3sUrkfhepQ/Gy/dJAaBlT+6SQwCK4eWP1pkO99PjZc/+n5qvHSTmD+amZmZmZmZPzq0yHa+n5o/2c73U+Olmz956SYxCKycPxkEVg4tsp0/uB6F61G4nj9YObTIdr6fP/yp8dJNYqA/TDeJQWDloD+cxCCwcmihP+xRuB6F66E/PN9PjZduoj+LbOf7qfGiP9v5fmq8dKM/K4cW2c73oz97FK5H4XqkP8uhRbbz/aQ/Gy/dJAaBpT9rvHSTGASmP7pJDAIrh6Y/CtejcD0Kpz9aZDvfT42nP6rx0k1iEKg/+n5qvHSTqD9KDAIrhxapP5qZmZmZmak/6iYxCKwcqj86tMh2vp+qP4lBYOXQIqs/2c73U+Olqz8pXI/C9SisP3npJjEIrKw/yXa+nxovrT8ZBFYOLbKtP2mR7Xw/Na4/uB6F61G4rj8IrBxaZDuvP1g5tMh2vq8/VOOlm8QgsD/8qfHSTWKwP6RwPQrXo7A/TDeJQWDlsD/0/dR46SaxP5zEILByaLE/RIts5/upsT/sUbgeheuxP5QYBFYOLbI/PN9PjZdusj/jpZvEILCyP4ts5/up8bI/MzMzMzMzsz/b+X5qvHSzP4PAyqFFtrM/K4cW2c73sz/TTWIQWDm0P3sUrkfherQ/I9v5fmq8tD/LoUW28/20P3Noke18P7U/Gy/dJAaBtT/D9Shcj8K1P2u8dJMYBLY/E4PAyqFFtj+6SQwCK4e2P2IQWDm0yLY/CtejcD0Ktz+yne+nxku3P1pkO99Pjbc/AiuHFtnOtz+q8dJNYhC4P1K4HoXrUbg/+n5qvHSTuD+iRbbz/dS4P0oMAiuHFrk/8tJNYhBYuT+amZmZmZm5P0Jg5dAi27k/6iYxCKwcuj+S7Xw/NV66Pzq0yHa+n7o/4XoUrkfhuj+JQWDl0CK7PzEIrBxaZLs/2c73U+Oluz+BlUOLbOe7Pylcj8L1KLw/0SLb+X5qvD956SYxCKy8PyGwcmiR7bw/yXa+nxovvT9xPQrXo3C9PxkEVg4tsr0/wcqhRbbzvT9pke18PzW+PxFYObTIdr4/uB6F61G4vj9g5dAi2/m+PwisHFpkO78/sHJoke18vz9YObTIdr6/PwAAAAAAAMA/VOOlm8QgwD+oxks3iUHAP/yp8dJNYsA/UI2XbhKDwD+kcD0K16PAP/hT46WbxMA/TDeJQWDlwD+gGi/dJAbBP/T91HjpJsE/SOF6FK5HwT+cxCCwcmjBP/Cnxks3icE/RIts5/upwT+YbhKDwMrBP+xRuB6F68E/QDVeukkMwj+UGARWDi3CP+j7qfHSTcI/PN9PjZduwj+PwvUoXI/CP+Olm8QgsMI/N4lBYOXQwj+LbOf7qfHCP99PjZduEsM/MzMzMzMzwz+HFtnO91PDP9v5fmq8dMM/L90kBoGVwz+DwMqhRbbDP9ejcD0K18M/K4cW2c73wz9/arx0kxjEP9NNYhBYOcQ/JzEIrBxaxD97FK5H4XrEP8/3U+Olm8Q/I9v5fmq8xD93vp8aL93EP8uhRbbz/cQ/H4XrUbgexT9zaJHtfD/FP8dLN4lBYMU/Gy/dJAaBxT9vEoPAyqHFP8P1KFyPwsU/F9nO91PjxT9rvHSTGATGP7+fGi/dJMY/E4PAyqFFxj9nZmZmZmbGP7pJDAIrh8Y/Di2yne+nxj9iEFg5tMjGP7bz/dR46cY/CtejcD0Kxz9eukkMAivHP7Kd76fGS8c/BoGVQ4tsxz9aZDvfT43HP65H4XoUrsc/AiuHFtnOxz9WDi2yne/HP6rx0k1iEMg//tR46SYxyD9SuB6F61HIP6abxCCwcsg/+n5qvHSTyD9OYhBYObTIP6JFtvP91Mg/9ihcj8L1yD9KDAIrhxbJP57vp8ZLN8k/8tJNYhBYyT9GtvP91HjJP5qZmZmZmck/7nw/NV66yT9CYOXQItvJP5ZDi2zn+8k/6iYxCKwcyj8+CtejcD3KP5LtfD81Xso/5tAi2/l+yj86tMh2vp/KP42XbhKDwMo/4XoUrkfhyj81XrpJDALLP4lBYOXQIss/3SQGgZVDyz8xCKwcWmTLP4XrUbgehcs/2c73U+Olyz8tsp3vp8bLP4GVQ4ts58s/1XjpJjEIzD8pXI/C9SjMP30/NV66Scw/0SLb+X5qzD8lBoGVQ4vMP3npJjEIrMw/zczMzMzMzD8hsHJoke3MP3WTGARWDs0/yXa+nxovzT8dWmQ730/NP3E9CtejcM0/xSCwcmiRzT8ZBFYOLbLNP23n+6nx0s0/wcqhRbbzzT8VrkfhehTOP2mR7Xw/Nc4/vXSTGARWzj8RWDm0yHbOP2U730+Nl84/uB6F61G4zj8MAiuHFtnOP2Dl0CLb+c4/tMh2vp8azz8IrBxaZDvPP1yPwvUoXM8/sHJoke18zz8EVg4tsp3PP1g5tMh2vs8/rBxaZDvfzz8AAAAAAADQP6rx0k1iENA/VOOlm8Qg0D/+1HjpJjHQP6jGSzeJQdA/UrgehetR0D/8qfHSTWLQP6abxCCwctA/UI2XbhKD0D/6fmq8dJPQP6RwPQrXo9A/TmIQWDm00D/4U+Olm8TQP6JFtvP91NA/TDeJQWDl0D/2KFyPwvXQP6AaL90kBtE/SgwCK4cW0T/0/dR46SbRP57vp8ZLN9E/SOF6FK5H0T/y0k1iEFjRP5zEILByaNE/Rrbz/dR40T/wp8ZLN4nRP5qZmZmZmdE/RIts5/up0T/ufD81XrrRP5huEoPAytE/QmDl0CLb0T/sUbgehevRP5ZDi2zn+9E/QDVeukkM0j/qJjEIrBzSP5QYBFYOLdI/PgrXo3A90j/o+6nx0k3SP5LtfD81XtI/PN9PjZdu0j/l0CLb+X7SP4/C9Shcj9I/ObTIdr6f0j/jpZvEILDSP42XbhKDwNI/N4lBYOXQ0j/hehSuR+HSP4ts5/up8dI/NV66SQwC0z/fT42XbhLTP4lBYOXQItM/MzMzMzMz0z/dJAaBlUPTP4cW2c73U9M/MQisHFpk0z/b+X5qvHTTP4XrUbgehdM/L90kBoGV0z/ZzvdT46XTP4PAyqFFttM/LbKd76fG0z/Xo3A9CtfTP4GVQ4ts59M/K4cW2c730z/VeOkmMQjUP39qvHSTGNQ/KVyPwvUo1D/TTWIQWDnUP30/NV66SdQ/JzEIrBxa1D/RItv5fmrUP3sUrkfhetQ/JQaBlUOL1D/P91PjpZvUP3npJjEIrNQ/I9v5fmq81D/NzMzMzMzUP3e+nxov3dQ/IbByaJHt1D/LoUW28/3UP3WTGARWDtU/H4XrUbge1T/Jdr6fGi/VP3Noke18P9U/HVpkO99P1T/HSzeJQWDVP3E9CtejcNU/Gy/dJAaB1T/FILByaJHVP28Sg8DKodU/GQRWDi2y1T/D9Shcj8LVP23n+6nx0tU/F9nO91Pj1T/ByqFFtvPVP2u8dJMYBNY/Fa5H4XoU1j+/nxov3STWP2mR7Xw/NdY/E4PAyqFF1j+9dJMYBFbWP2dmZmZmZtY/EVg5tMh21j+6SQwCK4fWP2Q730+Nl9Y/Di2yne+n1j+4HoXrUbjWP2IQWDm0yNY/DAIrhxbZ1j+28/3UeOnWP2Dl0CLb+dY/CtejcD0K1z+0yHa+nxrXP166SQwCK9c/CKwcWmQ71z+yne+nxkvXP1yPwvUoXNc/BoGVQ4ts1z+wcmiR7XzXP1pkO99Pjdc/BFYOLbKd1z+uR+F6FK7XP1g5tMh2vtc/AiuHFtnO1z+sHFpkO9/XP1YOLbKd79c/AAAAAAAA2D+q8dJNYhDYP1TjpZvEINg//tR46SYx2D+oxks3iUHYP1K4HoXrUdg//Knx0k1i2D+mm8QgsHLYP1CNl24Sg9g/+n5qvHST2D+kcD0K16PYP05iEFg5tNg/+FPjpZvE2D+iRbbz/dTYP0w3iUFg5dg/9ihcj8L12D+gGi/dJAbZP0oMAiuHFtk/9P3UeOkm2T+e76fGSzfZP0jhehSuR9k/8tJNYhBY2T+cxCCwcmjZP0a28/3UeNk/8KfGSzeJ2T+amZmZmZnZP0SLbOf7qdk/7nw/NV662T+YbhKDwMrZP0Jg5dAi29k/7FG4HoXr2T+WQ4ts5/vZP0A1XrpJDNo/6iYxCKwc2j+UGARWDi3aPz4K16NwPdo/6Pup8dJN2j+S7Xw/NV7aPzzfT42Xbto/5tAi2/l+2j+QwvUoXI/aPzq0yHa+n9o/46WbxCCw2j+Nl24Sg8DaPzeJQWDl0No/4XoUrkfh2j+LbOf7qfHaPzVeukkMAts/30+Nl24S2z+JQWDl0CLbPzMzMzMzM9s/3SQGgZVD2z+HFtnO91PbPzEIrBxaZNs/2/l+arx02z+F61G4HoXbPy/dJAaBlds/2c73U+Ol2z+DwMqhRbbbPy2yne+nxts/16NwPQrX2z+BlUOLbOfbPyuHFtnO99s/1XjpJjEI3D9/arx0kxjcPylcj8L1KNw/001iEFg53D99PzVeukncPycxCKwcWtw/0SLb+X5q3D97FK5H4XrcPyUGgZVDi9w/z/dT46Wb3D956SYxCKzcPyPb+X5qvNw/zczMzMzM3D93vp8aL93cPyGwcmiR7dw/y6FFtvP93D91kxgEVg7dPx+F61G4Ht0/yXa+nxov3T9zaJHtfD/dPx1aZDvfT90/x0s3iUFg3T9xPQrXo3DdPxsv3SQGgd0/xSCwcmiR3T9vEoPAyqHdPxkEVg4tst0/w/UoXI/C3T9t5/up8dLdPxfZzvdT490/wcqhRbbz3T9rvHSTGATePxWuR+F6FN4/v58aL90k3j9pke18PzXePxODwMqhRd4/vXSTGARW3j9nZmZmZmbePxFYObTIdt4/u0kMAiuH3j9lO99PjZfePw8tsp3vp94/uB6F61G43j9iEFg5tMjePwwCK4cW2d4/tvP91Hjp3j9g5dAi2/nePwrXo3A9Ct8/tMh2vp8a3z9eukkMAivfPwisHFpkO98/sp3vp8ZL3z9cj8L1KFzfPwaBlUOLbN8/sHJoke183z9aZDvfT43fPwRWDi2ynd8/rkfhehSu3z9YObTIdr7fPwIrhxbZzt8/rBxaZDvf3z9WDi2yne/fPwAAAAAAAOA/1XjpJjEI4D+q8dJNYhDgP39qvHSTGOA/VOOlm8Qg4D8pXI/C9SjgP/7UeOkmMeA/001iEFg54D+oxks3iUHgP30/NV66SeA/UrgehetR4D8nMQisHFrgP/yp8dJNYuA/0SLb+X5q4D+mm8QgsHLgP3sUrkfheuA/UI2XbhKD4D8lBoGVQ4vgP/p+arx0k+A/z/dT46Wb4D+kcD0K16PgP3npJjEIrOA/TmIQWDm04D8j2/l+arzgP/hT46WbxOA/zczMzMzM4D+iRbbz/dTgP3e+nxov3eA/TDeJQWDl4D8hsHJoke3gP/YoXI/C9eA/y6FFtvP94D+gGi/dJAbhP3WTGARWDuE/SgwCK4cW4T8fhetRuB7hP/T91HjpJuE/yXa+nxov4T+e76fGSzfhP3Noke18P+E/SOF6FK5H4T8dWmQ730/hP/LSTWIQWOE/x0s3iUFg4T+cxCCwcmjhP3E9CtejcOE/Rrbz/dR44T8bL90kBoHhP/Cnxks3ieE/xSCwcmiR4T+amZmZmZnhP28Sg8DKoeE/RIts5/up4T8ZBFYOLbLhP+58PzVeuuE/w/UoXI/C4T+YbhKDwMrhP23n+6nx0uE/QmDl0CLb4T8X2c73U+PhP+xRuB6F6+E/wcqhRbbz4T+WQ4ts5/vhP2u8dJMYBOI/QDVeukkM4j8VrkfhehTiP+omMQisHOI/v58aL90k4j+UGARWDi3iP2mR7Xw/NeI/PgrXo3A94j8Tg8DKoUXiP+j7qfHSTeI/vXSTGARW4j+S7Xw/NV7iP2dmZmZmZuI/PN9PjZdu4j8QWDm0yHbiP+XQItv5fuI/ukkMAiuH4j+PwvUoXI/iP2Q730+Nl+I/ObTIdr6f4j8OLbKd76fiP+Olm8QgsOI/uB6F61G44j+Nl24Sg8DiP2IQWDm0yOI/N4lBYOXQ4j8MAiuHFtniP+F6FK5H4eI/tvP91Hjp4j+LbOf7qfHiP2Dl0CLb+eI/NV66SQwC4z8K16NwPQrjP99PjZduEuM/tMh2vp8a4z+JQWDl0CLjP166SQwCK+M/MzMzMzMz4z8IrBxaZDvjP90kBoGVQ+M/sp3vp8ZL4z+HFtnO91PjP1yPwvUoXOM/MQisHFpk4z8GgZVDi2zjP9v5fmq8dOM/sHJoke184z+F61G4HoXjP1pkO99PjeM/L90kBoGV4z8EVg4tsp3jP9nO91PjpeM/rkfhehSu4z+DwMqhRbbjP1g5tMh2vuM/LbKd76fG4z8CK4cW2c7jP9ejcD0K1+M/rBxaZDvf4z+BlUOLbOfjP1YOLbKd7+M/K4cW2c734z8AAAAAAADkP9V46SYxCOQ/qvHSTWIQ5D9/arx0kxjkP1TjpZvEIOQ/KVyPwvUo5D/+1HjpJjHkP9NNYhBYOeQ/qMZLN4lB5D99PzVeuknkP1K4HoXrUeQ/JzEIrBxa5D/8qfHSTWLkP9Ei2/l+auQ/ppvEILBy5D97FK5H4XrkP1CNl24Sg+Q/JQaBlUOL5D/6fmq8dJPkP8/3U+Olm+Q/pHA9Ctej5D956SYxCKzkP05iEFg5tOQ/I9v5fmq85D/4U+Olm8TkP83MzMzMzOQ/okW28/3U5D93vp8aL93kP0w3iUFg5eQ/IbByaJHt5D/2KFyPwvXkP8uhRbbz/eQ/oBov3SQG5T91kxgEVg7lP0oMAiuHFuU/H4XrUbge5T/0/dR46SblP8l2vp8aL+U/nu+nxks35T9zaJHtfD/lP0jhehSuR+U/HVpkO99P5T/y0k1iEFjlP8dLN4lBYOU/nMQgsHJo5T9xPQrXo3DlP0a28/3UeOU/Gy/dJAaB5T/wp8ZLN4nlP8UgsHJokeU/mpmZmZmZ5T9vEoPAyqHlP0SLbOf7qeU/GQRWDi2y5T/ufD81XrrlP8P1KFyPwuU/mG4Sg8DK5T9t5/up8dLlP0Jg5dAi2+U/F9nO91Pj5T/sUbgehevlP8HKoUW28+U/lkOLbOf75T9rvHSTGATmP0A1XrpJDOY/Fa5H4XoU5j/qJjEIrBzmP7+fGi/dJOY/lBgEVg4t5j9pke18PzXmPz4K16NwPeY/E4PAyqFF5j/o+6nx0k3mP710kxgEVuY/ku18PzVe5j9nZmZmZmbmPzzfT42XbuY/EVg5tMh25j/m0CLb+X7mP7pJDAIrh+Y/j8L1KFyP5j9kO99PjZfmPzm0yHa+n+Y/Di2yne+n5j/jpZvEILDmP7gehetRuOY/jZduEoPA5j9iEFg5tMjmPzeJQWDl0OY/DAIrhxbZ5j/hehSuR+HmP7bz/dR46eY/i2zn+6nx5j9g5dAi2/nmPzVeukkMAuc/CtejcD0K5z/fT42XbhLnP7TIdr6fGuc/iUFg5dAi5z9eukkMAivnPzMzMzMzM+c/CKwcWmQ75z/dJAaBlUPnP7Kd76fGS+c/hxbZzvdT5z9cj8L1KFznPzEIrBxaZOc/BoGVQ4ts5z/b+X5qvHTnP7ByaJHtfOc/hetRuB6F5z9aZDvfT43nPy/dJAaBlec/BFYOLbKd5z/ZzvdT46XnP65H4XoUruc/g8DKoUW25z9YObTIdr7nPy2yne+nxuc/AiuHFtnO5z/Xo3A9CtfnP6wcWmQ73+c/gZVDi2zn5z9WDi2yne/nPyuHFtnO9+c/AAAAAAAA6D/VeOkmMQjoP6rx0k1iEOg/f2q8dJMY6D9U46WbxCDoPylcj8L1KOg//tR46SYx6D/TTWIQWDnoP6jGSzeJQeg/fT81XrpJ6D9SuB6F61HoPycxCKwcWug//Knx0k1i6D/RItv5fmroP6abxCCwcug/exSuR+F66D9QjZduEoPoPyUGgZVDi+g/+n5qvHST6D/P91PjpZvoP6RwPQrXo+g/eekmMQis6D9OYhBYObToPyPb+X5qvOg/+FPjpZvE6D/NzMzMzMzoP6JFtvP91Og/d76fGi/d6D9MN4lBYOXoPyGwcmiR7eg/9ihcj8L16D/LoUW28/3oP6AaL90kBuk/dZMYBFYO6T9KDAIrhxbpPx+F61G4Huk/9P3UeOkm6T/Jdr6fGi/pP57vp8ZLN+k/c2iR7Xw/6T9I4XoUrkfpPx1aZDvfT+k/8tJNYhBY6T/HSzeJQWDpP5zEILByaOk/cT0K16Nw6T9GtvP91HjpPxsv3SQGgek/8KfGSzeJ6T/FILByaJHpP5qZmZmZmek/bxKDwMqh6T9Ei2zn+6npPxkEVg4tsuk/7nw/NV666T/D9Shcj8LpP5huEoPAyuk/bef7qfHS6T9CYOXQItvpPxfZzvdT4+k/7FG4HoXr6T/ByqFFtvPpP5ZDi2zn++k/a7x0kxgE6j9ANV66SQzqPxWuR+F6FOo/6iYxCKwc6j+/nxov3STqP5QYBFYOLeo/aZHtfD816j8+CtejcD3qPxODwMqhReo/6Pup8dJN6j+9dJMYBFbqP5LtfD81Xuo/Z2ZmZmZm6j8830+Nl27qPxFYObTIduo/5tAi2/l+6j+7SQwCK4fqP5DC9Shcj+o/ZTvfT42X6j86tMh2vp/qPw4tsp3vp+o/46WbxCCw6j+4HoXrUbjqP42XbhKDwOo/YhBYObTI6j83iUFg5dDqPwwCK4cW2eo/4XoUrkfh6j+28/3UeOnqP4ts5/up8eo/YOXQItv56j81XrpJDALrPwrXo3A9Cus/30+Nl24S6z+0yHa+nxrrP4lBYOXQIus/XrpJDAIr6z8zMzMzMzPrPwisHFpkO+s/3SQGgZVD6z+yne+nxkvrP4cW2c73U+s/XI/C9Shc6z8xCKwcWmTrPwaBlUOLbOs/2/l+arx06z+wcmiR7XzrP4XrUbgehes/WmQ730+N6z8v3SQGgZXrPwRWDi2ynes/2c73U+Ol6z+uR+F6FK7rP4PAyqFFtus/WDm0yHa+6z8tsp3vp8brPwIrhxbZzus/16NwPQrX6z+sHFpkO9/rP4GVQ4ts5+s/Vg4tsp3v6z8rhxbZzvfrPwAAAAAAAOw/1XjpJjEI7D+q8dJNYhDsP39qvHSTGOw/VOOlm8Qg7D8pXI/C9SjsP/7UeOkmMew/001iEFg57D+oxks3iUHsP30/NV66Sew/UrgehetR7D8nMQisHFrsP/yp8dJNYuw/0SLb+X5q7D+mm8QgsHLsP3sUrkfheuw/UI2XbhKD7D8lBoGVQ4vsP/p+arx0k+w/z/dT46Wb7D+kcD0K16PsP3npJjEIrOw/TmIQWDm07D8j2/l+arzsP/hT46WbxOw/zczMzMzM7D+iRbbz/dTsP3e+nxov3ew/TDeJQWDl7D8hsHJoke3sP/YoXI/C9ew/y6FFtvP97D+gGi/dJAbtP3WTGARWDu0/SgwCK4cW7T8fhetRuB7tP/T91HjpJu0/yXa+nxov7T+e76fGSzftP3Noke18P+0/SOF6FK5H7T8dWmQ730/tP/LSTWIQWO0/x0s3iUFg7T+cxCCwcmjtP3E9CtejcO0/Rrbz/dR47T8bL90kBoHtP/Cnxks3ie0/xSCwcmiR7T+amZmZmZntP28Sg8DKoe0/RIts5/up7T8ZBFYOLbLtP+58PzVeuu0/w/UoXI/C7T+YbhKDwMrtP23n+6nx0u0/QmDl0CLb7T8X2c73U+PtP+xRuB6F6+0/wcqhRbbz7T+WQ4ts5/vtP2u8dJMYBO4/QDVeukkM7j8VrkfhehTuP+omMQisHO4/v58aL90k7j+UGARWDi3uP2mR7Xw/Ne4/PgrXo3A97j8Tg8DKoUXuP+j7qfHSTe4/vXSTGARW7j+S7Xw/NV7uP2dmZmZmZu4/PN9PjZdu7j8RWDm0yHbuP+bQItv5fu4/u0kMAiuH7j+QwvUoXI/uP2U730+Nl+4/OrTIdr6f7j8PLbKd76fuP+Slm8QgsO4/uB6F61G47j+Nl24Sg8DuP2IQWDm0yO4/N4lBYOXQ7j8MAiuHFtnuP+F6FK5H4e4/tvP91Hjp7j+LbOf7qfHuP2Dl0CLb+e4/NV66SQwC7z8K16NwPQrvP99PjZduEu8/tMh2vp8a7z+JQWDl0CLvP166SQwCK+8/MzMzMzMz7z8IrBxaZDvvP90kBoGVQ+8/sp3vp8ZL7z+HFtnO91PvP1yPwvUoXO8/MQisHFpk7z8GgZVDi2zvP9v5fmq8dO8/sHJoke187z+F61G4HoXvP1pkO99Pje8/L90kBoGV7z8EVg4tsp3vP9nO91Pjpe8/rkfhehSu7z+DwMqhRbbvP1g5tMh2vu8/LbKd76fG7z8CK4cW2c7vP9ejcD0K1+8/rBxaZDvf7z+BlUOLbOfvP1YOLbKd7+8/K4cW2c737z8=\",\"dtype\":\"float64\",\"order\":\"little\",\"shape\":[1000]},\"y\":{\"__ndarray__\":\"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\",\"dtype\":\"float64\",\"order\":\"little\",\"shape\":[1000]}},\"selected\":{\"id\":\"1966\"},\"selection_policy\":{\"id\":\"1967\"}},\"id\":\"1879\",\"type\":\"ColumnDataSource\"},{\"attributes\":{\"axis\":{\"id\":\"1857\"},\"ticker\":null},\"id\":\"1860\",\"type\":\"Grid\"},{\"attributes\":{},\"id\":\"1967\",\"type\":\"UnionRenderers\"},{\"attributes\":{},\"id\":\"1849\",\"type\":\"Range1d\"},{\"attributes\":{\"data_source\":{\"id\":\"1879\"},\"glyph\":{\"id\":\"1880\"},\"hover_glyph\":null,\"muted_glyph\":null,\"nonselection_glyph\":{\"id\":\"1881\"},\"view\":{\"id\":\"1883\"}},\"id\":\"1882\",\"type\":\"GlyphRenderer\"},{\"attributes\":{},\"id\":\"1963\",\"type\":\"AllLabels\"},{\"attributes\":{\"axis_label\":\"Magnitude\",\"formatter\":{\"id\":\"1964\"},\"major_label_orientation\":0.7853981633974483,\"major_label_policy\":{\"id\":\"1963\"},\"major_label_text_color\":\"orange\",\"minor_tick_in\":-3,\"minor_tick_out\":6,\"ticker\":{\"id\":\"1862\"}},\"id\":\"1861\",\"type\":\"LinearAxis\"},{\"attributes\":{},\"id\":\"1964\",\"type\":\"BasicTickFormatter\"},{\"attributes\":{},\"id\":\"1870\",\"type\":\"HelpTool\"},{\"attributes\":{},\"id\":\"1862\",\"type\":\"BasicTicker\"},{\"attributes\":{\"overlay\":{\"id\":\"1871\"}},\"id\":\"1867\",\"type\":\"BoxZoomTool\"},{\"attributes\":{},\"id\":\"1853\",\"type\":\"LinearScale\"},{\"attributes\":{},\"id\":\"1866\",\"type\":\"WheelZoomTool\"},{\"attributes\":{},\"id\":\"1869\",\"type\":\"ResetTool\"},{\"attributes\":{},\"id\":\"1868\",\"type\":\"SaveTool\"},{\"attributes\":{},\"id\":\"1851\",\"type\":\"DataRange1d\"}],\"root_ids\":[\"1848\"]},\"title\":\"Bokeh Application\",\"version\":\"2.3.2\"}};\n",
       "  var render_items = [{\"docid\":\"bcd0efd8-5725-4f35-adfb-3c36ee5b1f20\",\"root_ids\":[\"1848\"],\"roots\":{\"1848\":\"129510ff-e5d3-4b20-a451-49604b3e43c6\"}}];\n",
       "  root.Bokeh.embed.embed_items_notebook(docs_json, render_items);\n",
       "\n",
       "  }\n",
       "  if (root.Bokeh !== undefined) {\n",
       "    embed_document(root);\n",
       "  } else {\n",
       "    var attempts = 0;\n",
       "    var timer = setInterval(function(root) {\n",
       "      if (root.Bokeh !== undefined) {\n",
       "        clearInterval(timer);\n",
       "        embed_document(root);\n",
       "      } else {\n",
       "        attempts++;\n",
       "        if (attempts > 100) {\n",
       "          clearInterval(timer);\n",
       "          console.log(\"Bokeh: ERROR: Unable to run BokehJS code because BokehJS library is missing\");\n",
       "        }\n",
       "      }\n",
       "    }, 10, root)\n",
       "  }\n",
       "})(window);"
      ],
      "application/vnd.bokehjs_exec.v0+json": ""
     },
     "metadata": {
      "application/vnd.bokehjs_exec.v0+json": {
       "id": "1848"
      }
     },
     "output_type": "display_data"
    }
   ],
   "source": [
    "t=np.arange(0, 1, 0.001)\n",
    "y=np.sin(2*np.pi*5*t)\n",
    "p=figure(plot_width=600, plot_height=300, \n",
    "        x_range=(0,1))\n",
    "\n",
    "p.line(t, y, line_color=\"Red\")\n",
    "\n",
    "p.xaxis.axis_label=\"Time\"\n",
    "p.xaxis.axis_line_color=\"blue\"\n",
    "p.xaxis.axis_line_width=3\n",
    "\n",
    "p.yaxis.axis_label=\"Magnitude\"\n",
    "p.yaxis.major_label_text_color='orange'\n",
    "#p.xaxis.axis_label_standoff = 30\n",
    "\n",
    "#Instead of using p.axis. you can use p.xaxis. or p.yaxis. \n",
    "#for code line 16,17,18\n",
    "p.axis.minor_tick_in=-3\n",
    "p.axis.minor_tick_out=6\n",
    "p.axis.major_label_orientation=np.pi/4\n",
    "\n",
    "show(p)"
   ]
  },
  {
   "cell_type": "code",
   "execution_count": null,
   "metadata": {},
   "outputs": [],
   "source": []
  },
  {
   "cell_type": "code",
   "execution_count": null,
   "metadata": {},
   "outputs": [],
   "source": []
  },
  {
   "cell_type": "code",
   "execution_count": null,
   "metadata": {},
   "outputs": [],
   "source": []
  },
  {
   "cell_type": "code",
   "execution_count": null,
   "metadata": {},
   "outputs": [],
   "source": []
  },
  {
   "cell_type": "code",
   "execution_count": null,
   "metadata": {},
   "outputs": [],
   "source": []
  },
  {
   "cell_type": "code",
   "execution_count": null,
   "metadata": {},
   "outputs": [],
   "source": []
  },
  {
   "cell_type": "markdown",
   "metadata": {},
   "source": [
    "## Positioning the toolbar"
   ]
  },
  {
   "cell_type": "code",
   "execution_count": 15,
   "metadata": {},
   "outputs": [
    {
     "data": {
      "text/html": [
       "\n",
       "\n",
       "\n",
       "\n",
       "\n",
       "\n",
       "  <div class=\"bk-root\" id=\"1c7b79e1-27d1-4bb3-a159-312b10276406\" data-root-id=\"2618\"></div>\n"
      ]
     },
     "metadata": {},
     "output_type": "display_data"
    },
    {
     "data": {
      "application/javascript": [
       "(function(root) {\n",
       "  function embed_document(root) {\n",
       "    \n",
       "  var docs_json = {\"74f3fe95-8cf5-4771-87c6-14152e39ab36\":{\"defs\":[],\"roots\":{\"references\":[{\"attributes\":{\"below\":[{\"id\":\"2627\"}],\"center\":[{\"id\":\"2630\"},{\"id\":\"2634\"}],\"height\":300,\"left\":[{\"id\":\"2631\"}],\"renderers\":[{\"id\":\"2652\"}],\"title\":{\"id\":\"2772\"},\"toolbar\":{\"id\":\"2642\"},\"x_range\":{\"id\":\"2619\"},\"x_scale\":{\"id\":\"2623\"},\"y_range\":{\"id\":\"2621\"},\"y_scale\":{\"id\":\"2625\"}},\"id\":\"2618\",\"subtype\":\"Figure\",\"type\":\"Plot\"},{\"attributes\":{},\"id\":\"2777\",\"type\":\"AllLabels\"},{\"attributes\":{},\"id\":\"2778\",\"type\":\"BasicTickFormatter\"},{\"attributes\":{},\"id\":\"2774\",\"type\":\"AllLabels\"},{\"attributes\":{},\"id\":\"2640\",\"type\":\"HelpTool\"},{\"attributes\":{},\"id\":\"2635\",\"type\":\"PanTool\"},{\"attributes\":{},\"id\":\"2638\",\"type\":\"SaveTool\"},{\"attributes\":{},\"id\":\"2639\",\"type\":\"ResetTool\"},{\"attributes\":{},\"id\":\"2628\",\"type\":\"BasicTicker\"},{\"attributes\":{},\"id\":\"2775\",\"type\":\"BasicTickFormatter\"},{\"attributes\":{\"active_multi\":null,\"tools\":[{\"id\":\"2635\"},{\"id\":\"2636\"},{\"id\":\"2637\"},{\"id\":\"2638\"},{\"id\":\"2639\"},{\"id\":\"2640\"}]},\"id\":\"2642\",\"type\":\"Toolbar\"},{\"attributes\":{},\"id\":\"2623\",\"type\":\"LinearScale\"},{\"attributes\":{\"overlay\":{\"id\":\"2641\"}},\"id\":\"2637\",\"type\":\"BoxZoomTool\"},{\"attributes\":{\"line_alpha\":0.1,\"line_color\":\"red\",\"line_width\":2,\"x\":{\"field\":\"x\"},\"y\":{\"field\":\"y\"}},\"id\":\"2651\",\"type\":\"Line\"},{\"attributes\":{},\"id\":\"2780\",\"type\":\"Selection\"},{\"attributes\":{\"end\":10},\"id\":\"2619\",\"type\":\"Range1d\"},{\"attributes\":{\"source\":{\"id\":\"2649\"}},\"id\":\"2653\",\"type\":\"CDSView\"},{\"attributes\":{},\"id\":\"2636\",\"type\":\"WheelZoomTool\"},{\"attributes\":{\"line_color\":\"red\",\"line_width\":2,\"x\":{\"field\":\"x\"},\"y\":{\"field\":\"y\"}},\"id\":\"2650\",\"type\":\"Line\"},{\"attributes\":{},\"id\":\"2781\",\"type\":\"UnionRenderers\"},{\"attributes\":{\"data_source\":{\"id\":\"2649\"},\"glyph\":{\"id\":\"2650\"},\"hover_glyph\":null,\"muted_glyph\":null,\"nonselection_glyph\":{\"id\":\"2651\"},\"view\":{\"id\":\"2653\"}},\"id\":\"2652\",\"type\":\"GlyphRenderer\"},{\"attributes\":{\"axis\":{\"id\":\"2631\"},\"dimension\":1,\"ticker\":null},\"id\":\"2634\",\"type\":\"Grid\"},{\"attributes\":{\"bottom_units\":\"screen\",\"fill_alpha\":0.5,\"fill_color\":\"lightgrey\",\"left_units\":\"screen\",\"level\":\"overlay\",\"line_alpha\":1.0,\"line_color\":\"black\",\"line_dash\":[4,4],\"line_width\":2,\"right_units\":\"screen\",\"syncable\":false,\"top_units\":\"screen\"},\"id\":\"2641\",\"type\":\"BoxAnnotation\"},{\"attributes\":{},\"id\":\"2632\",\"type\":\"BasicTicker\"},{\"attributes\":{\"formatter\":{\"id\":\"2775\"},\"major_label_policy\":{\"id\":\"2774\"},\"ticker\":{\"id\":\"2628\"}},\"id\":\"2627\",\"type\":\"LinearAxis\"},{\"attributes\":{\"formatter\":{\"id\":\"2778\"},\"major_label_policy\":{\"id\":\"2777\"},\"ticker\":{\"id\":\"2632\"}},\"id\":\"2631\",\"type\":\"LinearAxis\"},{\"attributes\":{},\"id\":\"2625\",\"type\":\"LinearScale\"},{\"attributes\":{},\"id\":\"2621\",\"type\":\"DataRange1d\"},{\"attributes\":{\"axis\":{\"id\":\"2627\"},\"ticker\":null},\"id\":\"2630\",\"type\":\"Grid\"},{\"attributes\":{\"data\":{\"x\":{\"__ndarray__\":\"AAAAAAAAAACamZmZmZm5P5qZmZmZmck/NDMzMzMz0z+amZmZmZnZPwAAAAAAAOA/NDMzMzMz4z9nZmZmZmbmP5qZmZmZmek/zczMzMzM7D8AAAAAAADwP5qZmZmZmfE/NDMzMzMz8z/NzMzMzMz0P2dmZmZmZvY/AAAAAAAA+D+amZmZmZn5PzQzMzMzM/s/zczMzMzM/D9nZmZmZmb+PwAAAAAAAABAzczMzMzMAECamZmZmZkBQGdmZmZmZgJANDMzMzMzA0AAAAAAAAAEQM3MzMzMzARAmpmZmZmZBUBnZmZmZmYGQDQzMzMzMwdAAAAAAAAACEDNzMzMzMwIQJqZmZmZmQlAZ2ZmZmZmCkA0MzMzMzMLQAAAAAAAAAxAzczMzMzMDECamZmZmZkNQGdmZmZmZg5ANDMzMzMzD0AAAAAAAAAQQGdmZmZmZhBAzczMzMzMEEAzMzMzMzMRQJqZmZmZmRFAAAAAAAAAEkBnZmZmZmYSQM3MzMzMzBJANDMzMzMzE0CamZmZmZkTQAAAAAAAABRAZ2ZmZmZmFEDNzMzMzMwUQDQzMzMzMxVAmpmZmZmZFUAAAAAAAAAWQGdmZmZmZhZAzczMzMzMFkA0MzMzMzMXQJqZmZmZmRdAAAAAAAAAGEBnZmZmZmYYQM3MzMzMzBhANDMzMzMzGUCamZmZmZkZQAAAAAAAABpAZ2ZmZmZmGkDNzMzMzMwaQDQzMzMzMxtAmpmZmZmZG0AAAAAAAAAcQGdmZmZmZhxAzczMzMzMHEA0MzMzMzMdQJqZmZmZmR1AAAAAAAAAHkBnZmZmZmYeQM3MzMzMzB5ANDMzMzMzH0CamZmZmZkfQAAAAAAAACBAMzMzMzMzIEBnZmZmZmYgQJqZmZmZmSBAzczMzMzMIEAAAAAAAAAhQDMzMzMzMyFAZ2ZmZmZmIUCamZmZmZkhQM3MzMzMzCFAAAAAAAAAIkAzMzMzMzMiQGdmZmZmZiJAmpmZmZmZIkDNzMzMzMwiQAAAAAAAACNANDMzMzMzI0BnZmZmZmYjQJqZmZmZmSNAzczMzMzMI0A=\",\"dtype\":\"float64\",\"order\":\"little\",\"shape\":[100]},\"y\":{\"__ndarray__\":\"AAAAAAAAAAAsy4vLro65P7zSPSP/bck/NLq6lc3p0j9rZyvpOuzYP/AFS3Tort4/WkGlF40R4j+5GUZpbp3kP83+v8KU9OY/QahdmAMR6T/uDAmPVO3qPzhjLUzFhOw/xVUaokPT7T9LHsX5d9XuPwPhRN/NiO8/i20sm3rr7z/FQuDHgfzvP7aYL9e3u+8/8BW9gcIp7z9XOBofF0juP0a00er2GO0/+3LrP2mf6z8I16rZM9/pPyIvWC3R3Oc/mNHD9WSd5T+wys8NrybjP7uFoLv8fuA/DKckJDFa2z/A5V0jcnDVP9MwSNa4n84/W9W2bTgQwj8uEJiCD0qlPzIt6Dk3462/lwy3ygIxxL90TP8QyVrQvx9iun47c9a/8dHwQ0FS3L9BGy7savTgv6DA7P9WlOO/zrMfLS4C5r+uHtzduTfov73I4npTL+q/2BLQ3/Lj678ligE6O1Htv/AoRTGGc+6/gEDHPe1H77+67F0TUczvv1LsNw9f/++//z0MmpTg77+k6yJ2QHDvvzOZ4PWBr+6/uSLYHEag7b/XJLqyQkXsvzcSvFTvoeq/cAUyl3y66L9XsApOyZPmv7T1lhdWM+S/oMd6STef4b/K347HCrzdvxu9C2SY7de/wKKwivHh0b9c+zPXGVHHvx3NvttYRbW/fj/Lwqk3kT8sKjUvK9a9PzzLxkANics/kgnpL0vw0z/8iDWkD+nZPwkR6pqNn98/vxrYG5SC4j8ICm3CCAblP4tjZOG2U+c/D8njJbpl6T9JdB3cxjbrP/YpBXs3wuw/MK78hhgE7j8P+BCtMvnuP1hU7vwSn+8/L7eALBH07z+pXzrVU/fvP3vPKKDSqO8/Z7RJW1YJ7z8uM+n3dhruP09hK3eX3uw/mvctz99Y6z/82V/YNI3pPy2xtFcugOc/96EuPws35T/d0spCpLfiP4A3I+RcCOA/kS8MNiZg2j8X2Z+JG2zUP2ub1R2oh8w/UCzOvj7cvz/iQUSoul6ZP3onpJQaPbO/KLcVCFdQxr9zobGuhmTRvwJus+BkdNe/cLYgoURI3b8=\",\"dtype\":\"float64\",\"order\":\"little\",\"shape\":[100]}},\"selected\":{\"id\":\"2780\"},\"selection_policy\":{\"id\":\"2781\"}},\"id\":\"2649\",\"type\":\"ColumnDataSource\"},{\"attributes\":{},\"id\":\"2772\",\"type\":\"Title\"}],\"root_ids\":[\"2618\"]},\"title\":\"Bokeh Application\",\"version\":\"2.3.2\"}};\n",
       "  var render_items = [{\"docid\":\"74f3fe95-8cf5-4771-87c6-14152e39ab36\",\"root_ids\":[\"2618\"],\"roots\":{\"2618\":\"1c7b79e1-27d1-4bb3-a159-312b10276406\"}}];\n",
       "  root.Bokeh.embed.embed_items_notebook(docs_json, render_items);\n",
       "\n",
       "  }\n",
       "  if (root.Bokeh !== undefined) {\n",
       "    embed_document(root);\n",
       "  } else {\n",
       "    var attempts = 0;\n",
       "    var timer = setInterval(function(root) {\n",
       "      if (root.Bokeh !== undefined) {\n",
       "        clearInterval(timer);\n",
       "        embed_document(root);\n",
       "      } else {\n",
       "        attempts++;\n",
       "        if (attempts > 100) {\n",
       "          clearInterval(timer);\n",
       "          console.log(\"Bokeh: ERROR: Unable to run BokehJS code because BokehJS library is missing\");\n",
       "        }\n",
       "      }\n",
       "    }, 10, root)\n",
       "  }\n",
       "})(window);"
      ],
      "application/vnd.bokehjs_exec.v0+json": ""
     },
     "metadata": {
      "application/vnd.bokehjs_exec.v0+json": {
       "id": "2618"
      }
     },
     "output_type": "display_data"
    }
   ],
   "source": [
    "x=np.arange(0,10,0.1)\n",
    "y=np.sin(x)\n",
    "p=figure(plot_width=600, plot_height=300, \n",
    "        x_range=(0,10))\n",
    "p.line(x,y, color=\"red\", line_width=2)\n",
    "show(p)"
   ]
  },
  {
   "cell_type": "markdown",
   "metadata": {},
   "source": [
    "### Set `toolbar_location` position in `\"left\"` `\"right\"` `\"above\"` `\"below\"`\n",
    "If you would like to hide the toolbar entirely, pass `None`"
   ]
  },
  {
   "cell_type": "code",
   "execution_count": 16,
   "metadata": {},
   "outputs": [
    {
     "data": {
      "text/html": [
       "\n",
       "\n",
       "\n",
       "\n",
       "\n",
       "\n",
       "  <div class=\"bk-root\" id=\"5c04d5e3-6ec2-4f01-9b32-20055f9f77a8\" data-root-id=\"2838\"></div>\n"
      ]
     },
     "metadata": {},
     "output_type": "display_data"
    },
    {
     "data": {
      "application/javascript": [
       "(function(root) {\n",
       "  function embed_document(root) {\n",
       "    \n",
       "  var docs_json = {\"247437c4-62f3-48cd-9ea0-f05cba63cf22\":{\"defs\":[],\"roots\":{\"references\":[{\"attributes\":{\"below\":[{\"id\":\"2847\"}],\"center\":[{\"id\":\"2850\"},{\"id\":\"2854\"}],\"height\":300,\"left\":[{\"id\":\"2851\"}],\"renderers\":[{\"id\":\"2872\"}],\"title\":{\"id\":\"3003\"},\"toolbar\":{\"id\":\"2862\"},\"toolbar_location\":\"below\",\"x_range\":{\"id\":\"2839\"},\"x_scale\":{\"id\":\"2843\"},\"y_range\":{\"id\":\"2841\"},\"y_scale\":{\"id\":\"2845\"}},\"id\":\"2838\",\"subtype\":\"Figure\",\"type\":\"Plot\"},{\"attributes\":{},\"id\":\"3006\",\"type\":\"BasicTickFormatter\"},{\"attributes\":{},\"id\":\"3011\",\"type\":\"Selection\"},{\"attributes\":{},\"id\":\"3005\",\"type\":\"AllLabels\"},{\"attributes\":{},\"id\":\"3012\",\"type\":\"UnionRenderers\"},{\"attributes\":{\"bottom_units\":\"screen\",\"fill_alpha\":0.5,\"fill_color\":\"lightgrey\",\"left_units\":\"screen\",\"level\":\"overlay\",\"line_alpha\":1.0,\"line_color\":\"black\",\"line_dash\":[4,4],\"line_width\":2,\"right_units\":\"screen\",\"syncable\":false,\"top_units\":\"screen\"},\"id\":\"2861\",\"type\":\"BoxAnnotation\"},{\"attributes\":{\"data\":{\"x\":{\"__ndarray__\":\"AAAAAAAAAACamZmZmZm5P5qZmZmZmck/NDMzMzMz0z+amZmZmZnZPwAAAAAAAOA/NDMzMzMz4z9nZmZmZmbmP5qZmZmZmek/zczMzMzM7D8AAAAAAADwP5qZmZmZmfE/NDMzMzMz8z/NzMzMzMz0P2dmZmZmZvY/AAAAAAAA+D+amZmZmZn5PzQzMzMzM/s/zczMzMzM/D9nZmZmZmb+PwAAAAAAAABAzczMzMzMAECamZmZmZkBQGdmZmZmZgJANDMzMzMzA0AAAAAAAAAEQM3MzMzMzARAmpmZmZmZBUBnZmZmZmYGQDQzMzMzMwdAAAAAAAAACEDNzMzMzMwIQJqZmZmZmQlAZ2ZmZmZmCkA0MzMzMzMLQAAAAAAAAAxAzczMzMzMDECamZmZmZkNQGdmZmZmZg5ANDMzMzMzD0AAAAAAAAAQQGdmZmZmZhBAzczMzMzMEEAzMzMzMzMRQJqZmZmZmRFAAAAAAAAAEkBnZmZmZmYSQM3MzMzMzBJANDMzMzMzE0CamZmZmZkTQAAAAAAAABRAZ2ZmZmZmFEDNzMzMzMwUQDQzMzMzMxVAmpmZmZmZFUAAAAAAAAAWQGdmZmZmZhZAzczMzMzMFkA0MzMzMzMXQJqZmZmZmRdAAAAAAAAAGEBnZmZmZmYYQM3MzMzMzBhANDMzMzMzGUCamZmZmZkZQAAAAAAAABpAZ2ZmZmZmGkDNzMzMzMwaQDQzMzMzMxtAmpmZmZmZG0AAAAAAAAAcQGdmZmZmZhxAzczMzMzMHEA0MzMzMzMdQJqZmZmZmR1AAAAAAAAAHkBnZmZmZmYeQM3MzMzMzB5ANDMzMzMzH0CamZmZmZkfQAAAAAAAACBAMzMzMzMzIEBnZmZmZmYgQJqZmZmZmSBAzczMzMzMIEAAAAAAAAAhQDMzMzMzMyFAZ2ZmZmZmIUCamZmZmZkhQM3MzMzMzCFAAAAAAAAAIkAzMzMzMzMiQGdmZmZmZiJAmpmZmZmZIkDNzMzMzMwiQAAAAAAAACNANDMzMzMzI0BnZmZmZmYjQJqZmZmZmSNAzczMzMzMI0A=\",\"dtype\":\"float64\",\"order\":\"little\",\"shape\":[100]},\"y\":{\"__ndarray__\":\"AAAAAAAAAAAsy4vLro65P7zSPSP/bck/NLq6lc3p0j9rZyvpOuzYP/AFS3Tort4/WkGlF40R4j+5GUZpbp3kP83+v8KU9OY/QahdmAMR6T/uDAmPVO3qPzhjLUzFhOw/xVUaokPT7T9LHsX5d9XuPwPhRN/NiO8/i20sm3rr7z/FQuDHgfzvP7aYL9e3u+8/8BW9gcIp7z9XOBofF0juP0a00er2GO0/+3LrP2mf6z8I16rZM9/pPyIvWC3R3Oc/mNHD9WSd5T+wys8NrybjP7uFoLv8fuA/DKckJDFa2z/A5V0jcnDVP9MwSNa4n84/W9W2bTgQwj8uEJiCD0qlPzIt6Dk3462/lwy3ygIxxL90TP8QyVrQvx9iun47c9a/8dHwQ0FS3L9BGy7savTgv6DA7P9WlOO/zrMfLS4C5r+uHtzduTfov73I4npTL+q/2BLQ3/Lj678ligE6O1Htv/AoRTGGc+6/gEDHPe1H77+67F0TUczvv1LsNw9f/++//z0MmpTg77+k6yJ2QHDvvzOZ4PWBr+6/uSLYHEag7b/XJLqyQkXsvzcSvFTvoeq/cAUyl3y66L9XsApOyZPmv7T1lhdWM+S/oMd6STef4b/K347HCrzdvxu9C2SY7de/wKKwivHh0b9c+zPXGVHHvx3NvttYRbW/fj/Lwqk3kT8sKjUvK9a9PzzLxkANics/kgnpL0vw0z/8iDWkD+nZPwkR6pqNn98/vxrYG5SC4j8ICm3CCAblP4tjZOG2U+c/D8njJbpl6T9JdB3cxjbrP/YpBXs3wuw/MK78hhgE7j8P+BCtMvnuP1hU7vwSn+8/L7eALBH07z+pXzrVU/fvP3vPKKDSqO8/Z7RJW1YJ7z8uM+n3dhruP09hK3eX3uw/mvctz99Y6z/82V/YNI3pPy2xtFcugOc/96EuPws35T/d0spCpLfiP4A3I+RcCOA/kS8MNiZg2j8X2Z+JG2zUP2ub1R2oh8w/UCzOvj7cvz/iQUSoul6ZP3onpJQaPbO/KLcVCFdQxr9zobGuhmTRvwJus+BkdNe/cLYgoURI3b8=\",\"dtype\":\"float64\",\"order\":\"little\",\"shape\":[100]}},\"selected\":{\"id\":\"3011\"},\"selection_policy\":{\"id\":\"3012\"}},\"id\":\"2869\",\"type\":\"ColumnDataSource\"},{\"attributes\":{\"data_source\":{\"id\":\"2869\"},\"glyph\":{\"id\":\"2870\"},\"hover_glyph\":null,\"muted_glyph\":null,\"nonselection_glyph\":{\"id\":\"2871\"},\"view\":{\"id\":\"2873\"}},\"id\":\"2872\",\"type\":\"GlyphRenderer\"},{\"attributes\":{\"line_color\":\"red\",\"line_width\":2,\"x\":{\"field\":\"x\"},\"y\":{\"field\":\"y\"}},\"id\":\"2870\",\"type\":\"Line\"},{\"attributes\":{\"formatter\":{\"id\":\"3009\"},\"major_label_policy\":{\"id\":\"3008\"},\"ticker\":{\"id\":\"2852\"}},\"id\":\"2851\",\"type\":\"LinearAxis\"},{\"attributes\":{},\"id\":\"3008\",\"type\":\"AllLabels\"},{\"attributes\":{},\"id\":\"3009\",\"type\":\"BasicTickFormatter\"},{\"attributes\":{\"formatter\":{\"id\":\"3006\"},\"major_label_policy\":{\"id\":\"3005\"},\"ticker\":{\"id\":\"2848\"}},\"id\":\"2847\",\"type\":\"LinearAxis\"},{\"attributes\":{\"end\":10},\"id\":\"2839\",\"type\":\"Range1d\"},{\"attributes\":{},\"id\":\"2845\",\"type\":\"LinearScale\"},{\"attributes\":{},\"id\":\"2843\",\"type\":\"LinearScale\"},{\"attributes\":{},\"id\":\"2860\",\"type\":\"HelpTool\"},{\"attributes\":{},\"id\":\"2841\",\"type\":\"DataRange1d\"},{\"attributes\":{},\"id\":\"2848\",\"type\":\"BasicTicker\"},{\"attributes\":{\"axis\":{\"id\":\"2847\"},\"ticker\":null},\"id\":\"2850\",\"type\":\"Grid\"},{\"attributes\":{\"axis\":{\"id\":\"2851\"},\"dimension\":1,\"ticker\":null},\"id\":\"2854\",\"type\":\"Grid\"},{\"attributes\":{},\"id\":\"2852\",\"type\":\"BasicTicker\"},{\"attributes\":{\"active_multi\":null,\"tools\":[{\"id\":\"2855\"},{\"id\":\"2856\"},{\"id\":\"2857\"},{\"id\":\"2858\"},{\"id\":\"2859\"},{\"id\":\"2860\"}]},\"id\":\"2862\",\"type\":\"Toolbar\"},{\"attributes\":{},\"id\":\"3003\",\"type\":\"Title\"},{\"attributes\":{},\"id\":\"2856\",\"type\":\"WheelZoomTool\"},{\"attributes\":{\"source\":{\"id\":\"2869\"}},\"id\":\"2873\",\"type\":\"CDSView\"},{\"attributes\":{},\"id\":\"2855\",\"type\":\"PanTool\"},{\"attributes\":{\"line_alpha\":0.1,\"line_color\":\"red\",\"line_width\":2,\"x\":{\"field\":\"x\"},\"y\":{\"field\":\"y\"}},\"id\":\"2871\",\"type\":\"Line\"},{\"attributes\":{\"overlay\":{\"id\":\"2861\"}},\"id\":\"2857\",\"type\":\"BoxZoomTool\"},{\"attributes\":{},\"id\":\"2858\",\"type\":\"SaveTool\"},{\"attributes\":{},\"id\":\"2859\",\"type\":\"ResetTool\"}],\"root_ids\":[\"2838\"]},\"title\":\"Bokeh Application\",\"version\":\"2.3.2\"}};\n",
       "  var render_items = [{\"docid\":\"247437c4-62f3-48cd-9ea0-f05cba63cf22\",\"root_ids\":[\"2838\"],\"roots\":{\"2838\":\"5c04d5e3-6ec2-4f01-9b32-20055f9f77a8\"}}];\n",
       "  root.Bokeh.embed.embed_items_notebook(docs_json, render_items);\n",
       "\n",
       "  }\n",
       "  if (root.Bokeh !== undefined) {\n",
       "    embed_document(root);\n",
       "  } else {\n",
       "    var attempts = 0;\n",
       "    var timer = setInterval(function(root) {\n",
       "      if (root.Bokeh !== undefined) {\n",
       "        clearInterval(timer);\n",
       "        embed_document(root);\n",
       "      } else {\n",
       "        attempts++;\n",
       "        if (attempts > 100) {\n",
       "          clearInterval(timer);\n",
       "          console.log(\"Bokeh: ERROR: Unable to run BokehJS code because BokehJS library is missing\");\n",
       "        }\n",
       "      }\n",
       "    }, 10, root)\n",
       "  }\n",
       "})(window);"
      ],
      "application/vnd.bokehjs_exec.v0+json": ""
     },
     "metadata": {
      "application/vnd.bokehjs_exec.v0+json": {
       "id": "2838"
      }
     },
     "output_type": "display_data"
    }
   ],
   "source": [
    "p=figure(plot_width=600, plot_height=300, \n",
    "         toolbar_location=\"below\", \n",
    "         x_range=(0,10))\n",
    "p.line(x,y, color=\"red\", line_width=2)\n",
    "show(p)"
   ]
  },
  {
   "cell_type": "markdown",
   "metadata": {},
   "source": [
    "Note that the toolbar position clashes with the default axes. In this case, setting the `toolbar_sticky` option to `False` will move the toolbar outside of the area where the axis is drawn"
   ]
  },
  {
   "cell_type": "code",
   "execution_count": 17,
   "metadata": {},
   "outputs": [
    {
     "data": {
      "text/html": [
       "\n",
       "\n",
       "\n",
       "\n",
       "\n",
       "\n",
       "  <div class=\"bk-root\" id=\"bfd0f441-3de4-4e7d-9622-0d55f0acaa82\" data-root-id=\"3069\"></div>\n"
      ]
     },
     "metadata": {},
     "output_type": "display_data"
    },
    {
     "data": {
      "application/javascript": [
       "(function(root) {\n",
       "  function embed_document(root) {\n",
       "    \n",
       "  var docs_json = {\"ff2cfb35-1f1f-4caa-b578-6aecd262fce2\":{\"defs\":[],\"roots\":{\"references\":[{\"attributes\":{\"below\":[{\"id\":\"3078\"}],\"center\":[{\"id\":\"3081\"},{\"id\":\"3085\"}],\"height\":300,\"left\":[{\"id\":\"3082\"}],\"renderers\":[{\"id\":\"3103\"}],\"title\":{\"id\":\"3245\"},\"toolbar\":{\"id\":\"3093\"},\"toolbar_location\":\"above\",\"toolbar_sticky\":false,\"x_range\":{\"id\":\"3070\"},\"x_scale\":{\"id\":\"3074\"},\"y_range\":{\"id\":\"3072\"},\"y_scale\":{\"id\":\"3076\"}},\"id\":\"3069\",\"subtype\":\"Figure\",\"type\":\"Plot\"},{\"attributes\":{\"bottom_units\":\"screen\",\"fill_alpha\":0.5,\"fill_color\":\"lightgrey\",\"left_units\":\"screen\",\"level\":\"overlay\",\"line_alpha\":1.0,\"line_color\":\"black\",\"line_dash\":[4,4],\"line_width\":2,\"right_units\":\"screen\",\"syncable\":false,\"top_units\":\"screen\"},\"id\":\"3092\",\"type\":\"BoxAnnotation\"},{\"attributes\":{},\"id\":\"3087\",\"type\":\"WheelZoomTool\"},{\"attributes\":{\"active_multi\":null,\"tools\":[{\"id\":\"3086\"},{\"id\":\"3087\"},{\"id\":\"3088\"},{\"id\":\"3089\"},{\"id\":\"3090\"},{\"id\":\"3091\"}]},\"id\":\"3093\",\"type\":\"Toolbar\"},{\"attributes\":{},\"id\":\"3086\",\"type\":\"PanTool\"},{\"attributes\":{},\"id\":\"3247\",\"type\":\"AllLabels\"},{\"attributes\":{},\"id\":\"3089\",\"type\":\"SaveTool\"},{\"attributes\":{},\"id\":\"3248\",\"type\":\"BasicTickFormatter\"},{\"attributes\":{},\"id\":\"3090\",\"type\":\"ResetTool\"},{\"attributes\":{},\"id\":\"3254\",\"type\":\"UnionRenderers\"},{\"attributes\":{},\"id\":\"3072\",\"type\":\"DataRange1d\"},{\"attributes\":{\"data\":{\"x\":{\"__ndarray__\":\"AAAAAAAAAACamZmZmZm5P5qZmZmZmck/NDMzMzMz0z+amZmZmZnZPwAAAAAAAOA/NDMzMzMz4z9nZmZmZmbmP5qZmZmZmek/zczMzMzM7D8AAAAAAADwP5qZmZmZmfE/NDMzMzMz8z/NzMzMzMz0P2dmZmZmZvY/AAAAAAAA+D+amZmZmZn5PzQzMzMzM/s/zczMzMzM/D9nZmZmZmb+PwAAAAAAAABAzczMzMzMAECamZmZmZkBQGdmZmZmZgJANDMzMzMzA0AAAAAAAAAEQM3MzMzMzARAmpmZmZmZBUBnZmZmZmYGQDQzMzMzMwdAAAAAAAAACEDNzMzMzMwIQJqZmZmZmQlAZ2ZmZmZmCkA0MzMzMzMLQAAAAAAAAAxAzczMzMzMDECamZmZmZkNQGdmZmZmZg5ANDMzMzMzD0AAAAAAAAAQQGdmZmZmZhBAzczMzMzMEEAzMzMzMzMRQJqZmZmZmRFAAAAAAAAAEkBnZmZmZmYSQM3MzMzMzBJANDMzMzMzE0CamZmZmZkTQAAAAAAAABRAZ2ZmZmZmFEDNzMzMzMwUQDQzMzMzMxVAmpmZmZmZFUAAAAAAAAAWQGdmZmZmZhZAzczMzMzMFkA0MzMzMzMXQJqZmZmZmRdAAAAAAAAAGEBnZmZmZmYYQM3MzMzMzBhANDMzMzMzGUCamZmZmZkZQAAAAAAAABpAZ2ZmZmZmGkDNzMzMzMwaQDQzMzMzMxtAmpmZmZmZG0AAAAAAAAAcQGdmZmZmZhxAzczMzMzMHEA0MzMzMzMdQJqZmZmZmR1AAAAAAAAAHkBnZmZmZmYeQM3MzMzMzB5ANDMzMzMzH0CamZmZmZkfQAAAAAAAACBAMzMzMzMzIEBnZmZmZmYgQJqZmZmZmSBAzczMzMzMIEAAAAAAAAAhQDMzMzMzMyFAZ2ZmZmZmIUCamZmZmZkhQM3MzMzMzCFAAAAAAAAAIkAzMzMzMzMiQGdmZmZmZiJAmpmZmZmZIkDNzMzMzMwiQAAAAAAAACNANDMzMzMzI0BnZmZmZmYjQJqZmZmZmSNAzczMzMzMI0A=\",\"dtype\":\"float64\",\"order\":\"little\",\"shape\":[100]},\"y\":{\"__ndarray__\":\"AAAAAAAA8D/BF6j5EtfvP3pid5W0XO8/ugkv1B2S7j/4otvnVHntP1B9WwYoFew/FFtIPCZp6j+SnZ9SlnnoP2WYcd5rS+Y/HOKSljrk4z+MBrUPKErhPxFhxwa4B90/0Hk7lN4w1z9fTCposx7RPwNXE7x7wcU/p/nFT9Ubsj8zFl/Feuadv45sovT5fcC/eg4lT/UUzb+vRTS5xrDUvwVyU1cmotq/yp6YBLMn4L9wrYhLANXiv+QvMBciUuW/iNGQtLqY5799i4Xv96Lpv3D0gPaha+u/pgNmsyju7L9McFd3rybuv8pAo9sWEu+/0uWFvgSu778kplZH6vjvv7bLueIH8u+/tgunLG+Z778Cvl7DAvDuv18awQN09+2/WSzStD6y7L832X2toiPrv+io24SbT+m/58g0YtY657/BJNsGpurkv2QtajD1ZOK/HceK7G5g379TOxaSsabZv6rCYnxXq9O/aj1YVFv7yr+KjVkrB7a8vzRqUEM6X4m/f0BOWFVmtj9kFnwno9/HP9lKa3CFJ9I/q1zkjskw2D/uajdZLfzdP9wydD9vveE/jLAlb2dP5D9I1Ac8bK3mP4QKg4hv0eg/Kv4Nlve16j8ncqcGLVbsPylQ+T7nre0/9SJ4Cbe57j+0mElf73bvP86peUCs4+8/QXr8idf+7z+hTB69K8jvP8jDRbE0QO8/KsRBLk5o7j8b5bVyoELtP/fciK8a0us/SxJyhmsa6j8XINme9x/oP0ClHmnO5+U/6qAMLZ134z/EAYqEoNXgP32Ia88oEdw/L1xv5kUv1j/SFqwppBTQP57FwTTBocM/elqEfQugqz+rKlYyl42nv5QvY7++n8K/Ha+2b3Qsz7/FHg2XtrTVv3GhWaCtm9u/P65TPQOe4L+OsDp3rkPjv/sgzBoTuOW/3Dpjz+n057+NFS1WefTpv3nrDy6lseu/axmmpvon7b8KtdtAvFPuv5SkFEDrMe+/1J5iU0/A778TjzJDfP3vv0gM65TV6O+/s+4sG5CC77/lOLZuscvuv33uQFENxu2/GmQNAUF07L8=\",\"dtype\":\"float64\",\"order\":\"little\",\"shape\":[100]}},\"selected\":{\"id\":\"3253\"},\"selection_policy\":{\"id\":\"3254\"}},\"id\":\"3100\",\"type\":\"ColumnDataSource\"},{\"attributes\":{\"end\":10},\"id\":\"3070\",\"type\":\"Range1d\"},{\"attributes\":{},\"id\":\"3250\",\"type\":\"AllLabels\"},{\"attributes\":{\"axis\":{\"id\":\"3082\"},\"dimension\":1,\"ticker\":null},\"id\":\"3085\",\"type\":\"Grid\"},{\"attributes\":{\"data_source\":{\"id\":\"3100\"},\"glyph\":{\"id\":\"3101\"},\"hover_glyph\":null,\"muted_glyph\":null,\"nonselection_glyph\":{\"id\":\"3102\"},\"view\":{\"id\":\"3104\"}},\"id\":\"3103\",\"type\":\"GlyphRenderer\"},{\"attributes\":{},\"id\":\"3251\",\"type\":\"BasicTickFormatter\"},{\"attributes\":{\"source\":{\"id\":\"3100\"}},\"id\":\"3104\",\"type\":\"CDSView\"},{\"attributes\":{\"line_color\":\"DarkOrange\",\"line_width\":2,\"x\":{\"field\":\"x\"},\"y\":{\"field\":\"y\"}},\"id\":\"3101\",\"type\":\"Line\"},{\"attributes\":{},\"id\":\"3253\",\"type\":\"Selection\"},{\"attributes\":{\"line_alpha\":0.1,\"line_color\":\"DarkOrange\",\"line_width\":2,\"x\":{\"field\":\"x\"},\"y\":{\"field\":\"y\"}},\"id\":\"3102\",\"type\":\"Line\"},{\"attributes\":{\"formatter\":{\"id\":\"3248\"},\"major_label_policy\":{\"id\":\"3247\"},\"ticker\":{\"id\":\"3079\"}},\"id\":\"3078\",\"type\":\"LinearAxis\"},{\"attributes\":{},\"id\":\"3074\",\"type\":\"LinearScale\"},{\"attributes\":{\"formatter\":{\"id\":\"3251\"},\"major_label_policy\":{\"id\":\"3250\"},\"ticker\":{\"id\":\"3083\"}},\"id\":\"3082\",\"type\":\"LinearAxis\"},{\"attributes\":{},\"id\":\"3076\",\"type\":\"LinearScale\"},{\"attributes\":{},\"id\":\"3079\",\"type\":\"BasicTicker\"},{\"attributes\":{\"axis\":{\"id\":\"3078\"},\"ticker\":null},\"id\":\"3081\",\"type\":\"Grid\"},{\"attributes\":{},\"id\":\"3091\",\"type\":\"HelpTool\"},{\"attributes\":{},\"id\":\"3245\",\"type\":\"Title\"},{\"attributes\":{},\"id\":\"3083\",\"type\":\"BasicTicker\"},{\"attributes\":{\"overlay\":{\"id\":\"3092\"}},\"id\":\"3088\",\"type\":\"BoxZoomTool\"}],\"root_ids\":[\"3069\"]},\"title\":\"Bokeh Application\",\"version\":\"2.3.2\"}};\n",
       "  var render_items = [{\"docid\":\"ff2cfb35-1f1f-4caa-b578-6aecd262fce2\",\"root_ids\":[\"3069\"],\"roots\":{\"3069\":\"bfd0f441-3de4-4e7d-9622-0d55f0acaa82\"}}];\n",
       "  root.Bokeh.embed.embed_items_notebook(docs_json, render_items);\n",
       "\n",
       "  }\n",
       "  if (root.Bokeh !== undefined) {\n",
       "    embed_document(root);\n",
       "  } else {\n",
       "    var attempts = 0;\n",
       "    var timer = setInterval(function(root) {\n",
       "      if (root.Bokeh !== undefined) {\n",
       "        clearInterval(timer);\n",
       "        embed_document(root);\n",
       "      } else {\n",
       "        attempts++;\n",
       "        if (attempts > 100) {\n",
       "          clearInterval(timer);\n",
       "          console.log(\"Bokeh: ERROR: Unable to run BokehJS code because BokehJS library is missing\");\n",
       "        }\n",
       "      }\n",
       "    }, 10, root)\n",
       "  }\n",
       "})(window);"
      ],
      "application/vnd.bokehjs_exec.v0+json": ""
     },
     "metadata": {
      "application/vnd.bokehjs_exec.v0+json": {
       "id": "3069"
      }
     },
     "output_type": "display_data"
    }
   ],
   "source": [
    "x=np.arange(0,10,0.1)\n",
    "y=np.cos(x)\n",
    "p=figure(plot_width=600, plot_height=300, \n",
    "         toolbar_location=\"above\", \n",
    "         toolbar_sticky=False, \n",
    "         x_range=(0,10))\n",
    "p.line(x,y, color=\"DarkOrange\", line_width=2)\n",
    "show(p)"
   ]
  },
  {
   "cell_type": "code",
   "execution_count": null,
   "metadata": {},
   "outputs": [],
   "source": []
  }
 ],
 "metadata": {
  "kernelspec": {
   "display_name": "Python 3",
   "language": "python",
   "name": "python3"
  },
  "language_info": {
   "codemirror_mode": {
    "name": "ipython",
    "version": 3
   },
   "file_extension": ".py",
   "mimetype": "text/x-python",
   "name": "python",
   "nbconvert_exporter": "python",
   "pygments_lexer": "ipython3",
   "version": "3.8.5"
  }
 },
 "nbformat": 4,
 "nbformat_minor": 4
}
