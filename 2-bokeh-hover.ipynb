{
 "cells": [
  {
   "cell_type": "code",
   "execution_count": 1,
   "metadata": {},
   "outputs": [],
   "source": [
    "import numpy as np\n",
    "import pandas as pd\n",
    "from bokeh.io import output_notebook, show\n",
    "from bokeh.plotting import figure, ColumnDataSource\n",
    "from bokeh.models import HoverTool"
   ]
  },
  {
   "cell_type": "code",
   "execution_count": 2,
   "metadata": {},
   "outputs": [
    {
     "data": {
      "text/html": [
       "\n",
       "    <div class=\"bk-root\">\n",
       "        <a href=\"https://bokeh.org\" target=\"_blank\" class=\"bk-logo bk-logo-small bk-logo-notebook\"></a>\n",
       "        <span id=\"1002\">Loading BokehJS ...</span>\n",
       "    </div>"
      ]
     },
     "metadata": {},
     "output_type": "display_data"
    },
    {
     "data": {
      "application/javascript": [
       "\n",
       "(function(root) {\n",
       "  function now() {\n",
       "    return new Date();\n",
       "  }\n",
       "\n",
       "  var force = true;\n",
       "\n",
       "  if (typeof root._bokeh_onload_callbacks === \"undefined\" || force === true) {\n",
       "    root._bokeh_onload_callbacks = [];\n",
       "    root._bokeh_is_loading = undefined;\n",
       "  }\n",
       "\n",
       "  var JS_MIME_TYPE = 'application/javascript';\n",
       "  var HTML_MIME_TYPE = 'text/html';\n",
       "  var EXEC_MIME_TYPE = 'application/vnd.bokehjs_exec.v0+json';\n",
       "  var CLASS_NAME = 'output_bokeh rendered_html';\n",
       "\n",
       "  /**\n",
       "   * Render data to the DOM node\n",
       "   */\n",
       "  function render(props, node) {\n",
       "    var script = document.createElement(\"script\");\n",
       "    node.appendChild(script);\n",
       "  }\n",
       "\n",
       "  /**\n",
       "   * Handle when an output is cleared or removed\n",
       "   */\n",
       "  function handleClearOutput(event, handle) {\n",
       "    var cell = handle.cell;\n",
       "\n",
       "    var id = cell.output_area._bokeh_element_id;\n",
       "    var server_id = cell.output_area._bokeh_server_id;\n",
       "    // Clean up Bokeh references\n",
       "    if (id != null && id in Bokeh.index) {\n",
       "      Bokeh.index[id].model.document.clear();\n",
       "      delete Bokeh.index[id];\n",
       "    }\n",
       "\n",
       "    if (server_id !== undefined) {\n",
       "      // Clean up Bokeh references\n",
       "      var cmd = \"from bokeh.io.state import curstate; print(curstate().uuid_to_server['\" + server_id + \"'].get_sessions()[0].document.roots[0]._id)\";\n",
       "      cell.notebook.kernel.execute(cmd, {\n",
       "        iopub: {\n",
       "          output: function(msg) {\n",
       "            var id = msg.content.text.trim();\n",
       "            if (id in Bokeh.index) {\n",
       "              Bokeh.index[id].model.document.clear();\n",
       "              delete Bokeh.index[id];\n",
       "            }\n",
       "          }\n",
       "        }\n",
       "      });\n",
       "      // Destroy server and session\n",
       "      var cmd = \"import bokeh.io.notebook as ion; ion.destroy_server('\" + server_id + \"')\";\n",
       "      cell.notebook.kernel.execute(cmd);\n",
       "    }\n",
       "  }\n",
       "\n",
       "  /**\n",
       "   * Handle when a new output is added\n",
       "   */\n",
       "  function handleAddOutput(event, handle) {\n",
       "    var output_area = handle.output_area;\n",
       "    var output = handle.output;\n",
       "\n",
       "    // limit handleAddOutput to display_data with EXEC_MIME_TYPE content only\n",
       "    if ((output.output_type != \"display_data\") || (!Object.prototype.hasOwnProperty.call(output.data, EXEC_MIME_TYPE))) {\n",
       "      return\n",
       "    }\n",
       "\n",
       "    var toinsert = output_area.element.find(\".\" + CLASS_NAME.split(' ')[0]);\n",
       "\n",
       "    if (output.metadata[EXEC_MIME_TYPE][\"id\"] !== undefined) {\n",
       "      toinsert[toinsert.length - 1].firstChild.textContent = output.data[JS_MIME_TYPE];\n",
       "      // store reference to embed id on output_area\n",
       "      output_area._bokeh_element_id = output.metadata[EXEC_MIME_TYPE][\"id\"];\n",
       "    }\n",
       "    if (output.metadata[EXEC_MIME_TYPE][\"server_id\"] !== undefined) {\n",
       "      var bk_div = document.createElement(\"div\");\n",
       "      bk_div.innerHTML = output.data[HTML_MIME_TYPE];\n",
       "      var script_attrs = bk_div.children[0].attributes;\n",
       "      for (var i = 0; i < script_attrs.length; i++) {\n",
       "        toinsert[toinsert.length - 1].firstChild.setAttribute(script_attrs[i].name, script_attrs[i].value);\n",
       "        toinsert[toinsert.length - 1].firstChild.textContent = bk_div.children[0].textContent\n",
       "      }\n",
       "      // store reference to server id on output_area\n",
       "      output_area._bokeh_server_id = output.metadata[EXEC_MIME_TYPE][\"server_id\"];\n",
       "    }\n",
       "  }\n",
       "\n",
       "  function register_renderer(events, OutputArea) {\n",
       "\n",
       "    function append_mime(data, metadata, element) {\n",
       "      // create a DOM node to render to\n",
       "      var toinsert = this.create_output_subarea(\n",
       "        metadata,\n",
       "        CLASS_NAME,\n",
       "        EXEC_MIME_TYPE\n",
       "      );\n",
       "      this.keyboard_manager.register_events(toinsert);\n",
       "      // Render to node\n",
       "      var props = {data: data, metadata: metadata[EXEC_MIME_TYPE]};\n",
       "      render(props, toinsert[toinsert.length - 1]);\n",
       "      element.append(toinsert);\n",
       "      return toinsert\n",
       "    }\n",
       "\n",
       "    /* Handle when an output is cleared or removed */\n",
       "    events.on('clear_output.CodeCell', handleClearOutput);\n",
       "    events.on('delete.Cell', handleClearOutput);\n",
       "\n",
       "    /* Handle when a new output is added */\n",
       "    events.on('output_added.OutputArea', handleAddOutput);\n",
       "\n",
       "    /**\n",
       "     * Register the mime type and append_mime function with output_area\n",
       "     */\n",
       "    OutputArea.prototype.register_mime_type(EXEC_MIME_TYPE, append_mime, {\n",
       "      /* Is output safe? */\n",
       "      safe: true,\n",
       "      /* Index of renderer in `output_area.display_order` */\n",
       "      index: 0\n",
       "    });\n",
       "  }\n",
       "\n",
       "  // register the mime type if in Jupyter Notebook environment and previously unregistered\n",
       "  if (root.Jupyter !== undefined) {\n",
       "    var events = require('base/js/events');\n",
       "    var OutputArea = require('notebook/js/outputarea').OutputArea;\n",
       "\n",
       "    if (OutputArea.prototype.mime_types().indexOf(EXEC_MIME_TYPE) == -1) {\n",
       "      register_renderer(events, OutputArea);\n",
       "    }\n",
       "  }\n",
       "\n",
       "  \n",
       "  if (typeof (root._bokeh_timeout) === \"undefined\" || force === true) {\n",
       "    root._bokeh_timeout = Date.now() + 5000;\n",
       "    root._bokeh_failed_load = false;\n",
       "  }\n",
       "\n",
       "  var NB_LOAD_WARNING = {'data': {'text/html':\n",
       "     \"<div style='background-color: #fdd'>\\n\"+\n",
       "     \"<p>\\n\"+\n",
       "     \"BokehJS does not appear to have successfully loaded. If loading BokehJS from CDN, this \\n\"+\n",
       "     \"may be due to a slow or bad network connection. Possible fixes:\\n\"+\n",
       "     \"</p>\\n\"+\n",
       "     \"<ul>\\n\"+\n",
       "     \"<li>re-rerun `output_notebook()` to attempt to load from CDN again, or</li>\\n\"+\n",
       "     \"<li>use INLINE resources instead, as so:</li>\\n\"+\n",
       "     \"</ul>\\n\"+\n",
       "     \"<code>\\n\"+\n",
       "     \"from bokeh.resources import INLINE\\n\"+\n",
       "     \"output_notebook(resources=INLINE)\\n\"+\n",
       "     \"</code>\\n\"+\n",
       "     \"</div>\"}};\n",
       "\n",
       "  function display_loaded() {\n",
       "    var el = document.getElementById(\"1002\");\n",
       "    if (el != null) {\n",
       "      el.textContent = \"BokehJS is loading...\";\n",
       "    }\n",
       "    if (root.Bokeh !== undefined) {\n",
       "      if (el != null) {\n",
       "        el.textContent = \"BokehJS \" + root.Bokeh.version + \" successfully loaded.\";\n",
       "      }\n",
       "    } else if (Date.now() < root._bokeh_timeout) {\n",
       "      setTimeout(display_loaded, 100)\n",
       "    }\n",
       "  }\n",
       "\n",
       "\n",
       "  function run_callbacks() {\n",
       "    try {\n",
       "      root._bokeh_onload_callbacks.forEach(function(callback) {\n",
       "        if (callback != null)\n",
       "          callback();\n",
       "      });\n",
       "    } finally {\n",
       "      delete root._bokeh_onload_callbacks\n",
       "    }\n",
       "    console.debug(\"Bokeh: all callbacks have finished\");\n",
       "  }\n",
       "\n",
       "  function load_libs(css_urls, js_urls, callback) {\n",
       "    if (css_urls == null) css_urls = [];\n",
       "    if (js_urls == null) js_urls = [];\n",
       "\n",
       "    root._bokeh_onload_callbacks.push(callback);\n",
       "    if (root._bokeh_is_loading > 0) {\n",
       "      console.debug(\"Bokeh: BokehJS is being loaded, scheduling callback at\", now());\n",
       "      return null;\n",
       "    }\n",
       "    if (js_urls == null || js_urls.length === 0) {\n",
       "      run_callbacks();\n",
       "      return null;\n",
       "    }\n",
       "    console.debug(\"Bokeh: BokehJS not loaded, scheduling load and callback at\", now());\n",
       "    root._bokeh_is_loading = css_urls.length + js_urls.length;\n",
       "\n",
       "    function on_load() {\n",
       "      root._bokeh_is_loading--;\n",
       "      if (root._bokeh_is_loading === 0) {\n",
       "        console.debug(\"Bokeh: all BokehJS libraries/stylesheets loaded\");\n",
       "        run_callbacks()\n",
       "      }\n",
       "    }\n",
       "\n",
       "    function on_error(url) {\n",
       "      console.error(\"failed to load \" + url);\n",
       "    }\n",
       "\n",
       "    for (let i = 0; i < css_urls.length; i++) {\n",
       "      const url = css_urls[i];\n",
       "      const element = document.createElement(\"link\");\n",
       "      element.onload = on_load;\n",
       "      element.onerror = on_error.bind(null, url);\n",
       "      element.rel = \"stylesheet\";\n",
       "      element.type = \"text/css\";\n",
       "      element.href = url;\n",
       "      console.debug(\"Bokeh: injecting link tag for BokehJS stylesheet: \", url);\n",
       "      document.body.appendChild(element);\n",
       "    }\n",
       "\n",
       "    const hashes = {\"https://cdn.bokeh.org/bokeh/release/bokeh-2.3.2.min.js\": \"XypntL49z55iwGVUW4qsEu83zKL3XEcz0MjuGOQ9SlaaQ68X/g+k1FcioZi7oQAc\", \"https://cdn.bokeh.org/bokeh/release/bokeh-tables-2.3.2.min.js\": \"bEsM86IHGDTLCS0Zod8a8WM6Y4+lafAL/eSiyQcuPzinmWNgNO2/olUF0Z2Dkn5i\", \"https://cdn.bokeh.org/bokeh/release/bokeh-widgets-2.3.2.min.js\": \"TX0gSQTdXTTeScqxj6PVQxTiRW8DOoGVwinyi1D3kxv7wuxQ02XkOxv0xwiypcAH\"};\n",
       "\n",
       "    for (let i = 0; i < js_urls.length; i++) {\n",
       "      const url = js_urls[i];\n",
       "      const element = document.createElement('script');\n",
       "      element.onload = on_load;\n",
       "      element.onerror = on_error.bind(null, url);\n",
       "      element.async = false;\n",
       "      element.src = url;\n",
       "      if (url in hashes) {\n",
       "        element.crossOrigin = \"anonymous\";\n",
       "        element.integrity = \"sha384-\" + hashes[url];\n",
       "      }\n",
       "      console.debug(\"Bokeh: injecting script tag for BokehJS library: \", url);\n",
       "      document.head.appendChild(element);\n",
       "    }\n",
       "  };\n",
       "\n",
       "  function inject_raw_css(css) {\n",
       "    const element = document.createElement(\"style\");\n",
       "    element.appendChild(document.createTextNode(css));\n",
       "    document.body.appendChild(element);\n",
       "  }\n",
       "\n",
       "  \n",
       "  var js_urls = [\"https://cdn.bokeh.org/bokeh/release/bokeh-2.3.2.min.js\", \"https://cdn.bokeh.org/bokeh/release/bokeh-widgets-2.3.2.min.js\", \"https://cdn.bokeh.org/bokeh/release/bokeh-tables-2.3.2.min.js\"];\n",
       "  var css_urls = [];\n",
       "  \n",
       "\n",
       "  var inline_js = [\n",
       "    function(Bokeh) {\n",
       "      Bokeh.set_log_level(\"info\");\n",
       "    },\n",
       "    function(Bokeh) {\n",
       "    \n",
       "    \n",
       "    }\n",
       "  ];\n",
       "\n",
       "  function run_inline_js() {\n",
       "    \n",
       "    if (root.Bokeh !== undefined || force === true) {\n",
       "      \n",
       "    for (var i = 0; i < inline_js.length; i++) {\n",
       "      inline_js[i].call(root, root.Bokeh);\n",
       "    }\n",
       "    if (force === true) {\n",
       "        display_loaded();\n",
       "      }} else if (Date.now() < root._bokeh_timeout) {\n",
       "      setTimeout(run_inline_js, 100);\n",
       "    } else if (!root._bokeh_failed_load) {\n",
       "      console.log(\"Bokeh: BokehJS failed to load within specified timeout.\");\n",
       "      root._bokeh_failed_load = true;\n",
       "    } else if (force !== true) {\n",
       "      var cell = $(document.getElementById(\"1002\")).parents('.cell').data().cell;\n",
       "      cell.output_area.append_execute_result(NB_LOAD_WARNING)\n",
       "    }\n",
       "\n",
       "  }\n",
       "\n",
       "  if (root._bokeh_is_loading === 0) {\n",
       "    console.debug(\"Bokeh: BokehJS loaded, going straight to plotting\");\n",
       "    run_inline_js();\n",
       "  } else {\n",
       "    load_libs(css_urls, js_urls, function() {\n",
       "      console.debug(\"Bokeh: BokehJS plotting callback run at\", now());\n",
       "      run_inline_js();\n",
       "    });\n",
       "  }\n",
       "}(window));"
      ],
      "application/vnd.bokehjs_load.v0+json": "\n(function(root) {\n  function now() {\n    return new Date();\n  }\n\n  var force = true;\n\n  if (typeof root._bokeh_onload_callbacks === \"undefined\" || force === true) {\n    root._bokeh_onload_callbacks = [];\n    root._bokeh_is_loading = undefined;\n  }\n\n  \n\n  \n  if (typeof (root._bokeh_timeout) === \"undefined\" || force === true) {\n    root._bokeh_timeout = Date.now() + 5000;\n    root._bokeh_failed_load = false;\n  }\n\n  var NB_LOAD_WARNING = {'data': {'text/html':\n     \"<div style='background-color: #fdd'>\\n\"+\n     \"<p>\\n\"+\n     \"BokehJS does not appear to have successfully loaded. If loading BokehJS from CDN, this \\n\"+\n     \"may be due to a slow or bad network connection. Possible fixes:\\n\"+\n     \"</p>\\n\"+\n     \"<ul>\\n\"+\n     \"<li>re-rerun `output_notebook()` to attempt to load from CDN again, or</li>\\n\"+\n     \"<li>use INLINE resources instead, as so:</li>\\n\"+\n     \"</ul>\\n\"+\n     \"<code>\\n\"+\n     \"from bokeh.resources import INLINE\\n\"+\n     \"output_notebook(resources=INLINE)\\n\"+\n     \"</code>\\n\"+\n     \"</div>\"}};\n\n  function display_loaded() {\n    var el = document.getElementById(\"1002\");\n    if (el != null) {\n      el.textContent = \"BokehJS is loading...\";\n    }\n    if (root.Bokeh !== undefined) {\n      if (el != null) {\n        el.textContent = \"BokehJS \" + root.Bokeh.version + \" successfully loaded.\";\n      }\n    } else if (Date.now() < root._bokeh_timeout) {\n      setTimeout(display_loaded, 100)\n    }\n  }\n\n\n  function run_callbacks() {\n    try {\n      root._bokeh_onload_callbacks.forEach(function(callback) {\n        if (callback != null)\n          callback();\n      });\n    } finally {\n      delete root._bokeh_onload_callbacks\n    }\n    console.debug(\"Bokeh: all callbacks have finished\");\n  }\n\n  function load_libs(css_urls, js_urls, callback) {\n    if (css_urls == null) css_urls = [];\n    if (js_urls == null) js_urls = [];\n\n    root._bokeh_onload_callbacks.push(callback);\n    if (root._bokeh_is_loading > 0) {\n      console.debug(\"Bokeh: BokehJS is being loaded, scheduling callback at\", now());\n      return null;\n    }\n    if (js_urls == null || js_urls.length === 0) {\n      run_callbacks();\n      return null;\n    }\n    console.debug(\"Bokeh: BokehJS not loaded, scheduling load and callback at\", now());\n    root._bokeh_is_loading = css_urls.length + js_urls.length;\n\n    function on_load() {\n      root._bokeh_is_loading--;\n      if (root._bokeh_is_loading === 0) {\n        console.debug(\"Bokeh: all BokehJS libraries/stylesheets loaded\");\n        run_callbacks()\n      }\n    }\n\n    function on_error(url) {\n      console.error(\"failed to load \" + url);\n    }\n\n    for (let i = 0; i < css_urls.length; i++) {\n      const url = css_urls[i];\n      const element = document.createElement(\"link\");\n      element.onload = on_load;\n      element.onerror = on_error.bind(null, url);\n      element.rel = \"stylesheet\";\n      element.type = \"text/css\";\n      element.href = url;\n      console.debug(\"Bokeh: injecting link tag for BokehJS stylesheet: \", url);\n      document.body.appendChild(element);\n    }\n\n    const hashes = {\"https://cdn.bokeh.org/bokeh/release/bokeh-2.3.2.min.js\": \"XypntL49z55iwGVUW4qsEu83zKL3XEcz0MjuGOQ9SlaaQ68X/g+k1FcioZi7oQAc\", \"https://cdn.bokeh.org/bokeh/release/bokeh-tables-2.3.2.min.js\": \"bEsM86IHGDTLCS0Zod8a8WM6Y4+lafAL/eSiyQcuPzinmWNgNO2/olUF0Z2Dkn5i\", \"https://cdn.bokeh.org/bokeh/release/bokeh-widgets-2.3.2.min.js\": \"TX0gSQTdXTTeScqxj6PVQxTiRW8DOoGVwinyi1D3kxv7wuxQ02XkOxv0xwiypcAH\"};\n\n    for (let i = 0; i < js_urls.length; i++) {\n      const url = js_urls[i];\n      const element = document.createElement('script');\n      element.onload = on_load;\n      element.onerror = on_error.bind(null, url);\n      element.async = false;\n      element.src = url;\n      if (url in hashes) {\n        element.crossOrigin = \"anonymous\";\n        element.integrity = \"sha384-\" + hashes[url];\n      }\n      console.debug(\"Bokeh: injecting script tag for BokehJS library: \", url);\n      document.head.appendChild(element);\n    }\n  };\n\n  function inject_raw_css(css) {\n    const element = document.createElement(\"style\");\n    element.appendChild(document.createTextNode(css));\n    document.body.appendChild(element);\n  }\n\n  \n  var js_urls = [\"https://cdn.bokeh.org/bokeh/release/bokeh-2.3.2.min.js\", \"https://cdn.bokeh.org/bokeh/release/bokeh-widgets-2.3.2.min.js\", \"https://cdn.bokeh.org/bokeh/release/bokeh-tables-2.3.2.min.js\"];\n  var css_urls = [];\n  \n\n  var inline_js = [\n    function(Bokeh) {\n      Bokeh.set_log_level(\"info\");\n    },\n    function(Bokeh) {\n    \n    \n    }\n  ];\n\n  function run_inline_js() {\n    \n    if (root.Bokeh !== undefined || force === true) {\n      \n    for (var i = 0; i < inline_js.length; i++) {\n      inline_js[i].call(root, root.Bokeh);\n    }\n    if (force === true) {\n        display_loaded();\n      }} else if (Date.now() < root._bokeh_timeout) {\n      setTimeout(run_inline_js, 100);\n    } else if (!root._bokeh_failed_load) {\n      console.log(\"Bokeh: BokehJS failed to load within specified timeout.\");\n      root._bokeh_failed_load = true;\n    } else if (force !== true) {\n      var cell = $(document.getElementById(\"1002\")).parents('.cell').data().cell;\n      cell.output_area.append_execute_result(NB_LOAD_WARNING)\n    }\n\n  }\n\n  if (root._bokeh_is_loading === 0) {\n    console.debug(\"Bokeh: BokehJS loaded, going straight to plotting\");\n    run_inline_js();\n  } else {\n    load_libs(css_urls, js_urls, function() {\n      console.debug(\"Bokeh: BokehJS plotting callback run at\", now());\n      run_inline_js();\n    });\n  }\n}(window));"
     },
     "metadata": {},
     "output_type": "display_data"
    }
   ],
   "source": [
    "output_notebook()"
   ]
  },
  {
   "cell_type": "markdown",
   "metadata": {},
   "source": [
    "### Plotting data from Pandas DataFrames"
   ]
  },
  {
   "cell_type": "code",
   "execution_count": 3,
   "metadata": {},
   "outputs": [],
   "source": [
    "mpg=pd.read_csv(\"data/datacamp/mpg.csv\")"
   ]
  },
  {
   "cell_type": "code",
   "execution_count": 4,
   "metadata": {},
   "outputs": [
    {
     "data": {
      "text/plain": [
       "Index(['mpg', 'cylinders', 'displacement', 'horsepower', 'weight',\n",
       "       'acceleration', 'model_year', 'origin', 'name'],\n",
       "      dtype='object')"
      ]
     },
     "execution_count": 4,
     "metadata": {},
     "output_type": "execute_result"
    }
   ],
   "source": [
    "mpg.columns"
   ]
  },
  {
   "cell_type": "code",
   "execution_count": 5,
   "metadata": {},
   "outputs": [
    {
     "data": {
      "text/html": [
       "\n",
       "\n",
       "\n",
       "\n",
       "\n",
       "\n",
       "  <div class=\"bk-root\" id=\"c5f03aba-2590-4d88-ab00-0bc677fb5445\" data-root-id=\"1003\"></div>\n"
      ]
     },
     "metadata": {},
     "output_type": "display_data"
    },
    {
     "data": {
      "application/javascript": [
       "(function(root) {\n",
       "  function embed_document(root) {\n",
       "    \n",
       "  var docs_json = {\"f529be52-8c4c-4090-ad4c-9bb030b5bcc1\":{\"defs\":[],\"roots\":{\"references\":[{\"attributes\":{\"below\":[{\"id\":\"1012\"}],\"center\":[{\"id\":\"1015\"},{\"id\":\"1019\"}],\"height\":300,\"left\":[{\"id\":\"1016\"}],\"renderers\":[{\"id\":\"1037\"}],\"title\":{\"id\":\"1039\"},\"toolbar\":{\"id\":\"1027\"},\"x_range\":{\"id\":\"1004\"},\"x_scale\":{\"id\":\"1008\"},\"y_range\":{\"id\":\"1006\"},\"y_scale\":{\"id\":\"1010\"}},\"id\":\"1003\",\"subtype\":\"Figure\",\"type\":\"Plot\"},{\"attributes\":{\"axis_label\":\"MPG\",\"formatter\":{\"id\":\"1045\"},\"major_label_policy\":{\"id\":\"1046\"},\"ticker\":{\"id\":\"1017\"}},\"id\":\"1016\",\"type\":\"LinearAxis\"},{\"attributes\":{},\"id\":\"1049\",\"type\":\"UnionRenderers\"},{\"attributes\":{},\"id\":\"1017\",\"type\":\"BasicTicker\"},{\"attributes\":{\"axis\":{\"id\":\"1016\"},\"dimension\":1,\"ticker\":null},\"id\":\"1019\",\"type\":\"Grid\"},{\"attributes\":{\"fill_color\":{\"value\":\"#1f77b4\"},\"line_color\":{\"value\":\"#1f77b4\"},\"size\":{\"value\":10},\"x\":{\"field\":\"x\"},\"y\":{\"field\":\"y\"}},\"id\":\"1035\",\"type\":\"Circle\"},{\"attributes\":{},\"id\":\"1025\",\"type\":\"HelpTool\"},{\"attributes\":{},\"id\":\"1020\",\"type\":\"PanTool\"},{\"attributes\":{\"overlay\":{\"id\":\"1026\"}},\"id\":\"1022\",\"type\":\"BoxZoomTool\"},{\"attributes\":{\"source\":{\"id\":\"1034\"}},\"id\":\"1038\",\"type\":\"CDSView\"},{\"attributes\":{},\"id\":\"1023\",\"type\":\"SaveTool\"},{\"attributes\":{\"fill_alpha\":{\"value\":0.1},\"fill_color\":{\"value\":\"#1f77b4\"},\"line_alpha\":{\"value\":0.1},\"line_color\":{\"value\":\"#1f77b4\"},\"size\":{\"value\":10},\"x\":{\"field\":\"x\"},\"y\":{\"field\":\"y\"}},\"id\":\"1036\",\"type\":\"Circle\"},{\"attributes\":{},\"id\":\"1024\",\"type\":\"ResetTool\"},{\"attributes\":{\"data\":{\"x\":{\"__ndarray__\":\"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\",\"dtype\":\"float64\",\"order\":\"little\",\"shape\":[398]},\"y\":{\"__ndarray__\":\"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\",\"dtype\":\"float64\",\"order\":\"little\",\"shape\":[398]}},\"selected\":{\"id\":\"1048\"},\"selection_policy\":{\"id\":\"1049\"}},\"id\":\"1034\",\"type\":\"ColumnDataSource\"},{\"attributes\":{},\"id\":\"1045\",\"type\":\"BasicTickFormatter\"},{\"attributes\":{},\"id\":\"1046\",\"type\":\"AllLabels\"},{\"attributes\":{\"data_source\":{\"id\":\"1034\"},\"glyph\":{\"id\":\"1035\"},\"hover_glyph\":null,\"muted_glyph\":null,\"nonselection_glyph\":{\"id\":\"1036\"},\"view\":{\"id\":\"1038\"}},\"id\":\"1037\",\"type\":\"GlyphRenderer\"},{\"attributes\":{},\"id\":\"1039\",\"type\":\"Title\"},{\"attributes\":{\"bottom_units\":\"screen\",\"fill_alpha\":0.5,\"fill_color\":\"lightgrey\",\"left_units\":\"screen\",\"level\":\"overlay\",\"line_alpha\":1.0,\"line_color\":\"black\",\"line_dash\":[4,4],\"line_width\":2,\"right_units\":\"screen\",\"syncable\":false,\"top_units\":\"screen\"},\"id\":\"1026\",\"type\":\"BoxAnnotation\"},{\"attributes\":{},\"id\":\"1006\",\"type\":\"DataRange1d\"},{\"attributes\":{},\"id\":\"1004\",\"type\":\"DataRange1d\"},{\"attributes\":{},\"id\":\"1008\",\"type\":\"LinearScale\"},{\"attributes\":{},\"id\":\"1021\",\"type\":\"WheelZoomTool\"},{\"attributes\":{},\"id\":\"1048\",\"type\":\"Selection\"},{\"attributes\":{},\"id\":\"1010\",\"type\":\"LinearScale\"},{\"attributes\":{},\"id\":\"1013\",\"type\":\"BasicTicker\"},{\"attributes\":{},\"id\":\"1042\",\"type\":\"BasicTickFormatter\"},{\"attributes\":{\"axis_label\":\"HP\",\"formatter\":{\"id\":\"1042\"},\"major_label_policy\":{\"id\":\"1043\"},\"ticker\":{\"id\":\"1013\"}},\"id\":\"1012\",\"type\":\"LinearAxis\"},{\"attributes\":{},\"id\":\"1043\",\"type\":\"AllLabels\"},{\"attributes\":{\"axis\":{\"id\":\"1012\"},\"ticker\":null},\"id\":\"1015\",\"type\":\"Grid\"},{\"attributes\":{\"active_multi\":null,\"tools\":[{\"id\":\"1020\"},{\"id\":\"1021\"},{\"id\":\"1022\"},{\"id\":\"1023\"},{\"id\":\"1024\"},{\"id\":\"1025\"}]},\"id\":\"1027\",\"type\":\"Toolbar\"}],\"root_ids\":[\"1003\"]},\"title\":\"Bokeh Application\",\"version\":\"2.3.2\"}};\n",
       "  var render_items = [{\"docid\":\"f529be52-8c4c-4090-ad4c-9bb030b5bcc1\",\"root_ids\":[\"1003\"],\"roots\":{\"1003\":\"c5f03aba-2590-4d88-ab00-0bc677fb5445\"}}];\n",
       "  root.Bokeh.embed.embed_items_notebook(docs_json, render_items);\n",
       "\n",
       "  }\n",
       "  if (root.Bokeh !== undefined) {\n",
       "    embed_document(root);\n",
       "  } else {\n",
       "    var attempts = 0;\n",
       "    var timer = setInterval(function(root) {\n",
       "      if (root.Bokeh !== undefined) {\n",
       "        clearInterval(timer);\n",
       "        embed_document(root);\n",
       "      } else {\n",
       "        attempts++;\n",
       "        if (attempts > 100) {\n",
       "          clearInterval(timer);\n",
       "          console.log(\"Bokeh: ERROR: Unable to run BokehJS code because BokehJS library is missing\");\n",
       "        }\n",
       "      }\n",
       "    }, 10, root)\n",
       "  }\n",
       "})(window);"
      ],
      "application/vnd.bokehjs_exec.v0+json": ""
     },
     "metadata": {
      "application/vnd.bokehjs_exec.v0+json": {
       "id": "1003"
      }
     },
     "output_type": "display_data"
    }
   ],
   "source": [
    "p=figure(plot_width=600, plot_height=300, \n",
    "         x_axis_label=\"HP\", \n",
    "         y_axis_label=\"MPG\")\n",
    "p.circle(x=mpg[\"horsepower\"], y=mpg[\"mpg\"], size=10)\n",
    "show(p)"
   ]
  },
  {
   "cell_type": "markdown",
   "metadata": {},
   "source": [
    "### The Bokeh ColumnDataSource"
   ]
  },
  {
   "cell_type": "code",
   "execution_count": 6,
   "metadata": {},
   "outputs": [
    {
     "data": {
      "text/html": [
       "\n",
       "\n",
       "\n",
       "\n",
       "\n",
       "\n",
       "  <div class=\"bk-root\" id=\"f62fed4a-fa1a-4054-8864-c4dbf3a2e744\" data-root-id=\"1106\"></div>\n"
      ]
     },
     "metadata": {},
     "output_type": "display_data"
    },
    {
     "data": {
      "application/javascript": [
       "(function(root) {\n",
       "  function embed_document(root) {\n",
       "    \n",
       "  var docs_json = {\"96f8d02c-f7a9-48c8-b1ac-35941a12302a\":{\"defs\":[],\"roots\":{\"references\":[{\"attributes\":{\"below\":[{\"id\":\"1115\"}],\"center\":[{\"id\":\"1118\"},{\"id\":\"1122\"}],\"height\":300,\"left\":[{\"id\":\"1119\"}],\"renderers\":[{\"id\":\"1140\"}],\"title\":{\"id\":\"1153\"},\"toolbar\":{\"id\":\"1130\"},\"x_range\":{\"id\":\"1107\"},\"x_scale\":{\"id\":\"1111\"},\"y_range\":{\"id\":\"1109\"},\"y_scale\":{\"id\":\"1113\"}},\"id\":\"1106\",\"subtype\":\"Figure\",\"type\":\"Plot\"},{\"attributes\":{},\"id\":\"1120\",\"type\":\"BasicTicker\"},{\"attributes\":{},\"id\":\"1127\",\"type\":\"ResetTool\"},{\"attributes\":{\"fill_color\":{\"value\":\"#1f77b4\"},\"line_color\":{\"value\":\"#1f77b4\"},\"x\":{\"field\":\"horsepower\"},\"y\":{\"field\":\"mpg\"}},\"id\":\"1138\",\"type\":\"Circle\"},{\"attributes\":{},\"id\":\"1113\",\"type\":\"LinearScale\"},{\"attributes\":{\"axis_label\":\"MPG\",\"formatter\":{\"id\":\"1159\"},\"major_label_policy\":{\"id\":\"1160\"},\"ticker\":{\"id\":\"1120\"}},\"id\":\"1119\",\"type\":\"LinearAxis\"},{\"attributes\":{\"axis\":{\"id\":\"1119\"},\"dimension\":1,\"ticker\":null},\"id\":\"1122\",\"type\":\"Grid\"},{\"attributes\":{\"bottom_units\":\"screen\",\"fill_alpha\":0.5,\"fill_color\":\"lightgrey\",\"left_units\":\"screen\",\"level\":\"overlay\",\"line_alpha\":1.0,\"line_color\":\"black\",\"line_dash\":[4,4],\"line_width\":2,\"right_units\":\"screen\",\"syncable\":false,\"top_units\":\"screen\"},\"id\":\"1129\",\"type\":\"BoxAnnotation\"},{\"attributes\":{},\"id\":\"1107\",\"type\":\"DataRange1d\"},{\"attributes\":{},\"id\":\"1128\",\"type\":\"HelpTool\"},{\"attributes\":{},\"id\":\"1156\",\"type\":\"BasicTickFormatter\"},{\"attributes\":{},\"id\":\"1157\",\"type\":\"AllLabels\"},{\"attributes\":{},\"id\":\"1116\",\"type\":\"BasicTicker\"},{\"attributes\":{\"active_multi\":null,\"tools\":[{\"id\":\"1123\"},{\"id\":\"1124\"},{\"id\":\"1125\"},{\"id\":\"1126\"},{\"id\":\"1127\"},{\"id\":\"1128\"}]},\"id\":\"1130\",\"type\":\"Toolbar\"},{\"attributes\":{},\"id\":\"1124\",\"type\":\"WheelZoomTool\"},{\"attributes\":{\"overlay\":{\"id\":\"1129\"}},\"id\":\"1125\",\"type\":\"BoxZoomTool\"},{\"attributes\":{},\"id\":\"1126\",\"type\":\"SaveTool\"},{\"attributes\":{\"data\":{\"acceleration\":{\"__ndarray__\":\"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\",\"dtype\":\"float64\",\"order\":\"little\",\"shape\":[398]},\"cylinders\":[8,8,8,8,8,8,8,8,8,8,8,8,8,8,4,6,6,6,4,4,4,4,4,4,6,8,8,8,8,4,4,4,4,6,6,6,6,6,8,8,8,8,8,8,8,6,4,6,6,4,4,4,4,4,4,4,4,4,4,4,4,4,8,8,8,8,8,8,8,8,8,3,8,8,8,8,4,4,4,4,4,4,4,4,4,8,8,8,8,8,8,8,8,8,8,8,8,6,6,6,6,6,4,8,8,8,8,6,4,4,4,3,4,6,4,8,8,4,4,4,4,8,4,6,8,6,6,6,6,4,4,4,4,6,6,6,8,8,8,8,8,4,4,4,4,4,4,4,4,4,4,4,6,6,6,6,8,8,8,8,6,6,6,6,6,8,8,4,4,6,4,4,4,4,6,4,6,4,4,4,4,4,4,4,4,4,4,8,8,8,8,6,6,6,6,4,4,4,4,6,6,6,6,4,4,4,4,4,8,4,6,6,8,8,8,8,4,4,4,4,4,8,8,8,8,6,6,6,6,8,8,8,8,4,4,4,4,4,4,4,4,6,4,3,4,4,4,4,4,8,8,8,6,6,6,4,6,6,6,6,6,6,8,6,8,8,4,4,4,4,4,4,4,4,5,6,4,6,4,4,6,6,4,6,6,8,8,8,8,8,8,8,8,4,4,4,4,5,8,4,8,4,4,4,4,4,6,6,4,4,4,4,4,4,4,4,6,4,4,4,4,4,4,4,4,4,4,5,4,4,4,4,4,6,3,4,4,4,4,4,4,6,4,4,4,4,4,4,4,4,4,4,4,4,4,4,4,4,4,4,6,6,6,6,8,6,6,4,4,4,4,4,4,4,4,4,4,4,4,4,4,4,4,4,4,4,6,6,4,6,4,4,4,4,4,4,4,4],\"displacement\":{\"__ndarray__\":\"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\",\"dtype\":\"float64\",\"order\":\"little\",\"shape\":[398]},\"horsepower\":{\"__ndarray__\":\"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\",\"dtype\":\"float64\",\"order\":\"little\",\"shape\":[398]},\"index\":[0,1,2,3,4,5,6,7,8,9,10,11,12,13,14,15,16,17,18,19,20,21,22,23,24,25,26,27,28,29,30,31,32,33,34,35,36,37,38,39,40,41,42,43,44,45,46,47,48,49,50,51,52,53,54,55,56,57,58,59,60,61,62,63,64,65,66,67,68,69,70,71,72,73,74,75,76,77,78,79,80,81,82,83,84,85,86,87,88,89,90,91,92,93,94,95,96,97,98,99,100,101,102,103,104,105,106,107,108,109,110,111,112,113,114,115,116,117,118,119,120,121,122,123,124,125,126,127,128,129,130,131,132,133,134,135,136,137,138,139,140,141,142,143,144,145,146,147,148,149,150,151,152,153,154,155,156,157,158,159,160,161,162,163,164,165,166,167,168,169,170,171,172,173,174,175,176,177,178,179,180,181,182,183,184,185,186,187,188,189,190,191,192,193,194,195,196,197,198,199,200,201,202,203,204,205,206,207,208,209,210,211,212,213,214,215,216,217,218,219,220,221,222,223,224,225,226,227,228,229,230,231,232,233,234,235,236,237,238,239,240,241,242,243,244,245,246,247,248,249,250,251,252,253,254,255,256,257,258,259,260,261,262,263,264,265,266,267,268,269,270,271,272,273,274,275,276,277,278,279,280,281,282,283,284,285,286,287,288,289,290,291,292,293,294,295,296,297,298,299,300,301,302,303,304,305,306,307,308,309,310,311,312,313,314,315,316,317,318,319,320,321,322,323,324,325,326,327,328,329,330,331,332,333,334,335,336,337,338,339,340,341,342,343,344,345,346,347,348,349,350,351,352,353,354,355,356,357,358,359,360,361,362,363,364,365,366,367,368,369,370,371,372,373,374,375,376,377,378,379,380,381,382,383,384,385,386,387,388,389,390,391,392,393,394,395,396,397],\"model_year\":[70,70,70,70,70,70,70,70,70,70,70,70,70,70,70,70,70,70,70,70,70,70,70,70,70,70,70,70,70,71,71,71,71,71,71,71,71,71,71,71,71,71,71,71,71,71,71,71,71,71,71,71,71,71,71,71,71,72,72,72,72,72,72,72,72,72,72,72,72,72,72,72,72,72,72,72,72,72,72,72,72,72,72,72,72,73,73,73,73,73,73,73,73,73,73,73,73,73,73,73,73,73,73,73,73,73,73,73,73,73,73,73,73,73,73,73,73,73,73,73,73,73,73,73,73,74,74,74,74,74,74,74,74,74,74,74,74,74,74,74,74,74,74,74,74,74,74,74,74,74,74,74,75,75,75,75,75,75,75,75,75,75,75,75,75,75,75,75,75,75,75,75,75,75,75,75,75,75,75,75,75,75,76,76,76,76,76,76,76,76,76,76,76,76,76,76,76,76,76,76,76,76,76,76,76,76,76,76,76,76,76,76,76,76,76,76,77,77,77,77,77,77,77,77,77,77,77,77,77,77,77,77,77,77,77,77,77,77,77,77,77,77,77,77,78,78,78,78,78,78,78,78,78,78,78,78,78,78,78,78,78,78,78,78,78,78,78,78,78,78,78,78,78,78,78,78,78,78,78,78,79,79,79,79,79,79,79,79,79,79,79,79,79,79,79,79,79,79,79,79,79,79,79,79,79,79,79,79,79,80,80,80,80,80,80,80,80,80,80,80,80,80,80,80,80,80,80,80,80,80,80,80,80,80,80,80,80,80,81,81,81,81,81,81,81,81,81,81,81,81,81,81,81,81,81,81,81,81,81,81,81,81,81,81,81,81,81,82,82,82,82,82,82,82,82,82,82,82,82,82,82,82,82,82,82,82,82,82,82,82,82,82,82,82,82,82,82,82],\"mpg\":{\"__ndarray__\":\"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\",\"dtype\":\"float64\",\"order\":\"little\",\"shape\":[398]},\"name\":[\"chevrolet chevelle malibu\",\"buick skylark 320\",\"plymouth satellite\",\"amc rebel sst\",\"ford torino\",\"ford galaxie 500\",\"chevrolet impala\",\"plymouth fury iii\",\"pontiac catalina\",\"amc ambassador dpl\",\"dodge challenger se\",\"plymouth 'cuda 340\",\"chevrolet monte carlo\",\"buick estate wagon (sw)\",\"toyota corona mark ii\",\"plymouth duster\",\"amc hornet\",\"ford maverick\",\"datsun pl510\",\"volkswagen 1131 deluxe sedan\",\"peugeot 504\",\"audi 100 ls\",\"saab 99e\",\"bmw 2002\",\"amc gremlin\",\"ford f250\",\"chevy c20\",\"dodge d200\",\"hi 1200d\",\"datsun pl510\",\"chevrolet vega 2300\",\"toyota corona\",\"ford pinto\",\"amc gremlin\",\"plymouth satellite custom\",\"chevrolet chevelle malibu\",\"ford torino 500\",\"amc matador\",\"chevrolet impala\",\"pontiac catalina brougham\",\"ford galaxie 500\",\"plymouth fury iii\",\"dodge monaco (sw)\",\"ford country squire (sw)\",\"pontiac safari (sw)\",\"amc hornet sportabout (sw)\",\"chevrolet vega (sw)\",\"pontiac firebird\",\"ford mustang\",\"mercury capri 2000\",\"opel 1900\",\"peugeot 304\",\"fiat 124b\",\"toyota corolla 1200\",\"datsun 1200\",\"volkswagen model 111\",\"plymouth cricket\",\"toyota corona hardtop\",\"dodge colt hardtop\",\"volkswagen type 3\",\"chevrolet vega\",\"ford pinto runabout\",\"chevrolet impala\",\"pontiac catalina\",\"plymouth fury iii\",\"ford galaxie 500\",\"amc ambassador sst\",\"mercury marquis\",\"buick lesabre custom\",\"oldsmobile delta 88 royale\",\"chrysler newport royal\",\"mazda rx2 coupe\",\"amc matador (sw)\",\"chevrolet chevelle concours (sw)\",\"ford gran torino (sw)\",\"plymouth satellite custom (sw)\",\"volvo 145e (sw)\",\"volkswagen 411 (sw)\",\"peugeot 504 (sw)\",\"renault 12 (sw)\",\"ford pinto (sw)\",\"datsun 510 (sw)\",\"toyouta corona mark ii (sw)\",\"dodge colt (sw)\",\"toyota corolla 1600 (sw)\",\"buick century 350\",\"amc matador\",\"chevrolet malibu\",\"ford gran torino\",\"dodge coronet custom\",\"mercury marquis brougham\",\"chevrolet caprice classic\",\"ford ltd\",\"plymouth fury gran sedan\",\"chrysler new yorker brougham\",\"buick electra 225 custom\",\"amc ambassador brougham\",\"plymouth valiant\",\"chevrolet nova custom\",\"amc hornet\",\"ford maverick\",\"plymouth duster\",\"volkswagen super beetle\",\"chevrolet impala\",\"ford country\",\"plymouth custom suburb\",\"oldsmobile vista cruiser\",\"amc gremlin\",\"toyota carina\",\"chevrolet vega\",\"datsun 610\",\"maxda rx3\",\"ford pinto\",\"mercury capri v6\",\"fiat 124 sport coupe\",\"chevrolet monte carlo s\",\"pontiac grand prix\",\"fiat 128\",\"opel manta\",\"audi 100ls\",\"volvo 144ea\",\"dodge dart custom\",\"saab 99le\",\"toyota mark ii\",\"oldsmobile omega\",\"plymouth duster\",\"ford maverick\",\"amc hornet\",\"chevrolet nova\",\"datsun b210\",\"ford pinto\",\"toyota corolla 1200\",\"chevrolet vega\",\"chevrolet chevelle malibu classic\",\"amc matador\",\"plymouth satellite sebring\",\"ford gran torino\",\"buick century luxus (sw)\",\"dodge coronet custom (sw)\",\"ford gran torino (sw)\",\"amc matador (sw)\",\"audi fox\",\"volkswagen dasher\",\"opel manta\",\"toyota corona\",\"datsun 710\",\"dodge colt\",\"fiat 128\",\"fiat 124 tc\",\"honda civic\",\"subaru\",\"fiat x1.9\",\"plymouth valiant custom\",\"chevrolet nova\",\"mercury monarch\",\"ford maverick\",\"pontiac catalina\",\"chevrolet bel air\",\"plymouth grand fury\",\"ford ltd\",\"buick century\",\"chevroelt chevelle malibu\",\"amc matador\",\"plymouth fury\",\"buick skyhawk\",\"chevrolet monza 2+2\",\"ford mustang ii\",\"toyota corolla\",\"ford pinto\",\"amc gremlin\",\"pontiac astro\",\"toyota corona\",\"volkswagen dasher\",\"datsun 710\",\"ford pinto\",\"volkswagen rabbit\",\"amc pacer\",\"audi 100ls\",\"peugeot 504\",\"volvo 244dl\",\"saab 99le\",\"honda civic cvcc\",\"fiat 131\",\"opel 1900\",\"capri ii\",\"dodge colt\",\"renault 12tl\",\"chevrolet chevelle malibu classic\",\"dodge coronet brougham\",\"amc matador\",\"ford gran torino\",\"plymouth valiant\",\"chevrolet nova\",\"ford maverick\",\"amc hornet\",\"chevrolet chevette\",\"chevrolet woody\",\"vw rabbit\",\"honda civic\",\"dodge aspen se\",\"ford granada ghia\",\"pontiac ventura sj\",\"amc pacer d/l\",\"volkswagen rabbit\",\"datsun b-210\",\"toyota corolla\",\"ford pinto\",\"volvo 245\",\"plymouth volare premier v8\",\"peugeot 504\",\"toyota mark ii\",\"mercedes-benz 280s\",\"cadillac seville\",\"chevy c10\",\"ford f108\",\"dodge d100\",\"honda accord cvcc\",\"buick opel isuzu deluxe\",\"renault 5 gtl\",\"plymouth arrow gs\",\"datsun f-10 hatchback\",\"chevrolet caprice classic\",\"oldsmobile cutlass supreme\",\"dodge monaco brougham\",\"mercury cougar brougham\",\"chevrolet concours\",\"buick skylark\",\"plymouth volare custom\",\"ford granada\",\"pontiac grand prix lj\",\"chevrolet monte carlo landau\",\"chrysler cordoba\",\"ford thunderbird\",\"volkswagen rabbit custom\",\"pontiac sunbird coupe\",\"toyota corolla liftback\",\"ford mustang ii 2+2\",\"chevrolet chevette\",\"dodge colt m/m\",\"subaru dl\",\"volkswagen dasher\",\"datsun 810\",\"bmw 320i\",\"mazda rx-4\",\"volkswagen rabbit custom diesel\",\"ford fiesta\",\"mazda glc deluxe\",\"datsun b210 gx\",\"honda civic cvcc\",\"oldsmobile cutlass salon brougham\",\"dodge diplomat\",\"mercury monarch ghia\",\"pontiac phoenix lj\",\"chevrolet malibu\",\"ford fairmont (auto)\",\"ford fairmont (man)\",\"plymouth volare\",\"amc concord\",\"buick century special\",\"mercury zephyr\",\"dodge aspen\",\"amc concord d/l\",\"chevrolet monte carlo landau\",\"buick regal sport coupe (turbo)\",\"ford futura\",\"dodge magnum xe\",\"chevrolet chevette\",\"toyota corona\",\"datsun 510\",\"dodge omni\",\"toyota celica gt liftback\",\"plymouth sapporo\",\"oldsmobile starfire sx\",\"datsun 200-sx\",\"audi 5000\",\"volvo 264gl\",\"saab 99gle\",\"peugeot 604sl\",\"volkswagen scirocco\",\"honda accord lx\",\"pontiac lemans v6\",\"mercury zephyr 6\",\"ford fairmont 4\",\"amc concord dl 6\",\"dodge aspen 6\",\"chevrolet caprice classic\",\"ford ltd landau\",\"mercury grand marquis\",\"dodge st. regis\",\"buick estate wagon (sw)\",\"ford country squire (sw)\",\"chevrolet malibu classic (sw)\",\"chrysler lebaron town @ country (sw)\",\"vw rabbit custom\",\"maxda glc deluxe\",\"dodge colt hatchback custom\",\"amc spirit dl\",\"mercedes benz 300d\",\"cadillac eldorado\",\"peugeot 504\",\"oldsmobile cutlass salon brougham\",\"plymouth horizon\",\"plymouth horizon tc3\",\"datsun 210\",\"fiat strada custom\",\"buick skylark limited\",\"chevrolet citation\",\"oldsmobile omega brougham\",\"pontiac phoenix\",\"vw rabbit\",\"toyota corolla tercel\",\"chevrolet chevette\",\"datsun 310\",\"chevrolet citation\",\"ford fairmont\",\"amc concord\",\"dodge aspen\",\"audi 4000\",\"toyota corona liftback\",\"mazda 626\",\"datsun 510 hatchback\",\"toyota corolla\",\"mazda glc\",\"dodge colt\",\"datsun 210\",\"vw rabbit c (diesel)\",\"vw dasher (diesel)\",\"audi 5000s (diesel)\",\"mercedes-benz 240d\",\"honda civic 1500 gl\",\"renault lecar deluxe\",\"subaru dl\",\"vokswagen rabbit\",\"datsun 280-zx\",\"mazda rx-7 gs\",\"triumph tr7 coupe\",\"ford mustang cobra\",\"honda accord\",\"plymouth reliant\",\"buick skylark\",\"dodge aries wagon (sw)\",\"chevrolet citation\",\"plymouth reliant\",\"toyota starlet\",\"plymouth champ\",\"honda civic 1300\",\"subaru\",\"datsun 210 mpg\",\"toyota tercel\",\"mazda glc 4\",\"plymouth horizon 4\",\"ford escort 4w\",\"ford escort 2h\",\"volkswagen jetta\",\"renault 18i\",\"honda prelude\",\"toyota corolla\",\"datsun 200sx\",\"mazda 626\",\"peugeot 505s turbo diesel\",\"volvo diesel\",\"toyota cressida\",\"datsun 810 maxima\",\"buick century\",\"oldsmobile cutlass ls\",\"ford granada gl\",\"chrysler lebaron salon\",\"chevrolet cavalier\",\"chevrolet cavalier wagon\",\"chevrolet cavalier 2-door\",\"pontiac j2000 se hatchback\",\"dodge aries se\",\"pontiac phoenix\",\"ford fairmont futura\",\"amc concord dl\",\"volkswagen rabbit l\",\"mazda glc custom l\",\"mazda glc custom\",\"plymouth horizon miser\",\"mercury lynx l\",\"nissan stanza xe\",\"honda accord\",\"toyota corolla\",\"honda civic\",\"honda civic (auto)\",\"datsun 310 gx\",\"buick century limited\",\"oldsmobile cutlass ciera (diesel)\",\"chrysler lebaron medallion\",\"ford granada l\",\"toyota celica gt\",\"dodge charger 2.2\",\"chevrolet camaro\",\"ford mustang gl\",\"vw pickup\",\"dodge rampage\",\"ford ranger\",\"chevy s-10\"],\"origin\":[\"usa\",\"usa\",\"usa\",\"usa\",\"usa\",\"usa\",\"usa\",\"usa\",\"usa\",\"usa\",\"usa\",\"usa\",\"usa\",\"usa\",\"japan\",\"usa\",\"usa\",\"usa\",\"japan\",\"europe\",\"europe\",\"europe\",\"europe\",\"europe\",\"usa\",\"usa\",\"usa\",\"usa\",\"usa\",\"japan\",\"usa\",\"japan\",\"usa\",\"usa\",\"usa\",\"usa\",\"usa\",\"usa\",\"usa\",\"usa\",\"usa\",\"usa\",\"usa\",\"usa\",\"usa\",\"usa\",\"usa\",\"usa\",\"usa\",\"usa\",\"europe\",\"europe\",\"europe\",\"japan\",\"japan\",\"europe\",\"usa\",\"japan\",\"usa\",\"europe\",\"usa\",\"usa\",\"usa\",\"usa\",\"usa\",\"usa\",\"usa\",\"usa\",\"usa\",\"usa\",\"usa\",\"japan\",\"usa\",\"usa\",\"usa\",\"usa\",\"europe\",\"europe\",\"europe\",\"europe\",\"usa\",\"japan\",\"japan\",\"usa\",\"japan\",\"usa\",\"usa\",\"usa\",\"usa\",\"usa\",\"usa\",\"usa\",\"usa\",\"usa\",\"usa\",\"usa\",\"usa\",\"usa\",\"usa\",\"usa\",\"usa\",\"usa\",\"europe\",\"usa\",\"usa\",\"usa\",\"usa\",\"usa\",\"japan\",\"usa\",\"japan\",\"japan\",\"usa\",\"usa\",\"europe\",\"usa\",\"usa\",\"europe\",\"europe\",\"europe\",\"europe\",\"usa\",\"europe\",\"japan\",\"usa\",\"usa\",\"usa\",\"usa\",\"usa\",\"japan\",\"usa\",\"japan\",\"usa\",\"usa\",\"usa\",\"usa\",\"usa\",\"usa\",\"usa\",\"usa\",\"usa\",\"europe\",\"europe\",\"europe\",\"japan\",\"japan\",\"usa\",\"europe\",\"europe\",\"japan\",\"japan\",\"europe\",\"usa\",\"usa\",\"usa\",\"usa\",\"usa\",\"usa\",\"usa\",\"usa\",\"usa\",\"usa\",\"usa\",\"usa\",\"usa\",\"usa\",\"usa\",\"japan\",\"usa\",\"usa\",\"usa\",\"japan\",\"europe\",\"japan\",\"usa\",\"europe\",\"usa\",\"europe\",\"europe\",\"europe\",\"europe\",\"japan\",\"europe\",\"europe\",\"usa\",\"usa\",\"europe\",\"usa\",\"usa\",\"usa\",\"usa\",\"usa\",\"usa\",\"usa\",\"usa\",\"usa\",\"usa\",\"europe\",\"japan\",\"usa\",\"usa\",\"usa\",\"usa\",\"europe\",\"japan\",\"japan\",\"usa\",\"europe\",\"usa\",\"europe\",\"japan\",\"europe\",\"usa\",\"usa\",\"usa\",\"usa\",\"japan\",\"usa\",\"europe\",\"usa\",\"japan\",\"usa\",\"usa\",\"usa\",\"usa\",\"usa\",\"usa\",\"usa\",\"usa\",\"usa\",\"usa\",\"usa\",\"usa\",\"europe\",\"usa\",\"japan\",\"usa\",\"usa\",\"usa\",\"japan\",\"europe\",\"japan\",\"europe\",\"japan\",\"europe\",\"usa\",\"japan\",\"japan\",\"japan\",\"usa\",\"usa\",\"usa\",\"usa\",\"usa\",\"usa\",\"usa\",\"usa\",\"usa\",\"usa\",\"usa\",\"usa\",\"usa\",\"usa\",\"usa\",\"usa\",\"usa\",\"usa\",\"japan\",\"japan\",\"usa\",\"japan\",\"usa\",\"usa\",\"japan\",\"europe\",\"europe\",\"europe\",\"europe\",\"europe\",\"japan\",\"usa\",\"usa\",\"usa\",\"usa\",\"usa\",\"usa\",\"usa\",\"usa\",\"usa\",\"usa\",\"usa\",\"usa\",\"usa\",\"europe\",\"japan\",\"usa\",\"usa\",\"europe\",\"usa\",\"europe\",\"usa\",\"usa\",\"usa\",\"japan\",\"europe\",\"usa\",\"usa\",\"usa\",\"usa\",\"europe\",\"japan\",\"usa\",\"japan\",\"usa\",\"usa\",\"usa\",\"usa\",\"europe\",\"japan\",\"japan\",\"japan\",\"japan\",\"japan\",\"usa\",\"japan\",\"europe\",\"europe\",\"europe\",\"europe\",\"japan\",\"europe\",\"japan\",\"europe\",\"japan\",\"japan\",\"europe\",\"usa\",\"japan\",\"usa\",\"usa\",\"usa\",\"usa\",\"usa\",\"japan\",\"usa\",\"japan\",\"japan\",\"japan\",\"japan\",\"japan\",\"usa\",\"usa\",\"usa\",\"europe\",\"europe\",\"japan\",\"japan\",\"japan\",\"japan\",\"europe\",\"europe\",\"japan\",\"japan\",\"usa\",\"usa\",\"usa\",\"usa\",\"usa\",\"usa\",\"usa\",\"usa\",\"usa\",\"usa\",\"usa\",\"usa\",\"europe\",\"japan\",\"japan\",\"usa\",\"usa\",\"japan\",\"japan\",\"japan\",\"japan\",\"japan\",\"japan\",\"usa\",\"usa\",\"usa\",\"usa\",\"japan\",\"usa\",\"usa\",\"usa\",\"europe\",\"usa\",\"usa\",\"usa\"],\"weight\":[3504,3693,3436,3433,3449,4341,4354,4312,4425,3850,3563,3609,3761,3086,2372,2833,2774,2587,2130,1835,2672,2430,2375,2234,2648,4615,4376,4382,4732,2130,2264,2228,2046,2634,3439,3329,3302,3288,4209,4464,4154,4096,4955,4746,5140,2962,2408,3282,3139,2220,2123,2074,2065,1773,1613,1834,1955,2278,2126,2254,2408,2226,4274,4385,4135,4129,3672,4633,4502,4456,4422,2330,3892,4098,4294,4077,2933,2511,2979,2189,2395,2288,2506,2164,2100,4100,3672,3988,4042,3777,4952,4464,4363,4237,4735,4951,3821,3121,3278,2945,3021,2904,1950,4997,4906,4654,4499,2789,2279,2401,2379,2124,2310,2472,2265,4082,4278,1867,2158,2582,2868,3399,2660,2807,3664,3102,2875,2901,3336,1950,2451,1836,2542,3781,3632,3613,4141,4699,4457,4638,4257,2219,1963,2300,1649,2003,2125,2108,2246,2489,2391,2000,3264,3459,3432,3158,4668,4440,4498,4657,3907,3897,3730,3785,3039,3221,3169,2171,2639,2914,2592,2702,2223,2545,2984,1937,3211,2694,2957,2945,2671,1795,2464,2220,2572,2255,2202,4215,4190,3962,4215,3233,3353,3012,3085,2035,2164,1937,1795,3651,3574,3645,3193,1825,1990,2155,2565,3150,3940,3270,2930,3820,4380,4055,3870,3755,2045,2155,1825,2300,1945,3880,4060,4140,4295,3520,3425,3630,3525,4220,4165,4325,4335,1940,2740,2265,2755,2051,2075,1985,2190,2815,2600,2720,1985,1800,1985,2070,1800,3365,3735,3570,3535,3155,2965,2720,3430,3210,3380,3070,3620,3410,3425,3445,3205,4080,2155,2560,2300,2230,2515,2745,2855,2405,2830,3140,2795,3410,1990,2135,3245,2990,2890,3265,3360,3840,3725,3955,3830,4360,4054,3605,3940,1925,1975,1915,2670,3530,3900,3190,3420,2200,2150,2020,2130,2670,2595,2700,2556,2144,1968,2120,2019,2678,2870,3003,3381,2188,2711,2542,2434,2265,2110,2800,2110,2085,2335,2950,3250,1850,1835,2145,1845,2910,2420,2500,2905,2290,2490,2635,2620,2725,2385,1755,1875,1760,2065,1975,2050,1985,2215,2045,2380,2190,2320,2210,2350,2615,2635,3230,3160,2900,2930,3415,3725,3060,3465,2605,2640,2395,2575,2525,2735,2865,3035,1980,2025,1970,2125,2125,2160,2205,2245,1965,1965,1995,2945,3015,2585,2835,2665,2370,2950,2790,2130,2295,2625,2720]},\"selected\":{\"id\":\"1162\"},\"selection_policy\":{\"id\":\"1163\"}},\"id\":\"1105\",\"type\":\"ColumnDataSource\"},{\"attributes\":{\"axis_label\":\"Horsepower\",\"formatter\":{\"id\":\"1156\"},\"major_label_policy\":{\"id\":\"1157\"},\"ticker\":{\"id\":\"1116\"}},\"id\":\"1115\",\"type\":\"LinearAxis\"},{\"attributes\":{},\"id\":\"1109\",\"type\":\"DataRange1d\"},{\"attributes\":{},\"id\":\"1123\",\"type\":\"PanTool\"},{\"attributes\":{},\"id\":\"1111\",\"type\":\"LinearScale\"},{\"attributes\":{},\"id\":\"1162\",\"type\":\"Selection\"},{\"attributes\":{},\"id\":\"1153\",\"type\":\"Title\"},{\"attributes\":{},\"id\":\"1159\",\"type\":\"BasicTickFormatter\"},{\"attributes\":{},\"id\":\"1163\",\"type\":\"UnionRenderers\"},{\"attributes\":{\"axis\":{\"id\":\"1115\"},\"ticker\":null},\"id\":\"1118\",\"type\":\"Grid\"},{\"attributes\":{},\"id\":\"1160\",\"type\":\"AllLabels\"},{\"attributes\":{\"data_source\":{\"id\":\"1105\"},\"glyph\":{\"id\":\"1138\"},\"hover_glyph\":null,\"muted_glyph\":null,\"nonselection_glyph\":{\"id\":\"1139\"},\"view\":{\"id\":\"1141\"}},\"id\":\"1140\",\"type\":\"GlyphRenderer\"},{\"attributes\":{\"source\":{\"id\":\"1105\"}},\"id\":\"1141\",\"type\":\"CDSView\"},{\"attributes\":{\"fill_alpha\":{\"value\":0.1},\"fill_color\":{\"value\":\"#1f77b4\"},\"line_alpha\":{\"value\":0.1},\"line_color\":{\"value\":\"#1f77b4\"},\"x\":{\"field\":\"horsepower\"},\"y\":{\"field\":\"mpg\"}},\"id\":\"1139\",\"type\":\"Circle\"}],\"root_ids\":[\"1106\"]},\"title\":\"Bokeh Application\",\"version\":\"2.3.2\"}};\n",
       "  var render_items = [{\"docid\":\"96f8d02c-f7a9-48c8-b1ac-35941a12302a\",\"root_ids\":[\"1106\"],\"roots\":{\"1106\":\"f62fed4a-fa1a-4054-8864-c4dbf3a2e744\"}}];\n",
       "  root.Bokeh.embed.embed_items_notebook(docs_json, render_items);\n",
       "\n",
       "  }\n",
       "  if (root.Bokeh !== undefined) {\n",
       "    embed_document(root);\n",
       "  } else {\n",
       "    var attempts = 0;\n",
       "    var timer = setInterval(function(root) {\n",
       "      if (root.Bokeh !== undefined) {\n",
       "        clearInterval(timer);\n",
       "        embed_document(root);\n",
       "      } else {\n",
       "        attempts++;\n",
       "        if (attempts > 100) {\n",
       "          clearInterval(timer);\n",
       "          console.log(\"Bokeh: ERROR: Unable to run BokehJS code because BokehJS library is missing\");\n",
       "        }\n",
       "      }\n",
       "    }, 10, root)\n",
       "  }\n",
       "})(window);"
      ],
      "application/vnd.bokehjs_exec.v0+json": ""
     },
     "metadata": {
      "application/vnd.bokehjs_exec.v0+json": {
       "id": "1106"
      }
     },
     "output_type": "display_data"
    }
   ],
   "source": [
    "source=ColumnDataSource(mpg)\n",
    "p=figure(plot_width=600, plot_height=300, \n",
    "        x_axis_label=\"Horsepower\", \n",
    "        y_axis_label=\"MPG\")\n",
    "p.circle(x=\"horsepower\", y=\"mpg\", source=source)\n",
    "show(p)"
   ]
  },
  {
   "cell_type": "markdown",
   "metadata": {},
   "source": [
    "### Specifying tools"
   ]
  },
  {
   "cell_type": "markdown",
   "metadata": {},
   "source": [
    "### Selection and non-selection glyphs"
   ]
  },
  {
   "cell_type": "code",
   "execution_count": 7,
   "metadata": {},
   "outputs": [
    {
     "data": {
      "text/html": [
       "\n",
       "\n",
       "\n",
       "\n",
       "\n",
       "\n",
       "  <div class=\"bk-root\" id=\"733e9865-7cab-45f0-b15a-195acbd27348\" data-root-id=\"1219\"></div>\n"
      ]
     },
     "metadata": {},
     "output_type": "display_data"
    },
    {
     "data": {
      "application/javascript": [
       "(function(root) {\n",
       "  function embed_document(root) {\n",
       "    \n",
       "  var docs_json = {\"7f4f3b67-635e-47cc-bd5d-7c08df34f893\":{\"defs\":[],\"roots\":{\"references\":[{\"attributes\":{\"below\":[{\"id\":\"1228\"}],\"center\":[{\"id\":\"1231\"},{\"id\":\"1235\"}],\"height\":300,\"left\":[{\"id\":\"1232\"}],\"renderers\":[{\"id\":\"1244\"}],\"title\":{\"id\":\"1268\"},\"toolbar\":{\"id\":\"1238\"},\"x_range\":{\"id\":\"1220\"},\"x_scale\":{\"id\":\"1224\"},\"y_range\":{\"id\":\"1222\"},\"y_scale\":{\"id\":\"1226\"}},\"id\":\"1219\",\"subtype\":\"Figure\",\"type\":\"Plot\"},{\"attributes\":{},\"id\":\"1220\",\"type\":\"DataRange1d\"},{\"attributes\":{\"fill_alpha\":{\"value\":0.2},\"fill_color\":{\"value\":\"grey\"},\"line_alpha\":{\"value\":0.2},\"line_color\":{\"value\":\"grey\"},\"x\":{\"field\":\"horsepower\"},\"y\":{\"field\":\"mpg\"}},\"id\":\"1242\",\"type\":\"Circle\"},{\"attributes\":{},\"id\":\"1224\",\"type\":\"LinearScale\"},{\"attributes\":{},\"id\":\"1222\",\"type\":\"DataRange1d\"},{\"attributes\":{},\"id\":\"1226\",\"type\":\"LinearScale\"},{\"attributes\":{\"axis_label\":\"Time\",\"formatter\":{\"id\":\"1274\"},\"major_label_policy\":{\"id\":\"1275\"},\"ticker\":{\"id\":\"1233\"}},\"id\":\"1232\",\"type\":\"LinearAxis\"},{\"attributes\":{\"overlay\":{\"id\":\"1237\"}},\"id\":\"1236\",\"type\":\"BoxSelectTool\"},{\"attributes\":{\"axis_label\":\"Year\",\"formatter\":{\"id\":\"1271\"},\"major_label_policy\":{\"id\":\"1272\"},\"ticker\":{\"id\":\"1229\"}},\"id\":\"1228\",\"type\":\"LinearAxis\"},{\"attributes\":{},\"id\":\"1229\",\"type\":\"BasicTicker\"},{\"attributes\":{},\"id\":\"1272\",\"type\":\"AllLabels\"},{\"attributes\":{\"axis\":{\"id\":\"1228\"},\"ticker\":null},\"id\":\"1231\",\"type\":\"Grid\"},{\"attributes\":{},\"id\":\"1233\",\"type\":\"BasicTicker\"},{\"attributes\":{\"fill_color\":{\"value\":\"#1f77b4\"},\"line_color\":{\"value\":\"#1f77b4\"},\"x\":{\"field\":\"horsepower\"},\"y\":{\"field\":\"mpg\"}},\"id\":\"1241\",\"type\":\"Circle\"},{\"attributes\":{\"bottom_units\":\"screen\",\"fill_alpha\":0.5,\"fill_color\":\"lightgrey\",\"left_units\":\"screen\",\"level\":\"overlay\",\"line_alpha\":1.0,\"line_color\":\"black\",\"line_dash\":[4,4],\"line_width\":2,\"right_units\":\"screen\",\"syncable\":false,\"top_units\":\"screen\"},\"id\":\"1237\",\"type\":\"BoxAnnotation\"},{\"attributes\":{\"source\":{\"id\":\"1105\"}},\"id\":\"1245\",\"type\":\"CDSView\"},{\"attributes\":{\"data_source\":{\"id\":\"1105\"},\"glyph\":{\"id\":\"1241\"},\"hover_glyph\":null,\"muted_glyph\":null,\"nonselection_glyph\":{\"id\":\"1242\"},\"selection_glyph\":{\"id\":\"1243\"},\"view\":{\"id\":\"1245\"}},\"id\":\"1244\",\"type\":\"GlyphRenderer\"},{\"attributes\":{},\"id\":\"1274\",\"type\":\"BasicTickFormatter\"},{\"attributes\":{\"fill_color\":{\"value\":\"red\"},\"line_color\":{\"value\":\"red\"},\"x\":{\"field\":\"horsepower\"},\"y\":{\"field\":\"mpg\"}},\"id\":\"1243\",\"type\":\"Circle\"},{\"attributes\":{\"active_multi\":null,\"tools\":[{\"id\":\"1236\"}]},\"id\":\"1238\",\"type\":\"Toolbar\"},{\"attributes\":{},\"id\":\"1275\",\"type\":\"AllLabels\"},{\"attributes\":{\"data\":{\"acceleration\":{\"__ndarray__\":\"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\",\"dtype\":\"float64\",\"order\":\"little\",\"shape\":[398]},\"cylinders\":[8,8,8,8,8,8,8,8,8,8,8,8,8,8,4,6,6,6,4,4,4,4,4,4,6,8,8,8,8,4,4,4,4,6,6,6,6,6,8,8,8,8,8,8,8,6,4,6,6,4,4,4,4,4,4,4,4,4,4,4,4,4,8,8,8,8,8,8,8,8,8,3,8,8,8,8,4,4,4,4,4,4,4,4,4,8,8,8,8,8,8,8,8,8,8,8,8,6,6,6,6,6,4,8,8,8,8,6,4,4,4,3,4,6,4,8,8,4,4,4,4,8,4,6,8,6,6,6,6,4,4,4,4,6,6,6,8,8,8,8,8,4,4,4,4,4,4,4,4,4,4,4,6,6,6,6,8,8,8,8,6,6,6,6,6,8,8,4,4,6,4,4,4,4,6,4,6,4,4,4,4,4,4,4,4,4,4,8,8,8,8,6,6,6,6,4,4,4,4,6,6,6,6,4,4,4,4,4,8,4,6,6,8,8,8,8,4,4,4,4,4,8,8,8,8,6,6,6,6,8,8,8,8,4,4,4,4,4,4,4,4,6,4,3,4,4,4,4,4,8,8,8,6,6,6,4,6,6,6,6,6,6,8,6,8,8,4,4,4,4,4,4,4,4,5,6,4,6,4,4,6,6,4,6,6,8,8,8,8,8,8,8,8,4,4,4,4,5,8,4,8,4,4,4,4,4,6,6,4,4,4,4,4,4,4,4,6,4,4,4,4,4,4,4,4,4,4,5,4,4,4,4,4,6,3,4,4,4,4,4,4,6,4,4,4,4,4,4,4,4,4,4,4,4,4,4,4,4,4,4,6,6,6,6,8,6,6,4,4,4,4,4,4,4,4,4,4,4,4,4,4,4,4,4,4,4,6,6,4,6,4,4,4,4,4,4,4,4],\"displacement\":{\"__ndarray__\":\"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\",\"dtype\":\"float64\",\"order\":\"little\",\"shape\":[398]},\"horsepower\":{\"__ndarray__\":\"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\",\"dtype\":\"float64\",\"order\":\"little\",\"shape\":[398]},\"index\":[0,1,2,3,4,5,6,7,8,9,10,11,12,13,14,15,16,17,18,19,20,21,22,23,24,25,26,27,28,29,30,31,32,33,34,35,36,37,38,39,40,41,42,43,44,45,46,47,48,49,50,51,52,53,54,55,56,57,58,59,60,61,62,63,64,65,66,67,68,69,70,71,72,73,74,75,76,77,78,79,80,81,82,83,84,85,86,87,88,89,90,91,92,93,94,95,96,97,98,99,100,101,102,103,104,105,106,107,108,109,110,111,112,113,114,115,116,117,118,119,120,121,122,123,124,125,126,127,128,129,130,131,132,133,134,135,136,137,138,139,140,141,142,143,144,145,146,147,148,149,150,151,152,153,154,155,156,157,158,159,160,161,162,163,164,165,166,167,168,169,170,171,172,173,174,175,176,177,178,179,180,181,182,183,184,185,186,187,188,189,190,191,192,193,194,195,196,197,198,199,200,201,202,203,204,205,206,207,208,209,210,211,212,213,214,215,216,217,218,219,220,221,222,223,224,225,226,227,228,229,230,231,232,233,234,235,236,237,238,239,240,241,242,243,244,245,246,247,248,249,250,251,252,253,254,255,256,257,258,259,260,261,262,263,264,265,266,267,268,269,270,271,272,273,274,275,276,277,278,279,280,281,282,283,284,285,286,287,288,289,290,291,292,293,294,295,296,297,298,299,300,301,302,303,304,305,306,307,308,309,310,311,312,313,314,315,316,317,318,319,320,321,322,323,324,325,326,327,328,329,330,331,332,333,334,335,336,337,338,339,340,341,342,343,344,345,346,347,348,349,350,351,352,353,354,355,356,357,358,359,360,361,362,363,364,365,366,367,368,369,370,371,372,373,374,375,376,377,378,379,380,381,382,383,384,385,386,387,388,389,390,391,392,393,394,395,396,397],\"model_year\":[70,70,70,70,70,70,70,70,70,70,70,70,70,70,70,70,70,70,70,70,70,70,70,70,70,70,70,70,70,71,71,71,71,71,71,71,71,71,71,71,71,71,71,71,71,71,71,71,71,71,71,71,71,71,71,71,71,72,72,72,72,72,72,72,72,72,72,72,72,72,72,72,72,72,72,72,72,72,72,72,72,72,72,72,72,73,73,73,73,73,73,73,73,73,73,73,73,73,73,73,73,73,73,73,73,73,73,73,73,73,73,73,73,73,73,73,73,73,73,73,73,73,73,73,73,74,74,74,74,74,74,74,74,74,74,74,74,74,74,74,74,74,74,74,74,74,74,74,74,74,74,74,75,75,75,75,75,75,75,75,75,75,75,75,75,75,75,75,75,75,75,75,75,75,75,75,75,75,75,75,75,75,76,76,76,76,76,76,76,76,76,76,76,76,76,76,76,76,76,76,76,76,76,76,76,76,76,76,76,76,76,76,76,76,76,76,77,77,77,77,77,77,77,77,77,77,77,77,77,77,77,77,77,77,77,77,77,77,77,77,77,77,77,77,78,78,78,78,78,78,78,78,78,78,78,78,78,78,78,78,78,78,78,78,78,78,78,78,78,78,78,78,78,78,78,78,78,78,78,78,79,79,79,79,79,79,79,79,79,79,79,79,79,79,79,79,79,79,79,79,79,79,79,79,79,79,79,79,79,80,80,80,80,80,80,80,80,80,80,80,80,80,80,80,80,80,80,80,80,80,80,80,80,80,80,80,80,80,81,81,81,81,81,81,81,81,81,81,81,81,81,81,81,81,81,81,81,81,81,81,81,81,81,81,81,81,81,82,82,82,82,82,82,82,82,82,82,82,82,82,82,82,82,82,82,82,82,82,82,82,82,82,82,82,82,82,82,82],\"mpg\":{\"__ndarray__\":\"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\",\"dtype\":\"float64\",\"order\":\"little\",\"shape\":[398]},\"name\":[\"chevrolet chevelle malibu\",\"buick skylark 320\",\"plymouth satellite\",\"amc rebel sst\",\"ford torino\",\"ford galaxie 500\",\"chevrolet impala\",\"plymouth fury iii\",\"pontiac catalina\",\"amc ambassador dpl\",\"dodge challenger se\",\"plymouth 'cuda 340\",\"chevrolet monte carlo\",\"buick estate wagon (sw)\",\"toyota corona mark ii\",\"plymouth duster\",\"amc hornet\",\"ford maverick\",\"datsun pl510\",\"volkswagen 1131 deluxe sedan\",\"peugeot 504\",\"audi 100 ls\",\"saab 99e\",\"bmw 2002\",\"amc gremlin\",\"ford f250\",\"chevy c20\",\"dodge d200\",\"hi 1200d\",\"datsun pl510\",\"chevrolet vega 2300\",\"toyota corona\",\"ford pinto\",\"amc gremlin\",\"plymouth satellite custom\",\"chevrolet chevelle malibu\",\"ford torino 500\",\"amc matador\",\"chevrolet impala\",\"pontiac catalina brougham\",\"ford galaxie 500\",\"plymouth fury iii\",\"dodge monaco (sw)\",\"ford country squire (sw)\",\"pontiac safari (sw)\",\"amc hornet sportabout (sw)\",\"chevrolet vega (sw)\",\"pontiac firebird\",\"ford mustang\",\"mercury capri 2000\",\"opel 1900\",\"peugeot 304\",\"fiat 124b\",\"toyota corolla 1200\",\"datsun 1200\",\"volkswagen model 111\",\"plymouth cricket\",\"toyota corona hardtop\",\"dodge colt hardtop\",\"volkswagen type 3\",\"chevrolet vega\",\"ford pinto runabout\",\"chevrolet impala\",\"pontiac catalina\",\"plymouth fury iii\",\"ford galaxie 500\",\"amc ambassador sst\",\"mercury marquis\",\"buick lesabre custom\",\"oldsmobile delta 88 royale\",\"chrysler newport royal\",\"mazda rx2 coupe\",\"amc matador (sw)\",\"chevrolet chevelle concours (sw)\",\"ford gran torino (sw)\",\"plymouth satellite custom (sw)\",\"volvo 145e (sw)\",\"volkswagen 411 (sw)\",\"peugeot 504 (sw)\",\"renault 12 (sw)\",\"ford pinto (sw)\",\"datsun 510 (sw)\",\"toyouta corona mark ii (sw)\",\"dodge colt (sw)\",\"toyota corolla 1600 (sw)\",\"buick century 350\",\"amc matador\",\"chevrolet malibu\",\"ford gran torino\",\"dodge coronet custom\",\"mercury marquis brougham\",\"chevrolet caprice classic\",\"ford ltd\",\"plymouth fury gran sedan\",\"chrysler new yorker brougham\",\"buick electra 225 custom\",\"amc ambassador brougham\",\"plymouth valiant\",\"chevrolet nova custom\",\"amc hornet\",\"ford maverick\",\"plymouth duster\",\"volkswagen super beetle\",\"chevrolet impala\",\"ford country\",\"plymouth custom suburb\",\"oldsmobile vista cruiser\",\"amc gremlin\",\"toyota carina\",\"chevrolet vega\",\"datsun 610\",\"maxda rx3\",\"ford pinto\",\"mercury capri v6\",\"fiat 124 sport coupe\",\"chevrolet monte carlo s\",\"pontiac grand prix\",\"fiat 128\",\"opel manta\",\"audi 100ls\",\"volvo 144ea\",\"dodge dart custom\",\"saab 99le\",\"toyota mark ii\",\"oldsmobile omega\",\"plymouth duster\",\"ford maverick\",\"amc hornet\",\"chevrolet nova\",\"datsun b210\",\"ford pinto\",\"toyota corolla 1200\",\"chevrolet vega\",\"chevrolet chevelle malibu classic\",\"amc matador\",\"plymouth satellite sebring\",\"ford gran torino\",\"buick century luxus (sw)\",\"dodge coronet custom (sw)\",\"ford gran torino (sw)\",\"amc matador (sw)\",\"audi fox\",\"volkswagen dasher\",\"opel manta\",\"toyota corona\",\"datsun 710\",\"dodge colt\",\"fiat 128\",\"fiat 124 tc\",\"honda civic\",\"subaru\",\"fiat x1.9\",\"plymouth valiant custom\",\"chevrolet nova\",\"mercury monarch\",\"ford maverick\",\"pontiac catalina\",\"chevrolet bel air\",\"plymouth grand fury\",\"ford ltd\",\"buick century\",\"chevroelt chevelle malibu\",\"amc matador\",\"plymouth fury\",\"buick skyhawk\",\"chevrolet monza 2+2\",\"ford mustang ii\",\"toyota corolla\",\"ford pinto\",\"amc gremlin\",\"pontiac astro\",\"toyota corona\",\"volkswagen dasher\",\"datsun 710\",\"ford pinto\",\"volkswagen rabbit\",\"amc pacer\",\"audi 100ls\",\"peugeot 504\",\"volvo 244dl\",\"saab 99le\",\"honda civic cvcc\",\"fiat 131\",\"opel 1900\",\"capri ii\",\"dodge colt\",\"renault 12tl\",\"chevrolet chevelle malibu classic\",\"dodge coronet brougham\",\"amc matador\",\"ford gran torino\",\"plymouth valiant\",\"chevrolet nova\",\"ford maverick\",\"amc hornet\",\"chevrolet chevette\",\"chevrolet woody\",\"vw rabbit\",\"honda civic\",\"dodge aspen se\",\"ford granada ghia\",\"pontiac ventura sj\",\"amc pacer d/l\",\"volkswagen rabbit\",\"datsun b-210\",\"toyota corolla\",\"ford pinto\",\"volvo 245\",\"plymouth volare premier v8\",\"peugeot 504\",\"toyota mark ii\",\"mercedes-benz 280s\",\"cadillac seville\",\"chevy c10\",\"ford f108\",\"dodge d100\",\"honda accord cvcc\",\"buick opel isuzu deluxe\",\"renault 5 gtl\",\"plymouth arrow gs\",\"datsun f-10 hatchback\",\"chevrolet caprice classic\",\"oldsmobile cutlass supreme\",\"dodge monaco brougham\",\"mercury cougar brougham\",\"chevrolet concours\",\"buick skylark\",\"plymouth volare custom\",\"ford granada\",\"pontiac grand prix lj\",\"chevrolet monte carlo landau\",\"chrysler cordoba\",\"ford thunderbird\",\"volkswagen rabbit custom\",\"pontiac sunbird coupe\",\"toyota corolla liftback\",\"ford mustang ii 2+2\",\"chevrolet chevette\",\"dodge colt m/m\",\"subaru dl\",\"volkswagen dasher\",\"datsun 810\",\"bmw 320i\",\"mazda rx-4\",\"volkswagen rabbit custom diesel\",\"ford fiesta\",\"mazda glc deluxe\",\"datsun b210 gx\",\"honda civic cvcc\",\"oldsmobile cutlass salon brougham\",\"dodge diplomat\",\"mercury monarch ghia\",\"pontiac phoenix lj\",\"chevrolet malibu\",\"ford fairmont (auto)\",\"ford fairmont (man)\",\"plymouth volare\",\"amc concord\",\"buick century special\",\"mercury zephyr\",\"dodge aspen\",\"amc concord d/l\",\"chevrolet monte carlo landau\",\"buick regal sport coupe (turbo)\",\"ford futura\",\"dodge magnum xe\",\"chevrolet chevette\",\"toyota corona\",\"datsun 510\",\"dodge omni\",\"toyota celica gt liftback\",\"plymouth sapporo\",\"oldsmobile starfire sx\",\"datsun 200-sx\",\"audi 5000\",\"volvo 264gl\",\"saab 99gle\",\"peugeot 604sl\",\"volkswagen scirocco\",\"honda accord lx\",\"pontiac lemans v6\",\"mercury zephyr 6\",\"ford fairmont 4\",\"amc concord dl 6\",\"dodge aspen 6\",\"chevrolet caprice classic\",\"ford ltd landau\",\"mercury grand marquis\",\"dodge st. regis\",\"buick estate wagon (sw)\",\"ford country squire (sw)\",\"chevrolet malibu classic (sw)\",\"chrysler lebaron town @ country (sw)\",\"vw rabbit custom\",\"maxda glc deluxe\",\"dodge colt hatchback custom\",\"amc spirit dl\",\"mercedes benz 300d\",\"cadillac eldorado\",\"peugeot 504\",\"oldsmobile cutlass salon brougham\",\"plymouth horizon\",\"plymouth horizon tc3\",\"datsun 210\",\"fiat strada custom\",\"buick skylark limited\",\"chevrolet citation\",\"oldsmobile omega brougham\",\"pontiac phoenix\",\"vw rabbit\",\"toyota corolla tercel\",\"chevrolet chevette\",\"datsun 310\",\"chevrolet citation\",\"ford fairmont\",\"amc concord\",\"dodge aspen\",\"audi 4000\",\"toyota corona liftback\",\"mazda 626\",\"datsun 510 hatchback\",\"toyota corolla\",\"mazda glc\",\"dodge colt\",\"datsun 210\",\"vw rabbit c (diesel)\",\"vw dasher (diesel)\",\"audi 5000s (diesel)\",\"mercedes-benz 240d\",\"honda civic 1500 gl\",\"renault lecar deluxe\",\"subaru dl\",\"vokswagen rabbit\",\"datsun 280-zx\",\"mazda rx-7 gs\",\"triumph tr7 coupe\",\"ford mustang cobra\",\"honda accord\",\"plymouth reliant\",\"buick skylark\",\"dodge aries wagon (sw)\",\"chevrolet citation\",\"plymouth reliant\",\"toyota starlet\",\"plymouth champ\",\"honda civic 1300\",\"subaru\",\"datsun 210 mpg\",\"toyota tercel\",\"mazda glc 4\",\"plymouth horizon 4\",\"ford escort 4w\",\"ford escort 2h\",\"volkswagen jetta\",\"renault 18i\",\"honda prelude\",\"toyota corolla\",\"datsun 200sx\",\"mazda 626\",\"peugeot 505s turbo diesel\",\"volvo diesel\",\"toyota cressida\",\"datsun 810 maxima\",\"buick century\",\"oldsmobile cutlass ls\",\"ford granada gl\",\"chrysler lebaron salon\",\"chevrolet cavalier\",\"chevrolet cavalier wagon\",\"chevrolet cavalier 2-door\",\"pontiac j2000 se hatchback\",\"dodge aries se\",\"pontiac phoenix\",\"ford fairmont futura\",\"amc concord dl\",\"volkswagen rabbit l\",\"mazda glc custom l\",\"mazda glc custom\",\"plymouth horizon miser\",\"mercury lynx l\",\"nissan stanza xe\",\"honda accord\",\"toyota corolla\",\"honda civic\",\"honda civic (auto)\",\"datsun 310 gx\",\"buick century limited\",\"oldsmobile cutlass ciera (diesel)\",\"chrysler lebaron medallion\",\"ford granada l\",\"toyota celica gt\",\"dodge charger 2.2\",\"chevrolet camaro\",\"ford mustang gl\",\"vw pickup\",\"dodge rampage\",\"ford ranger\",\"chevy s-10\"],\"origin\":[\"usa\",\"usa\",\"usa\",\"usa\",\"usa\",\"usa\",\"usa\",\"usa\",\"usa\",\"usa\",\"usa\",\"usa\",\"usa\",\"usa\",\"japan\",\"usa\",\"usa\",\"usa\",\"japan\",\"europe\",\"europe\",\"europe\",\"europe\",\"europe\",\"usa\",\"usa\",\"usa\",\"usa\",\"usa\",\"japan\",\"usa\",\"japan\",\"usa\",\"usa\",\"usa\",\"usa\",\"usa\",\"usa\",\"usa\",\"usa\",\"usa\",\"usa\",\"usa\",\"usa\",\"usa\",\"usa\",\"usa\",\"usa\",\"usa\",\"usa\",\"europe\",\"europe\",\"europe\",\"japan\",\"japan\",\"europe\",\"usa\",\"japan\",\"usa\",\"europe\",\"usa\",\"usa\",\"usa\",\"usa\",\"usa\",\"usa\",\"usa\",\"usa\",\"usa\",\"usa\",\"usa\",\"japan\",\"usa\",\"usa\",\"usa\",\"usa\",\"europe\",\"europe\",\"europe\",\"europe\",\"usa\",\"japan\",\"japan\",\"usa\",\"japan\",\"usa\",\"usa\",\"usa\",\"usa\",\"usa\",\"usa\",\"usa\",\"usa\",\"usa\",\"usa\",\"usa\",\"usa\",\"usa\",\"usa\",\"usa\",\"usa\",\"usa\",\"europe\",\"usa\",\"usa\",\"usa\",\"usa\",\"usa\",\"japan\",\"usa\",\"japan\",\"japan\",\"usa\",\"usa\",\"europe\",\"usa\",\"usa\",\"europe\",\"europe\",\"europe\",\"europe\",\"usa\",\"europe\",\"japan\",\"usa\",\"usa\",\"usa\",\"usa\",\"usa\",\"japan\",\"usa\",\"japan\",\"usa\",\"usa\",\"usa\",\"usa\",\"usa\",\"usa\",\"usa\",\"usa\",\"usa\",\"europe\",\"europe\",\"europe\",\"japan\",\"japan\",\"usa\",\"europe\",\"europe\",\"japan\",\"japan\",\"europe\",\"usa\",\"usa\",\"usa\",\"usa\",\"usa\",\"usa\",\"usa\",\"usa\",\"usa\",\"usa\",\"usa\",\"usa\",\"usa\",\"usa\",\"usa\",\"japan\",\"usa\",\"usa\",\"usa\",\"japan\",\"europe\",\"japan\",\"usa\",\"europe\",\"usa\",\"europe\",\"europe\",\"europe\",\"europe\",\"japan\",\"europe\",\"europe\",\"usa\",\"usa\",\"europe\",\"usa\",\"usa\",\"usa\",\"usa\",\"usa\",\"usa\",\"usa\",\"usa\",\"usa\",\"usa\",\"europe\",\"japan\",\"usa\",\"usa\",\"usa\",\"usa\",\"europe\",\"japan\",\"japan\",\"usa\",\"europe\",\"usa\",\"europe\",\"japan\",\"europe\",\"usa\",\"usa\",\"usa\",\"usa\",\"japan\",\"usa\",\"europe\",\"usa\",\"japan\",\"usa\",\"usa\",\"usa\",\"usa\",\"usa\",\"usa\",\"usa\",\"usa\",\"usa\",\"usa\",\"usa\",\"usa\",\"europe\",\"usa\",\"japan\",\"usa\",\"usa\",\"usa\",\"japan\",\"europe\",\"japan\",\"europe\",\"japan\",\"europe\",\"usa\",\"japan\",\"japan\",\"japan\",\"usa\",\"usa\",\"usa\",\"usa\",\"usa\",\"usa\",\"usa\",\"usa\",\"usa\",\"usa\",\"usa\",\"usa\",\"usa\",\"usa\",\"usa\",\"usa\",\"usa\",\"usa\",\"japan\",\"japan\",\"usa\",\"japan\",\"usa\",\"usa\",\"japan\",\"europe\",\"europe\",\"europe\",\"europe\",\"europe\",\"japan\",\"usa\",\"usa\",\"usa\",\"usa\",\"usa\",\"usa\",\"usa\",\"usa\",\"usa\",\"usa\",\"usa\",\"usa\",\"usa\",\"europe\",\"japan\",\"usa\",\"usa\",\"europe\",\"usa\",\"europe\",\"usa\",\"usa\",\"usa\",\"japan\",\"europe\",\"usa\",\"usa\",\"usa\",\"usa\",\"europe\",\"japan\",\"usa\",\"japan\",\"usa\",\"usa\",\"usa\",\"usa\",\"europe\",\"japan\",\"japan\",\"japan\",\"japan\",\"japan\",\"usa\",\"japan\",\"europe\",\"europe\",\"europe\",\"europe\",\"japan\",\"europe\",\"japan\",\"europe\",\"japan\",\"japan\",\"europe\",\"usa\",\"japan\",\"usa\",\"usa\",\"usa\",\"usa\",\"usa\",\"japan\",\"usa\",\"japan\",\"japan\",\"japan\",\"japan\",\"japan\",\"usa\",\"usa\",\"usa\",\"europe\",\"europe\",\"japan\",\"japan\",\"japan\",\"japan\",\"europe\",\"europe\",\"japan\",\"japan\",\"usa\",\"usa\",\"usa\",\"usa\",\"usa\",\"usa\",\"usa\",\"usa\",\"usa\",\"usa\",\"usa\",\"usa\",\"europe\",\"japan\",\"japan\",\"usa\",\"usa\",\"japan\",\"japan\",\"japan\",\"japan\",\"japan\",\"japan\",\"usa\",\"usa\",\"usa\",\"usa\",\"japan\",\"usa\",\"usa\",\"usa\",\"europe\",\"usa\",\"usa\",\"usa\"],\"weight\":[3504,3693,3436,3433,3449,4341,4354,4312,4425,3850,3563,3609,3761,3086,2372,2833,2774,2587,2130,1835,2672,2430,2375,2234,2648,4615,4376,4382,4732,2130,2264,2228,2046,2634,3439,3329,3302,3288,4209,4464,4154,4096,4955,4746,5140,2962,2408,3282,3139,2220,2123,2074,2065,1773,1613,1834,1955,2278,2126,2254,2408,2226,4274,4385,4135,4129,3672,4633,4502,4456,4422,2330,3892,4098,4294,4077,2933,2511,2979,2189,2395,2288,2506,2164,2100,4100,3672,3988,4042,3777,4952,4464,4363,4237,4735,4951,3821,3121,3278,2945,3021,2904,1950,4997,4906,4654,4499,2789,2279,2401,2379,2124,2310,2472,2265,4082,4278,1867,2158,2582,2868,3399,2660,2807,3664,3102,2875,2901,3336,1950,2451,1836,2542,3781,3632,3613,4141,4699,4457,4638,4257,2219,1963,2300,1649,2003,2125,2108,2246,2489,2391,2000,3264,3459,3432,3158,4668,4440,4498,4657,3907,3897,3730,3785,3039,3221,3169,2171,2639,2914,2592,2702,2223,2545,2984,1937,3211,2694,2957,2945,2671,1795,2464,2220,2572,2255,2202,4215,4190,3962,4215,3233,3353,3012,3085,2035,2164,1937,1795,3651,3574,3645,3193,1825,1990,2155,2565,3150,3940,3270,2930,3820,4380,4055,3870,3755,2045,2155,1825,2300,1945,3880,4060,4140,4295,3520,3425,3630,3525,4220,4165,4325,4335,1940,2740,2265,2755,2051,2075,1985,2190,2815,2600,2720,1985,1800,1985,2070,1800,3365,3735,3570,3535,3155,2965,2720,3430,3210,3380,3070,3620,3410,3425,3445,3205,4080,2155,2560,2300,2230,2515,2745,2855,2405,2830,3140,2795,3410,1990,2135,3245,2990,2890,3265,3360,3840,3725,3955,3830,4360,4054,3605,3940,1925,1975,1915,2670,3530,3900,3190,3420,2200,2150,2020,2130,2670,2595,2700,2556,2144,1968,2120,2019,2678,2870,3003,3381,2188,2711,2542,2434,2265,2110,2800,2110,2085,2335,2950,3250,1850,1835,2145,1845,2910,2420,2500,2905,2290,2490,2635,2620,2725,2385,1755,1875,1760,2065,1975,2050,1985,2215,2045,2380,2190,2320,2210,2350,2615,2635,3230,3160,2900,2930,3415,3725,3060,3465,2605,2640,2395,2575,2525,2735,2865,3035,1980,2025,1970,2125,2125,2160,2205,2245,1965,1965,1995,2945,3015,2585,2835,2665,2370,2950,2790,2130,2295,2625,2720]},\"selected\":{\"id\":\"1162\"},\"selection_policy\":{\"id\":\"1163\"}},\"id\":\"1105\",\"type\":\"ColumnDataSource\"},{\"attributes\":{},\"id\":\"1268\",\"type\":\"Title\"},{\"attributes\":{},\"id\":\"1271\",\"type\":\"BasicTickFormatter\"},{\"attributes\":{},\"id\":\"1162\",\"type\":\"Selection\"},{\"attributes\":{\"axis\":{\"id\":\"1232\"},\"dimension\":1,\"ticker\":null},\"id\":\"1235\",\"type\":\"Grid\"},{\"attributes\":{},\"id\":\"1163\",\"type\":\"UnionRenderers\"}],\"root_ids\":[\"1219\"]},\"title\":\"Bokeh Application\",\"version\":\"2.3.2\"}};\n",
       "  var render_items = [{\"docid\":\"7f4f3b67-635e-47cc-bd5d-7c08df34f893\",\"root_ids\":[\"1219\"],\"roots\":{\"1219\":\"733e9865-7cab-45f0-b15a-195acbd27348\"}}];\n",
       "  root.Bokeh.embed.embed_items_notebook(docs_json, render_items);\n",
       "\n",
       "  }\n",
       "  if (root.Bokeh !== undefined) {\n",
       "    embed_document(root);\n",
       "  } else {\n",
       "    var attempts = 0;\n",
       "    var timer = setInterval(function(root) {\n",
       "      if (root.Bokeh !== undefined) {\n",
       "        clearInterval(timer);\n",
       "        embed_document(root);\n",
       "      } else {\n",
       "        attempts++;\n",
       "        if (attempts > 100) {\n",
       "          clearInterval(timer);\n",
       "          console.log(\"Bokeh: ERROR: Unable to run BokehJS code because BokehJS library is missing\");\n",
       "        }\n",
       "      }\n",
       "    }, 10, root)\n",
       "  }\n",
       "})(window);"
      ],
      "application/vnd.bokehjs_exec.v0+json": ""
     },
     "metadata": {
      "application/vnd.bokehjs_exec.v0+json": {
       "id": "1219"
      }
     },
     "output_type": "display_data"
    }
   ],
   "source": [
    "p = figure(plot_width=600, plot_height=300,\n",
    "            x_axis_label=\"Year\", \n",
    "            y_axis_label=\"Time\", \n",
    "            tools=\"box_select\")\n",
    "\n",
    "# Add circle glyphs to the figure p with the selected and non-selected properties\n",
    "p.circle(x=\"horsepower\", y=\"mpg\", source=source, \n",
    "         selection_color=\"red\",\n",
    "         nonselection_color=\"grey\",\n",
    "         nonselection_alpha=0.2)\n",
    "show(p)"
   ]
  },
  {
   "cell_type": "code",
   "execution_count": null,
   "metadata": {},
   "outputs": [],
   "source": []
  },
  {
   "cell_type": "markdown",
   "metadata": {},
   "source": [
    "### Customizing axes"
   ]
  },
  {
   "cell_type": "code",
   "execution_count": 8,
   "metadata": {},
   "outputs": [
    {
     "data": {
      "text/html": [
       "\n",
       "\n",
       "\n",
       "\n",
       "\n",
       "\n",
       "  <div class=\"bk-root\" id=\"9b7830ad-5a7a-4fd6-9659-1bf64be8641a\" data-root-id=\"1334\"></div>\n"
      ]
     },
     "metadata": {},
     "output_type": "display_data"
    },
    {
     "data": {
      "application/javascript": [
       "(function(root) {\n",
       "  function embed_document(root) {\n",
       "    \n",
       "  var docs_json = {\"fd57b16f-2799-4675-a71d-ac224c76f674\":{\"defs\":[],\"roots\":{\"references\":[{\"attributes\":{\"below\":[{\"id\":\"1343\"}],\"center\":[{\"id\":\"1346\"},{\"id\":\"1350\"}],\"height\":300,\"left\":[{\"id\":\"1347\"}],\"renderers\":[{\"id\":\"1368\"}],\"title\":{\"id\":\"1403\"},\"toolbar\":{\"id\":\"1358\"},\"x_range\":{\"id\":\"1335\"},\"x_scale\":{\"id\":\"1339\"},\"y_range\":{\"id\":\"1337\"},\"y_scale\":{\"id\":\"1341\"}},\"id\":\"1334\",\"subtype\":\"Figure\",\"type\":\"Plot\"},{\"attributes\":{\"bottom_units\":\"screen\",\"fill_alpha\":0.5,\"fill_color\":\"lightgrey\",\"left_units\":\"screen\",\"level\":\"overlay\",\"line_alpha\":1.0,\"line_color\":\"black\",\"line_dash\":[4,4],\"line_width\":2,\"right_units\":\"screen\",\"syncable\":false,\"top_units\":\"screen\"},\"id\":\"1357\",\"type\":\"BoxAnnotation\"},{\"attributes\":{\"active_multi\":null,\"tools\":[{\"id\":\"1351\"},{\"id\":\"1352\"},{\"id\":\"1353\"},{\"id\":\"1354\"},{\"id\":\"1355\"},{\"id\":\"1356\"}]},\"id\":\"1358\",\"type\":\"Toolbar\"},{\"attributes\":{},\"id\":\"1409\",\"type\":\"BasicTickFormatter\"},{\"attributes\":{},\"id\":\"1410\",\"type\":\"AllLabels\"},{\"attributes\":{},\"id\":\"1412\",\"type\":\"Selection\"},{\"attributes\":{\"line_color\":\"Red\",\"x\":{\"field\":\"x\"},\"y\":{\"field\":\"y\"}},\"id\":\"1366\",\"type\":\"Line\"},{\"attributes\":{},\"id\":\"1413\",\"type\":\"UnionRenderers\"},{\"attributes\":{},\"id\":\"1351\",\"type\":\"PanTool\"},{\"attributes\":{\"line_alpha\":0.1,\"line_color\":\"Red\",\"x\":{\"field\":\"x\"},\"y\":{\"field\":\"y\"}},\"id\":\"1367\",\"type\":\"Line\"},{\"attributes\":{\"source\":{\"id\":\"1365\"}},\"id\":\"1369\",\"type\":\"CDSView\"},{\"attributes\":{},\"id\":\"1403\",\"type\":\"Title\"},{\"attributes\":{\"data_source\":{\"id\":\"1365\"},\"glyph\":{\"id\":\"1366\"},\"hover_glyph\":null,\"muted_glyph\":null,\"nonselection_glyph\":{\"id\":\"1367\"},\"view\":{\"id\":\"1369\"}},\"id\":\"1368\",\"type\":\"GlyphRenderer\"},{\"attributes\":{},\"id\":\"1335\",\"type\":\"DataRange1d\"},{\"attributes\":{\"axis_label\":\"Time\",\"axis_line_color\":\"blue\",\"axis_line_width\":3,\"formatter\":{\"id\":\"1406\"},\"major_label_policy\":{\"id\":\"1407\"},\"minor_tick_in\":-3,\"minor_tick_out\":6,\"ticker\":{\"id\":\"1344\"}},\"id\":\"1343\",\"type\":\"LinearAxis\"},{\"attributes\":{},\"id\":\"1337\",\"type\":\"DataRange1d\"},{\"attributes\":{},\"id\":\"1356\",\"type\":\"HelpTool\"},{\"attributes\":{},\"id\":\"1354\",\"type\":\"SaveTool\"},{\"attributes\":{},\"id\":\"1339\",\"type\":\"LinearScale\"},{\"attributes\":{},\"id\":\"1341\",\"type\":\"LinearScale\"},{\"attributes\":{},\"id\":\"1355\",\"type\":\"ResetTool\"},{\"attributes\":{\"axis_label\":\"Magnitude\",\"formatter\":{\"id\":\"1409\"},\"major_label_policy\":{\"id\":\"1410\"},\"major_label_text_color\":\"orange\",\"minor_tick_in\":-3,\"minor_tick_out\":6,\"ticker\":{\"id\":\"1348\"}},\"id\":\"1347\",\"type\":\"LinearAxis\"},{\"attributes\":{},\"id\":\"1344\",\"type\":\"BasicTicker\"},{\"attributes\":{\"axis\":{\"id\":\"1343\"},\"ticker\":null},\"id\":\"1346\",\"type\":\"Grid\"},{\"attributes\":{},\"id\":\"1406\",\"type\":\"BasicTickFormatter\"},{\"attributes\":{\"axis\":{\"id\":\"1347\"},\"dimension\":1,\"ticker\":null},\"id\":\"1350\",\"type\":\"Grid\"},{\"attributes\":{},\"id\":\"1407\",\"type\":\"AllLabels\"},{\"attributes\":{},\"id\":\"1348\",\"type\":\"BasicTicker\"},{\"attributes\":{\"data\":{\"x\":{\"__ndarray__\":\"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\",\"dtype\":\"float64\",\"order\":\"little\",\"shape\":[1000]},\"y\":{\"__ndarray__\":\"AAAAAAAAAABP6S8378bTP15adQQjz+I/qPSXm3fj6T//VEQTDm/uPwAAAAAAAPA//1REEw5v7j+o9Jebd+PpP19adQQjz+I/SukvN+/G0z8HXBQzJqahPE3pLzfvxtO/YFp1BCPP4r+s9Jebd+Ppv/9URBMOb+6/AAAAAAAA8L8AVUQTDm/uv6T0l5t34+m/WVp1BCPP4r9U6S8378bTvwdcFDMmprG8WukvN+/G0z9cWnUEI8/iP6b0l5t34+k/AVVEEw5v7j8AAAAAAADwP/tURBMOb+4/qfSXm3fj6T9gWnUEI8/iP1bpLzfvxtM/CoqeTDl5ujxJ6S8378bTv1tadQQjz+K/r/SXm3fj6b8DVUQTDm/uvwAAAAAAAPC//FREEw5v7r+q9Jebd+Ppv2FadQQjz+K/WOkvN+/G078HXBQzJqbBvGXpLzfvxtM/Z1p1BCPP4j+u9Jebd+PpP/5URBMOb+4/AAAAAAAA8D8BVUQTDm/uP6v0l5t34+k/VVp1BCPP4j876S8378bTP3xGEyAo+NS8Y+kvN+/G079zWnUEI8/iv670l5t34+m//lREEw5v7r8AAAAAAADwvwFVRBMOb+6/ovSXm3fj6b9jWnUEI8/ivz3pLzfvxtO/CoqeTDl5yrxh6S8378bTP1hadQQjz+I/rfSXm3fj6T/9VEQTDm/uPwAAAAAAAPA/+FREEw5v7j+j9Jebd+PpP0padQQjz+I/QOkvN+/G0z+9F6dJT0fovF/pLzfvxtO/cVp1BCPP4r+a9Jebd+Ppv/1URBMOb+6/AAAAAAAA8L8CVUQTDm/uv6P0l5t34+m/ZVp1BCPP4r9C6S8378bTvwdcFDMmptG8XekvN+/G0z9wWnUEI8/iP6z0l5t34+k/BlVEEw5v7j8AAAAAAADwP/hURBMOb+4/kfSXm3fj6T9mWnUEI8/iP4HpLzfvxtM/iOd2+era0zxb6S8378bTv1ZadQQjz+K/q/SXm3fj6b/8VEQTDm/uvwAAAAAAAPC/+VREEw5v7r+l9Jebd+Ppv01adQQjz+K/RukvN+/G0798RhMgKPjkPFnpLzfvxtM/b1p1BCPP4j+99Jebd+PpPxBVRBMOb+4/AAAAAAAA8D/5VEQTDm/uP7j0l5t34+k/aFp1BCPP4j9I6S8378bTP7sA4rzF3eO8lOkvN+/G079UWnUEI8/iv6r0l5t34+m/BVVEEw5v7r8AAAAAAADwvwNVRBMOb+6/pvSXm3fj6b9OWnUEI8/ivw3pLzfvxtO/CoqeTDl52rxV6S8378bTP21adQQjz+I/lvSXm3fj6T/7VEQTDm/uPwAAAAAAAPA/+lREEw5v7j+U9Jebd+PpP2ladQQjz+I/TOkvN+/G0z86dX/2AKnhvI/pLzfvxtO/hlp1BCPP4r+o9Jebd+PpvwVVRBMOb+6/AAAAAAAA8L/wVEQTDm/uv6f0l5t34+m/UFp1BCPP4r8R6S8378bTv70Xp0lPR/g8yukvN+/G0z9rWnUEI8/iP7v0l5t34+k/DlVEEw5v7j8AAAAAAADwPw5VRBMOb+4/u/SXm3fj6T9rWnUEI8/iP1DpLzfvxtM/c9M5YHjo3rwR6S8378bTv1BadQQjz+K/p/SXm3fj6b8EVUQTDm/uvwAAAAAAAPC/BVVEEw5v7r+o9Jebd+Ppv1JadQQjz+K/FukvN+/G078HXBQzJqbhvEzpLzfvxtM/aVp1BCPP4j+59Jebd+PpPw5VRBMOb+4/AAAAAAAA8D/7VEQTDm/uP5b0l5t34+k/OVp1BCPP4j/b6C8378bTP3G8dNPuftq8h+kvN+/G07+CWnUEI8/iv8z0l5t34+m/F1VEEw5v7r8AAAAAAADwvwVVRBMOb+6/qvSXm3fj6b+IWnUEI8/iv5TpLzfvxtO/iOd2+era47xI6S8378bTP2hadQQjz+I/kvSXm3fj6T/5VEQTDm/uPwAAAAAAAPA//FREEw5v7j+Y9Jebd+PpP29adQQjz+I/WekvN+/G0z9wpa9GZRXWvIPpLzfvxtO/gVp1BCPP4r+l9Jebd+PpvwNVRBMOb+6/AAAAAAAA8L/yVEQTDm/uv4b0l5t34+m/Vlp1BCPP4r8e6S8378bTv3xGEyAo+PQ8vukvN+/G0z9mWnUEI8/iP7f0l5t34+k/DFVEEw5v7j8AAAAAAADwP+lURBMOb+4/c/SXm3fj6T8JWnUEI8/iP13pLzfvxtM/bo7qudur0bx/6S8378bTv39adQQjz+K/fvSXm3fj6b/uVEQTDm/uvwAAAAAAAPC/B1VEEw5v7r+s9Jebd+Ppv1hadQQjz+K/IukvN+/G07+7AOK8xd3zPLnpLzfvxtM/mFp1BCPP4j+Q9Jebd+PpP/hURBMOb+4/AAAAAAAA8D/9VEQTDm/uP5r0l5t34+k/Plp1BCPP4j/n6C8378bTP+6upEVKqAG99OkvN+/G079JWnUEI8/iv6L0l5t34+m/AVVEEw5v7r8AAAAAAADwv/RURBMOb+6/iPSXm3fj6b8mWnUEI8/iv63oLzfvxtO/CoqeTDl56rw76S8378bTP2JadQQjz+I/tPSXm3fj6T8LVUQTDm/uPwAAAAAAAPA/ElVEEw5v7j/B9Jebd+PpP3RadQQjz+I/ZekvN+/G0z/VwMBAkbHBvHbpLzfvxtO/e1p1BCPP4r/G9Jebd+PpvxRVRBMOb+6/AAAAAAAA8L8IVUQTDm/uv6/0l5t34+m/W1p1BCPP4r8r6S8378bTvzp1f/YAqfE8sekvN+/G0z+UWnUEI8/iP9j0l5t34+k/HlVEEw5v7j8AAAAAAADwP/9URBMOb+4/nfSXm3fj6T9CWnUEI8/iP/DoLzfvxtM/LWlz4ueNAL3s6S8378bTv61adQQjz+K/6/SXm3fj6b8AVUQTDm/uvwAAAAAAAPC/9VREEw5v7r+L9Jebd+PpvyladQQjz+K/tegvN+/G07+9F6dJT0cIPSbqLzfvxtM/xlp1BCPP4j/99Jebd+PpPwlVRBMOb+4/AAAAAAAA8D/rVEQTDm/uP3n0l5t34+k/EFp1BCPP4j9u6S8378bTP0OcyVgb1ja8eugvN+/G078QWnUEI8/iv3n0l5t34+m/61REEw5v7r8AAAAAAADwvwlVRBMOb+6/sfSXm3fj6b9fWnUEI8/ivzPpLzfvxtO/c9M5YHjo7jy16C8378bTPyladQQjz+I/i/SXm3fj6T/1VEQTDm/uPwAAAAAAAPA/AFVEEw5v7j+g9Jebd+PpP0ZadQQjz+I/+OgvN+/G0z/ZRoT+Cuf+vPDoLzfvxtO/Qlp1BCPP4r+d9Jebd+Ppv/9URBMOb+6/AAAAAAAA8L/2VEQTDm/uv430l5t34+m/LVp1BCPP4r+96C8378bTvwdcFDMmpvG8K+kvN+/G0z9bWnUEI8/iP6/0l5t34+k/CFVEEw5v7j8AAAAAAADwP+1URBMOb+4/e/SXm3fj6T8UWnUEI8/iP4PoLzfvxtM/OfdnJbuawTxl6S8378bTv3RadQQjz+K/wfSXm3fj6b8SVUQTDm/uvwAAAAAAAPC/41REEw5v7r9p9Jebd+Ppv/tZdQQjz+K/O+kvN+/G079xvHTT7n7qPKDpLzfvxtM/jVp1BCPP4j/T9Jebd+PpPxtVRBMOb+4/AAAAAAAA8D/aVEQTDm/uP1f0l5t34+k/4ll1BCPP4j8B6S8378bTP1i7IThGsvy82+kvN+/G078+WnUEI8/iv5r0l5t34+m//VREEw5v7r8AAAAAAADwvx9VRBMOb+6/2/SXm3fj6b+YWnUEI8/iv7npLzfvxtO/iOd2+era87wi6S8378bTP1hadQQjz+I/rPSXm3fj6T8HVUQTDm/uPwAAAAAAAPA/FlVEEw5v7j/J9Jebd+PpP39adQQjz+I/fukvN+/G0z+gKT6scKDRPF3pLzfvxtO/cFp1BCPP4r+/9Jebd+PpvxBVRBMOb+6/AAAAAAAA8L8MVUQTDm/uv7f0l5t34+m/Zlp1BCPP4r9E6S8378bTv3Clr0ZlFeY8mOkvN+/G0z+KWnUEI8/iP9H0l5t34+k/GlVEEw5v7j8AAAAAAADwPwNVRBMOb+4/pfSXm3fj6T9NWnUEI8/iPwnpLzfvxtM/2C+/cYF9+rzS6S8378bTv6JadQQjz+K/4/SXm3fj6b8jVUQTDm/uvwAAAAAAAPC/+VREEw5v7r+S9Jebd+PpvzRadQQjz+K/zugvN+/G0798RhMgKPgEPQ3qLzfvxtM/vFp1BCPP4j/19Jebd+PpPwVVRBMOb+4/AAAAAAAA8D/wVEQTDm/uP4D0l5t34+k/G1p1BCPP4j+H6S8378bTPwz1RoePsQy9VekvN+/G07/UWnUEI8/iv7z0l5t34+m/NlVEEw5v7r8AAAAAAADwv75URBMOb+6/BfWXm3fj6b9pWnUEI8/iv0DqLzfvxtO/bo7qudur4Tyc6C8378bTP4ZadQQjz+I/g/SXm3fj6T8YVUQTDm/uPwAAAAAAAPA/LFVEEw5v7j+n9Jebd+PpP7hadQQjz+I/EekvN+/G0z/VrVGqodsDPcrpLzfvxtO/N1p1BCPP4r/g9Jebd+Ppv/pURBMOb+6/AAAAAAAA8L/6VEQTDm/uv+D0l5t34+m/N1p1BCPP4r/K6S8378bTv7sA4rzF3QM9EekvN+/G0z+4WnUEI8/iP6f0l5t34+k/LFVEEw5v7j8AAAAAAADwPxhVRBMOb+4/g/SXm3fj6T+GWnUEI8/iP5zoLzfvxtM/00Kpb0uj4TxA6i8378bTv2ladQQjz+K/BfWXm3fj6b8OVUQTDm/uvwAAAAAAAPC/51REEw5v7r+89Jebd+PpvwVadQQjz+K/VekvN+/G07/urqRFSqgRPYfpLzfvxtM/6lp1BCPP4j/M9Jebd+PpP/BURBMOb+4/AAAAAAAA8D8FVUQTDm/uP1/0l5t34+k/VFp1BCPP4j8m6C8378bTP9YY+uT3E/a8teovN+/G07+bWnUEI8/ivyn1l5t34+m/IVVEEw5v7r8AAAAAAADwv9RURBMOb+6/mPSXm3fj6b/TWXUEI8/iv9/oLzfvxtO/CoqeTDl5+rwW6C8378bTP01adQQjz+I/WfSXm3fj6T8DVUQTDm/uPwAAAAAAAPA/8lREEw5v7j/R9Jebd+PpPyJadQQjz+I/mOkvN+/G0z+LaeTAynwKvUTpLzfvxtO//ll1BCPP4r+39Jebd+Ppv+VURBMOb+6/AAAAAAAA8L8QVUQTDm/uv3P0l5t34+m/cFp1BCPP4r9p6C8378bTv9XAwECRsdE8i+gvN+/G0z9/WnUEI8/iP370l5t34+k/FlVEEw5v7j8AAAAAAADwP99URBMOb+4/rPSXm3fj6T/wWXUEI8/iPyLpLzfvxtM/VTm0cGYQBj256S8378bTvzBadQQjz+K/2/SXm3fj6b/4VEQTDm/uvwAAAAAAAPC//VREEw5v7r9P9Jebd+Ppvz5adQQjz+K/9OcvN+/G0786dX/2AKkBPQHpLzfvxtM/sVp1BCPP4j+i9Jebd+PpPylVRBMOb+4/AAAAAAAA8D/MVEQTDm/uP4j0l5t34+k/vll1BCPP4j+t6C8378bTP9dwM4leduo8L+ovN+/G079iWnUEI8/iv//0l5t34+m/C1VEEw5v7r8AAAAAAADwv+pURBMOb+6/K/SXm3fj6b8MWnUEI8/iv2XpLzfvxtO/LWlz4ueNED126S8378bTP+NadQQjz+I/xvSXm3fj6T88VUQTDm/uPwAAAAAAAPA/uVREEw5v7j9k9Jebd+PpP1tadQQjz+I/N+gvN+/G0z/UATVYbqrxvKTqLzfvxtO/lFp1BCPP4r8k9Zebd+Ppvx5VRBMOb+6/AAAAAAAA8L/XVEQTDm/uvwb0l5t34+m/2ll1BCPP4r/w6C8378bTv70Xp0lPRxg97OkvN+/G0z8VW3UEI8/iP+v0l5t34+k/T1VEEw5v7j8AAAAAAADwP6ZURBMOb+4/P/SXm3fj6T8pWnUEI8/iP8LnLzfvxtM/Ct6B+gVICL0a6y8378bTv8ZadQQjz+K/SPWXm3fj6b8xVUQTDm/uvwAAAAAAAPC/xFREEw5v7r8P9Zebd+Ppv3hadQQjz+K/YeovN+/G079DnMlYG9ZGPHroLzfvxtM/qFl1BCPP4j959Jebd+PpP8RURBMOb+4/AAAAAAAA8D8xVUQTDm/uP7H0l5t34+k/xlp1BCPP4j8z6S8378bTP9bEFjcrRQg9qekvN+/G078pWnUEI8/ivz/0l5t34+m/9VREEw5v7r8AAAAAAADwvwBVRBMOb+6/6/SXm3fj6b9GWnUEI8/iv+zpLzfvxtO/c9M5YHjo/jzw6C8378bTP9pZdQQjz+I/nfSXm3fj6T/XVEQTDm/uPwAAAAAAAPA/HlVEEw5v7j+N9Jebd+PpP5RadQQjz+I/vegvN+/G0z9tz17RuKTxPDfoLzfvxtO/W1p1BCPP4r9k9Jebd+PpvwhVRBMOb+6/AAAAAAAA8L/tVEQTDm/uv8b0l5t34+m/FFp1BCPP4r926S8378bTv9lGhP4K5w49ZekvN+/G0z8MWnUEI8/iP8H0l5t34+k/6lREEw5v7j8AAAAAAADwPwtVRBMOb+4/afSXm3fj6T9iWnUEI8/iP0joLzfvxtM/pdXflsmB6ryt6C8378bTv41adQQjz+K/iPSXm3fj6b8bVUQTDm/uvwAAAAAAAPC/2lREEw5v7r+i9Jebd+Ppv+JZdQQjz+K/AekvN+/G078HXBQzJqYBvdvpLzfvxtM/Plp1BCPP4j/m9Jebd+PpP/1URBMOb+4/AAAAAAAA8D/4VEQTDm/uP0X0l5t34+k/MFp1BCPP4j+56S8378bTP4lSHzRBEwa9IukvN+/G07+/WnUEI8/iv6z0l5t34+m/LlVEEw5v7r8AAAAAAADwv8dURBMOb+6/fvSXm3fj6b+wWXUEI8/iv4voLzfvxtO/OfdnJbua0bxQ6i8378bTP3BadQQjz+I/CvWXm3fj6T8QVUQTDm/uPwAAAAAAAPA/5VREEw5v7j8g9Jebd+PpP/5ZdQQjz+I/ROkvN+/G0z/UV0MBCMMSvZjpLzfvxtO/8Vp1BCPP4r/R9Jebd+Ppv0FVRBMOb+6/AAAAAAAA8L+0VEQTDm/uv1n0l5t34+m/TVp1BCPP4r8V6C8378bTv3G8dNPufvo8xuovN+/G0z+iWnUEI8/iPy71l5t34+k/I1VEEw5v7j8AAAAAAADwP9JURBMOb+4//POXm3fj6T/MWXUEI8/iP87oLzfvxtM/ZAZ3aG98Gr0N6i8378bTvyNbdQQjz+K/9fSXm3fj6b9VVUQTDm/uvwAAAAAAAPC/oFREEw5v7r819Jebd+PpvxtadQQjz+K/oOcvN+/G079YuyE4RrIMPTzrLzfvxtM/1Fp1BCPP4j9T9Zebd+PpP+dURBMOb+4/AAAAAAAA8D8OVUQTDm/uPwX1l5t34+k/aVp1BCPP4j9A6i8378bTP6GnVX22ruG8nOgvN+/G07+3WXUEI8/iv4P0l5t34+m/yVREEw5v7r8AAAAAAADwvyxVRBMOb+6/p/SXm3fj6b+4WnUEI8/ivxHpLzfvxtO/iOd2+eraA73K6S8378bTPzdadQQjz+I/SvSXm3fj6T/6VEQTDm/uPwAAAAAAAPA/+lREEw5v7j/g9Jebd+PpPzdadQQjz+I/yukvN+/G0z8Ix7xtfN4DvRHpLzfvxtO/6Vl1BCPP4r+n9Jebd+Ppv9xURBMOb+6/AAAAAAAA8L8YVUQTDm/uv4P0l5t34+m/hlp1BCPP4r+c6C8378bTv6ApPqxwoOG8WegvN+/G0z9pWnUEI8/iP270l5t34+k/DlVEEw5v7j8AAAAAAADwP+dURBMOb+4/vPSXm3fj6T8FWnUEI8/iP1TpLzfvxtM/2Nvbw7SuDD2H6S8378bTvxtadQQjz+K/zPSXm3fj6b/wVEQTDm/uvwAAAAAAAPC/BVVEEw5v7r9f9Jebd+Ppv1RadQQjz+K/JugvN+/G079wpa9GZRX2PM7oLzfvxtM/m1p1BCPP4j+S9Jebd+PpPyFVRBMOb+4/AAAAAAAA8D/UVEQTDm/uP5j0l5t34+k/01l1BCPP4j/f6C8378bTP3H96OrLd/o8/OkvN+/G079NWnUEI8/iv/D0l5t34+m/A1VEEw5v7r8AAAAAAADwv/JURBMOb+6/OvSXm3fj6b8iWnUEI8/iv5jpLzfvxtO/2C+/cYF9Cj1E6S8378bTP81adQQjz+I/t/SXm3fj6T80VUQTDm/uPwAAAAAAAPA/wVREEw5v7j9z9Jebd+PpP6FZdQQjz+I/aegvN+/G0z8885bHRrfRvHLqLzfvxtO/f1p1BCPP4r8U9Zebd+PpvxZVRBMOb+6/AAAAAAAA8L/fVEQTDm/uvxb0l5t34+m/8Fl1BCPP4r8i6S8378bTv3xGEyAo+BQ9uekvN+/G0z//WnUEI8/iP9v0l5t34+k/R1VEEw5v7j8AAAAAAADwP65URBMOb+4/T/SXm3fj6T8+WnUEI8/iP/TnLzfvxtM/hztap7epAb3o6i8378bTv7FadQQjz+K/OfWXm3fj6b8pVUQTDm/uvwAAAAAAAPC/zFREEw5v7r+I9Jebd+Ppv41adQQjz+K/xuYvN+/G078M9UaHj7EcPS/qLzfvxtM/Ylp1BCPP4j+W9Zebd+PpP1pVRBMOb+4/AAAAAAAA8D/qVEQTDm/uP8H0l5t34+k/PVl1BCPP4j9+5y8378bTP1TM4DpDjhC9dukvN+/G07+yW3UEI8/ivzD0l5t34+m/nlREEw5v7r8AAAAAAADwvwhVRBMOb+6/+vSXm3fj6b8qW3UEI8/ivzfoLzfvxtO/bo7qudur8Ty96C8378bTP8VZdQQjz+I/9/OXm3fj6T8eVUQTDm/uPwAAAAAAAPA/JlVEEw5v7j8z9Zebd+PpP9pZdQQjz+I/8OgvN+/G0z9yFK53VeH+PAXoLzfvxtO/dll1BCPP4r/r9Jebd+PpvwBVRBMOb+6/AAAAAAAA8L9EVUQTDm/uvz/0l5t34+m/KVp1BCPP4r+o6S8378bTv9WtUaqh2xO9TOcvN+/G0z/GWnUEI8/iP7L0l5t34+k/4lREEw5v7j8AAAAAAADwP8RURBMOb+4/efSXm3fj6T94WnUEI8/iP2HqLzfvxtM/uhSkBIkAIL1h6i8378bTv3hadQQjz+K/efSXm3fj6b/EVEQTDm/uvwAAAAAAAPC/4lREEw5v7r+x9Jebd+Ppv8ZadQQjz+K/TOcvN+/G07+7AOK8xd0TPanpLzfvxtM/KVp1BCPP4j8/9Jebd+PpP0RVRBMOb+4/AAAAAAAA8D8AVUQTDm/uP+v0l5t34+k/dll1BCPP4j8F6C8378bTPw1g78Hl6f688OgvN+/G07/aWXUEI8/ivzP1l5t34+m/JlVEEw5v7r8AAAAAAADwvx5VRBMOb+6/9/OXm3fj6b/FWXUEI8/iv73oLzfvxtO/00Kpb0uj8bw36C8378bTPypbdQQjz+I/+vSXm3fj6T8IVUQTDm/uPwAAAAAAAPA/nlREEw5v7j8w9Jebd+PpPxRadQQjz+I/dukvN+/G0z9teVAoH4wQPUzrLzfvxtO/3Fp1BCPP4r/B9Jebd+Ppv+pURBMOb+6/AAAAAAAA8L+8VEQTDm/uv2n0l5t34+m/Ylp1BCPP4r8v6i8378bTv+6upEVKqCE9lOovN+/G0z+NWnUEI8/iP4j0l5t34+k/alVEEw5v7j8AAAAAAADwP9pURBMOb+4/ovSXm3fj6T+xWnUEI8/iPxrnLzfvxtM/IzXjPkgtF73b6S8378bTvz5adQQjz+K/fPWXm3fj6b9MVUQTDm/uvwAAAAAAAPC/+FREEw5v7r+u85ebd+Ppv2FZdQQjz+K/0ucvN+/G07/WGPrk9xMGPSLpLzfvxtM/jlt1BCPP4j9D9Zebd+PpPy5VRBMOb+4/AAAAAAAA8D94VEQTDm/uP+fzl5t34+k/sFl1BCPP4j+L6C8378bTP9LEkZ4FldE8N+wvN+/G079AW3UEI8/ivwr1l5t34+m/EFVEEw5v7r8AAAAAAADwv5ZURBMOb+6/IPSXm3fj6b/+WXUEI8/iv0TpLzfvxtO/CoqeTDl5Cr2x5y8378bTP1NZdQQjz+I/0fSXm3fj6T/yVEQTDm/uPwAAAAAAAPA/UlVEEw5v7j9Z9Jebd+PpP01adQQjz+I//OkvN+/G0z+9bbXy6F8ZPcbqLzfvxtO/olp1BCPP4r+Y9Jebd+Ppv9RURBMOb+6/AAAAAAAA8L/SVEQTDm/uv5L0l5t34+m/m1p1BCPP4r+16i8378bTv4tp5MDKfBo9DeovN+/G0z9UWnUEI8/iP1/0l5t34+k/tlREEw5v7j8AAAAAAADwP/BURBMOb+4/zPSXm3fj6T/qWnUEI8/iP6DnLzfvxtM/pYH86PyyDL1V6S8378bTvwVadQQjz+K/JvSXm3fj6b82VUQTDm/uvwAAAAAAAPC/DlVEEw5v7r8F9Zebd+Ppv5pZdQQjz+K/WegvN+/G078=\",\"dtype\":\"float64\",\"order\":\"little\",\"shape\":[1000]}},\"selected\":{\"id\":\"1412\"},\"selection_policy\":{\"id\":\"1413\"}},\"id\":\"1365\",\"type\":\"ColumnDataSource\"},{\"attributes\":{\"overlay\":{\"id\":\"1357\"}},\"id\":\"1353\",\"type\":\"BoxZoomTool\"},{\"attributes\":{},\"id\":\"1352\",\"type\":\"WheelZoomTool\"}],\"root_ids\":[\"1334\"]},\"title\":\"Bokeh Application\",\"version\":\"2.3.2\"}};\n",
       "  var render_items = [{\"docid\":\"fd57b16f-2799-4675-a71d-ac224c76f674\",\"root_ids\":[\"1334\"],\"roots\":{\"1334\":\"9b7830ad-5a7a-4fd6-9659-1bf64be8641a\"}}];\n",
       "  root.Bokeh.embed.embed_items_notebook(docs_json, render_items);\n",
       "\n",
       "  }\n",
       "  if (root.Bokeh !== undefined) {\n",
       "    embed_document(root);\n",
       "  } else {\n",
       "    var attempts = 0;\n",
       "    var timer = setInterval(function(root) {\n",
       "      if (root.Bokeh !== undefined) {\n",
       "        clearInterval(timer);\n",
       "        embed_document(root);\n",
       "      } else {\n",
       "        attempts++;\n",
       "        if (attempts > 100) {\n",
       "          clearInterval(timer);\n",
       "          console.log(\"Bokeh: ERROR: Unable to run BokehJS code because BokehJS library is missing\");\n",
       "        }\n",
       "      }\n",
       "    }, 10, root)\n",
       "  }\n",
       "})(window);"
      ],
      "application/vnd.bokehjs_exec.v0+json": ""
     },
     "metadata": {
      "application/vnd.bokehjs_exec.v0+json": {
       "id": "1334"
      }
     },
     "output_type": "display_data"
    }
   ],
   "source": [
    "t=np.arange(0, 1, 0.001)\n",
    "y=np.sin(2*np.pi*50*t)\n",
    "p=figure(plot_width=600, plot_height=300)\n",
    "\n",
    "p.line(t, y, line_color=\"Red\")\n",
    "\n",
    "p.xaxis.axis_label=\"Time\"\n",
    "p.xaxis.axis_line_color=\"blue\"\n",
    "p.xaxis.axis_line_width=3\n",
    "\n",
    "p.yaxis.axis_label=\"Magnitude\"\n",
    "p.yaxis.major_label_text_color='orange'\n",
    "\n",
    "p.axis.minor_tick_in=-3\n",
    "p.axis.minor_tick_out=6\n",
    "\n",
    "show(p)"
   ]
  },
  {
   "cell_type": "code",
   "execution_count": null,
   "metadata": {},
   "outputs": [],
   "source": []
  },
  {
   "cell_type": "code",
   "execution_count": null,
   "metadata": {},
   "outputs": [],
   "source": []
  },
  {
   "cell_type": "code",
   "execution_count": null,
   "metadata": {},
   "outputs": [],
   "source": []
  },
  {
   "cell_type": "code",
   "execution_count": null,
   "metadata": {},
   "outputs": [],
   "source": []
  },
  {
   "cell_type": "code",
   "execution_count": null,
   "metadata": {},
   "outputs": [],
   "source": []
  },
  {
   "cell_type": "code",
   "execution_count": null,
   "metadata": {},
   "outputs": [],
   "source": []
  },
  {
   "cell_type": "markdown",
   "metadata": {},
   "source": [
    "## Positioning the toolbar"
   ]
  },
  {
   "cell_type": "code",
   "execution_count": 9,
   "metadata": {},
   "outputs": [
    {
     "data": {
      "text/html": [
       "\n",
       "\n",
       "\n",
       "\n",
       "\n",
       "\n",
       "  <div class=\"bk-root\" id=\"1ccb7faf-d656-48c3-9e50-c355689b84ec\" data-root-id=\"1469\"></div>\n"
      ]
     },
     "metadata": {},
     "output_type": "display_data"
    },
    {
     "data": {
      "application/javascript": [
       "(function(root) {\n",
       "  function embed_document(root) {\n",
       "    \n",
       "  var docs_json = {\"3900127c-7051-4977-9adc-7c6cc7883638\":{\"defs\":[],\"roots\":{\"references\":[{\"attributes\":{\"below\":[{\"id\":\"1478\"}],\"center\":[{\"id\":\"1481\"},{\"id\":\"1485\"}],\"height\":300,\"left\":[{\"id\":\"1482\"}],\"renderers\":[{\"id\":\"1503\"}],\"title\":{\"id\":\"1549\"},\"toolbar\":{\"id\":\"1493\"},\"x_range\":{\"id\":\"1470\"},\"x_scale\":{\"id\":\"1474\"},\"y_range\":{\"id\":\"1472\"},\"y_scale\":{\"id\":\"1476\"}},\"id\":\"1469\",\"subtype\":\"Figure\",\"type\":\"Plot\"},{\"attributes\":{},\"id\":\"1558\",\"type\":\"Selection\"},{\"attributes\":{},\"id\":\"1491\",\"type\":\"HelpTool\"},{\"attributes\":{},\"id\":\"1559\",\"type\":\"UnionRenderers\"},{\"attributes\":{},\"id\":\"1555\",\"type\":\"BasicTickFormatter\"},{\"attributes\":{\"line_color\":\"red\",\"line_width\":2,\"x\":{\"field\":\"x\"},\"y\":{\"field\":\"y\"}},\"id\":\"1501\",\"type\":\"Line\"},{\"attributes\":{\"data\":{\"x\":{\"__ndarray__\":\"AAAAAAAAAACamZmZmZm5P5qZmZmZmck/NDMzMzMz0z+amZmZmZnZPwAAAAAAAOA/NDMzMzMz4z9nZmZmZmbmP5qZmZmZmek/zczMzMzM7D8AAAAAAADwP5qZmZmZmfE/NDMzMzMz8z/NzMzMzMz0P2dmZmZmZvY/AAAAAAAA+D+amZmZmZn5PzQzMzMzM/s/zczMzMzM/D9nZmZmZmb+PwAAAAAAAABAzczMzMzMAECamZmZmZkBQGdmZmZmZgJANDMzMzMzA0AAAAAAAAAEQM3MzMzMzARAmpmZmZmZBUBnZmZmZmYGQDQzMzMzMwdAAAAAAAAACEDNzMzMzMwIQJqZmZmZmQlAZ2ZmZmZmCkA0MzMzMzMLQAAAAAAAAAxAzczMzMzMDECamZmZmZkNQGdmZmZmZg5ANDMzMzMzD0AAAAAAAAAQQGdmZmZmZhBAzczMzMzMEEAzMzMzMzMRQJqZmZmZmRFAAAAAAAAAEkBnZmZmZmYSQM3MzMzMzBJANDMzMzMzE0CamZmZmZkTQAAAAAAAABRAZ2ZmZmZmFEDNzMzMzMwUQDQzMzMzMxVAmpmZmZmZFUAAAAAAAAAWQGdmZmZmZhZAzczMzMzMFkA0MzMzMzMXQJqZmZmZmRdAAAAAAAAAGEBnZmZmZmYYQM3MzMzMzBhANDMzMzMzGUCamZmZmZkZQAAAAAAAABpAZ2ZmZmZmGkDNzMzMzMwaQDQzMzMzMxtAmpmZmZmZG0AAAAAAAAAcQGdmZmZmZhxAzczMzMzMHEA0MzMzMzMdQJqZmZmZmR1AAAAAAAAAHkBnZmZmZmYeQM3MzMzMzB5ANDMzMzMzH0CamZmZmZkfQAAAAAAAACBAMzMzMzMzIEBnZmZmZmYgQJqZmZmZmSBAzczMzMzMIEAAAAAAAAAhQDMzMzMzMyFAZ2ZmZmZmIUCamZmZmZkhQM3MzMzMzCFAAAAAAAAAIkAzMzMzMzMiQGdmZmZmZiJAmpmZmZmZIkDNzMzMzMwiQAAAAAAAACNANDMzMzMzI0BnZmZmZmYjQJqZmZmZmSNAzczMzMzMI0A=\",\"dtype\":\"float64\",\"order\":\"little\",\"shape\":[100]},\"y\":{\"__ndarray__\":\"AAAAAAAAAAAsy4vLro65P7zSPSP/bck/NLq6lc3p0j9rZyvpOuzYP/AFS3Tort4/WkGlF40R4j+5GUZpbp3kP83+v8KU9OY/QahdmAMR6T/uDAmPVO3qPzhjLUzFhOw/xVUaokPT7T9LHsX5d9XuPwPhRN/NiO8/i20sm3rr7z/FQuDHgfzvP7aYL9e3u+8/8BW9gcIp7z9XOBofF0juP0a00er2GO0/+3LrP2mf6z8I16rZM9/pPyIvWC3R3Oc/mNHD9WSd5T+wys8NrybjP7uFoLv8fuA/DKckJDFa2z/A5V0jcnDVP9MwSNa4n84/W9W2bTgQwj8uEJiCD0qlPzIt6Dk3462/lwy3ygIxxL90TP8QyVrQvx9iun47c9a/8dHwQ0FS3L9BGy7savTgv6DA7P9WlOO/zrMfLS4C5r+uHtzduTfov73I4npTL+q/2BLQ3/Lj678ligE6O1Htv/AoRTGGc+6/gEDHPe1H77+67F0TUczvv1LsNw9f/++//z0MmpTg77+k6yJ2QHDvvzOZ4PWBr+6/uSLYHEag7b/XJLqyQkXsvzcSvFTvoeq/cAUyl3y66L9XsApOyZPmv7T1lhdWM+S/oMd6STef4b/K347HCrzdvxu9C2SY7de/wKKwivHh0b9c+zPXGVHHvx3NvttYRbW/fj/Lwqk3kT8sKjUvK9a9PzzLxkANics/kgnpL0vw0z/8iDWkD+nZPwkR6pqNn98/vxrYG5SC4j8ICm3CCAblP4tjZOG2U+c/D8njJbpl6T9JdB3cxjbrP/YpBXs3wuw/MK78hhgE7j8P+BCtMvnuP1hU7vwSn+8/L7eALBH07z+pXzrVU/fvP3vPKKDSqO8/Z7RJW1YJ7z8uM+n3dhruP09hK3eX3uw/mvctz99Y6z/82V/YNI3pPy2xtFcugOc/96EuPws35T/d0spCpLfiP4A3I+RcCOA/kS8MNiZg2j8X2Z+JG2zUP2ub1R2oh8w/UCzOvj7cvz/iQUSoul6ZP3onpJQaPbO/KLcVCFdQxr9zobGuhmTRvwJus+BkdNe/cLYgoURI3b8=\",\"dtype\":\"float64\",\"order\":\"little\",\"shape\":[100]}},\"selected\":{\"id\":\"1558\"},\"selection_policy\":{\"id\":\"1559\"}},\"id\":\"1500\",\"type\":\"ColumnDataSource\"},{\"attributes\":{},\"id\":\"1556\",\"type\":\"AllLabels\"},{\"attributes\":{\"data_source\":{\"id\":\"1500\"},\"glyph\":{\"id\":\"1501\"},\"hover_glyph\":null,\"muted_glyph\":null,\"nonselection_glyph\":{\"id\":\"1502\"},\"view\":{\"id\":\"1504\"}},\"id\":\"1503\",\"type\":\"GlyphRenderer\"},{\"attributes\":{\"axis\":{\"id\":\"1482\"},\"dimension\":1,\"ticker\":null},\"id\":\"1485\",\"type\":\"Grid\"},{\"attributes\":{\"source\":{\"id\":\"1500\"}},\"id\":\"1504\",\"type\":\"CDSView\"},{\"attributes\":{\"line_alpha\":0.1,\"line_color\":\"red\",\"line_width\":2,\"x\":{\"field\":\"x\"},\"y\":{\"field\":\"y\"}},\"id\":\"1502\",\"type\":\"Line\"},{\"attributes\":{},\"id\":\"1483\",\"type\":\"BasicTicker\"},{\"attributes\":{},\"id\":\"1489\",\"type\":\"SaveTool\"},{\"attributes\":{\"formatter\":{\"id\":\"1552\"},\"major_label_policy\":{\"id\":\"1553\"},\"ticker\":{\"id\":\"1479\"}},\"id\":\"1478\",\"type\":\"LinearAxis\"},{\"attributes\":{},\"id\":\"1479\",\"type\":\"BasicTicker\"},{\"attributes\":{\"axis\":{\"id\":\"1478\"},\"ticker\":null},\"id\":\"1481\",\"type\":\"Grid\"},{\"attributes\":{\"formatter\":{\"id\":\"1555\"},\"major_label_policy\":{\"id\":\"1556\"},\"ticker\":{\"id\":\"1483\"}},\"id\":\"1482\",\"type\":\"LinearAxis\"},{\"attributes\":{\"bottom_units\":\"screen\",\"fill_alpha\":0.5,\"fill_color\":\"lightgrey\",\"left_units\":\"screen\",\"level\":\"overlay\",\"line_alpha\":1.0,\"line_color\":\"black\",\"line_dash\":[4,4],\"line_width\":2,\"right_units\":\"screen\",\"syncable\":false,\"top_units\":\"screen\"},\"id\":\"1492\",\"type\":\"BoxAnnotation\"},{\"attributes\":{},\"id\":\"1490\",\"type\":\"ResetTool\"},{\"attributes\":{},\"id\":\"1472\",\"type\":\"DataRange1d\"},{\"attributes\":{\"active_multi\":null,\"tools\":[{\"id\":\"1486\"},{\"id\":\"1487\"},{\"id\":\"1488\"},{\"id\":\"1489\"},{\"id\":\"1490\"},{\"id\":\"1491\"}]},\"id\":\"1493\",\"type\":\"Toolbar\"},{\"attributes\":{},\"id\":\"1470\",\"type\":\"DataRange1d\"},{\"attributes\":{\"overlay\":{\"id\":\"1492\"}},\"id\":\"1488\",\"type\":\"BoxZoomTool\"},{\"attributes\":{},\"id\":\"1476\",\"type\":\"LinearScale\"},{\"attributes\":{},\"id\":\"1552\",\"type\":\"BasicTickFormatter\"},{\"attributes\":{},\"id\":\"1553\",\"type\":\"AllLabels\"},{\"attributes\":{},\"id\":\"1549\",\"type\":\"Title\"},{\"attributes\":{},\"id\":\"1487\",\"type\":\"WheelZoomTool\"},{\"attributes\":{},\"id\":\"1474\",\"type\":\"LinearScale\"},{\"attributes\":{},\"id\":\"1486\",\"type\":\"PanTool\"}],\"root_ids\":[\"1469\"]},\"title\":\"Bokeh Application\",\"version\":\"2.3.2\"}};\n",
       "  var render_items = [{\"docid\":\"3900127c-7051-4977-9adc-7c6cc7883638\",\"root_ids\":[\"1469\"],\"roots\":{\"1469\":\"1ccb7faf-d656-48c3-9e50-c355689b84ec\"}}];\n",
       "  root.Bokeh.embed.embed_items_notebook(docs_json, render_items);\n",
       "\n",
       "  }\n",
       "  if (root.Bokeh !== undefined) {\n",
       "    embed_document(root);\n",
       "  } else {\n",
       "    var attempts = 0;\n",
       "    var timer = setInterval(function(root) {\n",
       "      if (root.Bokeh !== undefined) {\n",
       "        clearInterval(timer);\n",
       "        embed_document(root);\n",
       "      } else {\n",
       "        attempts++;\n",
       "        if (attempts > 100) {\n",
       "          clearInterval(timer);\n",
       "          console.log(\"Bokeh: ERROR: Unable to run BokehJS code because BokehJS library is missing\");\n",
       "        }\n",
       "      }\n",
       "    }, 10, root)\n",
       "  }\n",
       "})(window);"
      ],
      "application/vnd.bokehjs_exec.v0+json": ""
     },
     "metadata": {
      "application/vnd.bokehjs_exec.v0+json": {
       "id": "1469"
      }
     },
     "output_type": "display_data"
    }
   ],
   "source": [
    "x=np.arange(0,10,0.1)\n",
    "y=np.sin(x)\n",
    "p=figure(plot_width=600, plot_height=300)\n",
    "p.line(x,y, color=\"red\", line_width=2)\n",
    "show(p)"
   ]
  },
  {
   "cell_type": "markdown",
   "metadata": {},
   "source": [
    "### Set `toolbar_location` position in `\"left\"` `\"right\"` `\"above\"` `\"below\"`\n",
    "If you would like to hide the toolbar entirely, pass `None`"
   ]
  },
  {
   "cell_type": "code",
   "execution_count": 10,
   "metadata": {},
   "outputs": [
    {
     "data": {
      "text/html": [
       "\n",
       "\n",
       "\n",
       "\n",
       "\n",
       "\n",
       "  <div class=\"bk-root\" id=\"3de3ccd4-d2cf-4e12-9fa7-7560a544db02\" data-root-id=\"1615\"></div>\n"
      ]
     },
     "metadata": {},
     "output_type": "display_data"
    },
    {
     "data": {
      "application/javascript": [
       "(function(root) {\n",
       "  function embed_document(root) {\n",
       "    \n",
       "  var docs_json = {\"509cd541-45ab-418f-941f-0ec23d89bb6e\":{\"defs\":[],\"roots\":{\"references\":[{\"attributes\":{\"below\":[{\"id\":\"1624\"}],\"center\":[{\"id\":\"1627\"},{\"id\":\"1631\"}],\"height\":300,\"left\":[{\"id\":\"1628\"}],\"renderers\":[{\"id\":\"1649\"}],\"title\":{\"id\":\"1706\"},\"toolbar\":{\"id\":\"1639\"},\"toolbar_location\":\"below\",\"x_range\":{\"id\":\"1616\"},\"x_scale\":{\"id\":\"1620\"},\"y_range\":{\"id\":\"1618\"},\"y_scale\":{\"id\":\"1622\"}},\"id\":\"1615\",\"subtype\":\"Figure\",\"type\":\"Plot\"},{\"attributes\":{\"data_source\":{\"id\":\"1646\"},\"glyph\":{\"id\":\"1647\"},\"hover_glyph\":null,\"muted_glyph\":null,\"nonselection_glyph\":{\"id\":\"1648\"},\"view\":{\"id\":\"1650\"}},\"id\":\"1649\",\"type\":\"GlyphRenderer\"},{\"attributes\":{\"formatter\":{\"id\":\"1712\"},\"major_label_policy\":{\"id\":\"1713\"},\"ticker\":{\"id\":\"1629\"}},\"id\":\"1628\",\"type\":\"LinearAxis\"},{\"attributes\":{},\"id\":\"1712\",\"type\":\"BasicTickFormatter\"},{\"attributes\":{\"line_color\":\"red\",\"line_width\":2,\"x\":{\"field\":\"x\"},\"y\":{\"field\":\"y\"}},\"id\":\"1647\",\"type\":\"Line\"},{\"attributes\":{},\"id\":\"1713\",\"type\":\"AllLabels\"},{\"attributes\":{\"source\":{\"id\":\"1646\"}},\"id\":\"1650\",\"type\":\"CDSView\"},{\"attributes\":{},\"id\":\"1616\",\"type\":\"DataRange1d\"},{\"attributes\":{\"line_alpha\":0.1,\"line_color\":\"red\",\"line_width\":2,\"x\":{\"field\":\"x\"},\"y\":{\"field\":\"y\"}},\"id\":\"1648\",\"type\":\"Line\"},{\"attributes\":{},\"id\":\"1622\",\"type\":\"LinearScale\"},{\"attributes\":{},\"id\":\"1637\",\"type\":\"HelpTool\"},{\"attributes\":{},\"id\":\"1620\",\"type\":\"LinearScale\"},{\"attributes\":{},\"id\":\"1706\",\"type\":\"Title\"},{\"attributes\":{\"formatter\":{\"id\":\"1709\"},\"major_label_policy\":{\"id\":\"1710\"},\"ticker\":{\"id\":\"1625\"}},\"id\":\"1624\",\"type\":\"LinearAxis\"},{\"attributes\":{},\"id\":\"1618\",\"type\":\"DataRange1d\"},{\"attributes\":{},\"id\":\"1625\",\"type\":\"BasicTicker\"},{\"attributes\":{\"axis\":{\"id\":\"1624\"},\"ticker\":null},\"id\":\"1627\",\"type\":\"Grid\"},{\"attributes\":{\"axis\":{\"id\":\"1628\"},\"dimension\":1,\"ticker\":null},\"id\":\"1631\",\"type\":\"Grid\"},{\"attributes\":{},\"id\":\"1629\",\"type\":\"BasicTicker\"},{\"attributes\":{\"data\":{\"x\":{\"__ndarray__\":\"AAAAAAAAAACamZmZmZm5P5qZmZmZmck/NDMzMzMz0z+amZmZmZnZPwAAAAAAAOA/NDMzMzMz4z9nZmZmZmbmP5qZmZmZmek/zczMzMzM7D8AAAAAAADwP5qZmZmZmfE/NDMzMzMz8z/NzMzMzMz0P2dmZmZmZvY/AAAAAAAA+D+amZmZmZn5PzQzMzMzM/s/zczMzMzM/D9nZmZmZmb+PwAAAAAAAABAzczMzMzMAECamZmZmZkBQGdmZmZmZgJANDMzMzMzA0AAAAAAAAAEQM3MzMzMzARAmpmZmZmZBUBnZmZmZmYGQDQzMzMzMwdAAAAAAAAACEDNzMzMzMwIQJqZmZmZmQlAZ2ZmZmZmCkA0MzMzMzMLQAAAAAAAAAxAzczMzMzMDECamZmZmZkNQGdmZmZmZg5ANDMzMzMzD0AAAAAAAAAQQGdmZmZmZhBAzczMzMzMEEAzMzMzMzMRQJqZmZmZmRFAAAAAAAAAEkBnZmZmZmYSQM3MzMzMzBJANDMzMzMzE0CamZmZmZkTQAAAAAAAABRAZ2ZmZmZmFEDNzMzMzMwUQDQzMzMzMxVAmpmZmZmZFUAAAAAAAAAWQGdmZmZmZhZAzczMzMzMFkA0MzMzMzMXQJqZmZmZmRdAAAAAAAAAGEBnZmZmZmYYQM3MzMzMzBhANDMzMzMzGUCamZmZmZkZQAAAAAAAABpAZ2ZmZmZmGkDNzMzMzMwaQDQzMzMzMxtAmpmZmZmZG0AAAAAAAAAcQGdmZmZmZhxAzczMzMzMHEA0MzMzMzMdQJqZmZmZmR1AAAAAAAAAHkBnZmZmZmYeQM3MzMzMzB5ANDMzMzMzH0CamZmZmZkfQAAAAAAAACBAMzMzMzMzIEBnZmZmZmYgQJqZmZmZmSBAzczMzMzMIEAAAAAAAAAhQDMzMzMzMyFAZ2ZmZmZmIUCamZmZmZkhQM3MzMzMzCFAAAAAAAAAIkAzMzMzMzMiQGdmZmZmZiJAmpmZmZmZIkDNzMzMzMwiQAAAAAAAACNANDMzMzMzI0BnZmZmZmYjQJqZmZmZmSNAzczMzMzMI0A=\",\"dtype\":\"float64\",\"order\":\"little\",\"shape\":[100]},\"y\":{\"__ndarray__\":\"AAAAAAAAAAAsy4vLro65P7zSPSP/bck/NLq6lc3p0j9rZyvpOuzYP/AFS3Tort4/WkGlF40R4j+5GUZpbp3kP83+v8KU9OY/QahdmAMR6T/uDAmPVO3qPzhjLUzFhOw/xVUaokPT7T9LHsX5d9XuPwPhRN/NiO8/i20sm3rr7z/FQuDHgfzvP7aYL9e3u+8/8BW9gcIp7z9XOBofF0juP0a00er2GO0/+3LrP2mf6z8I16rZM9/pPyIvWC3R3Oc/mNHD9WSd5T+wys8NrybjP7uFoLv8fuA/DKckJDFa2z/A5V0jcnDVP9MwSNa4n84/W9W2bTgQwj8uEJiCD0qlPzIt6Dk3462/lwy3ygIxxL90TP8QyVrQvx9iun47c9a/8dHwQ0FS3L9BGy7savTgv6DA7P9WlOO/zrMfLS4C5r+uHtzduTfov73I4npTL+q/2BLQ3/Lj678ligE6O1Htv/AoRTGGc+6/gEDHPe1H77+67F0TUczvv1LsNw9f/++//z0MmpTg77+k6yJ2QHDvvzOZ4PWBr+6/uSLYHEag7b/XJLqyQkXsvzcSvFTvoeq/cAUyl3y66L9XsApOyZPmv7T1lhdWM+S/oMd6STef4b/K347HCrzdvxu9C2SY7de/wKKwivHh0b9c+zPXGVHHvx3NvttYRbW/fj/Lwqk3kT8sKjUvK9a9PzzLxkANics/kgnpL0vw0z/8iDWkD+nZPwkR6pqNn98/vxrYG5SC4j8ICm3CCAblP4tjZOG2U+c/D8njJbpl6T9JdB3cxjbrP/YpBXs3wuw/MK78hhgE7j8P+BCtMvnuP1hU7vwSn+8/L7eALBH07z+pXzrVU/fvP3vPKKDSqO8/Z7RJW1YJ7z8uM+n3dhruP09hK3eX3uw/mvctz99Y6z/82V/YNI3pPy2xtFcugOc/96EuPws35T/d0spCpLfiP4A3I+RcCOA/kS8MNiZg2j8X2Z+JG2zUP2ub1R2oh8w/UCzOvj7cvz/iQUSoul6ZP3onpJQaPbO/KLcVCFdQxr9zobGuhmTRvwJus+BkdNe/cLYgoURI3b8=\",\"dtype\":\"float64\",\"order\":\"little\",\"shape\":[100]}},\"selected\":{\"id\":\"1715\"},\"selection_policy\":{\"id\":\"1716\"}},\"id\":\"1646\",\"type\":\"ColumnDataSource\"},{\"attributes\":{\"active_multi\":null,\"tools\":[{\"id\":\"1632\"},{\"id\":\"1633\"},{\"id\":\"1634\"},{\"id\":\"1635\"},{\"id\":\"1636\"},{\"id\":\"1637\"}]},\"id\":\"1639\",\"type\":\"Toolbar\"},{\"attributes\":{},\"id\":\"1633\",\"type\":\"WheelZoomTool\"},{\"attributes\":{},\"id\":\"1632\",\"type\":\"PanTool\"},{\"attributes\":{\"overlay\":{\"id\":\"1638\"}},\"id\":\"1634\",\"type\":\"BoxZoomTool\"},{\"attributes\":{},\"id\":\"1635\",\"type\":\"SaveTool\"},{\"attributes\":{},\"id\":\"1636\",\"type\":\"ResetTool\"},{\"attributes\":{},\"id\":\"1709\",\"type\":\"BasicTickFormatter\"},{\"attributes\":{},\"id\":\"1710\",\"type\":\"AllLabels\"},{\"attributes\":{\"bottom_units\":\"screen\",\"fill_alpha\":0.5,\"fill_color\":\"lightgrey\",\"left_units\":\"screen\",\"level\":\"overlay\",\"line_alpha\":1.0,\"line_color\":\"black\",\"line_dash\":[4,4],\"line_width\":2,\"right_units\":\"screen\",\"syncable\":false,\"top_units\":\"screen\"},\"id\":\"1638\",\"type\":\"BoxAnnotation\"},{\"attributes\":{},\"id\":\"1715\",\"type\":\"Selection\"},{\"attributes\":{},\"id\":\"1716\",\"type\":\"UnionRenderers\"}],\"root_ids\":[\"1615\"]},\"title\":\"Bokeh Application\",\"version\":\"2.3.2\"}};\n",
       "  var render_items = [{\"docid\":\"509cd541-45ab-418f-941f-0ec23d89bb6e\",\"root_ids\":[\"1615\"],\"roots\":{\"1615\":\"3de3ccd4-d2cf-4e12-9fa7-7560a544db02\"}}];\n",
       "  root.Bokeh.embed.embed_items_notebook(docs_json, render_items);\n",
       "\n",
       "  }\n",
       "  if (root.Bokeh !== undefined) {\n",
       "    embed_document(root);\n",
       "  } else {\n",
       "    var attempts = 0;\n",
       "    var timer = setInterval(function(root) {\n",
       "      if (root.Bokeh !== undefined) {\n",
       "        clearInterval(timer);\n",
       "        embed_document(root);\n",
       "      } else {\n",
       "        attempts++;\n",
       "        if (attempts > 100) {\n",
       "          clearInterval(timer);\n",
       "          console.log(\"Bokeh: ERROR: Unable to run BokehJS code because BokehJS library is missing\");\n",
       "        }\n",
       "      }\n",
       "    }, 10, root)\n",
       "  }\n",
       "})(window);"
      ],
      "application/vnd.bokehjs_exec.v0+json": ""
     },
     "metadata": {
      "application/vnd.bokehjs_exec.v0+json": {
       "id": "1615"
      }
     },
     "output_type": "display_data"
    }
   ],
   "source": [
    "p=figure(plot_width=600, plot_height=300, toolbar_location=\"below\")\n",
    "p.line(x,y, color=\"red\", line_width=2)\n",
    "show(p)"
   ]
  },
  {
   "cell_type": "markdown",
   "metadata": {},
   "source": [
    "Note that the toolbar position clashes with the default axes. In this case, setting the `toolbar_sticky` option to `False` will move the toolbar outside of the area where the axis is drawn"
   ]
  },
  {
   "cell_type": "code",
   "execution_count": 11,
   "metadata": {},
   "outputs": [
    {
     "data": {
      "text/html": [
       "\n",
       "\n",
       "\n",
       "\n",
       "\n",
       "\n",
       "  <div class=\"bk-root\" id=\"272d8147-0e79-4282-8fcf-3652164a1892\" data-root-id=\"1772\"></div>\n"
      ]
     },
     "metadata": {},
     "output_type": "display_data"
    },
    {
     "data": {
      "application/javascript": [
       "(function(root) {\n",
       "  function embed_document(root) {\n",
       "    \n",
       "  var docs_json = {\"2751ba81-4614-4881-8998-fbbef5599509\":{\"defs\":[],\"roots\":{\"references\":[{\"attributes\":{\"below\":[{\"id\":\"1781\"}],\"center\":[{\"id\":\"1784\"},{\"id\":\"1788\"}],\"height\":300,\"left\":[{\"id\":\"1785\"}],\"renderers\":[{\"id\":\"1806\"}],\"title\":{\"id\":\"1874\"},\"toolbar\":{\"id\":\"1796\"},\"toolbar_location\":\"above\",\"toolbar_sticky\":false,\"x_range\":{\"id\":\"1773\"},\"x_scale\":{\"id\":\"1777\"},\"y_range\":{\"id\":\"1775\"},\"y_scale\":{\"id\":\"1779\"}},\"id\":\"1772\",\"subtype\":\"Figure\",\"type\":\"Plot\"},{\"attributes\":{\"bottom_units\":\"screen\",\"fill_alpha\":0.5,\"fill_color\":\"lightgrey\",\"left_units\":\"screen\",\"level\":\"overlay\",\"line_alpha\":1.0,\"line_color\":\"black\",\"line_dash\":[4,4],\"line_width\":2,\"right_units\":\"screen\",\"syncable\":false,\"top_units\":\"screen\"},\"id\":\"1795\",\"type\":\"BoxAnnotation\"},{\"attributes\":{\"data\":{\"x\":{\"__ndarray__\":\"AAAAAAAAAACamZmZmZm5P5qZmZmZmck/NDMzMzMz0z+amZmZmZnZPwAAAAAAAOA/NDMzMzMz4z9nZmZmZmbmP5qZmZmZmek/zczMzMzM7D8AAAAAAADwP5qZmZmZmfE/NDMzMzMz8z/NzMzMzMz0P2dmZmZmZvY/AAAAAAAA+D+amZmZmZn5PzQzMzMzM/s/zczMzMzM/D9nZmZmZmb+PwAAAAAAAABAzczMzMzMAECamZmZmZkBQGdmZmZmZgJANDMzMzMzA0AAAAAAAAAEQM3MzMzMzARAmpmZmZmZBUBnZmZmZmYGQDQzMzMzMwdAAAAAAAAACEDNzMzMzMwIQJqZmZmZmQlAZ2ZmZmZmCkA0MzMzMzMLQAAAAAAAAAxAzczMzMzMDECamZmZmZkNQGdmZmZmZg5ANDMzMzMzD0AAAAAAAAAQQGdmZmZmZhBAzczMzMzMEEAzMzMzMzMRQJqZmZmZmRFAAAAAAAAAEkBnZmZmZmYSQM3MzMzMzBJANDMzMzMzE0CamZmZmZkTQAAAAAAAABRAZ2ZmZmZmFEDNzMzMzMwUQDQzMzMzMxVAmpmZmZmZFUAAAAAAAAAWQGdmZmZmZhZAzczMzMzMFkA0MzMzMzMXQJqZmZmZmRdAAAAAAAAAGEBnZmZmZmYYQM3MzMzMzBhANDMzMzMzGUCamZmZmZkZQAAAAAAAABpAZ2ZmZmZmGkDNzMzMzMwaQDQzMzMzMxtAmpmZmZmZG0AAAAAAAAAcQGdmZmZmZhxAzczMzMzMHEA0MzMzMzMdQJqZmZmZmR1AAAAAAAAAHkBnZmZmZmYeQM3MzMzMzB5ANDMzMzMzH0CamZmZmZkfQAAAAAAAACBAMzMzMzMzIEBnZmZmZmYgQJqZmZmZmSBAzczMzMzMIEAAAAAAAAAhQDMzMzMzMyFAZ2ZmZmZmIUCamZmZmZkhQM3MzMzMzCFAAAAAAAAAIkAzMzMzMzMiQGdmZmZmZiJAmpmZmZmZIkDNzMzMzMwiQAAAAAAAACNANDMzMzMzI0BnZmZmZmYjQJqZmZmZmSNAzczMzMzMI0A=\",\"dtype\":\"float64\",\"order\":\"little\",\"shape\":[100]},\"y\":{\"__ndarray__\":\"AAAAAAAA8D/BF6j5EtfvP3pid5W0XO8/ugkv1B2S7j/4otvnVHntP1B9WwYoFew/FFtIPCZp6j+SnZ9SlnnoP2WYcd5rS+Y/HOKSljrk4z+MBrUPKErhPxFhxwa4B90/0Hk7lN4w1z9fTCposx7RPwNXE7x7wcU/p/nFT9Ubsj8zFl/Feuadv45sovT5fcC/eg4lT/UUzb+vRTS5xrDUvwVyU1cmotq/yp6YBLMn4L9wrYhLANXiv+QvMBciUuW/iNGQtLqY5799i4Xv96Lpv3D0gPaha+u/pgNmsyju7L9McFd3rybuv8pAo9sWEu+/0uWFvgSu778kplZH6vjvv7bLueIH8u+/tgunLG+Z778Cvl7DAvDuv18awQN09+2/WSzStD6y7L832X2toiPrv+io24SbT+m/58g0YtY657/BJNsGpurkv2QtajD1ZOK/HceK7G5g379TOxaSsabZv6rCYnxXq9O/aj1YVFv7yr+KjVkrB7a8vzRqUEM6X4m/f0BOWFVmtj9kFnwno9/HP9lKa3CFJ9I/q1zkjskw2D/uajdZLfzdP9wydD9vveE/jLAlb2dP5D9I1Ac8bK3mP4QKg4hv0eg/Kv4Nlve16j8ncqcGLVbsPylQ+T7nre0/9SJ4Cbe57j+0mElf73bvP86peUCs4+8/QXr8idf+7z+hTB69K8jvP8jDRbE0QO8/KsRBLk5o7j8b5bVyoELtP/fciK8a0us/SxJyhmsa6j8XINme9x/oP0ClHmnO5+U/6qAMLZ134z/EAYqEoNXgP32Ia88oEdw/L1xv5kUv1j/SFqwppBTQP57FwTTBocM/elqEfQugqz+rKlYyl42nv5QvY7++n8K/Ha+2b3Qsz7/FHg2XtrTVv3GhWaCtm9u/P65TPQOe4L+OsDp3rkPjv/sgzBoTuOW/3Dpjz+n057+NFS1WefTpv3nrDy6lseu/axmmpvon7b8KtdtAvFPuv5SkFEDrMe+/1J5iU0/A778TjzJDfP3vv0gM65TV6O+/s+4sG5CC77/lOLZuscvuv33uQFENxu2/GmQNAUF07L8=\",\"dtype\":\"float64\",\"order\":\"little\",\"shape\":[100]}},\"selected\":{\"id\":\"1883\"},\"selection_policy\":{\"id\":\"1884\"}},\"id\":\"1803\",\"type\":\"ColumnDataSource\"},{\"attributes\":{\"data_source\":{\"id\":\"1803\"},\"glyph\":{\"id\":\"1804\"},\"hover_glyph\":null,\"muted_glyph\":null,\"nonselection_glyph\":{\"id\":\"1805\"},\"view\":{\"id\":\"1807\"}},\"id\":\"1806\",\"type\":\"GlyphRenderer\"},{\"attributes\":{},\"id\":\"1883\",\"type\":\"Selection\"},{\"attributes\":{\"line_color\":\"DarkOrange\",\"line_width\":2,\"x\":{\"field\":\"x\"},\"y\":{\"field\":\"y\"}},\"id\":\"1804\",\"type\":\"Line\"},{\"attributes\":{\"formatter\":{\"id\":\"1877\"},\"major_label_policy\":{\"id\":\"1878\"},\"ticker\":{\"id\":\"1782\"}},\"id\":\"1781\",\"type\":\"LinearAxis\"},{\"attributes\":{},\"id\":\"1884\",\"type\":\"UnionRenderers\"},{\"attributes\":{},\"id\":\"1777\",\"type\":\"LinearScale\"},{\"attributes\":{},\"id\":\"1794\",\"type\":\"HelpTool\"},{\"attributes\":{},\"id\":\"1779\",\"type\":\"LinearScale\"},{\"attributes\":{},\"id\":\"1877\",\"type\":\"BasicTickFormatter\"},{\"attributes\":{},\"id\":\"1775\",\"type\":\"DataRange1d\"},{\"attributes\":{},\"id\":\"1878\",\"type\":\"AllLabels\"},{\"attributes\":{\"formatter\":{\"id\":\"1880\"},\"major_label_policy\":{\"id\":\"1881\"},\"ticker\":{\"id\":\"1786\"}},\"id\":\"1785\",\"type\":\"LinearAxis\"},{\"attributes\":{},\"id\":\"1782\",\"type\":\"BasicTicker\"},{\"attributes\":{\"axis\":{\"id\":\"1781\"},\"ticker\":null},\"id\":\"1784\",\"type\":\"Grid\"},{\"attributes\":{},\"id\":\"1880\",\"type\":\"BasicTickFormatter\"},{\"attributes\":{\"axis\":{\"id\":\"1785\"},\"dimension\":1,\"ticker\":null},\"id\":\"1788\",\"type\":\"Grid\"},{\"attributes\":{},\"id\":\"1786\",\"type\":\"BasicTicker\"},{\"attributes\":{\"active_multi\":null,\"tools\":[{\"id\":\"1789\"},{\"id\":\"1790\"},{\"id\":\"1791\"},{\"id\":\"1792\"},{\"id\":\"1793\"},{\"id\":\"1794\"}]},\"id\":\"1796\",\"type\":\"Toolbar\"},{\"attributes\":{},\"id\":\"1790\",\"type\":\"WheelZoomTool\"},{\"attributes\":{},\"id\":\"1874\",\"type\":\"Title\"},{\"attributes\":{},\"id\":\"1789\",\"type\":\"PanTool\"},{\"attributes\":{\"overlay\":{\"id\":\"1795\"}},\"id\":\"1791\",\"type\":\"BoxZoomTool\"},{\"attributes\":{},\"id\":\"1792\",\"type\":\"SaveTool\"},{\"attributes\":{},\"id\":\"1793\",\"type\":\"ResetTool\"},{\"attributes\":{\"source\":{\"id\":\"1803\"}},\"id\":\"1807\",\"type\":\"CDSView\"},{\"attributes\":{\"line_alpha\":0.1,\"line_color\":\"DarkOrange\",\"line_width\":2,\"x\":{\"field\":\"x\"},\"y\":{\"field\":\"y\"}},\"id\":\"1805\",\"type\":\"Line\"},{\"attributes\":{},\"id\":\"1773\",\"type\":\"DataRange1d\"},{\"attributes\":{},\"id\":\"1881\",\"type\":\"AllLabels\"}],\"root_ids\":[\"1772\"]},\"title\":\"Bokeh Application\",\"version\":\"2.3.2\"}};\n",
       "  var render_items = [{\"docid\":\"2751ba81-4614-4881-8998-fbbef5599509\",\"root_ids\":[\"1772\"],\"roots\":{\"1772\":\"272d8147-0e79-4282-8fcf-3652164a1892\"}}];\n",
       "  root.Bokeh.embed.embed_items_notebook(docs_json, render_items);\n",
       "\n",
       "  }\n",
       "  if (root.Bokeh !== undefined) {\n",
       "    embed_document(root);\n",
       "  } else {\n",
       "    var attempts = 0;\n",
       "    var timer = setInterval(function(root) {\n",
       "      if (root.Bokeh !== undefined) {\n",
       "        clearInterval(timer);\n",
       "        embed_document(root);\n",
       "      } else {\n",
       "        attempts++;\n",
       "        if (attempts > 100) {\n",
       "          clearInterval(timer);\n",
       "          console.log(\"Bokeh: ERROR: Unable to run BokehJS code because BokehJS library is missing\");\n",
       "        }\n",
       "      }\n",
       "    }, 10, root)\n",
       "  }\n",
       "})(window);"
      ],
      "application/vnd.bokehjs_exec.v0+json": ""
     },
     "metadata": {
      "application/vnd.bokehjs_exec.v0+json": {
       "id": "1772"
      }
     },
     "output_type": "display_data"
    }
   ],
   "source": [
    "x=np.arange(0,10,0.1)\n",
    "y=np.cos(x)\n",
    "p=figure(plot_width=600, plot_height=300, toolbar_location=\"above\", \n",
    "        toolbar_sticky=False)\n",
    "p.line(x,y, color=\"DarkOrange\", line_width=2)\n",
    "show(p)"
   ]
  },
  {
   "cell_type": "code",
   "execution_count": null,
   "metadata": {},
   "outputs": [],
   "source": []
  },
  {
   "cell_type": "code",
   "execution_count": null,
   "metadata": {},
   "outputs": [],
   "source": []
  },
  {
   "cell_type": "code",
   "execution_count": null,
   "metadata": {},
   "outputs": [],
   "source": []
  },
  {
   "cell_type": "code",
   "execution_count": null,
   "metadata": {},
   "outputs": [],
   "source": []
  },
  {
   "cell_type": "code",
   "execution_count": null,
   "metadata": {},
   "outputs": [],
   "source": []
  },
  {
   "cell_type": "code",
   "execution_count": null,
   "metadata": {},
   "outputs": [],
   "source": []
  },
  {
   "cell_type": "code",
   "execution_count": null,
   "metadata": {},
   "outputs": [],
   "source": []
  },
  {
   "cell_type": "code",
   "execution_count": null,
   "metadata": {},
   "outputs": [],
   "source": []
  },
  {
   "cell_type": "code",
   "execution_count": null,
   "metadata": {},
   "outputs": [],
   "source": []
  },
  {
   "cell_type": "code",
   "execution_count": 12,
   "metadata": {},
   "outputs": [],
   "source": [
    "df=pd.read_csv(\"https://raw.githubusercontent.com/CSSEGISandData/COVID-19/master/csse_covid_19_data/csse_covid_19_time_series/time_series_covid19_confirmed_global.csv\")"
   ]
  },
  {
   "cell_type": "code",
   "execution_count": 13,
   "metadata": {},
   "outputs": [
    {
     "data": {
      "text/html": [
       "<div>\n",
       "<style scoped>\n",
       "    .dataframe tbody tr th:only-of-type {\n",
       "        vertical-align: middle;\n",
       "    }\n",
       "\n",
       "    .dataframe tbody tr th {\n",
       "        vertical-align: top;\n",
       "    }\n",
       "\n",
       "    .dataframe thead th {\n",
       "        text-align: right;\n",
       "    }\n",
       "</style>\n",
       "<table border=\"1\" class=\"dataframe\">\n",
       "  <thead>\n",
       "    <tr style=\"text-align: right;\">\n",
       "      <th></th>\n",
       "      <th>Province/State</th>\n",
       "      <th>Country/Region</th>\n",
       "      <th>Lat</th>\n",
       "      <th>Long</th>\n",
       "      <th>date</th>\n",
       "      <th>confirmed_case</th>\n",
       "    </tr>\n",
       "  </thead>\n",
       "  <tbody>\n",
       "    <tr>\n",
       "      <th>0</th>\n",
       "      <td>NaN</td>\n",
       "      <td>Afghanistan</td>\n",
       "      <td>33.93911</td>\n",
       "      <td>67.709953</td>\n",
       "      <td>1/22/20</td>\n",
       "      <td>0</td>\n",
       "    </tr>\n",
       "    <tr>\n",
       "      <th>1</th>\n",
       "      <td>NaN</td>\n",
       "      <td>Albania</td>\n",
       "      <td>41.15330</td>\n",
       "      <td>20.168300</td>\n",
       "      <td>1/22/20</td>\n",
       "      <td>0</td>\n",
       "    </tr>\n",
       "    <tr>\n",
       "      <th>2</th>\n",
       "      <td>NaN</td>\n",
       "      <td>Algeria</td>\n",
       "      <td>28.03390</td>\n",
       "      <td>1.659600</td>\n",
       "      <td>1/22/20</td>\n",
       "      <td>0</td>\n",
       "    </tr>\n",
       "    <tr>\n",
       "      <th>3</th>\n",
       "      <td>NaN</td>\n",
       "      <td>Andorra</td>\n",
       "      <td>42.50630</td>\n",
       "      <td>1.521800</td>\n",
       "      <td>1/22/20</td>\n",
       "      <td>0</td>\n",
       "    </tr>\n",
       "    <tr>\n",
       "      <th>4</th>\n",
       "      <td>NaN</td>\n",
       "      <td>Angola</td>\n",
       "      <td>-11.20270</td>\n",
       "      <td>17.873900</td>\n",
       "      <td>1/22/20</td>\n",
       "      <td>0</td>\n",
       "    </tr>\n",
       "  </tbody>\n",
       "</table>\n",
       "</div>"
      ],
      "text/plain": [
       "  Province/State Country/Region       Lat       Long     date  confirmed_case\n",
       "0            NaN    Afghanistan  33.93911  67.709953  1/22/20               0\n",
       "1            NaN        Albania  41.15330  20.168300  1/22/20               0\n",
       "2            NaN        Algeria  28.03390   1.659600  1/22/20               0\n",
       "3            NaN        Andorra  42.50630   1.521800  1/22/20               0\n",
       "4            NaN         Angola -11.20270  17.873900  1/22/20               0"
      ]
     },
     "execution_count": 13,
     "metadata": {},
     "output_type": "execute_result"
    }
   ],
   "source": [
    "df_melt=pd.melt(df, id_vars=['Province/State', 'Country/Region', 'Lat', \n",
    "                             'Long'], var_name='date', \n",
    "                value_name='confirmed_case')\n",
    "df_melt.head()"
   ]
  },
  {
   "cell_type": "code",
   "execution_count": 14,
   "metadata": {},
   "outputs": [
    {
     "data": {
      "text/plain": [
       "Province/State     object\n",
       "Country/Region     object\n",
       "Lat               float64\n",
       "Long              float64\n",
       "date               object\n",
       "confirmed_case      int64\n",
       "dtype: object"
      ]
     },
     "execution_count": 14,
     "metadata": {},
     "output_type": "execute_result"
    }
   ],
   "source": [
    "df_melt.dtypes"
   ]
  },
  {
   "cell_type": "code",
   "execution_count": 15,
   "metadata": {},
   "outputs": [
    {
     "data": {
      "text/plain": [
       "Index(['Province/State', 'Country/Region', 'Lat', 'Long', 'date',\n",
       "       'confirmed_case'],\n",
       "      dtype='object')"
      ]
     },
     "execution_count": 15,
     "metadata": {},
     "output_type": "execute_result"
    }
   ],
   "source": [
    "df_melt.columns"
   ]
  },
  {
   "cell_type": "code",
   "execution_count": 16,
   "metadata": {},
   "outputs": [],
   "source": [
    "df_bd=df_melt[df_melt[\"Country/Region\"]=='Bangladesh']"
   ]
  },
  {
   "cell_type": "code",
   "execution_count": 17,
   "metadata": {},
   "outputs": [],
   "source": [
    "bd=df_bd.loc[:, [\"date\", \"confirmed_case\"]]\n",
    "bd['daily_case']=df_bd.confirmed_case.diff().fillna(0)"
   ]
  },
  {
   "cell_type": "code",
   "execution_count": 18,
   "metadata": {},
   "outputs": [
    {
     "data": {
      "text/html": [
       "<div>\n",
       "<style scoped>\n",
       "    .dataframe tbody tr th:only-of-type {\n",
       "        vertical-align: middle;\n",
       "    }\n",
       "\n",
       "    .dataframe tbody tr th {\n",
       "        vertical-align: top;\n",
       "    }\n",
       "\n",
       "    .dataframe thead th {\n",
       "        text-align: right;\n",
       "    }\n",
       "</style>\n",
       "<table border=\"1\" class=\"dataframe\">\n",
       "  <thead>\n",
       "    <tr style=\"text-align: right;\">\n",
       "      <th></th>\n",
       "      <th>date</th>\n",
       "      <th>confirmed_case</th>\n",
       "      <th>daily_case</th>\n",
       "    </tr>\n",
       "  </thead>\n",
       "  <tbody>\n",
       "    <tr>\n",
       "      <th>20</th>\n",
       "      <td>1/22/20</td>\n",
       "      <td>0</td>\n",
       "      <td>0.0</td>\n",
       "    </tr>\n",
       "    <tr>\n",
       "      <th>295</th>\n",
       "      <td>1/23/20</td>\n",
       "      <td>0</td>\n",
       "      <td>0.0</td>\n",
       "    </tr>\n",
       "    <tr>\n",
       "      <th>570</th>\n",
       "      <td>1/24/20</td>\n",
       "      <td>0</td>\n",
       "      <td>0.0</td>\n",
       "    </tr>\n",
       "    <tr>\n",
       "      <th>845</th>\n",
       "      <td>1/25/20</td>\n",
       "      <td>0</td>\n",
       "      <td>0.0</td>\n",
       "    </tr>\n",
       "    <tr>\n",
       "      <th>1120</th>\n",
       "      <td>1/26/20</td>\n",
       "      <td>0</td>\n",
       "      <td>0.0</td>\n",
       "    </tr>\n",
       "  </tbody>\n",
       "</table>\n",
       "</div>"
      ],
      "text/plain": [
       "         date  confirmed_case  daily_case\n",
       "20    1/22/20               0         0.0\n",
       "295   1/23/20               0         0.0\n",
       "570   1/24/20               0         0.0\n",
       "845   1/25/20               0         0.0\n",
       "1120  1/26/20               0         0.0"
      ]
     },
     "execution_count": 18,
     "metadata": {},
     "output_type": "execute_result"
    }
   ],
   "source": [
    "bd.head()"
   ]
  },
  {
   "cell_type": "code",
   "execution_count": 19,
   "metadata": {},
   "outputs": [],
   "source": [
    "bd[\"date\"]=pd.to_datetime(bd.date)"
   ]
  },
  {
   "cell_type": "code",
   "execution_count": 20,
   "metadata": {},
   "outputs": [
    {
     "data": {
      "text/plain": [
       "Timestamp('2020-01-22 00:00:00')"
      ]
     },
     "execution_count": 20,
     "metadata": {},
     "output_type": "execute_result"
    }
   ],
   "source": [
    "bd.date.min()"
   ]
  },
  {
   "cell_type": "code",
   "execution_count": 21,
   "metadata": {},
   "outputs": [
    {
     "data": {
      "text/plain": [
       "Timestamp('2021-05-15 00:00:00')"
      ]
     },
     "execution_count": 21,
     "metadata": {},
     "output_type": "execute_result"
    }
   ],
   "source": [
    "bd.date.max()"
   ]
  },
  {
   "cell_type": "code",
   "execution_count": 22,
   "metadata": {},
   "outputs": [
    {
     "data": {
      "text/html": [
       "<div>\n",
       "<style scoped>\n",
       "    .dataframe tbody tr th:only-of-type {\n",
       "        vertical-align: middle;\n",
       "    }\n",
       "\n",
       "    .dataframe tbody tr th {\n",
       "        vertical-align: top;\n",
       "    }\n",
       "\n",
       "    .dataframe thead th {\n",
       "        text-align: right;\n",
       "    }\n",
       "</style>\n",
       "<table border=\"1\" class=\"dataframe\">\n",
       "  <thead>\n",
       "    <tr style=\"text-align: right;\">\n",
       "      <th></th>\n",
       "      <th>date</th>\n",
       "      <th>confirmed_case</th>\n",
       "      <th>daily_case</th>\n",
       "    </tr>\n",
       "  </thead>\n",
       "  <tbody>\n",
       "    <tr>\n",
       "      <th>130645</th>\n",
       "      <td>2021-05-11</td>\n",
       "      <td>776257</td>\n",
       "      <td>1230.0</td>\n",
       "    </tr>\n",
       "    <tr>\n",
       "      <th>130920</th>\n",
       "      <td>2021-05-12</td>\n",
       "      <td>777397</td>\n",
       "      <td>1140.0</td>\n",
       "    </tr>\n",
       "    <tr>\n",
       "      <th>131195</th>\n",
       "      <td>2021-05-13</td>\n",
       "      <td>778687</td>\n",
       "      <td>1290.0</td>\n",
       "    </tr>\n",
       "    <tr>\n",
       "      <th>131470</th>\n",
       "      <td>2021-05-14</td>\n",
       "      <td>779535</td>\n",
       "      <td>848.0</td>\n",
       "    </tr>\n",
       "    <tr>\n",
       "      <th>131745</th>\n",
       "      <td>2021-05-15</td>\n",
       "      <td>779796</td>\n",
       "      <td>261.0</td>\n",
       "    </tr>\n",
       "  </tbody>\n",
       "</table>\n",
       "</div>"
      ],
      "text/plain": [
       "             date  confirmed_case  daily_case\n",
       "130645 2021-05-11          776257      1230.0\n",
       "130920 2021-05-12          777397      1140.0\n",
       "131195 2021-05-13          778687      1290.0\n",
       "131470 2021-05-14          779535       848.0\n",
       "131745 2021-05-15          779796       261.0"
      ]
     },
     "execution_count": 22,
     "metadata": {},
     "output_type": "execute_result"
    }
   ],
   "source": [
    "bd.tail()"
   ]
  },
  {
   "cell_type": "code",
   "execution_count": 23,
   "metadata": {},
   "outputs": [
    {
     "data": {
      "text/plain": [
       "date              datetime64[ns]\n",
       "confirmed_case             int64\n",
       "daily_case               float64\n",
       "dtype: object"
      ]
     },
     "execution_count": 23,
     "metadata": {},
     "output_type": "execute_result"
    }
   ],
   "source": [
    "bd.dtypes"
   ]
  },
  {
   "cell_type": "code",
   "execution_count": 24,
   "metadata": {},
   "outputs": [
    {
     "data": {
      "text/plain": [
       "date              0\n",
       "confirmed_case    0\n",
       "daily_case        0\n",
       "dtype: int64"
      ]
     },
     "execution_count": 24,
     "metadata": {},
     "output_type": "execute_result"
    }
   ],
   "source": [
    "bd.isnull().sum()"
   ]
  },
  {
   "cell_type": "code",
   "execution_count": 25,
   "metadata": {},
   "outputs": [],
   "source": [
    "bd_source=ColumnDataSource(bd)"
   ]
  },
  {
   "cell_type": "code",
   "execution_count": 26,
   "metadata": {},
   "outputs": [
    {
     "data": {
      "text/html": [
       "<div style=\"display: table;\"><div style=\"display: table-row;\"><div style=\"display: table-cell;\"><b title=\"bokeh.models.sources.ColumnDataSource\">ColumnDataSource</b>(</div><div style=\"display: table-cell;\">id&nbsp;=&nbsp;'1940', <span id=\"1942\" style=\"cursor: pointer;\">&hellip;)</span></div></div><div class=\"1941\" style=\"display: none;\"><div style=\"display: table-cell;\"></div><div style=\"display: table-cell;\">data&nbsp;=&nbsp;{'index': [20, 295, 570, 845, 1120, 1395, 1670, 1945, 2220, 2495, 2770, 3045, 3320, 3595, 3870, 4145, 4420, 4695, 4970, 5245, 5520, 5795, 6070, 6345, 6620, 6895, 7170, 7445, 7720, 7995, 8270, 8545, 8820, 9095, 9370, 9645, 9920, 10195, 10470, 10745, 11020, 11295, 11570, 11845, 12120, 12395, 12670, 12945, 13220, 13495, 13770, 14045, 14320, 14595, 14870, 15145, 15420, 15695, 15970, 16245, 16520, 16795, 17070, 17345, 17620, 17895, 18170, 18445, 18720, 18995, 19270, 19545, 19820, 20095, 20370, 20645, 20920, 21195, 21470, 21745, 22020, 22295, 22570, 22845, 23120, 23395, 23670, 23945, 24220, 24495, 24770, 25045, 25320, 25595, 25870, 26145, 26420, 26695, 26970, 27245, 27520, 27795, 28070, 28345, 28620, 28895, 29170, 29445, 29720, 29995, 30270, 30545, 30820, 31095, 31370, 31645, 31920, 32195, 32470, 32745, 33020, 33295, 33570, 33845, 34120, 34395, 34670, 34945, 35220, 35495, 35770, 36045, 36320, 36595, 36870, 37145, 37420, 37695, 37970, 38245, 38520, 38795, 39070, 39345, 39620, 39895, 40170, 40445, 40720, 40995, 41270, 41545, 41820, 42095, 42370, 42645, 42920, 43195, 43470, 43745, 44020, 44295, 44570, 44845, 45120, 45395, 45670, 45945, 46220, 46495, 46770, 47045, 47320, 47595, 47870, 48145, 48420, 48695, 48970, 49245, 49520, 49795, 50070, 50345, 50620, 50895, 51170, 51445, 51720, 51995, 52270, 52545, 52820, 53095, 53370, 53645, 53920, 54195, 54470, 54745, 55020, 55295, 55570, 55845, 56120, 56395, 56670, 56945, 57220, 57495, 57770, 58045, 58320, 58595, 58870, 59145, 59420, 59695, 59970, 60245, 60520, 60795, 61070, 61345, 61620, 61895, 62170, 62445, 62720, 62995, 63270, 63545, 63820, 64095, 64370, 64645, 64920, 65195, 65470, 65745, 66020, 66295, 66570, 66845, 67120, 67395, 67670, 67945, 68220, 68495, 68770, 69045, 69320, 69595, 69870, 70145, 70420, 70695, 70970, 71245, 71520, 71795, 72070, 72345, 72620, 72895, 73170, 73445, 73720, 73995, 74270, 74545, 74820, 75095, 75370, 75645, 75920, 76195, 76470, 76745, 77020, 77295, 77570, 77845, 78120, 78395, 78670, 78945, 79220, 79495, 79770, 80045, 80320, 80595, 80870, 81145, 81420, 81695, 81970, 82245, 82520, 82795, 83070, 83345, 83620, 83895, 84170, 84445, 84720, 84995, 85270, 85545, 85820, 86095, 86370, 86645, 86920, 87195, 87470, 87745, 88020, 88295, 88570, 88845, 89120, 89395, 89670, 89945, 90220, 90495, 90770, 91045, 91320, 91595, 91870, 92145, 92420, 92695, 92970, 93245, 93520, 93795, 94070, 94345, 94620, 94895, 95170, 95445, 95720, 95995, 96270, 96545, 96820, 97095, 97370, 97645, 97920, 98195, 98470, 98745, 99020, 99295, 99570, 99845, 100120, 100395, 100670, 100945, 101220, 101495, 101770, 102045, 102320, 102595, 102870, 103145, 103420, 103695, 103970, 104245, 104520, 104795, 105070, 105345, 105620, 105895, 106170, 106445, 106720, 106995, 107270, 107545, 107820, 108095, 108370, 108645, 108920, 109195, 109470, 109745, 110020, 110295, 110570, 110845, 111120, 111395, 111670, 111945, 112220, 112495, 112770, 113045, 113320, 113595, 113870, 114145, 114420, 114695, 114970, 115245, 115520, 115795, 116070, 116345, 116620, 116895, 117170, 117445, 117720, 117995, 118270, 118545, 118820, 119095, 119370, 119645, 119920, 120195, 120470, 120745, 121020, 121295, 121570, 121845, 122120, 122395, 122670, 122945, 123220, 123495, 123770, 124045, 124320, 124595, 124870, 125145, 125420, 125695, 125970, 126245, 126520, 126795, 127070, 127345, 127620, 127895, 128170, 128445, 128720, 128995, 129270, 129545, 129820, 130095, 130370, 130645, 130920, 131195, 131470, 131745], 'confirmed_case': [0, 0, 0, 0, 0, 0, 0, 0, 0, 0, 0, 0, 0, 0, 0, 0, 0, 0, 0, 0, 0, 0, 0, 0, 0, 0, 0, 0, 0, 0, 0, 0, 0, 0, 0, 0, 0, 0, 0, 0, 0, 0, 0, 0, 0, 0, 3, 3, 3, 3, 3, 3, 3, 5, 8, 10, 14, 17, 20, 25, 27, 33, 39, 39, 44, 48, 48, 48, 49, 51, 54, 56, 61, 70, 88, 123, 164, 218, 330, 424, 482, 621, 803, 1012, 1231, 1572, 1838, 2144, 2456, 2948, 3382, 3772, 4186, 4689, 4998, 5416, 5913, 6462, 7103, 7667, 8238, 8790, 9455, 10143, 10929, 11719, 12425, 13134, 13770, 14657, 15691, 16660, 17822, 18863, 20065, 20995, 22268, 23870, 25121, 26738, 28511, 30205, 32078, 33610, 35585, 36751, 38292, 40321, 42844, 44608, 47153, 49534, 52445, 55140, 57563, 60391, 63026, 65769, 68504, 71675, 74865, 78052, 81523, 84379, 87520, 90619, 94481, 98489, 102292, 105535, 108775, 112306, 115786, 119198, 122660, 126606, 130474, 133978, 137787, 141801, 145483, 149258, 153277, 156391, 159679, 162417, 165618, 168645, 172134, 175494, 178443, 181129, 183795, 186894, 190057, 193590, 196323, 199357, 202066, 204525, 207453, 210510, 213254, 216110, 218658, 221178, 223453, 226225, 229185, 232194, 234889, 237661, 239860, 240746, 242102, 244020, 246674, 249651, 252502, 255113, 257600, 260507, 263503, 266498, 269115, 271881, 274525, 276549, 279144, 282344, 285091, 287959, 290360, 292625, 294598, 297083, 299628, 302147, 304583, 306794, 308925, 310822, 312996, 314946, 317528, 319686, 321615, 323565, 325157, 327359, 329251, 331078, 332970, 334762, 336044, 337520, 339332, 341056, 342671, 344264, 345805, 347372, 348918, 350621, 352178, 353844, 355384, 356767, 357873, 359148, 360555, 362043, 363479, 364987, 366383, 367565, 368690, 370132, 371631, 373151, 374592, 375870, 377073, 378266, 379738, 381275, 382959, 384559, 386086, 387295, 388569, 390206, 391586, 393131, 394827, 396413, 397507, 398815, 400251, 401586, 403079, 404760, 406364, 407684, 409252, 410988, 412647, 414164, 416006, 417475, 418764, 420238, 421921, 423620, 425353, 427198, 428965, 430496, 432333, 434472, 436684, 438795, 441159, 443434, 445281, 447341, 449760, 451990, 454146, 456438, 458711, 460619, 462407, 464932, 467225, 469423, 471739, 473991, 475789, 477545, 479743, 481945, 484104, 485965, 487849, 489178, 490533, 492332, 494209, 495841, 496975, 498293, 499560, 500713, 502183, 503501, 504868, 506102, 507265, 508099, 509148, 510080, 511261, 512496, 513510, 514500, 515184, 516019, 516929, 517920, 518898, 519905, 520690, 521382, 522453, 523302, 524020, 524910, 525723, 526485, 527063, 527632, 528329, 529031, 529687, 530271, 530890, 531326, 531799, 532401, 532916, 533444, 533953, 534407, 534770, 535139, 535582, 536107, 536545, 537030, 537465, 537770, 538062, 538378, 538765, 539153, 539531, 539975, 540266, 540592, 541038, 541434, 541877, 542268, 542674, 543024, 543351, 543717, 544116, 544544, 544954, 545424, 545831, 546216, 546801, 547316, 547930, 548549, 549184, 549724, 550330, 551175, 552087, 553105, 554156, 555222, 556236, 557395, 559168, 560887, 562752, 564939, 566838, 568706, 570878, 573687, 577241, 580808, 584395, 588132, 591806, 595714, 600895, 605937, 611295, 617764, 624594, 630277, 637364, 644439, 651652, 659278, 666132, 673594, 678937, 684756, 691957, 697985, 703170, 707362, 711779, 715252, 718950, 723221, 727780, 732060, 736074, 739703, 742400, 745322, 748628, 751659, 754614, 756955, 759132, 760584, 761943, 763682, 765596, 767338, 769160, 770842, 772127, 773513, 775027, 776257, 777397, 778687, 779535, 779796], 'daily_case': {'__ndarray__': 'AAAAAAAAAAAAAAAAAAAAAAAAAAAAAAAAAAAAAAAAAAAAAAAAAAAAAAAAAAAAAAAAAAAAAAAAAAAAAAAAAAAAAAAAAAAAAAAAAAAAAAAAAAAAAAAAAAAAAAAAAAAAAAAAAAAAAAAAAAAAAAAAAAAAAAAAAAAAAAAAAAAAAAAAAAAAAAAAAAAAAAAAAAAAAAAAAAAAAAAAAAAAAAAAAAAAAAAAAAAAAAAAAAAAAAAAAAAAAAAAAAAAAAAAAAAAAAAAAAAAAAAAAAAAAAAAAAAAAAAAAAAAAAAAAAAAAAAAAAAAAAAAAAAAAAAAAAAAAAAAAAAAAAAAAAAAAAAAAAAAAAAAAAAAAAAAAAAAAAAAAAAAAAAAAAAAAAAAAAAAAAAAAAAAAAAAAAAAAAAAAAAAAAAAAAAAAAAAAAAAAAAAAAAAAAAAAAAAAAAAAAAAAAAAAAAAAAAAAAAAAAAAAAAAAAAAAAAAAAAAAAAAAAAAAAAAAAAAAAAIQAAAAAAAAAAAAAAAAAAAAAAAAAAAAAAAAAAAAAAAAAAAAAAAAAAAAAAAAAAAAAAAAAAAAAAAAABAAAAAAAAACEAAAAAAAAAAQAAAAAAAABBAAAAAAAAACEAAAAAAAAAIQAAAAAAAABRAAAAAAAAAAEAAAAAAAAAYQAAAAAAAABhAAAAAAAAAAAAAAAAAAAAUQAAAAAAAABBAAAAAAAAAAAAAAAAAAAAAAAAAAAAAAPA/AAAAAAAAAEAAAAAAAAAIQAAAAAAAAABAAAAAAAAAFEAAAAAAAAAiQAAAAAAAADJAAAAAAACAQUAAAAAAAIBEQAAAAAAAAEtAAAAAAAAAXEAAAAAAAIBXQAAAAAAAAE1AAAAAAABgYUAAAAAAAMBmQAAAAAAAIGpAAAAAAABga0AAAAAAAFB1QAAAAAAAoHBAAAAAAAAgc0AAAAAAAIBzQAAAAAAAwH5AAAAAAAAge0AAAAAAAGB4QAAAAAAA4HlAAAAAAABwf0AAAAAAAFBzQAAAAAAAIHpAAAAAAAAQf0AAAAAAACiBQAAAAAAACIRAAAAAAACggUAAAAAAANiBQAAAAAAAQIFAAAAAAADIhEAAAAAAAICFQAAAAAAAkIhAAAAAAACwiEAAAAAAABCGQAAAAAAAKIZAAAAAAADgg0AAAAAAALiLQAAAAAAAKJBAAAAAAABIjkAAAAAAACiSQAAAAAAARJBAAAAAAADIkkAAAAAAABCNQAAAAAAA5JNAAAAAAAAImUAAAAAAAIyTQAAAAAAARJlAAAAAAAC0m0AAAAAAAHiaQAAAAAAARJ1AAAAAAADwl0AAAAAAANyeQAAAAAAAOJJAAAAAAAAUmEAAAAAAALSfQAAAAAAAtqNAAAAAAACQm0AAAAAAAOKjQAAAAAAAmqJAAAAAAAC+pkAAAAAAAA6lQAAAAAAA7qJAAAAAAAAYpkAAAAAAAJakQAAAAAAAbqVAAAAAAABepUAAAAAAAMaoQAAAAAAA7KhAAAAAAADmqEAAAAAAAB6rQAAAAAAAUKZAAAAAAACKqEAAAAAAADaoQAAAAAAALK5AAAAAAABQr0AAAAAAALatQAAAAAAAVqlAAAAAAABQqUAAAAAAAJarQAAAAAAAMKtAAAAAAACoqkAAAAAAAAyrQAAAAAAA1K5AAAAAAAA4rkAAAAAAAGCrQAAAAAAAwq1AAAAAAABcr0AAAAAAAMSsQAAAAAAAfq1AAAAAAABmr0AAAAAAAFSoQAAAAAAAsKlAAAAAAABkpUAAAAAAAAKpQAAAAAAApqdAAAAAAABCq0AAAAAAAECqQAAAAAAACqdAAAAAAAD8pEAAAAAAANSkQAAAAAAANqhAAAAAAAC2qEAAAAAAAJqrQAAAAAAAWqVAAAAAAAC0p0AAAAAAACqlQAAAAAAANqNAAAAAAADgpkAAAAAAAOKnQAAAAAAAcKVAAAAAAABQpkAAAAAAAOijQAAAAAAAsKNAAAAAAADGoUAAAAAAAKilQAAAAAAAIKdAAAAAAACCp0AAAAAAAA6lQAAAAAAAqKVAAAAAAAAuoUAAAAAAALCLQAAAAAAAMJVAAAAAAAD4nUAAAAAAALykQAAAAAAAQqdAAAAAAABGpkAAAAAAAGakQAAAAAAAbqNAAAAAAAC2pkAAAAAAAGinQAAAAAAAZqdAAAAAAABypEAAAAAAAJylQAAAAAAAqKRAAAAAAACgn0AAAAAAAEakQAAAAAAAAKlAAAAAAAB2pUAAAAAAAGimQAAAAAAAwqJAAAAAAACyoUAAAAAAANSeQAAAAAAAaqNAAAAAAADio0AAAAAAAK6jQAAAAAAACKNAAAAAAABGoUAAAAAAAKagQAAAAAAApJ1AAAAAAAD8oEAAAAAAAHieQAAAAAAALKRAAAAAAADcoEAAAAAAACSeQAAAAAAAeJ5AAAAAAADgmEAAAAAAADShQAAAAAAAkJ1AAAAAAACMnEAAAAAAAJCdQAAAAAAAAJxAAAAAAAAIlEAAAAAAABCXQAAAAAAAUJxAAAAAAADwmkAAAAAAADyZQAAAAAAA5JhAAAAAAAAUmEAAAAAAAHyYQAAAAAAAKJhAAAAAAACcmkAAAAAAAFSYQAAAAAAACJpAAAAAAAAQmEAAAAAAAJyVQAAAAAAASJFAAAAAAADsk0AAAAAAAPyVQAAAAAAAQJdAAAAAAABwlkAAAAAAAJCXQAAAAAAA0JVAAAAAAAB4kkAAAAAAAJSRQAAAAAAAiJZAAAAAAABsl0AAAAAAAMCXQAAAAAAAhJZAAAAAAAD4k0AAAAAAAMySQAAAAAAApJJAAAAAAAAAl0AAAAAAAASYQAAAAAAAUJpAAAAAAAAAmUAAAAAAANyXQAAAAAAA5JJAAAAAAADok0AAAAAAAJSZQAAAAAAAkJVAAAAAAAAkmEAAAAAAAICaQAAAAAAAyJhAAAAAAAAYkUAAAAAAAHCUQAAAAAAAcJZAAAAAAADclEAAAAAAAFSXQAAAAAAARJpAAAAAAAAQmUAAAAAAAKCUQAAAAAAAgJhAAAAAAAAgm0AAAAAAAOyZQAAAAAAAtJdAAAAAAADInEAAAAAAAPSWQAAAAAAAJJRAAAAAAAAIl0AAAAAAAEyaQAAAAAAAjJpAAAAAAAAUm0AAAAAAANScQAAAAAAAnJtAAAAAAADsl0AAAAAAALScQAAAAAAAtqBAAAAAAABIoUAAAAAAAH6gQAAAAAAAeKJAAAAAAADGoUAAAAAAANycQAAAAAAAGKBAAAAAAADmokAAAAAAAGyhQAAAAAAA2KBAAAAAAADooUAAAAAAAMKhQAAAAAAA0J1AAAAAAADwm0AAAAAAALqjQAAAAAAA6qFAAAAAAAAsoUAAAAAAABiiQAAAAAAAmKFAAAAAAAAYnEAAAAAAAHCbQAAAAAAALKFAAAAAAAA0oUAAAAAAAN6gQAAAAAAAFJ1AAAAAAABwnUAAAAAAAMSUQAAAAAAALJVAAAAAAAAcnEAAAAAAAFSdQAAAAAAAgJlAAAAAAAC4kUAAAAAAAJiUQAAAAAAAzJNAAAAAAAAEkkAAAAAAAPiWQAAAAAAAmJRAAAAAAABclUAAAAAAAEiTQAAAAAAALJJAAAAAAAAQikAAAAAAAGSQQAAAAAAAII1AAAAAAAB0kkAAAAAAAEyTQAAAAAAAsI9AAAAAAADwjkAAAAAAAGCFQAAAAAAAGIpAAAAAAABwjEAAAAAAAPiOQAAAAAAAkI5AAAAAAAB4j0AAAAAAAIiIQAAAAAAAoIVAAAAAAAC8kEAAAAAAAIiKQAAAAAAAcIZAAAAAAADQi0AAAAAAAGiJQAAAAAAA0IdAAAAAAAAQgkAAAAAAAMiBQAAAAAAAyIVAAAAAAADwhUAAAAAAAICEQAAAAAAAQIJAAAAAAABYg0AAAAAAAEB7QAAAAAAAkH1AAAAAAADQgkAAAAAAABiAQAAAAAAAgIBAAAAAAADQf0AAAAAAAGB8QAAAAAAAsHZAAAAAAAAQd0AAAAAAALB7QAAAAAAAaIBAAAAAAABge0AAAAAAAFB+QAAAAAAAMHtAAAAAAAAQc0AAAAAAAEByQAAAAAAAwHNAAAAAAAAweEAAAAAAAEB4QAAAAAAAoHdAAAAAAADAe0AAAAAAADByQAAAAAAAYHRAAAAAAADge0AAAAAAAMB4QAAAAAAAsHtAAAAAAABweEAAAAAAAGB5QAAAAAAA4HVAAAAAAABwdEAAAAAAAOB2QAAAAAAA8HhAAAAAAADAekAAAAAAAKB5QAAAAAAAYH1AAAAAAABweUAAAAAAABB4QAAAAAAASIJAAAAAAAAYgEAAAAAAADCDQAAAAAAAWINAAAAAAADYg0AAAAAAAOCAQAAAAAAA8IJAAAAAAABoikAAAAAAAICMQAAAAAAA0I9AAAAAAABskEAAAAAAAKiQQAAAAAAAsI9AAAAAAAAckkAAAAAAALSbQAAAAAAA3JpAAAAAAAAknUAAAAAAABahQAAAAAAArJ1AAAAAAAAwnUAAAAAAAPigQAAAAAAA8qVAAAAAAADEq0AAAAAAAN6rQAAAAAAABqxAAAAAAAAyrUAAAAAAALSsQAAAAAAAiK5AAAAAAAA9tEAAAAAAALKzQAAAAAAA7rRAAAAAAABFuUAAAAAAAK66QAAAAAAAM7ZAAAAAAACvu0AAAAAAAKO7QAAAAAAALbxAAAAAAADKvUAAAAAAAMa6QAAAAAAAJr1AAAAAAADftEAAAAAAALu2QAAAAAAAIbxAAAAAAACMt0AAAAAAAEG0QAAAAAAAYLBAAAAAAABBsUAAAAAAACKrQAAAAAAA5KxAAAAAAACvsEAAAAAAAM+xQAAAAAAAuLBAAAAAAABcr0AAAAAAAFqsQAAAAAAAEqVAAAAAAADUpkAAAAAAANSpQAAAAAAArqdAAAAAAAAWp0AAAAAAAEqiQAAAAAAAAqFAAAAAAACwlkAAAAAAADyVQAAAAAAALJtAAAAAAADonUAAAAAAADibQAAAAAAAeJxAAAAAAABImkAAAAAAABSUQAAAAAAAqJVAAAAAAACol0AAAAAAADiTQAAAAAAA0JFAAAAAAAAolEAAAAAAAICKQAAAAAAAUHBA', 'shape': (480,), 'dtype': 'float64', 'order': 'little'}, 'date': {'__ndarray__': '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', 'shape': (480,), 'dtype': 'float64', 'order': 'little'}},</div></div><div class=\"1941\" style=\"display: none;\"><div style=\"display: table-cell;\"></div><div style=\"display: table-cell;\">js_event_callbacks&nbsp;=&nbsp;{},</div></div><div class=\"1941\" style=\"display: none;\"><div style=\"display: table-cell;\"></div><div style=\"display: table-cell;\">js_property_callbacks&nbsp;=&nbsp;{},</div></div><div class=\"1941\" style=\"display: none;\"><div style=\"display: table-cell;\"></div><div style=\"display: table-cell;\">name&nbsp;=&nbsp;None,</div></div><div class=\"1941\" style=\"display: none;\"><div style=\"display: table-cell;\"></div><div style=\"display: table-cell;\">selected&nbsp;=&nbsp;Selection(id='1943', ...),</div></div><div class=\"1941\" style=\"display: none;\"><div style=\"display: table-cell;\"></div><div style=\"display: table-cell;\">selection_policy&nbsp;=&nbsp;UnionRenderers(id='1944', ...),</div></div><div class=\"1941\" style=\"display: none;\"><div style=\"display: table-cell;\"></div><div style=\"display: table-cell;\">subscribed_events&nbsp;=&nbsp;[],</div></div><div class=\"1941\" style=\"display: none;\"><div style=\"display: table-cell;\"></div><div style=\"display: table-cell;\">syncable&nbsp;=&nbsp;True,</div></div><div class=\"1941\" style=\"display: none;\"><div style=\"display: table-cell;\"></div><div style=\"display: table-cell;\">tags&nbsp;=&nbsp;[])</div></div></div>\n",
       "<script>\n",
       "(function() {\n",
       "  var expanded = false;\n",
       "  var ellipsis = document.getElementById(\"1942\");\n",
       "  ellipsis.addEventListener(\"click\", function() {\n",
       "    var rows = document.getElementsByClassName(\"1941\");\n",
       "    for (var i = 0; i < rows.length; i++) {\n",
       "      var el = rows[i];\n",
       "      el.style.display = expanded ? \"none\" : \"table-row\";\n",
       "    }\n",
       "    ellipsis.innerHTML = expanded ? \"&hellip;)\" : \"&lsaquo;&lsaquo;&lsaquo;\";\n",
       "    expanded = !expanded;\n",
       "  });\n",
       "})();\n",
       "</script>\n"
      ],
      "text/plain": [
       "ColumnDataSource(id='1940', ...)"
      ]
     },
     "execution_count": 26,
     "metadata": {},
     "output_type": "execute_result"
    }
   ],
   "source": [
    "bd_source"
   ]
  },
  {
   "cell_type": "code",
   "execution_count": 28,
   "metadata": {},
   "outputs": [
    {
     "data": {
      "text/html": [
       "\n",
       "\n",
       "\n",
       "\n",
       "\n",
       "\n",
       "  <div class=\"bk-root\" id=\"351bc523-d2cd-4b00-b4c4-73e2b29dcc56\" data-root-id=\"2195\"></div>\n"
      ]
     },
     "metadata": {},
     "output_type": "display_data"
    },
    {
     "data": {
      "application/javascript": [
       "(function(root) {\n",
       "  function embed_document(root) {\n",
       "    \n",
       "  var docs_json = {\"abd59315-3ad6-4aed-8cf7-efa7bfd84d95\":{\"defs\":[],\"roots\":{\"references\":[{\"attributes\":{\"below\":[{\"id\":\"2206\"}],\"center\":[{\"id\":\"2209\"},{\"id\":\"2213\"}],\"height\":400,\"left\":[{\"id\":\"2210\"}],\"renderers\":[{\"id\":\"2232\"}],\"title\":{\"id\":\"2196\"},\"toolbar\":{\"id\":\"2221\"},\"x_range\":{\"id\":\"2198\"},\"x_scale\":{\"id\":\"2202\"},\"y_range\":{\"id\":\"2200\"},\"y_scale\":{\"id\":\"2204\"}},\"id\":\"2195\",\"subtype\":\"Figure\",\"type\":\"Plot\"},{\"attributes\":{},\"id\":\"2351\",\"type\":\"YearsTicker\"},{\"attributes\":{},\"id\":\"2198\",\"type\":\"DataRange1d\"},{\"attributes\":{\"text\":\"Bangladesh Covid-19 daily case\"},\"id\":\"2196\",\"type\":\"Title\"},{\"attributes\":{},\"id\":\"2335\",\"type\":\"DatetimeTickFormatter\"},{\"attributes\":{},\"id\":\"2336\",\"type\":\"AllLabels\"},{\"attributes\":{\"source\":{\"id\":\"1940\"}},\"id\":\"2233\",\"type\":\"CDSView\"},{\"attributes\":{},\"id\":\"1944\",\"type\":\"UnionRenderers\"},{\"attributes\":{},\"id\":\"2215\",\"type\":\"WheelZoomTool\"},{\"attributes\":{},\"id\":\"2200\",\"type\":\"DataRange1d\"},{\"attributes\":{\"axis\":{\"id\":\"2206\"},\"ticker\":null},\"id\":\"2209\",\"type\":\"Grid\"},{\"attributes\":{},\"id\":\"2219\",\"type\":\"HelpTool\"},{\"attributes\":{},\"id\":\"2202\",\"type\":\"LinearScale\"},{\"attributes\":{\"data\":{\"confirmed_case\":[0,0,0,0,0,0,0,0,0,0,0,0,0,0,0,0,0,0,0,0,0,0,0,0,0,0,0,0,0,0,0,0,0,0,0,0,0,0,0,0,0,0,0,0,0,0,3,3,3,3,3,3,3,5,8,10,14,17,20,25,27,33,39,39,44,48,48,48,49,51,54,56,61,70,88,123,164,218,330,424,482,621,803,1012,1231,1572,1838,2144,2456,2948,3382,3772,4186,4689,4998,5416,5913,6462,7103,7667,8238,8790,9455,10143,10929,11719,12425,13134,13770,14657,15691,16660,17822,18863,20065,20995,22268,23870,25121,26738,28511,30205,32078,33610,35585,36751,38292,40321,42844,44608,47153,49534,52445,55140,57563,60391,63026,65769,68504,71675,74865,78052,81523,84379,87520,90619,94481,98489,102292,105535,108775,112306,115786,119198,122660,126606,130474,133978,137787,141801,145483,149258,153277,156391,159679,162417,165618,168645,172134,175494,178443,181129,183795,186894,190057,193590,196323,199357,202066,204525,207453,210510,213254,216110,218658,221178,223453,226225,229185,232194,234889,237661,239860,240746,242102,244020,246674,249651,252502,255113,257600,260507,263503,266498,269115,271881,274525,276549,279144,282344,285091,287959,290360,292625,294598,297083,299628,302147,304583,306794,308925,310822,312996,314946,317528,319686,321615,323565,325157,327359,329251,331078,332970,334762,336044,337520,339332,341056,342671,344264,345805,347372,348918,350621,352178,353844,355384,356767,357873,359148,360555,362043,363479,364987,366383,367565,368690,370132,371631,373151,374592,375870,377073,378266,379738,381275,382959,384559,386086,387295,388569,390206,391586,393131,394827,396413,397507,398815,400251,401586,403079,404760,406364,407684,409252,410988,412647,414164,416006,417475,418764,420238,421921,423620,425353,427198,428965,430496,432333,434472,436684,438795,441159,443434,445281,447341,449760,451990,454146,456438,458711,460619,462407,464932,467225,469423,471739,473991,475789,477545,479743,481945,484104,485965,487849,489178,490533,492332,494209,495841,496975,498293,499560,500713,502183,503501,504868,506102,507265,508099,509148,510080,511261,512496,513510,514500,515184,516019,516929,517920,518898,519905,520690,521382,522453,523302,524020,524910,525723,526485,527063,527632,528329,529031,529687,530271,530890,531326,531799,532401,532916,533444,533953,534407,534770,535139,535582,536107,536545,537030,537465,537770,538062,538378,538765,539153,539531,539975,540266,540592,541038,541434,541877,542268,542674,543024,543351,543717,544116,544544,544954,545424,545831,546216,546801,547316,547930,548549,549184,549724,550330,551175,552087,553105,554156,555222,556236,557395,559168,560887,562752,564939,566838,568706,570878,573687,577241,580808,584395,588132,591806,595714,600895,605937,611295,617764,624594,630277,637364,644439,651652,659278,666132,673594,678937,684756,691957,697985,703170,707362,711779,715252,718950,723221,727780,732060,736074,739703,742400,745322,748628,751659,754614,756955,759132,760584,761943,763682,765596,767338,769160,770842,772127,773513,775027,776257,777397,778687,779535,779796],\"daily_case\":{\"__ndarray__\":\"AAAAAAAAAAAAAAAAAAAAAAAAAAAAAAAAAAAAAAAAAAAAAAAAAAAAAAAAAAAAAAAAAAAAAAAAAAAAAAAAAAAAAAAAAAAAAAAAAAAAAAAAAAAAAAAAAAAAAAAAAAAAAAAAAAAAAAAAAAAAAAAAAAAAAAAAAAAAAAAAAAAAAAAAAAAAAAAAAAAAAAAAAAAAAAAAAAAAAAAAAAAAAAAAAAAAAAAAAAAAAAAAAAAAAAAAAAAAAAAAAAAAAAAAAAAAAAAAAAAAAAAAAAAAAAAAAAAAAAAAAAAAAAAAAAAAAAAAAAAAAAAAAAAAAAAAAAAAAAAAAAAAAAAAAAAAAAAAAAAAAAAAAAAAAAAAAAAAAAAAAAAAAAAAAAAAAAAAAAAAAAAAAAAAAAAAAAAAAAAAAAAAAAAAAAAAAAAAAAAAAAAAAAAAAAAAAAAAAAAAAAAAAAAAAAAAAAAAAAAAAAAAAAAAAAAAAAAAAAAAAAAAAAAAAAAAAAAAAAAIQAAAAAAAAAAAAAAAAAAAAAAAAAAAAAAAAAAAAAAAAAAAAAAAAAAAAAAAAAAAAAAAAAAAAAAAAABAAAAAAAAACEAAAAAAAAAAQAAAAAAAABBAAAAAAAAACEAAAAAAAAAIQAAAAAAAABRAAAAAAAAAAEAAAAAAAAAYQAAAAAAAABhAAAAAAAAAAAAAAAAAAAAUQAAAAAAAABBAAAAAAAAAAAAAAAAAAAAAAAAAAAAAAPA/AAAAAAAAAEAAAAAAAAAIQAAAAAAAAABAAAAAAAAAFEAAAAAAAAAiQAAAAAAAADJAAAAAAACAQUAAAAAAAIBEQAAAAAAAAEtAAAAAAAAAXEAAAAAAAIBXQAAAAAAAAE1AAAAAAABgYUAAAAAAAMBmQAAAAAAAIGpAAAAAAABga0AAAAAAAFB1QAAAAAAAoHBAAAAAAAAgc0AAAAAAAIBzQAAAAAAAwH5AAAAAAAAge0AAAAAAAGB4QAAAAAAA4HlAAAAAAABwf0AAAAAAAFBzQAAAAAAAIHpAAAAAAAAQf0AAAAAAACiBQAAAAAAACIRAAAAAAACggUAAAAAAANiBQAAAAAAAQIFAAAAAAADIhEAAAAAAAICFQAAAAAAAkIhAAAAAAACwiEAAAAAAABCGQAAAAAAAKIZAAAAAAADgg0AAAAAAALiLQAAAAAAAKJBAAAAAAABIjkAAAAAAACiSQAAAAAAARJBAAAAAAADIkkAAAAAAABCNQAAAAAAA5JNAAAAAAAAImUAAAAAAAIyTQAAAAAAARJlAAAAAAAC0m0AAAAAAAHiaQAAAAAAARJ1AAAAAAADwl0AAAAAAANyeQAAAAAAAOJJAAAAAAAAUmEAAAAAAALSfQAAAAAAAtqNAAAAAAACQm0AAAAAAAOKjQAAAAAAAmqJAAAAAAAC+pkAAAAAAAA6lQAAAAAAA7qJAAAAAAAAYpkAAAAAAAJakQAAAAAAAbqVAAAAAAABepUAAAAAAAMaoQAAAAAAA7KhAAAAAAADmqEAAAAAAAB6rQAAAAAAAUKZAAAAAAACKqEAAAAAAADaoQAAAAAAALK5AAAAAAABQr0AAAAAAALatQAAAAAAAVqlAAAAAAABQqUAAAAAAAJarQAAAAAAAMKtAAAAAAACoqkAAAAAAAAyrQAAAAAAA1K5AAAAAAAA4rkAAAAAAAGCrQAAAAAAAwq1AAAAAAABcr0AAAAAAAMSsQAAAAAAAfq1AAAAAAABmr0AAAAAAAFSoQAAAAAAAsKlAAAAAAABkpUAAAAAAAAKpQAAAAAAApqdAAAAAAABCq0AAAAAAAECqQAAAAAAACqdAAAAAAAD8pEAAAAAAANSkQAAAAAAANqhAAAAAAAC2qEAAAAAAAJqrQAAAAAAAWqVAAAAAAAC0p0AAAAAAACqlQAAAAAAANqNAAAAAAADgpkAAAAAAAOKnQAAAAAAAcKVAAAAAAABQpkAAAAAAAOijQAAAAAAAsKNAAAAAAADGoUAAAAAAAKilQAAAAAAAIKdAAAAAAACCp0AAAAAAAA6lQAAAAAAAqKVAAAAAAAAuoUAAAAAAALCLQAAAAAAAMJVAAAAAAAD4nUAAAAAAALykQAAAAAAAQqdAAAAAAABGpkAAAAAAAGakQAAAAAAAbqNAAAAAAAC2pkAAAAAAAGinQAAAAAAAZqdAAAAAAABypEAAAAAAAJylQAAAAAAAqKRAAAAAAACgn0AAAAAAAEakQAAAAAAAAKlAAAAAAAB2pUAAAAAAAGimQAAAAAAAwqJAAAAAAACyoUAAAAAAANSeQAAAAAAAaqNAAAAAAADio0AAAAAAAK6jQAAAAAAACKNAAAAAAABGoUAAAAAAAKagQAAAAAAApJ1AAAAAAAD8oEAAAAAAAHieQAAAAAAALKRAAAAAAADcoEAAAAAAACSeQAAAAAAAeJ5AAAAAAADgmEAAAAAAADShQAAAAAAAkJ1AAAAAAACMnEAAAAAAAJCdQAAAAAAAAJxAAAAAAAAIlEAAAAAAABCXQAAAAAAAUJxAAAAAAADwmkAAAAAAADyZQAAAAAAA5JhAAAAAAAAUmEAAAAAAAHyYQAAAAAAAKJhAAAAAAACcmkAAAAAAAFSYQAAAAAAACJpAAAAAAAAQmEAAAAAAAJyVQAAAAAAASJFAAAAAAADsk0AAAAAAAPyVQAAAAAAAQJdAAAAAAABwlkAAAAAAAJCXQAAAAAAA0JVAAAAAAAB4kkAAAAAAAJSRQAAAAAAAiJZAAAAAAABsl0AAAAAAAMCXQAAAAAAAhJZAAAAAAAD4k0AAAAAAAMySQAAAAAAApJJAAAAAAAAAl0AAAAAAAASYQAAAAAAAUJpAAAAAAAAAmUAAAAAAANyXQAAAAAAA5JJAAAAAAADok0AAAAAAAJSZQAAAAAAAkJVAAAAAAAAkmEAAAAAAAICaQAAAAAAAyJhAAAAAAAAYkUAAAAAAAHCUQAAAAAAAcJZAAAAAAADclEAAAAAAAFSXQAAAAAAARJpAAAAAAAAQmUAAAAAAAKCUQAAAAAAAgJhAAAAAAAAgm0AAAAAAAOyZQAAAAAAAtJdAAAAAAADInEAAAAAAAPSWQAAAAAAAJJRAAAAAAAAIl0AAAAAAAEyaQAAAAAAAjJpAAAAAAAAUm0AAAAAAANScQAAAAAAAnJtAAAAAAADsl0AAAAAAALScQAAAAAAAtqBAAAAAAABIoUAAAAAAAH6gQAAAAAAAeKJAAAAAAADGoUAAAAAAANycQAAAAAAAGKBAAAAAAADmokAAAAAAAGyhQAAAAAAA2KBAAAAAAADooUAAAAAAAMKhQAAAAAAA0J1AAAAAAADwm0AAAAAAALqjQAAAAAAA6qFAAAAAAAAsoUAAAAAAABiiQAAAAAAAmKFAAAAAAAAYnEAAAAAAAHCbQAAAAAAALKFAAAAAAAA0oUAAAAAAAN6gQAAAAAAAFJ1AAAAAAABwnUAAAAAAAMSUQAAAAAAALJVAAAAAAAAcnEAAAAAAAFSdQAAAAAAAgJlAAAAAAAC4kUAAAAAAAJiUQAAAAAAAzJNAAAAAAAAEkkAAAAAAAPiWQAAAAAAAmJRAAAAAAABclUAAAAAAAEiTQAAAAAAALJJAAAAAAAAQikAAAAAAAGSQQAAAAAAAII1AAAAAAAB0kkAAAAAAAEyTQAAAAAAAsI9AAAAAAADwjkAAAAAAAGCFQAAAAAAAGIpAAAAAAABwjEAAAAAAAPiOQAAAAAAAkI5AAAAAAAB4j0AAAAAAAIiIQAAAAAAAoIVAAAAAAAC8kEAAAAAAAIiKQAAAAAAAcIZAAAAAAADQi0AAAAAAAGiJQAAAAAAA0IdAAAAAAAAQgkAAAAAAAMiBQAAAAAAAyIVAAAAAAADwhUAAAAAAAICEQAAAAAAAQIJAAAAAAABYg0AAAAAAAEB7QAAAAAAAkH1AAAAAAADQgkAAAAAAABiAQAAAAAAAgIBAAAAAAADQf0AAAAAAAGB8QAAAAAAAsHZAAAAAAAAQd0AAAAAAALB7QAAAAAAAaIBAAAAAAABge0AAAAAAAFB+QAAAAAAAMHtAAAAAAAAQc0AAAAAAAEByQAAAAAAAwHNAAAAAAAAweEAAAAAAAEB4QAAAAAAAoHdAAAAAAADAe0AAAAAAADByQAAAAAAAYHRAAAAAAADge0AAAAAAAMB4QAAAAAAAsHtAAAAAAABweEAAAAAAAGB5QAAAAAAA4HVAAAAAAABwdEAAAAAAAOB2QAAAAAAA8HhAAAAAAADAekAAAAAAAKB5QAAAAAAAYH1AAAAAAABweUAAAAAAABB4QAAAAAAASIJAAAAAAAAYgEAAAAAAADCDQAAAAAAAWINAAAAAAADYg0AAAAAAAOCAQAAAAAAA8IJAAAAAAABoikAAAAAAAICMQAAAAAAA0I9AAAAAAABskEAAAAAAAKiQQAAAAAAAsI9AAAAAAAAckkAAAAAAALSbQAAAAAAA3JpAAAAAAAAknUAAAAAAABahQAAAAAAArJ1AAAAAAAAwnUAAAAAAAPigQAAAAAAA8qVAAAAAAADEq0AAAAAAAN6rQAAAAAAABqxAAAAAAAAyrUAAAAAAALSsQAAAAAAAiK5AAAAAAAA9tEAAAAAAALKzQAAAAAAA7rRAAAAAAABFuUAAAAAAAK66QAAAAAAAM7ZAAAAAAACvu0AAAAAAAKO7QAAAAAAALbxAAAAAAADKvUAAAAAAAMa6QAAAAAAAJr1AAAAAAADftEAAAAAAALu2QAAAAAAAIbxAAAAAAACMt0AAAAAAAEG0QAAAAAAAYLBAAAAAAABBsUAAAAAAACKrQAAAAAAA5KxAAAAAAACvsEAAAAAAAM+xQAAAAAAAuLBAAAAAAABcr0AAAAAAAFqsQAAAAAAAEqVAAAAAAADUpkAAAAAAANSpQAAAAAAArqdAAAAAAAAWp0AAAAAAAEqiQAAAAAAAAqFAAAAAAACwlkAAAAAAADyVQAAAAAAALJtAAAAAAADonUAAAAAAADibQAAAAAAAeJxAAAAAAABImkAAAAAAABSUQAAAAAAAqJVAAAAAAACol0AAAAAAADiTQAAAAAAA0JFAAAAAAAAolEAAAAAAAICKQAAAAAAAUHBA\",\"dtype\":\"float64\",\"order\":\"little\",\"shape\":[480]},\"date\":{\"__ndarray__\":\"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\",\"dtype\":\"float64\",\"order\":\"little\",\"shape\":[480]},\"index\":[20,295,570,845,1120,1395,1670,1945,2220,2495,2770,3045,3320,3595,3870,4145,4420,4695,4970,5245,5520,5795,6070,6345,6620,6895,7170,7445,7720,7995,8270,8545,8820,9095,9370,9645,9920,10195,10470,10745,11020,11295,11570,11845,12120,12395,12670,12945,13220,13495,13770,14045,14320,14595,14870,15145,15420,15695,15970,16245,16520,16795,17070,17345,17620,17895,18170,18445,18720,18995,19270,19545,19820,20095,20370,20645,20920,21195,21470,21745,22020,22295,22570,22845,23120,23395,23670,23945,24220,24495,24770,25045,25320,25595,25870,26145,26420,26695,26970,27245,27520,27795,28070,28345,28620,28895,29170,29445,29720,29995,30270,30545,30820,31095,31370,31645,31920,32195,32470,32745,33020,33295,33570,33845,34120,34395,34670,34945,35220,35495,35770,36045,36320,36595,36870,37145,37420,37695,37970,38245,38520,38795,39070,39345,39620,39895,40170,40445,40720,40995,41270,41545,41820,42095,42370,42645,42920,43195,43470,43745,44020,44295,44570,44845,45120,45395,45670,45945,46220,46495,46770,47045,47320,47595,47870,48145,48420,48695,48970,49245,49520,49795,50070,50345,50620,50895,51170,51445,51720,51995,52270,52545,52820,53095,53370,53645,53920,54195,54470,54745,55020,55295,55570,55845,56120,56395,56670,56945,57220,57495,57770,58045,58320,58595,58870,59145,59420,59695,59970,60245,60520,60795,61070,61345,61620,61895,62170,62445,62720,62995,63270,63545,63820,64095,64370,64645,64920,65195,65470,65745,66020,66295,66570,66845,67120,67395,67670,67945,68220,68495,68770,69045,69320,69595,69870,70145,70420,70695,70970,71245,71520,71795,72070,72345,72620,72895,73170,73445,73720,73995,74270,74545,74820,75095,75370,75645,75920,76195,76470,76745,77020,77295,77570,77845,78120,78395,78670,78945,79220,79495,79770,80045,80320,80595,80870,81145,81420,81695,81970,82245,82520,82795,83070,83345,83620,83895,84170,84445,84720,84995,85270,85545,85820,86095,86370,86645,86920,87195,87470,87745,88020,88295,88570,88845,89120,89395,89670,89945,90220,90495,90770,91045,91320,91595,91870,92145,92420,92695,92970,93245,93520,93795,94070,94345,94620,94895,95170,95445,95720,95995,96270,96545,96820,97095,97370,97645,97920,98195,98470,98745,99020,99295,99570,99845,100120,100395,100670,100945,101220,101495,101770,102045,102320,102595,102870,103145,103420,103695,103970,104245,104520,104795,105070,105345,105620,105895,106170,106445,106720,106995,107270,107545,107820,108095,108370,108645,108920,109195,109470,109745,110020,110295,110570,110845,111120,111395,111670,111945,112220,112495,112770,113045,113320,113595,113870,114145,114420,114695,114970,115245,115520,115795,116070,116345,116620,116895,117170,117445,117720,117995,118270,118545,118820,119095,119370,119645,119920,120195,120470,120745,121020,121295,121570,121845,122120,122395,122670,122945,123220,123495,123770,124045,124320,124595,124870,125145,125420,125695,125970,126245,126520,126795,127070,127345,127620,127895,128170,128445,128720,128995,129270,129545,129820,130095,130370,130645,130920,131195,131470,131745]},\"selected\":{\"id\":\"1943\"},\"selection_policy\":{\"id\":\"1944\"}},\"id\":\"1940\",\"type\":\"ColumnDataSource\"},{\"attributes\":{\"num_minor_ticks\":5,\"tickers\":[{\"id\":\"2340\"},{\"id\":\"2341\"},{\"id\":\"2342\"},{\"id\":\"2343\"},{\"id\":\"2344\"},{\"id\":\"2345\"},{\"id\":\"2346\"},{\"id\":\"2347\"},{\"id\":\"2348\"},{\"id\":\"2349\"},{\"id\":\"2350\"},{\"id\":\"2351\"}]},\"id\":\"2207\",\"type\":\"DatetimeTicker\"},{\"attributes\":{\"months\":[0,2,4,6,8,10]},\"id\":\"2348\",\"type\":\"MonthsTicker\"},{\"attributes\":{\"axis_label\":\"Daily infection\",\"formatter\":{\"id\":\"2338\"},\"major_label_policy\":{\"id\":\"2339\"},\"ticker\":{\"id\":\"2211\"}},\"id\":\"2210\",\"type\":\"LinearAxis\"},{\"attributes\":{},\"id\":\"2204\",\"type\":\"LinearScale\"},{\"attributes\":{\"axis_label\":\"Time\",\"formatter\":{\"id\":\"2335\"},\"major_label_policy\":{\"id\":\"2336\"},\"ticker\":{\"id\":\"2207\"}},\"id\":\"2206\",\"type\":\"DatetimeAxis\"},{\"attributes\":{},\"id\":\"2338\",\"type\":\"BasicTickFormatter\"},{\"attributes\":{\"axis\":{\"id\":\"2210\"},\"dimension\":1,\"ticker\":null},\"id\":\"2213\",\"type\":\"Grid\"},{\"attributes\":{},\"id\":\"2339\",\"type\":\"AllLabels\"},{\"attributes\":{\"bottom_units\":\"screen\",\"fill_alpha\":0.5,\"fill_color\":\"lightgrey\",\"left_units\":\"screen\",\"level\":\"overlay\",\"line_alpha\":1.0,\"line_color\":\"black\",\"line_dash\":[4,4],\"line_width\":2,\"right_units\":\"screen\",\"syncable\":false,\"top_units\":\"screen\"},\"id\":\"2220\",\"type\":\"BoxAnnotation\"},{\"attributes\":{\"days\":[1,15]},\"id\":\"2346\",\"type\":\"DaysTicker\"},{\"attributes\":{\"line_alpha\":0.1,\"line_color\":\"DarkOrange\",\"x\":{\"field\":\"date\"},\"y\":{\"field\":\"daily_case\"}},\"id\":\"2231\",\"type\":\"Line\"},{\"attributes\":{\"overlay\":{\"id\":\"2220\"}},\"id\":\"2216\",\"type\":\"BoxZoomTool\"},{\"attributes\":{\"days\":[1,8,15,22]},\"id\":\"2345\",\"type\":\"DaysTicker\"},{\"attributes\":{\"active_multi\":null,\"tools\":[{\"id\":\"2214\"},{\"id\":\"2215\"},{\"id\":\"2216\"},{\"id\":\"2217\"},{\"id\":\"2218\"},{\"id\":\"2219\"},{\"id\":\"2194\"}]},\"id\":\"2221\",\"type\":\"Toolbar\"},{\"attributes\":{},\"id\":\"2211\",\"type\":\"BasicTicker\"},{\"attributes\":{\"line_color\":\"DarkOrange\",\"x\":{\"field\":\"date\"},\"y\":{\"field\":\"daily_case\"}},\"id\":\"2230\",\"type\":\"Line\"},{\"attributes\":{},\"id\":\"1943\",\"type\":\"Selection\"},{\"attributes\":{\"months\":[0,1,2,3,4,5,6,7,8,9,10,11]},\"id\":\"2347\",\"type\":\"MonthsTicker\"},{\"attributes\":{},\"id\":\"2214\",\"type\":\"PanTool\"},{\"attributes\":{\"mantissas\":[1,2,5],\"max_interval\":500.0,\"num_minor_ticks\":0},\"id\":\"2340\",\"type\":\"AdaptiveTicker\"},{\"attributes\":{},\"id\":\"2217\",\"type\":\"SaveTool\"},{\"attributes\":{\"base\":60,\"mantissas\":[1,2,5,10,15,20,30],\"max_interval\":1800000.0,\"min_interval\":1000.0,\"num_minor_ticks\":0},\"id\":\"2341\",\"type\":\"AdaptiveTicker\"},{\"attributes\":{},\"id\":\"2218\",\"type\":\"ResetTool\"},{\"attributes\":{\"days\":[1,2,3,4,5,6,7,8,9,10,11,12,13,14,15,16,17,18,19,20,21,22,23,24,25,26,27,28,29,30,31]},\"id\":\"2343\",\"type\":\"DaysTicker\"},{\"attributes\":{\"base\":24,\"mantissas\":[1,2,4,6,8,12],\"max_interval\":43200000.0,\"min_interval\":3600000.0,\"num_minor_ticks\":0},\"id\":\"2342\",\"type\":\"AdaptiveTicker\"},{\"attributes\":{\"callback\":null,\"formatters\":{\"@date\":\"datetime\"},\"tooltips\":[[\"date\",\"@date{%F}\"],[\"daily case\",\"@daily_case\"]]},\"id\":\"2194\",\"type\":\"HoverTool\"},{\"attributes\":{\"months\":[0,6]},\"id\":\"2350\",\"type\":\"MonthsTicker\"},{\"attributes\":{\"months\":[0,4,8]},\"id\":\"2349\",\"type\":\"MonthsTicker\"},{\"attributes\":{\"days\":[1,4,7,10,13,16,19,22,25,28]},\"id\":\"2344\",\"type\":\"DaysTicker\"},{\"attributes\":{\"data_source\":{\"id\":\"1940\"},\"glyph\":{\"id\":\"2230\"},\"hover_glyph\":null,\"muted_glyph\":null,\"nonselection_glyph\":{\"id\":\"2231\"},\"view\":{\"id\":\"2233\"}},\"id\":\"2232\",\"type\":\"GlyphRenderer\"}],\"root_ids\":[\"2195\"]},\"title\":\"Bokeh Application\",\"version\":\"2.3.2\"}};\n",
       "  var render_items = [{\"docid\":\"abd59315-3ad6-4aed-8cf7-efa7bfd84d95\",\"root_ids\":[\"2195\"],\"roots\":{\"2195\":\"351bc523-d2cd-4b00-b4c4-73e2b29dcc56\"}}];\n",
       "  root.Bokeh.embed.embed_items_notebook(docs_json, render_items);\n",
       "\n",
       "  }\n",
       "  if (root.Bokeh !== undefined) {\n",
       "    embed_document(root);\n",
       "  } else {\n",
       "    var attempts = 0;\n",
       "    var timer = setInterval(function(root) {\n",
       "      if (root.Bokeh !== undefined) {\n",
       "        clearInterval(timer);\n",
       "        embed_document(root);\n",
       "      } else {\n",
       "        attempts++;\n",
       "        if (attempts > 100) {\n",
       "          clearInterval(timer);\n",
       "          console.log(\"Bokeh: ERROR: Unable to run BokehJS code because BokehJS library is missing\");\n",
       "        }\n",
       "      }\n",
       "    }, 10, root)\n",
       "  }\n",
       "})(window);"
      ],
      "application/vnd.bokehjs_exec.v0+json": ""
     },
     "metadata": {
      "application/vnd.bokehjs_exec.v0+json": {
       "id": "2195"
      }
     },
     "output_type": "display_data"
    }
   ],
   "source": [
    "hover=HoverTool(tooltips=[(\"date\", \"@date{%F}\"), \n",
    "                    (\"daily case\", \"@daily_case\")], \n",
    "formatters={\"@date\" : \"datetime\"}, mode=\"mouse\")\n",
    "            \n",
    "\n",
    "p=figure(plot_width=600, plot_height=400, x_axis_type=\"datetime\",\n",
    "        x_axis_label=\"Time\", \n",
    "        y_axis_label=\"Daily infection\", \n",
    "        title=\"Bangladesh Covid-19 daily case\")\n",
    "p.add_tools(hover)\n",
    "p.line(x=\"date\", y=\"daily_case\", source=bd_source, color=\"DarkOrange\")\n",
    "show(p)"
   ]
  },
  {
   "cell_type": "code",
   "execution_count": null,
   "metadata": {},
   "outputs": [],
   "source": []
  }
 ],
 "metadata": {
  "kernelspec": {
   "display_name": "Python 3",
   "language": "python",
   "name": "python3"
  },
  "language_info": {
   "codemirror_mode": {
    "name": "ipython",
    "version": 3
   },
   "file_extension": ".py",
   "mimetype": "text/x-python",
   "name": "python",
   "nbconvert_exporter": "python",
   "pygments_lexer": "ipython3",
   "version": "3.8.5"
  }
 },
 "nbformat": 4,
 "nbformat_minor": 4
}
