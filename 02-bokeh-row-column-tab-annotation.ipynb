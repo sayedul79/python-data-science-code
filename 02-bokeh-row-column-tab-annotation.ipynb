{
 "cells": [
  {
   "cell_type": "markdown",
   "metadata": {},
   "source": [
    "### Import library"
   ]
  },
  {
   "cell_type": "code",
   "execution_count": 1,
   "metadata": {},
   "outputs": [],
   "source": [
    "import numpy as np\n",
    "import pandas as pd\n",
    "from bokeh.io import output_notebook, show\n",
    "from bokeh.plotting import figure\n",
    "from bokeh.layouts import row, column\n",
    "from bokeh.models import ColumnDataSource, CategoricalColorMapper,HoverTool"
   ]
  },
  {
   "cell_type": "code",
   "execution_count": 2,
   "metadata": {},
   "outputs": [
    {
     "data": {
      "text/html": [
       "\n",
       "    <div class=\"bk-root\">\n",
       "        <a href=\"https://bokeh.org\" target=\"_blank\" class=\"bk-logo bk-logo-small bk-logo-notebook\"></a>\n",
       "        <span id=\"1002\">Loading BokehJS ...</span>\n",
       "    </div>"
      ]
     },
     "metadata": {},
     "output_type": "display_data"
    },
    {
     "data": {
      "application/javascript": [
       "\n",
       "(function(root) {\n",
       "  function now() {\n",
       "    return new Date();\n",
       "  }\n",
       "\n",
       "  var force = true;\n",
       "\n",
       "  if (typeof root._bokeh_onload_callbacks === \"undefined\" || force === true) {\n",
       "    root._bokeh_onload_callbacks = [];\n",
       "    root._bokeh_is_loading = undefined;\n",
       "  }\n",
       "\n",
       "  var JS_MIME_TYPE = 'application/javascript';\n",
       "  var HTML_MIME_TYPE = 'text/html';\n",
       "  var EXEC_MIME_TYPE = 'application/vnd.bokehjs_exec.v0+json';\n",
       "  var CLASS_NAME = 'output_bokeh rendered_html';\n",
       "\n",
       "  /**\n",
       "   * Render data to the DOM node\n",
       "   */\n",
       "  function render(props, node) {\n",
       "    var script = document.createElement(\"script\");\n",
       "    node.appendChild(script);\n",
       "  }\n",
       "\n",
       "  /**\n",
       "   * Handle when an output is cleared or removed\n",
       "   */\n",
       "  function handleClearOutput(event, handle) {\n",
       "    var cell = handle.cell;\n",
       "\n",
       "    var id = cell.output_area._bokeh_element_id;\n",
       "    var server_id = cell.output_area._bokeh_server_id;\n",
       "    // Clean up Bokeh references\n",
       "    if (id != null && id in Bokeh.index) {\n",
       "      Bokeh.index[id].model.document.clear();\n",
       "      delete Bokeh.index[id];\n",
       "    }\n",
       "\n",
       "    if (server_id !== undefined) {\n",
       "      // Clean up Bokeh references\n",
       "      var cmd = \"from bokeh.io.state import curstate; print(curstate().uuid_to_server['\" + server_id + \"'].get_sessions()[0].document.roots[0]._id)\";\n",
       "      cell.notebook.kernel.execute(cmd, {\n",
       "        iopub: {\n",
       "          output: function(msg) {\n",
       "            var id = msg.content.text.trim();\n",
       "            if (id in Bokeh.index) {\n",
       "              Bokeh.index[id].model.document.clear();\n",
       "              delete Bokeh.index[id];\n",
       "            }\n",
       "          }\n",
       "        }\n",
       "      });\n",
       "      // Destroy server and session\n",
       "      var cmd = \"import bokeh.io.notebook as ion; ion.destroy_server('\" + server_id + \"')\";\n",
       "      cell.notebook.kernel.execute(cmd);\n",
       "    }\n",
       "  }\n",
       "\n",
       "  /**\n",
       "   * Handle when a new output is added\n",
       "   */\n",
       "  function handleAddOutput(event, handle) {\n",
       "    var output_area = handle.output_area;\n",
       "    var output = handle.output;\n",
       "\n",
       "    // limit handleAddOutput to display_data with EXEC_MIME_TYPE content only\n",
       "    if ((output.output_type != \"display_data\") || (!Object.prototype.hasOwnProperty.call(output.data, EXEC_MIME_TYPE))) {\n",
       "      return\n",
       "    }\n",
       "\n",
       "    var toinsert = output_area.element.find(\".\" + CLASS_NAME.split(' ')[0]);\n",
       "\n",
       "    if (output.metadata[EXEC_MIME_TYPE][\"id\"] !== undefined) {\n",
       "      toinsert[toinsert.length - 1].firstChild.textContent = output.data[JS_MIME_TYPE];\n",
       "      // store reference to embed id on output_area\n",
       "      output_area._bokeh_element_id = output.metadata[EXEC_MIME_TYPE][\"id\"];\n",
       "    }\n",
       "    if (output.metadata[EXEC_MIME_TYPE][\"server_id\"] !== undefined) {\n",
       "      var bk_div = document.createElement(\"div\");\n",
       "      bk_div.innerHTML = output.data[HTML_MIME_TYPE];\n",
       "      var script_attrs = bk_div.children[0].attributes;\n",
       "      for (var i = 0; i < script_attrs.length; i++) {\n",
       "        toinsert[toinsert.length - 1].firstChild.setAttribute(script_attrs[i].name, script_attrs[i].value);\n",
       "        toinsert[toinsert.length - 1].firstChild.textContent = bk_div.children[0].textContent\n",
       "      }\n",
       "      // store reference to server id on output_area\n",
       "      output_area._bokeh_server_id = output.metadata[EXEC_MIME_TYPE][\"server_id\"];\n",
       "    }\n",
       "  }\n",
       "\n",
       "  function register_renderer(events, OutputArea) {\n",
       "\n",
       "    function append_mime(data, metadata, element) {\n",
       "      // create a DOM node to render to\n",
       "      var toinsert = this.create_output_subarea(\n",
       "        metadata,\n",
       "        CLASS_NAME,\n",
       "        EXEC_MIME_TYPE\n",
       "      );\n",
       "      this.keyboard_manager.register_events(toinsert);\n",
       "      // Render to node\n",
       "      var props = {data: data, metadata: metadata[EXEC_MIME_TYPE]};\n",
       "      render(props, toinsert[toinsert.length - 1]);\n",
       "      element.append(toinsert);\n",
       "      return toinsert\n",
       "    }\n",
       "\n",
       "    /* Handle when an output is cleared or removed */\n",
       "    events.on('clear_output.CodeCell', handleClearOutput);\n",
       "    events.on('delete.Cell', handleClearOutput);\n",
       "\n",
       "    /* Handle when a new output is added */\n",
       "    events.on('output_added.OutputArea', handleAddOutput);\n",
       "\n",
       "    /**\n",
       "     * Register the mime type and append_mime function with output_area\n",
       "     */\n",
       "    OutputArea.prototype.register_mime_type(EXEC_MIME_TYPE, append_mime, {\n",
       "      /* Is output safe? */\n",
       "      safe: true,\n",
       "      /* Index of renderer in `output_area.display_order` */\n",
       "      index: 0\n",
       "    });\n",
       "  }\n",
       "\n",
       "  // register the mime type if in Jupyter Notebook environment and previously unregistered\n",
       "  if (root.Jupyter !== undefined) {\n",
       "    var events = require('base/js/events');\n",
       "    var OutputArea = require('notebook/js/outputarea').OutputArea;\n",
       "\n",
       "    if (OutputArea.prototype.mime_types().indexOf(EXEC_MIME_TYPE) == -1) {\n",
       "      register_renderer(events, OutputArea);\n",
       "    }\n",
       "  }\n",
       "\n",
       "  \n",
       "  if (typeof (root._bokeh_timeout) === \"undefined\" || force === true) {\n",
       "    root._bokeh_timeout = Date.now() + 5000;\n",
       "    root._bokeh_failed_load = false;\n",
       "  }\n",
       "\n",
       "  var NB_LOAD_WARNING = {'data': {'text/html':\n",
       "     \"<div style='background-color: #fdd'>\\n\"+\n",
       "     \"<p>\\n\"+\n",
       "     \"BokehJS does not appear to have successfully loaded. If loading BokehJS from CDN, this \\n\"+\n",
       "     \"may be due to a slow or bad network connection. Possible fixes:\\n\"+\n",
       "     \"</p>\\n\"+\n",
       "     \"<ul>\\n\"+\n",
       "     \"<li>re-rerun `output_notebook()` to attempt to load from CDN again, or</li>\\n\"+\n",
       "     \"<li>use INLINE resources instead, as so:</li>\\n\"+\n",
       "     \"</ul>\\n\"+\n",
       "     \"<code>\\n\"+\n",
       "     \"from bokeh.resources import INLINE\\n\"+\n",
       "     \"output_notebook(resources=INLINE)\\n\"+\n",
       "     \"</code>\\n\"+\n",
       "     \"</div>\"}};\n",
       "\n",
       "  function display_loaded() {\n",
       "    var el = document.getElementById(\"1002\");\n",
       "    if (el != null) {\n",
       "      el.textContent = \"BokehJS is loading...\";\n",
       "    }\n",
       "    if (root.Bokeh !== undefined) {\n",
       "      if (el != null) {\n",
       "        el.textContent = \"BokehJS \" + root.Bokeh.version + \" successfully loaded.\";\n",
       "      }\n",
       "    } else if (Date.now() < root._bokeh_timeout) {\n",
       "      setTimeout(display_loaded, 100)\n",
       "    }\n",
       "  }\n",
       "\n",
       "\n",
       "  function run_callbacks() {\n",
       "    try {\n",
       "      root._bokeh_onload_callbacks.forEach(function(callback) {\n",
       "        if (callback != null)\n",
       "          callback();\n",
       "      });\n",
       "    } finally {\n",
       "      delete root._bokeh_onload_callbacks\n",
       "    }\n",
       "    console.debug(\"Bokeh: all callbacks have finished\");\n",
       "  }\n",
       "\n",
       "  function load_libs(css_urls, js_urls, callback) {\n",
       "    if (css_urls == null) css_urls = [];\n",
       "    if (js_urls == null) js_urls = [];\n",
       "\n",
       "    root._bokeh_onload_callbacks.push(callback);\n",
       "    if (root._bokeh_is_loading > 0) {\n",
       "      console.debug(\"Bokeh: BokehJS is being loaded, scheduling callback at\", now());\n",
       "      return null;\n",
       "    }\n",
       "    if (js_urls == null || js_urls.length === 0) {\n",
       "      run_callbacks();\n",
       "      return null;\n",
       "    }\n",
       "    console.debug(\"Bokeh: BokehJS not loaded, scheduling load and callback at\", now());\n",
       "    root._bokeh_is_loading = css_urls.length + js_urls.length;\n",
       "\n",
       "    function on_load() {\n",
       "      root._bokeh_is_loading--;\n",
       "      if (root._bokeh_is_loading === 0) {\n",
       "        console.debug(\"Bokeh: all BokehJS libraries/stylesheets loaded\");\n",
       "        run_callbacks()\n",
       "      }\n",
       "    }\n",
       "\n",
       "    function on_error(url) {\n",
       "      console.error(\"failed to load \" + url);\n",
       "    }\n",
       "\n",
       "    for (let i = 0; i < css_urls.length; i++) {\n",
       "      const url = css_urls[i];\n",
       "      const element = document.createElement(\"link\");\n",
       "      element.onload = on_load;\n",
       "      element.onerror = on_error.bind(null, url);\n",
       "      element.rel = \"stylesheet\";\n",
       "      element.type = \"text/css\";\n",
       "      element.href = url;\n",
       "      console.debug(\"Bokeh: injecting link tag for BokehJS stylesheet: \", url);\n",
       "      document.body.appendChild(element);\n",
       "    }\n",
       "\n",
       "    const hashes = {\"https://cdn.bokeh.org/bokeh/release/bokeh-2.3.2.min.js\": \"XypntL49z55iwGVUW4qsEu83zKL3XEcz0MjuGOQ9SlaaQ68X/g+k1FcioZi7oQAc\", \"https://cdn.bokeh.org/bokeh/release/bokeh-tables-2.3.2.min.js\": \"bEsM86IHGDTLCS0Zod8a8WM6Y4+lafAL/eSiyQcuPzinmWNgNO2/olUF0Z2Dkn5i\", \"https://cdn.bokeh.org/bokeh/release/bokeh-widgets-2.3.2.min.js\": \"TX0gSQTdXTTeScqxj6PVQxTiRW8DOoGVwinyi1D3kxv7wuxQ02XkOxv0xwiypcAH\"};\n",
       "\n",
       "    for (let i = 0; i < js_urls.length; i++) {\n",
       "      const url = js_urls[i];\n",
       "      const element = document.createElement('script');\n",
       "      element.onload = on_load;\n",
       "      element.onerror = on_error.bind(null, url);\n",
       "      element.async = false;\n",
       "      element.src = url;\n",
       "      if (url in hashes) {\n",
       "        element.crossOrigin = \"anonymous\";\n",
       "        element.integrity = \"sha384-\" + hashes[url];\n",
       "      }\n",
       "      console.debug(\"Bokeh: injecting script tag for BokehJS library: \", url);\n",
       "      document.head.appendChild(element);\n",
       "    }\n",
       "  };\n",
       "\n",
       "  function inject_raw_css(css) {\n",
       "    const element = document.createElement(\"style\");\n",
       "    element.appendChild(document.createTextNode(css));\n",
       "    document.body.appendChild(element);\n",
       "  }\n",
       "\n",
       "  \n",
       "  var js_urls = [\"https://cdn.bokeh.org/bokeh/release/bokeh-2.3.2.min.js\", \"https://cdn.bokeh.org/bokeh/release/bokeh-widgets-2.3.2.min.js\", \"https://cdn.bokeh.org/bokeh/release/bokeh-tables-2.3.2.min.js\"];\n",
       "  var css_urls = [];\n",
       "  \n",
       "\n",
       "  var inline_js = [\n",
       "    function(Bokeh) {\n",
       "      Bokeh.set_log_level(\"info\");\n",
       "    },\n",
       "    function(Bokeh) {\n",
       "    \n",
       "    \n",
       "    }\n",
       "  ];\n",
       "\n",
       "  function run_inline_js() {\n",
       "    \n",
       "    if (root.Bokeh !== undefined || force === true) {\n",
       "      \n",
       "    for (var i = 0; i < inline_js.length; i++) {\n",
       "      inline_js[i].call(root, root.Bokeh);\n",
       "    }\n",
       "    if (force === true) {\n",
       "        display_loaded();\n",
       "      }} else if (Date.now() < root._bokeh_timeout) {\n",
       "      setTimeout(run_inline_js, 100);\n",
       "    } else if (!root._bokeh_failed_load) {\n",
       "      console.log(\"Bokeh: BokehJS failed to load within specified timeout.\");\n",
       "      root._bokeh_failed_load = true;\n",
       "    } else if (force !== true) {\n",
       "      var cell = $(document.getElementById(\"1002\")).parents('.cell').data().cell;\n",
       "      cell.output_area.append_execute_result(NB_LOAD_WARNING)\n",
       "    }\n",
       "\n",
       "  }\n",
       "\n",
       "  if (root._bokeh_is_loading === 0) {\n",
       "    console.debug(\"Bokeh: BokehJS loaded, going straight to plotting\");\n",
       "    run_inline_js();\n",
       "  } else {\n",
       "    load_libs(css_urls, js_urls, function() {\n",
       "      console.debug(\"Bokeh: BokehJS plotting callback run at\", now());\n",
       "      run_inline_js();\n",
       "    });\n",
       "  }\n",
       "}(window));"
      ],
      "application/vnd.bokehjs_load.v0+json": "\n(function(root) {\n  function now() {\n    return new Date();\n  }\n\n  var force = true;\n\n  if (typeof root._bokeh_onload_callbacks === \"undefined\" || force === true) {\n    root._bokeh_onload_callbacks = [];\n    root._bokeh_is_loading = undefined;\n  }\n\n  \n\n  \n  if (typeof (root._bokeh_timeout) === \"undefined\" || force === true) {\n    root._bokeh_timeout = Date.now() + 5000;\n    root._bokeh_failed_load = false;\n  }\n\n  var NB_LOAD_WARNING = {'data': {'text/html':\n     \"<div style='background-color: #fdd'>\\n\"+\n     \"<p>\\n\"+\n     \"BokehJS does not appear to have successfully loaded. If loading BokehJS from CDN, this \\n\"+\n     \"may be due to a slow or bad network connection. Possible fixes:\\n\"+\n     \"</p>\\n\"+\n     \"<ul>\\n\"+\n     \"<li>re-rerun `output_notebook()` to attempt to load from CDN again, or</li>\\n\"+\n     \"<li>use INLINE resources instead, as so:</li>\\n\"+\n     \"</ul>\\n\"+\n     \"<code>\\n\"+\n     \"from bokeh.resources import INLINE\\n\"+\n     \"output_notebook(resources=INLINE)\\n\"+\n     \"</code>\\n\"+\n     \"</div>\"}};\n\n  function display_loaded() {\n    var el = document.getElementById(\"1002\");\n    if (el != null) {\n      el.textContent = \"BokehJS is loading...\";\n    }\n    if (root.Bokeh !== undefined) {\n      if (el != null) {\n        el.textContent = \"BokehJS \" + root.Bokeh.version + \" successfully loaded.\";\n      }\n    } else if (Date.now() < root._bokeh_timeout) {\n      setTimeout(display_loaded, 100)\n    }\n  }\n\n\n  function run_callbacks() {\n    try {\n      root._bokeh_onload_callbacks.forEach(function(callback) {\n        if (callback != null)\n          callback();\n      });\n    } finally {\n      delete root._bokeh_onload_callbacks\n    }\n    console.debug(\"Bokeh: all callbacks have finished\");\n  }\n\n  function load_libs(css_urls, js_urls, callback) {\n    if (css_urls == null) css_urls = [];\n    if (js_urls == null) js_urls = [];\n\n    root._bokeh_onload_callbacks.push(callback);\n    if (root._bokeh_is_loading > 0) {\n      console.debug(\"Bokeh: BokehJS is being loaded, scheduling callback at\", now());\n      return null;\n    }\n    if (js_urls == null || js_urls.length === 0) {\n      run_callbacks();\n      return null;\n    }\n    console.debug(\"Bokeh: BokehJS not loaded, scheduling load and callback at\", now());\n    root._bokeh_is_loading = css_urls.length + js_urls.length;\n\n    function on_load() {\n      root._bokeh_is_loading--;\n      if (root._bokeh_is_loading === 0) {\n        console.debug(\"Bokeh: all BokehJS libraries/stylesheets loaded\");\n        run_callbacks()\n      }\n    }\n\n    function on_error(url) {\n      console.error(\"failed to load \" + url);\n    }\n\n    for (let i = 0; i < css_urls.length; i++) {\n      const url = css_urls[i];\n      const element = document.createElement(\"link\");\n      element.onload = on_load;\n      element.onerror = on_error.bind(null, url);\n      element.rel = \"stylesheet\";\n      element.type = \"text/css\";\n      element.href = url;\n      console.debug(\"Bokeh: injecting link tag for BokehJS stylesheet: \", url);\n      document.body.appendChild(element);\n    }\n\n    const hashes = {\"https://cdn.bokeh.org/bokeh/release/bokeh-2.3.2.min.js\": \"XypntL49z55iwGVUW4qsEu83zKL3XEcz0MjuGOQ9SlaaQ68X/g+k1FcioZi7oQAc\", \"https://cdn.bokeh.org/bokeh/release/bokeh-tables-2.3.2.min.js\": \"bEsM86IHGDTLCS0Zod8a8WM6Y4+lafAL/eSiyQcuPzinmWNgNO2/olUF0Z2Dkn5i\", \"https://cdn.bokeh.org/bokeh/release/bokeh-widgets-2.3.2.min.js\": \"TX0gSQTdXTTeScqxj6PVQxTiRW8DOoGVwinyi1D3kxv7wuxQ02XkOxv0xwiypcAH\"};\n\n    for (let i = 0; i < js_urls.length; i++) {\n      const url = js_urls[i];\n      const element = document.createElement('script');\n      element.onload = on_load;\n      element.onerror = on_error.bind(null, url);\n      element.async = false;\n      element.src = url;\n      if (url in hashes) {\n        element.crossOrigin = \"anonymous\";\n        element.integrity = \"sha384-\" + hashes[url];\n      }\n      console.debug(\"Bokeh: injecting script tag for BokehJS library: \", url);\n      document.head.appendChild(element);\n    }\n  };\n\n  function inject_raw_css(css) {\n    const element = document.createElement(\"style\");\n    element.appendChild(document.createTextNode(css));\n    document.body.appendChild(element);\n  }\n\n  \n  var js_urls = [\"https://cdn.bokeh.org/bokeh/release/bokeh-2.3.2.min.js\", \"https://cdn.bokeh.org/bokeh/release/bokeh-widgets-2.3.2.min.js\", \"https://cdn.bokeh.org/bokeh/release/bokeh-tables-2.3.2.min.js\"];\n  var css_urls = [];\n  \n\n  var inline_js = [\n    function(Bokeh) {\n      Bokeh.set_log_level(\"info\");\n    },\n    function(Bokeh) {\n    \n    \n    }\n  ];\n\n  function run_inline_js() {\n    \n    if (root.Bokeh !== undefined || force === true) {\n      \n    for (var i = 0; i < inline_js.length; i++) {\n      inline_js[i].call(root, root.Bokeh);\n    }\n    if (force === true) {\n        display_loaded();\n      }} else if (Date.now() < root._bokeh_timeout) {\n      setTimeout(run_inline_js, 100);\n    } else if (!root._bokeh_failed_load) {\n      console.log(\"Bokeh: BokehJS failed to load within specified timeout.\");\n      root._bokeh_failed_load = true;\n    } else if (force !== true) {\n      var cell = $(document.getElementById(\"1002\")).parents('.cell').data().cell;\n      cell.output_area.append_execute_result(NB_LOAD_WARNING)\n    }\n\n  }\n\n  if (root._bokeh_is_loading === 0) {\n    console.debug(\"Bokeh: BokehJS loaded, going straight to plotting\");\n    run_inline_js();\n  } else {\n    load_libs(css_urls, js_urls, function() {\n      console.debug(\"Bokeh: BokehJS plotting callback run at\", now());\n      run_inline_js();\n    });\n  }\n}(window));"
     },
     "metadata": {},
     "output_type": "display_data"
    }
   ],
   "source": [
    "output_notebook()"
   ]
  },
  {
   "cell_type": "markdown",
   "metadata": {},
   "source": [
    "### Wrangling data"
   ]
  },
  {
   "cell_type": "code",
   "execution_count": 3,
   "metadata": {},
   "outputs": [
    {
     "data": {
      "text/html": [
       "<div>\n",
       "<style scoped>\n",
       "    .dataframe tbody tr th:only-of-type {\n",
       "        vertical-align: middle;\n",
       "    }\n",
       "\n",
       "    .dataframe tbody tr th {\n",
       "        vertical-align: top;\n",
       "    }\n",
       "\n",
       "    .dataframe thead th {\n",
       "        text-align: right;\n",
       "    }\n",
       "</style>\n",
       "<table border=\"1\" class=\"dataframe\">\n",
       "  <thead>\n",
       "    <tr style=\"text-align: right;\">\n",
       "      <th></th>\n",
       "      <th>Country</th>\n",
       "      <th>Continent</th>\n",
       "      <th>female literacy</th>\n",
       "      <th>fertility</th>\n",
       "      <th>population</th>\n",
       "    </tr>\n",
       "  </thead>\n",
       "  <tbody>\n",
       "    <tr>\n",
       "      <th>0</th>\n",
       "      <td>Chine</td>\n",
       "      <td>ASI</td>\n",
       "      <td>90.5</td>\n",
       "      <td>1.769</td>\n",
       "      <td>1.324655e+09</td>\n",
       "    </tr>\n",
       "    <tr>\n",
       "      <th>1</th>\n",
       "      <td>Inde</td>\n",
       "      <td>ASI</td>\n",
       "      <td>50.8</td>\n",
       "      <td>2.682</td>\n",
       "      <td>1.139965e+09</td>\n",
       "    </tr>\n",
       "    <tr>\n",
       "      <th>2</th>\n",
       "      <td>USA</td>\n",
       "      <td>NAM</td>\n",
       "      <td>99</td>\n",
       "      <td>2.077</td>\n",
       "      <td>3.040600e+08</td>\n",
       "    </tr>\n",
       "    <tr>\n",
       "      <th>3</th>\n",
       "      <td>Indonésie</td>\n",
       "      <td>ASI</td>\n",
       "      <td>88.8</td>\n",
       "      <td>2.132</td>\n",
       "      <td>2.273451e+08</td>\n",
       "    </tr>\n",
       "    <tr>\n",
       "      <th>4</th>\n",
       "      <td>Brésil</td>\n",
       "      <td>LAT</td>\n",
       "      <td>90.2</td>\n",
       "      <td>1.827</td>\n",
       "      <td>1.919715e+08</td>\n",
       "    </tr>\n",
       "  </tbody>\n",
       "</table>\n",
       "</div>"
      ],
      "text/plain": [
       "    Country  Continent female literacy fertility    population\n",
       "0      Chine       ASI            90.5     1.769  1.324655e+09\n",
       "1       Inde       ASI            50.8     2.682  1.139965e+09\n",
       "2        USA       NAM              99     2.077  3.040600e+08\n",
       "3  Indonésie       ASI            88.8     2.132  2.273451e+08\n",
       "4     Brésil       LAT            90.2     1.827  1.919715e+08"
      ]
     },
     "execution_count": 3,
     "metadata": {},
     "output_type": "execute_result"
    }
   ],
   "source": [
    "country=pd.read_csv(\"data/datacamp/literacy_birth_rate.csv\")\n",
    "country.head()"
   ]
  },
  {
   "cell_type": "code",
   "execution_count": 4,
   "metadata": {},
   "outputs": [
    {
     "data": {
      "text/plain": [
       "Index(['Country ', 'Continent', 'female literacy', 'fertility', 'population'], dtype='object')"
      ]
     },
     "execution_count": 4,
     "metadata": {},
     "output_type": "execute_result"
    }
   ],
   "source": [
    "country.columns"
   ]
  },
  {
   "cell_type": "code",
   "execution_count": 5,
   "metadata": {},
   "outputs": [
    {
     "data": {
      "text/plain": [
       "Country             object\n",
       "Continent           object\n",
       "female literacy     object\n",
       "fertility           object\n",
       "population         float64\n",
       "dtype: object"
      ]
     },
     "execution_count": 5,
     "metadata": {},
     "output_type": "execute_result"
    }
   ],
   "source": [
    "country.dtypes"
   ]
  },
  {
   "cell_type": "code",
   "execution_count": 6,
   "metadata": {},
   "outputs": [],
   "source": [
    "def country_data(continent):\n",
    "    conti=country[country.Continent.isin([continent])]\n",
    "    df=conti.astype({\"female literacy\": float, \"fertility\": float})\n",
    "    return df"
   ]
  },
  {
   "cell_type": "markdown",
   "metadata": {},
   "source": [
    "### Asia continent"
   ]
  },
  {
   "cell_type": "code",
   "execution_count": 7,
   "metadata": {},
   "outputs": [],
   "source": [
    "asia=country_data(\"ASI\")"
   ]
  },
  {
   "cell_type": "code",
   "execution_count": 8,
   "metadata": {},
   "outputs": [
    {
     "data": {
      "text/plain": [
       "Country             object\n",
       "Continent           object\n",
       "female literacy    float64\n",
       "fertility          float64\n",
       "population         float64\n",
       "dtype: object"
      ]
     },
     "execution_count": 8,
     "metadata": {},
     "output_type": "execute_result"
    }
   ],
   "source": [
    "asia.dtypes"
   ]
  },
  {
   "cell_type": "code",
   "execution_count": 9,
   "metadata": {},
   "outputs": [
    {
     "data": {
      "text/html": [
       "<div>\n",
       "<style scoped>\n",
       "    .dataframe tbody tr th:only-of-type {\n",
       "        vertical-align: middle;\n",
       "    }\n",
       "\n",
       "    .dataframe tbody tr th {\n",
       "        vertical-align: top;\n",
       "    }\n",
       "\n",
       "    .dataframe thead th {\n",
       "        text-align: right;\n",
       "    }\n",
       "</style>\n",
       "<table border=\"1\" class=\"dataframe\">\n",
       "  <thead>\n",
       "    <tr style=\"text-align: right;\">\n",
       "      <th></th>\n",
       "      <th>Country</th>\n",
       "      <th>Continent</th>\n",
       "      <th>female literacy</th>\n",
       "      <th>fertility</th>\n",
       "      <th>population</th>\n",
       "    </tr>\n",
       "  </thead>\n",
       "  <tbody>\n",
       "    <tr>\n",
       "      <th>0</th>\n",
       "      <td>Chine</td>\n",
       "      <td>ASI</td>\n",
       "      <td>90.5</td>\n",
       "      <td>1.769</td>\n",
       "      <td>1.324655e+09</td>\n",
       "    </tr>\n",
       "    <tr>\n",
       "      <th>1</th>\n",
       "      <td>Inde</td>\n",
       "      <td>ASI</td>\n",
       "      <td>50.8</td>\n",
       "      <td>2.682</td>\n",
       "      <td>1.139965e+09</td>\n",
       "    </tr>\n",
       "    <tr>\n",
       "      <th>3</th>\n",
       "      <td>Indonésie</td>\n",
       "      <td>ASI</td>\n",
       "      <td>88.8</td>\n",
       "      <td>2.132</td>\n",
       "      <td>2.273451e+08</td>\n",
       "    </tr>\n",
       "    <tr>\n",
       "      <th>5</th>\n",
       "      <td>Pakistan</td>\n",
       "      <td>ASI</td>\n",
       "      <td>40.0</td>\n",
       "      <td>3.872</td>\n",
       "      <td>1.661115e+08</td>\n",
       "    </tr>\n",
       "    <tr>\n",
       "      <th>6</th>\n",
       "      <td>Bangladesh</td>\n",
       "      <td>ASI</td>\n",
       "      <td>49.8</td>\n",
       "      <td>2.288</td>\n",
       "      <td>1.600001e+08</td>\n",
       "    </tr>\n",
       "  </tbody>\n",
       "</table>\n",
       "</div>"
      ],
      "text/plain": [
       "     Country  Continent  female literacy  fertility    population\n",
       "0       Chine       ASI             90.5      1.769  1.324655e+09\n",
       "1        Inde       ASI             50.8      2.682  1.139965e+09\n",
       "3   Indonésie       ASI             88.8      2.132  2.273451e+08\n",
       "5    Pakistan       ASI             40.0      3.872  1.661115e+08\n",
       "6  Bangladesh       ASI             49.8      2.288  1.600001e+08"
      ]
     },
     "execution_count": 9,
     "metadata": {},
     "output_type": "execute_result"
    }
   ],
   "source": [
    "asia.head()"
   ]
  },
  {
   "cell_type": "markdown",
   "metadata": {},
   "source": [
    "### Europe continent"
   ]
  },
  {
   "cell_type": "code",
   "execution_count": 10,
   "metadata": {},
   "outputs": [
    {
     "data": {
      "text/html": [
       "<div>\n",
       "<style scoped>\n",
       "    .dataframe tbody tr th:only-of-type {\n",
       "        vertical-align: middle;\n",
       "    }\n",
       "\n",
       "    .dataframe tbody tr th {\n",
       "        vertical-align: top;\n",
       "    }\n",
       "\n",
       "    .dataframe thead th {\n",
       "        text-align: right;\n",
       "    }\n",
       "</style>\n",
       "<table border=\"1\" class=\"dataframe\">\n",
       "  <thead>\n",
       "    <tr style=\"text-align: right;\">\n",
       "      <th></th>\n",
       "      <th>Country</th>\n",
       "      <th>Continent</th>\n",
       "      <th>female literacy</th>\n",
       "      <th>fertility</th>\n",
       "      <th>population</th>\n",
       "    </tr>\n",
       "  </thead>\n",
       "  <tbody>\n",
       "    <tr>\n",
       "      <th>8</th>\n",
       "      <td>Fédération de Russie</td>\n",
       "      <td>EUR</td>\n",
       "      <td>99.4</td>\n",
       "      <td>1.393</td>\n",
       "      <td>141950000.0</td>\n",
       "    </tr>\n",
       "    <tr>\n",
       "      <th>13</th>\n",
       "      <td>Germany</td>\n",
       "      <td>EUR</td>\n",
       "      <td>99.0</td>\n",
       "      <td>1.324</td>\n",
       "      <td>82110097.0</td>\n",
       "    </tr>\n",
       "    <tr>\n",
       "      <th>20</th>\n",
       "      <td>France</td>\n",
       "      <td>EUR</td>\n",
       "      <td>99.0</td>\n",
       "      <td>1.881</td>\n",
       "      <td>62277432.0</td>\n",
       "    </tr>\n",
       "    <tr>\n",
       "      <th>21</th>\n",
       "      <td>UK</td>\n",
       "      <td>EUR</td>\n",
       "      <td>99.0</td>\n",
       "      <td>1.852</td>\n",
       "      <td>61414062.0</td>\n",
       "    </tr>\n",
       "    <tr>\n",
       "      <th>22</th>\n",
       "      <td>Italie</td>\n",
       "      <td>EUR</td>\n",
       "      <td>98.5</td>\n",
       "      <td>1.390</td>\n",
       "      <td>59832179.0</td>\n",
       "    </tr>\n",
       "  </tbody>\n",
       "</table>\n",
       "</div>"
      ],
      "text/plain": [
       "                Country  Continent  female literacy  fertility   population\n",
       "8   Fédération de Russie       EUR             99.4      1.393  141950000.0\n",
       "13               Germany       EUR             99.0      1.324   82110097.0\n",
       "20                France       EUR             99.0      1.881   62277432.0\n",
       "21                    UK       EUR             99.0      1.852   61414062.0\n",
       "22                Italie       EUR             98.5      1.390   59832179.0"
      ]
     },
     "execution_count": 10,
     "metadata": {},
     "output_type": "execute_result"
    }
   ],
   "source": [
    "europe=country_data(\"EUR\")\n",
    "europe.head()"
   ]
  },
  {
   "cell_type": "markdown",
   "metadata": {},
   "source": [
    "### Africa continent"
   ]
  },
  {
   "cell_type": "code",
   "execution_count": 11,
   "metadata": {},
   "outputs": [
    {
     "data": {
      "text/html": [
       "<div>\n",
       "<style scoped>\n",
       "    .dataframe tbody tr th:only-of-type {\n",
       "        vertical-align: middle;\n",
       "    }\n",
       "\n",
       "    .dataframe tbody tr th {\n",
       "        vertical-align: top;\n",
       "    }\n",
       "\n",
       "    .dataframe thead th {\n",
       "        text-align: right;\n",
       "    }\n",
       "</style>\n",
       "<table border=\"1\" class=\"dataframe\">\n",
       "  <thead>\n",
       "    <tr style=\"text-align: right;\">\n",
       "      <th></th>\n",
       "      <th>Country</th>\n",
       "      <th>Continent</th>\n",
       "      <th>female literacy</th>\n",
       "      <th>fertility</th>\n",
       "      <th>population</th>\n",
       "    </tr>\n",
       "  </thead>\n",
       "  <tbody>\n",
       "    <tr>\n",
       "      <th>7</th>\n",
       "      <td>Nigéria</td>\n",
       "      <td>AF</td>\n",
       "      <td>48.8</td>\n",
       "      <td>5.173</td>\n",
       "      <td>151212254.0</td>\n",
       "    </tr>\n",
       "    <tr>\n",
       "      <th>14</th>\n",
       "      <td>Egypte</td>\n",
       "      <td>AF</td>\n",
       "      <td>57.8</td>\n",
       "      <td>2.816</td>\n",
       "      <td>81527172.0</td>\n",
       "    </tr>\n",
       "    <tr>\n",
       "      <th>15</th>\n",
       "      <td>Ethiopie</td>\n",
       "      <td>AF</td>\n",
       "      <td>22.8</td>\n",
       "      <td>5.211</td>\n",
       "      <td>80713434.0</td>\n",
       "    </tr>\n",
       "    <tr>\n",
       "      <th>19</th>\n",
       "      <td>Rép. Démocratique du Congo</td>\n",
       "      <td>AF</td>\n",
       "      <td>56.1</td>\n",
       "      <td>5.908</td>\n",
       "      <td>64256635.0</td>\n",
       "    </tr>\n",
       "    <tr>\n",
       "      <th>24</th>\n",
       "      <td>Afrique du Sud</td>\n",
       "      <td>AF</td>\n",
       "      <td>88.1</td>\n",
       "      <td>2.505</td>\n",
       "      <td>48687000.0</td>\n",
       "    </tr>\n",
       "  </tbody>\n",
       "</table>\n",
       "</div>"
      ],
      "text/plain": [
       "                      Country  Continent  female literacy  fertility  \\\n",
       "7                      Nigéria        AF             48.8      5.173   \n",
       "14                      Egypte        AF             57.8      2.816   \n",
       "15                    Ethiopie        AF             22.8      5.211   \n",
       "19  Rép. Démocratique du Congo        AF             56.1      5.908   \n",
       "24              Afrique du Sud        AF             88.1      2.505   \n",
       "\n",
       "     population  \n",
       "7   151212254.0  \n",
       "14   81527172.0  \n",
       "15   80713434.0  \n",
       "19   64256635.0  \n",
       "24   48687000.0  "
      ]
     },
     "execution_count": 11,
     "metadata": {},
     "output_type": "execute_result"
    }
   ],
   "source": [
    "africa=country_data(\"AF\")\n",
    "africa.head()"
   ]
  },
  {
   "cell_type": "markdown",
   "metadata": {},
   "source": [
    "### Rows of plots"
   ]
  },
  {
   "cell_type": "code",
   "execution_count": 12,
   "metadata": {},
   "outputs": [
    {
     "data": {
      "text/html": [
       "\n",
       "\n",
       "\n",
       "\n",
       "\n",
       "\n",
       "  <div class=\"bk-root\" id=\"e3863c4d-7064-49b9-b4e0-afee0493dbc3\" data-root-id=\"1079\"></div>\n"
      ]
     },
     "metadata": {},
     "output_type": "display_data"
    },
    {
     "data": {
      "application/javascript": [
       "(function(root) {\n",
       "  function embed_document(root) {\n",
       "    \n",
       "  var docs_json = {\"53ee72e5-a615-44be-8d17-0bb66f4eb63e\":{\"defs\":[],\"roots\":{\"references\":[{\"attributes\":{\"children\":[{\"id\":\"1003\"},{\"id\":\"1036\"}]},\"id\":\"1079\",\"type\":\"Row\"},{\"attributes\":{\"below\":[{\"id\":\"1047\"}],\"center\":[{\"id\":\"1050\"},{\"id\":\"1054\"}],\"height\":300,\"left\":[{\"id\":\"1051\"}],\"renderers\":[{\"id\":\"1077\"}],\"title\":{\"id\":\"1037\"},\"toolbar\":{\"id\":\"1062\"},\"width\":300,\"x_range\":{\"id\":\"1039\"},\"x_scale\":{\"id\":\"1043\"},\"y_range\":{\"id\":\"1041\"},\"y_scale\":{\"id\":\"1045\"}},\"id\":\"1036\",\"subtype\":\"Figure\",\"type\":\"Plot\"},{\"attributes\":{\"source\":{\"id\":\"1074\"}},\"id\":\"1078\",\"type\":\"CDSView\"},{\"attributes\":{\"formatter\":{\"id\":\"1083\"},\"major_label_policy\":{\"id\":\"1082\"},\"ticker\":{\"id\":\"1019\"}},\"id\":\"1018\",\"type\":\"LinearAxis\"},{\"attributes\":{},\"id\":\"1097\",\"type\":\"Selection\"},{\"attributes\":{},\"id\":\"1098\",\"type\":\"UnionRenderers\"},{\"attributes\":{\"data_source\":{\"id\":\"1074\"},\"glyph\":{\"id\":\"1075\"},\"hover_glyph\":null,\"muted_glyph\":null,\"nonselection_glyph\":{\"id\":\"1076\"},\"view\":{\"id\":\"1078\"}},\"id\":\"1077\",\"type\":\"GlyphRenderer\"},{\"attributes\":{\"axis\":{\"id\":\"1018\"},\"dimension\":1,\"ticker\":null},\"id\":\"1021\",\"type\":\"Grid\"},{\"attributes\":{\"active_multi\":null,\"tools\":[{\"id\":\"1022\"},{\"id\":\"1023\"},{\"id\":\"1024\"},{\"id\":\"1025\"},{\"id\":\"1026\"},{\"id\":\"1027\"}]},\"id\":\"1029\",\"type\":\"Toolbar\"},{\"attributes\":{\"bottom_units\":\"screen\",\"fill_alpha\":0.5,\"fill_color\":\"lightgrey\",\"left_units\":\"screen\",\"level\":\"overlay\",\"line_alpha\":1.0,\"line_color\":\"black\",\"line_dash\":[4,4],\"line_width\":2,\"right_units\":\"screen\",\"syncable\":false,\"top_units\":\"screen\"},\"id\":\"1061\",\"type\":\"BoxAnnotation\"},{\"attributes\":{},\"id\":\"1019\",\"type\":\"BasicTicker\"},{\"attributes\":{},\"id\":\"1095\",\"type\":\"UnionRenderers\"},{\"attributes\":{},\"id\":\"1027\",\"type\":\"HelpTool\"},{\"attributes\":{\"fill_color\":{\"value\":\"firebrick\"},\"line_color\":{\"value\":\"firebrick\"},\"size\":{\"value\":10},\"x\":{\"field\":\"x\"},\"y\":{\"field\":\"y\"}},\"id\":\"1070\",\"type\":\"Circle\"},{\"attributes\":{},\"id\":\"1012\",\"type\":\"LinearScale\"},{\"attributes\":{\"formatter\":{\"id\":\"1089\"},\"major_label_policy\":{\"id\":\"1088\"},\"ticker\":{\"id\":\"1052\"}},\"id\":\"1051\",\"type\":\"LinearAxis\"},{\"attributes\":{},\"id\":\"1094\",\"type\":\"Selection\"},{\"attributes\":{},\"id\":\"1023\",\"type\":\"WheelZoomTool\"},{\"attributes\":{},\"id\":\"1010\",\"type\":\"LinearScale\"},{\"attributes\":{},\"id\":\"1022\",\"type\":\"PanTool\"},{\"attributes\":{},\"id\":\"1045\",\"type\":\"LinearScale\"},{\"attributes\":{\"text\":\"Asia continent\"},\"id\":\"1004\",\"type\":\"Title\"},{\"attributes\":{},\"id\":\"1039\",\"type\":\"DataRange1d\"},{\"attributes\":{\"overlay\":{\"id\":\"1028\"}},\"id\":\"1024\",\"type\":\"BoxZoomTool\"},{\"attributes\":{},\"id\":\"1025\",\"type\":\"SaveTool\"},{\"attributes\":{},\"id\":\"1026\",\"type\":\"ResetTool\"},{\"attributes\":{},\"id\":\"1041\",\"type\":\"DataRange1d\"},{\"attributes\":{},\"id\":\"1060\",\"type\":\"HelpTool\"},{\"attributes\":{},\"id\":\"1082\",\"type\":\"AllLabels\"},{\"attributes\":{},\"id\":\"1043\",\"type\":\"LinearScale\"},{\"attributes\":{},\"id\":\"1083\",\"type\":\"BasicTickFormatter\"},{\"attributes\":{\"formatter\":{\"id\":\"1092\"},\"major_label_policy\":{\"id\":\"1091\"},\"ticker\":{\"id\":\"1048\"}},\"id\":\"1047\",\"type\":\"LinearAxis\"},{\"attributes\":{},\"id\":\"1048\",\"type\":\"BasicTicker\"},{\"attributes\":{\"axis\":{\"id\":\"1047\"},\"ticker\":null},\"id\":\"1050\",\"type\":\"Grid\"},{\"attributes\":{},\"id\":\"1091\",\"type\":\"AllLabels\"},{\"attributes\":{},\"id\":\"1006\",\"type\":\"DataRange1d\"},{\"attributes\":{},\"id\":\"1085\",\"type\":\"AllLabels\"},{\"attributes\":{\"axis\":{\"id\":\"1051\"},\"dimension\":1,\"ticker\":null},\"id\":\"1054\",\"type\":\"Grid\"},{\"attributes\":{},\"id\":\"1092\",\"type\":\"BasicTickFormatter\"},{\"attributes\":{},\"id\":\"1052\",\"type\":\"BasicTicker\"},{\"attributes\":{\"active_multi\":null,\"tools\":[{\"id\":\"1055\"},{\"id\":\"1056\"},{\"id\":\"1057\"},{\"id\":\"1058\"},{\"id\":\"1059\"},{\"id\":\"1060\"}]},\"id\":\"1062\",\"type\":\"Toolbar\"},{\"attributes\":{\"bottom_units\":\"screen\",\"fill_alpha\":0.5,\"fill_color\":\"lightgrey\",\"left_units\":\"screen\",\"level\":\"overlay\",\"line_alpha\":1.0,\"line_color\":\"black\",\"line_dash\":[4,4],\"line_width\":2,\"right_units\":\"screen\",\"syncable\":false,\"top_units\":\"screen\"},\"id\":\"1028\",\"type\":\"BoxAnnotation\"},{\"attributes\":{},\"id\":\"1086\",\"type\":\"BasicTickFormatter\"},{\"attributes\":{},\"id\":\"1056\",\"type\":\"WheelZoomTool\"},{\"attributes\":{},\"id\":\"1055\",\"type\":\"PanTool\"},{\"attributes\":{\"formatter\":{\"id\":\"1086\"},\"major_label_policy\":{\"id\":\"1085\"},\"ticker\":{\"id\":\"1015\"}},\"id\":\"1014\",\"type\":\"LinearAxis\"},{\"attributes\":{\"overlay\":{\"id\":\"1061\"}},\"id\":\"1057\",\"type\":\"BoxZoomTool\"},{\"attributes\":{},\"id\":\"1058\",\"type\":\"SaveTool\"},{\"attributes\":{},\"id\":\"1059\",\"type\":\"ResetTool\"},{\"attributes\":{\"fill_alpha\":{\"value\":0.1},\"fill_color\":{\"value\":\"DarkOrange\"},\"line_alpha\":{\"value\":0.1},\"line_color\":{\"value\":\"DarkOrange\"},\"size\":{\"value\":10},\"x\":{\"field\":\"x\"},\"y\":{\"field\":\"y\"}},\"id\":\"1076\",\"type\":\"Circle\"},{\"attributes\":{\"data\":{\"x\":{\"__ndarray__\":\"5/up8dJN/D/b+X5qvHQFQHWTGARWDgFAYOXQItv5DkDn+6nx0k0CQP7UeOkmMfQ/aJHtfD81CEDdJAaBlUMAQM3MzMzMzABA5dAi2/l+/D/0/dR46Sb9P3Noke18PwJAL90kBoGV8z/jpZvEILAPQIXrUbgeBRpAL90kBoGVBkCWQ4ts5/sBQKrx0k1iEARAUrgehetRCEBEi2zn+6n9P2ZmZmZmZhRA/Knx0k1iCUAQWDm0yHYCQCcxCKwcWgJArBxaZDvfBkDTTWIQWDkBQGq8dJMYBAZAzczMzMzMCkBSuB6F61ELQPT91HjpJghAvp8aL90kBEBxPQrXo3ADQGiR7Xw/NfQ//Knx0k1i/j8dWmQ730/5P9v5fmq8dP0/K4cW2c73+z9t5/up8dIHQJ7vp8ZLNwFAAiuHFtnO/z/hehSuR+ECQHe+nxov3QFAGy/dJAaBBEC28/3UeOnuP9Ei2/l+agBAAAAAAAAAAEAGgZVDi2wPQA==\",\"dtype\":\"float64\",\"order\":\"little\",\"shape\":[47]},\"y\":{\"__ndarray__\":\"AAAAAACgVkBmZmZmZmZJQDMzMzMzM1ZAAAAAAAAAREBmZmZmZuZIQAAAAAAAwFhAmpmZmZl5V0DNzMzMzIxWQDMzMzMzU1RAzczMzMxMU0AAAAAAAOBWQM3MzMzMTFZAZmZmZmYmWEDNzMzMzExRQDMzMzMzMylAMzMzMzOzRkCamZmZmblYQDMzMzMzc1ZAzczMzMwMVEAAAAAAAABZQGZmZmZmZkVAzczMzMxMU0BmZmZmZkZWQAAAAAAA4FhAmpmZmZm5UUDNzMzMzMxYQJqZmZmZ+VdAAAAAAADgWECamZmZmZlPQJqZmZmZOVZAZmZmZmbGWEAzMzMzM9NYQGZmZmZm5lZAAAAAAADgVkDNzMzMzOxYQAAAAAAAgFVAmpmZmZnZWECamZmZmTlUQGZmZmZmRldAMzMzMzNzWECamZmZmZlWQJqZmZmZWVZAmpmZmZlZQ0DNzMzMzKxWQDMzMzMzU1dAmpmZmZmZWEBmZmZmZsZYQA==\",\"dtype\":\"float64\",\"order\":\"little\",\"shape\":[47]}},\"selected\":{\"id\":\"1094\"},\"selection_policy\":{\"id\":\"1095\"}},\"id\":\"1069\",\"type\":\"ColumnDataSource\"},{\"attributes\":{\"below\":[{\"id\":\"1014\"}],\"center\":[{\"id\":\"1017\"},{\"id\":\"1021\"}],\"height\":300,\"left\":[{\"id\":\"1018\"}],\"renderers\":[{\"id\":\"1072\"}],\"title\":{\"id\":\"1004\"},\"toolbar\":{\"id\":\"1029\"},\"width\":300,\"x_range\":{\"id\":\"1006\"},\"x_scale\":{\"id\":\"1010\"},\"y_range\":{\"id\":\"1008\"},\"y_scale\":{\"id\":\"1012\"}},\"id\":\"1003\",\"subtype\":\"Figure\",\"type\":\"Plot\"},{\"attributes\":{\"source\":{\"id\":\"1069\"}},\"id\":\"1073\",\"type\":\"CDSView\"},{\"attributes\":{},\"id\":\"1089\",\"type\":\"BasicTickFormatter\"},{\"attributes\":{\"fill_alpha\":{\"value\":0.1},\"fill_color\":{\"value\":\"firebrick\"},\"line_alpha\":{\"value\":0.1},\"line_color\":{\"value\":\"firebrick\"},\"size\":{\"value\":10},\"x\":{\"field\":\"x\"},\"y\":{\"field\":\"y\"}},\"id\":\"1071\",\"type\":\"Circle\"},{\"attributes\":{\"fill_color\":{\"value\":\"DarkOrange\"},\"line_color\":{\"value\":\"DarkOrange\"},\"size\":{\"value\":10},\"x\":{\"field\":\"x\"},\"y\":{\"field\":\"y\"}},\"id\":\"1075\",\"type\":\"Circle\"},{\"attributes\":{},\"id\":\"1008\",\"type\":\"DataRange1d\"},{\"attributes\":{\"data_source\":{\"id\":\"1069\"},\"glyph\":{\"id\":\"1070\"},\"hover_glyph\":null,\"muted_glyph\":null,\"nonselection_glyph\":{\"id\":\"1071\"},\"view\":{\"id\":\"1073\"}},\"id\":\"1072\",\"type\":\"GlyphRenderer\"},{\"attributes\":{},\"id\":\"1088\",\"type\":\"AllLabels\"},{\"attributes\":{\"text\":\"Europe continent\"},\"id\":\"1037\",\"type\":\"Title\"},{\"attributes\":{\"data\":{\"x\":{\"__ndarray__\":\"fT81XrpJ9j/Jdr6fGi/1P39qvHSTGP4/bxKDwMqh/T89CtejcD32Py2yne+nxvU/sHJoke189z8Sg8DKoUX0PzMzMzMzM/U/wcqhRbbz+z8pXI/C9Sj2PyUGgZVDi/w/PzVeukkM9j8zMzMzMzP3P+xRuB6F6/U/5dAi2/l+9D9WDi2yne/9P1yPwvUoXPc/YOXQItv59j+YbhKDwMr5Py/dJAaBlf0/x0s3iUFg/T8pXI/C9Sj+P99PjZduEvc/c2iR7Xw//z8xCKwcWmTzP9V46SYxCPg/rBxaZDvf9T9Ei2zn+6n9PzeJQWDl0PY/YOXQItv59j99PzVeukn2P0oMAiuHFvs/qMZLN4lB+D9qvHSTGAT0P1g5tMh2vgBA\",\"dtype\":\"float64\",\"order\":\"little\",\"shape\":[36]},\"y\":{\"__ndarray__\":\"mpmZmZnZWEAAAAAAAMBYQAAAAAAAwFhAAAAAAADAWEAAAAAAAKBYQGZmZmZm5lhAmpmZmZk5WEAzMzMzM9NYQJqZmZmZOVhAAAAAAADAWECamZmZmflXQAAAAAAAwFhAmpmZmZk5V0AAAAAAAMBYQJqZmZmZuVhAzczMzMzsWEAAAAAAAMBYQAAAAAAAwFhAmpmZmZl5WEDNzMzMzAxYQAAAAAAAwFhAAAAAAAAAWUAAAAAAAABZQAAAAAAAgFhAAAAAAADAWECamZmZmflXQDMzMzMzc1hAzczMzMzsWEDNzMzMzKxYQDMzMzMz81hAmpmZmZnZV0DNzMzMzOxYQDMzMzMz81hAzczMzMwsWEAAAAAAAGBXQAAAAAAAwFhA\",\"dtype\":\"float64\",\"order\":\"little\",\"shape\":[36]}},\"selected\":{\"id\":\"1097\"},\"selection_policy\":{\"id\":\"1098\"}},\"id\":\"1074\",\"type\":\"ColumnDataSource\"},{\"attributes\":{},\"id\":\"1015\",\"type\":\"BasicTicker\"},{\"attributes\":{\"axis\":{\"id\":\"1014\"},\"ticker\":null},\"id\":\"1017\",\"type\":\"Grid\"}],\"root_ids\":[\"1079\"]},\"title\":\"Bokeh Application\",\"version\":\"2.3.2\"}};\n",
       "  var render_items = [{\"docid\":\"53ee72e5-a615-44be-8d17-0bb66f4eb63e\",\"root_ids\":[\"1079\"],\"roots\":{\"1079\":\"e3863c4d-7064-49b9-b4e0-afee0493dbc3\"}}];\n",
       "  root.Bokeh.embed.embed_items_notebook(docs_json, render_items);\n",
       "\n",
       "  }\n",
       "  if (root.Bokeh !== undefined) {\n",
       "    embed_document(root);\n",
       "  } else {\n",
       "    var attempts = 0;\n",
       "    var timer = setInterval(function(root) {\n",
       "      if (root.Bokeh !== undefined) {\n",
       "        clearInterval(timer);\n",
       "        embed_document(root);\n",
       "      } else {\n",
       "        attempts++;\n",
       "        if (attempts > 100) {\n",
       "          clearInterval(timer);\n",
       "          console.log(\"Bokeh: ERROR: Unable to run BokehJS code because BokehJS library is missing\");\n",
       "        }\n",
       "      }\n",
       "    }, 10, root)\n",
       "  }\n",
       "})(window);"
      ],
      "application/vnd.bokehjs_exec.v0+json": ""
     },
     "metadata": {
      "application/vnd.bokehjs_exec.v0+json": {
       "id": "1079"
      }
     },
     "output_type": "display_data"
    }
   ],
   "source": [
    "p1=figure(plot_width=300, plot_height=300, \n",
    "         title=\"Asia continent\")\n",
    "p2=figure(plot_width=300, plot_height=300, \n",
    "         title=\"Europe continent\")\n",
    "\n",
    "p1.circle(x=asia[\"fertility\"], y=asia[\"female literacy\"], \n",
    "         color=\"firebrick\", \n",
    "         size=10)\n",
    "p2.circle(x=europe[\"fertility\"], y=europe[\"female literacy\"], \n",
    "         color=\"DarkOrange\", \n",
    "         size=10)\n",
    "\n",
    "\n",
    "layout=row(p1, p2)\n",
    "show(layout)"
   ]
  },
  {
   "cell_type": "markdown",
   "metadata": {},
   "source": [
    "### Columns of plots"
   ]
  },
  {
   "cell_type": "code",
   "execution_count": 13,
   "metadata": {},
   "outputs": [
    {
     "data": {
      "text/html": [
       "\n",
       "\n",
       "\n",
       "\n",
       "\n",
       "\n",
       "  <div class=\"bk-root\" id=\"c1cd7feb-4e75-45a6-ba9e-972bf6883602\" data-root-id=\"1276\"></div>\n"
      ]
     },
     "metadata": {},
     "output_type": "display_data"
    },
    {
     "data": {
      "application/javascript": [
       "(function(root) {\n",
       "  function embed_document(root) {\n",
       "    \n",
       "  var docs_json = {\"1afb5f1f-a7ae-4548-9b28-05a0d89d2f0f\":{\"defs\":[],\"roots\":{\"references\":[{\"attributes\":{\"children\":[{\"id\":\"1200\"},{\"id\":\"1233\"}]},\"id\":\"1276\",\"type\":\"Column\"},{\"attributes\":{\"data\":{\"x\":{\"__ndarray__\":\"5/up8dJN/D/b+X5qvHQFQHWTGARWDgFAYOXQItv5DkDn+6nx0k0CQP7UeOkmMfQ/aJHtfD81CEDdJAaBlUMAQM3MzMzMzABA5dAi2/l+/D/0/dR46Sb9P3Noke18PwJAL90kBoGV8z/jpZvEILAPQIXrUbgeBRpAL90kBoGVBkCWQ4ts5/sBQKrx0k1iEARAUrgehetRCEBEi2zn+6n9P2ZmZmZmZhRA/Knx0k1iCUAQWDm0yHYCQCcxCKwcWgJArBxaZDvfBkDTTWIQWDkBQGq8dJMYBAZAzczMzMzMCkBSuB6F61ELQPT91HjpJghAvp8aL90kBEBxPQrXo3ADQGiR7Xw/NfQ//Knx0k1i/j8dWmQ730/5P9v5fmq8dP0/K4cW2c73+z9t5/up8dIHQJ7vp8ZLNwFAAiuHFtnO/z/hehSuR+ECQHe+nxov3QFAGy/dJAaBBEC28/3UeOnuP9Ei2/l+agBAAAAAAAAAAEAGgZVDi2wPQA==\",\"dtype\":\"float64\",\"order\":\"little\",\"shape\":[47]},\"y\":{\"__ndarray__\":\"AAAAAACgVkBmZmZmZmZJQDMzMzMzM1ZAAAAAAAAAREBmZmZmZuZIQAAAAAAAwFhAmpmZmZl5V0DNzMzMzIxWQDMzMzMzU1RAzczMzMxMU0AAAAAAAOBWQM3MzMzMTFZAZmZmZmYmWEDNzMzMzExRQDMzMzMzMylAMzMzMzOzRkCamZmZmblYQDMzMzMzc1ZAzczMzMwMVEAAAAAAAABZQGZmZmZmZkVAzczMzMxMU0BmZmZmZkZWQAAAAAAA4FhAmpmZmZm5UUDNzMzMzMxYQJqZmZmZ+VdAAAAAAADgWECamZmZmZlPQJqZmZmZOVZAZmZmZmbGWEAzMzMzM9NYQGZmZmZm5lZAAAAAAADgVkDNzMzMzOxYQAAAAAAAgFVAmpmZmZnZWECamZmZmTlUQGZmZmZmRldAMzMzMzNzWECamZmZmZlWQJqZmZmZWVZAmpmZmZlZQ0DNzMzMzKxWQDMzMzMzU1dAmpmZmZmZWEBmZmZmZsZYQA==\",\"dtype\":\"float64\",\"order\":\"little\",\"shape\":[47]}},\"selected\":{\"id\":\"1311\"},\"selection_policy\":{\"id\":\"1312\"}},\"id\":\"1266\",\"type\":\"ColumnDataSource\"},{\"attributes\":{},\"id\":\"1203\",\"type\":\"DataRange1d\"},{\"attributes\":{\"source\":{\"id\":\"1271\"}},\"id\":\"1275\",\"type\":\"CDSView\"},{\"attributes\":{},\"id\":\"1308\",\"type\":\"AllLabels\"},{\"attributes\":{},\"id\":\"1312\",\"type\":\"UnionRenderers\"},{\"attributes\":{},\"id\":\"1207\",\"type\":\"LinearScale\"},{\"attributes\":{\"data_source\":{\"id\":\"1271\"},\"glyph\":{\"id\":\"1272\"},\"hover_glyph\":null,\"muted_glyph\":null,\"nonselection_glyph\":{\"id\":\"1273\"},\"view\":{\"id\":\"1275\"}},\"id\":\"1274\",\"type\":\"GlyphRenderer\"},{\"attributes\":{},\"id\":\"1205\",\"type\":\"DataRange1d\"},{\"attributes\":{\"bottom_units\":\"screen\",\"fill_alpha\":0.5,\"fill_color\":\"lightgrey\",\"left_units\":\"screen\",\"level\":\"overlay\",\"line_alpha\":1.0,\"line_color\":\"black\",\"line_dash\":[4,4],\"line_width\":2,\"right_units\":\"screen\",\"syncable\":false,\"top_units\":\"screen\"},\"id\":\"1225\",\"type\":\"BoxAnnotation\"},{\"attributes\":{},\"id\":\"1315\",\"type\":\"UnionRenderers\"},{\"attributes\":{\"formatter\":{\"id\":\"1303\"},\"major_label_policy\":{\"id\":\"1302\"},\"ticker\":{\"id\":\"1212\"}},\"id\":\"1211\",\"type\":\"LinearAxis\"},{\"attributes\":{},\"id\":\"1302\",\"type\":\"AllLabels\"},{\"attributes\":{},\"id\":\"1309\",\"type\":\"BasicTickFormatter\"},{\"attributes\":{},\"id\":\"1209\",\"type\":\"LinearScale\"},{\"attributes\":{},\"id\":\"1314\",\"type\":\"Selection\"},{\"attributes\":{},\"id\":\"1242\",\"type\":\"LinearScale\"},{\"attributes\":{},\"id\":\"1212\",\"type\":\"BasicTicker\"},{\"attributes\":{\"axis\":{\"id\":\"1211\"},\"ticker\":null},\"id\":\"1214\",\"type\":\"Grid\"},{\"attributes\":{},\"id\":\"1303\",\"type\":\"BasicTickFormatter\"},{\"attributes\":{\"bottom_units\":\"screen\",\"fill_alpha\":0.5,\"fill_color\":\"lightgrey\",\"left_units\":\"screen\",\"level\":\"overlay\",\"line_alpha\":1.0,\"line_color\":\"black\",\"line_dash\":[4,4],\"line_width\":2,\"right_units\":\"screen\",\"syncable\":false,\"top_units\":\"screen\"},\"id\":\"1258\",\"type\":\"BoxAnnotation\"},{\"attributes\":{\"below\":[{\"id\":\"1244\"}],\"center\":[{\"id\":\"1247\"},{\"id\":\"1251\"}],\"height\":300,\"left\":[{\"id\":\"1248\"}],\"renderers\":[{\"id\":\"1274\"}],\"title\":{\"id\":\"1234\"},\"toolbar\":{\"id\":\"1259\"},\"x_range\":{\"id\":\"1236\"},\"x_scale\":{\"id\":\"1240\"},\"y_range\":{\"id\":\"1238\"},\"y_scale\":{\"id\":\"1242\"}},\"id\":\"1233\",\"subtype\":\"Figure\",\"type\":\"Plot\"},{\"attributes\":{\"axis\":{\"id\":\"1215\"},\"dimension\":1,\"ticker\":null},\"id\":\"1218\",\"type\":\"Grid\"},{\"attributes\":{\"text\":\"Asia continent\"},\"id\":\"1201\",\"type\":\"Title\"},{\"attributes\":{\"formatter\":{\"id\":\"1300\"},\"major_label_policy\":{\"id\":\"1299\"},\"ticker\":{\"id\":\"1216\"}},\"id\":\"1215\",\"type\":\"LinearAxis\"},{\"attributes\":{},\"id\":\"1224\",\"type\":\"HelpTool\"},{\"attributes\":{},\"id\":\"1216\",\"type\":\"BasicTicker\"},{\"attributes\":{\"formatter\":{\"id\":\"1309\"},\"major_label_policy\":{\"id\":\"1308\"},\"ticker\":{\"id\":\"1245\"}},\"id\":\"1244\",\"type\":\"LinearAxis\"},{\"attributes\":{\"fill_color\":{\"value\":\"DarkOrange\"},\"line_color\":{\"value\":\"DarkOrange\"},\"size\":{\"value\":10},\"x\":{\"field\":\"x\"},\"y\":{\"field\":\"y\"}},\"id\":\"1272\",\"type\":\"Circle\"},{\"attributes\":{},\"id\":\"1305\",\"type\":\"AllLabels\"},{\"attributes\":{},\"id\":\"1220\",\"type\":\"WheelZoomTool\"},{\"attributes\":{},\"id\":\"1219\",\"type\":\"PanTool\"},{\"attributes\":{\"overlay\":{\"id\":\"1225\"}},\"id\":\"1221\",\"type\":\"BoxZoomTool\"},{\"attributes\":{\"text\":\"Europe continent\"},\"id\":\"1234\",\"type\":\"Title\"},{\"attributes\":{},\"id\":\"1222\",\"type\":\"SaveTool\"},{\"attributes\":{},\"id\":\"1299\",\"type\":\"AllLabels\"},{\"attributes\":{},\"id\":\"1306\",\"type\":\"BasicTickFormatter\"},{\"attributes\":{},\"id\":\"1223\",\"type\":\"ResetTool\"},{\"attributes\":{\"active_multi\":null,\"tools\":[{\"id\":\"1219\"},{\"id\":\"1220\"},{\"id\":\"1221\"},{\"id\":\"1222\"},{\"id\":\"1223\"},{\"id\":\"1224\"}]},\"id\":\"1226\",\"type\":\"Toolbar\"},{\"attributes\":{\"axis\":{\"id\":\"1248\"},\"dimension\":1,\"ticker\":null},\"id\":\"1251\",\"type\":\"Grid\"},{\"attributes\":{},\"id\":\"1300\",\"type\":\"BasicTickFormatter\"},{\"attributes\":{},\"id\":\"1252\",\"type\":\"PanTool\"},{\"attributes\":{},\"id\":\"1245\",\"type\":\"BasicTicker\"},{\"attributes\":{\"active_multi\":null,\"tools\":[{\"id\":\"1252\"},{\"id\":\"1253\"},{\"id\":\"1254\"},{\"id\":\"1255\"},{\"id\":\"1256\"},{\"id\":\"1257\"}]},\"id\":\"1259\",\"type\":\"Toolbar\"},{\"attributes\":{},\"id\":\"1256\",\"type\":\"ResetTool\"},{\"attributes\":{},\"id\":\"1249\",\"type\":\"BasicTicker\"},{\"attributes\":{},\"id\":\"1240\",\"type\":\"LinearScale\"},{\"attributes\":{},\"id\":\"1253\",\"type\":\"WheelZoomTool\"},{\"attributes\":{},\"id\":\"1236\",\"type\":\"DataRange1d\"},{\"attributes\":{\"overlay\":{\"id\":\"1258\"}},\"id\":\"1254\",\"type\":\"BoxZoomTool\"},{\"attributes\":{\"fill_color\":{\"value\":\"firebrick\"},\"line_color\":{\"value\":\"firebrick\"},\"size\":{\"value\":10},\"x\":{\"field\":\"x\"},\"y\":{\"field\":\"y\"}},\"id\":\"1267\",\"type\":\"Circle\"},{\"attributes\":{},\"id\":\"1311\",\"type\":\"Selection\"},{\"attributes\":{\"data_source\":{\"id\":\"1266\"},\"glyph\":{\"id\":\"1267\"},\"hover_glyph\":null,\"muted_glyph\":null,\"nonselection_glyph\":{\"id\":\"1268\"},\"view\":{\"id\":\"1270\"}},\"id\":\"1269\",\"type\":\"GlyphRenderer\"},{\"attributes\":{},\"id\":\"1238\",\"type\":\"DataRange1d\"},{\"attributes\":{},\"id\":\"1255\",\"type\":\"SaveTool\"},{\"attributes\":{\"formatter\":{\"id\":\"1306\"},\"major_label_policy\":{\"id\":\"1305\"},\"ticker\":{\"id\":\"1249\"}},\"id\":\"1248\",\"type\":\"LinearAxis\"},{\"attributes\":{\"fill_alpha\":{\"value\":0.1},\"fill_color\":{\"value\":\"DarkOrange\"},\"line_alpha\":{\"value\":0.1},\"line_color\":{\"value\":\"DarkOrange\"},\"size\":{\"value\":10},\"x\":{\"field\":\"x\"},\"y\":{\"field\":\"y\"}},\"id\":\"1273\",\"type\":\"Circle\"},{\"attributes\":{\"below\":[{\"id\":\"1211\"}],\"center\":[{\"id\":\"1214\"},{\"id\":\"1218\"}],\"height\":300,\"left\":[{\"id\":\"1215\"}],\"renderers\":[{\"id\":\"1269\"}],\"title\":{\"id\":\"1201\"},\"toolbar\":{\"id\":\"1226\"},\"x_range\":{\"id\":\"1203\"},\"x_scale\":{\"id\":\"1207\"},\"y_range\":{\"id\":\"1205\"},\"y_scale\":{\"id\":\"1209\"}},\"id\":\"1200\",\"subtype\":\"Figure\",\"type\":\"Plot\"},{\"attributes\":{\"axis\":{\"id\":\"1244\"},\"ticker\":null},\"id\":\"1247\",\"type\":\"Grid\"},{\"attributes\":{\"fill_alpha\":{\"value\":0.1},\"fill_color\":{\"value\":\"firebrick\"},\"line_alpha\":{\"value\":0.1},\"line_color\":{\"value\":\"firebrick\"},\"size\":{\"value\":10},\"x\":{\"field\":\"x\"},\"y\":{\"field\":\"y\"}},\"id\":\"1268\",\"type\":\"Circle\"},{\"attributes\":{\"data\":{\"x\":{\"__ndarray__\":\"fT81XrpJ9j/Jdr6fGi/1P39qvHSTGP4/bxKDwMqh/T89CtejcD32Py2yne+nxvU/sHJoke189z8Sg8DKoUX0PzMzMzMzM/U/wcqhRbbz+z8pXI/C9Sj2PyUGgZVDi/w/PzVeukkM9j8zMzMzMzP3P+xRuB6F6/U/5dAi2/l+9D9WDi2yne/9P1yPwvUoXPc/YOXQItv59j+YbhKDwMr5Py/dJAaBlf0/x0s3iUFg/T8pXI/C9Sj+P99PjZduEvc/c2iR7Xw//z8xCKwcWmTzP9V46SYxCPg/rBxaZDvf9T9Ei2zn+6n9PzeJQWDl0PY/YOXQItv59j99PzVeukn2P0oMAiuHFvs/qMZLN4lB+D9qvHSTGAT0P1g5tMh2vgBA\",\"dtype\":\"float64\",\"order\":\"little\",\"shape\":[36]},\"y\":{\"__ndarray__\":\"mpmZmZnZWEAAAAAAAMBYQAAAAAAAwFhAAAAAAADAWEAAAAAAAKBYQGZmZmZm5lhAmpmZmZk5WEAzMzMzM9NYQJqZmZmZOVhAAAAAAADAWECamZmZmflXQAAAAAAAwFhAmpmZmZk5V0AAAAAAAMBYQJqZmZmZuVhAzczMzMzsWEAAAAAAAMBYQAAAAAAAwFhAmpmZmZl5WEDNzMzMzAxYQAAAAAAAwFhAAAAAAAAAWUAAAAAAAABZQAAAAAAAgFhAAAAAAADAWECamZmZmflXQDMzMzMzc1hAzczMzMzsWEDNzMzMzKxYQDMzMzMz81hAmpmZmZnZV0DNzMzMzOxYQDMzMzMz81hAzczMzMwsWEAAAAAAAGBXQAAAAAAAwFhA\",\"dtype\":\"float64\",\"order\":\"little\",\"shape\":[36]}},\"selected\":{\"id\":\"1314\"},\"selection_policy\":{\"id\":\"1315\"}},\"id\":\"1271\",\"type\":\"ColumnDataSource\"},{\"attributes\":{},\"id\":\"1257\",\"type\":\"HelpTool\"},{\"attributes\":{\"source\":{\"id\":\"1266\"}},\"id\":\"1270\",\"type\":\"CDSView\"}],\"root_ids\":[\"1276\"]},\"title\":\"Bokeh Application\",\"version\":\"2.3.2\"}};\n",
       "  var render_items = [{\"docid\":\"1afb5f1f-a7ae-4548-9b28-05a0d89d2f0f\",\"root_ids\":[\"1276\"],\"roots\":{\"1276\":\"c1cd7feb-4e75-45a6-ba9e-972bf6883602\"}}];\n",
       "  root.Bokeh.embed.embed_items_notebook(docs_json, render_items);\n",
       "\n",
       "  }\n",
       "  if (root.Bokeh !== undefined) {\n",
       "    embed_document(root);\n",
       "  } else {\n",
       "    var attempts = 0;\n",
       "    var timer = setInterval(function(root) {\n",
       "      if (root.Bokeh !== undefined) {\n",
       "        clearInterval(timer);\n",
       "        embed_document(root);\n",
       "      } else {\n",
       "        attempts++;\n",
       "        if (attempts > 100) {\n",
       "          clearInterval(timer);\n",
       "          console.log(\"Bokeh: ERROR: Unable to run BokehJS code because BokehJS library is missing\");\n",
       "        }\n",
       "      }\n",
       "    }, 10, root)\n",
       "  }\n",
       "})(window);"
      ],
      "application/vnd.bokehjs_exec.v0+json": ""
     },
     "metadata": {
      "application/vnd.bokehjs_exec.v0+json": {
       "id": "1276"
      }
     },
     "output_type": "display_data"
    }
   ],
   "source": [
    "p1=figure(plot_width=600, plot_height=300, \n",
    "         title=\"Asia continent\")\n",
    "p2=figure(plot_width=600, plot_height=300, \n",
    "         title=\"Europe continent\")\n",
    "\n",
    "p1.circle(x=asia[\"fertility\"], y=asia[\"female literacy\"], \n",
    "         color=\"firebrick\", \n",
    "         size=10)\n",
    "p2.circle(x=europe[\"fertility\"], y=europe[\"female literacy\"], \n",
    "         color=\"DarkOrange\", \n",
    "         size=10)\n",
    "\n",
    "\n",
    "layout=column(p1, p2)\n",
    "show(layout)"
   ]
  },
  {
   "cell_type": "markdown",
   "metadata": {},
   "source": [
    "### Nested layout"
   ]
  },
  {
   "cell_type": "code",
   "execution_count": 14,
   "metadata": {},
   "outputs": [
    {
     "data": {
      "text/html": [
       "\n",
       "\n",
       "\n",
       "\n",
       "\n",
       "\n",
       "  <div class=\"bk-root\" id=\"ea3bcb5b-2755-47fc-a910-f954d1685cc1\" data-root-id=\"1532\"></div>\n"
      ]
     },
     "metadata": {},
     "output_type": "display_data"
    },
    {
     "data": {
      "application/javascript": [
       "(function(root) {\n",
       "  function embed_document(root) {\n",
       "    \n",
       "  var docs_json = {\"0e77c8ea-ab9c-45c7-9df0-88f82f8e172e\":{\"defs\":[],\"roots\":{\"references\":[{\"attributes\":{\"children\":[{\"id\":\"1531\"},{\"id\":\"1483\"}]},\"id\":\"1532\",\"type\":\"Row\"},{\"attributes\":{},\"id\":\"1591\",\"type\":\"AllLabels\"},{\"attributes\":{\"formatter\":{\"id\":\"1589\"},\"major_label_policy\":{\"id\":\"1588\"},\"ticker\":{\"id\":\"1466\"}},\"id\":\"1465\",\"type\":\"LinearAxis\"},{\"attributes\":{},\"id\":\"1459\",\"type\":\"LinearScale\"},{\"attributes\":{},\"id\":\"1592\",\"type\":\"BasicTickFormatter\"},{\"attributes\":{},\"id\":\"1453\",\"type\":\"DataRange1d\"},{\"attributes\":{\"text\":\"Africa continent\"},\"id\":\"1484\",\"type\":\"Title\"},{\"attributes\":{},\"id\":\"1579\",\"type\":\"AllLabels\"},{\"attributes\":{},\"id\":\"1455\",\"type\":\"DataRange1d\"},{\"attributes\":{},\"id\":\"1474\",\"type\":\"HelpTool\"},{\"attributes\":{},\"id\":\"1457\",\"type\":\"LinearScale\"},{\"attributes\":{},\"id\":\"1580\",\"type\":\"BasicTickFormatter\"},{\"attributes\":{\"formatter\":{\"id\":\"1592\"},\"major_label_policy\":{\"id\":\"1591\"},\"ticker\":{\"id\":\"1462\"}},\"id\":\"1461\",\"type\":\"LinearAxis\"},{\"attributes\":{},\"id\":\"1462\",\"type\":\"BasicTicker\"},{\"attributes\":{\"formatter\":{\"id\":\"1586\"},\"major_label_policy\":{\"id\":\"1585\"},\"ticker\":{\"id\":\"1429\"}},\"id\":\"1428\",\"type\":\"LinearAxis\"},{\"attributes\":{\"axis\":{\"id\":\"1461\"},\"ticker\":null},\"id\":\"1464\",\"type\":\"Grid\"},{\"attributes\":{\"axis\":{\"id\":\"1465\"},\"dimension\":1,\"ticker\":null},\"id\":\"1468\",\"type\":\"Grid\"},{\"attributes\":{},\"id\":\"1466\",\"type\":\"BasicTicker\"},{\"attributes\":{\"children\":[{\"id\":\"1417\"},{\"id\":\"1450\"}]},\"id\":\"1531\",\"type\":\"Column\"},{\"attributes\":{},\"id\":\"1582\",\"type\":\"AllLabels\"},{\"attributes\":{},\"id\":\"1429\",\"type\":\"BasicTicker\"},{\"attributes\":{},\"id\":\"1470\",\"type\":\"WheelZoomTool\"},{\"attributes\":{},\"id\":\"1469\",\"type\":\"PanTool\"},{\"attributes\":{\"overlay\":{\"id\":\"1475\"}},\"id\":\"1471\",\"type\":\"BoxZoomTool\"},{\"attributes\":{},\"id\":\"1472\",\"type\":\"SaveTool\"},{\"attributes\":{},\"id\":\"1583\",\"type\":\"BasicTickFormatter\"},{\"attributes\":{},\"id\":\"1473\",\"type\":\"ResetTool\"},{\"attributes\":{\"axis\":{\"id\":\"1428\"},\"ticker\":null},\"id\":\"1431\",\"type\":\"Grid\"},{\"attributes\":{},\"id\":\"1595\",\"type\":\"UnionRenderers\"},{\"attributes\":{},\"id\":\"1594\",\"type\":\"Selection\"},{\"attributes\":{\"bottom_units\":\"screen\",\"fill_alpha\":0.5,\"fill_color\":\"lightgrey\",\"left_units\":\"screen\",\"level\":\"overlay\",\"line_alpha\":1.0,\"line_color\":\"black\",\"line_dash\":[4,4],\"line_width\":2,\"right_units\":\"screen\",\"syncable\":false,\"top_units\":\"screen\"},\"id\":\"1508\",\"type\":\"BoxAnnotation\"},{\"attributes\":{},\"id\":\"1426\",\"type\":\"LinearScale\"},{\"attributes\":{},\"id\":\"1495\",\"type\":\"BasicTicker\"},{\"attributes\":{},\"id\":\"1492\",\"type\":\"LinearScale\"},{\"attributes\":{},\"id\":\"1585\",\"type\":\"AllLabels\"},{\"attributes\":{\"bottom_units\":\"screen\",\"fill_alpha\":0.5,\"fill_color\":\"lightgrey\",\"left_units\":\"screen\",\"level\":\"overlay\",\"line_alpha\":1.0,\"line_color\":\"black\",\"line_dash\":[4,4],\"line_width\":2,\"right_units\":\"screen\",\"syncable\":false,\"top_units\":\"screen\"},\"id\":\"1475\",\"type\":\"BoxAnnotation\"},{\"attributes\":{},\"id\":\"1586\",\"type\":\"BasicTickFormatter\"},{\"attributes\":{\"active_multi\":null,\"tools\":[{\"id\":\"1469\"},{\"id\":\"1470\"},{\"id\":\"1471\"},{\"id\":\"1472\"},{\"id\":\"1473\"},{\"id\":\"1474\"}]},\"id\":\"1476\",\"type\":\"Toolbar\"},{\"attributes\":{},\"id\":\"1588\",\"type\":\"AllLabels\"},{\"attributes\":{},\"id\":\"1490\",\"type\":\"LinearScale\"},{\"attributes\":{},\"id\":\"1589\",\"type\":\"BasicTickFormatter\"},{\"attributes\":{},\"id\":\"1598\",\"type\":\"UnionRenderers\"},{\"attributes\":{},\"id\":\"1597\",\"type\":\"Selection\"},{\"attributes\":{\"axis\":{\"id\":\"1494\"},\"ticker\":null},\"id\":\"1497\",\"type\":\"Grid\"},{\"attributes\":{\"formatter\":{\"id\":\"1580\"},\"major_label_policy\":{\"id\":\"1579\"},\"ticker\":{\"id\":\"1495\"}},\"id\":\"1494\",\"type\":\"LinearAxis\"},{\"attributes\":{},\"id\":\"1486\",\"type\":\"DataRange1d\"},{\"attributes\":{},\"id\":\"1488\",\"type\":\"DataRange1d\"},{\"attributes\":{\"formatter\":{\"id\":\"1577\"},\"major_label_policy\":{\"id\":\"1576\"},\"ticker\":{\"id\":\"1499\"}},\"id\":\"1498\",\"type\":\"LinearAxis\"},{\"attributes\":{\"axis\":{\"id\":\"1498\"},\"dimension\":1,\"ticker\":null},\"id\":\"1501\",\"type\":\"Grid\"},{\"attributes\":{},\"id\":\"1507\",\"type\":\"HelpTool\"},{\"attributes\":{},\"id\":\"1499\",\"type\":\"BasicTicker\"},{\"attributes\":{},\"id\":\"1503\",\"type\":\"WheelZoomTool\"},{\"attributes\":{},\"id\":\"1502\",\"type\":\"PanTool\"},{\"attributes\":{\"overlay\":{\"id\":\"1508\"}},\"id\":\"1504\",\"type\":\"BoxZoomTool\"},{\"attributes\":{},\"id\":\"1505\",\"type\":\"SaveTool\"},{\"attributes\":{},\"id\":\"1506\",\"type\":\"ResetTool\"},{\"attributes\":{\"source\":{\"id\":\"1521\"}},\"id\":\"1525\",\"type\":\"CDSView\"},{\"attributes\":{\"below\":[{\"id\":\"1461\"}],\"center\":[{\"id\":\"1464\"},{\"id\":\"1468\"}],\"height\":300,\"left\":[{\"id\":\"1465\"}],\"renderers\":[{\"id\":\"1524\"}],\"title\":{\"id\":\"1451\"},\"toolbar\":{\"id\":\"1476\"},\"width\":300,\"x_range\":{\"id\":\"1453\"},\"x_scale\":{\"id\":\"1457\"},\"y_range\":{\"id\":\"1455\"},\"y_scale\":{\"id\":\"1459\"}},\"id\":\"1450\",\"subtype\":\"Figure\",\"type\":\"Plot\"},{\"attributes\":{},\"id\":\"1601\",\"type\":\"UnionRenderers\"},{\"attributes\":{\"text\":\"Europe continent\"},\"id\":\"1451\",\"type\":\"Title\"},{\"attributes\":{\"below\":[{\"id\":\"1428\"}],\"center\":[{\"id\":\"1431\"},{\"id\":\"1435\"}],\"height\":300,\"left\":[{\"id\":\"1432\"}],\"renderers\":[{\"id\":\"1519\"}],\"title\":{\"id\":\"1418\"},\"toolbar\":{\"id\":\"1443\"},\"width\":300,\"x_range\":{\"id\":\"1420\"},\"x_scale\":{\"id\":\"1424\"},\"y_range\":{\"id\":\"1422\"},\"y_scale\":{\"id\":\"1426\"}},\"id\":\"1417\",\"subtype\":\"Figure\",\"type\":\"Plot\"},{\"attributes\":{},\"id\":\"1600\",\"type\":\"Selection\"},{\"attributes\":{\"below\":[{\"id\":\"1494\"}],\"center\":[{\"id\":\"1497\"},{\"id\":\"1501\"}],\"height\":300,\"left\":[{\"id\":\"1498\"}],\"renderers\":[{\"id\":\"1529\"}],\"title\":{\"id\":\"1484\"},\"toolbar\":{\"id\":\"1509\"},\"width\":300,\"x_range\":{\"id\":\"1486\"},\"x_scale\":{\"id\":\"1490\"},\"y_range\":{\"id\":\"1488\"},\"y_scale\":{\"id\":\"1492\"}},\"id\":\"1483\",\"subtype\":\"Figure\",\"type\":\"Plot\"},{\"attributes\":{\"text\":\"Asia continent\"},\"id\":\"1418\",\"type\":\"Title\"},{\"attributes\":{\"fill_color\":{\"value\":\"firebrick\"},\"line_color\":{\"value\":\"firebrick\"},\"size\":{\"value\":10},\"x\":{\"field\":\"x\"},\"y\":{\"field\":\"y\"}},\"id\":\"1517\",\"type\":\"Circle\"},{\"attributes\":{\"fill_alpha\":{\"value\":0.1},\"fill_color\":{\"value\":\"firebrick\"},\"line_alpha\":{\"value\":0.1},\"line_color\":{\"value\":\"firebrick\"},\"size\":{\"value\":10},\"x\":{\"field\":\"x\"},\"y\":{\"field\":\"y\"}},\"id\":\"1518\",\"type\":\"Circle\"},{\"attributes\":{},\"id\":\"1420\",\"type\":\"DataRange1d\"},{\"attributes\":{\"axis\":{\"id\":\"1432\"},\"dimension\":1,\"ticker\":null},\"id\":\"1435\",\"type\":\"Grid\"},{\"attributes\":{\"fill_color\":{\"value\":\"DarkBlue\"},\"line_color\":{\"value\":\"DarkBlue\"},\"size\":{\"value\":10},\"x\":{\"field\":\"x\"},\"y\":{\"field\":\"y\"}},\"id\":\"1527\",\"type\":\"Circle\"},{\"attributes\":{},\"id\":\"1422\",\"type\":\"DataRange1d\"},{\"attributes\":{\"data\":{\"x\":{\"__ndarray__\":\"/tR46SaxFEC6SQwCK4cGQPLSTWIQ2BRAbxKDwMqhF0AK16NwPQoEQBSuR+F6FBZACKwcWmQ7EEBWDi2ynW8TQCPb+X5qvAJAarx0kxgEGUB56SYxCKwCQOF6FK5H4RBAke18PzXeE0B1kxgEVg4SQHsUrkfhehJARIts5/spEkA/NV66SYwWQHe+nxovXRdAUrgehevRFUAtsp3vp0YcQB+F61G4nhVAppvEILDyFkCBlUOLbOcKQI/C9ShcjxNAbef7qfFSGEDb+X5qvHT9PzeJQWDlUBVAUrgehetRFUBQjZduEoMVQM3MzMzMzBFARIts5/upEECJQWDl0CIFQClcj8L1qBRA6SYxCKwcEkB9PzVeuskSQCUGgZVDCxRAWmQ730+NEUBSuB6F61EKQOkmMQisHApA+n5qvHSTBkDHSzeJQeATQIlBYOXQohZA7FG4HoXrCUB56SYxCKz8P5qZmZmZmQtAbxKDwMohFUAUrkfhehQPQOf7qfHSTQVAWDm0yHa+DUA=\",\"dtype\":\"float64\",\"order\":\"little\",\"shape\":[49]},\"y\":{\"__ndarray__\":\"ZmZmZmZmSEBmZmZmZuZMQM3MzMzMzDZAzczMzMwMTEBmZmZmZgZWQDMzMzMzk1BAzczMzMzMTUAzMzMzM7NUQDMzMzMz809AMzMzMzOzUEDNzMzMzAxGQGZmZmZmpk1AzczMzMwMREBmZmZmZiZGQDMzMzMzU1BAMzMzMzPzUEAAAAAAAIBMQJqZmZmZmTVAMzMzMzNzUEAzMzMzMzMuQDMzMzMzMzJAAAAAAACATkAzMzMzMzNWQAAAAAAAgEBAZmZmZmbmNUAAAAAAAMBRQGZmZmZmZjpAZmZmZmaGUECamZmZmRk8QDMzMzMz801AmpmZmZnZSkAzMzMzM1NUQGZmZmZm5jxAAAAAAABAS0DNzMzMzIxEQAAAAAAAgEpAAAAAAADASEDNzMzMzOxVQGZmZmZmxldAAAAAAADgVEBmZmZmZiZBQAAAAAAAQEJAzczMzMzMVEAzMzMzMzNVQGZmZmZmZlVAZmZmZmZGVkAzMzMzM/NQQDMzMzMz01NAMzMzMzPTVEA=\",\"dtype\":\"float64\",\"order\":\"little\",\"shape\":[49]}},\"selected\":{\"id\":\"1594\"},\"selection_policy\":{\"id\":\"1595\"}},\"id\":\"1526\",\"type\":\"ColumnDataSource\"},{\"attributes\":{},\"id\":\"1424\",\"type\":\"LinearScale\"},{\"attributes\":{\"fill_alpha\":{\"value\":0.1},\"fill_color\":{\"value\":\"DarkBlue\"},\"line_alpha\":{\"value\":0.1},\"line_color\":{\"value\":\"DarkBlue\"},\"size\":{\"value\":10},\"x\":{\"field\":\"x\"},\"y\":{\"field\":\"y\"}},\"id\":\"1528\",\"type\":\"Circle\"},{\"attributes\":{},\"id\":\"1441\",\"type\":\"HelpTool\"},{\"attributes\":{\"source\":{\"id\":\"1526\"}},\"id\":\"1530\",\"type\":\"CDSView\"},{\"attributes\":{\"formatter\":{\"id\":\"1583\"},\"major_label_policy\":{\"id\":\"1582\"},\"ticker\":{\"id\":\"1433\"}},\"id\":\"1432\",\"type\":\"LinearAxis\"},{\"attributes\":{},\"id\":\"1433\",\"type\":\"BasicTicker\"},{\"attributes\":{\"data\":{\"x\":{\"__ndarray__\":\"5/up8dJN/D/b+X5qvHQFQHWTGARWDgFAYOXQItv5DkDn+6nx0k0CQP7UeOkmMfQ/aJHtfD81CEDdJAaBlUMAQM3MzMzMzABA5dAi2/l+/D/0/dR46Sb9P3Noke18PwJAL90kBoGV8z/jpZvEILAPQIXrUbgeBRpAL90kBoGVBkCWQ4ts5/sBQKrx0k1iEARAUrgehetRCEBEi2zn+6n9P2ZmZmZmZhRA/Knx0k1iCUAQWDm0yHYCQCcxCKwcWgJArBxaZDvfBkDTTWIQWDkBQGq8dJMYBAZAzczMzMzMCkBSuB6F61ELQPT91HjpJghAvp8aL90kBEBxPQrXo3ADQGiR7Xw/NfQ//Knx0k1i/j8dWmQ730/5P9v5fmq8dP0/K4cW2c73+z9t5/up8dIHQJ7vp8ZLNwFAAiuHFtnO/z/hehSuR+ECQHe+nxov3QFAGy/dJAaBBEC28/3UeOnuP9Ei2/l+agBAAAAAAAAAAEAGgZVDi2wPQA==\",\"dtype\":\"float64\",\"order\":\"little\",\"shape\":[47]},\"y\":{\"__ndarray__\":\"AAAAAACgVkBmZmZmZmZJQDMzMzMzM1ZAAAAAAAAAREBmZmZmZuZIQAAAAAAAwFhAmpmZmZl5V0DNzMzMzIxWQDMzMzMzU1RAzczMzMxMU0AAAAAAAOBWQM3MzMzMTFZAZmZmZmYmWEDNzMzMzExRQDMzMzMzMylAMzMzMzOzRkCamZmZmblYQDMzMzMzc1ZAzczMzMwMVEAAAAAAAABZQGZmZmZmZkVAzczMzMxMU0BmZmZmZkZWQAAAAAAA4FhAmpmZmZm5UUDNzMzMzMxYQJqZmZmZ+VdAAAAAAADgWECamZmZmZlPQJqZmZmZOVZAZmZmZmbGWEAzMzMzM9NYQGZmZmZm5lZAAAAAAADgVkDNzMzMzOxYQAAAAAAAgFVAmpmZmZnZWECamZmZmTlUQGZmZmZmRldAMzMzMzNzWECamZmZmZlWQJqZmZmZWVZAmpmZmZlZQ0DNzMzMzKxWQDMzMzMzU1dAmpmZmZmZWEBmZmZmZsZYQA==\",\"dtype\":\"float64\",\"order\":\"little\",\"shape\":[47]}},\"selected\":{\"id\":\"1597\"},\"selection_policy\":{\"id\":\"1598\"}},\"id\":\"1516\",\"type\":\"ColumnDataSource\"},{\"attributes\":{\"data_source\":{\"id\":\"1526\"},\"glyph\":{\"id\":\"1527\"},\"hover_glyph\":null,\"muted_glyph\":null,\"nonselection_glyph\":{\"id\":\"1528\"},\"view\":{\"id\":\"1530\"}},\"id\":\"1529\",\"type\":\"GlyphRenderer\"},{\"attributes\":{\"active_multi\":null,\"tools\":[{\"id\":\"1436\"},{\"id\":\"1437\"},{\"id\":\"1438\"},{\"id\":\"1439\"},{\"id\":\"1440\"},{\"id\":\"1441\"}]},\"id\":\"1443\",\"type\":\"Toolbar\"},{\"attributes\":{},\"id\":\"1437\",\"type\":\"WheelZoomTool\"},{\"attributes\":{},\"id\":\"1436\",\"type\":\"PanTool\"},{\"attributes\":{\"overlay\":{\"id\":\"1442\"}},\"id\":\"1438\",\"type\":\"BoxZoomTool\"},{\"attributes\":{},\"id\":\"1439\",\"type\":\"SaveTool\"},{\"attributes\":{},\"id\":\"1440\",\"type\":\"ResetTool\"},{\"attributes\":{\"data_source\":{\"id\":\"1521\"},\"glyph\":{\"id\":\"1522\"},\"hover_glyph\":null,\"muted_glyph\":null,\"nonselection_glyph\":{\"id\":\"1523\"},\"view\":{\"id\":\"1525\"}},\"id\":\"1524\",\"type\":\"GlyphRenderer\"},{\"attributes\":{\"fill_alpha\":{\"value\":0.1},\"fill_color\":{\"value\":\"DarkOrange\"},\"line_alpha\":{\"value\":0.1},\"line_color\":{\"value\":\"DarkOrange\"},\"size\":{\"value\":10},\"x\":{\"field\":\"x\"},\"y\":{\"field\":\"y\"}},\"id\":\"1523\",\"type\":\"Circle\"},{\"attributes\":{\"data_source\":{\"id\":\"1516\"},\"glyph\":{\"id\":\"1517\"},\"hover_glyph\":null,\"muted_glyph\":null,\"nonselection_glyph\":{\"id\":\"1518\"},\"view\":{\"id\":\"1520\"}},\"id\":\"1519\",\"type\":\"GlyphRenderer\"},{\"attributes\":{\"source\":{\"id\":\"1516\"}},\"id\":\"1520\",\"type\":\"CDSView\"},{\"attributes\":{\"data\":{\"x\":{\"__ndarray__\":\"fT81XrpJ9j/Jdr6fGi/1P39qvHSTGP4/bxKDwMqh/T89CtejcD32Py2yne+nxvU/sHJoke189z8Sg8DKoUX0PzMzMzMzM/U/wcqhRbbz+z8pXI/C9Sj2PyUGgZVDi/w/PzVeukkM9j8zMzMzMzP3P+xRuB6F6/U/5dAi2/l+9D9WDi2yne/9P1yPwvUoXPc/YOXQItv59j+YbhKDwMr5Py/dJAaBlf0/x0s3iUFg/T8pXI/C9Sj+P99PjZduEvc/c2iR7Xw//z8xCKwcWmTzP9V46SYxCPg/rBxaZDvf9T9Ei2zn+6n9PzeJQWDl0PY/YOXQItv59j99PzVeukn2P0oMAiuHFvs/qMZLN4lB+D9qvHSTGAT0P1g5tMh2vgBA\",\"dtype\":\"float64\",\"order\":\"little\",\"shape\":[36]},\"y\":{\"__ndarray__\":\"mpmZmZnZWEAAAAAAAMBYQAAAAAAAwFhAAAAAAADAWEAAAAAAAKBYQGZmZmZm5lhAmpmZmZk5WEAzMzMzM9NYQJqZmZmZOVhAAAAAAADAWECamZmZmflXQAAAAAAAwFhAmpmZmZk5V0AAAAAAAMBYQJqZmZmZuVhAzczMzMzsWEAAAAAAAMBYQAAAAAAAwFhAmpmZmZl5WEDNzMzMzAxYQAAAAAAAwFhAAAAAAAAAWUAAAAAAAABZQAAAAAAAgFhAAAAAAADAWECamZmZmflXQDMzMzMzc1hAzczMzMzsWEDNzMzMzKxYQDMzMzMz81hAmpmZmZnZV0DNzMzMzOxYQDMzMzMz81hAzczMzMwsWEAAAAAAAGBXQAAAAAAAwFhA\",\"dtype\":\"float64\",\"order\":\"little\",\"shape\":[36]}},\"selected\":{\"id\":\"1600\"},\"selection_policy\":{\"id\":\"1601\"}},\"id\":\"1521\",\"type\":\"ColumnDataSource\"},{\"attributes\":{\"active_multi\":null,\"tools\":[{\"id\":\"1502\"},{\"id\":\"1503\"},{\"id\":\"1504\"},{\"id\":\"1505\"},{\"id\":\"1506\"},{\"id\":\"1507\"}]},\"id\":\"1509\",\"type\":\"Toolbar\"},{\"attributes\":{\"bottom_units\":\"screen\",\"fill_alpha\":0.5,\"fill_color\":\"lightgrey\",\"left_units\":\"screen\",\"level\":\"overlay\",\"line_alpha\":1.0,\"line_color\":\"black\",\"line_dash\":[4,4],\"line_width\":2,\"right_units\":\"screen\",\"syncable\":false,\"top_units\":\"screen\"},\"id\":\"1442\",\"type\":\"BoxAnnotation\"},{\"attributes\":{\"fill_color\":{\"value\":\"DarkOrange\"},\"line_color\":{\"value\":\"DarkOrange\"},\"size\":{\"value\":10},\"x\":{\"field\":\"x\"},\"y\":{\"field\":\"y\"}},\"id\":\"1522\",\"type\":\"Circle\"},{\"attributes\":{},\"id\":\"1576\",\"type\":\"AllLabels\"},{\"attributes\":{},\"id\":\"1577\",\"type\":\"BasicTickFormatter\"}],\"root_ids\":[\"1532\"]},\"title\":\"Bokeh Application\",\"version\":\"2.3.2\"}};\n",
       "  var render_items = [{\"docid\":\"0e77c8ea-ab9c-45c7-9df0-88f82f8e172e\",\"root_ids\":[\"1532\"],\"roots\":{\"1532\":\"ea3bcb5b-2755-47fc-a910-f954d1685cc1\"}}];\n",
       "  root.Bokeh.embed.embed_items_notebook(docs_json, render_items);\n",
       "\n",
       "  }\n",
       "  if (root.Bokeh !== undefined) {\n",
       "    embed_document(root);\n",
       "  } else {\n",
       "    var attempts = 0;\n",
       "    var timer = setInterval(function(root) {\n",
       "      if (root.Bokeh !== undefined) {\n",
       "        clearInterval(timer);\n",
       "        embed_document(root);\n",
       "      } else {\n",
       "        attempts++;\n",
       "        if (attempts > 100) {\n",
       "          clearInterval(timer);\n",
       "          console.log(\"Bokeh: ERROR: Unable to run BokehJS code because BokehJS library is missing\");\n",
       "        }\n",
       "      }\n",
       "    }, 10, root)\n",
       "  }\n",
       "})(window);"
      ],
      "application/vnd.bokehjs_exec.v0+json": ""
     },
     "metadata": {
      "application/vnd.bokehjs_exec.v0+json": {
       "id": "1532"
      }
     },
     "output_type": "display_data"
    }
   ],
   "source": [
    "p1=figure(plot_width=300, plot_height=300, \n",
    "         title=\"Asia continent\")\n",
    "p2=figure(plot_width=300, plot_height=300, \n",
    "         title=\"Europe continent\")\n",
    "p3=figure(plot_width=300, plot_height=300, \n",
    "         title=\"Africa continent\")\n",
    "\n",
    "p1.circle(x=asia[\"fertility\"], y=asia[\"female literacy\"], \n",
    "         color=\"firebrick\", \n",
    "         size=10)\n",
    "p2.circle(x=europe[\"fertility\"], y=europe[\"female literacy\"], \n",
    "         color=\"DarkOrange\", \n",
    "         size=10)\n",
    "p3.circle(x=africa[\"fertility\"], y=africa[\"female literacy\"], \n",
    "         color=\"DarkBlue\", \n",
    "         size=10)\n",
    "\n",
    "layout=row(column(p1, p2),p3)\n",
    "show(layout)"
   ]
  },
  {
   "cell_type": "markdown",
   "metadata": {},
   "source": [
    "### Gridplot"
   ]
  },
  {
   "cell_type": "code",
   "execution_count": 15,
   "metadata": {},
   "outputs": [],
   "source": [
    "from bokeh.layouts import gridplot"
   ]
  },
  {
   "cell_type": "code",
   "execution_count": 16,
   "metadata": {},
   "outputs": [
    {
     "data": {
      "text/html": [
       "\n",
       "\n",
       "\n",
       "\n",
       "\n",
       "\n",
       "  <div class=\"bk-root\" id=\"507e10ee-c5cf-483d-886a-4d790082abdb\" data-root-id=\"1789\"></div>\n"
      ]
     },
     "metadata": {},
     "output_type": "display_data"
    },
    {
     "data": {
      "application/javascript": [
       "(function(root) {\n",
       "  function embed_document(root) {\n",
       "    \n",
       "  var docs_json = {\"561f29c3-bcbe-4968-aabc-ac72b644772c\":{\"defs\":[],\"roots\":{\"references\":[{\"attributes\":{\"children\":[{\"id\":\"1788\"},{\"id\":\"1786\"}]},\"id\":\"1789\",\"type\":\"Column\"},{\"attributes\":{},\"id\":\"1591\",\"type\":\"AllLabels\"},{\"attributes\":{\"formatter\":{\"id\":\"1589\"},\"major_label_policy\":{\"id\":\"1588\"},\"ticker\":{\"id\":\"1466\"}},\"id\":\"1465\",\"type\":\"LinearAxis\"},{\"attributes\":{},\"id\":\"1459\",\"type\":\"LinearScale\"},{\"attributes\":{},\"id\":\"1592\",\"type\":\"BasicTickFormatter\"},{\"attributes\":{},\"id\":\"1453\",\"type\":\"DataRange1d\"},{\"attributes\":{\"text\":\"Africa continent\"},\"id\":\"1484\",\"type\":\"Title\"},{\"attributes\":{},\"id\":\"1579\",\"type\":\"AllLabels\"},{\"attributes\":{},\"id\":\"1455\",\"type\":\"DataRange1d\"},{\"attributes\":{},\"id\":\"1474\",\"type\":\"HelpTool\"},{\"attributes\":{},\"id\":\"1457\",\"type\":\"LinearScale\"},{\"attributes\":{},\"id\":\"1580\",\"type\":\"BasicTickFormatter\"},{\"attributes\":{\"formatter\":{\"id\":\"1592\"},\"major_label_policy\":{\"id\":\"1591\"},\"ticker\":{\"id\":\"1462\"}},\"id\":\"1461\",\"type\":\"LinearAxis\"},{\"attributes\":{},\"id\":\"1462\",\"type\":\"BasicTicker\"},{\"attributes\":{\"formatter\":{\"id\":\"1586\"},\"major_label_policy\":{\"id\":\"1585\"},\"ticker\":{\"id\":\"1429\"}},\"id\":\"1428\",\"type\":\"LinearAxis\"},{\"attributes\":{\"axis\":{\"id\":\"1461\"},\"ticker\":null},\"id\":\"1464\",\"type\":\"Grid\"},{\"attributes\":{\"axis\":{\"id\":\"1465\"},\"dimension\":1,\"ticker\":null},\"id\":\"1468\",\"type\":\"Grid\"},{\"attributes\":{},\"id\":\"1466\",\"type\":\"BasicTicker\"},{\"attributes\":{},\"id\":\"1470\",\"type\":\"WheelZoomTool\"},{\"attributes\":{},\"id\":\"1582\",\"type\":\"AllLabels\"},{\"attributes\":{},\"id\":\"1429\",\"type\":\"BasicTicker\"},{\"attributes\":{\"children\":[[{\"id\":\"1417\"},0,0],[{\"id\":\"1450\"},0,1],[{\"id\":\"1483\"},1,1]]},\"id\":\"1786\",\"type\":\"GridBox\"},{\"attributes\":{},\"id\":\"1469\",\"type\":\"PanTool\"},{\"attributes\":{\"overlay\":{\"id\":\"1475\"}},\"id\":\"1471\",\"type\":\"BoxZoomTool\"},{\"attributes\":{},\"id\":\"1472\",\"type\":\"SaveTool\"},{\"attributes\":{},\"id\":\"1473\",\"type\":\"ResetTool\"},{\"attributes\":{},\"id\":\"1583\",\"type\":\"BasicTickFormatter\"},{\"attributes\":{\"axis\":{\"id\":\"1428\"},\"ticker\":null},\"id\":\"1431\",\"type\":\"Grid\"},{\"attributes\":{},\"id\":\"1595\",\"type\":\"UnionRenderers\"},{\"attributes\":{},\"id\":\"1594\",\"type\":\"Selection\"},{\"attributes\":{\"toolbars\":[{\"id\":\"1443\"},{\"id\":\"1476\"},{\"id\":\"1509\"}],\"tools\":[{\"id\":\"1436\"},{\"id\":\"1437\"},{\"id\":\"1438\"},{\"id\":\"1439\"},{\"id\":\"1440\"},{\"id\":\"1441\"},{\"id\":\"1469\"},{\"id\":\"1470\"},{\"id\":\"1471\"},{\"id\":\"1472\"},{\"id\":\"1473\"},{\"id\":\"1474\"},{\"id\":\"1502\"},{\"id\":\"1503\"},{\"id\":\"1504\"},{\"id\":\"1505\"},{\"id\":\"1506\"},{\"id\":\"1507\"}]},\"id\":\"1787\",\"type\":\"ProxyToolbar\"},{\"attributes\":{\"bottom_units\":\"screen\",\"fill_alpha\":0.5,\"fill_color\":\"lightgrey\",\"left_units\":\"screen\",\"level\":\"overlay\",\"line_alpha\":1.0,\"line_color\":\"black\",\"line_dash\":[4,4],\"line_width\":2,\"right_units\":\"screen\",\"syncable\":false,\"top_units\":\"screen\"},\"id\":\"1508\",\"type\":\"BoxAnnotation\"},{\"attributes\":{},\"id\":\"1426\",\"type\":\"LinearScale\"},{\"attributes\":{},\"id\":\"1495\",\"type\":\"BasicTicker\"},{\"attributes\":{\"toolbar\":{\"id\":\"1787\"},\"toolbar_location\":\"above\"},\"id\":\"1788\",\"type\":\"ToolbarBox\"},{\"attributes\":{},\"id\":\"1492\",\"type\":\"LinearScale\"},{\"attributes\":{},\"id\":\"1585\",\"type\":\"AllLabels\"},{\"attributes\":{\"bottom_units\":\"screen\",\"fill_alpha\":0.5,\"fill_color\":\"lightgrey\",\"left_units\":\"screen\",\"level\":\"overlay\",\"line_alpha\":1.0,\"line_color\":\"black\",\"line_dash\":[4,4],\"line_width\":2,\"right_units\":\"screen\",\"syncable\":false,\"top_units\":\"screen\"},\"id\":\"1475\",\"type\":\"BoxAnnotation\"},{\"attributes\":{},\"id\":\"1586\",\"type\":\"BasicTickFormatter\"},{\"attributes\":{\"active_multi\":null,\"tools\":[{\"id\":\"1469\"},{\"id\":\"1470\"},{\"id\":\"1471\"},{\"id\":\"1472\"},{\"id\":\"1473\"},{\"id\":\"1474\"}]},\"id\":\"1476\",\"type\":\"Toolbar\"},{\"attributes\":{},\"id\":\"1588\",\"type\":\"AllLabels\"},{\"attributes\":{},\"id\":\"1490\",\"type\":\"LinearScale\"},{\"attributes\":{},\"id\":\"1589\",\"type\":\"BasicTickFormatter\"},{\"attributes\":{},\"id\":\"1598\",\"type\":\"UnionRenderers\"},{\"attributes\":{},\"id\":\"1597\",\"type\":\"Selection\"},{\"attributes\":{\"axis\":{\"id\":\"1494\"},\"ticker\":null},\"id\":\"1497\",\"type\":\"Grid\"},{\"attributes\":{\"formatter\":{\"id\":\"1580\"},\"major_label_policy\":{\"id\":\"1579\"},\"ticker\":{\"id\":\"1495\"}},\"id\":\"1494\",\"type\":\"LinearAxis\"},{\"attributes\":{},\"id\":\"1486\",\"type\":\"DataRange1d\"},{\"attributes\":{},\"id\":\"1488\",\"type\":\"DataRange1d\"},{\"attributes\":{\"formatter\":{\"id\":\"1577\"},\"major_label_policy\":{\"id\":\"1576\"},\"ticker\":{\"id\":\"1499\"}},\"id\":\"1498\",\"type\":\"LinearAxis\"},{\"attributes\":{\"axis\":{\"id\":\"1498\"},\"dimension\":1,\"ticker\":null},\"id\":\"1501\",\"type\":\"Grid\"},{\"attributes\":{},\"id\":\"1507\",\"type\":\"HelpTool\"},{\"attributes\":{},\"id\":\"1499\",\"type\":\"BasicTicker\"},{\"attributes\":{},\"id\":\"1503\",\"type\":\"WheelZoomTool\"},{\"attributes\":{},\"id\":\"1502\",\"type\":\"PanTool\"},{\"attributes\":{\"overlay\":{\"id\":\"1508\"}},\"id\":\"1504\",\"type\":\"BoxZoomTool\"},{\"attributes\":{},\"id\":\"1505\",\"type\":\"SaveTool\"},{\"attributes\":{},\"id\":\"1506\",\"type\":\"ResetTool\"},{\"attributes\":{\"source\":{\"id\":\"1521\"}},\"id\":\"1525\",\"type\":\"CDSView\"},{\"attributes\":{\"below\":[{\"id\":\"1461\"}],\"center\":[{\"id\":\"1464\"},{\"id\":\"1468\"}],\"height\":300,\"left\":[{\"id\":\"1465\"}],\"renderers\":[{\"id\":\"1524\"}],\"title\":{\"id\":\"1451\"},\"toolbar\":{\"id\":\"1476\"},\"toolbar_location\":null,\"width\":300,\"x_range\":{\"id\":\"1453\"},\"x_scale\":{\"id\":\"1457\"},\"y_range\":{\"id\":\"1455\"},\"y_scale\":{\"id\":\"1459\"}},\"id\":\"1450\",\"subtype\":\"Figure\",\"type\":\"Plot\"},{\"attributes\":{},\"id\":\"1601\",\"type\":\"UnionRenderers\"},{\"attributes\":{\"text\":\"Europe continent\"},\"id\":\"1451\",\"type\":\"Title\"},{\"attributes\":{\"below\":[{\"id\":\"1428\"}],\"center\":[{\"id\":\"1431\"},{\"id\":\"1435\"}],\"height\":300,\"left\":[{\"id\":\"1432\"}],\"renderers\":[{\"id\":\"1519\"}],\"title\":{\"id\":\"1418\"},\"toolbar\":{\"id\":\"1443\"},\"toolbar_location\":null,\"width\":300,\"x_range\":{\"id\":\"1420\"},\"x_scale\":{\"id\":\"1424\"},\"y_range\":{\"id\":\"1422\"},\"y_scale\":{\"id\":\"1426\"}},\"id\":\"1417\",\"subtype\":\"Figure\",\"type\":\"Plot\"},{\"attributes\":{},\"id\":\"1600\",\"type\":\"Selection\"},{\"attributes\":{\"below\":[{\"id\":\"1494\"}],\"center\":[{\"id\":\"1497\"},{\"id\":\"1501\"}],\"height\":300,\"left\":[{\"id\":\"1498\"}],\"renderers\":[{\"id\":\"1529\"}],\"title\":{\"id\":\"1484\"},\"toolbar\":{\"id\":\"1509\"},\"toolbar_location\":null,\"width\":300,\"x_range\":{\"id\":\"1486\"},\"x_scale\":{\"id\":\"1490\"},\"y_range\":{\"id\":\"1488\"},\"y_scale\":{\"id\":\"1492\"}},\"id\":\"1483\",\"subtype\":\"Figure\",\"type\":\"Plot\"},{\"attributes\":{\"text\":\"Asia continent\"},\"id\":\"1418\",\"type\":\"Title\"},{\"attributes\":{\"fill_color\":{\"value\":\"firebrick\"},\"line_color\":{\"value\":\"firebrick\"},\"size\":{\"value\":10},\"x\":{\"field\":\"x\"},\"y\":{\"field\":\"y\"}},\"id\":\"1517\",\"type\":\"Circle\"},{\"attributes\":{\"fill_alpha\":{\"value\":0.1},\"fill_color\":{\"value\":\"firebrick\"},\"line_alpha\":{\"value\":0.1},\"line_color\":{\"value\":\"firebrick\"},\"size\":{\"value\":10},\"x\":{\"field\":\"x\"},\"y\":{\"field\":\"y\"}},\"id\":\"1518\",\"type\":\"Circle\"},{\"attributes\":{},\"id\":\"1420\",\"type\":\"DataRange1d\"},{\"attributes\":{\"axis\":{\"id\":\"1432\"},\"dimension\":1,\"ticker\":null},\"id\":\"1435\",\"type\":\"Grid\"},{\"attributes\":{\"fill_color\":{\"value\":\"DarkBlue\"},\"line_color\":{\"value\":\"DarkBlue\"},\"size\":{\"value\":10},\"x\":{\"field\":\"x\"},\"y\":{\"field\":\"y\"}},\"id\":\"1527\",\"type\":\"Circle\"},{\"attributes\":{},\"id\":\"1422\",\"type\":\"DataRange1d\"},{\"attributes\":{\"data\":{\"x\":{\"__ndarray__\":\"/tR46SaxFEC6SQwCK4cGQPLSTWIQ2BRAbxKDwMqhF0AK16NwPQoEQBSuR+F6FBZACKwcWmQ7EEBWDi2ynW8TQCPb+X5qvAJAarx0kxgEGUB56SYxCKwCQOF6FK5H4RBAke18PzXeE0B1kxgEVg4SQHsUrkfhehJARIts5/spEkA/NV66SYwWQHe+nxovXRdAUrgehevRFUAtsp3vp0YcQB+F61G4nhVAppvEILDyFkCBlUOLbOcKQI/C9ShcjxNAbef7qfFSGEDb+X5qvHT9PzeJQWDlUBVAUrgehetRFUBQjZduEoMVQM3MzMzMzBFARIts5/upEECJQWDl0CIFQClcj8L1qBRA6SYxCKwcEkB9PzVeuskSQCUGgZVDCxRAWmQ730+NEUBSuB6F61EKQOkmMQisHApA+n5qvHSTBkDHSzeJQeATQIlBYOXQohZA7FG4HoXrCUB56SYxCKz8P5qZmZmZmQtAbxKDwMohFUAUrkfhehQPQOf7qfHSTQVAWDm0yHa+DUA=\",\"dtype\":\"float64\",\"order\":\"little\",\"shape\":[49]},\"y\":{\"__ndarray__\":\"ZmZmZmZmSEBmZmZmZuZMQM3MzMzMzDZAzczMzMwMTEBmZmZmZgZWQDMzMzMzk1BAzczMzMzMTUAzMzMzM7NUQDMzMzMz809AMzMzMzOzUEDNzMzMzAxGQGZmZmZmpk1AzczMzMwMREBmZmZmZiZGQDMzMzMzU1BAMzMzMzPzUEAAAAAAAIBMQJqZmZmZmTVAMzMzMzNzUEAzMzMzMzMuQDMzMzMzMzJAAAAAAACATkAzMzMzMzNWQAAAAAAAgEBAZmZmZmbmNUAAAAAAAMBRQGZmZmZmZjpAZmZmZmaGUECamZmZmRk8QDMzMzMz801AmpmZmZnZSkAzMzMzM1NUQGZmZmZm5jxAAAAAAABAS0DNzMzMzIxEQAAAAAAAgEpAAAAAAADASEDNzMzMzOxVQGZmZmZmxldAAAAAAADgVEBmZmZmZiZBQAAAAAAAQEJAzczMzMzMVEAzMzMzMzNVQGZmZmZmZlVAZmZmZmZGVkAzMzMzM/NQQDMzMzMz01NAMzMzMzPTVEA=\",\"dtype\":\"float64\",\"order\":\"little\",\"shape\":[49]}},\"selected\":{\"id\":\"1594\"},\"selection_policy\":{\"id\":\"1595\"}},\"id\":\"1526\",\"type\":\"ColumnDataSource\"},{\"attributes\":{},\"id\":\"1424\",\"type\":\"LinearScale\"},{\"attributes\":{\"fill_alpha\":{\"value\":0.1},\"fill_color\":{\"value\":\"DarkBlue\"},\"line_alpha\":{\"value\":0.1},\"line_color\":{\"value\":\"DarkBlue\"},\"size\":{\"value\":10},\"x\":{\"field\":\"x\"},\"y\":{\"field\":\"y\"}},\"id\":\"1528\",\"type\":\"Circle\"},{\"attributes\":{},\"id\":\"1441\",\"type\":\"HelpTool\"},{\"attributes\":{\"source\":{\"id\":\"1526\"}},\"id\":\"1530\",\"type\":\"CDSView\"},{\"attributes\":{\"formatter\":{\"id\":\"1583\"},\"major_label_policy\":{\"id\":\"1582\"},\"ticker\":{\"id\":\"1433\"}},\"id\":\"1432\",\"type\":\"LinearAxis\"},{\"attributes\":{},\"id\":\"1433\",\"type\":\"BasicTicker\"},{\"attributes\":{\"data\":{\"x\":{\"__ndarray__\":\"5/up8dJN/D/b+X5qvHQFQHWTGARWDgFAYOXQItv5DkDn+6nx0k0CQP7UeOkmMfQ/aJHtfD81CEDdJAaBlUMAQM3MzMzMzABA5dAi2/l+/D/0/dR46Sb9P3Noke18PwJAL90kBoGV8z/jpZvEILAPQIXrUbgeBRpAL90kBoGVBkCWQ4ts5/sBQKrx0k1iEARAUrgehetRCEBEi2zn+6n9P2ZmZmZmZhRA/Knx0k1iCUAQWDm0yHYCQCcxCKwcWgJArBxaZDvfBkDTTWIQWDkBQGq8dJMYBAZAzczMzMzMCkBSuB6F61ELQPT91HjpJghAvp8aL90kBEBxPQrXo3ADQGiR7Xw/NfQ//Knx0k1i/j8dWmQ730/5P9v5fmq8dP0/K4cW2c73+z9t5/up8dIHQJ7vp8ZLNwFAAiuHFtnO/z/hehSuR+ECQHe+nxov3QFAGy/dJAaBBEC28/3UeOnuP9Ei2/l+agBAAAAAAAAAAEAGgZVDi2wPQA==\",\"dtype\":\"float64\",\"order\":\"little\",\"shape\":[47]},\"y\":{\"__ndarray__\":\"AAAAAACgVkBmZmZmZmZJQDMzMzMzM1ZAAAAAAAAAREBmZmZmZuZIQAAAAAAAwFhAmpmZmZl5V0DNzMzMzIxWQDMzMzMzU1RAzczMzMxMU0AAAAAAAOBWQM3MzMzMTFZAZmZmZmYmWEDNzMzMzExRQDMzMzMzMylAMzMzMzOzRkCamZmZmblYQDMzMzMzc1ZAzczMzMwMVEAAAAAAAABZQGZmZmZmZkVAzczMzMxMU0BmZmZmZkZWQAAAAAAA4FhAmpmZmZm5UUDNzMzMzMxYQJqZmZmZ+VdAAAAAAADgWECamZmZmZlPQJqZmZmZOVZAZmZmZmbGWEAzMzMzM9NYQGZmZmZm5lZAAAAAAADgVkDNzMzMzOxYQAAAAAAAgFVAmpmZmZnZWECamZmZmTlUQGZmZmZmRldAMzMzMzNzWECamZmZmZlWQJqZmZmZWVZAmpmZmZlZQ0DNzMzMzKxWQDMzMzMzU1dAmpmZmZmZWEBmZmZmZsZYQA==\",\"dtype\":\"float64\",\"order\":\"little\",\"shape\":[47]}},\"selected\":{\"id\":\"1597\"},\"selection_policy\":{\"id\":\"1598\"}},\"id\":\"1516\",\"type\":\"ColumnDataSource\"},{\"attributes\":{\"data_source\":{\"id\":\"1526\"},\"glyph\":{\"id\":\"1527\"},\"hover_glyph\":null,\"muted_glyph\":null,\"nonselection_glyph\":{\"id\":\"1528\"},\"view\":{\"id\":\"1530\"}},\"id\":\"1529\",\"type\":\"GlyphRenderer\"},{\"attributes\":{\"active_multi\":null,\"tools\":[{\"id\":\"1436\"},{\"id\":\"1437\"},{\"id\":\"1438\"},{\"id\":\"1439\"},{\"id\":\"1440\"},{\"id\":\"1441\"}]},\"id\":\"1443\",\"type\":\"Toolbar\"},{\"attributes\":{},\"id\":\"1437\",\"type\":\"WheelZoomTool\"},{\"attributes\":{},\"id\":\"1436\",\"type\":\"PanTool\"},{\"attributes\":{\"overlay\":{\"id\":\"1442\"}},\"id\":\"1438\",\"type\":\"BoxZoomTool\"},{\"attributes\":{},\"id\":\"1439\",\"type\":\"SaveTool\"},{\"attributes\":{},\"id\":\"1440\",\"type\":\"ResetTool\"},{\"attributes\":{\"data_source\":{\"id\":\"1521\"},\"glyph\":{\"id\":\"1522\"},\"hover_glyph\":null,\"muted_glyph\":null,\"nonselection_glyph\":{\"id\":\"1523\"},\"view\":{\"id\":\"1525\"}},\"id\":\"1524\",\"type\":\"GlyphRenderer\"},{\"attributes\":{\"fill_alpha\":{\"value\":0.1},\"fill_color\":{\"value\":\"DarkOrange\"},\"line_alpha\":{\"value\":0.1},\"line_color\":{\"value\":\"DarkOrange\"},\"size\":{\"value\":10},\"x\":{\"field\":\"x\"},\"y\":{\"field\":\"y\"}},\"id\":\"1523\",\"type\":\"Circle\"},{\"attributes\":{\"data_source\":{\"id\":\"1516\"},\"glyph\":{\"id\":\"1517\"},\"hover_glyph\":null,\"muted_glyph\":null,\"nonselection_glyph\":{\"id\":\"1518\"},\"view\":{\"id\":\"1520\"}},\"id\":\"1519\",\"type\":\"GlyphRenderer\"},{\"attributes\":{\"source\":{\"id\":\"1516\"}},\"id\":\"1520\",\"type\":\"CDSView\"},{\"attributes\":{\"data\":{\"x\":{\"__ndarray__\":\"fT81XrpJ9j/Jdr6fGi/1P39qvHSTGP4/bxKDwMqh/T89CtejcD32Py2yne+nxvU/sHJoke189z8Sg8DKoUX0PzMzMzMzM/U/wcqhRbbz+z8pXI/C9Sj2PyUGgZVDi/w/PzVeukkM9j8zMzMzMzP3P+xRuB6F6/U/5dAi2/l+9D9WDi2yne/9P1yPwvUoXPc/YOXQItv59j+YbhKDwMr5Py/dJAaBlf0/x0s3iUFg/T8pXI/C9Sj+P99PjZduEvc/c2iR7Xw//z8xCKwcWmTzP9V46SYxCPg/rBxaZDvf9T9Ei2zn+6n9PzeJQWDl0PY/YOXQItv59j99PzVeukn2P0oMAiuHFvs/qMZLN4lB+D9qvHSTGAT0P1g5tMh2vgBA\",\"dtype\":\"float64\",\"order\":\"little\",\"shape\":[36]},\"y\":{\"__ndarray__\":\"mpmZmZnZWEAAAAAAAMBYQAAAAAAAwFhAAAAAAADAWEAAAAAAAKBYQGZmZmZm5lhAmpmZmZk5WEAzMzMzM9NYQJqZmZmZOVhAAAAAAADAWECamZmZmflXQAAAAAAAwFhAmpmZmZk5V0AAAAAAAMBYQJqZmZmZuVhAzczMzMzsWEAAAAAAAMBYQAAAAAAAwFhAmpmZmZl5WEDNzMzMzAxYQAAAAAAAwFhAAAAAAAAAWUAAAAAAAABZQAAAAAAAgFhAAAAAAADAWECamZmZmflXQDMzMzMzc1hAzczMzMzsWEDNzMzMzKxYQDMzMzMz81hAmpmZmZnZV0DNzMzMzOxYQDMzMzMz81hAzczMzMwsWEAAAAAAAGBXQAAAAAAAwFhA\",\"dtype\":\"float64\",\"order\":\"little\",\"shape\":[36]}},\"selected\":{\"id\":\"1600\"},\"selection_policy\":{\"id\":\"1601\"}},\"id\":\"1521\",\"type\":\"ColumnDataSource\"},{\"attributes\":{\"active_multi\":null,\"tools\":[{\"id\":\"1502\"},{\"id\":\"1503\"},{\"id\":\"1504\"},{\"id\":\"1505\"},{\"id\":\"1506\"},{\"id\":\"1507\"}]},\"id\":\"1509\",\"type\":\"Toolbar\"},{\"attributes\":{\"bottom_units\":\"screen\",\"fill_alpha\":0.5,\"fill_color\":\"lightgrey\",\"left_units\":\"screen\",\"level\":\"overlay\",\"line_alpha\":1.0,\"line_color\":\"black\",\"line_dash\":[4,4],\"line_width\":2,\"right_units\":\"screen\",\"syncable\":false,\"top_units\":\"screen\"},\"id\":\"1442\",\"type\":\"BoxAnnotation\"},{\"attributes\":{\"fill_color\":{\"value\":\"DarkOrange\"},\"line_color\":{\"value\":\"DarkOrange\"},\"size\":{\"value\":10},\"x\":{\"field\":\"x\"},\"y\":{\"field\":\"y\"}},\"id\":\"1522\",\"type\":\"Circle\"},{\"attributes\":{},\"id\":\"1576\",\"type\":\"AllLabels\"},{\"attributes\":{},\"id\":\"1577\",\"type\":\"BasicTickFormatter\"}],\"root_ids\":[\"1789\"]},\"title\":\"Bokeh Application\",\"version\":\"2.3.2\"}};\n",
       "  var render_items = [{\"docid\":\"561f29c3-bcbe-4968-aabc-ac72b644772c\",\"root_ids\":[\"1789\"],\"roots\":{\"1789\":\"507e10ee-c5cf-483d-886a-4d790082abdb\"}}];\n",
       "  root.Bokeh.embed.embed_items_notebook(docs_json, render_items);\n",
       "\n",
       "  }\n",
       "  if (root.Bokeh !== undefined) {\n",
       "    embed_document(root);\n",
       "  } else {\n",
       "    var attempts = 0;\n",
       "    var timer = setInterval(function(root) {\n",
       "      if (root.Bokeh !== undefined) {\n",
       "        clearInterval(timer);\n",
       "        embed_document(root);\n",
       "      } else {\n",
       "        attempts++;\n",
       "        if (attempts > 100) {\n",
       "          clearInterval(timer);\n",
       "          console.log(\"Bokeh: ERROR: Unable to run BokehJS code because BokehJS library is missing\");\n",
       "        }\n",
       "      }\n",
       "    }, 10, root)\n",
       "  }\n",
       "})(window);"
      ],
      "application/vnd.bokehjs_exec.v0+json": ""
     },
     "metadata": {
      "application/vnd.bokehjs_exec.v0+json": {
       "id": "1789"
      }
     },
     "output_type": "display_data"
    }
   ],
   "source": [
    "layout=gridplot([[p1, p2], [None, p3]])\n",
    "show(layout)"
   ]
  },
  {
   "cell_type": "markdown",
   "metadata": {},
   "source": [
    "For convenience, you can also just pass a list of plots and specify the number of columns you want in your grid. For example:"
   ]
  },
  {
   "cell_type": "code",
   "execution_count": 17,
   "metadata": {},
   "outputs": [
    {
     "data": {
      "text/html": [
       "\n",
       "\n",
       "\n",
       "\n",
       "\n",
       "\n",
       "  <div class=\"bk-root\" id=\"0070dce0-1647-408d-8dbc-acb4426b9fd4\" data-root-id=\"2076\"></div>\n"
      ]
     },
     "metadata": {},
     "output_type": "display_data"
    },
    {
     "data": {
      "application/javascript": [
       "(function(root) {\n",
       "  function embed_document(root) {\n",
       "    \n",
       "  var docs_json = {\"3ce8a1af-4ed9-463d-936f-fd1a8a399163\":{\"defs\":[],\"roots\":{\"references\":[{\"attributes\":{\"children\":[{\"id\":\"2075\"},{\"id\":\"2073\"}]},\"id\":\"2076\",\"type\":\"Column\"},{\"attributes\":{\"toolbar\":{\"id\":\"2074\"},\"toolbar_location\":\"above\"},\"id\":\"2075\",\"type\":\"ToolbarBox\"},{\"attributes\":{},\"id\":\"1591\",\"type\":\"AllLabels\"},{\"attributes\":{\"formatter\":{\"id\":\"1589\"},\"major_label_policy\":{\"id\":\"1588\"},\"ticker\":{\"id\":\"1466\"}},\"id\":\"1465\",\"type\":\"LinearAxis\"},{\"attributes\":{},\"id\":\"1459\",\"type\":\"LinearScale\"},{\"attributes\":{},\"id\":\"1592\",\"type\":\"BasicTickFormatter\"},{\"attributes\":{},\"id\":\"1453\",\"type\":\"DataRange1d\"},{\"attributes\":{\"text\":\"Africa continent\"},\"id\":\"1484\",\"type\":\"Title\"},{\"attributes\":{},\"id\":\"1579\",\"type\":\"AllLabels\"},{\"attributes\":{},\"id\":\"1455\",\"type\":\"DataRange1d\"},{\"attributes\":{},\"id\":\"1474\",\"type\":\"HelpTool\"},{\"attributes\":{},\"id\":\"1457\",\"type\":\"LinearScale\"},{\"attributes\":{},\"id\":\"1580\",\"type\":\"BasicTickFormatter\"},{\"attributes\":{\"formatter\":{\"id\":\"1592\"},\"major_label_policy\":{\"id\":\"1591\"},\"ticker\":{\"id\":\"1462\"}},\"id\":\"1461\",\"type\":\"LinearAxis\"},{\"attributes\":{},\"id\":\"1462\",\"type\":\"BasicTicker\"},{\"attributes\":{\"formatter\":{\"id\":\"1586\"},\"major_label_policy\":{\"id\":\"1585\"},\"ticker\":{\"id\":\"1429\"}},\"id\":\"1428\",\"type\":\"LinearAxis\"},{\"attributes\":{\"axis\":{\"id\":\"1461\"},\"ticker\":null},\"id\":\"1464\",\"type\":\"Grid\"},{\"attributes\":{\"axis\":{\"id\":\"1465\"},\"dimension\":1,\"ticker\":null},\"id\":\"1468\",\"type\":\"Grid\"},{\"attributes\":{},\"id\":\"1466\",\"type\":\"BasicTicker\"},{\"attributes\":{},\"id\":\"1470\",\"type\":\"WheelZoomTool\"},{\"attributes\":{},\"id\":\"1582\",\"type\":\"AllLabels\"},{\"attributes\":{},\"id\":\"1429\",\"type\":\"BasicTicker\"},{\"attributes\":{},\"id\":\"1469\",\"type\":\"PanTool\"},{\"attributes\":{\"overlay\":{\"id\":\"1475\"}},\"id\":\"1471\",\"type\":\"BoxZoomTool\"},{\"attributes\":{},\"id\":\"1472\",\"type\":\"SaveTool\"},{\"attributes\":{},\"id\":\"1473\",\"type\":\"ResetTool\"},{\"attributes\":{},\"id\":\"1583\",\"type\":\"BasicTickFormatter\"},{\"attributes\":{\"axis\":{\"id\":\"1428\"},\"ticker\":null},\"id\":\"1431\",\"type\":\"Grid\"},{\"attributes\":{},\"id\":\"1595\",\"type\":\"UnionRenderers\"},{\"attributes\":{},\"id\":\"1594\",\"type\":\"Selection\"},{\"attributes\":{\"bottom_units\":\"screen\",\"fill_alpha\":0.5,\"fill_color\":\"lightgrey\",\"left_units\":\"screen\",\"level\":\"overlay\",\"line_alpha\":1.0,\"line_color\":\"black\",\"line_dash\":[4,4],\"line_width\":2,\"right_units\":\"screen\",\"syncable\":false,\"top_units\":\"screen\"},\"id\":\"1508\",\"type\":\"BoxAnnotation\"},{\"attributes\":{},\"id\":\"1426\",\"type\":\"LinearScale\"},{\"attributes\":{},\"id\":\"1495\",\"type\":\"BasicTicker\"},{\"attributes\":{},\"id\":\"1492\",\"type\":\"LinearScale\"},{\"attributes\":{},\"id\":\"1585\",\"type\":\"AllLabels\"},{\"attributes\":{\"bottom_units\":\"screen\",\"fill_alpha\":0.5,\"fill_color\":\"lightgrey\",\"left_units\":\"screen\",\"level\":\"overlay\",\"line_alpha\":1.0,\"line_color\":\"black\",\"line_dash\":[4,4],\"line_width\":2,\"right_units\":\"screen\",\"syncable\":false,\"top_units\":\"screen\"},\"id\":\"1475\",\"type\":\"BoxAnnotation\"},{\"attributes\":{},\"id\":\"1586\",\"type\":\"BasicTickFormatter\"},{\"attributes\":{\"active_multi\":null,\"tools\":[{\"id\":\"1469\"},{\"id\":\"1470\"},{\"id\":\"1471\"},{\"id\":\"1472\"},{\"id\":\"1473\"},{\"id\":\"1474\"}]},\"id\":\"1476\",\"type\":\"Toolbar\"},{\"attributes\":{},\"id\":\"1588\",\"type\":\"AllLabels\"},{\"attributes\":{},\"id\":\"1490\",\"type\":\"LinearScale\"},{\"attributes\":{},\"id\":\"1589\",\"type\":\"BasicTickFormatter\"},{\"attributes\":{},\"id\":\"1598\",\"type\":\"UnionRenderers\"},{\"attributes\":{},\"id\":\"1597\",\"type\":\"Selection\"},{\"attributes\":{\"axis\":{\"id\":\"1494\"},\"ticker\":null},\"id\":\"1497\",\"type\":\"Grid\"},{\"attributes\":{\"formatter\":{\"id\":\"1580\"},\"major_label_policy\":{\"id\":\"1579\"},\"ticker\":{\"id\":\"1495\"}},\"id\":\"1494\",\"type\":\"LinearAxis\"},{\"attributes\":{},\"id\":\"1486\",\"type\":\"DataRange1d\"},{\"attributes\":{},\"id\":\"1488\",\"type\":\"DataRange1d\"},{\"attributes\":{\"formatter\":{\"id\":\"1577\"},\"major_label_policy\":{\"id\":\"1576\"},\"ticker\":{\"id\":\"1499\"}},\"id\":\"1498\",\"type\":\"LinearAxis\"},{\"attributes\":{\"axis\":{\"id\":\"1498\"},\"dimension\":1,\"ticker\":null},\"id\":\"1501\",\"type\":\"Grid\"},{\"attributes\":{},\"id\":\"1507\",\"type\":\"HelpTool\"},{\"attributes\":{},\"id\":\"1499\",\"type\":\"BasicTicker\"},{\"attributes\":{},\"id\":\"1503\",\"type\":\"WheelZoomTool\"},{\"attributes\":{},\"id\":\"1502\",\"type\":\"PanTool\"},{\"attributes\":{\"overlay\":{\"id\":\"1508\"}},\"id\":\"1504\",\"type\":\"BoxZoomTool\"},{\"attributes\":{},\"id\":\"1505\",\"type\":\"SaveTool\"},{\"attributes\":{},\"id\":\"1506\",\"type\":\"ResetTool\"},{\"attributes\":{\"source\":{\"id\":\"1521\"}},\"id\":\"1525\",\"type\":\"CDSView\"},{\"attributes\":{\"below\":[{\"id\":\"1461\"}],\"center\":[{\"id\":\"1464\"},{\"id\":\"1468\"}],\"height\":300,\"left\":[{\"id\":\"1465\"}],\"renderers\":[{\"id\":\"1524\"}],\"title\":{\"id\":\"1451\"},\"toolbar\":{\"id\":\"1476\"},\"toolbar_location\":null,\"width\":300,\"x_range\":{\"id\":\"1453\"},\"x_scale\":{\"id\":\"1457\"},\"y_range\":{\"id\":\"1455\"},\"y_scale\":{\"id\":\"1459\"}},\"id\":\"1450\",\"subtype\":\"Figure\",\"type\":\"Plot\"},{\"attributes\":{},\"id\":\"1601\",\"type\":\"UnionRenderers\"},{\"attributes\":{\"text\":\"Europe continent\"},\"id\":\"1451\",\"type\":\"Title\"},{\"attributes\":{\"below\":[{\"id\":\"1428\"}],\"center\":[{\"id\":\"1431\"},{\"id\":\"1435\"}],\"height\":300,\"left\":[{\"id\":\"1432\"}],\"renderers\":[{\"id\":\"1519\"}],\"title\":{\"id\":\"1418\"},\"toolbar\":{\"id\":\"1443\"},\"toolbar_location\":null,\"width\":300,\"x_range\":{\"id\":\"1420\"},\"x_scale\":{\"id\":\"1424\"},\"y_range\":{\"id\":\"1422\"},\"y_scale\":{\"id\":\"1426\"}},\"id\":\"1417\",\"subtype\":\"Figure\",\"type\":\"Plot\"},{\"attributes\":{},\"id\":\"1600\",\"type\":\"Selection\"},{\"attributes\":{\"below\":[{\"id\":\"1494\"}],\"center\":[{\"id\":\"1497\"},{\"id\":\"1501\"}],\"height\":300,\"left\":[{\"id\":\"1498\"}],\"renderers\":[{\"id\":\"1529\"}],\"title\":{\"id\":\"1484\"},\"toolbar\":{\"id\":\"1509\"},\"toolbar_location\":null,\"width\":300,\"x_range\":{\"id\":\"1486\"},\"x_scale\":{\"id\":\"1490\"},\"y_range\":{\"id\":\"1488\"},\"y_scale\":{\"id\":\"1492\"}},\"id\":\"1483\",\"subtype\":\"Figure\",\"type\":\"Plot\"},{\"attributes\":{\"text\":\"Asia continent\"},\"id\":\"1418\",\"type\":\"Title\"},{\"attributes\":{\"fill_color\":{\"value\":\"firebrick\"},\"line_color\":{\"value\":\"firebrick\"},\"size\":{\"value\":10},\"x\":{\"field\":\"x\"},\"y\":{\"field\":\"y\"}},\"id\":\"1517\",\"type\":\"Circle\"},{\"attributes\":{\"fill_alpha\":{\"value\":0.1},\"fill_color\":{\"value\":\"firebrick\"},\"line_alpha\":{\"value\":0.1},\"line_color\":{\"value\":\"firebrick\"},\"size\":{\"value\":10},\"x\":{\"field\":\"x\"},\"y\":{\"field\":\"y\"}},\"id\":\"1518\",\"type\":\"Circle\"},{\"attributes\":{},\"id\":\"1420\",\"type\":\"DataRange1d\"},{\"attributes\":{\"axis\":{\"id\":\"1432\"},\"dimension\":1,\"ticker\":null},\"id\":\"1435\",\"type\":\"Grid\"},{\"attributes\":{\"fill_color\":{\"value\":\"DarkBlue\"},\"line_color\":{\"value\":\"DarkBlue\"},\"size\":{\"value\":10},\"x\":{\"field\":\"x\"},\"y\":{\"field\":\"y\"}},\"id\":\"1527\",\"type\":\"Circle\"},{\"attributes\":{},\"id\":\"1422\",\"type\":\"DataRange1d\"},{\"attributes\":{\"data\":{\"x\":{\"__ndarray__\":\"/tR46SaxFEC6SQwCK4cGQPLSTWIQ2BRAbxKDwMqhF0AK16NwPQoEQBSuR+F6FBZACKwcWmQ7EEBWDi2ynW8TQCPb+X5qvAJAarx0kxgEGUB56SYxCKwCQOF6FK5H4RBAke18PzXeE0B1kxgEVg4SQHsUrkfhehJARIts5/spEkA/NV66SYwWQHe+nxovXRdAUrgehevRFUAtsp3vp0YcQB+F61G4nhVAppvEILDyFkCBlUOLbOcKQI/C9ShcjxNAbef7qfFSGEDb+X5qvHT9PzeJQWDlUBVAUrgehetRFUBQjZduEoMVQM3MzMzMzBFARIts5/upEECJQWDl0CIFQClcj8L1qBRA6SYxCKwcEkB9PzVeuskSQCUGgZVDCxRAWmQ730+NEUBSuB6F61EKQOkmMQisHApA+n5qvHSTBkDHSzeJQeATQIlBYOXQohZA7FG4HoXrCUB56SYxCKz8P5qZmZmZmQtAbxKDwMohFUAUrkfhehQPQOf7qfHSTQVAWDm0yHa+DUA=\",\"dtype\":\"float64\",\"order\":\"little\",\"shape\":[49]},\"y\":{\"__ndarray__\":\"ZmZmZmZmSEBmZmZmZuZMQM3MzMzMzDZAzczMzMwMTEBmZmZmZgZWQDMzMzMzk1BAzczMzMzMTUAzMzMzM7NUQDMzMzMz809AMzMzMzOzUEDNzMzMzAxGQGZmZmZmpk1AzczMzMwMREBmZmZmZiZGQDMzMzMzU1BAMzMzMzPzUEAAAAAAAIBMQJqZmZmZmTVAMzMzMzNzUEAzMzMzMzMuQDMzMzMzMzJAAAAAAACATkAzMzMzMzNWQAAAAAAAgEBAZmZmZmbmNUAAAAAAAMBRQGZmZmZmZjpAZmZmZmaGUECamZmZmRk8QDMzMzMz801AmpmZmZnZSkAzMzMzM1NUQGZmZmZm5jxAAAAAAABAS0DNzMzMzIxEQAAAAAAAgEpAAAAAAADASEDNzMzMzOxVQGZmZmZmxldAAAAAAADgVEBmZmZmZiZBQAAAAAAAQEJAzczMzMzMVEAzMzMzMzNVQGZmZmZmZlVAZmZmZmZGVkAzMzMzM/NQQDMzMzMz01NAMzMzMzPTVEA=\",\"dtype\":\"float64\",\"order\":\"little\",\"shape\":[49]}},\"selected\":{\"id\":\"1594\"},\"selection_policy\":{\"id\":\"1595\"}},\"id\":\"1526\",\"type\":\"ColumnDataSource\"},{\"attributes\":{},\"id\":\"1424\",\"type\":\"LinearScale\"},{\"attributes\":{\"fill_alpha\":{\"value\":0.1},\"fill_color\":{\"value\":\"DarkBlue\"},\"line_alpha\":{\"value\":0.1},\"line_color\":{\"value\":\"DarkBlue\"},\"size\":{\"value\":10},\"x\":{\"field\":\"x\"},\"y\":{\"field\":\"y\"}},\"id\":\"1528\",\"type\":\"Circle\"},{\"attributes\":{},\"id\":\"1441\",\"type\":\"HelpTool\"},{\"attributes\":{\"source\":{\"id\":\"1526\"}},\"id\":\"1530\",\"type\":\"CDSView\"},{\"attributes\":{\"formatter\":{\"id\":\"1583\"},\"major_label_policy\":{\"id\":\"1582\"},\"ticker\":{\"id\":\"1433\"}},\"id\":\"1432\",\"type\":\"LinearAxis\"},{\"attributes\":{},\"id\":\"1433\",\"type\":\"BasicTicker\"},{\"attributes\":{\"data\":{\"x\":{\"__ndarray__\":\"5/up8dJN/D/b+X5qvHQFQHWTGARWDgFAYOXQItv5DkDn+6nx0k0CQP7UeOkmMfQ/aJHtfD81CEDdJAaBlUMAQM3MzMzMzABA5dAi2/l+/D/0/dR46Sb9P3Noke18PwJAL90kBoGV8z/jpZvEILAPQIXrUbgeBRpAL90kBoGVBkCWQ4ts5/sBQKrx0k1iEARAUrgehetRCEBEi2zn+6n9P2ZmZmZmZhRA/Knx0k1iCUAQWDm0yHYCQCcxCKwcWgJArBxaZDvfBkDTTWIQWDkBQGq8dJMYBAZAzczMzMzMCkBSuB6F61ELQPT91HjpJghAvp8aL90kBEBxPQrXo3ADQGiR7Xw/NfQ//Knx0k1i/j8dWmQ730/5P9v5fmq8dP0/K4cW2c73+z9t5/up8dIHQJ7vp8ZLNwFAAiuHFtnO/z/hehSuR+ECQHe+nxov3QFAGy/dJAaBBEC28/3UeOnuP9Ei2/l+agBAAAAAAAAAAEAGgZVDi2wPQA==\",\"dtype\":\"float64\",\"order\":\"little\",\"shape\":[47]},\"y\":{\"__ndarray__\":\"AAAAAACgVkBmZmZmZmZJQDMzMzMzM1ZAAAAAAAAAREBmZmZmZuZIQAAAAAAAwFhAmpmZmZl5V0DNzMzMzIxWQDMzMzMzU1RAzczMzMxMU0AAAAAAAOBWQM3MzMzMTFZAZmZmZmYmWEDNzMzMzExRQDMzMzMzMylAMzMzMzOzRkCamZmZmblYQDMzMzMzc1ZAzczMzMwMVEAAAAAAAABZQGZmZmZmZkVAzczMzMxMU0BmZmZmZkZWQAAAAAAA4FhAmpmZmZm5UUDNzMzMzMxYQJqZmZmZ+VdAAAAAAADgWECamZmZmZlPQJqZmZmZOVZAZmZmZmbGWEAzMzMzM9NYQGZmZmZm5lZAAAAAAADgVkDNzMzMzOxYQAAAAAAAgFVAmpmZmZnZWECamZmZmTlUQGZmZmZmRldAMzMzMzNzWECamZmZmZlWQJqZmZmZWVZAmpmZmZlZQ0DNzMzMzKxWQDMzMzMzU1dAmpmZmZmZWEBmZmZmZsZYQA==\",\"dtype\":\"float64\",\"order\":\"little\",\"shape\":[47]}},\"selected\":{\"id\":\"1597\"},\"selection_policy\":{\"id\":\"1598\"}},\"id\":\"1516\",\"type\":\"ColumnDataSource\"},{\"attributes\":{\"data_source\":{\"id\":\"1526\"},\"glyph\":{\"id\":\"1527\"},\"hover_glyph\":null,\"muted_glyph\":null,\"nonselection_glyph\":{\"id\":\"1528\"},\"view\":{\"id\":\"1530\"}},\"id\":\"1529\",\"type\":\"GlyphRenderer\"},{\"attributes\":{\"active_multi\":null,\"tools\":[{\"id\":\"1436\"},{\"id\":\"1437\"},{\"id\":\"1438\"},{\"id\":\"1439\"},{\"id\":\"1440\"},{\"id\":\"1441\"}]},\"id\":\"1443\",\"type\":\"Toolbar\"},{\"attributes\":{},\"id\":\"1437\",\"type\":\"WheelZoomTool\"},{\"attributes\":{},\"id\":\"1436\",\"type\":\"PanTool\"},{\"attributes\":{\"overlay\":{\"id\":\"1442\"}},\"id\":\"1438\",\"type\":\"BoxZoomTool\"},{\"attributes\":{},\"id\":\"1439\",\"type\":\"SaveTool\"},{\"attributes\":{},\"id\":\"1440\",\"type\":\"ResetTool\"},{\"attributes\":{\"data_source\":{\"id\":\"1521\"},\"glyph\":{\"id\":\"1522\"},\"hover_glyph\":null,\"muted_glyph\":null,\"nonselection_glyph\":{\"id\":\"1523\"},\"view\":{\"id\":\"1525\"}},\"id\":\"1524\",\"type\":\"GlyphRenderer\"},{\"attributes\":{\"fill_alpha\":{\"value\":0.1},\"fill_color\":{\"value\":\"DarkOrange\"},\"line_alpha\":{\"value\":0.1},\"line_color\":{\"value\":\"DarkOrange\"},\"size\":{\"value\":10},\"x\":{\"field\":\"x\"},\"y\":{\"field\":\"y\"}},\"id\":\"1523\",\"type\":\"Circle\"},{\"attributes\":{\"data_source\":{\"id\":\"1516\"},\"glyph\":{\"id\":\"1517\"},\"hover_glyph\":null,\"muted_glyph\":null,\"nonselection_glyph\":{\"id\":\"1518\"},\"view\":{\"id\":\"1520\"}},\"id\":\"1519\",\"type\":\"GlyphRenderer\"},{\"attributes\":{\"source\":{\"id\":\"1516\"}},\"id\":\"1520\",\"type\":\"CDSView\"},{\"attributes\":{\"data\":{\"x\":{\"__ndarray__\":\"fT81XrpJ9j/Jdr6fGi/1P39qvHSTGP4/bxKDwMqh/T89CtejcD32Py2yne+nxvU/sHJoke189z8Sg8DKoUX0PzMzMzMzM/U/wcqhRbbz+z8pXI/C9Sj2PyUGgZVDi/w/PzVeukkM9j8zMzMzMzP3P+xRuB6F6/U/5dAi2/l+9D9WDi2yne/9P1yPwvUoXPc/YOXQItv59j+YbhKDwMr5Py/dJAaBlf0/x0s3iUFg/T8pXI/C9Sj+P99PjZduEvc/c2iR7Xw//z8xCKwcWmTzP9V46SYxCPg/rBxaZDvf9T9Ei2zn+6n9PzeJQWDl0PY/YOXQItv59j99PzVeukn2P0oMAiuHFvs/qMZLN4lB+D9qvHSTGAT0P1g5tMh2vgBA\",\"dtype\":\"float64\",\"order\":\"little\",\"shape\":[36]},\"y\":{\"__ndarray__\":\"mpmZmZnZWEAAAAAAAMBYQAAAAAAAwFhAAAAAAADAWEAAAAAAAKBYQGZmZmZm5lhAmpmZmZk5WEAzMzMzM9NYQJqZmZmZOVhAAAAAAADAWECamZmZmflXQAAAAAAAwFhAmpmZmZk5V0AAAAAAAMBYQJqZmZmZuVhAzczMzMzsWEAAAAAAAMBYQAAAAAAAwFhAmpmZmZl5WEDNzMzMzAxYQAAAAAAAwFhAAAAAAAAAWUAAAAAAAABZQAAAAAAAgFhAAAAAAADAWECamZmZmflXQDMzMzMzc1hAzczMzMzsWEDNzMzMzKxYQDMzMzMz81hAmpmZmZnZV0DNzMzMzOxYQDMzMzMz81hAzczMzMwsWEAAAAAAAGBXQAAAAAAAwFhA\",\"dtype\":\"float64\",\"order\":\"little\",\"shape\":[36]}},\"selected\":{\"id\":\"1600\"},\"selection_policy\":{\"id\":\"1601\"}},\"id\":\"1521\",\"type\":\"ColumnDataSource\"},{\"attributes\":{\"active_multi\":null,\"tools\":[{\"id\":\"1502\"},{\"id\":\"1503\"},{\"id\":\"1504\"},{\"id\":\"1505\"},{\"id\":\"1506\"},{\"id\":\"1507\"}]},\"id\":\"1509\",\"type\":\"Toolbar\"},{\"attributes\":{\"toolbars\":[{\"id\":\"1443\"},{\"id\":\"1476\"},{\"id\":\"1509\"}],\"tools\":[{\"id\":\"1436\"},{\"id\":\"1437\"},{\"id\":\"1438\"},{\"id\":\"1439\"},{\"id\":\"1440\"},{\"id\":\"1441\"},{\"id\":\"1469\"},{\"id\":\"1470\"},{\"id\":\"1471\"},{\"id\":\"1472\"},{\"id\":\"1473\"},{\"id\":\"1474\"},{\"id\":\"1502\"},{\"id\":\"1503\"},{\"id\":\"1504\"},{\"id\":\"1505\"},{\"id\":\"1506\"},{\"id\":\"1507\"}]},\"id\":\"2074\",\"type\":\"ProxyToolbar\"},{\"attributes\":{\"bottom_units\":\"screen\",\"fill_alpha\":0.5,\"fill_color\":\"lightgrey\",\"left_units\":\"screen\",\"level\":\"overlay\",\"line_alpha\":1.0,\"line_color\":\"black\",\"line_dash\":[4,4],\"line_width\":2,\"right_units\":\"screen\",\"syncable\":false,\"top_units\":\"screen\"},\"id\":\"1442\",\"type\":\"BoxAnnotation\"},{\"attributes\":{\"fill_color\":{\"value\":\"DarkOrange\"},\"line_color\":{\"value\":\"DarkOrange\"},\"size\":{\"value\":10},\"x\":{\"field\":\"x\"},\"y\":{\"field\":\"y\"}},\"id\":\"1522\",\"type\":\"Circle\"},{\"attributes\":{},\"id\":\"1576\",\"type\":\"AllLabels\"},{\"attributes\":{},\"id\":\"1577\",\"type\":\"BasicTickFormatter\"},{\"attributes\":{\"children\":[[{\"id\":\"1417\"},0,0],[{\"id\":\"1450\"},0,1],[{\"id\":\"1483\"},1,0]]},\"id\":\"2073\",\"type\":\"GridBox\"}],\"root_ids\":[\"2076\"]},\"title\":\"Bokeh Application\",\"version\":\"2.3.2\"}};\n",
       "  var render_items = [{\"docid\":\"3ce8a1af-4ed9-463d-936f-fd1a8a399163\",\"root_ids\":[\"2076\"],\"roots\":{\"2076\":\"0070dce0-1647-408d-8dbc-acb4426b9fd4\"}}];\n",
       "  root.Bokeh.embed.embed_items_notebook(docs_json, render_items);\n",
       "\n",
       "  }\n",
       "  if (root.Bokeh !== undefined) {\n",
       "    embed_document(root);\n",
       "  } else {\n",
       "    var attempts = 0;\n",
       "    var timer = setInterval(function(root) {\n",
       "      if (root.Bokeh !== undefined) {\n",
       "        clearInterval(timer);\n",
       "        embed_document(root);\n",
       "      } else {\n",
       "        attempts++;\n",
       "        if (attempts > 100) {\n",
       "          clearInterval(timer);\n",
       "          console.log(\"Bokeh: ERROR: Unable to run BokehJS code because BokehJS library is missing\");\n",
       "        }\n",
       "      }\n",
       "    }, 10, root)\n",
       "  }\n",
       "})(window);"
      ],
      "application/vnd.bokehjs_exec.v0+json": ""
     },
     "metadata": {
      "application/vnd.bokehjs_exec.v0+json": {
       "id": "2076"
      }
     },
     "output_type": "display_data"
    }
   ],
   "source": [
    "layout=gridplot([p1, p2, p3], ncols=2)\n",
    "show(layout)"
   ]
  },
  {
   "cell_type": "markdown",
   "metadata": {},
   "source": [
    "You can also pass in `plot_width` and `plot_height` arguments. These dimensions will then apply to all your plots.\n",
    "\n",
    "By default, `gridplot()` merges all child plot tools into a single parent grid toolbar. To disable this behavior, set `merge_tools` to `False`."
   ]
  },
  {
   "cell_type": "markdown",
   "metadata": {},
   "source": [
    "### Tabbed layouts"
   ]
  },
  {
   "cell_type": "code",
   "execution_count": 18,
   "metadata": {},
   "outputs": [],
   "source": [
    "from bokeh.models import Panel, Tabs"
   ]
  },
  {
   "cell_type": "code",
   "execution_count": 19,
   "metadata": {},
   "outputs": [
    {
     "data": {
      "text/html": [
       "\n",
       "\n",
       "\n",
       "\n",
       "\n",
       "\n",
       "  <div class=\"bk-root\" id=\"324e14dd-c837-4898-93cb-b4ebfe240668\" data-root-id=\"2360\"></div>\n"
      ]
     },
     "metadata": {},
     "output_type": "display_data"
    },
    {
     "data": {
      "application/javascript": [
       "(function(root) {\n",
       "  function embed_document(root) {\n",
       "    \n",
       "  var docs_json = {\"e6d88a11-9b0f-4be5-9151-db5eef0167a7\":{\"defs\":[],\"roots\":{\"references\":[{\"attributes\":{\"tabs\":[{\"id\":\"2357\"},{\"id\":\"2358\"},{\"id\":\"2359\"}]},\"id\":\"2360\",\"type\":\"Tabs\"},{\"attributes\":{},\"id\":\"1591\",\"type\":\"AllLabels\"},{\"attributes\":{\"formatter\":{\"id\":\"1589\"},\"major_label_policy\":{\"id\":\"1588\"},\"ticker\":{\"id\":\"1466\"}},\"id\":\"1465\",\"type\":\"LinearAxis\"},{\"attributes\":{},\"id\":\"1459\",\"type\":\"LinearScale\"},{\"attributes\":{},\"id\":\"1592\",\"type\":\"BasicTickFormatter\"},{\"attributes\":{},\"id\":\"1453\",\"type\":\"DataRange1d\"},{\"attributes\":{\"text\":\"Africa continent\"},\"id\":\"1484\",\"type\":\"Title\"},{\"attributes\":{},\"id\":\"1579\",\"type\":\"AllLabels\"},{\"attributes\":{},\"id\":\"1455\",\"type\":\"DataRange1d\"},{\"attributes\":{},\"id\":\"1474\",\"type\":\"HelpTool\"},{\"attributes\":{},\"id\":\"1457\",\"type\":\"LinearScale\"},{\"attributes\":{},\"id\":\"1580\",\"type\":\"BasicTickFormatter\"},{\"attributes\":{\"formatter\":{\"id\":\"1592\"},\"major_label_policy\":{\"id\":\"1591\"},\"ticker\":{\"id\":\"1462\"}},\"id\":\"1461\",\"type\":\"LinearAxis\"},{\"attributes\":{},\"id\":\"1462\",\"type\":\"BasicTicker\"},{\"attributes\":{\"formatter\":{\"id\":\"1586\"},\"major_label_policy\":{\"id\":\"1585\"},\"ticker\":{\"id\":\"1429\"}},\"id\":\"1428\",\"type\":\"LinearAxis\"},{\"attributes\":{\"axis\":{\"id\":\"1461\"},\"ticker\":null},\"id\":\"1464\",\"type\":\"Grid\"},{\"attributes\":{\"axis\":{\"id\":\"1465\"},\"dimension\":1,\"ticker\":null},\"id\":\"1468\",\"type\":\"Grid\"},{\"attributes\":{},\"id\":\"1466\",\"type\":\"BasicTicker\"},{\"attributes\":{},\"id\":\"1582\",\"type\":\"AllLabels\"},{\"attributes\":{},\"id\":\"1429\",\"type\":\"BasicTicker\"},{\"attributes\":{},\"id\":\"1470\",\"type\":\"WheelZoomTool\"},{\"attributes\":{},\"id\":\"1469\",\"type\":\"PanTool\"},{\"attributes\":{\"overlay\":{\"id\":\"1475\"}},\"id\":\"1471\",\"type\":\"BoxZoomTool\"},{\"attributes\":{},\"id\":\"1472\",\"type\":\"SaveTool\"},{\"attributes\":{},\"id\":\"1583\",\"type\":\"BasicTickFormatter\"},{\"attributes\":{},\"id\":\"1473\",\"type\":\"ResetTool\"},{\"attributes\":{\"axis\":{\"id\":\"1428\"},\"ticker\":null},\"id\":\"1431\",\"type\":\"Grid\"},{\"attributes\":{},\"id\":\"1595\",\"type\":\"UnionRenderers\"},{\"attributes\":{},\"id\":\"1594\",\"type\":\"Selection\"},{\"attributes\":{\"bottom_units\":\"screen\",\"fill_alpha\":0.5,\"fill_color\":\"lightgrey\",\"left_units\":\"screen\",\"level\":\"overlay\",\"line_alpha\":1.0,\"line_color\":\"black\",\"line_dash\":[4,4],\"line_width\":2,\"right_units\":\"screen\",\"syncable\":false,\"top_units\":\"screen\"},\"id\":\"1508\",\"type\":\"BoxAnnotation\"},{\"attributes\":{},\"id\":\"1426\",\"type\":\"LinearScale\"},{\"attributes\":{},\"id\":\"1495\",\"type\":\"BasicTicker\"},{\"attributes\":{},\"id\":\"1492\",\"type\":\"LinearScale\"},{\"attributes\":{},\"id\":\"1585\",\"type\":\"AllLabels\"},{\"attributes\":{\"bottom_units\":\"screen\",\"fill_alpha\":0.5,\"fill_color\":\"lightgrey\",\"left_units\":\"screen\",\"level\":\"overlay\",\"line_alpha\":1.0,\"line_color\":\"black\",\"line_dash\":[4,4],\"line_width\":2,\"right_units\":\"screen\",\"syncable\":false,\"top_units\":\"screen\"},\"id\":\"1475\",\"type\":\"BoxAnnotation\"},{\"attributes\":{},\"id\":\"1586\",\"type\":\"BasicTickFormatter\"},{\"attributes\":{\"active_multi\":null,\"tools\":[{\"id\":\"1469\"},{\"id\":\"1470\"},{\"id\":\"1471\"},{\"id\":\"1472\"},{\"id\":\"1473\"},{\"id\":\"1474\"}]},\"id\":\"1476\",\"type\":\"Toolbar\"},{\"attributes\":{},\"id\":\"1588\",\"type\":\"AllLabels\"},{\"attributes\":{},\"id\":\"1490\",\"type\":\"LinearScale\"},{\"attributes\":{},\"id\":\"1589\",\"type\":\"BasicTickFormatter\"},{\"attributes\":{},\"id\":\"1598\",\"type\":\"UnionRenderers\"},{\"attributes\":{},\"id\":\"1597\",\"type\":\"Selection\"},{\"attributes\":{\"axis\":{\"id\":\"1494\"},\"ticker\":null},\"id\":\"1497\",\"type\":\"Grid\"},{\"attributes\":{\"formatter\":{\"id\":\"1580\"},\"major_label_policy\":{\"id\":\"1579\"},\"ticker\":{\"id\":\"1495\"}},\"id\":\"1494\",\"type\":\"LinearAxis\"},{\"attributes\":{},\"id\":\"1486\",\"type\":\"DataRange1d\"},{\"attributes\":{},\"id\":\"1488\",\"type\":\"DataRange1d\"},{\"attributes\":{\"formatter\":{\"id\":\"1577\"},\"major_label_policy\":{\"id\":\"1576\"},\"ticker\":{\"id\":\"1499\"}},\"id\":\"1498\",\"type\":\"LinearAxis\"},{\"attributes\":{\"axis\":{\"id\":\"1498\"},\"dimension\":1,\"ticker\":null},\"id\":\"1501\",\"type\":\"Grid\"},{\"attributes\":{},\"id\":\"1507\",\"type\":\"HelpTool\"},{\"attributes\":{},\"id\":\"1499\",\"type\":\"BasicTicker\"},{\"attributes\":{},\"id\":\"1503\",\"type\":\"WheelZoomTool\"},{\"attributes\":{},\"id\":\"1502\",\"type\":\"PanTool\"},{\"attributes\":{\"overlay\":{\"id\":\"1508\"}},\"id\":\"1504\",\"type\":\"BoxZoomTool\"},{\"attributes\":{},\"id\":\"1505\",\"type\":\"SaveTool\"},{\"attributes\":{},\"id\":\"1506\",\"type\":\"ResetTool\"},{\"attributes\":{\"source\":{\"id\":\"1521\"}},\"id\":\"1525\",\"type\":\"CDSView\"},{\"attributes\":{\"child\":{\"id\":\"1450\"},\"title\":\"Europe\"},\"id\":\"2358\",\"type\":\"Panel\"},{\"attributes\":{\"below\":[{\"id\":\"1461\"}],\"center\":[{\"id\":\"1464\"},{\"id\":\"1468\"}],\"height\":300,\"left\":[{\"id\":\"1465\"}],\"renderers\":[{\"id\":\"1524\"}],\"title\":{\"id\":\"1451\"},\"toolbar\":{\"id\":\"1476\"},\"toolbar_location\":null,\"width\":300,\"x_range\":{\"id\":\"1453\"},\"x_scale\":{\"id\":\"1457\"},\"y_range\":{\"id\":\"1455\"},\"y_scale\":{\"id\":\"1459\"}},\"id\":\"1450\",\"subtype\":\"Figure\",\"type\":\"Plot\"},{\"attributes\":{},\"id\":\"1601\",\"type\":\"UnionRenderers\"},{\"attributes\":{\"text\":\"Europe continent\"},\"id\":\"1451\",\"type\":\"Title\"},{\"attributes\":{\"below\":[{\"id\":\"1428\"}],\"center\":[{\"id\":\"1431\"},{\"id\":\"1435\"}],\"height\":300,\"left\":[{\"id\":\"1432\"}],\"renderers\":[{\"id\":\"1519\"}],\"title\":{\"id\":\"1418\"},\"toolbar\":{\"id\":\"1443\"},\"toolbar_location\":null,\"width\":300,\"x_range\":{\"id\":\"1420\"},\"x_scale\":{\"id\":\"1424\"},\"y_range\":{\"id\":\"1422\"},\"y_scale\":{\"id\":\"1426\"}},\"id\":\"1417\",\"subtype\":\"Figure\",\"type\":\"Plot\"},{\"attributes\":{\"child\":{\"id\":\"1417\"},\"title\":\"Asia\"},\"id\":\"2357\",\"type\":\"Panel\"},{\"attributes\":{},\"id\":\"1600\",\"type\":\"Selection\"},{\"attributes\":{\"child\":{\"id\":\"1483\"},\"title\":\"Africa\"},\"id\":\"2359\",\"type\":\"Panel\"},{\"attributes\":{\"below\":[{\"id\":\"1494\"}],\"center\":[{\"id\":\"1497\"},{\"id\":\"1501\"}],\"height\":300,\"left\":[{\"id\":\"1498\"}],\"renderers\":[{\"id\":\"1529\"}],\"title\":{\"id\":\"1484\"},\"toolbar\":{\"id\":\"1509\"},\"toolbar_location\":null,\"width\":300,\"x_range\":{\"id\":\"1486\"},\"x_scale\":{\"id\":\"1490\"},\"y_range\":{\"id\":\"1488\"},\"y_scale\":{\"id\":\"1492\"}},\"id\":\"1483\",\"subtype\":\"Figure\",\"type\":\"Plot\"},{\"attributes\":{\"text\":\"Asia continent\"},\"id\":\"1418\",\"type\":\"Title\"},{\"attributes\":{\"fill_color\":{\"value\":\"firebrick\"},\"line_color\":{\"value\":\"firebrick\"},\"size\":{\"value\":10},\"x\":{\"field\":\"x\"},\"y\":{\"field\":\"y\"}},\"id\":\"1517\",\"type\":\"Circle\"},{\"attributes\":{\"fill_alpha\":{\"value\":0.1},\"fill_color\":{\"value\":\"firebrick\"},\"line_alpha\":{\"value\":0.1},\"line_color\":{\"value\":\"firebrick\"},\"size\":{\"value\":10},\"x\":{\"field\":\"x\"},\"y\":{\"field\":\"y\"}},\"id\":\"1518\",\"type\":\"Circle\"},{\"attributes\":{},\"id\":\"1420\",\"type\":\"DataRange1d\"},{\"attributes\":{\"axis\":{\"id\":\"1432\"},\"dimension\":1,\"ticker\":null},\"id\":\"1435\",\"type\":\"Grid\"},{\"attributes\":{\"fill_color\":{\"value\":\"DarkBlue\"},\"line_color\":{\"value\":\"DarkBlue\"},\"size\":{\"value\":10},\"x\":{\"field\":\"x\"},\"y\":{\"field\":\"y\"}},\"id\":\"1527\",\"type\":\"Circle\"},{\"attributes\":{},\"id\":\"1422\",\"type\":\"DataRange1d\"},{\"attributes\":{\"data\":{\"x\":{\"__ndarray__\":\"/tR46SaxFEC6SQwCK4cGQPLSTWIQ2BRAbxKDwMqhF0AK16NwPQoEQBSuR+F6FBZACKwcWmQ7EEBWDi2ynW8TQCPb+X5qvAJAarx0kxgEGUB56SYxCKwCQOF6FK5H4RBAke18PzXeE0B1kxgEVg4SQHsUrkfhehJARIts5/spEkA/NV66SYwWQHe+nxovXRdAUrgehevRFUAtsp3vp0YcQB+F61G4nhVAppvEILDyFkCBlUOLbOcKQI/C9ShcjxNAbef7qfFSGEDb+X5qvHT9PzeJQWDlUBVAUrgehetRFUBQjZduEoMVQM3MzMzMzBFARIts5/upEECJQWDl0CIFQClcj8L1qBRA6SYxCKwcEkB9PzVeuskSQCUGgZVDCxRAWmQ730+NEUBSuB6F61EKQOkmMQisHApA+n5qvHSTBkDHSzeJQeATQIlBYOXQohZA7FG4HoXrCUB56SYxCKz8P5qZmZmZmQtAbxKDwMohFUAUrkfhehQPQOf7qfHSTQVAWDm0yHa+DUA=\",\"dtype\":\"float64\",\"order\":\"little\",\"shape\":[49]},\"y\":{\"__ndarray__\":\"ZmZmZmZmSEBmZmZmZuZMQM3MzMzMzDZAzczMzMwMTEBmZmZmZgZWQDMzMzMzk1BAzczMzMzMTUAzMzMzM7NUQDMzMzMz809AMzMzMzOzUEDNzMzMzAxGQGZmZmZmpk1AzczMzMwMREBmZmZmZiZGQDMzMzMzU1BAMzMzMzPzUEAAAAAAAIBMQJqZmZmZmTVAMzMzMzNzUEAzMzMzMzMuQDMzMzMzMzJAAAAAAACATkAzMzMzMzNWQAAAAAAAgEBAZmZmZmbmNUAAAAAAAMBRQGZmZmZmZjpAZmZmZmaGUECamZmZmRk8QDMzMzMz801AmpmZmZnZSkAzMzMzM1NUQGZmZmZm5jxAAAAAAABAS0DNzMzMzIxEQAAAAAAAgEpAAAAAAADASEDNzMzMzOxVQGZmZmZmxldAAAAAAADgVEBmZmZmZiZBQAAAAAAAQEJAzczMzMzMVEAzMzMzMzNVQGZmZmZmZlVAZmZmZmZGVkAzMzMzM/NQQDMzMzMz01NAMzMzMzPTVEA=\",\"dtype\":\"float64\",\"order\":\"little\",\"shape\":[49]}},\"selected\":{\"id\":\"1594\"},\"selection_policy\":{\"id\":\"1595\"}},\"id\":\"1526\",\"type\":\"ColumnDataSource\"},{\"attributes\":{},\"id\":\"1424\",\"type\":\"LinearScale\"},{\"attributes\":{\"fill_alpha\":{\"value\":0.1},\"fill_color\":{\"value\":\"DarkBlue\"},\"line_alpha\":{\"value\":0.1},\"line_color\":{\"value\":\"DarkBlue\"},\"size\":{\"value\":10},\"x\":{\"field\":\"x\"},\"y\":{\"field\":\"y\"}},\"id\":\"1528\",\"type\":\"Circle\"},{\"attributes\":{},\"id\":\"1441\",\"type\":\"HelpTool\"},{\"attributes\":{\"source\":{\"id\":\"1526\"}},\"id\":\"1530\",\"type\":\"CDSView\"},{\"attributes\":{\"formatter\":{\"id\":\"1583\"},\"major_label_policy\":{\"id\":\"1582\"},\"ticker\":{\"id\":\"1433\"}},\"id\":\"1432\",\"type\":\"LinearAxis\"},{\"attributes\":{},\"id\":\"1433\",\"type\":\"BasicTicker\"},{\"attributes\":{\"data\":{\"x\":{\"__ndarray__\":\"5/up8dJN/D/b+X5qvHQFQHWTGARWDgFAYOXQItv5DkDn+6nx0k0CQP7UeOkmMfQ/aJHtfD81CEDdJAaBlUMAQM3MzMzMzABA5dAi2/l+/D/0/dR46Sb9P3Noke18PwJAL90kBoGV8z/jpZvEILAPQIXrUbgeBRpAL90kBoGVBkCWQ4ts5/sBQKrx0k1iEARAUrgehetRCEBEi2zn+6n9P2ZmZmZmZhRA/Knx0k1iCUAQWDm0yHYCQCcxCKwcWgJArBxaZDvfBkDTTWIQWDkBQGq8dJMYBAZAzczMzMzMCkBSuB6F61ELQPT91HjpJghAvp8aL90kBEBxPQrXo3ADQGiR7Xw/NfQ//Knx0k1i/j8dWmQ730/5P9v5fmq8dP0/K4cW2c73+z9t5/up8dIHQJ7vp8ZLNwFAAiuHFtnO/z/hehSuR+ECQHe+nxov3QFAGy/dJAaBBEC28/3UeOnuP9Ei2/l+agBAAAAAAAAAAEAGgZVDi2wPQA==\",\"dtype\":\"float64\",\"order\":\"little\",\"shape\":[47]},\"y\":{\"__ndarray__\":\"AAAAAACgVkBmZmZmZmZJQDMzMzMzM1ZAAAAAAAAAREBmZmZmZuZIQAAAAAAAwFhAmpmZmZl5V0DNzMzMzIxWQDMzMzMzU1RAzczMzMxMU0AAAAAAAOBWQM3MzMzMTFZAZmZmZmYmWEDNzMzMzExRQDMzMzMzMylAMzMzMzOzRkCamZmZmblYQDMzMzMzc1ZAzczMzMwMVEAAAAAAAABZQGZmZmZmZkVAzczMzMxMU0BmZmZmZkZWQAAAAAAA4FhAmpmZmZm5UUDNzMzMzMxYQJqZmZmZ+VdAAAAAAADgWECamZmZmZlPQJqZmZmZOVZAZmZmZmbGWEAzMzMzM9NYQGZmZmZm5lZAAAAAAADgVkDNzMzMzOxYQAAAAAAAgFVAmpmZmZnZWECamZmZmTlUQGZmZmZmRldAMzMzMzNzWECamZmZmZlWQJqZmZmZWVZAmpmZmZlZQ0DNzMzMzKxWQDMzMzMzU1dAmpmZmZmZWEBmZmZmZsZYQA==\",\"dtype\":\"float64\",\"order\":\"little\",\"shape\":[47]}},\"selected\":{\"id\":\"1597\"},\"selection_policy\":{\"id\":\"1598\"}},\"id\":\"1516\",\"type\":\"ColumnDataSource\"},{\"attributes\":{\"data_source\":{\"id\":\"1526\"},\"glyph\":{\"id\":\"1527\"},\"hover_glyph\":null,\"muted_glyph\":null,\"nonselection_glyph\":{\"id\":\"1528\"},\"view\":{\"id\":\"1530\"}},\"id\":\"1529\",\"type\":\"GlyphRenderer\"},{\"attributes\":{\"active_multi\":null,\"tools\":[{\"id\":\"1436\"},{\"id\":\"1437\"},{\"id\":\"1438\"},{\"id\":\"1439\"},{\"id\":\"1440\"},{\"id\":\"1441\"}]},\"id\":\"1443\",\"type\":\"Toolbar\"},{\"attributes\":{},\"id\":\"1437\",\"type\":\"WheelZoomTool\"},{\"attributes\":{},\"id\":\"1436\",\"type\":\"PanTool\"},{\"attributes\":{\"overlay\":{\"id\":\"1442\"}},\"id\":\"1438\",\"type\":\"BoxZoomTool\"},{\"attributes\":{},\"id\":\"1439\",\"type\":\"SaveTool\"},{\"attributes\":{},\"id\":\"1440\",\"type\":\"ResetTool\"},{\"attributes\":{\"data_source\":{\"id\":\"1521\"},\"glyph\":{\"id\":\"1522\"},\"hover_glyph\":null,\"muted_glyph\":null,\"nonselection_glyph\":{\"id\":\"1523\"},\"view\":{\"id\":\"1525\"}},\"id\":\"1524\",\"type\":\"GlyphRenderer\"},{\"attributes\":{\"fill_alpha\":{\"value\":0.1},\"fill_color\":{\"value\":\"DarkOrange\"},\"line_alpha\":{\"value\":0.1},\"line_color\":{\"value\":\"DarkOrange\"},\"size\":{\"value\":10},\"x\":{\"field\":\"x\"},\"y\":{\"field\":\"y\"}},\"id\":\"1523\",\"type\":\"Circle\"},{\"attributes\":{\"data_source\":{\"id\":\"1516\"},\"glyph\":{\"id\":\"1517\"},\"hover_glyph\":null,\"muted_glyph\":null,\"nonselection_glyph\":{\"id\":\"1518\"},\"view\":{\"id\":\"1520\"}},\"id\":\"1519\",\"type\":\"GlyphRenderer\"},{\"attributes\":{\"source\":{\"id\":\"1516\"}},\"id\":\"1520\",\"type\":\"CDSView\"},{\"attributes\":{\"data\":{\"x\":{\"__ndarray__\":\"fT81XrpJ9j/Jdr6fGi/1P39qvHSTGP4/bxKDwMqh/T89CtejcD32Py2yne+nxvU/sHJoke189z8Sg8DKoUX0PzMzMzMzM/U/wcqhRbbz+z8pXI/C9Sj2PyUGgZVDi/w/PzVeukkM9j8zMzMzMzP3P+xRuB6F6/U/5dAi2/l+9D9WDi2yne/9P1yPwvUoXPc/YOXQItv59j+YbhKDwMr5Py/dJAaBlf0/x0s3iUFg/T8pXI/C9Sj+P99PjZduEvc/c2iR7Xw//z8xCKwcWmTzP9V46SYxCPg/rBxaZDvf9T9Ei2zn+6n9PzeJQWDl0PY/YOXQItv59j99PzVeukn2P0oMAiuHFvs/qMZLN4lB+D9qvHSTGAT0P1g5tMh2vgBA\",\"dtype\":\"float64\",\"order\":\"little\",\"shape\":[36]},\"y\":{\"__ndarray__\":\"mpmZmZnZWEAAAAAAAMBYQAAAAAAAwFhAAAAAAADAWEAAAAAAAKBYQGZmZmZm5lhAmpmZmZk5WEAzMzMzM9NYQJqZmZmZOVhAAAAAAADAWECamZmZmflXQAAAAAAAwFhAmpmZmZk5V0AAAAAAAMBYQJqZmZmZuVhAzczMzMzsWEAAAAAAAMBYQAAAAAAAwFhAmpmZmZl5WEDNzMzMzAxYQAAAAAAAwFhAAAAAAAAAWUAAAAAAAABZQAAAAAAAgFhAAAAAAADAWECamZmZmflXQDMzMzMzc1hAzczMzMzsWEDNzMzMzKxYQDMzMzMz81hAmpmZmZnZV0DNzMzMzOxYQDMzMzMz81hAzczMzMwsWEAAAAAAAGBXQAAAAAAAwFhA\",\"dtype\":\"float64\",\"order\":\"little\",\"shape\":[36]}},\"selected\":{\"id\":\"1600\"},\"selection_policy\":{\"id\":\"1601\"}},\"id\":\"1521\",\"type\":\"ColumnDataSource\"},{\"attributes\":{\"active_multi\":null,\"tools\":[{\"id\":\"1502\"},{\"id\":\"1503\"},{\"id\":\"1504\"},{\"id\":\"1505\"},{\"id\":\"1506\"},{\"id\":\"1507\"}]},\"id\":\"1509\",\"type\":\"Toolbar\"},{\"attributes\":{\"bottom_units\":\"screen\",\"fill_alpha\":0.5,\"fill_color\":\"lightgrey\",\"left_units\":\"screen\",\"level\":\"overlay\",\"line_alpha\":1.0,\"line_color\":\"black\",\"line_dash\":[4,4],\"line_width\":2,\"right_units\":\"screen\",\"syncable\":false,\"top_units\":\"screen\"},\"id\":\"1442\",\"type\":\"BoxAnnotation\"},{\"attributes\":{\"fill_color\":{\"value\":\"DarkOrange\"},\"line_color\":{\"value\":\"DarkOrange\"},\"size\":{\"value\":10},\"x\":{\"field\":\"x\"},\"y\":{\"field\":\"y\"}},\"id\":\"1522\",\"type\":\"Circle\"},{\"attributes\":{},\"id\":\"1576\",\"type\":\"AllLabels\"},{\"attributes\":{},\"id\":\"1577\",\"type\":\"BasicTickFormatter\"}],\"root_ids\":[\"2360\"]},\"title\":\"Bokeh Application\",\"version\":\"2.3.2\"}};\n",
       "  var render_items = [{\"docid\":\"e6d88a11-9b0f-4be5-9151-db5eef0167a7\",\"root_ids\":[\"2360\"],\"roots\":{\"2360\":\"324e14dd-c837-4898-93cb-b4ebfe240668\"}}];\n",
       "  root.Bokeh.embed.embed_items_notebook(docs_json, render_items);\n",
       "\n",
       "  }\n",
       "  if (root.Bokeh !== undefined) {\n",
       "    embed_document(root);\n",
       "  } else {\n",
       "    var attempts = 0;\n",
       "    var timer = setInterval(function(root) {\n",
       "      if (root.Bokeh !== undefined) {\n",
       "        clearInterval(timer);\n",
       "        embed_document(root);\n",
       "      } else {\n",
       "        attempts++;\n",
       "        if (attempts > 100) {\n",
       "          clearInterval(timer);\n",
       "          console.log(\"Bokeh: ERROR: Unable to run BokehJS code because BokehJS library is missing\");\n",
       "        }\n",
       "      }\n",
       "    }, 10, root)\n",
       "  }\n",
       "})(window);"
      ],
      "application/vnd.bokehjs_exec.v0+json": ""
     },
     "metadata": {
      "application/vnd.bokehjs_exec.v0+json": {
       "id": "2360"
      }
     },
     "output_type": "display_data"
    }
   ],
   "source": [
    "tab1=Panel(child=p1, title=\"Asia\")\n",
    "tab2=Panel(child=p2, title=\"Europe\")\n",
    "tab3=Panel(child=p3, title=\"Africa\")\n",
    "layout=Tabs(tabs=[tab1, tab2, tab3])\n",
    "show(layout)"
   ]
  },
  {
   "cell_type": "code",
   "execution_count": 20,
   "metadata": {},
   "outputs": [
    {
     "data": {
      "text/html": [
       "\n",
       "\n",
       "\n",
       "\n",
       "\n",
       "\n",
       "  <div class=\"bk-root\" id=\"60a42eb4-fb4f-40aa-a720-06f5222c2e01\" data-root-id=\"2676\"></div>\n"
      ]
     },
     "metadata": {},
     "output_type": "display_data"
    },
    {
     "data": {
      "application/javascript": [
       "(function(root) {\n",
       "  function embed_document(root) {\n",
       "    \n",
       "  var docs_json = {\"2cbf815b-2093-47ca-a9ae-c7168a9ea481\":{\"defs\":[],\"roots\":{\"references\":[{\"attributes\":{\"tabs\":[{\"id\":\"2672\"},{\"id\":\"2674\"},{\"id\":\"2675\"}]},\"id\":\"2676\",\"type\":\"Tabs\"},{\"attributes\":{},\"id\":\"1591\",\"type\":\"AllLabels\"},{\"attributes\":{\"formatter\":{\"id\":\"1589\"},\"major_label_policy\":{\"id\":\"1588\"},\"ticker\":{\"id\":\"1466\"}},\"id\":\"1465\",\"type\":\"LinearAxis\"},{\"attributes\":{},\"id\":\"1459\",\"type\":\"LinearScale\"},{\"attributes\":{},\"id\":\"1592\",\"type\":\"BasicTickFormatter\"},{\"attributes\":{},\"id\":\"1453\",\"type\":\"DataRange1d\"},{\"attributes\":{\"text\":\"Africa continent\"},\"id\":\"1484\",\"type\":\"Title\"},{\"attributes\":{},\"id\":\"1579\",\"type\":\"AllLabels\"},{\"attributes\":{},\"id\":\"1455\",\"type\":\"DataRange1d\"},{\"attributes\":{},\"id\":\"1474\",\"type\":\"HelpTool\"},{\"attributes\":{},\"id\":\"1457\",\"type\":\"LinearScale\"},{\"attributes\":{},\"id\":\"1580\",\"type\":\"BasicTickFormatter\"},{\"attributes\":{\"formatter\":{\"id\":\"1592\"},\"major_label_policy\":{\"id\":\"1591\"},\"ticker\":{\"id\":\"1462\"}},\"id\":\"1461\",\"type\":\"LinearAxis\"},{\"attributes\":{},\"id\":\"1462\",\"type\":\"BasicTicker\"},{\"attributes\":{\"formatter\":{\"id\":\"1586\"},\"major_label_policy\":{\"id\":\"1585\"},\"ticker\":{\"id\":\"1429\"}},\"id\":\"1428\",\"type\":\"LinearAxis\"},{\"attributes\":{\"axis\":{\"id\":\"1461\"},\"ticker\":null},\"id\":\"1464\",\"type\":\"Grid\"},{\"attributes\":{\"axis\":{\"id\":\"1465\"},\"dimension\":1,\"ticker\":null},\"id\":\"1468\",\"type\":\"Grid\"},{\"attributes\":{},\"id\":\"1466\",\"type\":\"BasicTicker\"},{\"attributes\":{},\"id\":\"1582\",\"type\":\"AllLabels\"},{\"attributes\":{},\"id\":\"1429\",\"type\":\"BasicTicker\"},{\"attributes\":{},\"id\":\"1470\",\"type\":\"WheelZoomTool\"},{\"attributes\":{},\"id\":\"1469\",\"type\":\"PanTool\"},{\"attributes\":{\"overlay\":{\"id\":\"1475\"}},\"id\":\"1471\",\"type\":\"BoxZoomTool\"},{\"attributes\":{},\"id\":\"1472\",\"type\":\"SaveTool\"},{\"attributes\":{},\"id\":\"1583\",\"type\":\"BasicTickFormatter\"},{\"attributes\":{},\"id\":\"1473\",\"type\":\"ResetTool\"},{\"attributes\":{\"axis\":{\"id\":\"1428\"},\"ticker\":null},\"id\":\"1431\",\"type\":\"Grid\"},{\"attributes\":{},\"id\":\"1595\",\"type\":\"UnionRenderers\"},{\"attributes\":{},\"id\":\"1594\",\"type\":\"Selection\"},{\"attributes\":{\"bottom_units\":\"screen\",\"fill_alpha\":0.5,\"fill_color\":\"lightgrey\",\"left_units\":\"screen\",\"level\":\"overlay\",\"line_alpha\":1.0,\"line_color\":\"black\",\"line_dash\":[4,4],\"line_width\":2,\"right_units\":\"screen\",\"syncable\":false,\"top_units\":\"screen\"},\"id\":\"1508\",\"type\":\"BoxAnnotation\"},{\"attributes\":{},\"id\":\"1426\",\"type\":\"LinearScale\"},{\"attributes\":{},\"id\":\"1495\",\"type\":\"BasicTicker\"},{\"attributes\":{},\"id\":\"1492\",\"type\":\"LinearScale\"},{\"attributes\":{},\"id\":\"1585\",\"type\":\"AllLabels\"},{\"attributes\":{\"bottom_units\":\"screen\",\"fill_alpha\":0.5,\"fill_color\":\"lightgrey\",\"left_units\":\"screen\",\"level\":\"overlay\",\"line_alpha\":1.0,\"line_color\":\"black\",\"line_dash\":[4,4],\"line_width\":2,\"right_units\":\"screen\",\"syncable\":false,\"top_units\":\"screen\"},\"id\":\"1475\",\"type\":\"BoxAnnotation\"},{\"attributes\":{},\"id\":\"1586\",\"type\":\"BasicTickFormatter\"},{\"attributes\":{\"active_multi\":null,\"tools\":[{\"id\":\"1469\"},{\"id\":\"1470\"},{\"id\":\"1471\"},{\"id\":\"1472\"},{\"id\":\"1473\"},{\"id\":\"1474\"}]},\"id\":\"1476\",\"type\":\"Toolbar\"},{\"attributes\":{},\"id\":\"1588\",\"type\":\"AllLabels\"},{\"attributes\":{},\"id\":\"1490\",\"type\":\"LinearScale\"},{\"attributes\":{},\"id\":\"1589\",\"type\":\"BasicTickFormatter\"},{\"attributes\":{},\"id\":\"1598\",\"type\":\"UnionRenderers\"},{\"attributes\":{},\"id\":\"1597\",\"type\":\"Selection\"},{\"attributes\":{\"axis\":{\"id\":\"1494\"},\"ticker\":null},\"id\":\"1497\",\"type\":\"Grid\"},{\"attributes\":{\"formatter\":{\"id\":\"1580\"},\"major_label_policy\":{\"id\":\"1579\"},\"ticker\":{\"id\":\"1495\"}},\"id\":\"1494\",\"type\":\"LinearAxis\"},{\"attributes\":{},\"id\":\"1486\",\"type\":\"DataRange1d\"},{\"attributes\":{},\"id\":\"1488\",\"type\":\"DataRange1d\"},{\"attributes\":{\"formatter\":{\"id\":\"1577\"},\"major_label_policy\":{\"id\":\"1576\"},\"ticker\":{\"id\":\"1499\"}},\"id\":\"1498\",\"type\":\"LinearAxis\"},{\"attributes\":{\"axis\":{\"id\":\"1498\"},\"dimension\":1,\"ticker\":null},\"id\":\"1501\",\"type\":\"Grid\"},{\"attributes\":{},\"id\":\"1507\",\"type\":\"HelpTool\"},{\"attributes\":{},\"id\":\"1499\",\"type\":\"BasicTicker\"},{\"attributes\":{},\"id\":\"1503\",\"type\":\"WheelZoomTool\"},{\"attributes\":{},\"id\":\"1502\",\"type\":\"PanTool\"},{\"attributes\":{\"overlay\":{\"id\":\"1508\"}},\"id\":\"1504\",\"type\":\"BoxZoomTool\"},{\"attributes\":{},\"id\":\"1505\",\"type\":\"SaveTool\"},{\"attributes\":{},\"id\":\"1506\",\"type\":\"ResetTool\"},{\"attributes\":{\"source\":{\"id\":\"1521\"}},\"id\":\"1525\",\"type\":\"CDSView\"},{\"attributes\":{\"below\":[{\"id\":\"1461\"}],\"center\":[{\"id\":\"1464\"},{\"id\":\"1468\"}],\"height\":300,\"left\":[{\"id\":\"1465\"}],\"renderers\":[{\"id\":\"1524\"}],\"title\":{\"id\":\"1451\"},\"toolbar\":{\"id\":\"1476\"},\"toolbar_location\":null,\"width\":300,\"x_range\":{\"id\":\"1453\"},\"x_scale\":{\"id\":\"1457\"},\"y_range\":{\"id\":\"1455\"},\"y_scale\":{\"id\":\"1459\"}},\"id\":\"1450\",\"subtype\":\"Figure\",\"type\":\"Plot\"},{\"attributes\":{},\"id\":\"1601\",\"type\":\"UnionRenderers\"},{\"attributes\":{\"text\":\"Europe continent\"},\"id\":\"1451\",\"type\":\"Title\"},{\"attributes\":{\"below\":[{\"id\":\"1428\"}],\"center\":[{\"id\":\"1431\"},{\"id\":\"1435\"}],\"height\":300,\"left\":[{\"id\":\"1432\"}],\"renderers\":[{\"id\":\"1519\"}],\"title\":{\"id\":\"1418\"},\"toolbar\":{\"id\":\"1443\"},\"toolbar_location\":null,\"width\":300,\"x_range\":{\"id\":\"1420\"},\"x_scale\":{\"id\":\"1424\"},\"y_range\":{\"id\":\"1422\"},\"y_scale\":{\"id\":\"1426\"}},\"id\":\"1417\",\"subtype\":\"Figure\",\"type\":\"Plot\"},{\"attributes\":{},\"id\":\"1600\",\"type\":\"Selection\"},{\"attributes\":{\"below\":[{\"id\":\"1494\"}],\"center\":[{\"id\":\"1497\"},{\"id\":\"1501\"}],\"height\":300,\"left\":[{\"id\":\"1498\"}],\"renderers\":[{\"id\":\"1529\"}],\"title\":{\"id\":\"1484\"},\"toolbar\":{\"id\":\"1509\"},\"toolbar_location\":null,\"width\":300,\"x_range\":{\"id\":\"1486\"},\"x_scale\":{\"id\":\"1490\"},\"y_range\":{\"id\":\"1488\"},\"y_scale\":{\"id\":\"1492\"}},\"id\":\"1483\",\"subtype\":\"Figure\",\"type\":\"Plot\"},{\"attributes\":{\"text\":\"Asia continent\"},\"id\":\"1418\",\"type\":\"Title\"},{\"attributes\":{\"fill_color\":{\"value\":\"firebrick\"},\"line_color\":{\"value\":\"firebrick\"},\"size\":{\"value\":10},\"x\":{\"field\":\"x\"},\"y\":{\"field\":\"y\"}},\"id\":\"1517\",\"type\":\"Circle\"},{\"attributes\":{\"fill_alpha\":{\"value\":0.1},\"fill_color\":{\"value\":\"firebrick\"},\"line_alpha\":{\"value\":0.1},\"line_color\":{\"value\":\"firebrick\"},\"size\":{\"value\":10},\"x\":{\"field\":\"x\"},\"y\":{\"field\":\"y\"}},\"id\":\"1518\",\"type\":\"Circle\"},{\"attributes\":{},\"id\":\"1420\",\"type\":\"DataRange1d\"},{\"attributes\":{\"axis\":{\"id\":\"1432\"},\"dimension\":1,\"ticker\":null},\"id\":\"1435\",\"type\":\"Grid\"},{\"attributes\":{\"fill_color\":{\"value\":\"DarkBlue\"},\"line_color\":{\"value\":\"DarkBlue\"},\"size\":{\"value\":10},\"x\":{\"field\":\"x\"},\"y\":{\"field\":\"y\"}},\"id\":\"1527\",\"type\":\"Circle\"},{\"attributes\":{},\"id\":\"1422\",\"type\":\"DataRange1d\"},{\"attributes\":{\"data\":{\"x\":{\"__ndarray__\":\"/tR46SaxFEC6SQwCK4cGQPLSTWIQ2BRAbxKDwMqhF0AK16NwPQoEQBSuR+F6FBZACKwcWmQ7EEBWDi2ynW8TQCPb+X5qvAJAarx0kxgEGUB56SYxCKwCQOF6FK5H4RBAke18PzXeE0B1kxgEVg4SQHsUrkfhehJARIts5/spEkA/NV66SYwWQHe+nxovXRdAUrgehevRFUAtsp3vp0YcQB+F61G4nhVAppvEILDyFkCBlUOLbOcKQI/C9ShcjxNAbef7qfFSGEDb+X5qvHT9PzeJQWDlUBVAUrgehetRFUBQjZduEoMVQM3MzMzMzBFARIts5/upEECJQWDl0CIFQClcj8L1qBRA6SYxCKwcEkB9PzVeuskSQCUGgZVDCxRAWmQ730+NEUBSuB6F61EKQOkmMQisHApA+n5qvHSTBkDHSzeJQeATQIlBYOXQohZA7FG4HoXrCUB56SYxCKz8P5qZmZmZmQtAbxKDwMohFUAUrkfhehQPQOf7qfHSTQVAWDm0yHa+DUA=\",\"dtype\":\"float64\",\"order\":\"little\",\"shape\":[49]},\"y\":{\"__ndarray__\":\"ZmZmZmZmSEBmZmZmZuZMQM3MzMzMzDZAzczMzMwMTEBmZmZmZgZWQDMzMzMzk1BAzczMzMzMTUAzMzMzM7NUQDMzMzMz809AMzMzMzOzUEDNzMzMzAxGQGZmZmZmpk1AzczMzMwMREBmZmZmZiZGQDMzMzMzU1BAMzMzMzPzUEAAAAAAAIBMQJqZmZmZmTVAMzMzMzNzUEAzMzMzMzMuQDMzMzMzMzJAAAAAAACATkAzMzMzMzNWQAAAAAAAgEBAZmZmZmbmNUAAAAAAAMBRQGZmZmZmZjpAZmZmZmaGUECamZmZmRk8QDMzMzMz801AmpmZmZnZSkAzMzMzM1NUQGZmZmZm5jxAAAAAAABAS0DNzMzMzIxEQAAAAAAAgEpAAAAAAADASEDNzMzMzOxVQGZmZmZmxldAAAAAAADgVEBmZmZmZiZBQAAAAAAAQEJAzczMzMzMVEAzMzMzMzNVQGZmZmZmZlVAZmZmZmZGVkAzMzMzM/NQQDMzMzMz01NAMzMzMzPTVEA=\",\"dtype\":\"float64\",\"order\":\"little\",\"shape\":[49]}},\"selected\":{\"id\":\"1594\"},\"selection_policy\":{\"id\":\"1595\"}},\"id\":\"1526\",\"type\":\"ColumnDataSource\"},{\"attributes\":{},\"id\":\"1424\",\"type\":\"LinearScale\"},{\"attributes\":{\"fill_alpha\":{\"value\":0.1},\"fill_color\":{\"value\":\"DarkBlue\"},\"line_alpha\":{\"value\":0.1},\"line_color\":{\"value\":\"DarkBlue\"},\"size\":{\"value\":10},\"x\":{\"field\":\"x\"},\"y\":{\"field\":\"y\"}},\"id\":\"1528\",\"type\":\"Circle\"},{\"attributes\":{},\"id\":\"1441\",\"type\":\"HelpTool\"},{\"attributes\":{\"source\":{\"id\":\"1526\"}},\"id\":\"1530\",\"type\":\"CDSView\"},{\"attributes\":{\"formatter\":{\"id\":\"1583\"},\"major_label_policy\":{\"id\":\"1582\"},\"ticker\":{\"id\":\"1433\"}},\"id\":\"1432\",\"type\":\"LinearAxis\"},{\"attributes\":{},\"id\":\"1433\",\"type\":\"BasicTicker\"},{\"attributes\":{\"data\":{\"x\":{\"__ndarray__\":\"5/up8dJN/D/b+X5qvHQFQHWTGARWDgFAYOXQItv5DkDn+6nx0k0CQP7UeOkmMfQ/aJHtfD81CEDdJAaBlUMAQM3MzMzMzABA5dAi2/l+/D/0/dR46Sb9P3Noke18PwJAL90kBoGV8z/jpZvEILAPQIXrUbgeBRpAL90kBoGVBkCWQ4ts5/sBQKrx0k1iEARAUrgehetRCEBEi2zn+6n9P2ZmZmZmZhRA/Knx0k1iCUAQWDm0yHYCQCcxCKwcWgJArBxaZDvfBkDTTWIQWDkBQGq8dJMYBAZAzczMzMzMCkBSuB6F61ELQPT91HjpJghAvp8aL90kBEBxPQrXo3ADQGiR7Xw/NfQ//Knx0k1i/j8dWmQ730/5P9v5fmq8dP0/K4cW2c73+z9t5/up8dIHQJ7vp8ZLNwFAAiuHFtnO/z/hehSuR+ECQHe+nxov3QFAGy/dJAaBBEC28/3UeOnuP9Ei2/l+agBAAAAAAAAAAEAGgZVDi2wPQA==\",\"dtype\":\"float64\",\"order\":\"little\",\"shape\":[47]},\"y\":{\"__ndarray__\":\"AAAAAACgVkBmZmZmZmZJQDMzMzMzM1ZAAAAAAAAAREBmZmZmZuZIQAAAAAAAwFhAmpmZmZl5V0DNzMzMzIxWQDMzMzMzU1RAzczMzMxMU0AAAAAAAOBWQM3MzMzMTFZAZmZmZmYmWEDNzMzMzExRQDMzMzMzMylAMzMzMzOzRkCamZmZmblYQDMzMzMzc1ZAzczMzMwMVEAAAAAAAABZQGZmZmZmZkVAzczMzMxMU0BmZmZmZkZWQAAAAAAA4FhAmpmZmZm5UUDNzMzMzMxYQJqZmZmZ+VdAAAAAAADgWECamZmZmZlPQJqZmZmZOVZAZmZmZmbGWEAzMzMzM9NYQGZmZmZm5lZAAAAAAADgVkDNzMzMzOxYQAAAAAAAgFVAmpmZmZnZWECamZmZmTlUQGZmZmZmRldAMzMzMzNzWECamZmZmZlWQJqZmZmZWVZAmpmZmZlZQ0DNzMzMzKxWQDMzMzMzU1dAmpmZmZmZWEBmZmZmZsZYQA==\",\"dtype\":\"float64\",\"order\":\"little\",\"shape\":[47]}},\"selected\":{\"id\":\"1597\"},\"selection_policy\":{\"id\":\"1598\"}},\"id\":\"1516\",\"type\":\"ColumnDataSource\"},{\"attributes\":{\"data_source\":{\"id\":\"1526\"},\"glyph\":{\"id\":\"1527\"},\"hover_glyph\":null,\"muted_glyph\":null,\"nonselection_glyph\":{\"id\":\"1528\"},\"view\":{\"id\":\"1530\"}},\"id\":\"1529\",\"type\":\"GlyphRenderer\"},{\"attributes\":{\"active_multi\":null,\"tools\":[{\"id\":\"1436\"},{\"id\":\"1437\"},{\"id\":\"1438\"},{\"id\":\"1439\"},{\"id\":\"1440\"},{\"id\":\"1441\"}]},\"id\":\"1443\",\"type\":\"Toolbar\"},{\"attributes\":{},\"id\":\"1437\",\"type\":\"WheelZoomTool\"},{\"attributes\":{},\"id\":\"1436\",\"type\":\"PanTool\"},{\"attributes\":{\"overlay\":{\"id\":\"1442\"}},\"id\":\"1438\",\"type\":\"BoxZoomTool\"},{\"attributes\":{},\"id\":\"1439\",\"type\":\"SaveTool\"},{\"attributes\":{},\"id\":\"1440\",\"type\":\"ResetTool\"},{\"attributes\":{\"data_source\":{\"id\":\"1521\"},\"glyph\":{\"id\":\"1522\"},\"hover_glyph\":null,\"muted_glyph\":null,\"nonselection_glyph\":{\"id\":\"1523\"},\"view\":{\"id\":\"1525\"}},\"id\":\"1524\",\"type\":\"GlyphRenderer\"},{\"attributes\":{\"fill_alpha\":{\"value\":0.1},\"fill_color\":{\"value\":\"DarkOrange\"},\"line_alpha\":{\"value\":0.1},\"line_color\":{\"value\":\"DarkOrange\"},\"size\":{\"value\":10},\"x\":{\"field\":\"x\"},\"y\":{\"field\":\"y\"}},\"id\":\"1523\",\"type\":\"Circle\"},{\"attributes\":{\"data_source\":{\"id\":\"1516\"},\"glyph\":{\"id\":\"1517\"},\"hover_glyph\":null,\"muted_glyph\":null,\"nonselection_glyph\":{\"id\":\"1518\"},\"view\":{\"id\":\"1520\"}},\"id\":\"1519\",\"type\":\"GlyphRenderer\"},{\"attributes\":{\"source\":{\"id\":\"1516\"}},\"id\":\"1520\",\"type\":\"CDSView\"},{\"attributes\":{\"data\":{\"x\":{\"__ndarray__\":\"fT81XrpJ9j/Jdr6fGi/1P39qvHSTGP4/bxKDwMqh/T89CtejcD32Py2yne+nxvU/sHJoke189z8Sg8DKoUX0PzMzMzMzM/U/wcqhRbbz+z8pXI/C9Sj2PyUGgZVDi/w/PzVeukkM9j8zMzMzMzP3P+xRuB6F6/U/5dAi2/l+9D9WDi2yne/9P1yPwvUoXPc/YOXQItv59j+YbhKDwMr5Py/dJAaBlf0/x0s3iUFg/T8pXI/C9Sj+P99PjZduEvc/c2iR7Xw//z8xCKwcWmTzP9V46SYxCPg/rBxaZDvf9T9Ei2zn+6n9PzeJQWDl0PY/YOXQItv59j99PzVeukn2P0oMAiuHFvs/qMZLN4lB+D9qvHSTGAT0P1g5tMh2vgBA\",\"dtype\":\"float64\",\"order\":\"little\",\"shape\":[36]},\"y\":{\"__ndarray__\":\"mpmZmZnZWEAAAAAAAMBYQAAAAAAAwFhAAAAAAADAWEAAAAAAAKBYQGZmZmZm5lhAmpmZmZk5WEAzMzMzM9NYQJqZmZmZOVhAAAAAAADAWECamZmZmflXQAAAAAAAwFhAmpmZmZk5V0AAAAAAAMBYQJqZmZmZuVhAzczMzMzsWEAAAAAAAMBYQAAAAAAAwFhAmpmZmZl5WEDNzMzMzAxYQAAAAAAAwFhAAAAAAAAAWUAAAAAAAABZQAAAAAAAgFhAAAAAAADAWECamZmZmflXQDMzMzMzc1hAzczMzMzsWEDNzMzMzKxYQDMzMzMz81hAmpmZmZnZV0DNzMzMzOxYQDMzMzMz81hAzczMzMwsWEAAAAAAAGBXQAAAAAAAwFhA\",\"dtype\":\"float64\",\"order\":\"little\",\"shape\":[36]}},\"selected\":{\"id\":\"1600\"},\"selection_policy\":{\"id\":\"1601\"}},\"id\":\"1521\",\"type\":\"ColumnDataSource\"},{\"attributes\":{\"child\":{\"id\":\"1483\"},\"title\":\"Africa\"},\"id\":\"2675\",\"type\":\"Panel\"},{\"attributes\":{\"active_multi\":null,\"tools\":[{\"id\":\"1502\"},{\"id\":\"1503\"},{\"id\":\"1504\"},{\"id\":\"1505\"},{\"id\":\"1506\"},{\"id\":\"1507\"}]},\"id\":\"1509\",\"type\":\"Toolbar\"},{\"attributes\":{\"bottom_units\":\"screen\",\"fill_alpha\":0.5,\"fill_color\":\"lightgrey\",\"left_units\":\"screen\",\"level\":\"overlay\",\"line_alpha\":1.0,\"line_color\":\"black\",\"line_dash\":[4,4],\"line_width\":2,\"right_units\":\"screen\",\"syncable\":false,\"top_units\":\"screen\"},\"id\":\"1442\",\"type\":\"BoxAnnotation\"},{\"attributes\":{\"fill_color\":{\"value\":\"DarkOrange\"},\"line_color\":{\"value\":\"DarkOrange\"},\"size\":{\"value\":10},\"x\":{\"field\":\"x\"},\"y\":{\"field\":\"y\"}},\"id\":\"1522\",\"type\":\"Circle\"},{\"attributes\":{},\"id\":\"1576\",\"type\":\"AllLabels\"},{\"attributes\":{},\"id\":\"1577\",\"type\":\"BasicTickFormatter\"},{\"attributes\":{\"children\":[{\"id\":\"1450\"},{\"id\":\"1483\"}]},\"id\":\"2673\",\"type\":\"Column\"},{\"attributes\":{\"child\":{\"id\":\"2673\"},\"title\":\"Second tab\"},\"id\":\"2674\",\"type\":\"Panel\"},{\"attributes\":{\"children\":[{\"id\":\"1417\"},{\"id\":\"1450\"}]},\"id\":\"2671\",\"type\":\"Row\"},{\"attributes\":{\"child\":{\"id\":\"2671\"},\"title\":\"First tab\"},\"id\":\"2672\",\"type\":\"Panel\"}],\"root_ids\":[\"2676\"]},\"title\":\"Bokeh Application\",\"version\":\"2.3.2\"}};\n",
       "  var render_items = [{\"docid\":\"2cbf815b-2093-47ca-a9ae-c7168a9ea481\",\"root_ids\":[\"2676\"],\"roots\":{\"2676\":\"60a42eb4-fb4f-40aa-a720-06f5222c2e01\"}}];\n",
       "  root.Bokeh.embed.embed_items_notebook(docs_json, render_items);\n",
       "\n",
       "  }\n",
       "  if (root.Bokeh !== undefined) {\n",
       "    embed_document(root);\n",
       "  } else {\n",
       "    var attempts = 0;\n",
       "    var timer = setInterval(function(root) {\n",
       "      if (root.Bokeh !== undefined) {\n",
       "        clearInterval(timer);\n",
       "        embed_document(root);\n",
       "      } else {\n",
       "        attempts++;\n",
       "        if (attempts > 100) {\n",
       "          clearInterval(timer);\n",
       "          console.log(\"Bokeh: ERROR: Unable to run BokehJS code because BokehJS library is missing\");\n",
       "        }\n",
       "      }\n",
       "    }, 10, root)\n",
       "  }\n",
       "})(window);"
      ],
      "application/vnd.bokehjs_exec.v0+json": ""
     },
     "metadata": {
      "application/vnd.bokehjs_exec.v0+json": {
       "id": "2676"
      }
     },
     "output_type": "display_data"
    }
   ],
   "source": [
    "tab1=Panel(child=row(p1, p2), title=\"First tab\")\n",
    "tab2=Panel(child=column(p2,p3), title=\"Second tab\")\n",
    "tab3=Panel(child=p3, title=\"Africa\")\n",
    "layout=Tabs(tabs=[tab1, tab2, tab3])\n",
    "show(layout)"
   ]
  },
  {
   "cell_type": "markdown",
   "metadata": {},
   "source": [
    "### Linking axes"
   ]
  },
  {
   "cell_type": "code",
   "execution_count": 21,
   "metadata": {},
   "outputs": [
    {
     "data": {
      "text/html": [
       "\n",
       "\n",
       "\n",
       "\n",
       "\n",
       "\n",
       "  <div class=\"bk-root\" id=\"aca07de8-a5b5-454a-ab2a-32b011362eb2\" data-root-id=\"3813\"></div>\n"
      ]
     },
     "metadata": {},
     "output_type": "display_data"
    },
    {
     "data": {
      "application/javascript": [
       "(function(root) {\n",
       "  function embed_document(root) {\n",
       "    \n",
       "  var docs_json = {\"37ab8e3e-4f3d-4c20-a3bb-4e5d1804233d\":{\"defs\":[],\"roots\":{\"references\":[{\"attributes\":{\"children\":[{\"id\":\"3812\"},{\"id\":\"3810\"}]},\"id\":\"3813\",\"type\":\"Column\"},{\"attributes\":{},\"id\":\"1591\",\"type\":\"AllLabels\"},{\"attributes\":{\"formatter\":{\"id\":\"1589\"},\"major_label_policy\":{\"id\":\"1588\"},\"ticker\":{\"id\":\"1466\"}},\"id\":\"1465\",\"type\":\"LinearAxis\"},{\"attributes\":{},\"id\":\"1459\",\"type\":\"LinearScale\"},{\"attributes\":{},\"id\":\"1592\",\"type\":\"BasicTickFormatter\"},{\"attributes\":{\"text\":\"Africa continent\"},\"id\":\"1484\",\"type\":\"Title\"},{\"attributes\":{},\"id\":\"1579\",\"type\":\"AllLabels\"},{\"attributes\":{},\"id\":\"1474\",\"type\":\"HelpTool\"},{\"attributes\":{},\"id\":\"1457\",\"type\":\"LinearScale\"},{\"attributes\":{},\"id\":\"1580\",\"type\":\"BasicTickFormatter\"},{\"attributes\":{\"formatter\":{\"id\":\"1592\"},\"major_label_policy\":{\"id\":\"1591\"},\"ticker\":{\"id\":\"1462\"}},\"id\":\"1461\",\"type\":\"LinearAxis\"},{\"attributes\":{},\"id\":\"1462\",\"type\":\"BasicTicker\"},{\"attributes\":{\"formatter\":{\"id\":\"1586\"},\"major_label_policy\":{\"id\":\"1585\"},\"ticker\":{\"id\":\"1429\"}},\"id\":\"1428\",\"type\":\"LinearAxis\"},{\"attributes\":{\"axis\":{\"id\":\"1461\"},\"ticker\":null},\"id\":\"1464\",\"type\":\"Grid\"},{\"attributes\":{\"axis\":{\"id\":\"1465\"},\"dimension\":1,\"ticker\":null},\"id\":\"1468\",\"type\":\"Grid\"},{\"attributes\":{},\"id\":\"1466\",\"type\":\"BasicTicker\"},{\"attributes\":{},\"id\":\"1470\",\"type\":\"WheelZoomTool\"},{\"attributes\":{},\"id\":\"1582\",\"type\":\"AllLabels\"},{\"attributes\":{},\"id\":\"1429\",\"type\":\"BasicTicker\"},{\"attributes\":{},\"id\":\"1469\",\"type\":\"PanTool\"},{\"attributes\":{\"overlay\":{\"id\":\"1475\"}},\"id\":\"1471\",\"type\":\"BoxZoomTool\"},{\"attributes\":{},\"id\":\"1472\",\"type\":\"SaveTool\"},{\"attributes\":{},\"id\":\"1473\",\"type\":\"ResetTool\"},{\"attributes\":{},\"id\":\"1583\",\"type\":\"BasicTickFormatter\"},{\"attributes\":{\"axis\":{\"id\":\"1428\"},\"ticker\":null},\"id\":\"1431\",\"type\":\"Grid\"},{\"attributes\":{},\"id\":\"1595\",\"type\":\"UnionRenderers\"},{\"attributes\":{},\"id\":\"1594\",\"type\":\"Selection\"},{\"attributes\":{\"bottom_units\":\"screen\",\"fill_alpha\":0.5,\"fill_color\":\"lightgrey\",\"left_units\":\"screen\",\"level\":\"overlay\",\"line_alpha\":1.0,\"line_color\":\"black\",\"line_dash\":[4,4],\"line_width\":2,\"right_units\":\"screen\",\"syncable\":false,\"top_units\":\"screen\"},\"id\":\"1508\",\"type\":\"BoxAnnotation\"},{\"attributes\":{},\"id\":\"1426\",\"type\":\"LinearScale\"},{\"attributes\":{},\"id\":\"1495\",\"type\":\"BasicTicker\"},{\"attributes\":{},\"id\":\"1492\",\"type\":\"LinearScale\"},{\"attributes\":{},\"id\":\"1585\",\"type\":\"AllLabels\"},{\"attributes\":{\"bottom_units\":\"screen\",\"fill_alpha\":0.5,\"fill_color\":\"lightgrey\",\"left_units\":\"screen\",\"level\":\"overlay\",\"line_alpha\":1.0,\"line_color\":\"black\",\"line_dash\":[4,4],\"line_width\":2,\"right_units\":\"screen\",\"syncable\":false,\"top_units\":\"screen\"},\"id\":\"1475\",\"type\":\"BoxAnnotation\"},{\"attributes\":{},\"id\":\"1586\",\"type\":\"BasicTickFormatter\"},{\"attributes\":{\"active_multi\":null,\"tools\":[{\"id\":\"1469\"},{\"id\":\"1470\"},{\"id\":\"1471\"},{\"id\":\"1472\"},{\"id\":\"1473\"},{\"id\":\"1474\"}]},\"id\":\"1476\",\"type\":\"Toolbar\"},{\"attributes\":{},\"id\":\"1588\",\"type\":\"AllLabels\"},{\"attributes\":{},\"id\":\"1490\",\"type\":\"LinearScale\"},{\"attributes\":{},\"id\":\"1589\",\"type\":\"BasicTickFormatter\"},{\"attributes\":{},\"id\":\"1598\",\"type\":\"UnionRenderers\"},{\"attributes\":{},\"id\":\"1597\",\"type\":\"Selection\"},{\"attributes\":{\"axis\":{\"id\":\"1494\"},\"ticker\":null},\"id\":\"1497\",\"type\":\"Grid\"},{\"attributes\":{\"formatter\":{\"id\":\"1580\"},\"major_label_policy\":{\"id\":\"1579\"},\"ticker\":{\"id\":\"1495\"}},\"id\":\"1494\",\"type\":\"LinearAxis\"},{\"attributes\":{},\"id\":\"1486\",\"type\":\"DataRange1d\"},{\"attributes\":{},\"id\":\"1488\",\"type\":\"DataRange1d\"},{\"attributes\":{\"formatter\":{\"id\":\"1577\"},\"major_label_policy\":{\"id\":\"1576\"},\"ticker\":{\"id\":\"1499\"}},\"id\":\"1498\",\"type\":\"LinearAxis\"},{\"attributes\":{\"axis\":{\"id\":\"1498\"},\"dimension\":1,\"ticker\":null},\"id\":\"1501\",\"type\":\"Grid\"},{\"attributes\":{},\"id\":\"1507\",\"type\":\"HelpTool\"},{\"attributes\":{},\"id\":\"1499\",\"type\":\"BasicTicker\"},{\"attributes\":{\"toolbar\":{\"id\":\"3811\"},\"toolbar_location\":\"above\"},\"id\":\"3812\",\"type\":\"ToolbarBox\"},{\"attributes\":{},\"id\":\"1503\",\"type\":\"WheelZoomTool\"},{\"attributes\":{},\"id\":\"1502\",\"type\":\"PanTool\"},{\"attributes\":{\"overlay\":{\"id\":\"1508\"}},\"id\":\"1504\",\"type\":\"BoxZoomTool\"},{\"attributes\":{},\"id\":\"1505\",\"type\":\"SaveTool\"},{\"attributes\":{},\"id\":\"1506\",\"type\":\"ResetTool\"},{\"attributes\":{\"source\":{\"id\":\"1521\"}},\"id\":\"1525\",\"type\":\"CDSView\"},{\"attributes\":{\"toolbars\":[{\"id\":\"1443\"},{\"id\":\"1476\"},{\"id\":\"1509\"}],\"tools\":[{\"id\":\"1436\"},{\"id\":\"1437\"},{\"id\":\"1438\"},{\"id\":\"1439\"},{\"id\":\"1440\"},{\"id\":\"1441\"},{\"id\":\"1469\"},{\"id\":\"1470\"},{\"id\":\"1471\"},{\"id\":\"1472\"},{\"id\":\"1473\"},{\"id\":\"1474\"},{\"id\":\"1502\"},{\"id\":\"1503\"},{\"id\":\"1504\"},{\"id\":\"1505\"},{\"id\":\"1506\"},{\"id\":\"1507\"}]},\"id\":\"3811\",\"type\":\"ProxyToolbar\"},{\"attributes\":{\"below\":[{\"id\":\"1461\"}],\"center\":[{\"id\":\"1464\"},{\"id\":\"1468\"}],\"height\":300,\"left\":[{\"id\":\"1465\"}],\"renderers\":[{\"id\":\"1524\"}],\"title\":{\"id\":\"1451\"},\"toolbar\":{\"id\":\"1476\"},\"toolbar_location\":null,\"width\":300,\"x_range\":{\"id\":\"1486\"},\"x_scale\":{\"id\":\"1457\"},\"y_range\":{\"id\":\"1488\"},\"y_scale\":{\"id\":\"1459\"}},\"id\":\"1450\",\"subtype\":\"Figure\",\"type\":\"Plot\"},{\"attributes\":{},\"id\":\"1601\",\"type\":\"UnionRenderers\"},{\"attributes\":{\"text\":\"Europe continent\"},\"id\":\"1451\",\"type\":\"Title\"},{\"attributes\":{\"below\":[{\"id\":\"1428\"}],\"center\":[{\"id\":\"1431\"},{\"id\":\"1435\"}],\"height\":300,\"left\":[{\"id\":\"1432\"}],\"renderers\":[{\"id\":\"1519\"}],\"title\":{\"id\":\"1418\"},\"toolbar\":{\"id\":\"1443\"},\"toolbar_location\":null,\"width\":300,\"x_range\":{\"id\":\"1486\"},\"x_scale\":{\"id\":\"1424\"},\"y_range\":{\"id\":\"1488\"},\"y_scale\":{\"id\":\"1426\"}},\"id\":\"1417\",\"subtype\":\"Figure\",\"type\":\"Plot\"},{\"attributes\":{},\"id\":\"1600\",\"type\":\"Selection\"},{\"attributes\":{\"below\":[{\"id\":\"1494\"}],\"center\":[{\"id\":\"1497\"},{\"id\":\"1501\"}],\"height\":300,\"left\":[{\"id\":\"1498\"}],\"renderers\":[{\"id\":\"1529\"}],\"title\":{\"id\":\"1484\"},\"toolbar\":{\"id\":\"1509\"},\"toolbar_location\":null,\"width\":300,\"x_range\":{\"id\":\"1486\"},\"x_scale\":{\"id\":\"1490\"},\"y_range\":{\"id\":\"1488\"},\"y_scale\":{\"id\":\"1492\"}},\"id\":\"1483\",\"subtype\":\"Figure\",\"type\":\"Plot\"},{\"attributes\":{\"text\":\"Asia continent\"},\"id\":\"1418\",\"type\":\"Title\"},{\"attributes\":{\"fill_color\":{\"value\":\"firebrick\"},\"line_color\":{\"value\":\"firebrick\"},\"size\":{\"value\":10},\"x\":{\"field\":\"x\"},\"y\":{\"field\":\"y\"}},\"id\":\"1517\",\"type\":\"Circle\"},{\"attributes\":{\"fill_alpha\":{\"value\":0.1},\"fill_color\":{\"value\":\"firebrick\"},\"line_alpha\":{\"value\":0.1},\"line_color\":{\"value\":\"firebrick\"},\"size\":{\"value\":10},\"x\":{\"field\":\"x\"},\"y\":{\"field\":\"y\"}},\"id\":\"1518\",\"type\":\"Circle\"},{\"attributes\":{\"axis\":{\"id\":\"1432\"},\"dimension\":1,\"ticker\":null},\"id\":\"1435\",\"type\":\"Grid\"},{\"attributes\":{\"fill_color\":{\"value\":\"DarkBlue\"},\"line_color\":{\"value\":\"DarkBlue\"},\"size\":{\"value\":10},\"x\":{\"field\":\"x\"},\"y\":{\"field\":\"y\"}},\"id\":\"1527\",\"type\":\"Circle\"},{\"attributes\":{\"data\":{\"x\":{\"__ndarray__\":\"/tR46SaxFEC6SQwCK4cGQPLSTWIQ2BRAbxKDwMqhF0AK16NwPQoEQBSuR+F6FBZACKwcWmQ7EEBWDi2ynW8TQCPb+X5qvAJAarx0kxgEGUB56SYxCKwCQOF6FK5H4RBAke18PzXeE0B1kxgEVg4SQHsUrkfhehJARIts5/spEkA/NV66SYwWQHe+nxovXRdAUrgehevRFUAtsp3vp0YcQB+F61G4nhVAppvEILDyFkCBlUOLbOcKQI/C9ShcjxNAbef7qfFSGEDb+X5qvHT9PzeJQWDlUBVAUrgehetRFUBQjZduEoMVQM3MzMzMzBFARIts5/upEECJQWDl0CIFQClcj8L1qBRA6SYxCKwcEkB9PzVeuskSQCUGgZVDCxRAWmQ730+NEUBSuB6F61EKQOkmMQisHApA+n5qvHSTBkDHSzeJQeATQIlBYOXQohZA7FG4HoXrCUB56SYxCKz8P5qZmZmZmQtAbxKDwMohFUAUrkfhehQPQOf7qfHSTQVAWDm0yHa+DUA=\",\"dtype\":\"float64\",\"order\":\"little\",\"shape\":[49]},\"y\":{\"__ndarray__\":\"ZmZmZmZmSEBmZmZmZuZMQM3MzMzMzDZAzczMzMwMTEBmZmZmZgZWQDMzMzMzk1BAzczMzMzMTUAzMzMzM7NUQDMzMzMz809AMzMzMzOzUEDNzMzMzAxGQGZmZmZmpk1AzczMzMwMREBmZmZmZiZGQDMzMzMzU1BAMzMzMzPzUEAAAAAAAIBMQJqZmZmZmTVAMzMzMzNzUEAzMzMzMzMuQDMzMzMzMzJAAAAAAACATkAzMzMzMzNWQAAAAAAAgEBAZmZmZmbmNUAAAAAAAMBRQGZmZmZmZjpAZmZmZmaGUECamZmZmRk8QDMzMzMz801AmpmZmZnZSkAzMzMzM1NUQGZmZmZm5jxAAAAAAABAS0DNzMzMzIxEQAAAAAAAgEpAAAAAAADASEDNzMzMzOxVQGZmZmZmxldAAAAAAADgVEBmZmZmZiZBQAAAAAAAQEJAzczMzMzMVEAzMzMzMzNVQGZmZmZmZlVAZmZmZmZGVkAzMzMzM/NQQDMzMzMz01NAMzMzMzPTVEA=\",\"dtype\":\"float64\",\"order\":\"little\",\"shape\":[49]}},\"selected\":{\"id\":\"1594\"},\"selection_policy\":{\"id\":\"1595\"}},\"id\":\"1526\",\"type\":\"ColumnDataSource\"},{\"attributes\":{},\"id\":\"1424\",\"type\":\"LinearScale\"},{\"attributes\":{\"fill_alpha\":{\"value\":0.1},\"fill_color\":{\"value\":\"DarkBlue\"},\"line_alpha\":{\"value\":0.1},\"line_color\":{\"value\":\"DarkBlue\"},\"size\":{\"value\":10},\"x\":{\"field\":\"x\"},\"y\":{\"field\":\"y\"}},\"id\":\"1528\",\"type\":\"Circle\"},{\"attributes\":{},\"id\":\"1441\",\"type\":\"HelpTool\"},{\"attributes\":{\"source\":{\"id\":\"1526\"}},\"id\":\"1530\",\"type\":\"CDSView\"},{\"attributes\":{\"formatter\":{\"id\":\"1583\"},\"major_label_policy\":{\"id\":\"1582\"},\"ticker\":{\"id\":\"1433\"}},\"id\":\"1432\",\"type\":\"LinearAxis\"},{\"attributes\":{},\"id\":\"1433\",\"type\":\"BasicTicker\"},{\"attributes\":{\"data\":{\"x\":{\"__ndarray__\":\"5/up8dJN/D/b+X5qvHQFQHWTGARWDgFAYOXQItv5DkDn+6nx0k0CQP7UeOkmMfQ/aJHtfD81CEDdJAaBlUMAQM3MzMzMzABA5dAi2/l+/D/0/dR46Sb9P3Noke18PwJAL90kBoGV8z/jpZvEILAPQIXrUbgeBRpAL90kBoGVBkCWQ4ts5/sBQKrx0k1iEARAUrgehetRCEBEi2zn+6n9P2ZmZmZmZhRA/Knx0k1iCUAQWDm0yHYCQCcxCKwcWgJArBxaZDvfBkDTTWIQWDkBQGq8dJMYBAZAzczMzMzMCkBSuB6F61ELQPT91HjpJghAvp8aL90kBEBxPQrXo3ADQGiR7Xw/NfQ//Knx0k1i/j8dWmQ730/5P9v5fmq8dP0/K4cW2c73+z9t5/up8dIHQJ7vp8ZLNwFAAiuHFtnO/z/hehSuR+ECQHe+nxov3QFAGy/dJAaBBEC28/3UeOnuP9Ei2/l+agBAAAAAAAAAAEAGgZVDi2wPQA==\",\"dtype\":\"float64\",\"order\":\"little\",\"shape\":[47]},\"y\":{\"__ndarray__\":\"AAAAAACgVkBmZmZmZmZJQDMzMzMzM1ZAAAAAAAAAREBmZmZmZuZIQAAAAAAAwFhAmpmZmZl5V0DNzMzMzIxWQDMzMzMzU1RAzczMzMxMU0AAAAAAAOBWQM3MzMzMTFZAZmZmZmYmWEDNzMzMzExRQDMzMzMzMylAMzMzMzOzRkCamZmZmblYQDMzMzMzc1ZAzczMzMwMVEAAAAAAAABZQGZmZmZmZkVAzczMzMxMU0BmZmZmZkZWQAAAAAAA4FhAmpmZmZm5UUDNzMzMzMxYQJqZmZmZ+VdAAAAAAADgWECamZmZmZlPQJqZmZmZOVZAZmZmZmbGWEAzMzMzM9NYQGZmZmZm5lZAAAAAAADgVkDNzMzMzOxYQAAAAAAAgFVAmpmZmZnZWECamZmZmTlUQGZmZmZmRldAMzMzMzNzWECamZmZmZlWQJqZmZmZWVZAmpmZmZlZQ0DNzMzMzKxWQDMzMzMzU1dAmpmZmZmZWEBmZmZmZsZYQA==\",\"dtype\":\"float64\",\"order\":\"little\",\"shape\":[47]}},\"selected\":{\"id\":\"1597\"},\"selection_policy\":{\"id\":\"1598\"}},\"id\":\"1516\",\"type\":\"ColumnDataSource\"},{\"attributes\":{\"data_source\":{\"id\":\"1526\"},\"glyph\":{\"id\":\"1527\"},\"hover_glyph\":null,\"muted_glyph\":null,\"nonselection_glyph\":{\"id\":\"1528\"},\"view\":{\"id\":\"1530\"}},\"id\":\"1529\",\"type\":\"GlyphRenderer\"},{\"attributes\":{\"active_multi\":null,\"tools\":[{\"id\":\"1436\"},{\"id\":\"1437\"},{\"id\":\"1438\"},{\"id\":\"1439\"},{\"id\":\"1440\"},{\"id\":\"1441\"}]},\"id\":\"1443\",\"type\":\"Toolbar\"},{\"attributes\":{},\"id\":\"1437\",\"type\":\"WheelZoomTool\"},{\"attributes\":{},\"id\":\"1436\",\"type\":\"PanTool\"},{\"attributes\":{\"overlay\":{\"id\":\"1442\"}},\"id\":\"1438\",\"type\":\"BoxZoomTool\"},{\"attributes\":{},\"id\":\"1439\",\"type\":\"SaveTool\"},{\"attributes\":{},\"id\":\"1440\",\"type\":\"ResetTool\"},{\"attributes\":{\"data_source\":{\"id\":\"1521\"},\"glyph\":{\"id\":\"1522\"},\"hover_glyph\":null,\"muted_glyph\":null,\"nonselection_glyph\":{\"id\":\"1523\"},\"view\":{\"id\":\"1525\"}},\"id\":\"1524\",\"type\":\"GlyphRenderer\"},{\"attributes\":{\"fill_alpha\":{\"value\":0.1},\"fill_color\":{\"value\":\"DarkOrange\"},\"line_alpha\":{\"value\":0.1},\"line_color\":{\"value\":\"DarkOrange\"},\"size\":{\"value\":10},\"x\":{\"field\":\"x\"},\"y\":{\"field\":\"y\"}},\"id\":\"1523\",\"type\":\"Circle\"},{\"attributes\":{\"data_source\":{\"id\":\"1516\"},\"glyph\":{\"id\":\"1517\"},\"hover_glyph\":null,\"muted_glyph\":null,\"nonselection_glyph\":{\"id\":\"1518\"},\"view\":{\"id\":\"1520\"}},\"id\":\"1519\",\"type\":\"GlyphRenderer\"},{\"attributes\":{\"source\":{\"id\":\"1516\"}},\"id\":\"1520\",\"type\":\"CDSView\"},{\"attributes\":{\"data\":{\"x\":{\"__ndarray__\":\"fT81XrpJ9j/Jdr6fGi/1P39qvHSTGP4/bxKDwMqh/T89CtejcD32Py2yne+nxvU/sHJoke189z8Sg8DKoUX0PzMzMzMzM/U/wcqhRbbz+z8pXI/C9Sj2PyUGgZVDi/w/PzVeukkM9j8zMzMzMzP3P+xRuB6F6/U/5dAi2/l+9D9WDi2yne/9P1yPwvUoXPc/YOXQItv59j+YbhKDwMr5Py/dJAaBlf0/x0s3iUFg/T8pXI/C9Sj+P99PjZduEvc/c2iR7Xw//z8xCKwcWmTzP9V46SYxCPg/rBxaZDvf9T9Ei2zn+6n9PzeJQWDl0PY/YOXQItv59j99PzVeukn2P0oMAiuHFvs/qMZLN4lB+D9qvHSTGAT0P1g5tMh2vgBA\",\"dtype\":\"float64\",\"order\":\"little\",\"shape\":[36]},\"y\":{\"__ndarray__\":\"mpmZmZnZWEAAAAAAAMBYQAAAAAAAwFhAAAAAAADAWEAAAAAAAKBYQGZmZmZm5lhAmpmZmZk5WEAzMzMzM9NYQJqZmZmZOVhAAAAAAADAWECamZmZmflXQAAAAAAAwFhAmpmZmZk5V0AAAAAAAMBYQJqZmZmZuVhAzczMzMzsWEAAAAAAAMBYQAAAAAAAwFhAmpmZmZl5WEDNzMzMzAxYQAAAAAAAwFhAAAAAAAAAWUAAAAAAAABZQAAAAAAAgFhAAAAAAADAWECamZmZmflXQDMzMzMzc1hAzczMzMzsWEDNzMzMzKxYQDMzMzMz81hAmpmZmZnZV0DNzMzMzOxYQDMzMzMz81hAzczMzMwsWEAAAAAAAGBXQAAAAAAAwFhA\",\"dtype\":\"float64\",\"order\":\"little\",\"shape\":[36]}},\"selected\":{\"id\":\"1600\"},\"selection_policy\":{\"id\":\"1601\"}},\"id\":\"1521\",\"type\":\"ColumnDataSource\"},{\"attributes\":{\"active_multi\":null,\"tools\":[{\"id\":\"1502\"},{\"id\":\"1503\"},{\"id\":\"1504\"},{\"id\":\"1505\"},{\"id\":\"1506\"},{\"id\":\"1507\"}]},\"id\":\"1509\",\"type\":\"Toolbar\"},{\"attributes\":{\"bottom_units\":\"screen\",\"fill_alpha\":0.5,\"fill_color\":\"lightgrey\",\"left_units\":\"screen\",\"level\":\"overlay\",\"line_alpha\":1.0,\"line_color\":\"black\",\"line_dash\":[4,4],\"line_width\":2,\"right_units\":\"screen\",\"syncable\":false,\"top_units\":\"screen\"},\"id\":\"1442\",\"type\":\"BoxAnnotation\"},{\"attributes\":{\"fill_color\":{\"value\":\"DarkOrange\"},\"line_color\":{\"value\":\"DarkOrange\"},\"size\":{\"value\":10},\"x\":{\"field\":\"x\"},\"y\":{\"field\":\"y\"}},\"id\":\"1522\",\"type\":\"Circle\"},{\"attributes\":{},\"id\":\"1576\",\"type\":\"AllLabels\"},{\"attributes\":{\"children\":[[{\"id\":\"1417\"},0,0],[{\"id\":\"1450\"},0,1],[{\"id\":\"1483\"},1,0]]},\"id\":\"3810\",\"type\":\"GridBox\"},{\"attributes\":{},\"id\":\"1577\",\"type\":\"BasicTickFormatter\"}],\"root_ids\":[\"3813\"]},\"title\":\"Bokeh Application\",\"version\":\"2.3.2\"}};\n",
       "  var render_items = [{\"docid\":\"37ab8e3e-4f3d-4c20-a3bb-4e5d1804233d\",\"root_ids\":[\"3813\"],\"roots\":{\"3813\":\"aca07de8-a5b5-454a-ab2a-32b011362eb2\"}}];\n",
       "  root.Bokeh.embed.embed_items_notebook(docs_json, render_items);\n",
       "\n",
       "  }\n",
       "  if (root.Bokeh !== undefined) {\n",
       "    embed_document(root);\n",
       "  } else {\n",
       "    var attempts = 0;\n",
       "    var timer = setInterval(function(root) {\n",
       "      if (root.Bokeh !== undefined) {\n",
       "        clearInterval(timer);\n",
       "        embed_document(root);\n",
       "      } else {\n",
       "        attempts++;\n",
       "        if (attempts > 100) {\n",
       "          clearInterval(timer);\n",
       "          console.log(\"Bokeh: ERROR: Unable to run BokehJS code because BokehJS library is missing\");\n",
       "        }\n",
       "      }\n",
       "    }, 10, root)\n",
       "  }\n",
       "})(window);"
      ],
      "application/vnd.bokehjs_exec.v0+json": ""
     },
     "metadata": {
      "application/vnd.bokehjs_exec.v0+json": {
       "id": "3813"
      }
     },
     "output_type": "display_data"
    }
   ],
   "source": [
    "p1.x_range=p2.x_range=p3.x_range\n",
    "p1.y_range=p2.y_range=p3.y_range\n",
    "layout=gridplot([p1, p2, p3], ncols=2)\n",
    "show(layout)"
   ]
  },
  {
   "cell_type": "markdown",
   "metadata": {},
   "source": [
    "### Linking Selection"
   ]
  },
  {
   "cell_type": "code",
   "execution_count": null,
   "metadata": {},
   "outputs": [],
   "source": []
  },
  {
   "cell_type": "code",
   "execution_count": null,
   "metadata": {},
   "outputs": [],
   "source": []
  },
  {
   "cell_type": "code",
   "execution_count": null,
   "metadata": {},
   "outputs": [],
   "source": []
  },
  {
   "cell_type": "markdown",
   "metadata": {},
   "source": [
    "## Annotations\n",
    "### Spans\n",
    "\n",
    "`Spans` are \"infinite\" vertical or horizonal lines. When creating them, you specify the `dimension` that should be spanned (i.e., `width` or `height`), any visual line properties for the appearance, and the location along the dimension where the line should be drawn. Let's look at an example that adds two horizontal spans to a simple plot:"
   ]
  },
  {
   "cell_type": "code",
   "execution_count": 22,
   "metadata": {},
   "outputs": [],
   "source": [
    "from bokeh.models.annotations import Span"
   ]
  },
  {
   "cell_type": "markdown",
   "metadata": {},
   "source": [
    "These are the most commonly used properties for this annotation:\n",
    "* `dimension`: The direction of the span line. The direction can be one of these two values: Either * `\"height\"` for a line that is parallel to the plot’s y axis. Or `\"width\"` for a line that is parallel to the plot’s x axis.\n",
    "\n",
    "* `location`: The location of the span along the axis specified with dimension.\n",
    "\n",
    "* `location_units`: The unit type for the location property. The default is to use “data space” units.\n",
    "\n",
    "* The standard line properties."
   ]
  },
  {
   "cell_type": "code",
   "execution_count": 23,
   "metadata": {},
   "outputs": [
    {
     "data": {
      "text/html": [
       "\n",
       "\n",
       "\n",
       "\n",
       "\n",
       "\n",
       "  <div class=\"bk-root\" id=\"4537b81e-1786-4f42-88a1-5ffb35314cab\" data-root-id=\"4184\"></div>\n"
      ]
     },
     "metadata": {},
     "output_type": "display_data"
    },
    {
     "data": {
      "application/javascript": [
       "(function(root) {\n",
       "  function embed_document(root) {\n",
       "    \n",
       "  var docs_json = {\"0c0a7557-2036-42fe-9ab6-19f07a8d1253\":{\"defs\":[],\"roots\":{\"references\":[{\"attributes\":{\"below\":[{\"id\":\"4193\"}],\"center\":[{\"id\":\"4196\"},{\"id\":\"4200\"},{\"id\":\"4220\"},{\"id\":\"4221\"}],\"height\":300,\"left\":[{\"id\":\"4197\"}],\"renderers\":[{\"id\":\"4218\"}],\"title\":{\"id\":\"4443\"},\"toolbar\":{\"id\":\"4208\"},\"x_range\":{\"id\":\"4185\"},\"x_scale\":{\"id\":\"4189\"},\"y_range\":{\"id\":\"4187\"},\"y_scale\":{\"id\":\"4191\"}},\"id\":\"4184\",\"subtype\":\"Figure\",\"type\":\"Plot\"},{\"attributes\":{},\"id\":\"4198\",\"type\":\"BasicTicker\"},{\"attributes\":{\"active_multi\":null,\"tools\":[{\"id\":\"4201\"},{\"id\":\"4202\"},{\"id\":\"4203\"},{\"id\":\"4204\"},{\"id\":\"4205\"},{\"id\":\"4206\"}]},\"id\":\"4208\",\"type\":\"Toolbar\"},{\"attributes\":{},\"id\":\"4201\",\"type\":\"PanTool\"},{\"attributes\":{},\"id\":\"4202\",\"type\":\"WheelZoomTool\"},{\"attributes\":{\"overlay\":{\"id\":\"4207\"}},\"id\":\"4203\",\"type\":\"BoxZoomTool\"},{\"attributes\":{},\"id\":\"4204\",\"type\":\"SaveTool\"},{\"attributes\":{},\"id\":\"4205\",\"type\":\"ResetTool\"},{\"attributes\":{\"formatter\":{\"id\":\"4448\"},\"major_label_policy\":{\"id\":\"4447\"},\"ticker\":{\"id\":\"4194\"}},\"id\":\"4193\",\"type\":\"LinearAxis\"},{\"attributes\":{\"end\":2,\"start\":-2},\"id\":\"4187\",\"type\":\"Range1d\"},{\"attributes\":{},\"id\":\"4450\",\"type\":\"Selection\"},{\"attributes\":{\"axis\":{\"id\":\"4193\"},\"ticker\":null},\"id\":\"4196\",\"type\":\"Grid\"},{\"attributes\":{},\"id\":\"4444\",\"type\":\"AllLabels\"},{\"attributes\":{},\"id\":\"4451\",\"type\":\"UnionRenderers\"},{\"attributes\":{},\"id\":\"4443\",\"type\":\"Title\"},{\"attributes\":{\"line_alpha\":0.1,\"line_color\":\"red\",\"line_width\":2,\"x\":{\"field\":\"x\"},\"y\":{\"field\":\"y\"}},\"id\":\"4217\",\"type\":\"Line\"},{\"attributes\":{\"data_source\":{\"id\":\"4215\"},\"glyph\":{\"id\":\"4216\"},\"hover_glyph\":null,\"muted_glyph\":null,\"nonselection_glyph\":{\"id\":\"4217\"},\"view\":{\"id\":\"4219\"}},\"id\":\"4218\",\"type\":\"GlyphRenderer\"},{\"attributes\":{\"line_color\":\"olive\",\"line_width\":2,\"location\":1},\"id\":\"4220\",\"type\":\"Span\"},{\"attributes\":{\"data\":{\"x\":{\"__ndarray__\":\"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\",\"dtype\":\"float64\",\"order\":\"little\",\"shape\":[200]},\"y\":{\"__ndarray__\":\"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\",\"dtype\":\"float64\",\"order\":\"little\",\"shape\":[200]}},\"selected\":{\"id\":\"4450\"},\"selection_policy\":{\"id\":\"4451\"}},\"id\":\"4215\",\"type\":\"ColumnDataSource\"},{\"attributes\":{},\"id\":\"4445\",\"type\":\"BasicTickFormatter\"},{\"attributes\":{\"source\":{\"id\":\"4215\"}},\"id\":\"4219\",\"type\":\"CDSView\"},{\"attributes\":{\"formatter\":{\"id\":\"4445\"},\"major_label_policy\":{\"id\":\"4444\"},\"ticker\":{\"id\":\"4198\"}},\"id\":\"4197\",\"type\":\"LinearAxis\"},{\"attributes\":{\"line_color\":\"DarkBlue\",\"line_width\":2,\"location\":-1},\"id\":\"4221\",\"type\":\"Span\"},{\"attributes\":{\"bottom_units\":\"screen\",\"fill_alpha\":0.5,\"fill_color\":\"lightgrey\",\"left_units\":\"screen\",\"level\":\"overlay\",\"line_alpha\":1.0,\"line_color\":\"black\",\"line_dash\":[4,4],\"line_width\":2,\"right_units\":\"screen\",\"syncable\":false,\"top_units\":\"screen\"},\"id\":\"4207\",\"type\":\"BoxAnnotation\"},{\"attributes\":{},\"id\":\"4447\",\"type\":\"AllLabels\"},{\"attributes\":{},\"id\":\"4191\",\"type\":\"LinearScale\"},{\"attributes\":{},\"id\":\"4194\",\"type\":\"BasicTicker\"},{\"attributes\":{},\"id\":\"4189\",\"type\":\"LinearScale\"},{\"attributes\":{},\"id\":\"4206\",\"type\":\"HelpTool\"},{\"attributes\":{},\"id\":\"4448\",\"type\":\"BasicTickFormatter\"},{\"attributes\":{\"end\":20},\"id\":\"4185\",\"type\":\"Range1d\"},{\"attributes\":{\"axis\":{\"id\":\"4197\"},\"dimension\":1,\"ticker\":null},\"id\":\"4200\",\"type\":\"Grid\"},{\"attributes\":{\"line_color\":\"red\",\"line_width\":2,\"x\":{\"field\":\"x\"},\"y\":{\"field\":\"y\"}},\"id\":\"4216\",\"type\":\"Line\"}],\"root_ids\":[\"4184\"]},\"title\":\"Bokeh Application\",\"version\":\"2.3.2\"}};\n",
       "  var render_items = [{\"docid\":\"0c0a7557-2036-42fe-9ab6-19f07a8d1253\",\"root_ids\":[\"4184\"],\"roots\":{\"4184\":\"4537b81e-1786-4f42-88a1-5ffb35314cab\"}}];\n",
       "  root.Bokeh.embed.embed_items_notebook(docs_json, render_items);\n",
       "\n",
       "  }\n",
       "  if (root.Bokeh !== undefined) {\n",
       "    embed_document(root);\n",
       "  } else {\n",
       "    var attempts = 0;\n",
       "    var timer = setInterval(function(root) {\n",
       "      if (root.Bokeh !== undefined) {\n",
       "        clearInterval(timer);\n",
       "        embed_document(root);\n",
       "      } else {\n",
       "        attempts++;\n",
       "        if (attempts > 100) {\n",
       "          clearInterval(timer);\n",
       "          console.log(\"Bokeh: ERROR: Unable to run BokehJS code because BokehJS library is missing\");\n",
       "        }\n",
       "      }\n",
       "    }, 10, root)\n",
       "  }\n",
       "})(window);"
      ],
      "application/vnd.bokehjs_exec.v0+json": ""
     },
     "metadata": {
      "application/vnd.bokehjs_exec.v0+json": {
       "id": "4184"
      }
     },
     "output_type": "display_data"
    }
   ],
   "source": [
    "x=np.linspace(0,20,200)\n",
    "y=np.sin(x)\n",
    "p=figure(plot_width=600, plot_height=300, \n",
    "        y_range=(-2,2), \n",
    "        x_range=(0,20))\n",
    "\n",
    "p.line(x, y, \n",
    "      line_width=2, \n",
    "      color=\"red\")\n",
    "upper=Span(dimension=\"width\",\n",
    "           location=1,\n",
    "           line_width=2, \n",
    "           line_color=\"olive\")\n",
    "p.add_layout(upper)\n",
    "\n",
    "lower=Span(dimension=\"width\",\n",
    "           location=-1,\n",
    "           line_width=2, \n",
    "           line_color=\"DarkBlue\")\n",
    "p.add_layout(lower)\n",
    "show(p)"
   ]
  },
  {
   "cell_type": "markdown",
   "metadata": {},
   "source": [
    "### Box Annotations\n",
    "\n",
    "Sometimes you might want to call out some region of the plot by drawing a shaded box. This can be done with the `BoxAnnotation`, which is configured with the coordinate properties:\n",
    "* `top`\n",
    "* `left`\n",
    "* `bottom`\n",
    "* `right`\n",
    "\n",
    "as well as any visual line or fill properties to control the appearance. \n",
    "\n",
    "\"Infinite\" boxes can be made by leaving any of the coordinates unspecified. E.g., if `top` is not given, the box will always extend to the top of the plot area, regardless of any panning or zooming that happens.\n",
    "\n",
    "Let's take a look at an example that adds a few shaded boxes to a plot:"
   ]
  },
  {
   "cell_type": "code",
   "execution_count": 24,
   "metadata": {},
   "outputs": [],
   "source": [
    "from bokeh.models.annotations import BoxAnnotation"
   ]
  },
  {
   "cell_type": "code",
   "execution_count": 25,
   "metadata": {},
   "outputs": [
    {
     "data": {
      "text/html": [
       "\n",
       "\n",
       "\n",
       "\n",
       "\n",
       "\n",
       "  <div class=\"bk-root\" id=\"ae502b1a-2204-4710-98bf-b577e863de1d\" data-root-id=\"4508\"></div>\n"
      ]
     },
     "metadata": {},
     "output_type": "display_data"
    },
    {
     "data": {
      "application/javascript": [
       "(function(root) {\n",
       "  function embed_document(root) {\n",
       "    \n",
       "  var docs_json = {\"5ed64aab-f03c-4cf9-8260-6e65dcc3a71d\":{\"defs\":[],\"roots\":{\"references\":[{\"attributes\":{\"below\":[{\"id\":\"4517\"}],\"center\":[{\"id\":\"4520\"},{\"id\":\"4524\"},{\"id\":\"4544\"},{\"id\":\"4545\"},{\"id\":\"4546\"}],\"height\":300,\"left\":[{\"id\":\"4521\"}],\"renderers\":[{\"id\":\"4542\"}],\"title\":{\"id\":\"4779\"},\"toolbar\":{\"id\":\"4532\"},\"x_range\":{\"id\":\"4509\"},\"x_scale\":{\"id\":\"4513\"},\"y_range\":{\"id\":\"4511\"},\"y_scale\":{\"id\":\"4515\"}},\"id\":\"4508\",\"subtype\":\"Figure\",\"type\":\"Plot\"},{\"attributes\":{\"axis\":{\"id\":\"4521\"},\"dimension\":1,\"ticker\":null},\"id\":\"4524\",\"type\":\"Grid\"},{\"attributes\":{},\"id\":\"4522\",\"type\":\"BasicTicker\"},{\"attributes\":{},\"id\":\"4525\",\"type\":\"PanTool\"},{\"attributes\":{\"overlay\":{\"id\":\"4531\"}},\"id\":\"4527\",\"type\":\"BoxZoomTool\"},{\"attributes\":{},\"id\":\"4528\",\"type\":\"SaveTool\"},{\"attributes\":{},\"id\":\"4783\",\"type\":\"AllLabels\"},{\"attributes\":{\"bottom\":1,\"fill_alpha\":0.1,\"fill_color\":\"olive\"},\"id\":\"4544\",\"type\":\"BoxAnnotation\"},{\"attributes\":{},\"id\":\"4779\",\"type\":\"Title\"},{\"attributes\":{},\"id\":\"4784\",\"type\":\"BasicTickFormatter\"},{\"attributes\":{},\"id\":\"4780\",\"type\":\"AllLabels\"},{\"attributes\":{},\"id\":\"4781\",\"type\":\"BasicTickFormatter\"},{\"attributes\":{\"fill_alpha\":0.1,\"fill_color\":\"firebrick\",\"top\":-1},\"id\":\"4546\",\"type\":\"BoxAnnotation\"},{\"attributes\":{\"data\":{\"x\":{\"__ndarray__\":\"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\",\"dtype\":\"float64\",\"order\":\"little\",\"shape\":[200]},\"y\":{\"__ndarray__\":\"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\",\"dtype\":\"float64\",\"order\":\"little\",\"shape\":[200]}},\"selected\":{\"id\":\"4786\"},\"selection_policy\":{\"id\":\"4787\"}},\"id\":\"4539\",\"type\":\"ColumnDataSource\"},{\"attributes\":{\"active_multi\":null,\"tools\":[{\"id\":\"4525\"},{\"id\":\"4526\"},{\"id\":\"4527\"},{\"id\":\"4528\"},{\"id\":\"4529\"},{\"id\":\"4530\"}]},\"id\":\"4532\",\"type\":\"Toolbar\"},{\"attributes\":{\"line_color\":\"red\",\"line_width\":2,\"x\":{\"field\":\"x\"},\"y\":{\"field\":\"y\"}},\"id\":\"4540\",\"type\":\"Line\"},{\"attributes\":{\"end\":20},\"id\":\"4509\",\"type\":\"Range1d\"},{\"attributes\":{\"bottom_units\":\"screen\",\"fill_alpha\":0.5,\"fill_color\":\"lightgrey\",\"left_units\":\"screen\",\"level\":\"overlay\",\"line_alpha\":1.0,\"line_color\":\"black\",\"line_dash\":[4,4],\"line_width\":2,\"right_units\":\"screen\",\"syncable\":false,\"top_units\":\"screen\"},\"id\":\"4531\",\"type\":\"BoxAnnotation\"},{\"attributes\":{\"data_source\":{\"id\":\"4539\"},\"glyph\":{\"id\":\"4540\"},\"hover_glyph\":null,\"muted_glyph\":null,\"nonselection_glyph\":{\"id\":\"4541\"},\"view\":{\"id\":\"4543\"}},\"id\":\"4542\",\"type\":\"GlyphRenderer\"},{\"attributes\":{\"source\":{\"id\":\"4539\"}},\"id\":\"4543\",\"type\":\"CDSView\"},{\"attributes\":{},\"id\":\"4526\",\"type\":\"WheelZoomTool\"},{\"attributes\":{\"bottom\":-0.3,\"fill_alpha\":0.1,\"fill_color\":\"navy\",\"left\":7,\"right\":12,\"top\":0.6},\"id\":\"4545\",\"type\":\"BoxAnnotation\"},{\"attributes\":{\"end\":2,\"start\":-2},\"id\":\"4511\",\"type\":\"Range1d\"},{\"attributes\":{\"line_alpha\":0.1,\"line_color\":\"red\",\"line_width\":2,\"x\":{\"field\":\"x\"},\"y\":{\"field\":\"y\"}},\"id\":\"4541\",\"type\":\"Line\"},{\"attributes\":{},\"id\":\"4513\",\"type\":\"LinearScale\"},{\"attributes\":{},\"id\":\"4529\",\"type\":\"ResetTool\"},{\"attributes\":{},\"id\":\"4530\",\"type\":\"HelpTool\"},{\"attributes\":{},\"id\":\"4515\",\"type\":\"LinearScale\"},{\"attributes\":{\"formatter\":{\"id\":\"4781\"},\"major_label_policy\":{\"id\":\"4780\"},\"ticker\":{\"id\":\"4522\"}},\"id\":\"4521\",\"type\":\"LinearAxis\"},{\"attributes\":{\"formatter\":{\"id\":\"4784\"},\"major_label_policy\":{\"id\":\"4783\"},\"ticker\":{\"id\":\"4518\"}},\"id\":\"4517\",\"type\":\"LinearAxis\"},{\"attributes\":{},\"id\":\"4786\",\"type\":\"Selection\"},{\"attributes\":{},\"id\":\"4518\",\"type\":\"BasicTicker\"},{\"attributes\":{\"axis\":{\"id\":\"4517\"},\"ticker\":null},\"id\":\"4520\",\"type\":\"Grid\"},{\"attributes\":{},\"id\":\"4787\",\"type\":\"UnionRenderers\"}],\"root_ids\":[\"4508\"]},\"title\":\"Bokeh Application\",\"version\":\"2.3.2\"}};\n",
       "  var render_items = [{\"docid\":\"5ed64aab-f03c-4cf9-8260-6e65dcc3a71d\",\"root_ids\":[\"4508\"],\"roots\":{\"4508\":\"ae502b1a-2204-4710-98bf-b577e863de1d\"}}];\n",
       "  root.Bokeh.embed.embed_items_notebook(docs_json, render_items);\n",
       "\n",
       "  }\n",
       "  if (root.Bokeh !== undefined) {\n",
       "    embed_document(root);\n",
       "  } else {\n",
       "    var attempts = 0;\n",
       "    var timer = setInterval(function(root) {\n",
       "      if (root.Bokeh !== undefined) {\n",
       "        clearInterval(timer);\n",
       "        embed_document(root);\n",
       "      } else {\n",
       "        attempts++;\n",
       "        if (attempts > 100) {\n",
       "          clearInterval(timer);\n",
       "          console.log(\"Bokeh: ERROR: Unable to run BokehJS code because BokehJS library is missing\");\n",
       "        }\n",
       "      }\n",
       "    }, 10, root)\n",
       "  }\n",
       "})(window);"
      ],
      "application/vnd.bokehjs_exec.v0+json": ""
     },
     "metadata": {
      "application/vnd.bokehjs_exec.v0+json": {
       "id": "4508"
      }
     },
     "output_type": "display_data"
    }
   ],
   "source": [
    "x=np.linspace(0,20,200)\n",
    "y=np.sin(x)\n",
    "p=figure(plot_width=600, plot_height=300, \n",
    "        y_range=(-2,2), \n",
    "        x_range=(0,20))\n",
    "\n",
    "p.line(x, y, \n",
    "      line_width=2, \n",
    "      color=\"red\")\n",
    "\n",
    "upper=BoxAnnotation(bottom=1, fill_color=\"olive\",\n",
    "                   fill_alpha=0.1)\n",
    "p.add_layout(upper)\n",
    "\n",
    "center = BoxAnnotation(top=0.6, bottom=-0.3, left=7, right=12, fill_alpha=0.1, fill_color='navy')\n",
    "p.add_layout(center)\n",
    "\n",
    "bottom=upper=BoxAnnotation(top=-1, fill_color=\"firebrick\",\n",
    "                   fill_alpha=0.1)\n",
    "p.add_layout(bottom)\n",
    "\n",
    "show(p)"
   ]
  },
  {
   "cell_type": "markdown",
   "metadata": {},
   "source": [
    "### Label\n",
    "The `Label` annotation allows you to easily attach single text labels to plots. The position and text to display are configured as `x`, `y`, and `text`:\n",
    "\n",
    "```python\n",
    "Label(x=10, y=5, text=\"Some Label\")\n",
    "```\n",
    "Those are the most important properties for label annotation:\n",
    "\n",
    "* A `text` property containing the text to display inside the label.\n",
    "\n",
    "* `x` and `y` properties to set the position (in screen or data space units).\n",
    "\n",
    "* `x_offset` and `y_offset` properties to specify where to place the label in relation to its `x` and `y` coordinates.\n",
    "\n",
    "* The standard [text properties](https://docs.bokeh.org/en/latest/docs/user_guide/styling.html#userguide-styling-text-properties) as well as other styling parameters such as `border_line` and `background_fill` properties.\n",
    "\n",
    "By default the units are in \"data space\" but `x_units` and `y_units` maybe set to `\"screen\"` to position the label relative to the canvas.\n",
    "\n",
    "`Label` objects also have standard text, line (`border_line`) and fill (`background_fill`) properties. The line and fill properties apply to a bounding box around the text:\n",
    "\n",
    "```python\n",
    "Label(x=10, y=5, text=\"Some Label\", text_font_size=\"12pt\", \n",
    "      border_line_color=\"red\", background_fill_color=\"blue\")\n",
    "```"
   ]
  },
  {
   "cell_type": "code",
   "execution_count": 26,
   "metadata": {},
   "outputs": [],
   "source": [
    "from bokeh.models.annotations import Label"
   ]
  },
  {
   "cell_type": "code",
   "execution_count": 27,
   "metadata": {},
   "outputs": [
    {
     "data": {
      "text/html": [
       "\n",
       "\n",
       "\n",
       "\n",
       "\n",
       "\n",
       "  <div class=\"bk-root\" id=\"57033f70-36d9-4ca0-af65-7d93691c8c12\" data-root-id=\"4844\"></div>\n"
      ]
     },
     "metadata": {},
     "output_type": "display_data"
    },
    {
     "data": {
      "application/javascript": [
       "(function(root) {\n",
       "  function embed_document(root) {\n",
       "    \n",
       "  var docs_json = {\"b45a3ed6-c4e3-4606-bc29-300a882228c6\":{\"defs\":[],\"roots\":{\"references\":[{\"attributes\":{\"below\":[{\"id\":\"4853\"}],\"center\":[{\"id\":\"4856\"},{\"id\":\"4860\"},{\"id\":\"4880\"}],\"height\":300,\"left\":[{\"id\":\"4857\"}],\"renderers\":[{\"id\":\"4878\"}],\"title\":{\"id\":\"5124\"},\"toolbar\":{\"id\":\"4868\"},\"x_range\":{\"id\":\"4845\"},\"x_scale\":{\"id\":\"4849\"},\"y_range\":{\"id\":\"4847\"},\"y_scale\":{\"id\":\"4851\"}},\"id\":\"4844\",\"subtype\":\"Figure\",\"type\":\"Plot\"},{\"attributes\":{},\"id\":\"4849\",\"type\":\"LinearScale\"},{\"attributes\":{},\"id\":\"5129\",\"type\":\"BasicTickFormatter\"},{\"attributes\":{},\"id\":\"4854\",\"type\":\"BasicTicker\"},{\"attributes\":{},\"id\":\"4862\",\"type\":\"WheelZoomTool\"},{\"attributes\":{\"end\":10},\"id\":\"4847\",\"type\":\"Range1d\"},{\"attributes\":{},\"id\":\"4851\",\"type\":\"LinearScale\"},{\"attributes\":{},\"id\":\"5124\",\"type\":\"Title\"},{\"attributes\":{\"axis\":{\"id\":\"4857\"},\"dimension\":1,\"ticker\":null},\"id\":\"4860\",\"type\":\"Grid\"},{\"attributes\":{\"end\":10},\"id\":\"4845\",\"type\":\"Range1d\"},{\"attributes\":{\"source\":{\"id\":\"4875\"}},\"id\":\"4879\",\"type\":\"CDSView\"},{\"attributes\":{},\"id\":\"4861\",\"type\":\"PanTool\"},{\"attributes\":{\"formatter\":{\"id\":\"5129\"},\"major_label_policy\":{\"id\":\"5128\"},\"ticker\":{\"id\":\"4854\"}},\"id\":\"4853\",\"type\":\"LinearAxis\"},{\"attributes\":{},\"id\":\"5125\",\"type\":\"AllLabels\"},{\"attributes\":{\"fill_color\":{\"value\":\"olive\"},\"line_color\":{\"value\":\"olive\"},\"size\":{\"value\":10},\"x\":{\"field\":\"x\"},\"y\":{\"field\":\"y\"}},\"id\":\"4876\",\"type\":\"Circle\"},{\"attributes\":{\"formatter\":{\"id\":\"5126\"},\"major_label_policy\":{\"id\":\"5125\"},\"ticker\":{\"id\":\"4858\"}},\"id\":\"4857\",\"type\":\"LinearAxis\"},{\"attributes\":{},\"id\":\"5126\",\"type\":\"BasicTickFormatter\"},{\"attributes\":{\"text\":\"Second Point\",\"x\":5,\"x_offset\":12,\"y\":7},\"id\":\"4880\",\"type\":\"Label\"},{\"attributes\":{},\"id\":\"5132\",\"type\":\"UnionRenderers\"},{\"attributes\":{\"data\":{\"x\":[2,5,8],\"y\":[4,7,6]},\"selected\":{\"id\":\"5131\"},\"selection_policy\":{\"id\":\"5132\"}},\"id\":\"4875\",\"type\":\"ColumnDataSource\"},{\"attributes\":{\"data_source\":{\"id\":\"4875\"},\"glyph\":{\"id\":\"4876\"},\"hover_glyph\":null,\"muted_glyph\":null,\"nonselection_glyph\":{\"id\":\"4877\"},\"view\":{\"id\":\"4879\"}},\"id\":\"4878\",\"type\":\"GlyphRenderer\"},{\"attributes\":{\"fill_alpha\":{\"value\":0.1},\"fill_color\":{\"value\":\"olive\"},\"line_alpha\":{\"value\":0.1},\"line_color\":{\"value\":\"olive\"},\"size\":{\"value\":10},\"x\":{\"field\":\"x\"},\"y\":{\"field\":\"y\"}},\"id\":\"4877\",\"type\":\"Circle\"},{\"attributes\":{},\"id\":\"4858\",\"type\":\"BasicTicker\"},{\"attributes\":{\"active_multi\":null,\"tools\":[{\"id\":\"4861\"},{\"id\":\"4862\"},{\"id\":\"4863\"},{\"id\":\"4864\"},{\"id\":\"4865\"},{\"id\":\"4866\"}]},\"id\":\"4868\",\"type\":\"Toolbar\"},{\"attributes\":{},\"id\":\"4866\",\"type\":\"HelpTool\"},{\"attributes\":{\"overlay\":{\"id\":\"4867\"}},\"id\":\"4863\",\"type\":\"BoxZoomTool\"},{\"attributes\":{\"axis\":{\"id\":\"4853\"},\"ticker\":null},\"id\":\"4856\",\"type\":\"Grid\"},{\"attributes\":{},\"id\":\"4864\",\"type\":\"SaveTool\"},{\"attributes\":{\"bottom_units\":\"screen\",\"fill_alpha\":0.5,\"fill_color\":\"lightgrey\",\"left_units\":\"screen\",\"level\":\"overlay\",\"line_alpha\":1.0,\"line_color\":\"black\",\"line_dash\":[4,4],\"line_width\":2,\"right_units\":\"screen\",\"syncable\":false,\"top_units\":\"screen\"},\"id\":\"4867\",\"type\":\"BoxAnnotation\"},{\"attributes\":{},\"id\":\"4865\",\"type\":\"ResetTool\"},{\"attributes\":{},\"id\":\"5131\",\"type\":\"Selection\"},{\"attributes\":{},\"id\":\"5128\",\"type\":\"AllLabels\"}],\"root_ids\":[\"4844\"]},\"title\":\"Bokeh Application\",\"version\":\"2.3.2\"}};\n",
       "  var render_items = [{\"docid\":\"b45a3ed6-c4e3-4606-bc29-300a882228c6\",\"root_ids\":[\"4844\"],\"roots\":{\"4844\":\"57033f70-36d9-4ca0-af65-7d93691c8c12\"}}];\n",
       "  root.Bokeh.embed.embed_items_notebook(docs_json, render_items);\n",
       "\n",
       "  }\n",
       "  if (root.Bokeh !== undefined) {\n",
       "    embed_document(root);\n",
       "  } else {\n",
       "    var attempts = 0;\n",
       "    var timer = setInterval(function(root) {\n",
       "      if (root.Bokeh !== undefined) {\n",
       "        clearInterval(timer);\n",
       "        embed_document(root);\n",
       "      } else {\n",
       "        attempts++;\n",
       "        if (attempts > 100) {\n",
       "          clearInterval(timer);\n",
       "          console.log(\"Bokeh: ERROR: Unable to run BokehJS code because BokehJS library is missing\");\n",
       "        }\n",
       "      }\n",
       "    }, 10, root)\n",
       "  }\n",
       "})(window);"
      ],
      "application/vnd.bokehjs_exec.v0+json": ""
     },
     "metadata": {
      "application/vnd.bokehjs_exec.v0+json": {
       "id": "4844"
      }
     },
     "output_type": "display_data"
    }
   ],
   "source": [
    "p = figure(plot_width=600,\n",
    "           plot_height=300,\n",
    "           x_range=(0,10), \n",
    "           y_range=(0,10))\n",
    "p.circle([2, 5, 8], [4, 7, 6], color=\"olive\", size=10)\n",
    "\n",
    "label = Label(x=5, y=7, x_offset=12, text=\"Second Point\")\n",
    "p.add_layout(label)\n",
    "\n",
    "show(p)"
   ]
  },
  {
   "cell_type": "code",
   "execution_count": 28,
   "metadata": {},
   "outputs": [
    {
     "data": {
      "text/html": [
       "\n",
       "\n",
       "\n",
       "\n",
       "\n",
       "\n",
       "  <div class=\"bk-root\" id=\"01c03541-39f7-472a-90b9-86aa2c766aee\" data-root-id=\"5189\"></div>\n"
      ]
     },
     "metadata": {},
     "output_type": "display_data"
    },
    {
     "data": {
      "application/javascript": [
       "(function(root) {\n",
       "  function embed_document(root) {\n",
       "    \n",
       "  var docs_json = {\"63213c5d-776a-4fe6-acbb-1bd8a1b8359b\":{\"defs\":[],\"roots\":{\"references\":[{\"attributes\":{\"below\":[{\"id\":\"5198\"}],\"center\":[{\"id\":\"5201\"},{\"id\":\"5205\"},{\"id\":\"5225\"}],\"height\":300,\"left\":[{\"id\":\"5202\"}],\"renderers\":[{\"id\":\"5223\"}],\"title\":{\"id\":\"5480\"},\"toolbar\":{\"id\":\"5213\"},\"x_range\":{\"id\":\"5190\"},\"x_scale\":{\"id\":\"5194\"},\"y_range\":{\"id\":\"5192\"},\"y_scale\":{\"id\":\"5196\"}},\"id\":\"5189\",\"subtype\":\"Figure\",\"type\":\"Plot\"},{\"attributes\":{},\"id\":\"5488\",\"type\":\"UnionRenderers\"},{\"attributes\":{},\"id\":\"5487\",\"type\":\"Selection\"},{\"attributes\":{\"data_source\":{\"id\":\"5220\"},\"glyph\":{\"id\":\"5221\"},\"hover_glyph\":null,\"muted_glyph\":null,\"nonselection_glyph\":{\"id\":\"5222\"},\"view\":{\"id\":\"5224\"}},\"id\":\"5223\",\"type\":\"GlyphRenderer\"},{\"attributes\":{\"axis\":{\"id\":\"5198\"},\"ticker\":null},\"id\":\"5201\",\"type\":\"Grid\"},{\"attributes\":{\"source\":{\"id\":\"5220\"}},\"id\":\"5224\",\"type\":\"CDSView\"},{\"attributes\":{},\"id\":\"5203\",\"type\":\"BasicTicker\"},{\"attributes\":{},\"id\":\"5481\",\"type\":\"AllLabels\"},{\"attributes\":{\"end\":10},\"id\":\"5190\",\"type\":\"Range1d\"},{\"attributes\":{\"fill_alpha\":{\"value\":0.1},\"fill_color\":{\"value\":\"olive\"},\"line_alpha\":{\"value\":0.1},\"line_color\":{\"value\":\"olive\"},\"size\":{\"value\":10},\"x\":{\"field\":\"x\"},\"y\":{\"field\":\"y\"}},\"id\":\"5222\",\"type\":\"Circle\"},{\"attributes\":{},\"id\":\"5480\",\"type\":\"Title\"},{\"attributes\":{\"bottom_units\":\"screen\",\"fill_alpha\":0.5,\"fill_color\":\"lightgrey\",\"left_units\":\"screen\",\"level\":\"overlay\",\"line_alpha\":1.0,\"line_color\":\"black\",\"line_dash\":[4,4],\"line_width\":2,\"right_units\":\"screen\",\"syncable\":false,\"top_units\":\"screen\"},\"id\":\"5212\",\"type\":\"BoxAnnotation\"},{\"attributes\":{},\"id\":\"5199\",\"type\":\"BasicTicker\"},{\"attributes\":{},\"id\":\"5210\",\"type\":\"ResetTool\"},{\"attributes\":{\"axis\":{\"id\":\"5202\"},\"dimension\":1,\"ticker\":null},\"id\":\"5205\",\"type\":\"Grid\"},{\"attributes\":{\"formatter\":{\"id\":\"5482\"},\"major_label_policy\":{\"id\":\"5481\"},\"ticker\":{\"id\":\"5203\"}},\"id\":\"5202\",\"type\":\"LinearAxis\"},{\"attributes\":{\"formatter\":{\"id\":\"5485\"},\"major_label_policy\":{\"id\":\"5484\"},\"ticker\":{\"id\":\"5199\"}},\"id\":\"5198\",\"type\":\"LinearAxis\"},{\"attributes\":{},\"id\":\"5209\",\"type\":\"SaveTool\"},{\"attributes\":{\"end\":10},\"id\":\"5192\",\"type\":\"Range1d\"},{\"attributes\":{},\"id\":\"5485\",\"type\":\"BasicTickFormatter\"},{\"attributes\":{},\"id\":\"5194\",\"type\":\"LinearScale\"},{\"attributes\":{\"text\":\"Second Point\",\"text_baseline\":\"middle\",\"x\":5,\"x_offset\":12,\"y\":7},\"id\":\"5225\",\"type\":\"Label\"},{\"attributes\":{},\"id\":\"5211\",\"type\":\"HelpTool\"},{\"attributes\":{},\"id\":\"5484\",\"type\":\"AllLabels\"},{\"attributes\":{},\"id\":\"5482\",\"type\":\"BasicTickFormatter\"},{\"attributes\":{},\"id\":\"5206\",\"type\":\"PanTool\"},{\"attributes\":{},\"id\":\"5196\",\"type\":\"LinearScale\"},{\"attributes\":{\"overlay\":{\"id\":\"5212\"}},\"id\":\"5208\",\"type\":\"BoxZoomTool\"},{\"attributes\":{},\"id\":\"5207\",\"type\":\"WheelZoomTool\"},{\"attributes\":{\"active_multi\":null,\"tools\":[{\"id\":\"5206\"},{\"id\":\"5207\"},{\"id\":\"5208\"},{\"id\":\"5209\"},{\"id\":\"5210\"},{\"id\":\"5211\"}]},\"id\":\"5213\",\"type\":\"Toolbar\"},{\"attributes\":{\"fill_color\":{\"value\":\"olive\"},\"line_color\":{\"value\":\"olive\"},\"size\":{\"value\":10},\"x\":{\"field\":\"x\"},\"y\":{\"field\":\"y\"}},\"id\":\"5221\",\"type\":\"Circle\"},{\"attributes\":{\"data\":{\"x\":[2,5,8],\"y\":[4,7,6]},\"selected\":{\"id\":\"5487\"},\"selection_policy\":{\"id\":\"5488\"}},\"id\":\"5220\",\"type\":\"ColumnDataSource\"}],\"root_ids\":[\"5189\"]},\"title\":\"Bokeh Application\",\"version\":\"2.3.2\"}};\n",
       "  var render_items = [{\"docid\":\"63213c5d-776a-4fe6-acbb-1bd8a1b8359b\",\"root_ids\":[\"5189\"],\"roots\":{\"5189\":\"01c03541-39f7-472a-90b9-86aa2c766aee\"}}];\n",
       "  root.Bokeh.embed.embed_items_notebook(docs_json, render_items);\n",
       "\n",
       "  }\n",
       "  if (root.Bokeh !== undefined) {\n",
       "    embed_document(root);\n",
       "  } else {\n",
       "    var attempts = 0;\n",
       "    var timer = setInterval(function(root) {\n",
       "      if (root.Bokeh !== undefined) {\n",
       "        clearInterval(timer);\n",
       "        embed_document(root);\n",
       "      } else {\n",
       "        attempts++;\n",
       "        if (attempts > 100) {\n",
       "          clearInterval(timer);\n",
       "          console.log(\"Bokeh: ERROR: Unable to run BokehJS code because BokehJS library is missing\");\n",
       "        }\n",
       "      }\n",
       "    }, 10, root)\n",
       "  }\n",
       "})(window);"
      ],
      "application/vnd.bokehjs_exec.v0+json": ""
     },
     "metadata": {
      "application/vnd.bokehjs_exec.v0+json": {
       "id": "5189"
      }
     },
     "output_type": "display_data"
    }
   ],
   "source": [
    " p = figure(plot_width=600,\n",
    "           plot_height=300,\n",
    "           x_range=(0,10), \n",
    "           y_range=(0,10))\n",
    "p.circle([2, 5, 8], [4, 7, 6], color=\"olive\", size=10)\n",
    "\n",
    "label = Label(x=5, y=7, \n",
    "              x_offset=12, \n",
    "              text=\"Second Point\", \n",
    "              text_baseline=\"middle\")\n",
    "p.add_layout(label)\n",
    "\n",
    "show(p)"
   ]
  },
  {
   "cell_type": "markdown",
   "metadata": {},
   "source": [
    "### LabelSet"
   ]
  },
  {
   "cell_type": "code",
   "execution_count": 29,
   "metadata": {},
   "outputs": [],
   "source": [
    "from bokeh.models.annotations import LabelSet"
   ]
  },
  {
   "cell_type": "code",
   "execution_count": 30,
   "metadata": {},
   "outputs": [
    {
     "data": {
      "text/html": [
       "\n",
       "\n",
       "\n",
       "\n",
       "\n",
       "\n",
       "  <div class=\"bk-root\" id=\"0f4c9a48-3ee3-4543-b363-8f711d2d1a43\" data-root-id=\"5546\"></div>\n"
      ]
     },
     "metadata": {},
     "output_type": "display_data"
    },
    {
     "data": {
      "application/javascript": [
       "(function(root) {\n",
       "  function embed_document(root) {\n",
       "    \n",
       "  var docs_json = {\"258277b9-54fd-4d84-9e94-e9ced609bc02\":{\"defs\":[],\"roots\":{\"references\":[{\"attributes\":{\"below\":[{\"id\":\"5555\"}],\"center\":[{\"id\":\"5558\"},{\"id\":\"5562\"},{\"id\":\"5582\"}],\"height\":300,\"left\":[{\"id\":\"5559\"}],\"renderers\":[{\"id\":\"5580\"}],\"title\":{\"id\":\"5849\"},\"toolbar\":{\"id\":\"5570\"},\"x_range\":{\"id\":\"5547\"},\"x_scale\":{\"id\":\"5551\"},\"y_range\":{\"id\":\"5549\"},\"y_scale\":{\"id\":\"5553\"}},\"id\":\"5546\",\"subtype\":\"Figure\",\"type\":\"Plot\"},{\"attributes\":{},\"id\":\"5567\",\"type\":\"ResetTool\"},{\"attributes\":{},\"id\":\"5849\",\"type\":\"Title\"},{\"attributes\":{},\"id\":\"5850\",\"type\":\"AllLabels\"},{\"attributes\":{\"bottom_units\":\"screen\",\"fill_alpha\":0.5,\"fill_color\":\"lightgrey\",\"left_units\":\"screen\",\"level\":\"overlay\",\"line_alpha\":1.0,\"line_color\":\"black\",\"line_dash\":[4,4],\"line_width\":2,\"right_units\":\"screen\",\"syncable\":false,\"top_units\":\"screen\"},\"id\":\"5569\",\"type\":\"BoxAnnotation\"},{\"attributes\":{},\"id\":\"5851\",\"type\":\"BasicTickFormatter\"},{\"attributes\":{\"data\":{\"names\":[\"A\",\"B\",\"C\",\"D\",\"E\",\"F\"],\"pressure\":[165,189,220,141,260,174],\"temp\":[166,171,172,168,174,162]},\"selected\":{\"id\":\"5856\"},\"selection_policy\":{\"id\":\"5857\"}},\"id\":\"5545\",\"type\":\"ColumnDataSource\"},{\"attributes\":{\"fill_color\":{\"value\":\"#1f77b4\"},\"line_color\":{\"value\":\"#1f77b4\"},\"size\":{\"value\":8},\"x\":{\"field\":\"temp\"},\"y\":{\"field\":\"pressure\"}},\"id\":\"5578\",\"type\":\"Scatter\"},{\"attributes\":{},\"id\":\"5856\",\"type\":\"Selection\"},{\"attributes\":{\"end\":270,\"start\":135},\"id\":\"5549\",\"type\":\"Range1d\"},{\"attributes\":{\"axis_label\":\"Pressure (lbs)\",\"formatter\":{\"id\":\"5851\"},\"major_label_policy\":{\"id\":\"5850\"},\"ticker\":{\"id\":\"5560\"}},\"id\":\"5559\",\"type\":\"LinearAxis\"},{\"attributes\":{\"end\":175,\"start\":160},\"id\":\"5547\",\"type\":\"Range1d\"},{\"attributes\":{},\"id\":\"5857\",\"type\":\"UnionRenderers\"},{\"attributes\":{\"fill_alpha\":{\"value\":0.1},\"fill_color\":{\"value\":\"#1f77b4\"},\"line_alpha\":{\"value\":0.1},\"line_color\":{\"value\":\"#1f77b4\"},\"size\":{\"value\":8},\"x\":{\"field\":\"temp\"},\"y\":{\"field\":\"pressure\"}},\"id\":\"5579\",\"type\":\"Scatter\"},{\"attributes\":{},\"id\":\"5568\",\"type\":\"HelpTool\"},{\"attributes\":{\"axis_label\":\"Temperature (C)\",\"formatter\":{\"id\":\"5854\"},\"major_label_policy\":{\"id\":\"5853\"},\"ticker\":{\"id\":\"5556\"}},\"id\":\"5555\",\"type\":\"LinearAxis\"},{\"attributes\":{},\"id\":\"5551\",\"type\":\"LinearScale\"},{\"attributes\":{},\"id\":\"5553\",\"type\":\"LinearScale\"},{\"attributes\":{},\"id\":\"5556\",\"type\":\"BasicTicker\"},{\"attributes\":{\"axis\":{\"id\":\"5555\"},\"ticker\":null},\"id\":\"5558\",\"type\":\"Grid\"},{\"attributes\":{\"axis\":{\"id\":\"5559\"},\"dimension\":1,\"ticker\":null},\"id\":\"5562\",\"type\":\"Grid\"},{\"attributes\":{},\"id\":\"5560\",\"type\":\"BasicTicker\"},{\"attributes\":{\"source\":{\"id\":\"5545\"},\"text\":{\"field\":\"names\"},\"x\":{\"field\":\"temp\"},\"y\":{\"field\":\"pressure\"}},\"id\":\"5582\",\"type\":\"LabelSet\"},{\"attributes\":{},\"id\":\"5564\",\"type\":\"WheelZoomTool\"},{\"attributes\":{},\"id\":\"5853\",\"type\":\"AllLabels\"},{\"attributes\":{\"active_multi\":null,\"tools\":[{\"id\":\"5563\"},{\"id\":\"5564\"},{\"id\":\"5565\"},{\"id\":\"5566\"},{\"id\":\"5567\"},{\"id\":\"5568\"}]},\"id\":\"5570\",\"type\":\"Toolbar\"},{\"attributes\":{\"data_source\":{\"id\":\"5545\"},\"glyph\":{\"id\":\"5578\"},\"hover_glyph\":null,\"muted_glyph\":null,\"nonselection_glyph\":{\"id\":\"5579\"},\"view\":{\"id\":\"5581\"}},\"id\":\"5580\",\"type\":\"GlyphRenderer\"},{\"attributes\":{},\"id\":\"5563\",\"type\":\"PanTool\"},{\"attributes\":{\"overlay\":{\"id\":\"5569\"}},\"id\":\"5565\",\"type\":\"BoxZoomTool\"},{\"attributes\":{},\"id\":\"5566\",\"type\":\"SaveTool\"},{\"attributes\":{},\"id\":\"5854\",\"type\":\"BasicTickFormatter\"},{\"attributes\":{\"source\":{\"id\":\"5545\"}},\"id\":\"5581\",\"type\":\"CDSView\"}],\"root_ids\":[\"5546\"]},\"title\":\"Bokeh Application\",\"version\":\"2.3.2\"}};\n",
       "  var render_items = [{\"docid\":\"258277b9-54fd-4d84-9e94-e9ced609bc02\",\"root_ids\":[\"5546\"],\"roots\":{\"5546\":\"0f4c9a48-3ee3-4543-b363-8f711d2d1a43\"}}];\n",
       "  root.Bokeh.embed.embed_items_notebook(docs_json, render_items);\n",
       "\n",
       "  }\n",
       "  if (root.Bokeh !== undefined) {\n",
       "    embed_document(root);\n",
       "  } else {\n",
       "    var attempts = 0;\n",
       "    var timer = setInterval(function(root) {\n",
       "      if (root.Bokeh !== undefined) {\n",
       "        clearInterval(timer);\n",
       "        embed_document(root);\n",
       "      } else {\n",
       "        attempts++;\n",
       "        if (attempts > 100) {\n",
       "          clearInterval(timer);\n",
       "          console.log(\"Bokeh: ERROR: Unable to run BokehJS code because BokehJS library is missing\");\n",
       "        }\n",
       "      }\n",
       "    }, 10, root)\n",
       "  }\n",
       "})(window);"
      ],
      "application/vnd.bokehjs_exec.v0+json": ""
     },
     "metadata": {
      "application/vnd.bokehjs_exec.v0+json": {
       "id": "5546"
      }
     },
     "output_type": "display_data"
    }
   ],
   "source": [
    "source = ColumnDataSource(data=dict(\n",
    "    temp=[166, 171, 172, 168, 174, 162],\n",
    "    pressure=[165, 189, 220, 141, 260, 174],\n",
    "    names=['A', 'B', 'C', 'D', 'E', 'F']))\n",
    "\n",
    "p = figure(plot_width=600, plot_height=300,\n",
    "           x_range=(160, 175), \n",
    "           y_range=(135, 270))\n",
    "p.scatter(x='temp', y='pressure', size=8, source=source)\n",
    "p.xaxis.axis_label = 'Temperature (C)'\n",
    "p.yaxis.axis_label = 'Pressure (lbs)'\n",
    "\n",
    "labels = LabelSet(x='temp', y='pressure', text='names',\n",
    "                    source=source)\n",
    "\n",
    "\n",
    "p.add_layout(labels)\n",
    "\n",
    "show(p)"
   ]
  },
  {
   "cell_type": "code",
   "execution_count": 31,
   "metadata": {},
   "outputs": [
    {
     "data": {
      "text/html": [
       "\n",
       "\n",
       "\n",
       "\n",
       "\n",
       "\n",
       "  <div class=\"bk-root\" id=\"33c40b28-525c-4890-b8f3-7e3e6519f136\" data-root-id=\"5914\"></div>\n"
      ]
     },
     "metadata": {},
     "output_type": "display_data"
    },
    {
     "data": {
      "application/javascript": [
       "(function(root) {\n",
       "  function embed_document(root) {\n",
       "    \n",
       "  var docs_json = {\"8a521132-2301-4737-b493-25e8df2a64ce\":{\"defs\":[],\"roots\":{\"references\":[{\"attributes\":{\"below\":[{\"id\":\"5923\"}],\"center\":[{\"id\":\"5926\"},{\"id\":\"5930\"},{\"id\":\"5950\"}],\"height\":300,\"left\":[{\"id\":\"5927\"}],\"renderers\":[{\"id\":\"5948\"}],\"title\":{\"id\":\"6228\"},\"toolbar\":{\"id\":\"5938\"},\"x_range\":{\"id\":\"5915\"},\"x_scale\":{\"id\":\"5919\"},\"y_range\":{\"id\":\"5917\"},\"y_scale\":{\"id\":\"5921\"}},\"id\":\"5914\",\"subtype\":\"Figure\",\"type\":\"Plot\"},{\"attributes\":{},\"id\":\"5932\",\"type\":\"WheelZoomTool\"},{\"attributes\":{},\"id\":\"5931\",\"type\":\"PanTool\"},{\"attributes\":{\"overlay\":{\"id\":\"5937\"}},\"id\":\"5933\",\"type\":\"BoxZoomTool\"},{\"attributes\":{\"data\":{\"names\":[\"A\",\"B\",\"C\",\"D\",\"E\",\"F\"],\"pressure\":[165,189,220,141,260,174],\"temp\":[166,171,172,168,174,162]},\"selected\":{\"id\":\"5856\"},\"selection_policy\":{\"id\":\"5857\"}},\"id\":\"5545\",\"type\":\"ColumnDataSource\"},{\"attributes\":{\"source\":{\"id\":\"5545\"}},\"id\":\"5949\",\"type\":\"CDSView\"},{\"attributes\":{},\"id\":\"5934\",\"type\":\"SaveTool\"},{\"attributes\":{\"fill_color\":{\"value\":\"#1f77b4\"},\"line_color\":{\"value\":\"#1f77b4\"},\"size\":{\"value\":8},\"x\":{\"field\":\"temp\"},\"y\":{\"field\":\"pressure\"}},\"id\":\"5946\",\"type\":\"Scatter\"},{\"attributes\":{},\"id\":\"5935\",\"type\":\"ResetTool\"},{\"attributes\":{},\"id\":\"5856\",\"type\":\"Selection\"},{\"attributes\":{},\"id\":\"5857\",\"type\":\"UnionRenderers\"},{\"attributes\":{\"axis_label\":\"Temperature (C)\",\"formatter\":{\"id\":\"6233\"},\"major_label_policy\":{\"id\":\"6232\"},\"ticker\":{\"id\":\"5924\"}},\"id\":\"5923\",\"type\":\"LinearAxis\"},{\"attributes\":{\"data_source\":{\"id\":\"5545\"},\"glyph\":{\"id\":\"5946\"},\"hover_glyph\":null,\"muted_glyph\":null,\"nonselection_glyph\":{\"id\":\"5947\"},\"view\":{\"id\":\"5949\"}},\"id\":\"5948\",\"type\":\"GlyphRenderer\"},{\"attributes\":{\"fill_alpha\":{\"value\":0.1},\"fill_color\":{\"value\":\"#1f77b4\"},\"line_alpha\":{\"value\":0.1},\"line_color\":{\"value\":\"#1f77b4\"},\"size\":{\"value\":8},\"x\":{\"field\":\"temp\"},\"y\":{\"field\":\"pressure\"}},\"id\":\"5947\",\"type\":\"Scatter\"},{\"attributes\":{},\"id\":\"6230\",\"type\":\"BasicTickFormatter\"},{\"attributes\":{\"source\":{\"id\":\"5545\"},\"text\":{\"field\":\"names\"},\"x\":{\"field\":\"temp\"},\"x_offset\":{\"value\":5},\"y\":{\"field\":\"pressure\"},\"y_offset\":{\"value\":5}},\"id\":\"5950\",\"type\":\"LabelSet\"},{\"attributes\":{},\"id\":\"6229\",\"type\":\"AllLabels\"},{\"attributes\":{\"end\":175,\"start\":160},\"id\":\"5915\",\"type\":\"Range1d\"},{\"attributes\":{\"end\":270,\"start\":135},\"id\":\"5917\",\"type\":\"Range1d\"},{\"attributes\":{\"axis_label\":\"Pressure (lbs)\",\"formatter\":{\"id\":\"6230\"},\"major_label_policy\":{\"id\":\"6229\"},\"ticker\":{\"id\":\"5928\"}},\"id\":\"5927\",\"type\":\"LinearAxis\"},{\"attributes\":{\"active_multi\":null,\"tools\":[{\"id\":\"5931\"},{\"id\":\"5932\"},{\"id\":\"5933\"},{\"id\":\"5934\"},{\"id\":\"5935\"},{\"id\":\"5936\"}]},\"id\":\"5938\",\"type\":\"Toolbar\"},{\"attributes\":{},\"id\":\"5919\",\"type\":\"LinearScale\"},{\"attributes\":{},\"id\":\"5936\",\"type\":\"HelpTool\"},{\"attributes\":{},\"id\":\"5921\",\"type\":\"LinearScale\"},{\"attributes\":{},\"id\":\"5924\",\"type\":\"BasicTicker\"},{\"attributes\":{\"axis\":{\"id\":\"5923\"},\"ticker\":null},\"id\":\"5926\",\"type\":\"Grid\"},{\"attributes\":{},\"id\":\"6232\",\"type\":\"AllLabels\"},{\"attributes\":{\"bottom_units\":\"screen\",\"fill_alpha\":0.5,\"fill_color\":\"lightgrey\",\"left_units\":\"screen\",\"level\":\"overlay\",\"line_alpha\":1.0,\"line_color\":\"black\",\"line_dash\":[4,4],\"line_width\":2,\"right_units\":\"screen\",\"syncable\":false,\"top_units\":\"screen\"},\"id\":\"5937\",\"type\":\"BoxAnnotation\"},{\"attributes\":{},\"id\":\"6228\",\"type\":\"Title\"},{\"attributes\":{},\"id\":\"6233\",\"type\":\"BasicTickFormatter\"},{\"attributes\":{\"axis\":{\"id\":\"5927\"},\"dimension\":1,\"ticker\":null},\"id\":\"5930\",\"type\":\"Grid\"},{\"attributes\":{},\"id\":\"5928\",\"type\":\"BasicTicker\"}],\"root_ids\":[\"5914\"]},\"title\":\"Bokeh Application\",\"version\":\"2.3.2\"}};\n",
       "  var render_items = [{\"docid\":\"8a521132-2301-4737-b493-25e8df2a64ce\",\"root_ids\":[\"5914\"],\"roots\":{\"5914\":\"33c40b28-525c-4890-b8f3-7e3e6519f136\"}}];\n",
       "  root.Bokeh.embed.embed_items_notebook(docs_json, render_items);\n",
       "\n",
       "  }\n",
       "  if (root.Bokeh !== undefined) {\n",
       "    embed_document(root);\n",
       "  } else {\n",
       "    var attempts = 0;\n",
       "    var timer = setInterval(function(root) {\n",
       "      if (root.Bokeh !== undefined) {\n",
       "        clearInterval(timer);\n",
       "        embed_document(root);\n",
       "      } else {\n",
       "        attempts++;\n",
       "        if (attempts > 100) {\n",
       "          clearInterval(timer);\n",
       "          console.log(\"Bokeh: ERROR: Unable to run BokehJS code because BokehJS library is missing\");\n",
       "        }\n",
       "      }\n",
       "    }, 10, root)\n",
       "  }\n",
       "})(window);"
      ],
      "application/vnd.bokehjs_exec.v0+json": ""
     },
     "metadata": {
      "application/vnd.bokehjs_exec.v0+json": {
       "id": "5914"
      }
     },
     "output_type": "display_data"
    }
   ],
   "source": [
    "p = figure(plot_width=600, plot_height=300,\n",
    "           x_range=(160, 175), \n",
    "           y_range=(135, 270))\n",
    "p.scatter(x='temp', y='pressure', size=8, source=source)\n",
    "p.xaxis.axis_label = 'Temperature (C)'\n",
    "p.yaxis.axis_label = 'Pressure (lbs)'\n",
    "\n",
    "labels = LabelSet(x='temp', y='pressure', \n",
    "                  text='names',\n",
    "                  x_offset=5,\n",
    "                  y_offset=5,\n",
    "                  source=source)\n",
    "\n",
    "\n",
    "p.add_layout(labels)\n",
    "\n",
    "show(p)"
   ]
  },
  {
   "cell_type": "markdown",
   "metadata": {},
   "source": [
    "### Arrow \n",
    "You can use `Arrow` annotations to connect glyphs and label annotations. Arrows can also help highlight plot regions.\n",
    "\n",
    "For example, to create an arrow that points from `(0,0)` to `(1,1)`:\n",
    "\n",
    "```python\n",
    "p.add_layout(Arrow(x_start=0, y_start=0, x_end=1, y_end=0))\n",
    "```\n",
    "\n",
    "This arrow will have the default [`OpenHead`](https://bokeh.pydata.org/en/latest/docs/reference/models/arrow_heads.html#bokeh.models.arrow_heads.OpenHead) arrow head at the end of the arrow. Other kinds of arrow heads include [`NormalHead`](https://bokeh.pydata.org/en/latest/docs/reference/models/arrow_heads.html#bokeh.models.arrow_heads.NormalHead) and [`VeeHead`](https://bokeh.pydata.org/en/latest/docs/reference/models/arrow_heads.html#bokeh.models.arrow_heads.VeeHead). The arrow head type can be controlled by setting the `start` and `end` properties of `Arrow` objects:\n",
    "\n",
    "```python\n",
    "p.add_layout(Arrow(start=OpenHead(), end=VeeHead(), \n",
    "             x_start=0, y_start=0, x_end=1, y_end=0))\n",
    "```\n",
    "\n",
    "This will create a double-ended arrow with an \"open\" head at the start, and a \"vee\" head at the end. Arrowheads have the standard set of line and fill properties to control their appearance. \n",
    "\n",
    "Control the appearance of an arrowhead with these properties:\n",
    "\n",
    "* use the `size` property to control the size of any arrowheads\n",
    "\n",
    "* use the standard [line properties](https://docs.bokeh.org/en/latest/docs/user_guide/styling.html#userguide-styling-line-properties) such as `line_color` and `line_alpha` to control the appearance of the outline of the arrowhead.\n",
    "\n",
    "* use `fill_color` and `fill_alpha` to control the appearance of the arrowhead’s inner surface, if applicable.\n",
    "As an example\n",
    "\n",
    "```python\n",
    "OpenHead(line_color=\"firebrick\", line_width=4)\n",
    "```\n",
    "\n",
    "The code and plot below shows several of these configurations together."
   ]
  },
  {
   "cell_type": "code",
   "execution_count": 32,
   "metadata": {},
   "outputs": [],
   "source": [
    "from bokeh.models.annotations import Arrow\n",
    "from bokeh.models.arrow_heads import OpenHead,VeeHead,NormalHead"
   ]
  },
  {
   "cell_type": "code",
   "execution_count": 33,
   "metadata": {},
   "outputs": [
    {
     "data": {
      "text/html": [
       "\n",
       "\n",
       "\n",
       "\n",
       "\n",
       "\n",
       "  <div class=\"bk-root\" id=\"cd64557b-0850-489f-8aba-3fcd7e61cd1f\" data-root-id=\"6293\"></div>\n"
      ]
     },
     "metadata": {},
     "output_type": "display_data"
    },
    {
     "data": {
      "application/javascript": [
       "(function(root) {\n",
       "  function embed_document(root) {\n",
       "    \n",
       "  var docs_json = {\"f6970d43-44c5-4708-a017-478048a9ce91\":{\"defs\":[],\"roots\":{\"references\":[{\"attributes\":{\"below\":[{\"id\":\"6302\"}],\"center\":[{\"id\":\"6305\"},{\"id\":\"6309\"},{\"id\":\"6330\"},{\"id\":\"6333\"},{\"id\":\"6336\"}],\"height\":300,\"left\":[{\"id\":\"6306\"}],\"renderers\":[{\"id\":\"6327\"}],\"title\":{\"id\":\"6625\"},\"toolbar\":{\"id\":\"6317\"},\"x_range\":{\"id\":\"6294\"},\"x_scale\":{\"id\":\"6298\"},\"y_range\":{\"id\":\"6296\"},\"y_scale\":{\"id\":\"6300\"}},\"id\":\"6293\",\"subtype\":\"Figure\",\"type\":\"Plot\"},{\"attributes\":{\"data_source\":{\"id\":\"6324\"},\"glyph\":{\"id\":\"6325\"},\"hover_glyph\":null,\"muted_glyph\":null,\"nonselection_glyph\":{\"id\":\"6326\"},\"view\":{\"id\":\"6328\"}},\"id\":\"6327\",\"type\":\"GlyphRenderer\"},{\"attributes\":{},\"id\":\"6294\",\"type\":\"DataRange1d\"},{\"attributes\":{\"data\":{},\"selected\":{\"id\":\"6637\"},\"selection_policy\":{\"id\":\"6638\"}},\"id\":\"6630\",\"type\":\"ColumnDataSource\"},{\"attributes\":{\"fill_alpha\":{\"value\":0.1},\"fill_color\":{\"value\":\"firebrick\"},\"line_alpha\":{\"value\":0.1},\"line_color\":{\"value\":\"firebrick\"},\"radius\":{\"value\":0.1},\"x\":{\"field\":\"x\"},\"y\":{\"field\":\"y\"}},\"id\":\"6326\",\"type\":\"Circle\"},{\"attributes\":{\"end\":{\"id\":\"6329\"},\"source\":{\"id\":\"6629\"},\"start\":null,\"x_end\":{\"value\":1},\"x_start\":{\"value\":0},\"y_end\":{\"value\":0},\"y_start\":{\"value\":0}},\"id\":\"6330\",\"type\":\"Arrow\"},{\"attributes\":{},\"id\":\"6635\",\"type\":\"Selection\"},{\"attributes\":{},\"id\":\"6296\",\"type\":\"DataRange1d\"},{\"attributes\":{\"data\":{},\"selected\":{\"id\":\"6639\"},\"selection_policy\":{\"id\":\"6640\"}},\"id\":\"6631\",\"type\":\"ColumnDataSource\"},{\"attributes\":{},\"id\":\"6298\",\"type\":\"LinearScale\"},{\"attributes\":{},\"id\":\"6313\",\"type\":\"SaveTool\"},{\"attributes\":{\"end\":{\"id\":\"6335\"},\"line_color\":{\"value\":\"red\"},\"source\":{\"id\":\"6631\"},\"start\":null,\"x_end\":{\"value\":0},\"x_start\":{\"value\":0.5},\"y_end\":{\"value\":0},\"y_start\":{\"value\":0.7}},\"id\":\"6336\",\"type\":\"Arrow\"},{\"attributes\":{},\"id\":\"6315\",\"type\":\"HelpTool\"},{\"attributes\":{},\"id\":\"6636\",\"type\":\"UnionRenderers\"},{\"attributes\":{},\"id\":\"6300\",\"type\":\"LinearScale\"},{\"attributes\":{\"fill_color\":{\"value\":\"orange\"}},\"id\":\"6332\",\"type\":\"NormalHead\"},{\"attributes\":{\"data\":{\"x\":[0,1,0.5],\"y\":[0,0,0.7]},\"selected\":{\"id\":\"6641\"},\"selection_policy\":{\"id\":\"6642\"}},\"id\":\"6324\",\"type\":\"ColumnDataSource\"},{\"attributes\":{\"formatter\":{\"id\":\"6627\"},\"major_label_policy\":{\"id\":\"6626\"},\"ticker\":{\"id\":\"6307\"}},\"id\":\"6306\",\"type\":\"LinearAxis\"},{\"attributes\":{\"source\":{\"id\":\"6324\"}},\"id\":\"6328\",\"type\":\"CDSView\"},{\"attributes\":{\"formatter\":{\"id\":\"6633\"},\"major_label_policy\":{\"id\":\"6632\"},\"ticker\":{\"id\":\"6303\"}},\"id\":\"6302\",\"type\":\"LinearAxis\"},{\"attributes\":{},\"id\":\"6637\",\"type\":\"Selection\"},{\"attributes\":{},\"id\":\"6303\",\"type\":\"BasicTicker\"},{\"attributes\":{\"axis\":{\"id\":\"6302\"},\"ticker\":null},\"id\":\"6305\",\"type\":\"Grid\"},{\"attributes\":{\"size\":{\"value\":35}},\"id\":\"6335\",\"type\":\"VeeHead\"},{\"attributes\":{\"end\":{\"id\":\"6332\"},\"source\":{\"id\":\"6630\"},\"start\":null,\"x_end\":{\"value\":0.5},\"x_start\":{\"value\":1},\"y_end\":{\"value\":0.7},\"y_start\":{\"value\":0}},\"id\":\"6333\",\"type\":\"Arrow\"},{\"attributes\":{},\"id\":\"6638\",\"type\":\"UnionRenderers\"},{\"attributes\":{\"axis\":{\"id\":\"6306\"},\"dimension\":1,\"ticker\":null},\"id\":\"6309\",\"type\":\"Grid\"},{\"attributes\":{\"fill_alpha\":{\"value\":0.1},\"fill_color\":{\"value\":\"firebrick\"},\"line_color\":{\"value\":\"firebrick\"},\"radius\":{\"value\":0.1},\"x\":{\"field\":\"x\"},\"y\":{\"field\":\"y\"}},\"id\":\"6325\",\"type\":\"Circle\"},{\"attributes\":{},\"id\":\"6307\",\"type\":\"BasicTicker\"},{\"attributes\":{},\"id\":\"6639\",\"type\":\"Selection\"},{\"attributes\":{\"active_multi\":null,\"tools\":[{\"id\":\"6310\"},{\"id\":\"6311\"},{\"id\":\"6312\"},{\"id\":\"6313\"},{\"id\":\"6314\"},{\"id\":\"6315\"}]},\"id\":\"6317\",\"type\":\"Toolbar\"},{\"attributes\":{},\"id\":\"6311\",\"type\":\"WheelZoomTool\"},{\"attributes\":{},\"id\":\"6310\",\"type\":\"PanTool\"},{\"attributes\":{},\"id\":\"6640\",\"type\":\"UnionRenderers\"},{\"attributes\":{\"overlay\":{\"id\":\"6316\"}},\"id\":\"6312\",\"type\":\"BoxZoomTool\"},{\"attributes\":{},\"id\":\"6632\",\"type\":\"AllLabels\"},{\"attributes\":{},\"id\":\"6314\",\"type\":\"ResetTool\"},{\"attributes\":{},\"id\":\"6625\",\"type\":\"Title\"},{\"attributes\":{},\"id\":\"6633\",\"type\":\"BasicTickFormatter\"},{\"attributes\":{},\"id\":\"6626\",\"type\":\"AllLabels\"},{\"attributes\":{},\"id\":\"6627\",\"type\":\"BasicTickFormatter\"},{\"attributes\":{\"line_color\":{\"value\":\"firebrick\"},\"line_width\":{\"value\":4}},\"id\":\"6329\",\"type\":\"OpenHead\"},{\"attributes\":{},\"id\":\"6641\",\"type\":\"Selection\"},{\"attributes\":{},\"id\":\"6642\",\"type\":\"UnionRenderers\"},{\"attributes\":{\"bottom_units\":\"screen\",\"fill_alpha\":0.5,\"fill_color\":\"lightgrey\",\"left_units\":\"screen\",\"level\":\"overlay\",\"line_alpha\":1.0,\"line_color\":\"black\",\"line_dash\":[4,4],\"line_width\":2,\"right_units\":\"screen\",\"syncable\":false,\"top_units\":\"screen\"},\"id\":\"6316\",\"type\":\"BoxAnnotation\"},{\"attributes\":{\"data\":{},\"selected\":{\"id\":\"6635\"},\"selection_policy\":{\"id\":\"6636\"}},\"id\":\"6629\",\"type\":\"ColumnDataSource\"}],\"root_ids\":[\"6293\"]},\"title\":\"Bokeh Application\",\"version\":\"2.3.2\"}};\n",
       "  var render_items = [{\"docid\":\"f6970d43-44c5-4708-a017-478048a9ce91\",\"root_ids\":[\"6293\"],\"roots\":{\"6293\":\"cd64557b-0850-489f-8aba-3fcd7e61cd1f\"}}];\n",
       "  root.Bokeh.embed.embed_items_notebook(docs_json, render_items);\n",
       "\n",
       "  }\n",
       "  if (root.Bokeh !== undefined) {\n",
       "    embed_document(root);\n",
       "  } else {\n",
       "    var attempts = 0;\n",
       "    var timer = setInterval(function(root) {\n",
       "      if (root.Bokeh !== undefined) {\n",
       "        clearInterval(timer);\n",
       "        embed_document(root);\n",
       "      } else {\n",
       "        attempts++;\n",
       "        if (attempts > 100) {\n",
       "          clearInterval(timer);\n",
       "          console.log(\"Bokeh: ERROR: Unable to run BokehJS code because BokehJS library is missing\");\n",
       "        }\n",
       "      }\n",
       "    }, 10, root)\n",
       "  }\n",
       "})(window);"
      ],
      "application/vnd.bokehjs_exec.v0+json": ""
     },
     "metadata": {
      "application/vnd.bokehjs_exec.v0+json": {
       "id": "6293"
      }
     },
     "output_type": "display_data"
    }
   ],
   "source": [
    "p = figure(plot_width=600, plot_height=300)\n",
    "\n",
    "p.circle(x=[0, 1, 0.5], y=[0, 0, 0.7], radius=0.1,\n",
    "         color=\"firebrick\", fill_alpha=0.1)\n",
    "\n",
    "p.add_layout(Arrow(end=OpenHead(line_color=\"firebrick\", line_width=4),\n",
    "                   x_start=0, y_start=0, x_end=1, y_end=0))\n",
    "\n",
    "p.add_layout(Arrow(end=NormalHead(fill_color=\"orange\"),\n",
    "                   x_start=1, y_start=0, x_end=0.5, y_end=0.7))\n",
    "\n",
    "p.add_layout(Arrow(end=VeeHead(size=35), line_color=\"red\",\n",
    "                   x_start=0.5, y_start=0.7, x_end=0, y_end=0))\n",
    "\n",
    "show(p)"
   ]
  },
  {
   "cell_type": "markdown",
   "metadata": {},
   "source": [
    "### Hovet tooltips"
   ]
  },
  {
   "cell_type": "code",
   "execution_count": 34,
   "metadata": {},
   "outputs": [
    {
     "data": {
      "text/html": [
       "<div>\n",
       "<style scoped>\n",
       "    .dataframe tbody tr th:only-of-type {\n",
       "        vertical-align: middle;\n",
       "    }\n",
       "\n",
       "    .dataframe tbody tr th {\n",
       "        vertical-align: top;\n",
       "    }\n",
       "\n",
       "    .dataframe thead th {\n",
       "        text-align: right;\n",
       "    }\n",
       "</style>\n",
       "<table border=\"1\" class=\"dataframe\">\n",
       "  <thead>\n",
       "    <tr style=\"text-align: right;\">\n",
       "      <th></th>\n",
       "      <th>Country</th>\n",
       "      <th>Continent</th>\n",
       "      <th>female literacy</th>\n",
       "      <th>fertility</th>\n",
       "      <th>population</th>\n",
       "    </tr>\n",
       "  </thead>\n",
       "  <tbody>\n",
       "    <tr>\n",
       "      <th>0</th>\n",
       "      <td>Chine</td>\n",
       "      <td>ASI</td>\n",
       "      <td>90.5</td>\n",
       "      <td>1.769</td>\n",
       "      <td>1.324655e+09</td>\n",
       "    </tr>\n",
       "    <tr>\n",
       "      <th>1</th>\n",
       "      <td>Inde</td>\n",
       "      <td>ASI</td>\n",
       "      <td>50.8</td>\n",
       "      <td>2.682</td>\n",
       "      <td>1.139965e+09</td>\n",
       "    </tr>\n",
       "    <tr>\n",
       "      <th>3</th>\n",
       "      <td>Indonésie</td>\n",
       "      <td>ASI</td>\n",
       "      <td>88.8</td>\n",
       "      <td>2.132</td>\n",
       "      <td>2.273451e+08</td>\n",
       "    </tr>\n",
       "    <tr>\n",
       "      <th>5</th>\n",
       "      <td>Pakistan</td>\n",
       "      <td>ASI</td>\n",
       "      <td>40.0</td>\n",
       "      <td>3.872</td>\n",
       "      <td>1.661115e+08</td>\n",
       "    </tr>\n",
       "    <tr>\n",
       "      <th>6</th>\n",
       "      <td>Bangladesh</td>\n",
       "      <td>ASI</td>\n",
       "      <td>49.8</td>\n",
       "      <td>2.288</td>\n",
       "      <td>1.600001e+08</td>\n",
       "    </tr>\n",
       "  </tbody>\n",
       "</table>\n",
       "</div>"
      ],
      "text/plain": [
       "     Country  Continent  female literacy  fertility    population\n",
       "0       Chine       ASI             90.5      1.769  1.324655e+09\n",
       "1        Inde       ASI             50.8      2.682  1.139965e+09\n",
       "3   Indonésie       ASI             88.8      2.132  2.273451e+08\n",
       "5    Pakistan       ASI             40.0      3.872  1.661115e+08\n",
       "6  Bangladesh       ASI             49.8      2.288  1.600001e+08"
      ]
     },
     "execution_count": 34,
     "metadata": {},
     "output_type": "execute_result"
    }
   ],
   "source": [
    "conti=country[country.Continent.isin([\"ASI\", \"EUR\", \"AF\"])]\n",
    "df=conti.astype({\"female literacy\": float, \"fertility\": float})\n",
    "df.head()"
   ]
  },
  {
   "cell_type": "code",
   "execution_count": 35,
   "metadata": {},
   "outputs": [],
   "source": [
    "df.columns=[\"Country\", \"Continent\", \"female_literacy\", \"fertility\", \n",
    "           \"population\"]"
   ]
  },
  {
   "cell_type": "code",
   "execution_count": 36,
   "metadata": {},
   "outputs": [
    {
     "data": {
      "text/plain": [
       "Index(['Country', 'Continent', 'female_literacy', 'fertility', 'population'], dtype='object')"
      ]
     },
     "execution_count": 36,
     "metadata": {},
     "output_type": "execute_result"
    }
   ],
   "source": [
    "df.columns"
   ]
  },
  {
   "cell_type": "code",
   "execution_count": 37,
   "metadata": {},
   "outputs": [],
   "source": [
    "source=ColumnDataSource(df)"
   ]
  },
  {
   "cell_type": "code",
   "execution_count": 38,
   "metadata": {},
   "outputs": [
    {
     "data": {
      "text/html": [
       "\n",
       "\n",
       "\n",
       "\n",
       "\n",
       "\n",
       "  <div class=\"bk-root\" id=\"029bc2a7-28f8-449f-a4c3-149d8fc3e551\" data-root-id=\"6747\"></div>\n"
      ]
     },
     "metadata": {},
     "output_type": "display_data"
    },
    {
     "data": {
      "application/javascript": [
       "(function(root) {\n",
       "  function embed_document(root) {\n",
       "    \n",
       "  var docs_json = {\"dead4f43-bf6d-487a-878e-625eaf281352\":{\"defs\":[],\"roots\":{\"references\":[{\"attributes\":{\"below\":[{\"id\":\"6756\"}],\"center\":[{\"id\":\"6759\"},{\"id\":\"6763\"}],\"height\":300,\"left\":[{\"id\":\"6760\"}],\"renderers\":[{\"id\":\"6771\"}],\"title\":{\"id\":\"7080\"},\"toolbar\":{\"id\":\"6765\"},\"x_range\":{\"id\":\"6748\"},\"x_scale\":{\"id\":\"6752\"},\"y_range\":{\"id\":\"6750\"},\"y_scale\":{\"id\":\"6754\"}},\"id\":\"6747\",\"subtype\":\"Figure\",\"type\":\"Plot\"},{\"attributes\":{},\"id\":\"6752\",\"type\":\"LinearScale\"},{\"attributes\":{},\"id\":\"7088\",\"type\":\"UnionRenderers\"},{\"attributes\":{},\"id\":\"6748\",\"type\":\"DataRange1d\"},{\"attributes\":{},\"id\":\"6750\",\"type\":\"DataRange1d\"},{\"attributes\":{},\"id\":\"7087\",\"type\":\"Selection\"},{\"attributes\":{},\"id\":\"6754\",\"type\":\"LinearScale\"},{\"attributes\":{\"formatter\":{\"id\":\"7082\"},\"major_label_policy\":{\"id\":\"7081\"},\"ticker\":{\"id\":\"6761\"}},\"id\":\"6760\",\"type\":\"LinearAxis\"},{\"attributes\":{\"formatter\":{\"id\":\"7085\"},\"major_label_policy\":{\"id\":\"7084\"},\"ticker\":{\"id\":\"6757\"}},\"id\":\"6756\",\"type\":\"LinearAxis\"},{\"attributes\":{\"axis\":{\"id\":\"6760\"},\"dimension\":1,\"ticker\":null},\"id\":\"6763\",\"type\":\"Grid\"},{\"attributes\":{},\"id\":\"6757\",\"type\":\"BasicTicker\"},{\"attributes\":{\"axis\":{\"id\":\"6756\"},\"ticker\":null},\"id\":\"6759\",\"type\":\"Grid\"},{\"attributes\":{\"fill_alpha\":{\"value\":0.1},\"fill_color\":{\"field\":\"Continent\",\"transform\":{\"id\":\"6745\"}},\"line_alpha\":{\"value\":0.1},\"line_color\":{\"field\":\"Continent\",\"transform\":{\"id\":\"6745\"}},\"size\":{\"value\":10},\"x\":{\"field\":\"fertility\"},\"y\":{\"field\":\"female_literacy\"}},\"id\":\"6770\",\"type\":\"Circle\"},{\"attributes\":{},\"id\":\"7084\",\"type\":\"AllLabels\"},{\"attributes\":{},\"id\":\"6761\",\"type\":\"BasicTicker\"},{\"attributes\":{\"active_multi\":null,\"tools\":[{\"id\":\"6746\"},{\"id\":\"6764\"}]},\"id\":\"6765\",\"type\":\"Toolbar\"},{\"attributes\":{\"data_source\":{\"id\":\"6744\"},\"glyph\":{\"id\":\"6769\"},\"hover_glyph\":null,\"muted_glyph\":null,\"nonselection_glyph\":{\"id\":\"6770\"},\"view\":{\"id\":\"6772\"}},\"id\":\"6771\",\"type\":\"GlyphRenderer\"},{\"attributes\":{\"source\":{\"id\":\"6744\"}},\"id\":\"6772\",\"type\":\"CDSView\"},{\"attributes\":{},\"id\":\"7085\",\"type\":\"BasicTickFormatter\"},{\"attributes\":{\"fill_color\":{\"field\":\"Continent\",\"transform\":{\"id\":\"6745\"}},\"line_color\":{\"field\":\"Continent\",\"transform\":{\"id\":\"6745\"}},\"size\":{\"value\":10},\"x\":{\"field\":\"fertility\"},\"y\":{\"field\":\"female_literacy\"}},\"id\":\"6769\",\"type\":\"Circle\"},{\"attributes\":{},\"id\":\"7080\",\"type\":\"Title\"},{\"attributes\":{\"data\":{\"Continent\":[\"ASI\",\"ASI\",\"ASI\",\"ASI\",\"ASI\",\"AF\",\"EUR\",\"ASI\",\"ASI\",\"ASI\",\"EUR\",\"AF\",\"AF\",\"ASI\",\"ASI\",\"ASI\",\"AF\",\"EUR\",\"EUR\",\"EUR\",\"ASI\",\"AF\",\"ASI\",\"EUR\",\"EUR\",\"AF\",\"AF\",\"AF\",\"EUR\",\"AF\",\"AF\",\"AF\",\"ASI\",\"ASI\",\"ASI\",\"ASI\",\"ASI\",\"ASI\",\"ASI\",\"AF\",\"ASI\",\"AF\",\"EUR\",\"AF\",\"ASI\",\"ASI\",\"AF\",\"AF\",\"AF\",\"EUR\",\"ASI\",\"AF\",\"AF\",\"AF\",\"ASI\",\"AF\",\"AF\",\"AF\",\"AF\",\"EUR\",\"AF\",\"EUR\",\"EUR\",\"EUR\",\"AF\",\"EUR\",\"AF\",\"AF\",\"EUR\",\"EUR\",\"ASI\",\"AF\",\"AF\",\"EUR\",\"EUR\",\"EUR\",\"ASI\",\"ASI\",\"AF\",\"AF\",\"ASI\",\"ASI\",\"AF\",\"EUR\",\"EUR\",\"ASI\",\"ASI\",\"AF\",\"ASI\",\"EUR\",\"ASI\",\"EUR\",\"EUR\",\"AF\",\"ASI\",\"ASI\",\"AF\",\"EUR\",\"EUR\",\"EUR\",\"AF\",\"EUR\",\"ASI\",\"ASI\",\"ASI\",\"ASI\",\"EUR\",\"AF\",\"AF\",\"EUR\",\"EUR\",\"AF\",\"AF\",\"AF\",\"AF\",\"EUR\",\"ASI\",\"AF\",\"AF\",\"EUR\",\"ASI\",\"ASI\",\"AF\",\"AF\",\"ASI\",\"AF\",\"EUR\",\"ASI\",\"EUR\",\"ASI\",\"AF\",\"ASI\"],\"Country\":[\"Chine\",\"Inde\",\"Indon\\u00e9sie\",\"Pakistan\",\"Bangladesh\",\"Nig\\u00e9ria\",\"F\\u00e9d\\u00e9ration de Russie\",\"Japan\",\"Philippines\",\"Viet Nam\",\"Germany\",\"Egypte\",\"Ethiopie\",\"Turquie\",\"Iran, R\\u00e9publique islamique d'\",\"Tha\\u00eflande\",\"R\\u00e9p. D\\u00e9mocratique du Congo\",\"France\",\"UK\",\"Italie\",\"Myanmar\",\"Afrique du Sud\",\"South Korea\",\"Ukraine\",\"Espagne\",\"R\\u00e9publique-Unie de Tanzanie\",\"Soudan\",\"Kenya\",\"Pologne\",\"Alg\\u00e9rie\",\"Ouganda\",\"Maroc\",\"Iraq\",\"Afghanistan\",\"N\\u00e9pal\",\"Ouzb\\u00e9kistan\",\"Malaisie\",\"Arabie saoudite\",\"R\\u00e9p. populaire d\\u00e9mocratique de Cor\\u00e9e\",\"Ghana\",\"Y\\u00e9men\",\"Mozambique\",\"Roumanie\",\"C\\u00f4te d'Ivoire\",\"R\\u00e9publique arabe syrienne\",\"Sri Lanka\",\"Madagascar\",\"Cameroun\",\"Angola\",\"Netherlands\",\"Kazakhstan\",\"Burkina Faso\",\"Malawi\",\"Niger\",\"Cambodge\",\"Mali\",\"Zambie\",\"Zimbabwe\",\"S\\u00e9n\\u00e9gal\",\"Gr\\u00e8ce\",\"Tchad\",\"Belgium\",\"Portugal\",\"Czech rep\",\"Tunisie\",\"Hongrie\",\"Guin\\u00e9e\",\"Rwanda\",\"B\\u00e9larus\",\"Sweden\",\"Azerba\\u00efdjan\",\"B\\u00e9nin\",\"Burundi\",\"Switzerland\",\"Bulgarie\",\"Serbie\",\"Israel\",\"Tadjikistan\",\"Togo\",\"Jamahiriya arabe libyenne\",\"R\\u00e9p. d\\u00e9mocratique populaire lao\",\"Jordanie\",\"Sierra Leone\",\"Denmark\",\"Finland\",\"Kirghizistan\",\"Turkm\\u00e9nistan\",\"Erythr\\u00e9e\",\"Singapour\",\"Norway\",\"Emirats arabes unis\",\"Croatie\",\"Ireland\",\"R\\u00e9publique centrafricaine\",\"G\\u00e9orgie\",\"Liban\",\"Lib\\u00e9ria\",\"Bosnie-Herz\\u00e9govine\",\"R\\u00e9publique de Moldova\",\"Lituanie\",\"Mauritanie\",\"Albanie\",\"Arm\\u00e9nie\",\"Oman\",\"Kowe\\u00eft\",\"Mongolie\",\"Lettonie\",\"Namibie\",\"Lesotho\",\"L'ex-R\\u00e9p. yougoslave de Mac\\u00e9doine\",\"Slov\\u00e9nie\",\"Botswana\",\"Gambie\",\"Guin\\u00e9e-Bissau\",\"Gabon\",\"Estonie\",\"Qatar\",\"Maurice\",\"Swaziland\",\"Chypre\",\"Bahre\\u00efn\",\"Bhoutan\",\"Guin\\u00e9e \\u00e9quatoriale\",\"Comores\",\"Macao, Chine\",\"Cap-Vert\",\"Malte\",\"Brun\\u00e9i Darussalam\",\"Iceland\",\"Maldives\",\"Sao Tom\\u00e9-et-Principe\",\"Tonga\"],\"female_literacy\":{\"__ndarray__\":\"AAAAAACgVkBmZmZmZmZJQDMzMzMzM1ZAAAAAAAAAREBmZmZmZuZIQGZmZmZmZkhAmpmZmZnZWEAAAAAAAMBYQJqZmZmZeVdAzczMzMyMVkAAAAAAAMBYQGZmZmZm5kxAzczMzMzMNkAzMzMzM1NUQM3MzMzMTFNAAAAAAADgVkDNzMzMzAxMQAAAAAAAwFhAAAAAAADAWEAAAAAAAKBYQM3MzMzMTFZAZmZmZmYGVkBmZmZmZiZYQGZmZmZm5lhAmpmZmZk5WEAzMzMzM5NQQM3MzMzMzE1AMzMzMzOzVEAzMzMzM9NYQDMzMzMz809AMzMzMzOzUEDNzMzMzAxGQM3MzMzMTFFAMzMzMzMzKUAzMzMzM7NGQJqZmZmZuVhAMzMzMzNzVkDNzMzMzAxUQAAAAAAAAFlAZmZmZmamTUBmZmZmZmZFQM3MzMzMDERAmpmZmZk5WEBmZmZmZiZGQM3MzMzMTFNAZmZmZmZGVkAzMzMzM1NQQDMzMzMz81BAAAAAAACATEAAAAAAAMBYQAAAAAAA4FhAmpmZmZmZNUAzMzMzM3NQQDMzMzMzMy5AmpmZmZm5UUAzMzMzMzMyQAAAAAAAgE5AMzMzMzMzVkAAAAAAAIBAQJqZmZmZ+VdAZmZmZmbmNUAAAAAAAMBYQJqZmZmZOVdAAAAAAADAWEAAAAAAAMBRQJqZmZmZuVhAZmZmZmZmOkBmZmZmZoZQQM3MzMzM7FhAAAAAAADAWEDNzMzMzMxYQJqZmZmZGTxAMzMzMzPzTUAAAAAAAMBYQJqZmZmZeVhAzczMzMwMWECamZmZmflXQAAAAAAA4FhAmpmZmZnZSkAzMzMzM1NUQJqZmZmZmU9AmpmZmZk5VkBmZmZmZuY8QAAAAAAAwFhAAAAAAAAAWUBmZmZmZsZYQDMzMzMz01hAAAAAAABAS0BmZmZmZuZWQAAAAAAAAFlAAAAAAADgVkAAAAAAAIBYQAAAAAAAwFhAzczMzMyMREDNzMzMzOxYQAAAAAAAgFVAAAAAAACASkCamZmZmflXQDMzMzMzc1hAzczMzMzsWEAAAAAAAMBIQM3MzMzMrFhAmpmZmZnZWECamZmZmTlUQGZmZmZmRldAMzMzMzNzWEAzMzMzM/NYQM3MzMzM7FVAZmZmZmbGV0CamZmZmdlXQM3MzMzM7FhAAAAAAADgVEBmZmZmZiZBQAAAAAAAQEJAzczMzMzMVEAzMzMzM/NYQJqZmZmZmVZAMzMzMzMzVUBmZmZmZmZVQM3MzMzMLFhAmpmZmZlZVkCamZmZmVlDQGZmZmZmRlZAMzMzMzPzUEDNzMzMzKxWQDMzMzMz01NAAAAAAABgV0AzMzMzM1NXQAAAAAAAwFhAmpmZmZmZWEAzMzMzM9NUQGZmZmZmxlhA\",\"dtype\":\"float64\",\"order\":\"little\",\"shape\":[132]},\"fertility\":{\"__ndarray__\":\"5/up8dJN/D/b+X5qvHQFQHWTGARWDgFAYOXQItv5DkDn+6nx0k0CQP7UeOkmsRRAfT81XrpJ9j/+1HjpJjH0P2iR7Xw/NQhA3SQGgZVDAEDJdr6fGi/1P7pJDAIrhwZA8tJNYhDYFEDNzMzMzMwAQOXQItv5fvw/9P3UeOkm/T9vEoPAyqEXQH9qvHSTGP4/bxKDwMqh/T89CtejcD32P3Noke18PwJACtejcD0KBEAv3SQGgZXzPy2yne+nxvU/sHJoke189z8UrkfhehQWQAisHFpkOxBAVg4tsp1vE0ASg8DKoUX0PyPb+X5qvAJAarx0kxgEGUB56SYxCKwCQOOlm8QgsA9AhetRuB4FGkAv3SQGgZUGQJZDi2zn+wFAqvHSTWIQBEBSuB6F61EIQESLbOf7qf0/4XoUrkfhEEBmZmZmZmYUQJHtfD813hNAMzMzMzMz9T91kxgEVg4SQPyp8dJNYglAEFg5tMh2AkB7FK5H4XoSQESLbOf7KRJAPzVeukmMFkDByqFFtvP7PycxCKwcWgJAd76fGi9dF0BSuB6F69EVQC2yne+nRhxArBxaZDvfBkAfhetRuJ4VQKabxCCw8hZAgZVDi2znCkCPwvUoXI8TQClcj8L1KPY/bef7qfFSGEAlBoGVQ4v8Pz81XrpJDPY/MzMzMzMz9z/b+X5qvHT9P+xRuB6F6/U/N4lBYOVQFUBSuB6F61EVQOXQItv5fvQ/Vg4tsp3v/T/TTWIQWDkBQFCNl24SgxVAzczMzMzMEUBcj8L1KFz3P2Dl0CLb+fY/mG4Sg8DK+T9qvHSTGAQGQM3MzMzMzApARIts5/upEECJQWDl0CIFQFK4HoXrUQtA9P3UeOkmCEApXI/C9agUQC/dJAaBlf0/x0s3iUFg/T++nxov3SQEQHE9CtejcANA6SYxCKwcEkBoke18PzX0Pylcj8L1KP4//Knx0k1i/j/fT42XbhL3P3Noke18P/8/fT81XrrJEkAdWmQ730/5P9v5fmq8dP0/JQaBlUMLFEAxCKwcWmTzP9V46SYxCPg/rBxaZDvf9T9aZDvfT40RQESLbOf7qf0/K4cW2c73+z9t5/up8dIHQJ7vp8ZLNwFAAiuHFtnO/z83iUFg5dD2P1K4HoXrUQpA6SYxCKwcCkBg5dAi2/n2P30/NV66SfY/+n5qvHSTBkDHSzeJQeATQIlBYOXQohZA7FG4HoXrCUBKDAIrhxb7P+F6FK5H4QJAeekmMQis/D+amZmZmZkLQKjGSzeJQfg/d76fGi/dAUAbL90kBoEEQG8Sg8DKIRVAFK5H4XoUD0C28/3UeOnuP+f7qfHSTQVAarx0kxgE9D/RItv5fmoAQFg5tMh2vgBAAAAAAAAAAEBYObTIdr4NQAaBlUOLbA9A\",\"dtype\":\"float64\",\"order\":\"little\",\"shape\":[132]},\"index\":[0,1,3,5,6,7,8,9,11,12,13,14,15,16,17,18,19,20,21,22,23,24,25,26,27,29,30,32,33,34,36,37,38,39,41,43,44,45,46,47,48,49,50,51,52,53,54,55,56,58,59,60,61,62,63,66,67,68,69,70,72,73,74,75,76,77,79,80,82,83,84,85,86,87,88,89,91,92,94,95,97,99,101,102,103,104,105,106,107,108,110,111,112,113,114,116,117,118,119,121,123,124,125,126,127,129,130,131,132,133,134,135,136,137,138,139,141,142,143,144,145,146,147,148,149,151,152,153,155,156,159,161],\"population\":{\"__ndarray__\":\"AAAAZii900GQFOkAn/zQQQAAAHQFGqtB7448/lHNo0EAAAAA0RKjQQAAALyhBqJBAAAAYPjroEEAAAAAb3KeQQAAAFRuipVBAAAAdOONlEEAAABEmpOTQQAAABAGcJNBAAAAaFs+k0EAAABQXp+RQToXwIbdJ5FBAAAAPPAQkEEAAADY06OOQQAAAMA5so1BAAAAcNVIjUEAAACYu4eMQQAAAFgsoodBAAAAwDw3h0EAAADAeC2HQQAAAMDADoZBAAAAIAC5hUEAAACYBkKEQQAAAFhUt4NBAAAAABh8gkEAAAD4BS6CQQAAAJD5Y4BBAAAAELowfkEAAAAANyR+QRITrwTXSX1BsGr1rzqte0EAAABgk3l7QQAAAEBiDHpBAAAAEEzDeUH3Br9eA4F3QQAAABAgt3ZBAAAA8OhEdkEAAADQFtt1QQAAAFB8WHVBAAAAYFmEdEEAAABgLKNzQSiU6p26oHNBIMFoxfI4c0EAAADQwTlyQQAAABBANHJBAAAAwJMvcUEAAAAgE15vQQAAACC65W1BAAAAgGsObUEAAADAHFFsQQAAAMDXC2xBAAAAAFvGa0EAAAAA+TtoQQAAAGA3EmhBAAAA4GPFZ0EAAACgfUpnQQAAAMDcbmVBAAAAYPDQZEEAAAAgumxkQQAAAKC5QmRBAAAAAALiY0EAAAAA37JjQQAAAIB1JWNBAAAA4EvBYkEAAADAbopiQQAAAED6dmJBAAAAoMaVYUEAAACAVI5gQQAAAMCIhWBBAAAAgAPNXkEAAADAbixdQQAAAMC4FF1BAAAAQPMJXEEAAAAAgOFbQQAAAMDcE1pBAAAAQDujWEEAAABAqQJYQQAAAEDnq1dBXanGt56HVkEAAABAizVVQQAAAEDd9FRBAAAAwN1EVEEAAAAAMyJUQQAAAIBoPVNBAAAAQGfLUkEAAAAA+nVSQQAAAAB1MFJBAAAAwNEbUUEAAAAAFOpQQQAAAMDy4VBBAAAAwI+NUEEAAADAEG5QQQAAAADv/k9BAAAAAPzwTEEAAAAAVslMQQAAAIBsuEtBAAAAgNGeSUEAAACAYYdIQQAAAIA9+0dBAAAAgO95R0EAAACAKEBFQYEYdGs00ERBAAAAAKAmREEAAAAA90lBQQAAAADfP0BBAAAAAJVFP0EAAAAA/iU/QQAAAADE1z5BAAAAAGJQPUEAAAAAKFU5QQAAAAAWCjhBAAAAAN8YNkEAAAAAA3U0QQAAAABeizNBAAAAAHZcM0EAAAAA2tExQQAAAADEUSpBAAAAAEKrJ0EAAAAAivUkQQAAAAD6HSRBqGAsoOajI0EAAAAAxA4gQQAAAADAbx5BAAAAALgkGUEAAAAAYPEXQQAAAACYXxNBAAAAAAyeEkEAAAAAcI0DQQAAAADgSPlA\",\"dtype\":\"float64\",\"order\":\"little\",\"shape\":[132]}},\"selected\":{\"id\":\"7087\"},\"selection_policy\":{\"id\":\"7088\"}},\"id\":\"6744\",\"type\":\"ColumnDataSource\"},{\"attributes\":{\"callback\":null,\"tooltips\":[[\"Continent\",\"@Continent\"],[\"Country\",\"@Country\"],[\"Female literacy\",\"@female_literacy\"],[\"Fertility\",\"@fertility\"]]},\"id\":\"6746\",\"type\":\"HoverTool\"},{\"attributes\":{},\"id\":\"7081\",\"type\":\"AllLabels\"},{\"attributes\":{},\"id\":\"7082\",\"type\":\"BasicTickFormatter\"},{\"attributes\":{\"callback\":null},\"id\":\"6764\",\"type\":\"TapTool\"},{\"attributes\":{\"factors\":[\"ASI\",\"EUR\",\"AF\"],\"palette\":[\"firebrick\",\"DarkOrange\",\"DarkBlue\"]},\"id\":\"6745\",\"type\":\"CategoricalColorMapper\"}],\"root_ids\":[\"6747\"]},\"title\":\"Bokeh Application\",\"version\":\"2.3.2\"}};\n",
       "  var render_items = [{\"docid\":\"dead4f43-bf6d-487a-878e-625eaf281352\",\"root_ids\":[\"6747\"],\"roots\":{\"6747\":\"029bc2a7-28f8-449f-a4c3-149d8fc3e551\"}}];\n",
       "  root.Bokeh.embed.embed_items_notebook(docs_json, render_items);\n",
       "\n",
       "  }\n",
       "  if (root.Bokeh !== undefined) {\n",
       "    embed_document(root);\n",
       "  } else {\n",
       "    var attempts = 0;\n",
       "    var timer = setInterval(function(root) {\n",
       "      if (root.Bokeh !== undefined) {\n",
       "        clearInterval(timer);\n",
       "        embed_document(root);\n",
       "      } else {\n",
       "        attempts++;\n",
       "        if (attempts > 100) {\n",
       "          clearInterval(timer);\n",
       "          console.log(\"Bokeh: ERROR: Unable to run BokehJS code because BokehJS library is missing\");\n",
       "        }\n",
       "      }\n",
       "    }, 10, root)\n",
       "  }\n",
       "})(window);"
      ],
      "application/vnd.bokehjs_exec.v0+json": ""
     },
     "metadata": {
      "application/vnd.bokehjs_exec.v0+json": {
       "id": "6747"
      }
     },
     "output_type": "display_data"
    }
   ],
   "source": [
    "mapper=CategoricalColorMapper(factors=[\"ASI\", \"EUR\", \"AF\"], \n",
    "                            palette=[\"firebrick\", \"DarkOrange\", \n",
    "                                     \"DarkBlue\"])\n",
    "hover=HoverTool(tooltips=[(\"Continent\", \"@Continent\"),\n",
    "                         (\"Country\", \"@Country\"),\n",
    "                         (\"Female literacy\", \"@female_literacy\"),\n",
    "                         (\"Fertility\",\"@fertility\")])\n",
    "\n",
    "p=figure(plot_width=600, plot_height=300, tools=[hover, 'tap'])\n",
    "p.circle(x=\"fertility\", y=\"female_literacy\", source=source,\n",
    "         size=10,\n",
    "         color={\"field\" :\"Continent\", \"transform\": mapper})\n",
    "\n",
    "show(p)"
   ]
  },
  {
   "cell_type": "code",
   "execution_count": null,
   "metadata": {},
   "outputs": [],
   "source": []
  }
 ],
 "metadata": {
  "kernelspec": {
   "display_name": "Python 3",
   "language": "python",
   "name": "python3"
  },
  "language_info": {
   "codemirror_mode": {
    "name": "ipython",
    "version": 3
   },
   "file_extension": ".py",
   "mimetype": "text/x-python",
   "name": "python",
   "nbconvert_exporter": "python",
   "pygments_lexer": "ipython3",
   "version": "3.8.5"
  }
 },
 "nbformat": 4,
 "nbformat_minor": 4
}
