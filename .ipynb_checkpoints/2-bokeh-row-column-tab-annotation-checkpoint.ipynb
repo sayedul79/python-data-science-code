{
 "cells": [
  {
   "cell_type": "markdown",
   "metadata": {},
   "source": [
    "### Import library"
   ]
  },
  {
   "cell_type": "code",
   "execution_count": 24,
   "metadata": {},
   "outputs": [],
   "source": [
    "import numpy as np\n",
    "import pandas as pd\n",
    "from bokeh.io import output_notebook, show\n",
    "from bokeh.plotting import figure\n",
    "from bokeh.layouts import row, column\n",
    "from bokeh.models import ColumnDataSource, CategoricalColorMapper,HoverTool"
   ]
  },
  {
   "cell_type": "code",
   "execution_count": 2,
   "metadata": {},
   "outputs": [
    {
     "data": {
      "text/html": [
       "\n",
       "    <div class=\"bk-root\">\n",
       "        <a href=\"https://bokeh.org\" target=\"_blank\" class=\"bk-logo bk-logo-small bk-logo-notebook\"></a>\n",
       "        <span id=\"1002\">Loading BokehJS ...</span>\n",
       "    </div>"
      ]
     },
     "metadata": {},
     "output_type": "display_data"
    },
    {
     "data": {
      "application/javascript": [
       "\n",
       "(function(root) {\n",
       "  function now() {\n",
       "    return new Date();\n",
       "  }\n",
       "\n",
       "  var force = true;\n",
       "\n",
       "  if (typeof root._bokeh_onload_callbacks === \"undefined\" || force === true) {\n",
       "    root._bokeh_onload_callbacks = [];\n",
       "    root._bokeh_is_loading = undefined;\n",
       "  }\n",
       "\n",
       "  var JS_MIME_TYPE = 'application/javascript';\n",
       "  var HTML_MIME_TYPE = 'text/html';\n",
       "  var EXEC_MIME_TYPE = 'application/vnd.bokehjs_exec.v0+json';\n",
       "  var CLASS_NAME = 'output_bokeh rendered_html';\n",
       "\n",
       "  /**\n",
       "   * Render data to the DOM node\n",
       "   */\n",
       "  function render(props, node) {\n",
       "    var script = document.createElement(\"script\");\n",
       "    node.appendChild(script);\n",
       "  }\n",
       "\n",
       "  /**\n",
       "   * Handle when an output is cleared or removed\n",
       "   */\n",
       "  function handleClearOutput(event, handle) {\n",
       "    var cell = handle.cell;\n",
       "\n",
       "    var id = cell.output_area._bokeh_element_id;\n",
       "    var server_id = cell.output_area._bokeh_server_id;\n",
       "    // Clean up Bokeh references\n",
       "    if (id != null && id in Bokeh.index) {\n",
       "      Bokeh.index[id].model.document.clear();\n",
       "      delete Bokeh.index[id];\n",
       "    }\n",
       "\n",
       "    if (server_id !== undefined) {\n",
       "      // Clean up Bokeh references\n",
       "      var cmd = \"from bokeh.io.state import curstate; print(curstate().uuid_to_server['\" + server_id + \"'].get_sessions()[0].document.roots[0]._id)\";\n",
       "      cell.notebook.kernel.execute(cmd, {\n",
       "        iopub: {\n",
       "          output: function(msg) {\n",
       "            var id = msg.content.text.trim();\n",
       "            if (id in Bokeh.index) {\n",
       "              Bokeh.index[id].model.document.clear();\n",
       "              delete Bokeh.index[id];\n",
       "            }\n",
       "          }\n",
       "        }\n",
       "      });\n",
       "      // Destroy server and session\n",
       "      var cmd = \"import bokeh.io.notebook as ion; ion.destroy_server('\" + server_id + \"')\";\n",
       "      cell.notebook.kernel.execute(cmd);\n",
       "    }\n",
       "  }\n",
       "\n",
       "  /**\n",
       "   * Handle when a new output is added\n",
       "   */\n",
       "  function handleAddOutput(event, handle) {\n",
       "    var output_area = handle.output_area;\n",
       "    var output = handle.output;\n",
       "\n",
       "    // limit handleAddOutput to display_data with EXEC_MIME_TYPE content only\n",
       "    if ((output.output_type != \"display_data\") || (!Object.prototype.hasOwnProperty.call(output.data, EXEC_MIME_TYPE))) {\n",
       "      return\n",
       "    }\n",
       "\n",
       "    var toinsert = output_area.element.find(\".\" + CLASS_NAME.split(' ')[0]);\n",
       "\n",
       "    if (output.metadata[EXEC_MIME_TYPE][\"id\"] !== undefined) {\n",
       "      toinsert[toinsert.length - 1].firstChild.textContent = output.data[JS_MIME_TYPE];\n",
       "      // store reference to embed id on output_area\n",
       "      output_area._bokeh_element_id = output.metadata[EXEC_MIME_TYPE][\"id\"];\n",
       "    }\n",
       "    if (output.metadata[EXEC_MIME_TYPE][\"server_id\"] !== undefined) {\n",
       "      var bk_div = document.createElement(\"div\");\n",
       "      bk_div.innerHTML = output.data[HTML_MIME_TYPE];\n",
       "      var script_attrs = bk_div.children[0].attributes;\n",
       "      for (var i = 0; i < script_attrs.length; i++) {\n",
       "        toinsert[toinsert.length - 1].firstChild.setAttribute(script_attrs[i].name, script_attrs[i].value);\n",
       "        toinsert[toinsert.length - 1].firstChild.textContent = bk_div.children[0].textContent\n",
       "      }\n",
       "      // store reference to server id on output_area\n",
       "      output_area._bokeh_server_id = output.metadata[EXEC_MIME_TYPE][\"server_id\"];\n",
       "    }\n",
       "  }\n",
       "\n",
       "  function register_renderer(events, OutputArea) {\n",
       "\n",
       "    function append_mime(data, metadata, element) {\n",
       "      // create a DOM node to render to\n",
       "      var toinsert = this.create_output_subarea(\n",
       "        metadata,\n",
       "        CLASS_NAME,\n",
       "        EXEC_MIME_TYPE\n",
       "      );\n",
       "      this.keyboard_manager.register_events(toinsert);\n",
       "      // Render to node\n",
       "      var props = {data: data, metadata: metadata[EXEC_MIME_TYPE]};\n",
       "      render(props, toinsert[toinsert.length - 1]);\n",
       "      element.append(toinsert);\n",
       "      return toinsert\n",
       "    }\n",
       "\n",
       "    /* Handle when an output is cleared or removed */\n",
       "    events.on('clear_output.CodeCell', handleClearOutput);\n",
       "    events.on('delete.Cell', handleClearOutput);\n",
       "\n",
       "    /* Handle when a new output is added */\n",
       "    events.on('output_added.OutputArea', handleAddOutput);\n",
       "\n",
       "    /**\n",
       "     * Register the mime type and append_mime function with output_area\n",
       "     */\n",
       "    OutputArea.prototype.register_mime_type(EXEC_MIME_TYPE, append_mime, {\n",
       "      /* Is output safe? */\n",
       "      safe: true,\n",
       "      /* Index of renderer in `output_area.display_order` */\n",
       "      index: 0\n",
       "    });\n",
       "  }\n",
       "\n",
       "  // register the mime type if in Jupyter Notebook environment and previously unregistered\n",
       "  if (root.Jupyter !== undefined) {\n",
       "    var events = require('base/js/events');\n",
       "    var OutputArea = require('notebook/js/outputarea').OutputArea;\n",
       "\n",
       "    if (OutputArea.prototype.mime_types().indexOf(EXEC_MIME_TYPE) == -1) {\n",
       "      register_renderer(events, OutputArea);\n",
       "    }\n",
       "  }\n",
       "\n",
       "  \n",
       "  if (typeof (root._bokeh_timeout) === \"undefined\" || force === true) {\n",
       "    root._bokeh_timeout = Date.now() + 5000;\n",
       "    root._bokeh_failed_load = false;\n",
       "  }\n",
       "\n",
       "  var NB_LOAD_WARNING = {'data': {'text/html':\n",
       "     \"<div style='background-color: #fdd'>\\n\"+\n",
       "     \"<p>\\n\"+\n",
       "     \"BokehJS does not appear to have successfully loaded. If loading BokehJS from CDN, this \\n\"+\n",
       "     \"may be due to a slow or bad network connection. Possible fixes:\\n\"+\n",
       "     \"</p>\\n\"+\n",
       "     \"<ul>\\n\"+\n",
       "     \"<li>re-rerun `output_notebook()` to attempt to load from CDN again, or</li>\\n\"+\n",
       "     \"<li>use INLINE resources instead, as so:</li>\\n\"+\n",
       "     \"</ul>\\n\"+\n",
       "     \"<code>\\n\"+\n",
       "     \"from bokeh.resources import INLINE\\n\"+\n",
       "     \"output_notebook(resources=INLINE)\\n\"+\n",
       "     \"</code>\\n\"+\n",
       "     \"</div>\"}};\n",
       "\n",
       "  function display_loaded() {\n",
       "    var el = document.getElementById(\"1002\");\n",
       "    if (el != null) {\n",
       "      el.textContent = \"BokehJS is loading...\";\n",
       "    }\n",
       "    if (root.Bokeh !== undefined) {\n",
       "      if (el != null) {\n",
       "        el.textContent = \"BokehJS \" + root.Bokeh.version + \" successfully loaded.\";\n",
       "      }\n",
       "    } else if (Date.now() < root._bokeh_timeout) {\n",
       "      setTimeout(display_loaded, 100)\n",
       "    }\n",
       "  }\n",
       "\n",
       "\n",
       "  function run_callbacks() {\n",
       "    try {\n",
       "      root._bokeh_onload_callbacks.forEach(function(callback) {\n",
       "        if (callback != null)\n",
       "          callback();\n",
       "      });\n",
       "    } finally {\n",
       "      delete root._bokeh_onload_callbacks\n",
       "    }\n",
       "    console.debug(\"Bokeh: all callbacks have finished\");\n",
       "  }\n",
       "\n",
       "  function load_libs(css_urls, js_urls, callback) {\n",
       "    if (css_urls == null) css_urls = [];\n",
       "    if (js_urls == null) js_urls = [];\n",
       "\n",
       "    root._bokeh_onload_callbacks.push(callback);\n",
       "    if (root._bokeh_is_loading > 0) {\n",
       "      console.debug(\"Bokeh: BokehJS is being loaded, scheduling callback at\", now());\n",
       "      return null;\n",
       "    }\n",
       "    if (js_urls == null || js_urls.length === 0) {\n",
       "      run_callbacks();\n",
       "      return null;\n",
       "    }\n",
       "    console.debug(\"Bokeh: BokehJS not loaded, scheduling load and callback at\", now());\n",
       "    root._bokeh_is_loading = css_urls.length + js_urls.length;\n",
       "\n",
       "    function on_load() {\n",
       "      root._bokeh_is_loading--;\n",
       "      if (root._bokeh_is_loading === 0) {\n",
       "        console.debug(\"Bokeh: all BokehJS libraries/stylesheets loaded\");\n",
       "        run_callbacks()\n",
       "      }\n",
       "    }\n",
       "\n",
       "    function on_error(url) {\n",
       "      console.error(\"failed to load \" + url);\n",
       "    }\n",
       "\n",
       "    for (let i = 0; i < css_urls.length; i++) {\n",
       "      const url = css_urls[i];\n",
       "      const element = document.createElement(\"link\");\n",
       "      element.onload = on_load;\n",
       "      element.onerror = on_error.bind(null, url);\n",
       "      element.rel = \"stylesheet\";\n",
       "      element.type = \"text/css\";\n",
       "      element.href = url;\n",
       "      console.debug(\"Bokeh: injecting link tag for BokehJS stylesheet: \", url);\n",
       "      document.body.appendChild(element);\n",
       "    }\n",
       "\n",
       "    const hashes = {\"https://cdn.bokeh.org/bokeh/release/bokeh-2.3.2.min.js\": \"XypntL49z55iwGVUW4qsEu83zKL3XEcz0MjuGOQ9SlaaQ68X/g+k1FcioZi7oQAc\", \"https://cdn.bokeh.org/bokeh/release/bokeh-tables-2.3.2.min.js\": \"bEsM86IHGDTLCS0Zod8a8WM6Y4+lafAL/eSiyQcuPzinmWNgNO2/olUF0Z2Dkn5i\", \"https://cdn.bokeh.org/bokeh/release/bokeh-widgets-2.3.2.min.js\": \"TX0gSQTdXTTeScqxj6PVQxTiRW8DOoGVwinyi1D3kxv7wuxQ02XkOxv0xwiypcAH\"};\n",
       "\n",
       "    for (let i = 0; i < js_urls.length; i++) {\n",
       "      const url = js_urls[i];\n",
       "      const element = document.createElement('script');\n",
       "      element.onload = on_load;\n",
       "      element.onerror = on_error.bind(null, url);\n",
       "      element.async = false;\n",
       "      element.src = url;\n",
       "      if (url in hashes) {\n",
       "        element.crossOrigin = \"anonymous\";\n",
       "        element.integrity = \"sha384-\" + hashes[url];\n",
       "      }\n",
       "      console.debug(\"Bokeh: injecting script tag for BokehJS library: \", url);\n",
       "      document.head.appendChild(element);\n",
       "    }\n",
       "  };\n",
       "\n",
       "  function inject_raw_css(css) {\n",
       "    const element = document.createElement(\"style\");\n",
       "    element.appendChild(document.createTextNode(css));\n",
       "    document.body.appendChild(element);\n",
       "  }\n",
       "\n",
       "  \n",
       "  var js_urls = [\"https://cdn.bokeh.org/bokeh/release/bokeh-2.3.2.min.js\", \"https://cdn.bokeh.org/bokeh/release/bokeh-widgets-2.3.2.min.js\", \"https://cdn.bokeh.org/bokeh/release/bokeh-tables-2.3.2.min.js\"];\n",
       "  var css_urls = [];\n",
       "  \n",
       "\n",
       "  var inline_js = [\n",
       "    function(Bokeh) {\n",
       "      Bokeh.set_log_level(\"info\");\n",
       "    },\n",
       "    function(Bokeh) {\n",
       "    \n",
       "    \n",
       "    }\n",
       "  ];\n",
       "\n",
       "  function run_inline_js() {\n",
       "    \n",
       "    if (root.Bokeh !== undefined || force === true) {\n",
       "      \n",
       "    for (var i = 0; i < inline_js.length; i++) {\n",
       "      inline_js[i].call(root, root.Bokeh);\n",
       "    }\n",
       "    if (force === true) {\n",
       "        display_loaded();\n",
       "      }} else if (Date.now() < root._bokeh_timeout) {\n",
       "      setTimeout(run_inline_js, 100);\n",
       "    } else if (!root._bokeh_failed_load) {\n",
       "      console.log(\"Bokeh: BokehJS failed to load within specified timeout.\");\n",
       "      root._bokeh_failed_load = true;\n",
       "    } else if (force !== true) {\n",
       "      var cell = $(document.getElementById(\"1002\")).parents('.cell').data().cell;\n",
       "      cell.output_area.append_execute_result(NB_LOAD_WARNING)\n",
       "    }\n",
       "\n",
       "  }\n",
       "\n",
       "  if (root._bokeh_is_loading === 0) {\n",
       "    console.debug(\"Bokeh: BokehJS loaded, going straight to plotting\");\n",
       "    run_inline_js();\n",
       "  } else {\n",
       "    load_libs(css_urls, js_urls, function() {\n",
       "      console.debug(\"Bokeh: BokehJS plotting callback run at\", now());\n",
       "      run_inline_js();\n",
       "    });\n",
       "  }\n",
       "}(window));"
      ],
      "application/vnd.bokehjs_load.v0+json": "\n(function(root) {\n  function now() {\n    return new Date();\n  }\n\n  var force = true;\n\n  if (typeof root._bokeh_onload_callbacks === \"undefined\" || force === true) {\n    root._bokeh_onload_callbacks = [];\n    root._bokeh_is_loading = undefined;\n  }\n\n  \n\n  \n  if (typeof (root._bokeh_timeout) === \"undefined\" || force === true) {\n    root._bokeh_timeout = Date.now() + 5000;\n    root._bokeh_failed_load = false;\n  }\n\n  var NB_LOAD_WARNING = {'data': {'text/html':\n     \"<div style='background-color: #fdd'>\\n\"+\n     \"<p>\\n\"+\n     \"BokehJS does not appear to have successfully loaded. If loading BokehJS from CDN, this \\n\"+\n     \"may be due to a slow or bad network connection. Possible fixes:\\n\"+\n     \"</p>\\n\"+\n     \"<ul>\\n\"+\n     \"<li>re-rerun `output_notebook()` to attempt to load from CDN again, or</li>\\n\"+\n     \"<li>use INLINE resources instead, as so:</li>\\n\"+\n     \"</ul>\\n\"+\n     \"<code>\\n\"+\n     \"from bokeh.resources import INLINE\\n\"+\n     \"output_notebook(resources=INLINE)\\n\"+\n     \"</code>\\n\"+\n     \"</div>\"}};\n\n  function display_loaded() {\n    var el = document.getElementById(\"1002\");\n    if (el != null) {\n      el.textContent = \"BokehJS is loading...\";\n    }\n    if (root.Bokeh !== undefined) {\n      if (el != null) {\n        el.textContent = \"BokehJS \" + root.Bokeh.version + \" successfully loaded.\";\n      }\n    } else if (Date.now() < root._bokeh_timeout) {\n      setTimeout(display_loaded, 100)\n    }\n  }\n\n\n  function run_callbacks() {\n    try {\n      root._bokeh_onload_callbacks.forEach(function(callback) {\n        if (callback != null)\n          callback();\n      });\n    } finally {\n      delete root._bokeh_onload_callbacks\n    }\n    console.debug(\"Bokeh: all callbacks have finished\");\n  }\n\n  function load_libs(css_urls, js_urls, callback) {\n    if (css_urls == null) css_urls = [];\n    if (js_urls == null) js_urls = [];\n\n    root._bokeh_onload_callbacks.push(callback);\n    if (root._bokeh_is_loading > 0) {\n      console.debug(\"Bokeh: BokehJS is being loaded, scheduling callback at\", now());\n      return null;\n    }\n    if (js_urls == null || js_urls.length === 0) {\n      run_callbacks();\n      return null;\n    }\n    console.debug(\"Bokeh: BokehJS not loaded, scheduling load and callback at\", now());\n    root._bokeh_is_loading = css_urls.length + js_urls.length;\n\n    function on_load() {\n      root._bokeh_is_loading--;\n      if (root._bokeh_is_loading === 0) {\n        console.debug(\"Bokeh: all BokehJS libraries/stylesheets loaded\");\n        run_callbacks()\n      }\n    }\n\n    function on_error(url) {\n      console.error(\"failed to load \" + url);\n    }\n\n    for (let i = 0; i < css_urls.length; i++) {\n      const url = css_urls[i];\n      const element = document.createElement(\"link\");\n      element.onload = on_load;\n      element.onerror = on_error.bind(null, url);\n      element.rel = \"stylesheet\";\n      element.type = \"text/css\";\n      element.href = url;\n      console.debug(\"Bokeh: injecting link tag for BokehJS stylesheet: \", url);\n      document.body.appendChild(element);\n    }\n\n    const hashes = {\"https://cdn.bokeh.org/bokeh/release/bokeh-2.3.2.min.js\": \"XypntL49z55iwGVUW4qsEu83zKL3XEcz0MjuGOQ9SlaaQ68X/g+k1FcioZi7oQAc\", \"https://cdn.bokeh.org/bokeh/release/bokeh-tables-2.3.2.min.js\": \"bEsM86IHGDTLCS0Zod8a8WM6Y4+lafAL/eSiyQcuPzinmWNgNO2/olUF0Z2Dkn5i\", \"https://cdn.bokeh.org/bokeh/release/bokeh-widgets-2.3.2.min.js\": \"TX0gSQTdXTTeScqxj6PVQxTiRW8DOoGVwinyi1D3kxv7wuxQ02XkOxv0xwiypcAH\"};\n\n    for (let i = 0; i < js_urls.length; i++) {\n      const url = js_urls[i];\n      const element = document.createElement('script');\n      element.onload = on_load;\n      element.onerror = on_error.bind(null, url);\n      element.async = false;\n      element.src = url;\n      if (url in hashes) {\n        element.crossOrigin = \"anonymous\";\n        element.integrity = \"sha384-\" + hashes[url];\n      }\n      console.debug(\"Bokeh: injecting script tag for BokehJS library: \", url);\n      document.head.appendChild(element);\n    }\n  };\n\n  function inject_raw_css(css) {\n    const element = document.createElement(\"style\");\n    element.appendChild(document.createTextNode(css));\n    document.body.appendChild(element);\n  }\n\n  \n  var js_urls = [\"https://cdn.bokeh.org/bokeh/release/bokeh-2.3.2.min.js\", \"https://cdn.bokeh.org/bokeh/release/bokeh-widgets-2.3.2.min.js\", \"https://cdn.bokeh.org/bokeh/release/bokeh-tables-2.3.2.min.js\"];\n  var css_urls = [];\n  \n\n  var inline_js = [\n    function(Bokeh) {\n      Bokeh.set_log_level(\"info\");\n    },\n    function(Bokeh) {\n    \n    \n    }\n  ];\n\n  function run_inline_js() {\n    \n    if (root.Bokeh !== undefined || force === true) {\n      \n    for (var i = 0; i < inline_js.length; i++) {\n      inline_js[i].call(root, root.Bokeh);\n    }\n    if (force === true) {\n        display_loaded();\n      }} else if (Date.now() < root._bokeh_timeout) {\n      setTimeout(run_inline_js, 100);\n    } else if (!root._bokeh_failed_load) {\n      console.log(\"Bokeh: BokehJS failed to load within specified timeout.\");\n      root._bokeh_failed_load = true;\n    } else if (force !== true) {\n      var cell = $(document.getElementById(\"1002\")).parents('.cell').data().cell;\n      cell.output_area.append_execute_result(NB_LOAD_WARNING)\n    }\n\n  }\n\n  if (root._bokeh_is_loading === 0) {\n    console.debug(\"Bokeh: BokehJS loaded, going straight to plotting\");\n    run_inline_js();\n  } else {\n    load_libs(css_urls, js_urls, function() {\n      console.debug(\"Bokeh: BokehJS plotting callback run at\", now());\n      run_inline_js();\n    });\n  }\n}(window));"
     },
     "metadata": {},
     "output_type": "display_data"
    }
   ],
   "source": [
    "output_notebook()"
   ]
  },
  {
   "cell_type": "markdown",
   "metadata": {},
   "source": [
    "### Wrangling data"
   ]
  },
  {
   "cell_type": "code",
   "execution_count": 3,
   "metadata": {},
   "outputs": [
    {
     "data": {
      "text/html": [
       "<div>\n",
       "<style scoped>\n",
       "    .dataframe tbody tr th:only-of-type {\n",
       "        vertical-align: middle;\n",
       "    }\n",
       "\n",
       "    .dataframe tbody tr th {\n",
       "        vertical-align: top;\n",
       "    }\n",
       "\n",
       "    .dataframe thead th {\n",
       "        text-align: right;\n",
       "    }\n",
       "</style>\n",
       "<table border=\"1\" class=\"dataframe\">\n",
       "  <thead>\n",
       "    <tr style=\"text-align: right;\">\n",
       "      <th></th>\n",
       "      <th>Country</th>\n",
       "      <th>Continent</th>\n",
       "      <th>female literacy</th>\n",
       "      <th>fertility</th>\n",
       "      <th>population</th>\n",
       "    </tr>\n",
       "  </thead>\n",
       "  <tbody>\n",
       "    <tr>\n",
       "      <th>0</th>\n",
       "      <td>Chine</td>\n",
       "      <td>ASI</td>\n",
       "      <td>90.5</td>\n",
       "      <td>1.769</td>\n",
       "      <td>1.324655e+09</td>\n",
       "    </tr>\n",
       "    <tr>\n",
       "      <th>1</th>\n",
       "      <td>Inde</td>\n",
       "      <td>ASI</td>\n",
       "      <td>50.8</td>\n",
       "      <td>2.682</td>\n",
       "      <td>1.139965e+09</td>\n",
       "    </tr>\n",
       "    <tr>\n",
       "      <th>2</th>\n",
       "      <td>USA</td>\n",
       "      <td>NAM</td>\n",
       "      <td>99</td>\n",
       "      <td>2.077</td>\n",
       "      <td>3.040600e+08</td>\n",
       "    </tr>\n",
       "    <tr>\n",
       "      <th>3</th>\n",
       "      <td>Indonésie</td>\n",
       "      <td>ASI</td>\n",
       "      <td>88.8</td>\n",
       "      <td>2.132</td>\n",
       "      <td>2.273451e+08</td>\n",
       "    </tr>\n",
       "    <tr>\n",
       "      <th>4</th>\n",
       "      <td>Brésil</td>\n",
       "      <td>LAT</td>\n",
       "      <td>90.2</td>\n",
       "      <td>1.827</td>\n",
       "      <td>1.919715e+08</td>\n",
       "    </tr>\n",
       "  </tbody>\n",
       "</table>\n",
       "</div>"
      ],
      "text/plain": [
       "    Country  Continent female literacy fertility    population\n",
       "0      Chine       ASI            90.5     1.769  1.324655e+09\n",
       "1       Inde       ASI            50.8     2.682  1.139965e+09\n",
       "2        USA       NAM              99     2.077  3.040600e+08\n",
       "3  Indonésie       ASI            88.8     2.132  2.273451e+08\n",
       "4     Brésil       LAT            90.2     1.827  1.919715e+08"
      ]
     },
     "execution_count": 3,
     "metadata": {},
     "output_type": "execute_result"
    }
   ],
   "source": [
    "country=pd.read_csv(\"data/datacamp/literacy_birth_rate.csv\")\n",
    "country.head()"
   ]
  },
  {
   "cell_type": "code",
   "execution_count": 4,
   "metadata": {},
   "outputs": [
    {
     "data": {
      "text/plain": [
       "Index(['Country ', 'Continent', 'female literacy', 'fertility', 'population'], dtype='object')"
      ]
     },
     "execution_count": 4,
     "metadata": {},
     "output_type": "execute_result"
    }
   ],
   "source": [
    "country.columns"
   ]
  },
  {
   "cell_type": "code",
   "execution_count": 5,
   "metadata": {},
   "outputs": [
    {
     "data": {
      "text/plain": [
       "Country             object\n",
       "Continent           object\n",
       "female literacy     object\n",
       "fertility           object\n",
       "population         float64\n",
       "dtype: object"
      ]
     },
     "execution_count": 5,
     "metadata": {},
     "output_type": "execute_result"
    }
   ],
   "source": [
    "country.dtypes"
   ]
  },
  {
   "cell_type": "code",
   "execution_count": 6,
   "metadata": {},
   "outputs": [],
   "source": [
    "def country_data(continent):\n",
    "    conti=country[country.Continent.isin([continent])]\n",
    "    df=conti.astype({\"female literacy\": float, \"fertility\": float})\n",
    "    return df"
   ]
  },
  {
   "cell_type": "markdown",
   "metadata": {},
   "source": [
    "### Asia continent"
   ]
  },
  {
   "cell_type": "code",
   "execution_count": 7,
   "metadata": {},
   "outputs": [],
   "source": [
    "asia=country_data(\"ASI\")"
   ]
  },
  {
   "cell_type": "code",
   "execution_count": 8,
   "metadata": {},
   "outputs": [
    {
     "data": {
      "text/plain": [
       "Country             object\n",
       "Continent           object\n",
       "female literacy    float64\n",
       "fertility          float64\n",
       "population         float64\n",
       "dtype: object"
      ]
     },
     "execution_count": 8,
     "metadata": {},
     "output_type": "execute_result"
    }
   ],
   "source": [
    "asia.dtypes"
   ]
  },
  {
   "cell_type": "code",
   "execution_count": 9,
   "metadata": {},
   "outputs": [
    {
     "data": {
      "text/html": [
       "<div>\n",
       "<style scoped>\n",
       "    .dataframe tbody tr th:only-of-type {\n",
       "        vertical-align: middle;\n",
       "    }\n",
       "\n",
       "    .dataframe tbody tr th {\n",
       "        vertical-align: top;\n",
       "    }\n",
       "\n",
       "    .dataframe thead th {\n",
       "        text-align: right;\n",
       "    }\n",
       "</style>\n",
       "<table border=\"1\" class=\"dataframe\">\n",
       "  <thead>\n",
       "    <tr style=\"text-align: right;\">\n",
       "      <th></th>\n",
       "      <th>Country</th>\n",
       "      <th>Continent</th>\n",
       "      <th>female literacy</th>\n",
       "      <th>fertility</th>\n",
       "      <th>population</th>\n",
       "    </tr>\n",
       "  </thead>\n",
       "  <tbody>\n",
       "    <tr>\n",
       "      <th>0</th>\n",
       "      <td>Chine</td>\n",
       "      <td>ASI</td>\n",
       "      <td>90.5</td>\n",
       "      <td>1.769</td>\n",
       "      <td>1.324655e+09</td>\n",
       "    </tr>\n",
       "    <tr>\n",
       "      <th>1</th>\n",
       "      <td>Inde</td>\n",
       "      <td>ASI</td>\n",
       "      <td>50.8</td>\n",
       "      <td>2.682</td>\n",
       "      <td>1.139965e+09</td>\n",
       "    </tr>\n",
       "    <tr>\n",
       "      <th>3</th>\n",
       "      <td>Indonésie</td>\n",
       "      <td>ASI</td>\n",
       "      <td>88.8</td>\n",
       "      <td>2.132</td>\n",
       "      <td>2.273451e+08</td>\n",
       "    </tr>\n",
       "    <tr>\n",
       "      <th>5</th>\n",
       "      <td>Pakistan</td>\n",
       "      <td>ASI</td>\n",
       "      <td>40.0</td>\n",
       "      <td>3.872</td>\n",
       "      <td>1.661115e+08</td>\n",
       "    </tr>\n",
       "    <tr>\n",
       "      <th>6</th>\n",
       "      <td>Bangladesh</td>\n",
       "      <td>ASI</td>\n",
       "      <td>49.8</td>\n",
       "      <td>2.288</td>\n",
       "      <td>1.600001e+08</td>\n",
       "    </tr>\n",
       "  </tbody>\n",
       "</table>\n",
       "</div>"
      ],
      "text/plain": [
       "     Country  Continent  female literacy  fertility    population\n",
       "0       Chine       ASI             90.5      1.769  1.324655e+09\n",
       "1        Inde       ASI             50.8      2.682  1.139965e+09\n",
       "3   Indonésie       ASI             88.8      2.132  2.273451e+08\n",
       "5    Pakistan       ASI             40.0      3.872  1.661115e+08\n",
       "6  Bangladesh       ASI             49.8      2.288  1.600001e+08"
      ]
     },
     "execution_count": 9,
     "metadata": {},
     "output_type": "execute_result"
    }
   ],
   "source": [
    "asia.head()"
   ]
  },
  {
   "cell_type": "markdown",
   "metadata": {},
   "source": [
    "### Europe continent"
   ]
  },
  {
   "cell_type": "code",
   "execution_count": 10,
   "metadata": {},
   "outputs": [
    {
     "data": {
      "text/html": [
       "<div>\n",
       "<style scoped>\n",
       "    .dataframe tbody tr th:only-of-type {\n",
       "        vertical-align: middle;\n",
       "    }\n",
       "\n",
       "    .dataframe tbody tr th {\n",
       "        vertical-align: top;\n",
       "    }\n",
       "\n",
       "    .dataframe thead th {\n",
       "        text-align: right;\n",
       "    }\n",
       "</style>\n",
       "<table border=\"1\" class=\"dataframe\">\n",
       "  <thead>\n",
       "    <tr style=\"text-align: right;\">\n",
       "      <th></th>\n",
       "      <th>Country</th>\n",
       "      <th>Continent</th>\n",
       "      <th>female literacy</th>\n",
       "      <th>fertility</th>\n",
       "      <th>population</th>\n",
       "    </tr>\n",
       "  </thead>\n",
       "  <tbody>\n",
       "    <tr>\n",
       "      <th>8</th>\n",
       "      <td>Fédération de Russie</td>\n",
       "      <td>EUR</td>\n",
       "      <td>99.4</td>\n",
       "      <td>1.393</td>\n",
       "      <td>141950000.0</td>\n",
       "    </tr>\n",
       "    <tr>\n",
       "      <th>13</th>\n",
       "      <td>Germany</td>\n",
       "      <td>EUR</td>\n",
       "      <td>99.0</td>\n",
       "      <td>1.324</td>\n",
       "      <td>82110097.0</td>\n",
       "    </tr>\n",
       "    <tr>\n",
       "      <th>20</th>\n",
       "      <td>France</td>\n",
       "      <td>EUR</td>\n",
       "      <td>99.0</td>\n",
       "      <td>1.881</td>\n",
       "      <td>62277432.0</td>\n",
       "    </tr>\n",
       "    <tr>\n",
       "      <th>21</th>\n",
       "      <td>UK</td>\n",
       "      <td>EUR</td>\n",
       "      <td>99.0</td>\n",
       "      <td>1.852</td>\n",
       "      <td>61414062.0</td>\n",
       "    </tr>\n",
       "    <tr>\n",
       "      <th>22</th>\n",
       "      <td>Italie</td>\n",
       "      <td>EUR</td>\n",
       "      <td>98.5</td>\n",
       "      <td>1.390</td>\n",
       "      <td>59832179.0</td>\n",
       "    </tr>\n",
       "  </tbody>\n",
       "</table>\n",
       "</div>"
      ],
      "text/plain": [
       "                Country  Continent  female literacy  fertility   population\n",
       "8   Fédération de Russie       EUR             99.4      1.393  141950000.0\n",
       "13               Germany       EUR             99.0      1.324   82110097.0\n",
       "20                France       EUR             99.0      1.881   62277432.0\n",
       "21                    UK       EUR             99.0      1.852   61414062.0\n",
       "22                Italie       EUR             98.5      1.390   59832179.0"
      ]
     },
     "execution_count": 10,
     "metadata": {},
     "output_type": "execute_result"
    }
   ],
   "source": [
    "europe=country_data(\"EUR\")\n",
    "europe.head()"
   ]
  },
  {
   "cell_type": "markdown",
   "metadata": {},
   "source": [
    "### Africa continent"
   ]
  },
  {
   "cell_type": "code",
   "execution_count": 11,
   "metadata": {},
   "outputs": [
    {
     "data": {
      "text/html": [
       "<div>\n",
       "<style scoped>\n",
       "    .dataframe tbody tr th:only-of-type {\n",
       "        vertical-align: middle;\n",
       "    }\n",
       "\n",
       "    .dataframe tbody tr th {\n",
       "        vertical-align: top;\n",
       "    }\n",
       "\n",
       "    .dataframe thead th {\n",
       "        text-align: right;\n",
       "    }\n",
       "</style>\n",
       "<table border=\"1\" class=\"dataframe\">\n",
       "  <thead>\n",
       "    <tr style=\"text-align: right;\">\n",
       "      <th></th>\n",
       "      <th>Country</th>\n",
       "      <th>Continent</th>\n",
       "      <th>female literacy</th>\n",
       "      <th>fertility</th>\n",
       "      <th>population</th>\n",
       "    </tr>\n",
       "  </thead>\n",
       "  <tbody>\n",
       "    <tr>\n",
       "      <th>7</th>\n",
       "      <td>Nigéria</td>\n",
       "      <td>AF</td>\n",
       "      <td>48.8</td>\n",
       "      <td>5.173</td>\n",
       "      <td>151212254.0</td>\n",
       "    </tr>\n",
       "    <tr>\n",
       "      <th>14</th>\n",
       "      <td>Egypte</td>\n",
       "      <td>AF</td>\n",
       "      <td>57.8</td>\n",
       "      <td>2.816</td>\n",
       "      <td>81527172.0</td>\n",
       "    </tr>\n",
       "    <tr>\n",
       "      <th>15</th>\n",
       "      <td>Ethiopie</td>\n",
       "      <td>AF</td>\n",
       "      <td>22.8</td>\n",
       "      <td>5.211</td>\n",
       "      <td>80713434.0</td>\n",
       "    </tr>\n",
       "    <tr>\n",
       "      <th>19</th>\n",
       "      <td>Rép. Démocratique du Congo</td>\n",
       "      <td>AF</td>\n",
       "      <td>56.1</td>\n",
       "      <td>5.908</td>\n",
       "      <td>64256635.0</td>\n",
       "    </tr>\n",
       "    <tr>\n",
       "      <th>24</th>\n",
       "      <td>Afrique du Sud</td>\n",
       "      <td>AF</td>\n",
       "      <td>88.1</td>\n",
       "      <td>2.505</td>\n",
       "      <td>48687000.0</td>\n",
       "    </tr>\n",
       "  </tbody>\n",
       "</table>\n",
       "</div>"
      ],
      "text/plain": [
       "                      Country  Continent  female literacy  fertility  \\\n",
       "7                      Nigéria        AF             48.8      5.173   \n",
       "14                      Egypte        AF             57.8      2.816   \n",
       "15                    Ethiopie        AF             22.8      5.211   \n",
       "19  Rép. Démocratique du Congo        AF             56.1      5.908   \n",
       "24              Afrique du Sud        AF             88.1      2.505   \n",
       "\n",
       "     population  \n",
       "7   151212254.0  \n",
       "14   81527172.0  \n",
       "15   80713434.0  \n",
       "19   64256635.0  \n",
       "24   48687000.0  "
      ]
     },
     "execution_count": 11,
     "metadata": {},
     "output_type": "execute_result"
    }
   ],
   "source": [
    "africa=country_data(\"AF\")\n",
    "africa.head()"
   ]
  },
  {
   "cell_type": "markdown",
   "metadata": {},
   "source": [
    "### Rows of plots"
   ]
  },
  {
   "cell_type": "code",
   "execution_count": 12,
   "metadata": {},
   "outputs": [
    {
     "data": {
      "text/html": [
       "\n",
       "\n",
       "\n",
       "\n",
       "\n",
       "\n",
       "  <div class=\"bk-root\" id=\"7005cd6d-6395-4a1c-8f45-473ded3383d1\" data-root-id=\"1079\"></div>\n"
      ]
     },
     "metadata": {},
     "output_type": "display_data"
    },
    {
     "data": {
      "application/javascript": [
       "(function(root) {\n",
       "  function embed_document(root) {\n",
       "    \n",
       "  var docs_json = {\"ce9afff0-5a22-4a5e-ad6e-5b084ab812da\":{\"defs\":[],\"roots\":{\"references\":[{\"attributes\":{\"children\":[{\"id\":\"1003\"},{\"id\":\"1036\"}]},\"id\":\"1079\",\"type\":\"Row\"},{\"attributes\":{\"formatter\":{\"id\":\"1087\"},\"major_label_policy\":{\"id\":\"1086\"},\"ticker\":{\"id\":\"1015\"}},\"id\":\"1014\",\"type\":\"LinearAxis\"},{\"attributes\":{},\"id\":\"1056\",\"type\":\"WheelZoomTool\"},{\"attributes\":{\"fill_alpha\":{\"value\":0.1},\"fill_color\":{\"value\":\"DarkOrange\"},\"line_alpha\":{\"value\":0.1},\"line_color\":{\"value\":\"DarkOrange\"},\"size\":{\"value\":10},\"x\":{\"field\":\"x\"},\"y\":{\"field\":\"y\"}},\"id\":\"1076\",\"type\":\"Circle\"},{\"attributes\":{},\"id\":\"1060\",\"type\":\"HelpTool\"},{\"attributes\":{\"active_multi\":null,\"tools\":[{\"id\":\"1055\"},{\"id\":\"1056\"},{\"id\":\"1057\"},{\"id\":\"1058\"},{\"id\":\"1059\"},{\"id\":\"1060\"}]},\"id\":\"1062\",\"type\":\"Toolbar\"},{\"attributes\":{\"fill_color\":{\"value\":\"firebrick\"},\"line_color\":{\"value\":\"firebrick\"},\"size\":{\"value\":10},\"x\":{\"field\":\"x\"},\"y\":{\"field\":\"y\"}},\"id\":\"1070\",\"type\":\"Circle\"},{\"attributes\":{},\"id\":\"1055\",\"type\":\"PanTool\"},{\"attributes\":{\"bottom_units\":\"screen\",\"fill_alpha\":0.5,\"fill_color\":\"lightgrey\",\"left_units\":\"screen\",\"level\":\"overlay\",\"line_alpha\":1.0,\"line_color\":\"black\",\"line_dash\":[4,4],\"line_width\":2,\"right_units\":\"screen\",\"syncable\":false,\"top_units\":\"screen\"},\"id\":\"1028\",\"type\":\"BoxAnnotation\"},{\"attributes\":{\"overlay\":{\"id\":\"1061\"}},\"id\":\"1057\",\"type\":\"BoxZoomTool\"},{\"attributes\":{},\"id\":\"1058\",\"type\":\"SaveTool\"},{\"attributes\":{\"below\":[{\"id\":\"1047\"}],\"center\":[{\"id\":\"1050\"},{\"id\":\"1054\"}],\"height\":300,\"left\":[{\"id\":\"1051\"}],\"renderers\":[{\"id\":\"1077\"}],\"title\":{\"id\":\"1037\"},\"toolbar\":{\"id\":\"1062\"},\"width\":300,\"x_range\":{\"id\":\"1039\"},\"x_scale\":{\"id\":\"1043\"},\"y_range\":{\"id\":\"1041\"},\"y_scale\":{\"id\":\"1045\"}},\"id\":\"1036\",\"subtype\":\"Figure\",\"type\":\"Plot\"},{\"attributes\":{},\"id\":\"1059\",\"type\":\"ResetTool\"},{\"attributes\":{\"text\":\"Europe continent\"},\"id\":\"1037\",\"type\":\"Title\"},{\"attributes\":{\"below\":[{\"id\":\"1014\"}],\"center\":[{\"id\":\"1017\"},{\"id\":\"1021\"}],\"height\":300,\"left\":[{\"id\":\"1018\"}],\"renderers\":[{\"id\":\"1072\"}],\"title\":{\"id\":\"1004\"},\"toolbar\":{\"id\":\"1029\"},\"width\":300,\"x_range\":{\"id\":\"1006\"},\"x_scale\":{\"id\":\"1010\"},\"y_range\":{\"id\":\"1008\"},\"y_scale\":{\"id\":\"1012\"}},\"id\":\"1003\",\"subtype\":\"Figure\",\"type\":\"Plot\"},{\"attributes\":{\"data\":{\"x\":{\"__ndarray__\":\"5/up8dJN/D/b+X5qvHQFQHWTGARWDgFAYOXQItv5DkDn+6nx0k0CQP7UeOkmMfQ/aJHtfD81CEDdJAaBlUMAQM3MzMzMzABA5dAi2/l+/D/0/dR46Sb9P3Noke18PwJAL90kBoGV8z/jpZvEILAPQIXrUbgeBRpAL90kBoGVBkCWQ4ts5/sBQKrx0k1iEARAUrgehetRCEBEi2zn+6n9P2ZmZmZmZhRA/Knx0k1iCUAQWDm0yHYCQCcxCKwcWgJArBxaZDvfBkDTTWIQWDkBQGq8dJMYBAZAzczMzMzMCkBSuB6F61ELQPT91HjpJghAvp8aL90kBEBxPQrXo3ADQGiR7Xw/NfQ//Knx0k1i/j8dWmQ730/5P9v5fmq8dP0/K4cW2c73+z9t5/up8dIHQJ7vp8ZLNwFAAiuHFtnO/z/hehSuR+ECQHe+nxov3QFAGy/dJAaBBEC28/3UeOnuP9Ei2/l+agBAAAAAAAAAAEAGgZVDi2wPQA==\",\"dtype\":\"float64\",\"order\":\"little\",\"shape\":[47]},\"y\":{\"__ndarray__\":\"AAAAAACgVkBmZmZmZmZJQDMzMzMzM1ZAAAAAAAAAREBmZmZmZuZIQAAAAAAAwFhAmpmZmZl5V0DNzMzMzIxWQDMzMzMzU1RAzczMzMxMU0AAAAAAAOBWQM3MzMzMTFZAZmZmZmYmWEDNzMzMzExRQDMzMzMzMylAMzMzMzOzRkCamZmZmblYQDMzMzMzc1ZAzczMzMwMVEAAAAAAAABZQGZmZmZmZkVAzczMzMxMU0BmZmZmZkZWQAAAAAAA4FhAmpmZmZm5UUDNzMzMzMxYQJqZmZmZ+VdAAAAAAADgWECamZmZmZlPQJqZmZmZOVZAZmZmZmbGWEAzMzMzM9NYQGZmZmZm5lZAAAAAAADgVkDNzMzMzOxYQAAAAAAAgFVAmpmZmZnZWECamZmZmTlUQGZmZmZmRldAMzMzMzNzWECamZmZmZlWQJqZmZmZWVZAmpmZmZlZQ0DNzMzMzKxWQDMzMzMzU1dAmpmZmZmZWEBmZmZmZsZYQA==\",\"dtype\":\"float64\",\"order\":\"little\",\"shape\":[47]}},\"selected\":{\"id\":\"1095\"},\"selection_policy\":{\"id\":\"1096\"}},\"id\":\"1069\",\"type\":\"ColumnDataSource\"},{\"attributes\":{},\"id\":\"1008\",\"type\":\"DataRange1d\"},{\"attributes\":{\"source\":{\"id\":\"1069\"}},\"id\":\"1073\",\"type\":\"CDSView\"},{\"attributes\":{\"text\":\"Asia continent\"},\"id\":\"1004\",\"type\":\"Title\"},{\"attributes\":{\"fill_alpha\":{\"value\":0.1},\"fill_color\":{\"value\":\"firebrick\"},\"line_alpha\":{\"value\":0.1},\"line_color\":{\"value\":\"firebrick\"},\"size\":{\"value\":10},\"x\":{\"field\":\"x\"},\"y\":{\"field\":\"y\"}},\"id\":\"1071\",\"type\":\"Circle\"},{\"attributes\":{},\"id\":\"1006\",\"type\":\"DataRange1d\"},{\"attributes\":{},\"id\":\"1023\",\"type\":\"WheelZoomTool\"},{\"attributes\":{},\"id\":\"1012\",\"type\":\"LinearScale\"},{\"attributes\":{\"data_source\":{\"id\":\"1069\"},\"glyph\":{\"id\":\"1070\"},\"hover_glyph\":null,\"muted_glyph\":null,\"nonselection_glyph\":{\"id\":\"1071\"},\"view\":{\"id\":\"1073\"}},\"id\":\"1072\",\"type\":\"GlyphRenderer\"},{\"attributes\":{},\"id\":\"1010\",\"type\":\"LinearScale\"},{\"attributes\":{\"overlay\":{\"id\":\"1028\"}},\"id\":\"1024\",\"type\":\"BoxZoomTool\"},{\"attributes\":{\"formatter\":{\"id\":\"1084\"},\"major_label_policy\":{\"id\":\"1083\"},\"ticker\":{\"id\":\"1019\"}},\"id\":\"1018\",\"type\":\"LinearAxis\"},{\"attributes\":{},\"id\":\"1015\",\"type\":\"BasicTicker\"},{\"attributes\":{},\"id\":\"1089\",\"type\":\"AllLabels\"},{\"attributes\":{\"axis\":{\"id\":\"1014\"},\"ticker\":null},\"id\":\"1017\",\"type\":\"Grid\"},{\"attributes\":{},\"id\":\"1090\",\"type\":\"BasicTickFormatter\"},{\"attributes\":{\"axis\":{\"id\":\"1051\"},\"dimension\":1,\"ticker\":null},\"id\":\"1054\",\"type\":\"Grid\"},{\"attributes\":{\"active_multi\":null,\"tools\":[{\"id\":\"1022\"},{\"id\":\"1023\"},{\"id\":\"1024\"},{\"id\":\"1025\"},{\"id\":\"1026\"},{\"id\":\"1027\"}]},\"id\":\"1029\",\"type\":\"Toolbar\"},{\"attributes\":{},\"id\":\"1083\",\"type\":\"AllLabels\"},{\"attributes\":{\"axis\":{\"id\":\"1018\"},\"dimension\":1,\"ticker\":null},\"id\":\"1021\",\"type\":\"Grid\"},{\"attributes\":{},\"id\":\"1027\",\"type\":\"HelpTool\"},{\"attributes\":{},\"id\":\"1084\",\"type\":\"BasicTickFormatter\"},{\"attributes\":{},\"id\":\"1092\",\"type\":\"AllLabels\"},{\"attributes\":{},\"id\":\"1019\",\"type\":\"BasicTicker\"},{\"attributes\":{\"bottom_units\":\"screen\",\"fill_alpha\":0.5,\"fill_color\":\"lightgrey\",\"left_units\":\"screen\",\"level\":\"overlay\",\"line_alpha\":1.0,\"line_color\":\"black\",\"line_dash\":[4,4],\"line_width\":2,\"right_units\":\"screen\",\"syncable\":false,\"top_units\":\"screen\"},\"id\":\"1061\",\"type\":\"BoxAnnotation\"},{\"attributes\":{},\"id\":\"1098\",\"type\":\"Selection\"},{\"attributes\":{},\"id\":\"1025\",\"type\":\"SaveTool\"},{\"attributes\":{\"formatter\":{\"id\":\"1090\"},\"major_label_policy\":{\"id\":\"1089\"},\"ticker\":{\"id\":\"1052\"}},\"id\":\"1051\",\"type\":\"LinearAxis\"},{\"attributes\":{},\"id\":\"1022\",\"type\":\"PanTool\"},{\"attributes\":{},\"id\":\"1026\",\"type\":\"ResetTool\"},{\"attributes\":{},\"id\":\"1086\",\"type\":\"AllLabels\"},{\"attributes\":{},\"id\":\"1093\",\"type\":\"BasicTickFormatter\"},{\"attributes\":{},\"id\":\"1052\",\"type\":\"BasicTicker\"},{\"attributes\":{},\"id\":\"1045\",\"type\":\"LinearScale\"},{\"attributes\":{},\"id\":\"1087\",\"type\":\"BasicTickFormatter\"},{\"attributes\":{\"fill_color\":{\"value\":\"DarkOrange\"},\"line_color\":{\"value\":\"DarkOrange\"},\"size\":{\"value\":10},\"x\":{\"field\":\"x\"},\"y\":{\"field\":\"y\"}},\"id\":\"1075\",\"type\":\"Circle\"},{\"attributes\":{},\"id\":\"1039\",\"type\":\"DataRange1d\"},{\"attributes\":{},\"id\":\"1099\",\"type\":\"UnionRenderers\"},{\"attributes\":{},\"id\":\"1095\",\"type\":\"Selection\"},{\"attributes\":{},\"id\":\"1041\",\"type\":\"DataRange1d\"},{\"attributes\":{\"data\":{\"x\":{\"__ndarray__\":\"fT81XrpJ9j/Jdr6fGi/1P39qvHSTGP4/bxKDwMqh/T89CtejcD32Py2yne+nxvU/sHJoke189z8Sg8DKoUX0PzMzMzMzM/U/wcqhRbbz+z8pXI/C9Sj2PyUGgZVDi/w/PzVeukkM9j8zMzMzMzP3P+xRuB6F6/U/5dAi2/l+9D9WDi2yne/9P1yPwvUoXPc/YOXQItv59j+YbhKDwMr5Py/dJAaBlf0/x0s3iUFg/T8pXI/C9Sj+P99PjZduEvc/c2iR7Xw//z8xCKwcWmTzP9V46SYxCPg/rBxaZDvf9T9Ei2zn+6n9PzeJQWDl0PY/YOXQItv59j99PzVeukn2P0oMAiuHFvs/qMZLN4lB+D9qvHSTGAT0P1g5tMh2vgBA\",\"dtype\":\"float64\",\"order\":\"little\",\"shape\":[36]},\"y\":{\"__ndarray__\":\"mpmZmZnZWEAAAAAAAMBYQAAAAAAAwFhAAAAAAADAWEAAAAAAAKBYQGZmZmZm5lhAmpmZmZk5WEAzMzMzM9NYQJqZmZmZOVhAAAAAAADAWECamZmZmflXQAAAAAAAwFhAmpmZmZk5V0AAAAAAAMBYQJqZmZmZuVhAzczMzMzsWEAAAAAAAMBYQAAAAAAAwFhAmpmZmZl5WEDNzMzMzAxYQAAAAAAAwFhAAAAAAAAAWUAAAAAAAABZQAAAAAAAgFhAAAAAAADAWECamZmZmflXQDMzMzMzc1hAzczMzMzsWEDNzMzMzKxYQDMzMzMz81hAmpmZmZnZV0DNzMzMzOxYQDMzMzMz81hAzczMzMwsWEAAAAAAAGBXQAAAAAAAwFhA\",\"dtype\":\"float64\",\"order\":\"little\",\"shape\":[36]}},\"selected\":{\"id\":\"1098\"},\"selection_policy\":{\"id\":\"1099\"}},\"id\":\"1074\",\"type\":\"ColumnDataSource\"},{\"attributes\":{},\"id\":\"1043\",\"type\":\"LinearScale\"},{\"attributes\":{\"formatter\":{\"id\":\"1093\"},\"major_label_policy\":{\"id\":\"1092\"},\"ticker\":{\"id\":\"1048\"}},\"id\":\"1047\",\"type\":\"LinearAxis\"},{\"attributes\":{\"data_source\":{\"id\":\"1074\"},\"glyph\":{\"id\":\"1075\"},\"hover_glyph\":null,\"muted_glyph\":null,\"nonselection_glyph\":{\"id\":\"1076\"},\"view\":{\"id\":\"1078\"}},\"id\":\"1077\",\"type\":\"GlyphRenderer\"},{\"attributes\":{\"axis\":{\"id\":\"1047\"},\"ticker\":null},\"id\":\"1050\",\"type\":\"Grid\"},{\"attributes\":{},\"id\":\"1096\",\"type\":\"UnionRenderers\"},{\"attributes\":{\"source\":{\"id\":\"1074\"}},\"id\":\"1078\",\"type\":\"CDSView\"},{\"attributes\":{},\"id\":\"1048\",\"type\":\"BasicTicker\"}],\"root_ids\":[\"1079\"]},\"title\":\"Bokeh Application\",\"version\":\"2.3.2\"}};\n",
       "  var render_items = [{\"docid\":\"ce9afff0-5a22-4a5e-ad6e-5b084ab812da\",\"root_ids\":[\"1079\"],\"roots\":{\"1079\":\"7005cd6d-6395-4a1c-8f45-473ded3383d1\"}}];\n",
       "  root.Bokeh.embed.embed_items_notebook(docs_json, render_items);\n",
       "\n",
       "  }\n",
       "  if (root.Bokeh !== undefined) {\n",
       "    embed_document(root);\n",
       "  } else {\n",
       "    var attempts = 0;\n",
       "    var timer = setInterval(function(root) {\n",
       "      if (root.Bokeh !== undefined) {\n",
       "        clearInterval(timer);\n",
       "        embed_document(root);\n",
       "      } else {\n",
       "        attempts++;\n",
       "        if (attempts > 100) {\n",
       "          clearInterval(timer);\n",
       "          console.log(\"Bokeh: ERROR: Unable to run BokehJS code because BokehJS library is missing\");\n",
       "        }\n",
       "      }\n",
       "    }, 10, root)\n",
       "  }\n",
       "})(window);"
      ],
      "application/vnd.bokehjs_exec.v0+json": ""
     },
     "metadata": {
      "application/vnd.bokehjs_exec.v0+json": {
       "id": "1079"
      }
     },
     "output_type": "display_data"
    }
   ],
   "source": [
    "p1=figure(plot_width=300, plot_height=300, \n",
    "         title=\"Asia continent\")\n",
    "p2=figure(plot_width=300, plot_height=300, \n",
    "         title=\"Europe continent\")\n",
    "\n",
    "p1.circle(x=asia[\"fertility\"], y=asia[\"female literacy\"], \n",
    "         color=\"firebrick\", \n",
    "         size=10)\n",
    "p2.circle(x=europe[\"fertility\"], y=europe[\"female literacy\"], \n",
    "         color=\"DarkOrange\", \n",
    "         size=10)\n",
    "\n",
    "\n",
    "layout=row(p1, p2)\n",
    "show(layout)"
   ]
  },
  {
   "cell_type": "markdown",
   "metadata": {},
   "source": [
    "### Columns of plots"
   ]
  },
  {
   "cell_type": "code",
   "execution_count": 13,
   "metadata": {},
   "outputs": [
    {
     "data": {
      "text/html": [
       "\n",
       "\n",
       "\n",
       "\n",
       "\n",
       "\n",
       "  <div class=\"bk-root\" id=\"9dd91488-f405-4b2e-a4d0-e20f88f6ad09\" data-root-id=\"1276\"></div>\n"
      ]
     },
     "metadata": {},
     "output_type": "display_data"
    },
    {
     "data": {
      "application/javascript": [
       "(function(root) {\n",
       "  function embed_document(root) {\n",
       "    \n",
       "  var docs_json = {\"5f3a1f2e-f674-4bff-8302-91db37e6952c\":{\"defs\":[],\"roots\":{\"references\":[{\"attributes\":{\"children\":[{\"id\":\"1200\"},{\"id\":\"1233\"}]},\"id\":\"1276\",\"type\":\"Column\"},{\"attributes\":{\"active_multi\":null,\"tools\":[{\"id\":\"1219\"},{\"id\":\"1220\"},{\"id\":\"1221\"},{\"id\":\"1222\"},{\"id\":\"1223\"},{\"id\":\"1224\"}]},\"id\":\"1226\",\"type\":\"Toolbar\"},{\"attributes\":{\"fill_alpha\":{\"value\":0.1},\"fill_color\":{\"value\":\"DarkOrange\"},\"line_alpha\":{\"value\":0.1},\"line_color\":{\"value\":\"DarkOrange\"},\"size\":{\"value\":10},\"x\":{\"field\":\"x\"},\"y\":{\"field\":\"y\"}},\"id\":\"1273\",\"type\":\"Circle\"},{\"attributes\":{},\"id\":\"1219\",\"type\":\"PanTool\"},{\"attributes\":{},\"id\":\"1306\",\"type\":\"AllLabels\"},{\"attributes\":{},\"id\":\"1220\",\"type\":\"WheelZoomTool\"},{\"attributes\":{\"overlay\":{\"id\":\"1225\"}},\"id\":\"1221\",\"type\":\"BoxZoomTool\"},{\"attributes\":{},\"id\":\"1307\",\"type\":\"BasicTickFormatter\"},{\"attributes\":{},\"id\":\"1222\",\"type\":\"SaveTool\"},{\"attributes\":{},\"id\":\"1300\",\"type\":\"AllLabels\"},{\"attributes\":{},\"id\":\"1223\",\"type\":\"ResetTool\"},{\"attributes\":{\"active_multi\":null,\"tools\":[{\"id\":\"1252\"},{\"id\":\"1253\"},{\"id\":\"1254\"},{\"id\":\"1255\"},{\"id\":\"1256\"},{\"id\":\"1257\"}]},\"id\":\"1259\",\"type\":\"Toolbar\"},{\"attributes\":{},\"id\":\"1309\",\"type\":\"AllLabels\"},{\"attributes\":{},\"id\":\"1301\",\"type\":\"BasicTickFormatter\"},{\"attributes\":{\"source\":{\"id\":\"1271\"}},\"id\":\"1275\",\"type\":\"CDSView\"},{\"attributes\":{},\"id\":\"1249\",\"type\":\"BasicTicker\"},{\"attributes\":{},\"id\":\"1310\",\"type\":\"BasicTickFormatter\"},{\"attributes\":{},\"id\":\"1313\",\"type\":\"UnionRenderers\"},{\"attributes\":{},\"id\":\"1245\",\"type\":\"BasicTicker\"},{\"attributes\":{},\"id\":\"1303\",\"type\":\"AllLabels\"},{\"attributes\":{},\"id\":\"1238\",\"type\":\"DataRange1d\"},{\"attributes\":{},\"id\":\"1257\",\"type\":\"HelpTool\"},{\"attributes\":{},\"id\":\"1255\",\"type\":\"SaveTool\"},{\"attributes\":{},\"id\":\"1242\",\"type\":\"LinearScale\"},{\"attributes\":{},\"id\":\"1304\",\"type\":\"BasicTickFormatter\"},{\"attributes\":{\"axis\":{\"id\":\"1244\"},\"ticker\":null},\"id\":\"1247\",\"type\":\"Grid\"},{\"attributes\":{},\"id\":\"1256\",\"type\":\"ResetTool\"},{\"attributes\":{\"overlay\":{\"id\":\"1258\"}},\"id\":\"1254\",\"type\":\"BoxZoomTool\"},{\"attributes\":{\"formatter\":{\"id\":\"1304\"},\"major_label_policy\":{\"id\":\"1303\"},\"ticker\":{\"id\":\"1212\"}},\"id\":\"1211\",\"type\":\"LinearAxis\"},{\"attributes\":{\"fill_alpha\":{\"value\":0.1},\"fill_color\":{\"value\":\"firebrick\"},\"line_alpha\":{\"value\":0.1},\"line_color\":{\"value\":\"firebrick\"},\"size\":{\"value\":10},\"x\":{\"field\":\"x\"},\"y\":{\"field\":\"y\"}},\"id\":\"1268\",\"type\":\"Circle\"},{\"attributes\":{},\"id\":\"1312\",\"type\":\"Selection\"},{\"attributes\":{\"fill_color\":{\"value\":\"firebrick\"},\"line_color\":{\"value\":\"firebrick\"},\"size\":{\"value\":10},\"x\":{\"field\":\"x\"},\"y\":{\"field\":\"y\"}},\"id\":\"1267\",\"type\":\"Circle\"},{\"attributes\":{\"data\":{\"x\":{\"__ndarray__\":\"fT81XrpJ9j/Jdr6fGi/1P39qvHSTGP4/bxKDwMqh/T89CtejcD32Py2yne+nxvU/sHJoke189z8Sg8DKoUX0PzMzMzMzM/U/wcqhRbbz+z8pXI/C9Sj2PyUGgZVDi/w/PzVeukkM9j8zMzMzMzP3P+xRuB6F6/U/5dAi2/l+9D9WDi2yne/9P1yPwvUoXPc/YOXQItv59j+YbhKDwMr5Py/dJAaBlf0/x0s3iUFg/T8pXI/C9Sj+P99PjZduEvc/c2iR7Xw//z8xCKwcWmTzP9V46SYxCPg/rBxaZDvf9T9Ei2zn+6n9PzeJQWDl0PY/YOXQItv59j99PzVeukn2P0oMAiuHFvs/qMZLN4lB+D9qvHSTGAT0P1g5tMh2vgBA\",\"dtype\":\"float64\",\"order\":\"little\",\"shape\":[36]},\"y\":{\"__ndarray__\":\"mpmZmZnZWEAAAAAAAMBYQAAAAAAAwFhAAAAAAADAWEAAAAAAAKBYQGZmZmZm5lhAmpmZmZk5WEAzMzMzM9NYQJqZmZmZOVhAAAAAAADAWECamZmZmflXQAAAAAAAwFhAmpmZmZk5V0AAAAAAAMBYQJqZmZmZuVhAzczMzMzsWEAAAAAAAMBYQAAAAAAAwFhAmpmZmZl5WEDNzMzMzAxYQAAAAAAAwFhAAAAAAAAAWUAAAAAAAABZQAAAAAAAgFhAAAAAAADAWECamZmZmflXQDMzMzMzc1hAzczMzMzsWEDNzMzMzKxYQDMzMzMz81hAmpmZmZnZV0DNzMzMzOxYQDMzMzMz81hAzczMzMwsWEAAAAAAAGBXQAAAAAAAwFhA\",\"dtype\":\"float64\",\"order\":\"little\",\"shape\":[36]}},\"selected\":{\"id\":\"1315\"},\"selection_policy\":{\"id\":\"1316\"}},\"id\":\"1271\",\"type\":\"ColumnDataSource\"},{\"attributes\":{\"formatter\":{\"id\":\"1310\"},\"major_label_policy\":{\"id\":\"1309\"},\"ticker\":{\"id\":\"1245\"}},\"id\":\"1244\",\"type\":\"LinearAxis\"},{\"attributes\":{\"below\":[{\"id\":\"1244\"}],\"center\":[{\"id\":\"1247\"},{\"id\":\"1251\"}],\"height\":300,\"left\":[{\"id\":\"1248\"}],\"renderers\":[{\"id\":\"1274\"}],\"title\":{\"id\":\"1234\"},\"toolbar\":{\"id\":\"1259\"},\"x_range\":{\"id\":\"1236\"},\"x_scale\":{\"id\":\"1240\"},\"y_range\":{\"id\":\"1238\"},\"y_scale\":{\"id\":\"1242\"}},\"id\":\"1233\",\"subtype\":\"Figure\",\"type\":\"Plot\"},{\"attributes\":{},\"id\":\"1240\",\"type\":\"LinearScale\"},{\"attributes\":{\"source\":{\"id\":\"1266\"}},\"id\":\"1270\",\"type\":\"CDSView\"},{\"attributes\":{\"text\":\"Europe continent\"},\"id\":\"1234\",\"type\":\"Title\"},{\"attributes\":{\"data_source\":{\"id\":\"1266\"},\"glyph\":{\"id\":\"1267\"},\"hover_glyph\":null,\"muted_glyph\":null,\"nonselection_glyph\":{\"id\":\"1268\"},\"view\":{\"id\":\"1270\"}},\"id\":\"1269\",\"type\":\"GlyphRenderer\"},{\"attributes\":{\"below\":[{\"id\":\"1211\"}],\"center\":[{\"id\":\"1214\"},{\"id\":\"1218\"}],\"height\":300,\"left\":[{\"id\":\"1215\"}],\"renderers\":[{\"id\":\"1269\"}],\"title\":{\"id\":\"1201\"},\"toolbar\":{\"id\":\"1226\"},\"x_range\":{\"id\":\"1203\"},\"x_scale\":{\"id\":\"1207\"},\"y_range\":{\"id\":\"1205\"},\"y_scale\":{\"id\":\"1209\"}},\"id\":\"1200\",\"subtype\":\"Figure\",\"type\":\"Plot\"},{\"attributes\":{\"axis\":{\"id\":\"1248\"},\"dimension\":1,\"ticker\":null},\"id\":\"1251\",\"type\":\"Grid\"},{\"attributes\":{\"text\":\"Asia continent\"},\"id\":\"1201\",\"type\":\"Title\"},{\"attributes\":{},\"id\":\"1236\",\"type\":\"DataRange1d\"},{\"attributes\":{\"formatter\":{\"id\":\"1307\"},\"major_label_policy\":{\"id\":\"1306\"},\"ticker\":{\"id\":\"1249\"}},\"id\":\"1248\",\"type\":\"LinearAxis\"},{\"attributes\":{\"data\":{\"x\":{\"__ndarray__\":\"5/up8dJN/D/b+X5qvHQFQHWTGARWDgFAYOXQItv5DkDn+6nx0k0CQP7UeOkmMfQ/aJHtfD81CEDdJAaBlUMAQM3MzMzMzABA5dAi2/l+/D/0/dR46Sb9P3Noke18PwJAL90kBoGV8z/jpZvEILAPQIXrUbgeBRpAL90kBoGVBkCWQ4ts5/sBQKrx0k1iEARAUrgehetRCEBEi2zn+6n9P2ZmZmZmZhRA/Knx0k1iCUAQWDm0yHYCQCcxCKwcWgJArBxaZDvfBkDTTWIQWDkBQGq8dJMYBAZAzczMzMzMCkBSuB6F61ELQPT91HjpJghAvp8aL90kBEBxPQrXo3ADQGiR7Xw/NfQ//Knx0k1i/j8dWmQ730/5P9v5fmq8dP0/K4cW2c73+z9t5/up8dIHQJ7vp8ZLNwFAAiuHFtnO/z/hehSuR+ECQHe+nxov3QFAGy/dJAaBBEC28/3UeOnuP9Ei2/l+agBAAAAAAAAAAEAGgZVDi2wPQA==\",\"dtype\":\"float64\",\"order\":\"little\",\"shape\":[47]},\"y\":{\"__ndarray__\":\"AAAAAACgVkBmZmZmZmZJQDMzMzMzM1ZAAAAAAAAAREBmZmZmZuZIQAAAAAAAwFhAmpmZmZl5V0DNzMzMzIxWQDMzMzMzU1RAzczMzMxMU0AAAAAAAOBWQM3MzMzMTFZAZmZmZmYmWEDNzMzMzExRQDMzMzMzMylAMzMzMzOzRkCamZmZmblYQDMzMzMzc1ZAzczMzMwMVEAAAAAAAABZQGZmZmZmZkVAzczMzMxMU0BmZmZmZkZWQAAAAAAA4FhAmpmZmZm5UUDNzMzMzMxYQJqZmZmZ+VdAAAAAAADgWECamZmZmZlPQJqZmZmZOVZAZmZmZmbGWEAzMzMzM9NYQGZmZmZm5lZAAAAAAADgVkDNzMzMzOxYQAAAAAAAgFVAmpmZmZnZWECamZmZmTlUQGZmZmZmRldAMzMzMzNzWECamZmZmZlWQJqZmZmZWVZAmpmZmZlZQ0DNzMzMzKxWQDMzMzMzU1dAmpmZmZmZWEBmZmZmZsZYQA==\",\"dtype\":\"float64\",\"order\":\"little\",\"shape\":[47]}},\"selected\":{\"id\":\"1312\"},\"selection_policy\":{\"id\":\"1313\"}},\"id\":\"1266\",\"type\":\"ColumnDataSource\"},{\"attributes\":{},\"id\":\"1203\",\"type\":\"DataRange1d\"},{\"attributes\":{\"fill_color\":{\"value\":\"DarkOrange\"},\"line_color\":{\"value\":\"DarkOrange\"},\"size\":{\"value\":10},\"x\":{\"field\":\"x\"},\"y\":{\"field\":\"y\"}},\"id\":\"1272\",\"type\":\"Circle\"},{\"attributes\":{},\"id\":\"1207\",\"type\":\"LinearScale\"},{\"attributes\":{\"bottom_units\":\"screen\",\"fill_alpha\":0.5,\"fill_color\":\"lightgrey\",\"left_units\":\"screen\",\"level\":\"overlay\",\"line_alpha\":1.0,\"line_color\":\"black\",\"line_dash\":[4,4],\"line_width\":2,\"right_units\":\"screen\",\"syncable\":false,\"top_units\":\"screen\"},\"id\":\"1225\",\"type\":\"BoxAnnotation\"},{\"attributes\":{},\"id\":\"1205\",\"type\":\"DataRange1d\"},{\"attributes\":{},\"id\":\"1209\",\"type\":\"LinearScale\"},{\"attributes\":{\"bottom_units\":\"screen\",\"fill_alpha\":0.5,\"fill_color\":\"lightgrey\",\"left_units\":\"screen\",\"level\":\"overlay\",\"line_alpha\":1.0,\"line_color\":\"black\",\"line_dash\":[4,4],\"line_width\":2,\"right_units\":\"screen\",\"syncable\":false,\"top_units\":\"screen\"},\"id\":\"1258\",\"type\":\"BoxAnnotation\"},{\"attributes\":{},\"id\":\"1253\",\"type\":\"WheelZoomTool\"},{\"attributes\":{},\"id\":\"1212\",\"type\":\"BasicTicker\"},{\"attributes\":{},\"id\":\"1252\",\"type\":\"PanTool\"},{\"attributes\":{\"axis\":{\"id\":\"1211\"},\"ticker\":null},\"id\":\"1214\",\"type\":\"Grid\"},{\"attributes\":{},\"id\":\"1315\",\"type\":\"Selection\"},{\"attributes\":{},\"id\":\"1224\",\"type\":\"HelpTool\"},{\"attributes\":{\"axis\":{\"id\":\"1215\"},\"dimension\":1,\"ticker\":null},\"id\":\"1218\",\"type\":\"Grid\"},{\"attributes\":{\"formatter\":{\"id\":\"1301\"},\"major_label_policy\":{\"id\":\"1300\"},\"ticker\":{\"id\":\"1216\"}},\"id\":\"1215\",\"type\":\"LinearAxis\"},{\"attributes\":{\"data_source\":{\"id\":\"1271\"},\"glyph\":{\"id\":\"1272\"},\"hover_glyph\":null,\"muted_glyph\":null,\"nonselection_glyph\":{\"id\":\"1273\"},\"view\":{\"id\":\"1275\"}},\"id\":\"1274\",\"type\":\"GlyphRenderer\"},{\"attributes\":{},\"id\":\"1316\",\"type\":\"UnionRenderers\"},{\"attributes\":{},\"id\":\"1216\",\"type\":\"BasicTicker\"}],\"root_ids\":[\"1276\"]},\"title\":\"Bokeh Application\",\"version\":\"2.3.2\"}};\n",
       "  var render_items = [{\"docid\":\"5f3a1f2e-f674-4bff-8302-91db37e6952c\",\"root_ids\":[\"1276\"],\"roots\":{\"1276\":\"9dd91488-f405-4b2e-a4d0-e20f88f6ad09\"}}];\n",
       "  root.Bokeh.embed.embed_items_notebook(docs_json, render_items);\n",
       "\n",
       "  }\n",
       "  if (root.Bokeh !== undefined) {\n",
       "    embed_document(root);\n",
       "  } else {\n",
       "    var attempts = 0;\n",
       "    var timer = setInterval(function(root) {\n",
       "      if (root.Bokeh !== undefined) {\n",
       "        clearInterval(timer);\n",
       "        embed_document(root);\n",
       "      } else {\n",
       "        attempts++;\n",
       "        if (attempts > 100) {\n",
       "          clearInterval(timer);\n",
       "          console.log(\"Bokeh: ERROR: Unable to run BokehJS code because BokehJS library is missing\");\n",
       "        }\n",
       "      }\n",
       "    }, 10, root)\n",
       "  }\n",
       "})(window);"
      ],
      "application/vnd.bokehjs_exec.v0+json": ""
     },
     "metadata": {
      "application/vnd.bokehjs_exec.v0+json": {
       "id": "1276"
      }
     },
     "output_type": "display_data"
    }
   ],
   "source": [
    "p1=figure(plot_width=600, plot_height=300, \n",
    "         title=\"Asia continent\")\n",
    "p2=figure(plot_width=600, plot_height=300, \n",
    "         title=\"Europe continent\")\n",
    "\n",
    "p1.circle(x=asia[\"fertility\"], y=asia[\"female literacy\"], \n",
    "         color=\"firebrick\", \n",
    "         size=10)\n",
    "p2.circle(x=europe[\"fertility\"], y=europe[\"female literacy\"], \n",
    "         color=\"DarkOrange\", \n",
    "         size=10)\n",
    "\n",
    "\n",
    "layout=column(p1, p2)\n",
    "show(layout)"
   ]
  },
  {
   "cell_type": "markdown",
   "metadata": {},
   "source": [
    "### Nested layout"
   ]
  },
  {
   "cell_type": "code",
   "execution_count": 14,
   "metadata": {},
   "outputs": [
    {
     "data": {
      "text/html": [
       "\n",
       "\n",
       "\n",
       "\n",
       "\n",
       "\n",
       "  <div class=\"bk-root\" id=\"0dc7c141-ab05-4afd-9d68-4483bd102288\" data-root-id=\"1532\"></div>\n"
      ]
     },
     "metadata": {},
     "output_type": "display_data"
    },
    {
     "data": {
      "application/javascript": [
       "(function(root) {\n",
       "  function embed_document(root) {\n",
       "    \n",
       "  var docs_json = {\"7605f1c1-7c5d-4060-ae66-a4d60c9bc098\":{\"defs\":[],\"roots\":{\"references\":[{\"attributes\":{\"children\":[{\"id\":\"1531\"},{\"id\":\"1483\"}]},\"id\":\"1532\",\"type\":\"Row\"},{\"attributes\":{},\"id\":\"1598\",\"type\":\"Selection\"},{\"attributes\":{},\"id\":\"1599\",\"type\":\"UnionRenderers\"},{\"attributes\":{},\"id\":\"1589\",\"type\":\"AllLabels\"},{\"attributes\":{},\"id\":\"1590\",\"type\":\"BasicTickFormatter\"},{\"attributes\":{},\"id\":\"1592\",\"type\":\"AllLabels\"},{\"attributes\":{},\"id\":\"1593\",\"type\":\"BasicTickFormatter\"},{\"attributes\":{\"formatter\":{\"id\":\"1590\"},\"major_label_policy\":{\"id\":\"1589\"},\"ticker\":{\"id\":\"1466\"}},\"id\":\"1465\",\"type\":\"LinearAxis\"},{\"attributes\":{},\"id\":\"1459\",\"type\":\"LinearScale\"},{\"attributes\":{},\"id\":\"1453\",\"type\":\"DataRange1d\"},{\"attributes\":{\"text\":\"Africa continent\"},\"id\":\"1484\",\"type\":\"Title\"},{\"attributes\":{},\"id\":\"1455\",\"type\":\"DataRange1d\"},{\"attributes\":{},\"id\":\"1474\",\"type\":\"HelpTool\"},{\"attributes\":{},\"id\":\"1457\",\"type\":\"LinearScale\"},{\"attributes\":{\"formatter\":{\"id\":\"1593\"},\"major_label_policy\":{\"id\":\"1592\"},\"ticker\":{\"id\":\"1462\"}},\"id\":\"1461\",\"type\":\"LinearAxis\"},{\"attributes\":{},\"id\":\"1462\",\"type\":\"BasicTicker\"},{\"attributes\":{\"axis\":{\"id\":\"1461\"},\"ticker\":null},\"id\":\"1464\",\"type\":\"Grid\"},{\"attributes\":{\"axis\":{\"id\":\"1465\"},\"dimension\":1,\"ticker\":null},\"id\":\"1468\",\"type\":\"Grid\"},{\"attributes\":{},\"id\":\"1601\",\"type\":\"Selection\"},{\"attributes\":{},\"id\":\"1466\",\"type\":\"BasicTicker\"},{\"attributes\":{\"children\":[{\"id\":\"1417\"},{\"id\":\"1450\"}]},\"id\":\"1531\",\"type\":\"Column\"},{\"attributes\":{},\"id\":\"1470\",\"type\":\"WheelZoomTool\"},{\"attributes\":{},\"id\":\"1602\",\"type\":\"UnionRenderers\"},{\"attributes\":{},\"id\":\"1469\",\"type\":\"PanTool\"},{\"attributes\":{\"overlay\":{\"id\":\"1475\"}},\"id\":\"1471\",\"type\":\"BoxZoomTool\"},{\"attributes\":{},\"id\":\"1472\",\"type\":\"SaveTool\"},{\"attributes\":{},\"id\":\"1473\",\"type\":\"ResetTool\"},{\"attributes\":{},\"id\":\"1595\",\"type\":\"Selection\"},{\"attributes\":{},\"id\":\"1596\",\"type\":\"UnionRenderers\"},{\"attributes\":{\"bottom_units\":\"screen\",\"fill_alpha\":0.5,\"fill_color\":\"lightgrey\",\"left_units\":\"screen\",\"level\":\"overlay\",\"line_alpha\":1.0,\"line_color\":\"black\",\"line_dash\":[4,4],\"line_width\":2,\"right_units\":\"screen\",\"syncable\":false,\"top_units\":\"screen\"},\"id\":\"1475\",\"type\":\"BoxAnnotation\"},{\"attributes\":{},\"id\":\"1422\",\"type\":\"DataRange1d\"},{\"attributes\":{\"active_multi\":null,\"tools\":[{\"id\":\"1469\"},{\"id\":\"1470\"},{\"id\":\"1471\"},{\"id\":\"1472\"},{\"id\":\"1473\"},{\"id\":\"1474\"}]},\"id\":\"1476\",\"type\":\"Toolbar\"},{\"attributes\":{\"formatter\":{\"id\":\"1578\"},\"major_label_policy\":{\"id\":\"1577\"},\"ticker\":{\"id\":\"1499\"}},\"id\":\"1498\",\"type\":\"LinearAxis\"},{\"attributes\":{},\"id\":\"1492\",\"type\":\"LinearScale\"},{\"attributes\":{},\"id\":\"1486\",\"type\":\"DataRange1d\"},{\"attributes\":{\"fill_color\":{\"value\":\"firebrick\"},\"line_color\":{\"value\":\"firebrick\"},\"size\":{\"value\":10},\"x\":{\"field\":\"x\"},\"y\":{\"field\":\"y\"}},\"id\":\"1517\",\"type\":\"Circle\"},{\"attributes\":{},\"id\":\"1488\",\"type\":\"DataRange1d\"},{\"attributes\":{},\"id\":\"1507\",\"type\":\"HelpTool\"},{\"attributes\":{},\"id\":\"1490\",\"type\":\"LinearScale\"},{\"attributes\":{\"formatter\":{\"id\":\"1581\"},\"major_label_policy\":{\"id\":\"1580\"},\"ticker\":{\"id\":\"1495\"}},\"id\":\"1494\",\"type\":\"LinearAxis\"},{\"attributes\":{},\"id\":\"1495\",\"type\":\"BasicTicker\"},{\"attributes\":{\"axis\":{\"id\":\"1494\"},\"ticker\":null},\"id\":\"1497\",\"type\":\"Grid\"},{\"attributes\":{},\"id\":\"1577\",\"type\":\"AllLabels\"},{\"attributes\":{},\"id\":\"1578\",\"type\":\"BasicTickFormatter\"},{\"attributes\":{\"axis\":{\"id\":\"1498\"},\"dimension\":1,\"ticker\":null},\"id\":\"1501\",\"type\":\"Grid\"},{\"attributes\":{},\"id\":\"1499\",\"type\":\"BasicTicker\"},{\"attributes\":{},\"id\":\"1426\",\"type\":\"LinearScale\"},{\"attributes\":{},\"id\":\"1580\",\"type\":\"AllLabels\"},{\"attributes\":{\"data\":{\"x\":{\"__ndarray__\":\"fT81XrpJ9j/Jdr6fGi/1P39qvHSTGP4/bxKDwMqh/T89CtejcD32Py2yne+nxvU/sHJoke189z8Sg8DKoUX0PzMzMzMzM/U/wcqhRbbz+z8pXI/C9Sj2PyUGgZVDi/w/PzVeukkM9j8zMzMzMzP3P+xRuB6F6/U/5dAi2/l+9D9WDi2yne/9P1yPwvUoXPc/YOXQItv59j+YbhKDwMr5Py/dJAaBlf0/x0s3iUFg/T8pXI/C9Sj+P99PjZduEvc/c2iR7Xw//z8xCKwcWmTzP9V46SYxCPg/rBxaZDvf9T9Ei2zn+6n9PzeJQWDl0PY/YOXQItv59j99PzVeukn2P0oMAiuHFvs/qMZLN4lB+D9qvHSTGAT0P1g5tMh2vgBA\",\"dtype\":\"float64\",\"order\":\"little\",\"shape\":[36]},\"y\":{\"__ndarray__\":\"mpmZmZnZWEAAAAAAAMBYQAAAAAAAwFhAAAAAAADAWEAAAAAAAKBYQGZmZmZm5lhAmpmZmZk5WEAzMzMzM9NYQJqZmZmZOVhAAAAAAADAWECamZmZmflXQAAAAAAAwFhAmpmZmZk5V0AAAAAAAMBYQJqZmZmZuVhAzczMzMzsWEAAAAAAAMBYQAAAAAAAwFhAmpmZmZl5WEDNzMzMzAxYQAAAAAAAwFhAAAAAAAAAWUAAAAAAAABZQAAAAAAAgFhAAAAAAADAWECamZmZmflXQDMzMzMzc1hAzczMzMzsWEDNzMzMzKxYQDMzMzMz81hAmpmZmZnZV0DNzMzMzOxYQDMzMzMz81hAzczMzMwsWEAAAAAAAGBXQAAAAAAAwFhA\",\"dtype\":\"float64\",\"order\":\"little\",\"shape\":[36]}},\"selected\":{\"id\":\"1601\"},\"selection_policy\":{\"id\":\"1602\"}},\"id\":\"1521\",\"type\":\"ColumnDataSource\"},{\"attributes\":{},\"id\":\"1503\",\"type\":\"WheelZoomTool\"},{\"attributes\":{},\"id\":\"1581\",\"type\":\"BasicTickFormatter\"},{\"attributes\":{},\"id\":\"1502\",\"type\":\"PanTool\"},{\"attributes\":{\"overlay\":{\"id\":\"1508\"}},\"id\":\"1504\",\"type\":\"BoxZoomTool\"},{\"attributes\":{},\"id\":\"1505\",\"type\":\"SaveTool\"},{\"attributes\":{\"formatter\":{\"id\":\"1587\"},\"major_label_policy\":{\"id\":\"1586\"},\"ticker\":{\"id\":\"1429\"}},\"id\":\"1428\",\"type\":\"LinearAxis\"},{\"attributes\":{},\"id\":\"1506\",\"type\":\"ResetTool\"},{\"attributes\":{},\"id\":\"1424\",\"type\":\"LinearScale\"},{\"attributes\":{\"bottom_units\":\"screen\",\"fill_alpha\":0.5,\"fill_color\":\"lightgrey\",\"left_units\":\"screen\",\"level\":\"overlay\",\"line_alpha\":1.0,\"line_color\":\"black\",\"line_dash\":[4,4],\"line_width\":2,\"right_units\":\"screen\",\"syncable\":false,\"top_units\":\"screen\"},\"id\":\"1508\",\"type\":\"BoxAnnotation\"},{\"attributes\":{\"data_source\":{\"id\":\"1521\"},\"glyph\":{\"id\":\"1522\"},\"hover_glyph\":null,\"muted_glyph\":null,\"nonselection_glyph\":{\"id\":\"1523\"},\"view\":{\"id\":\"1525\"}},\"id\":\"1524\",\"type\":\"GlyphRenderer\"},{\"attributes\":{\"source\":{\"id\":\"1516\"}},\"id\":\"1520\",\"type\":\"CDSView\"},{\"attributes\":{\"below\":[{\"id\":\"1461\"}],\"center\":[{\"id\":\"1464\"},{\"id\":\"1468\"}],\"height\":300,\"left\":[{\"id\":\"1465\"}],\"renderers\":[{\"id\":\"1524\"}],\"title\":{\"id\":\"1451\"},\"toolbar\":{\"id\":\"1476\"},\"width\":300,\"x_range\":{\"id\":\"1453\"},\"x_scale\":{\"id\":\"1457\"},\"y_range\":{\"id\":\"1455\"},\"y_scale\":{\"id\":\"1459\"}},\"id\":\"1450\",\"subtype\":\"Figure\",\"type\":\"Plot\"},{\"attributes\":{\"text\":\"Europe continent\"},\"id\":\"1451\",\"type\":\"Title\"},{\"attributes\":{\"below\":[{\"id\":\"1428\"}],\"center\":[{\"id\":\"1431\"},{\"id\":\"1435\"}],\"height\":300,\"left\":[{\"id\":\"1432\"}],\"renderers\":[{\"id\":\"1519\"}],\"title\":{\"id\":\"1418\"},\"toolbar\":{\"id\":\"1443\"},\"width\":300,\"x_range\":{\"id\":\"1420\"},\"x_scale\":{\"id\":\"1424\"},\"y_range\":{\"id\":\"1422\"},\"y_scale\":{\"id\":\"1426\"}},\"id\":\"1417\",\"subtype\":\"Figure\",\"type\":\"Plot\"},{\"attributes\":{\"below\":[{\"id\":\"1494\"}],\"center\":[{\"id\":\"1497\"},{\"id\":\"1501\"}],\"height\":300,\"left\":[{\"id\":\"1498\"}],\"renderers\":[{\"id\":\"1529\"}],\"title\":{\"id\":\"1484\"},\"toolbar\":{\"id\":\"1509\"},\"width\":300,\"x_range\":{\"id\":\"1486\"},\"x_scale\":{\"id\":\"1490\"},\"y_range\":{\"id\":\"1488\"},\"y_scale\":{\"id\":\"1492\"}},\"id\":\"1483\",\"subtype\":\"Figure\",\"type\":\"Plot\"},{\"attributes\":{\"text\":\"Asia continent\"},\"id\":\"1418\",\"type\":\"Title\"},{\"attributes\":{},\"id\":\"1420\",\"type\":\"DataRange1d\"},{\"attributes\":{\"active_multi\":null,\"tools\":[{\"id\":\"1502\"},{\"id\":\"1503\"},{\"id\":\"1504\"},{\"id\":\"1505\"},{\"id\":\"1506\"},{\"id\":\"1507\"}]},\"id\":\"1509\",\"type\":\"Toolbar\"},{\"attributes\":{},\"id\":\"1429\",\"type\":\"BasicTicker\"},{\"attributes\":{\"axis\":{\"id\":\"1428\"},\"ticker\":null},\"id\":\"1431\",\"type\":\"Grid\"},{\"attributes\":{},\"id\":\"1441\",\"type\":\"HelpTool\"},{\"attributes\":{\"formatter\":{\"id\":\"1584\"},\"major_label_policy\":{\"id\":\"1583\"},\"ticker\":{\"id\":\"1433\"}},\"id\":\"1432\",\"type\":\"LinearAxis\"},{\"attributes\":{\"fill_alpha\":{\"value\":0.1},\"fill_color\":{\"value\":\"DarkBlue\"},\"line_alpha\":{\"value\":0.1},\"line_color\":{\"value\":\"DarkBlue\"},\"size\":{\"value\":10},\"x\":{\"field\":\"x\"},\"y\":{\"field\":\"y\"}},\"id\":\"1528\",\"type\":\"Circle\"},{\"attributes\":{\"axis\":{\"id\":\"1432\"},\"dimension\":1,\"ticker\":null},\"id\":\"1435\",\"type\":\"Grid\"},{\"attributes\":{},\"id\":\"1583\",\"type\":\"AllLabels\"},{\"attributes\":{},\"id\":\"1433\",\"type\":\"BasicTicker\"},{\"attributes\":{\"fill_color\":{\"value\":\"DarkOrange\"},\"line_color\":{\"value\":\"DarkOrange\"},\"size\":{\"value\":10},\"x\":{\"field\":\"x\"},\"y\":{\"field\":\"y\"}},\"id\":\"1522\",\"type\":\"Circle\"},{\"attributes\":{},\"id\":\"1584\",\"type\":\"BasicTickFormatter\"},{\"attributes\":{\"data\":{\"x\":{\"__ndarray__\":\"5/up8dJN/D/b+X5qvHQFQHWTGARWDgFAYOXQItv5DkDn+6nx0k0CQP7UeOkmMfQ/aJHtfD81CEDdJAaBlUMAQM3MzMzMzABA5dAi2/l+/D/0/dR46Sb9P3Noke18PwJAL90kBoGV8z/jpZvEILAPQIXrUbgeBRpAL90kBoGVBkCWQ4ts5/sBQKrx0k1iEARAUrgehetRCEBEi2zn+6n9P2ZmZmZmZhRA/Knx0k1iCUAQWDm0yHYCQCcxCKwcWgJArBxaZDvfBkDTTWIQWDkBQGq8dJMYBAZAzczMzMzMCkBSuB6F61ELQPT91HjpJghAvp8aL90kBEBxPQrXo3ADQGiR7Xw/NfQ//Knx0k1i/j8dWmQ730/5P9v5fmq8dP0/K4cW2c73+z9t5/up8dIHQJ7vp8ZLNwFAAiuHFtnO/z/hehSuR+ECQHe+nxov3QFAGy/dJAaBBEC28/3UeOnuP9Ei2/l+agBAAAAAAAAAAEAGgZVDi2wPQA==\",\"dtype\":\"float64\",\"order\":\"little\",\"shape\":[47]},\"y\":{\"__ndarray__\":\"AAAAAACgVkBmZmZmZmZJQDMzMzMzM1ZAAAAAAAAAREBmZmZmZuZIQAAAAAAAwFhAmpmZmZl5V0DNzMzMzIxWQDMzMzMzU1RAzczMzMxMU0AAAAAAAOBWQM3MzMzMTFZAZmZmZmYmWEDNzMzMzExRQDMzMzMzMylAMzMzMzOzRkCamZmZmblYQDMzMzMzc1ZAzczMzMwMVEAAAAAAAABZQGZmZmZmZkVAzczMzMxMU0BmZmZmZkZWQAAAAAAA4FhAmpmZmZm5UUDNzMzMzMxYQJqZmZmZ+VdAAAAAAADgWECamZmZmZlPQJqZmZmZOVZAZmZmZmbGWEAzMzMzM9NYQGZmZmZm5lZAAAAAAADgVkDNzMzMzOxYQAAAAAAAgFVAmpmZmZnZWECamZmZmTlUQGZmZmZmRldAMzMzMzNzWECamZmZmZlWQJqZmZmZWVZAmpmZmZlZQ0DNzMzMzKxWQDMzMzMzU1dAmpmZmZmZWEBmZmZmZsZYQA==\",\"dtype\":\"float64\",\"order\":\"little\",\"shape\":[47]}},\"selected\":{\"id\":\"1598\"},\"selection_policy\":{\"id\":\"1599\"}},\"id\":\"1516\",\"type\":\"ColumnDataSource\"},{\"attributes\":{\"active_multi\":null,\"tools\":[{\"id\":\"1436\"},{\"id\":\"1437\"},{\"id\":\"1438\"},{\"id\":\"1439\"},{\"id\":\"1440\"},{\"id\":\"1441\"}]},\"id\":\"1443\",\"type\":\"Toolbar\"},{\"attributes\":{},\"id\":\"1437\",\"type\":\"WheelZoomTool\"},{\"attributes\":{},\"id\":\"1436\",\"type\":\"PanTool\"},{\"attributes\":{},\"id\":\"1586\",\"type\":\"AllLabels\"},{\"attributes\":{\"fill_alpha\":{\"value\":0.1},\"fill_color\":{\"value\":\"firebrick\"},\"line_alpha\":{\"value\":0.1},\"line_color\":{\"value\":\"firebrick\"},\"size\":{\"value\":10},\"x\":{\"field\":\"x\"},\"y\":{\"field\":\"y\"}},\"id\":\"1518\",\"type\":\"Circle\"},{\"attributes\":{\"overlay\":{\"id\":\"1442\"}},\"id\":\"1438\",\"type\":\"BoxZoomTool\"},{\"attributes\":{},\"id\":\"1439\",\"type\":\"SaveTool\"},{\"attributes\":{},\"id\":\"1587\",\"type\":\"BasicTickFormatter\"},{\"attributes\":{},\"id\":\"1440\",\"type\":\"ResetTool\"},{\"attributes\":{\"fill_alpha\":{\"value\":0.1},\"fill_color\":{\"value\":\"DarkOrange\"},\"line_alpha\":{\"value\":0.1},\"line_color\":{\"value\":\"DarkOrange\"},\"size\":{\"value\":10},\"x\":{\"field\":\"x\"},\"y\":{\"field\":\"y\"}},\"id\":\"1523\",\"type\":\"Circle\"},{\"attributes\":{\"data_source\":{\"id\":\"1516\"},\"glyph\":{\"id\":\"1517\"},\"hover_glyph\":null,\"muted_glyph\":null,\"nonselection_glyph\":{\"id\":\"1518\"},\"view\":{\"id\":\"1520\"}},\"id\":\"1519\",\"type\":\"GlyphRenderer\"},{\"attributes\":{\"data\":{\"x\":{\"__ndarray__\":\"/tR46SaxFEC6SQwCK4cGQPLSTWIQ2BRAbxKDwMqhF0AK16NwPQoEQBSuR+F6FBZACKwcWmQ7EEBWDi2ynW8TQCPb+X5qvAJAarx0kxgEGUB56SYxCKwCQOF6FK5H4RBAke18PzXeE0B1kxgEVg4SQHsUrkfhehJARIts5/spEkA/NV66SYwWQHe+nxovXRdAUrgehevRFUAtsp3vp0YcQB+F61G4nhVAppvEILDyFkCBlUOLbOcKQI/C9ShcjxNAbef7qfFSGEDb+X5qvHT9PzeJQWDlUBVAUrgehetRFUBQjZduEoMVQM3MzMzMzBFARIts5/upEECJQWDl0CIFQClcj8L1qBRA6SYxCKwcEkB9PzVeuskSQCUGgZVDCxRAWmQ730+NEUBSuB6F61EKQOkmMQisHApA+n5qvHSTBkDHSzeJQeATQIlBYOXQohZA7FG4HoXrCUB56SYxCKz8P5qZmZmZmQtAbxKDwMohFUAUrkfhehQPQOf7qfHSTQVAWDm0yHa+DUA=\",\"dtype\":\"float64\",\"order\":\"little\",\"shape\":[49]},\"y\":{\"__ndarray__\":\"ZmZmZmZmSEBmZmZmZuZMQM3MzMzMzDZAzczMzMwMTEBmZmZmZgZWQDMzMzMzk1BAzczMzMzMTUAzMzMzM7NUQDMzMzMz809AMzMzMzOzUEDNzMzMzAxGQGZmZmZmpk1AzczMzMwMREBmZmZmZiZGQDMzMzMzU1BAMzMzMzPzUEAAAAAAAIBMQJqZmZmZmTVAMzMzMzNzUEAzMzMzMzMuQDMzMzMzMzJAAAAAAACATkAzMzMzMzNWQAAAAAAAgEBAZmZmZmbmNUAAAAAAAMBRQGZmZmZmZjpAZmZmZmaGUECamZmZmRk8QDMzMzMz801AmpmZmZnZSkAzMzMzM1NUQGZmZmZm5jxAAAAAAABAS0DNzMzMzIxEQAAAAAAAgEpAAAAAAADASEDNzMzMzOxVQGZmZmZmxldAAAAAAADgVEBmZmZmZiZBQAAAAAAAQEJAzczMzMzMVEAzMzMzMzNVQGZmZmZmZlVAZmZmZmZGVkAzMzMzM/NQQDMzMzMz01NAMzMzMzPTVEA=\",\"dtype\":\"float64\",\"order\":\"little\",\"shape\":[49]}},\"selected\":{\"id\":\"1595\"},\"selection_policy\":{\"id\":\"1596\"}},\"id\":\"1526\",\"type\":\"ColumnDataSource\"},{\"attributes\":{\"fill_color\":{\"value\":\"DarkBlue\"},\"line_color\":{\"value\":\"DarkBlue\"},\"size\":{\"value\":10},\"x\":{\"field\":\"x\"},\"y\":{\"field\":\"y\"}},\"id\":\"1527\",\"type\":\"Circle\"},{\"attributes\":{\"source\":{\"id\":\"1526\"}},\"id\":\"1530\",\"type\":\"CDSView\"},{\"attributes\":{\"source\":{\"id\":\"1521\"}},\"id\":\"1525\",\"type\":\"CDSView\"},{\"attributes\":{\"data_source\":{\"id\":\"1526\"},\"glyph\":{\"id\":\"1527\"},\"hover_glyph\":null,\"muted_glyph\":null,\"nonselection_glyph\":{\"id\":\"1528\"},\"view\":{\"id\":\"1530\"}},\"id\":\"1529\",\"type\":\"GlyphRenderer\"},{\"attributes\":{\"bottom_units\":\"screen\",\"fill_alpha\":0.5,\"fill_color\":\"lightgrey\",\"left_units\":\"screen\",\"level\":\"overlay\",\"line_alpha\":1.0,\"line_color\":\"black\",\"line_dash\":[4,4],\"line_width\":2,\"right_units\":\"screen\",\"syncable\":false,\"top_units\":\"screen\"},\"id\":\"1442\",\"type\":\"BoxAnnotation\"}],\"root_ids\":[\"1532\"]},\"title\":\"Bokeh Application\",\"version\":\"2.3.2\"}};\n",
       "  var render_items = [{\"docid\":\"7605f1c1-7c5d-4060-ae66-a4d60c9bc098\",\"root_ids\":[\"1532\"],\"roots\":{\"1532\":\"0dc7c141-ab05-4afd-9d68-4483bd102288\"}}];\n",
       "  root.Bokeh.embed.embed_items_notebook(docs_json, render_items);\n",
       "\n",
       "  }\n",
       "  if (root.Bokeh !== undefined) {\n",
       "    embed_document(root);\n",
       "  } else {\n",
       "    var attempts = 0;\n",
       "    var timer = setInterval(function(root) {\n",
       "      if (root.Bokeh !== undefined) {\n",
       "        clearInterval(timer);\n",
       "        embed_document(root);\n",
       "      } else {\n",
       "        attempts++;\n",
       "        if (attempts > 100) {\n",
       "          clearInterval(timer);\n",
       "          console.log(\"Bokeh: ERROR: Unable to run BokehJS code because BokehJS library is missing\");\n",
       "        }\n",
       "      }\n",
       "    }, 10, root)\n",
       "  }\n",
       "})(window);"
      ],
      "application/vnd.bokehjs_exec.v0+json": ""
     },
     "metadata": {
      "application/vnd.bokehjs_exec.v0+json": {
       "id": "1532"
      }
     },
     "output_type": "display_data"
    }
   ],
   "source": [
    "p1=figure(plot_width=300, plot_height=300, \n",
    "         title=\"Asia continent\")\n",
    "p2=figure(plot_width=300, plot_height=300, \n",
    "         title=\"Europe continent\")\n",
    "p3=figure(plot_width=300, plot_height=300, \n",
    "         title=\"Africa continent\")\n",
    "\n",
    "p1.circle(x=asia[\"fertility\"], y=asia[\"female literacy\"], \n",
    "         color=\"firebrick\", \n",
    "         size=10)\n",
    "p2.circle(x=europe[\"fertility\"], y=europe[\"female literacy\"], \n",
    "         color=\"DarkOrange\", \n",
    "         size=10)\n",
    "p3.circle(x=africa[\"fertility\"], y=africa[\"female literacy\"], \n",
    "         color=\"DarkBlue\", \n",
    "         size=10)\n",
    "\n",
    "layout=row(column(p1, p2),p3)\n",
    "show(layout)"
   ]
  },
  {
   "cell_type": "markdown",
   "metadata": {},
   "source": [
    "### Gridplot"
   ]
  },
  {
   "cell_type": "code",
   "execution_count": 15,
   "metadata": {},
   "outputs": [],
   "source": [
    "from bokeh.layouts import gridplot"
   ]
  },
  {
   "cell_type": "code",
   "execution_count": 16,
   "metadata": {},
   "outputs": [
    {
     "data": {
      "text/html": [
       "\n",
       "\n",
       "\n",
       "\n",
       "\n",
       "\n",
       "  <div class=\"bk-root\" id=\"e2a115bf-d020-4e3a-a0e2-df17700efe79\" data-root-id=\"1789\"></div>\n"
      ]
     },
     "metadata": {},
     "output_type": "display_data"
    },
    {
     "data": {
      "application/javascript": [
       "(function(root) {\n",
       "  function embed_document(root) {\n",
       "    \n",
       "  var docs_json = {\"97f2dc30-0578-4fbc-b457-318f41bf9ea7\":{\"defs\":[],\"roots\":{\"references\":[{\"attributes\":{\"children\":[{\"id\":\"1788\"},{\"id\":\"1786\"}]},\"id\":\"1789\",\"type\":\"Column\"},{\"attributes\":{},\"id\":\"1598\",\"type\":\"Selection\"},{\"attributes\":{},\"id\":\"1599\",\"type\":\"UnionRenderers\"},{\"attributes\":{},\"id\":\"1589\",\"type\":\"AllLabels\"},{\"attributes\":{},\"id\":\"1590\",\"type\":\"BasicTickFormatter\"},{\"attributes\":{},\"id\":\"1592\",\"type\":\"AllLabels\"},{\"attributes\":{},\"id\":\"1593\",\"type\":\"BasicTickFormatter\"},{\"attributes\":{\"formatter\":{\"id\":\"1590\"},\"major_label_policy\":{\"id\":\"1589\"},\"ticker\":{\"id\":\"1466\"}},\"id\":\"1465\",\"type\":\"LinearAxis\"},{\"attributes\":{},\"id\":\"1459\",\"type\":\"LinearScale\"},{\"attributes\":{},\"id\":\"1453\",\"type\":\"DataRange1d\"},{\"attributes\":{\"text\":\"Africa continent\"},\"id\":\"1484\",\"type\":\"Title\"},{\"attributes\":{},\"id\":\"1455\",\"type\":\"DataRange1d\"},{\"attributes\":{},\"id\":\"1474\",\"type\":\"HelpTool\"},{\"attributes\":{},\"id\":\"1457\",\"type\":\"LinearScale\"},{\"attributes\":{\"formatter\":{\"id\":\"1593\"},\"major_label_policy\":{\"id\":\"1592\"},\"ticker\":{\"id\":\"1462\"}},\"id\":\"1461\",\"type\":\"LinearAxis\"},{\"attributes\":{},\"id\":\"1462\",\"type\":\"BasicTicker\"},{\"attributes\":{\"axis\":{\"id\":\"1461\"},\"ticker\":null},\"id\":\"1464\",\"type\":\"Grid\"},{\"attributes\":{\"axis\":{\"id\":\"1465\"},\"dimension\":1,\"ticker\":null},\"id\":\"1468\",\"type\":\"Grid\"},{\"attributes\":{},\"id\":\"1601\",\"type\":\"Selection\"},{\"attributes\":{},\"id\":\"1466\",\"type\":\"BasicTicker\"},{\"attributes\":{},\"id\":\"1470\",\"type\":\"WheelZoomTool\"},{\"attributes\":{},\"id\":\"1602\",\"type\":\"UnionRenderers\"},{\"attributes\":{},\"id\":\"1469\",\"type\":\"PanTool\"},{\"attributes\":{\"overlay\":{\"id\":\"1475\"}},\"id\":\"1471\",\"type\":\"BoxZoomTool\"},{\"attributes\":{},\"id\":\"1472\",\"type\":\"SaveTool\"},{\"attributes\":{},\"id\":\"1473\",\"type\":\"ResetTool\"},{\"attributes\":{},\"id\":\"1595\",\"type\":\"Selection\"},{\"attributes\":{},\"id\":\"1596\",\"type\":\"UnionRenderers\"},{\"attributes\":{\"toolbar\":{\"id\":\"1787\"},\"toolbar_location\":\"above\"},\"id\":\"1788\",\"type\":\"ToolbarBox\"},{\"attributes\":{\"bottom_units\":\"screen\",\"fill_alpha\":0.5,\"fill_color\":\"lightgrey\",\"left_units\":\"screen\",\"level\":\"overlay\",\"line_alpha\":1.0,\"line_color\":\"black\",\"line_dash\":[4,4],\"line_width\":2,\"right_units\":\"screen\",\"syncable\":false,\"top_units\":\"screen\"},\"id\":\"1475\",\"type\":\"BoxAnnotation\"},{\"attributes\":{},\"id\":\"1422\",\"type\":\"DataRange1d\"},{\"attributes\":{\"toolbars\":[{\"id\":\"1443\"},{\"id\":\"1476\"},{\"id\":\"1509\"}],\"tools\":[{\"id\":\"1436\"},{\"id\":\"1437\"},{\"id\":\"1438\"},{\"id\":\"1439\"},{\"id\":\"1440\"},{\"id\":\"1441\"},{\"id\":\"1469\"},{\"id\":\"1470\"},{\"id\":\"1471\"},{\"id\":\"1472\"},{\"id\":\"1473\"},{\"id\":\"1474\"},{\"id\":\"1502\"},{\"id\":\"1503\"},{\"id\":\"1504\"},{\"id\":\"1505\"},{\"id\":\"1506\"},{\"id\":\"1507\"}]},\"id\":\"1787\",\"type\":\"ProxyToolbar\"},{\"attributes\":{\"active_multi\":null,\"tools\":[{\"id\":\"1469\"},{\"id\":\"1470\"},{\"id\":\"1471\"},{\"id\":\"1472\"},{\"id\":\"1473\"},{\"id\":\"1474\"}]},\"id\":\"1476\",\"type\":\"Toolbar\"},{\"attributes\":{\"children\":[[{\"id\":\"1417\"},0,0],[{\"id\":\"1450\"},0,1],[{\"id\":\"1483\"},1,1]]},\"id\":\"1786\",\"type\":\"GridBox\"},{\"attributes\":{\"formatter\":{\"id\":\"1578\"},\"major_label_policy\":{\"id\":\"1577\"},\"ticker\":{\"id\":\"1499\"}},\"id\":\"1498\",\"type\":\"LinearAxis\"},{\"attributes\":{},\"id\":\"1492\",\"type\":\"LinearScale\"},{\"attributes\":{},\"id\":\"1486\",\"type\":\"DataRange1d\"},{\"attributes\":{\"fill_color\":{\"value\":\"firebrick\"},\"line_color\":{\"value\":\"firebrick\"},\"size\":{\"value\":10},\"x\":{\"field\":\"x\"},\"y\":{\"field\":\"y\"}},\"id\":\"1517\",\"type\":\"Circle\"},{\"attributes\":{},\"id\":\"1488\",\"type\":\"DataRange1d\"},{\"attributes\":{},\"id\":\"1507\",\"type\":\"HelpTool\"},{\"attributes\":{},\"id\":\"1490\",\"type\":\"LinearScale\"},{\"attributes\":{\"formatter\":{\"id\":\"1581\"},\"major_label_policy\":{\"id\":\"1580\"},\"ticker\":{\"id\":\"1495\"}},\"id\":\"1494\",\"type\":\"LinearAxis\"},{\"attributes\":{},\"id\":\"1495\",\"type\":\"BasicTicker\"},{\"attributes\":{\"axis\":{\"id\":\"1494\"},\"ticker\":null},\"id\":\"1497\",\"type\":\"Grid\"},{\"attributes\":{},\"id\":\"1577\",\"type\":\"AllLabels\"},{\"attributes\":{},\"id\":\"1578\",\"type\":\"BasicTickFormatter\"},{\"attributes\":{\"axis\":{\"id\":\"1498\"},\"dimension\":1,\"ticker\":null},\"id\":\"1501\",\"type\":\"Grid\"},{\"attributes\":{},\"id\":\"1499\",\"type\":\"BasicTicker\"},{\"attributes\":{},\"id\":\"1426\",\"type\":\"LinearScale\"},{\"attributes\":{\"data\":{\"x\":{\"__ndarray__\":\"fT81XrpJ9j/Jdr6fGi/1P39qvHSTGP4/bxKDwMqh/T89CtejcD32Py2yne+nxvU/sHJoke189z8Sg8DKoUX0PzMzMzMzM/U/wcqhRbbz+z8pXI/C9Sj2PyUGgZVDi/w/PzVeukkM9j8zMzMzMzP3P+xRuB6F6/U/5dAi2/l+9D9WDi2yne/9P1yPwvUoXPc/YOXQItv59j+YbhKDwMr5Py/dJAaBlf0/x0s3iUFg/T8pXI/C9Sj+P99PjZduEvc/c2iR7Xw//z8xCKwcWmTzP9V46SYxCPg/rBxaZDvf9T9Ei2zn+6n9PzeJQWDl0PY/YOXQItv59j99PzVeukn2P0oMAiuHFvs/qMZLN4lB+D9qvHSTGAT0P1g5tMh2vgBA\",\"dtype\":\"float64\",\"order\":\"little\",\"shape\":[36]},\"y\":{\"__ndarray__\":\"mpmZmZnZWEAAAAAAAMBYQAAAAAAAwFhAAAAAAADAWEAAAAAAAKBYQGZmZmZm5lhAmpmZmZk5WEAzMzMzM9NYQJqZmZmZOVhAAAAAAADAWECamZmZmflXQAAAAAAAwFhAmpmZmZk5V0AAAAAAAMBYQJqZmZmZuVhAzczMzMzsWEAAAAAAAMBYQAAAAAAAwFhAmpmZmZl5WEDNzMzMzAxYQAAAAAAAwFhAAAAAAAAAWUAAAAAAAABZQAAAAAAAgFhAAAAAAADAWECamZmZmflXQDMzMzMzc1hAzczMzMzsWEDNzMzMzKxYQDMzMzMz81hAmpmZmZnZV0DNzMzMzOxYQDMzMzMz81hAzczMzMwsWEAAAAAAAGBXQAAAAAAAwFhA\",\"dtype\":\"float64\",\"order\":\"little\",\"shape\":[36]}},\"selected\":{\"id\":\"1601\"},\"selection_policy\":{\"id\":\"1602\"}},\"id\":\"1521\",\"type\":\"ColumnDataSource\"},{\"attributes\":{},\"id\":\"1580\",\"type\":\"AllLabels\"},{\"attributes\":{},\"id\":\"1503\",\"type\":\"WheelZoomTool\"},{\"attributes\":{},\"id\":\"1581\",\"type\":\"BasicTickFormatter\"},{\"attributes\":{},\"id\":\"1502\",\"type\":\"PanTool\"},{\"attributes\":{\"overlay\":{\"id\":\"1508\"}},\"id\":\"1504\",\"type\":\"BoxZoomTool\"},{\"attributes\":{},\"id\":\"1505\",\"type\":\"SaveTool\"},{\"attributes\":{},\"id\":\"1506\",\"type\":\"ResetTool\"},{\"attributes\":{\"formatter\":{\"id\":\"1587\"},\"major_label_policy\":{\"id\":\"1586\"},\"ticker\":{\"id\":\"1429\"}},\"id\":\"1428\",\"type\":\"LinearAxis\"},{\"attributes\":{},\"id\":\"1424\",\"type\":\"LinearScale\"},{\"attributes\":{\"bottom_units\":\"screen\",\"fill_alpha\":0.5,\"fill_color\":\"lightgrey\",\"left_units\":\"screen\",\"level\":\"overlay\",\"line_alpha\":1.0,\"line_color\":\"black\",\"line_dash\":[4,4],\"line_width\":2,\"right_units\":\"screen\",\"syncable\":false,\"top_units\":\"screen\"},\"id\":\"1508\",\"type\":\"BoxAnnotation\"},{\"attributes\":{\"data_source\":{\"id\":\"1521\"},\"glyph\":{\"id\":\"1522\"},\"hover_glyph\":null,\"muted_glyph\":null,\"nonselection_glyph\":{\"id\":\"1523\"},\"view\":{\"id\":\"1525\"}},\"id\":\"1524\",\"type\":\"GlyphRenderer\"},{\"attributes\":{\"source\":{\"id\":\"1516\"}},\"id\":\"1520\",\"type\":\"CDSView\"},{\"attributes\":{\"below\":[{\"id\":\"1461\"}],\"center\":[{\"id\":\"1464\"},{\"id\":\"1468\"}],\"height\":300,\"left\":[{\"id\":\"1465\"}],\"renderers\":[{\"id\":\"1524\"}],\"title\":{\"id\":\"1451\"},\"toolbar\":{\"id\":\"1476\"},\"toolbar_location\":null,\"width\":300,\"x_range\":{\"id\":\"1453\"},\"x_scale\":{\"id\":\"1457\"},\"y_range\":{\"id\":\"1455\"},\"y_scale\":{\"id\":\"1459\"}},\"id\":\"1450\",\"subtype\":\"Figure\",\"type\":\"Plot\"},{\"attributes\":{\"text\":\"Europe continent\"},\"id\":\"1451\",\"type\":\"Title\"},{\"attributes\":{\"below\":[{\"id\":\"1428\"}],\"center\":[{\"id\":\"1431\"},{\"id\":\"1435\"}],\"height\":300,\"left\":[{\"id\":\"1432\"}],\"renderers\":[{\"id\":\"1519\"}],\"title\":{\"id\":\"1418\"},\"toolbar\":{\"id\":\"1443\"},\"toolbar_location\":null,\"width\":300,\"x_range\":{\"id\":\"1420\"},\"x_scale\":{\"id\":\"1424\"},\"y_range\":{\"id\":\"1422\"},\"y_scale\":{\"id\":\"1426\"}},\"id\":\"1417\",\"subtype\":\"Figure\",\"type\":\"Plot\"},{\"attributes\":{\"below\":[{\"id\":\"1494\"}],\"center\":[{\"id\":\"1497\"},{\"id\":\"1501\"}],\"height\":300,\"left\":[{\"id\":\"1498\"}],\"renderers\":[{\"id\":\"1529\"}],\"title\":{\"id\":\"1484\"},\"toolbar\":{\"id\":\"1509\"},\"toolbar_location\":null,\"width\":300,\"x_range\":{\"id\":\"1486\"},\"x_scale\":{\"id\":\"1490\"},\"y_range\":{\"id\":\"1488\"},\"y_scale\":{\"id\":\"1492\"}},\"id\":\"1483\",\"subtype\":\"Figure\",\"type\":\"Plot\"},{\"attributes\":{\"text\":\"Asia continent\"},\"id\":\"1418\",\"type\":\"Title\"},{\"attributes\":{},\"id\":\"1420\",\"type\":\"DataRange1d\"},{\"attributes\":{\"active_multi\":null,\"tools\":[{\"id\":\"1502\"},{\"id\":\"1503\"},{\"id\":\"1504\"},{\"id\":\"1505\"},{\"id\":\"1506\"},{\"id\":\"1507\"}]},\"id\":\"1509\",\"type\":\"Toolbar\"},{\"attributes\":{},\"id\":\"1429\",\"type\":\"BasicTicker\"},{\"attributes\":{\"axis\":{\"id\":\"1428\"},\"ticker\":null},\"id\":\"1431\",\"type\":\"Grid\"},{\"attributes\":{},\"id\":\"1441\",\"type\":\"HelpTool\"},{\"attributes\":{\"formatter\":{\"id\":\"1584\"},\"major_label_policy\":{\"id\":\"1583\"},\"ticker\":{\"id\":\"1433\"}},\"id\":\"1432\",\"type\":\"LinearAxis\"},{\"attributes\":{\"fill_alpha\":{\"value\":0.1},\"fill_color\":{\"value\":\"DarkBlue\"},\"line_alpha\":{\"value\":0.1},\"line_color\":{\"value\":\"DarkBlue\"},\"size\":{\"value\":10},\"x\":{\"field\":\"x\"},\"y\":{\"field\":\"y\"}},\"id\":\"1528\",\"type\":\"Circle\"},{\"attributes\":{\"axis\":{\"id\":\"1432\"},\"dimension\":1,\"ticker\":null},\"id\":\"1435\",\"type\":\"Grid\"},{\"attributes\":{},\"id\":\"1583\",\"type\":\"AllLabels\"},{\"attributes\":{},\"id\":\"1433\",\"type\":\"BasicTicker\"},{\"attributes\":{\"fill_color\":{\"value\":\"DarkOrange\"},\"line_color\":{\"value\":\"DarkOrange\"},\"size\":{\"value\":10},\"x\":{\"field\":\"x\"},\"y\":{\"field\":\"y\"}},\"id\":\"1522\",\"type\":\"Circle\"},{\"attributes\":{},\"id\":\"1584\",\"type\":\"BasicTickFormatter\"},{\"attributes\":{\"data\":{\"x\":{\"__ndarray__\":\"5/up8dJN/D/b+X5qvHQFQHWTGARWDgFAYOXQItv5DkDn+6nx0k0CQP7UeOkmMfQ/aJHtfD81CEDdJAaBlUMAQM3MzMzMzABA5dAi2/l+/D/0/dR46Sb9P3Noke18PwJAL90kBoGV8z/jpZvEILAPQIXrUbgeBRpAL90kBoGVBkCWQ4ts5/sBQKrx0k1iEARAUrgehetRCEBEi2zn+6n9P2ZmZmZmZhRA/Knx0k1iCUAQWDm0yHYCQCcxCKwcWgJArBxaZDvfBkDTTWIQWDkBQGq8dJMYBAZAzczMzMzMCkBSuB6F61ELQPT91HjpJghAvp8aL90kBEBxPQrXo3ADQGiR7Xw/NfQ//Knx0k1i/j8dWmQ730/5P9v5fmq8dP0/K4cW2c73+z9t5/up8dIHQJ7vp8ZLNwFAAiuHFtnO/z/hehSuR+ECQHe+nxov3QFAGy/dJAaBBEC28/3UeOnuP9Ei2/l+agBAAAAAAAAAAEAGgZVDi2wPQA==\",\"dtype\":\"float64\",\"order\":\"little\",\"shape\":[47]},\"y\":{\"__ndarray__\":\"AAAAAACgVkBmZmZmZmZJQDMzMzMzM1ZAAAAAAAAAREBmZmZmZuZIQAAAAAAAwFhAmpmZmZl5V0DNzMzMzIxWQDMzMzMzU1RAzczMzMxMU0AAAAAAAOBWQM3MzMzMTFZAZmZmZmYmWEDNzMzMzExRQDMzMzMzMylAMzMzMzOzRkCamZmZmblYQDMzMzMzc1ZAzczMzMwMVEAAAAAAAABZQGZmZmZmZkVAzczMzMxMU0BmZmZmZkZWQAAAAAAA4FhAmpmZmZm5UUDNzMzMzMxYQJqZmZmZ+VdAAAAAAADgWECamZmZmZlPQJqZmZmZOVZAZmZmZmbGWEAzMzMzM9NYQGZmZmZm5lZAAAAAAADgVkDNzMzMzOxYQAAAAAAAgFVAmpmZmZnZWECamZmZmTlUQGZmZmZmRldAMzMzMzNzWECamZmZmZlWQJqZmZmZWVZAmpmZmZlZQ0DNzMzMzKxWQDMzMzMzU1dAmpmZmZmZWEBmZmZmZsZYQA==\",\"dtype\":\"float64\",\"order\":\"little\",\"shape\":[47]}},\"selected\":{\"id\":\"1598\"},\"selection_policy\":{\"id\":\"1599\"}},\"id\":\"1516\",\"type\":\"ColumnDataSource\"},{\"attributes\":{\"active_multi\":null,\"tools\":[{\"id\":\"1436\"},{\"id\":\"1437\"},{\"id\":\"1438\"},{\"id\":\"1439\"},{\"id\":\"1440\"},{\"id\":\"1441\"}]},\"id\":\"1443\",\"type\":\"Toolbar\"},{\"attributes\":{},\"id\":\"1437\",\"type\":\"WheelZoomTool\"},{\"attributes\":{},\"id\":\"1436\",\"type\":\"PanTool\"},{\"attributes\":{},\"id\":\"1586\",\"type\":\"AllLabels\"},{\"attributes\":{\"fill_alpha\":{\"value\":0.1},\"fill_color\":{\"value\":\"firebrick\"},\"line_alpha\":{\"value\":0.1},\"line_color\":{\"value\":\"firebrick\"},\"size\":{\"value\":10},\"x\":{\"field\":\"x\"},\"y\":{\"field\":\"y\"}},\"id\":\"1518\",\"type\":\"Circle\"},{\"attributes\":{\"overlay\":{\"id\":\"1442\"}},\"id\":\"1438\",\"type\":\"BoxZoomTool\"},{\"attributes\":{},\"id\":\"1439\",\"type\":\"SaveTool\"},{\"attributes\":{},\"id\":\"1587\",\"type\":\"BasicTickFormatter\"},{\"attributes\":{},\"id\":\"1440\",\"type\":\"ResetTool\"},{\"attributes\":{\"fill_alpha\":{\"value\":0.1},\"fill_color\":{\"value\":\"DarkOrange\"},\"line_alpha\":{\"value\":0.1},\"line_color\":{\"value\":\"DarkOrange\"},\"size\":{\"value\":10},\"x\":{\"field\":\"x\"},\"y\":{\"field\":\"y\"}},\"id\":\"1523\",\"type\":\"Circle\"},{\"attributes\":{\"data_source\":{\"id\":\"1516\"},\"glyph\":{\"id\":\"1517\"},\"hover_glyph\":null,\"muted_glyph\":null,\"nonselection_glyph\":{\"id\":\"1518\"},\"view\":{\"id\":\"1520\"}},\"id\":\"1519\",\"type\":\"GlyphRenderer\"},{\"attributes\":{\"data\":{\"x\":{\"__ndarray__\":\"/tR46SaxFEC6SQwCK4cGQPLSTWIQ2BRAbxKDwMqhF0AK16NwPQoEQBSuR+F6FBZACKwcWmQ7EEBWDi2ynW8TQCPb+X5qvAJAarx0kxgEGUB56SYxCKwCQOF6FK5H4RBAke18PzXeE0B1kxgEVg4SQHsUrkfhehJARIts5/spEkA/NV66SYwWQHe+nxovXRdAUrgehevRFUAtsp3vp0YcQB+F61G4nhVAppvEILDyFkCBlUOLbOcKQI/C9ShcjxNAbef7qfFSGEDb+X5qvHT9PzeJQWDlUBVAUrgehetRFUBQjZduEoMVQM3MzMzMzBFARIts5/upEECJQWDl0CIFQClcj8L1qBRA6SYxCKwcEkB9PzVeuskSQCUGgZVDCxRAWmQ730+NEUBSuB6F61EKQOkmMQisHApA+n5qvHSTBkDHSzeJQeATQIlBYOXQohZA7FG4HoXrCUB56SYxCKz8P5qZmZmZmQtAbxKDwMohFUAUrkfhehQPQOf7qfHSTQVAWDm0yHa+DUA=\",\"dtype\":\"float64\",\"order\":\"little\",\"shape\":[49]},\"y\":{\"__ndarray__\":\"ZmZmZmZmSEBmZmZmZuZMQM3MzMzMzDZAzczMzMwMTEBmZmZmZgZWQDMzMzMzk1BAzczMzMzMTUAzMzMzM7NUQDMzMzMz809AMzMzMzOzUEDNzMzMzAxGQGZmZmZmpk1AzczMzMwMREBmZmZmZiZGQDMzMzMzU1BAMzMzMzPzUEAAAAAAAIBMQJqZmZmZmTVAMzMzMzNzUEAzMzMzMzMuQDMzMzMzMzJAAAAAAACATkAzMzMzMzNWQAAAAAAAgEBAZmZmZmbmNUAAAAAAAMBRQGZmZmZmZjpAZmZmZmaGUECamZmZmRk8QDMzMzMz801AmpmZmZnZSkAzMzMzM1NUQGZmZmZm5jxAAAAAAABAS0DNzMzMzIxEQAAAAAAAgEpAAAAAAADASEDNzMzMzOxVQGZmZmZmxldAAAAAAADgVEBmZmZmZiZBQAAAAAAAQEJAzczMzMzMVEAzMzMzMzNVQGZmZmZmZlVAZmZmZmZGVkAzMzMzM/NQQDMzMzMz01NAMzMzMzPTVEA=\",\"dtype\":\"float64\",\"order\":\"little\",\"shape\":[49]}},\"selected\":{\"id\":\"1595\"},\"selection_policy\":{\"id\":\"1596\"}},\"id\":\"1526\",\"type\":\"ColumnDataSource\"},{\"attributes\":{\"fill_color\":{\"value\":\"DarkBlue\"},\"line_color\":{\"value\":\"DarkBlue\"},\"size\":{\"value\":10},\"x\":{\"field\":\"x\"},\"y\":{\"field\":\"y\"}},\"id\":\"1527\",\"type\":\"Circle\"},{\"attributes\":{\"source\":{\"id\":\"1526\"}},\"id\":\"1530\",\"type\":\"CDSView\"},{\"attributes\":{\"source\":{\"id\":\"1521\"}},\"id\":\"1525\",\"type\":\"CDSView\"},{\"attributes\":{\"data_source\":{\"id\":\"1526\"},\"glyph\":{\"id\":\"1527\"},\"hover_glyph\":null,\"muted_glyph\":null,\"nonselection_glyph\":{\"id\":\"1528\"},\"view\":{\"id\":\"1530\"}},\"id\":\"1529\",\"type\":\"GlyphRenderer\"},{\"attributes\":{\"bottom_units\":\"screen\",\"fill_alpha\":0.5,\"fill_color\":\"lightgrey\",\"left_units\":\"screen\",\"level\":\"overlay\",\"line_alpha\":1.0,\"line_color\":\"black\",\"line_dash\":[4,4],\"line_width\":2,\"right_units\":\"screen\",\"syncable\":false,\"top_units\":\"screen\"},\"id\":\"1442\",\"type\":\"BoxAnnotation\"}],\"root_ids\":[\"1789\"]},\"title\":\"Bokeh Application\",\"version\":\"2.3.2\"}};\n",
       "  var render_items = [{\"docid\":\"97f2dc30-0578-4fbc-b457-318f41bf9ea7\",\"root_ids\":[\"1789\"],\"roots\":{\"1789\":\"e2a115bf-d020-4e3a-a0e2-df17700efe79\"}}];\n",
       "  root.Bokeh.embed.embed_items_notebook(docs_json, render_items);\n",
       "\n",
       "  }\n",
       "  if (root.Bokeh !== undefined) {\n",
       "    embed_document(root);\n",
       "  } else {\n",
       "    var attempts = 0;\n",
       "    var timer = setInterval(function(root) {\n",
       "      if (root.Bokeh !== undefined) {\n",
       "        clearInterval(timer);\n",
       "        embed_document(root);\n",
       "      } else {\n",
       "        attempts++;\n",
       "        if (attempts > 100) {\n",
       "          clearInterval(timer);\n",
       "          console.log(\"Bokeh: ERROR: Unable to run BokehJS code because BokehJS library is missing\");\n",
       "        }\n",
       "      }\n",
       "    }, 10, root)\n",
       "  }\n",
       "})(window);"
      ],
      "application/vnd.bokehjs_exec.v0+json": ""
     },
     "metadata": {
      "application/vnd.bokehjs_exec.v0+json": {
       "id": "1789"
      }
     },
     "output_type": "display_data"
    }
   ],
   "source": [
    "layout=gridplot([[p1, p2], [None, p3]])\n",
    "show(layout)"
   ]
  },
  {
   "cell_type": "markdown",
   "metadata": {},
   "source": [
    "For convenience, you can also just pass a list of plots and specify the number of columns you want in your grid. For example:"
   ]
  },
  {
   "cell_type": "code",
   "execution_count": 17,
   "metadata": {},
   "outputs": [
    {
     "data": {
      "text/html": [
       "\n",
       "\n",
       "\n",
       "\n",
       "\n",
       "\n",
       "  <div class=\"bk-root\" id=\"61080fb9-fd69-4410-b2fc-e4c70ff227db\" data-root-id=\"2076\"></div>\n"
      ]
     },
     "metadata": {},
     "output_type": "display_data"
    },
    {
     "data": {
      "application/javascript": [
       "(function(root) {\n",
       "  function embed_document(root) {\n",
       "    \n",
       "  var docs_json = {\"858d561d-9535-4294-b7f7-194a5bef41c9\":{\"defs\":[],\"roots\":{\"references\":[{\"attributes\":{\"children\":[{\"id\":\"2075\"},{\"id\":\"2073\"}]},\"id\":\"2076\",\"type\":\"Column\"},{\"attributes\":{},\"id\":\"1598\",\"type\":\"Selection\"},{\"attributes\":{},\"id\":\"1599\",\"type\":\"UnionRenderers\"},{\"attributes\":{},\"id\":\"1589\",\"type\":\"AllLabels\"},{\"attributes\":{},\"id\":\"1590\",\"type\":\"BasicTickFormatter\"},{\"attributes\":{},\"id\":\"1592\",\"type\":\"AllLabels\"},{\"attributes\":{},\"id\":\"1593\",\"type\":\"BasicTickFormatter\"},{\"attributes\":{\"formatter\":{\"id\":\"1590\"},\"major_label_policy\":{\"id\":\"1589\"},\"ticker\":{\"id\":\"1466\"}},\"id\":\"1465\",\"type\":\"LinearAxis\"},{\"attributes\":{},\"id\":\"1459\",\"type\":\"LinearScale\"},{\"attributes\":{},\"id\":\"1453\",\"type\":\"DataRange1d\"},{\"attributes\":{\"text\":\"Africa continent\"},\"id\":\"1484\",\"type\":\"Title\"},{\"attributes\":{},\"id\":\"1455\",\"type\":\"DataRange1d\"},{\"attributes\":{},\"id\":\"1474\",\"type\":\"HelpTool\"},{\"attributes\":{},\"id\":\"1457\",\"type\":\"LinearScale\"},{\"attributes\":{\"formatter\":{\"id\":\"1593\"},\"major_label_policy\":{\"id\":\"1592\"},\"ticker\":{\"id\":\"1462\"}},\"id\":\"1461\",\"type\":\"LinearAxis\"},{\"attributes\":{},\"id\":\"1462\",\"type\":\"BasicTicker\"},{\"attributes\":{\"axis\":{\"id\":\"1461\"},\"ticker\":null},\"id\":\"1464\",\"type\":\"Grid\"},{\"attributes\":{\"axis\":{\"id\":\"1465\"},\"dimension\":1,\"ticker\":null},\"id\":\"1468\",\"type\":\"Grid\"},{\"attributes\":{},\"id\":\"1601\",\"type\":\"Selection\"},{\"attributes\":{},\"id\":\"1466\",\"type\":\"BasicTicker\"},{\"attributes\":{},\"id\":\"1470\",\"type\":\"WheelZoomTool\"},{\"attributes\":{},\"id\":\"1602\",\"type\":\"UnionRenderers\"},{\"attributes\":{},\"id\":\"1469\",\"type\":\"PanTool\"},{\"attributes\":{\"overlay\":{\"id\":\"1475\"}},\"id\":\"1471\",\"type\":\"BoxZoomTool\"},{\"attributes\":{},\"id\":\"1472\",\"type\":\"SaveTool\"},{\"attributes\":{},\"id\":\"1473\",\"type\":\"ResetTool\"},{\"attributes\":{},\"id\":\"1595\",\"type\":\"Selection\"},{\"attributes\":{},\"id\":\"1596\",\"type\":\"UnionRenderers\"},{\"attributes\":{\"bottom_units\":\"screen\",\"fill_alpha\":0.5,\"fill_color\":\"lightgrey\",\"left_units\":\"screen\",\"level\":\"overlay\",\"line_alpha\":1.0,\"line_color\":\"black\",\"line_dash\":[4,4],\"line_width\":2,\"right_units\":\"screen\",\"syncable\":false,\"top_units\":\"screen\"},\"id\":\"1475\",\"type\":\"BoxAnnotation\"},{\"attributes\":{},\"id\":\"1422\",\"type\":\"DataRange1d\"},{\"attributes\":{\"active_multi\":null,\"tools\":[{\"id\":\"1469\"},{\"id\":\"1470\"},{\"id\":\"1471\"},{\"id\":\"1472\"},{\"id\":\"1473\"},{\"id\":\"1474\"}]},\"id\":\"1476\",\"type\":\"Toolbar\"},{\"attributes\":{\"formatter\":{\"id\":\"1578\"},\"major_label_policy\":{\"id\":\"1577\"},\"ticker\":{\"id\":\"1499\"}},\"id\":\"1498\",\"type\":\"LinearAxis\"},{\"attributes\":{\"children\":[[{\"id\":\"1417\"},0,0],[{\"id\":\"1450\"},0,1],[{\"id\":\"1483\"},1,0]]},\"id\":\"2073\",\"type\":\"GridBox\"},{\"attributes\":{},\"id\":\"1492\",\"type\":\"LinearScale\"},{\"attributes\":{\"toolbars\":[{\"id\":\"1443\"},{\"id\":\"1476\"},{\"id\":\"1509\"}],\"tools\":[{\"id\":\"1436\"},{\"id\":\"1437\"},{\"id\":\"1438\"},{\"id\":\"1439\"},{\"id\":\"1440\"},{\"id\":\"1441\"},{\"id\":\"1469\"},{\"id\":\"1470\"},{\"id\":\"1471\"},{\"id\":\"1472\"},{\"id\":\"1473\"},{\"id\":\"1474\"},{\"id\":\"1502\"},{\"id\":\"1503\"},{\"id\":\"1504\"},{\"id\":\"1505\"},{\"id\":\"1506\"},{\"id\":\"1507\"}]},\"id\":\"2074\",\"type\":\"ProxyToolbar\"},{\"attributes\":{},\"id\":\"1486\",\"type\":\"DataRange1d\"},{\"attributes\":{\"fill_color\":{\"value\":\"firebrick\"},\"line_color\":{\"value\":\"firebrick\"},\"size\":{\"value\":10},\"x\":{\"field\":\"x\"},\"y\":{\"field\":\"y\"}},\"id\":\"1517\",\"type\":\"Circle\"},{\"attributes\":{},\"id\":\"1488\",\"type\":\"DataRange1d\"},{\"attributes\":{},\"id\":\"1507\",\"type\":\"HelpTool\"},{\"attributes\":{},\"id\":\"1490\",\"type\":\"LinearScale\"},{\"attributes\":{\"formatter\":{\"id\":\"1581\"},\"major_label_policy\":{\"id\":\"1580\"},\"ticker\":{\"id\":\"1495\"}},\"id\":\"1494\",\"type\":\"LinearAxis\"},{\"attributes\":{},\"id\":\"1495\",\"type\":\"BasicTicker\"},{\"attributes\":{\"axis\":{\"id\":\"1494\"},\"ticker\":null},\"id\":\"1497\",\"type\":\"Grid\"},{\"attributes\":{},\"id\":\"1577\",\"type\":\"AllLabels\"},{\"attributes\":{},\"id\":\"1578\",\"type\":\"BasicTickFormatter\"},{\"attributes\":{\"axis\":{\"id\":\"1498\"},\"dimension\":1,\"ticker\":null},\"id\":\"1501\",\"type\":\"Grid\"},{\"attributes\":{},\"id\":\"1499\",\"type\":\"BasicTicker\"},{\"attributes\":{},\"id\":\"1426\",\"type\":\"LinearScale\"},{\"attributes\":{\"data\":{\"x\":{\"__ndarray__\":\"fT81XrpJ9j/Jdr6fGi/1P39qvHSTGP4/bxKDwMqh/T89CtejcD32Py2yne+nxvU/sHJoke189z8Sg8DKoUX0PzMzMzMzM/U/wcqhRbbz+z8pXI/C9Sj2PyUGgZVDi/w/PzVeukkM9j8zMzMzMzP3P+xRuB6F6/U/5dAi2/l+9D9WDi2yne/9P1yPwvUoXPc/YOXQItv59j+YbhKDwMr5Py/dJAaBlf0/x0s3iUFg/T8pXI/C9Sj+P99PjZduEvc/c2iR7Xw//z8xCKwcWmTzP9V46SYxCPg/rBxaZDvf9T9Ei2zn+6n9PzeJQWDl0PY/YOXQItv59j99PzVeukn2P0oMAiuHFvs/qMZLN4lB+D9qvHSTGAT0P1g5tMh2vgBA\",\"dtype\":\"float64\",\"order\":\"little\",\"shape\":[36]},\"y\":{\"__ndarray__\":\"mpmZmZnZWEAAAAAAAMBYQAAAAAAAwFhAAAAAAADAWEAAAAAAAKBYQGZmZmZm5lhAmpmZmZk5WEAzMzMzM9NYQJqZmZmZOVhAAAAAAADAWECamZmZmflXQAAAAAAAwFhAmpmZmZk5V0AAAAAAAMBYQJqZmZmZuVhAzczMzMzsWEAAAAAAAMBYQAAAAAAAwFhAmpmZmZl5WEDNzMzMzAxYQAAAAAAAwFhAAAAAAAAAWUAAAAAAAABZQAAAAAAAgFhAAAAAAADAWECamZmZmflXQDMzMzMzc1hAzczMzMzsWEDNzMzMzKxYQDMzMzMz81hAmpmZmZnZV0DNzMzMzOxYQDMzMzMz81hAzczMzMwsWEAAAAAAAGBXQAAAAAAAwFhA\",\"dtype\":\"float64\",\"order\":\"little\",\"shape\":[36]}},\"selected\":{\"id\":\"1601\"},\"selection_policy\":{\"id\":\"1602\"}},\"id\":\"1521\",\"type\":\"ColumnDataSource\"},{\"attributes\":{},\"id\":\"1580\",\"type\":\"AllLabels\"},{\"attributes\":{},\"id\":\"1503\",\"type\":\"WheelZoomTool\"},{\"attributes\":{},\"id\":\"1581\",\"type\":\"BasicTickFormatter\"},{\"attributes\":{},\"id\":\"1502\",\"type\":\"PanTool\"},{\"attributes\":{\"overlay\":{\"id\":\"1508\"}},\"id\":\"1504\",\"type\":\"BoxZoomTool\"},{\"attributes\":{},\"id\":\"1505\",\"type\":\"SaveTool\"},{\"attributes\":{},\"id\":\"1506\",\"type\":\"ResetTool\"},{\"attributes\":{\"formatter\":{\"id\":\"1587\"},\"major_label_policy\":{\"id\":\"1586\"},\"ticker\":{\"id\":\"1429\"}},\"id\":\"1428\",\"type\":\"LinearAxis\"},{\"attributes\":{\"toolbar\":{\"id\":\"2074\"},\"toolbar_location\":\"above\"},\"id\":\"2075\",\"type\":\"ToolbarBox\"},{\"attributes\":{},\"id\":\"1424\",\"type\":\"LinearScale\"},{\"attributes\":{\"bottom_units\":\"screen\",\"fill_alpha\":0.5,\"fill_color\":\"lightgrey\",\"left_units\":\"screen\",\"level\":\"overlay\",\"line_alpha\":1.0,\"line_color\":\"black\",\"line_dash\":[4,4],\"line_width\":2,\"right_units\":\"screen\",\"syncable\":false,\"top_units\":\"screen\"},\"id\":\"1508\",\"type\":\"BoxAnnotation\"},{\"attributes\":{\"data_source\":{\"id\":\"1521\"},\"glyph\":{\"id\":\"1522\"},\"hover_glyph\":null,\"muted_glyph\":null,\"nonselection_glyph\":{\"id\":\"1523\"},\"view\":{\"id\":\"1525\"}},\"id\":\"1524\",\"type\":\"GlyphRenderer\"},{\"attributes\":{\"source\":{\"id\":\"1516\"}},\"id\":\"1520\",\"type\":\"CDSView\"},{\"attributes\":{\"below\":[{\"id\":\"1461\"}],\"center\":[{\"id\":\"1464\"},{\"id\":\"1468\"}],\"height\":300,\"left\":[{\"id\":\"1465\"}],\"renderers\":[{\"id\":\"1524\"}],\"title\":{\"id\":\"1451\"},\"toolbar\":{\"id\":\"1476\"},\"toolbar_location\":null,\"width\":300,\"x_range\":{\"id\":\"1453\"},\"x_scale\":{\"id\":\"1457\"},\"y_range\":{\"id\":\"1455\"},\"y_scale\":{\"id\":\"1459\"}},\"id\":\"1450\",\"subtype\":\"Figure\",\"type\":\"Plot\"},{\"attributes\":{\"text\":\"Europe continent\"},\"id\":\"1451\",\"type\":\"Title\"},{\"attributes\":{\"below\":[{\"id\":\"1428\"}],\"center\":[{\"id\":\"1431\"},{\"id\":\"1435\"}],\"height\":300,\"left\":[{\"id\":\"1432\"}],\"renderers\":[{\"id\":\"1519\"}],\"title\":{\"id\":\"1418\"},\"toolbar\":{\"id\":\"1443\"},\"toolbar_location\":null,\"width\":300,\"x_range\":{\"id\":\"1420\"},\"x_scale\":{\"id\":\"1424\"},\"y_range\":{\"id\":\"1422\"},\"y_scale\":{\"id\":\"1426\"}},\"id\":\"1417\",\"subtype\":\"Figure\",\"type\":\"Plot\"},{\"attributes\":{\"below\":[{\"id\":\"1494\"}],\"center\":[{\"id\":\"1497\"},{\"id\":\"1501\"}],\"height\":300,\"left\":[{\"id\":\"1498\"}],\"renderers\":[{\"id\":\"1529\"}],\"title\":{\"id\":\"1484\"},\"toolbar\":{\"id\":\"1509\"},\"toolbar_location\":null,\"width\":300,\"x_range\":{\"id\":\"1486\"},\"x_scale\":{\"id\":\"1490\"},\"y_range\":{\"id\":\"1488\"},\"y_scale\":{\"id\":\"1492\"}},\"id\":\"1483\",\"subtype\":\"Figure\",\"type\":\"Plot\"},{\"attributes\":{\"text\":\"Asia continent\"},\"id\":\"1418\",\"type\":\"Title\"},{\"attributes\":{},\"id\":\"1420\",\"type\":\"DataRange1d\"},{\"attributes\":{\"active_multi\":null,\"tools\":[{\"id\":\"1502\"},{\"id\":\"1503\"},{\"id\":\"1504\"},{\"id\":\"1505\"},{\"id\":\"1506\"},{\"id\":\"1507\"}]},\"id\":\"1509\",\"type\":\"Toolbar\"},{\"attributes\":{},\"id\":\"1429\",\"type\":\"BasicTicker\"},{\"attributes\":{\"axis\":{\"id\":\"1428\"},\"ticker\":null},\"id\":\"1431\",\"type\":\"Grid\"},{\"attributes\":{},\"id\":\"1441\",\"type\":\"HelpTool\"},{\"attributes\":{\"formatter\":{\"id\":\"1584\"},\"major_label_policy\":{\"id\":\"1583\"},\"ticker\":{\"id\":\"1433\"}},\"id\":\"1432\",\"type\":\"LinearAxis\"},{\"attributes\":{\"fill_alpha\":{\"value\":0.1},\"fill_color\":{\"value\":\"DarkBlue\"},\"line_alpha\":{\"value\":0.1},\"line_color\":{\"value\":\"DarkBlue\"},\"size\":{\"value\":10},\"x\":{\"field\":\"x\"},\"y\":{\"field\":\"y\"}},\"id\":\"1528\",\"type\":\"Circle\"},{\"attributes\":{\"axis\":{\"id\":\"1432\"},\"dimension\":1,\"ticker\":null},\"id\":\"1435\",\"type\":\"Grid\"},{\"attributes\":{},\"id\":\"1583\",\"type\":\"AllLabels\"},{\"attributes\":{},\"id\":\"1433\",\"type\":\"BasicTicker\"},{\"attributes\":{\"fill_color\":{\"value\":\"DarkOrange\"},\"line_color\":{\"value\":\"DarkOrange\"},\"size\":{\"value\":10},\"x\":{\"field\":\"x\"},\"y\":{\"field\":\"y\"}},\"id\":\"1522\",\"type\":\"Circle\"},{\"attributes\":{},\"id\":\"1584\",\"type\":\"BasicTickFormatter\"},{\"attributes\":{\"data\":{\"x\":{\"__ndarray__\":\"5/up8dJN/D/b+X5qvHQFQHWTGARWDgFAYOXQItv5DkDn+6nx0k0CQP7UeOkmMfQ/aJHtfD81CEDdJAaBlUMAQM3MzMzMzABA5dAi2/l+/D/0/dR46Sb9P3Noke18PwJAL90kBoGV8z/jpZvEILAPQIXrUbgeBRpAL90kBoGVBkCWQ4ts5/sBQKrx0k1iEARAUrgehetRCEBEi2zn+6n9P2ZmZmZmZhRA/Knx0k1iCUAQWDm0yHYCQCcxCKwcWgJArBxaZDvfBkDTTWIQWDkBQGq8dJMYBAZAzczMzMzMCkBSuB6F61ELQPT91HjpJghAvp8aL90kBEBxPQrXo3ADQGiR7Xw/NfQ//Knx0k1i/j8dWmQ730/5P9v5fmq8dP0/K4cW2c73+z9t5/up8dIHQJ7vp8ZLNwFAAiuHFtnO/z/hehSuR+ECQHe+nxov3QFAGy/dJAaBBEC28/3UeOnuP9Ei2/l+agBAAAAAAAAAAEAGgZVDi2wPQA==\",\"dtype\":\"float64\",\"order\":\"little\",\"shape\":[47]},\"y\":{\"__ndarray__\":\"AAAAAACgVkBmZmZmZmZJQDMzMzMzM1ZAAAAAAAAAREBmZmZmZuZIQAAAAAAAwFhAmpmZmZl5V0DNzMzMzIxWQDMzMzMzU1RAzczMzMxMU0AAAAAAAOBWQM3MzMzMTFZAZmZmZmYmWEDNzMzMzExRQDMzMzMzMylAMzMzMzOzRkCamZmZmblYQDMzMzMzc1ZAzczMzMwMVEAAAAAAAABZQGZmZmZmZkVAzczMzMxMU0BmZmZmZkZWQAAAAAAA4FhAmpmZmZm5UUDNzMzMzMxYQJqZmZmZ+VdAAAAAAADgWECamZmZmZlPQJqZmZmZOVZAZmZmZmbGWEAzMzMzM9NYQGZmZmZm5lZAAAAAAADgVkDNzMzMzOxYQAAAAAAAgFVAmpmZmZnZWECamZmZmTlUQGZmZmZmRldAMzMzMzNzWECamZmZmZlWQJqZmZmZWVZAmpmZmZlZQ0DNzMzMzKxWQDMzMzMzU1dAmpmZmZmZWEBmZmZmZsZYQA==\",\"dtype\":\"float64\",\"order\":\"little\",\"shape\":[47]}},\"selected\":{\"id\":\"1598\"},\"selection_policy\":{\"id\":\"1599\"}},\"id\":\"1516\",\"type\":\"ColumnDataSource\"},{\"attributes\":{\"active_multi\":null,\"tools\":[{\"id\":\"1436\"},{\"id\":\"1437\"},{\"id\":\"1438\"},{\"id\":\"1439\"},{\"id\":\"1440\"},{\"id\":\"1441\"}]},\"id\":\"1443\",\"type\":\"Toolbar\"},{\"attributes\":{},\"id\":\"1437\",\"type\":\"WheelZoomTool\"},{\"attributes\":{},\"id\":\"1436\",\"type\":\"PanTool\"},{\"attributes\":{},\"id\":\"1586\",\"type\":\"AllLabels\"},{\"attributes\":{\"fill_alpha\":{\"value\":0.1},\"fill_color\":{\"value\":\"firebrick\"},\"line_alpha\":{\"value\":0.1},\"line_color\":{\"value\":\"firebrick\"},\"size\":{\"value\":10},\"x\":{\"field\":\"x\"},\"y\":{\"field\":\"y\"}},\"id\":\"1518\",\"type\":\"Circle\"},{\"attributes\":{\"overlay\":{\"id\":\"1442\"}},\"id\":\"1438\",\"type\":\"BoxZoomTool\"},{\"attributes\":{},\"id\":\"1439\",\"type\":\"SaveTool\"},{\"attributes\":{},\"id\":\"1587\",\"type\":\"BasicTickFormatter\"},{\"attributes\":{},\"id\":\"1440\",\"type\":\"ResetTool\"},{\"attributes\":{\"fill_alpha\":{\"value\":0.1},\"fill_color\":{\"value\":\"DarkOrange\"},\"line_alpha\":{\"value\":0.1},\"line_color\":{\"value\":\"DarkOrange\"},\"size\":{\"value\":10},\"x\":{\"field\":\"x\"},\"y\":{\"field\":\"y\"}},\"id\":\"1523\",\"type\":\"Circle\"},{\"attributes\":{\"data_source\":{\"id\":\"1516\"},\"glyph\":{\"id\":\"1517\"},\"hover_glyph\":null,\"muted_glyph\":null,\"nonselection_glyph\":{\"id\":\"1518\"},\"view\":{\"id\":\"1520\"}},\"id\":\"1519\",\"type\":\"GlyphRenderer\"},{\"attributes\":{\"data\":{\"x\":{\"__ndarray__\":\"/tR46SaxFEC6SQwCK4cGQPLSTWIQ2BRAbxKDwMqhF0AK16NwPQoEQBSuR+F6FBZACKwcWmQ7EEBWDi2ynW8TQCPb+X5qvAJAarx0kxgEGUB56SYxCKwCQOF6FK5H4RBAke18PzXeE0B1kxgEVg4SQHsUrkfhehJARIts5/spEkA/NV66SYwWQHe+nxovXRdAUrgehevRFUAtsp3vp0YcQB+F61G4nhVAppvEILDyFkCBlUOLbOcKQI/C9ShcjxNAbef7qfFSGEDb+X5qvHT9PzeJQWDlUBVAUrgehetRFUBQjZduEoMVQM3MzMzMzBFARIts5/upEECJQWDl0CIFQClcj8L1qBRA6SYxCKwcEkB9PzVeuskSQCUGgZVDCxRAWmQ730+NEUBSuB6F61EKQOkmMQisHApA+n5qvHSTBkDHSzeJQeATQIlBYOXQohZA7FG4HoXrCUB56SYxCKz8P5qZmZmZmQtAbxKDwMohFUAUrkfhehQPQOf7qfHSTQVAWDm0yHa+DUA=\",\"dtype\":\"float64\",\"order\":\"little\",\"shape\":[49]},\"y\":{\"__ndarray__\":\"ZmZmZmZmSEBmZmZmZuZMQM3MzMzMzDZAzczMzMwMTEBmZmZmZgZWQDMzMzMzk1BAzczMzMzMTUAzMzMzM7NUQDMzMzMz809AMzMzMzOzUEDNzMzMzAxGQGZmZmZmpk1AzczMzMwMREBmZmZmZiZGQDMzMzMzU1BAMzMzMzPzUEAAAAAAAIBMQJqZmZmZmTVAMzMzMzNzUEAzMzMzMzMuQDMzMzMzMzJAAAAAAACATkAzMzMzMzNWQAAAAAAAgEBAZmZmZmbmNUAAAAAAAMBRQGZmZmZmZjpAZmZmZmaGUECamZmZmRk8QDMzMzMz801AmpmZmZnZSkAzMzMzM1NUQGZmZmZm5jxAAAAAAABAS0DNzMzMzIxEQAAAAAAAgEpAAAAAAADASEDNzMzMzOxVQGZmZmZmxldAAAAAAADgVEBmZmZmZiZBQAAAAAAAQEJAzczMzMzMVEAzMzMzMzNVQGZmZmZmZlVAZmZmZmZGVkAzMzMzM/NQQDMzMzMz01NAMzMzMzPTVEA=\",\"dtype\":\"float64\",\"order\":\"little\",\"shape\":[49]}},\"selected\":{\"id\":\"1595\"},\"selection_policy\":{\"id\":\"1596\"}},\"id\":\"1526\",\"type\":\"ColumnDataSource\"},{\"attributes\":{\"fill_color\":{\"value\":\"DarkBlue\"},\"line_color\":{\"value\":\"DarkBlue\"},\"size\":{\"value\":10},\"x\":{\"field\":\"x\"},\"y\":{\"field\":\"y\"}},\"id\":\"1527\",\"type\":\"Circle\"},{\"attributes\":{\"source\":{\"id\":\"1526\"}},\"id\":\"1530\",\"type\":\"CDSView\"},{\"attributes\":{\"source\":{\"id\":\"1521\"}},\"id\":\"1525\",\"type\":\"CDSView\"},{\"attributes\":{\"data_source\":{\"id\":\"1526\"},\"glyph\":{\"id\":\"1527\"},\"hover_glyph\":null,\"muted_glyph\":null,\"nonselection_glyph\":{\"id\":\"1528\"},\"view\":{\"id\":\"1530\"}},\"id\":\"1529\",\"type\":\"GlyphRenderer\"},{\"attributes\":{\"bottom_units\":\"screen\",\"fill_alpha\":0.5,\"fill_color\":\"lightgrey\",\"left_units\":\"screen\",\"level\":\"overlay\",\"line_alpha\":1.0,\"line_color\":\"black\",\"line_dash\":[4,4],\"line_width\":2,\"right_units\":\"screen\",\"syncable\":false,\"top_units\":\"screen\"},\"id\":\"1442\",\"type\":\"BoxAnnotation\"}],\"root_ids\":[\"2076\"]},\"title\":\"Bokeh Application\",\"version\":\"2.3.2\"}};\n",
       "  var render_items = [{\"docid\":\"858d561d-9535-4294-b7f7-194a5bef41c9\",\"root_ids\":[\"2076\"],\"roots\":{\"2076\":\"61080fb9-fd69-4410-b2fc-e4c70ff227db\"}}];\n",
       "  root.Bokeh.embed.embed_items_notebook(docs_json, render_items);\n",
       "\n",
       "  }\n",
       "  if (root.Bokeh !== undefined) {\n",
       "    embed_document(root);\n",
       "  } else {\n",
       "    var attempts = 0;\n",
       "    var timer = setInterval(function(root) {\n",
       "      if (root.Bokeh !== undefined) {\n",
       "        clearInterval(timer);\n",
       "        embed_document(root);\n",
       "      } else {\n",
       "        attempts++;\n",
       "        if (attempts > 100) {\n",
       "          clearInterval(timer);\n",
       "          console.log(\"Bokeh: ERROR: Unable to run BokehJS code because BokehJS library is missing\");\n",
       "        }\n",
       "      }\n",
       "    }, 10, root)\n",
       "  }\n",
       "})(window);"
      ],
      "application/vnd.bokehjs_exec.v0+json": ""
     },
     "metadata": {
      "application/vnd.bokehjs_exec.v0+json": {
       "id": "2076"
      }
     },
     "output_type": "display_data"
    }
   ],
   "source": [
    "layout=gridplot([p1, p2, p3], ncols=2)\n",
    "show(layout)"
   ]
  },
  {
   "cell_type": "markdown",
   "metadata": {},
   "source": [
    "You can also pass in `plot_width` and `plot_height` arguments. These dimensions will then apply to all your plots.\n",
    "\n",
    "By default, `gridplot()` merges all child plot tools into a single parent grid toolbar. To disable this behavior, set `merge_tools` to `False`."
   ]
  },
  {
   "cell_type": "markdown",
   "metadata": {},
   "source": [
    "### Tabbed layouts"
   ]
  },
  {
   "cell_type": "code",
   "execution_count": 18,
   "metadata": {},
   "outputs": [],
   "source": [
    "from bokeh.models import Panel, Tabs"
   ]
  },
  {
   "cell_type": "code",
   "execution_count": 19,
   "metadata": {},
   "outputs": [
    {
     "data": {
      "text/html": [
       "\n",
       "\n",
       "\n",
       "\n",
       "\n",
       "\n",
       "  <div class=\"bk-root\" id=\"15e1955a-4dd9-4211-85a1-b470514741a8\" data-root-id=\"2360\"></div>\n"
      ]
     },
     "metadata": {},
     "output_type": "display_data"
    },
    {
     "data": {
      "application/javascript": [
       "(function(root) {\n",
       "  function embed_document(root) {\n",
       "    \n",
       "  var docs_json = {\"57ef5ef8-0218-49e7-842c-05541117079d\":{\"defs\":[],\"roots\":{\"references\":[{\"attributes\":{\"tabs\":[{\"id\":\"2357\"},{\"id\":\"2358\"},{\"id\":\"2359\"}]},\"id\":\"2360\",\"type\":\"Tabs\"},{\"attributes\":{},\"id\":\"1598\",\"type\":\"Selection\"},{\"attributes\":{},\"id\":\"1599\",\"type\":\"UnionRenderers\"},{\"attributes\":{},\"id\":\"1589\",\"type\":\"AllLabels\"},{\"attributes\":{},\"id\":\"1590\",\"type\":\"BasicTickFormatter\"},{\"attributes\":{},\"id\":\"1592\",\"type\":\"AllLabels\"},{\"attributes\":{},\"id\":\"1593\",\"type\":\"BasicTickFormatter\"},{\"attributes\":{\"formatter\":{\"id\":\"1590\"},\"major_label_policy\":{\"id\":\"1589\"},\"ticker\":{\"id\":\"1466\"}},\"id\":\"1465\",\"type\":\"LinearAxis\"},{\"attributes\":{},\"id\":\"1459\",\"type\":\"LinearScale\"},{\"attributes\":{},\"id\":\"1453\",\"type\":\"DataRange1d\"},{\"attributes\":{\"text\":\"Africa continent\"},\"id\":\"1484\",\"type\":\"Title\"},{\"attributes\":{},\"id\":\"1455\",\"type\":\"DataRange1d\"},{\"attributes\":{},\"id\":\"1474\",\"type\":\"HelpTool\"},{\"attributes\":{},\"id\":\"1457\",\"type\":\"LinearScale\"},{\"attributes\":{\"formatter\":{\"id\":\"1593\"},\"major_label_policy\":{\"id\":\"1592\"},\"ticker\":{\"id\":\"1462\"}},\"id\":\"1461\",\"type\":\"LinearAxis\"},{\"attributes\":{},\"id\":\"1462\",\"type\":\"BasicTicker\"},{\"attributes\":{\"axis\":{\"id\":\"1461\"},\"ticker\":null},\"id\":\"1464\",\"type\":\"Grid\"},{\"attributes\":{\"axis\":{\"id\":\"1465\"},\"dimension\":1,\"ticker\":null},\"id\":\"1468\",\"type\":\"Grid\"},{\"attributes\":{},\"id\":\"1601\",\"type\":\"Selection\"},{\"attributes\":{},\"id\":\"1466\",\"type\":\"BasicTicker\"},{\"attributes\":{},\"id\":\"1470\",\"type\":\"WheelZoomTool\"},{\"attributes\":{},\"id\":\"1602\",\"type\":\"UnionRenderers\"},{\"attributes\":{},\"id\":\"1469\",\"type\":\"PanTool\"},{\"attributes\":{\"overlay\":{\"id\":\"1475\"}},\"id\":\"1471\",\"type\":\"BoxZoomTool\"},{\"attributes\":{},\"id\":\"1472\",\"type\":\"SaveTool\"},{\"attributes\":{},\"id\":\"1473\",\"type\":\"ResetTool\"},{\"attributes\":{\"child\":{\"id\":\"1450\"},\"title\":\"Europe\"},\"id\":\"2358\",\"type\":\"Panel\"},{\"attributes\":{\"child\":{\"id\":\"1417\"},\"title\":\"Asia\"},\"id\":\"2357\",\"type\":\"Panel\"},{\"attributes\":{\"child\":{\"id\":\"1483\"},\"title\":\"Africa\"},\"id\":\"2359\",\"type\":\"Panel\"},{\"attributes\":{},\"id\":\"1595\",\"type\":\"Selection\"},{\"attributes\":{},\"id\":\"1596\",\"type\":\"UnionRenderers\"},{\"attributes\":{\"bottom_units\":\"screen\",\"fill_alpha\":0.5,\"fill_color\":\"lightgrey\",\"left_units\":\"screen\",\"level\":\"overlay\",\"line_alpha\":1.0,\"line_color\":\"black\",\"line_dash\":[4,4],\"line_width\":2,\"right_units\":\"screen\",\"syncable\":false,\"top_units\":\"screen\"},\"id\":\"1475\",\"type\":\"BoxAnnotation\"},{\"attributes\":{},\"id\":\"1422\",\"type\":\"DataRange1d\"},{\"attributes\":{\"active_multi\":null,\"tools\":[{\"id\":\"1469\"},{\"id\":\"1470\"},{\"id\":\"1471\"},{\"id\":\"1472\"},{\"id\":\"1473\"},{\"id\":\"1474\"}]},\"id\":\"1476\",\"type\":\"Toolbar\"},{\"attributes\":{\"formatter\":{\"id\":\"1578\"},\"major_label_policy\":{\"id\":\"1577\"},\"ticker\":{\"id\":\"1499\"}},\"id\":\"1498\",\"type\":\"LinearAxis\"},{\"attributes\":{},\"id\":\"1492\",\"type\":\"LinearScale\"},{\"attributes\":{},\"id\":\"1486\",\"type\":\"DataRange1d\"},{\"attributes\":{\"fill_color\":{\"value\":\"firebrick\"},\"line_color\":{\"value\":\"firebrick\"},\"size\":{\"value\":10},\"x\":{\"field\":\"x\"},\"y\":{\"field\":\"y\"}},\"id\":\"1517\",\"type\":\"Circle\"},{\"attributes\":{},\"id\":\"1488\",\"type\":\"DataRange1d\"},{\"attributes\":{},\"id\":\"1507\",\"type\":\"HelpTool\"},{\"attributes\":{},\"id\":\"1490\",\"type\":\"LinearScale\"},{\"attributes\":{\"formatter\":{\"id\":\"1581\"},\"major_label_policy\":{\"id\":\"1580\"},\"ticker\":{\"id\":\"1495\"}},\"id\":\"1494\",\"type\":\"LinearAxis\"},{\"attributes\":{},\"id\":\"1495\",\"type\":\"BasicTicker\"},{\"attributes\":{\"axis\":{\"id\":\"1494\"},\"ticker\":null},\"id\":\"1497\",\"type\":\"Grid\"},{\"attributes\":{},\"id\":\"1577\",\"type\":\"AllLabels\"},{\"attributes\":{},\"id\":\"1578\",\"type\":\"BasicTickFormatter\"},{\"attributes\":{\"axis\":{\"id\":\"1498\"},\"dimension\":1,\"ticker\":null},\"id\":\"1501\",\"type\":\"Grid\"},{\"attributes\":{},\"id\":\"1499\",\"type\":\"BasicTicker\"},{\"attributes\":{},\"id\":\"1426\",\"type\":\"LinearScale\"},{\"attributes\":{\"data\":{\"x\":{\"__ndarray__\":\"fT81XrpJ9j/Jdr6fGi/1P39qvHSTGP4/bxKDwMqh/T89CtejcD32Py2yne+nxvU/sHJoke189z8Sg8DKoUX0PzMzMzMzM/U/wcqhRbbz+z8pXI/C9Sj2PyUGgZVDi/w/PzVeukkM9j8zMzMzMzP3P+xRuB6F6/U/5dAi2/l+9D9WDi2yne/9P1yPwvUoXPc/YOXQItv59j+YbhKDwMr5Py/dJAaBlf0/x0s3iUFg/T8pXI/C9Sj+P99PjZduEvc/c2iR7Xw//z8xCKwcWmTzP9V46SYxCPg/rBxaZDvf9T9Ei2zn+6n9PzeJQWDl0PY/YOXQItv59j99PzVeukn2P0oMAiuHFvs/qMZLN4lB+D9qvHSTGAT0P1g5tMh2vgBA\",\"dtype\":\"float64\",\"order\":\"little\",\"shape\":[36]},\"y\":{\"__ndarray__\":\"mpmZmZnZWEAAAAAAAMBYQAAAAAAAwFhAAAAAAADAWEAAAAAAAKBYQGZmZmZm5lhAmpmZmZk5WEAzMzMzM9NYQJqZmZmZOVhAAAAAAADAWECamZmZmflXQAAAAAAAwFhAmpmZmZk5V0AAAAAAAMBYQJqZmZmZuVhAzczMzMzsWEAAAAAAAMBYQAAAAAAAwFhAmpmZmZl5WEDNzMzMzAxYQAAAAAAAwFhAAAAAAAAAWUAAAAAAAABZQAAAAAAAgFhAAAAAAADAWECamZmZmflXQDMzMzMzc1hAzczMzMzsWEDNzMzMzKxYQDMzMzMz81hAmpmZmZnZV0DNzMzMzOxYQDMzMzMz81hAzczMzMwsWEAAAAAAAGBXQAAAAAAAwFhA\",\"dtype\":\"float64\",\"order\":\"little\",\"shape\":[36]}},\"selected\":{\"id\":\"1601\"},\"selection_policy\":{\"id\":\"1602\"}},\"id\":\"1521\",\"type\":\"ColumnDataSource\"},{\"attributes\":{},\"id\":\"1580\",\"type\":\"AllLabels\"},{\"attributes\":{},\"id\":\"1503\",\"type\":\"WheelZoomTool\"},{\"attributes\":{},\"id\":\"1581\",\"type\":\"BasicTickFormatter\"},{\"attributes\":{},\"id\":\"1502\",\"type\":\"PanTool\"},{\"attributes\":{\"overlay\":{\"id\":\"1508\"}},\"id\":\"1504\",\"type\":\"BoxZoomTool\"},{\"attributes\":{},\"id\":\"1505\",\"type\":\"SaveTool\"},{\"attributes\":{\"formatter\":{\"id\":\"1587\"},\"major_label_policy\":{\"id\":\"1586\"},\"ticker\":{\"id\":\"1429\"}},\"id\":\"1428\",\"type\":\"LinearAxis\"},{\"attributes\":{},\"id\":\"1506\",\"type\":\"ResetTool\"},{\"attributes\":{},\"id\":\"1424\",\"type\":\"LinearScale\"},{\"attributes\":{\"bottom_units\":\"screen\",\"fill_alpha\":0.5,\"fill_color\":\"lightgrey\",\"left_units\":\"screen\",\"level\":\"overlay\",\"line_alpha\":1.0,\"line_color\":\"black\",\"line_dash\":[4,4],\"line_width\":2,\"right_units\":\"screen\",\"syncable\":false,\"top_units\":\"screen\"},\"id\":\"1508\",\"type\":\"BoxAnnotation\"},{\"attributes\":{\"data_source\":{\"id\":\"1521\"},\"glyph\":{\"id\":\"1522\"},\"hover_glyph\":null,\"muted_glyph\":null,\"nonselection_glyph\":{\"id\":\"1523\"},\"view\":{\"id\":\"1525\"}},\"id\":\"1524\",\"type\":\"GlyphRenderer\"},{\"attributes\":{\"source\":{\"id\":\"1516\"}},\"id\":\"1520\",\"type\":\"CDSView\"},{\"attributes\":{\"below\":[{\"id\":\"1461\"}],\"center\":[{\"id\":\"1464\"},{\"id\":\"1468\"}],\"height\":300,\"left\":[{\"id\":\"1465\"}],\"renderers\":[{\"id\":\"1524\"}],\"title\":{\"id\":\"1451\"},\"toolbar\":{\"id\":\"1476\"},\"toolbar_location\":null,\"width\":300,\"x_range\":{\"id\":\"1453\"},\"x_scale\":{\"id\":\"1457\"},\"y_range\":{\"id\":\"1455\"},\"y_scale\":{\"id\":\"1459\"}},\"id\":\"1450\",\"subtype\":\"Figure\",\"type\":\"Plot\"},{\"attributes\":{\"text\":\"Europe continent\"},\"id\":\"1451\",\"type\":\"Title\"},{\"attributes\":{\"below\":[{\"id\":\"1428\"}],\"center\":[{\"id\":\"1431\"},{\"id\":\"1435\"}],\"height\":300,\"left\":[{\"id\":\"1432\"}],\"renderers\":[{\"id\":\"1519\"}],\"title\":{\"id\":\"1418\"},\"toolbar\":{\"id\":\"1443\"},\"toolbar_location\":null,\"width\":300,\"x_range\":{\"id\":\"1420\"},\"x_scale\":{\"id\":\"1424\"},\"y_range\":{\"id\":\"1422\"},\"y_scale\":{\"id\":\"1426\"}},\"id\":\"1417\",\"subtype\":\"Figure\",\"type\":\"Plot\"},{\"attributes\":{\"below\":[{\"id\":\"1494\"}],\"center\":[{\"id\":\"1497\"},{\"id\":\"1501\"}],\"height\":300,\"left\":[{\"id\":\"1498\"}],\"renderers\":[{\"id\":\"1529\"}],\"title\":{\"id\":\"1484\"},\"toolbar\":{\"id\":\"1509\"},\"toolbar_location\":null,\"width\":300,\"x_range\":{\"id\":\"1486\"},\"x_scale\":{\"id\":\"1490\"},\"y_range\":{\"id\":\"1488\"},\"y_scale\":{\"id\":\"1492\"}},\"id\":\"1483\",\"subtype\":\"Figure\",\"type\":\"Plot\"},{\"attributes\":{\"text\":\"Asia continent\"},\"id\":\"1418\",\"type\":\"Title\"},{\"attributes\":{},\"id\":\"1420\",\"type\":\"DataRange1d\"},{\"attributes\":{\"active_multi\":null,\"tools\":[{\"id\":\"1502\"},{\"id\":\"1503\"},{\"id\":\"1504\"},{\"id\":\"1505\"},{\"id\":\"1506\"},{\"id\":\"1507\"}]},\"id\":\"1509\",\"type\":\"Toolbar\"},{\"attributes\":{},\"id\":\"1429\",\"type\":\"BasicTicker\"},{\"attributes\":{\"axis\":{\"id\":\"1428\"},\"ticker\":null},\"id\":\"1431\",\"type\":\"Grid\"},{\"attributes\":{},\"id\":\"1441\",\"type\":\"HelpTool\"},{\"attributes\":{\"formatter\":{\"id\":\"1584\"},\"major_label_policy\":{\"id\":\"1583\"},\"ticker\":{\"id\":\"1433\"}},\"id\":\"1432\",\"type\":\"LinearAxis\"},{\"attributes\":{\"fill_alpha\":{\"value\":0.1},\"fill_color\":{\"value\":\"DarkBlue\"},\"line_alpha\":{\"value\":0.1},\"line_color\":{\"value\":\"DarkBlue\"},\"size\":{\"value\":10},\"x\":{\"field\":\"x\"},\"y\":{\"field\":\"y\"}},\"id\":\"1528\",\"type\":\"Circle\"},{\"attributes\":{\"axis\":{\"id\":\"1432\"},\"dimension\":1,\"ticker\":null},\"id\":\"1435\",\"type\":\"Grid\"},{\"attributes\":{},\"id\":\"1583\",\"type\":\"AllLabels\"},{\"attributes\":{},\"id\":\"1433\",\"type\":\"BasicTicker\"},{\"attributes\":{\"fill_color\":{\"value\":\"DarkOrange\"},\"line_color\":{\"value\":\"DarkOrange\"},\"size\":{\"value\":10},\"x\":{\"field\":\"x\"},\"y\":{\"field\":\"y\"}},\"id\":\"1522\",\"type\":\"Circle\"},{\"attributes\":{},\"id\":\"1584\",\"type\":\"BasicTickFormatter\"},{\"attributes\":{\"data\":{\"x\":{\"__ndarray__\":\"5/up8dJN/D/b+X5qvHQFQHWTGARWDgFAYOXQItv5DkDn+6nx0k0CQP7UeOkmMfQ/aJHtfD81CEDdJAaBlUMAQM3MzMzMzABA5dAi2/l+/D/0/dR46Sb9P3Noke18PwJAL90kBoGV8z/jpZvEILAPQIXrUbgeBRpAL90kBoGVBkCWQ4ts5/sBQKrx0k1iEARAUrgehetRCEBEi2zn+6n9P2ZmZmZmZhRA/Knx0k1iCUAQWDm0yHYCQCcxCKwcWgJArBxaZDvfBkDTTWIQWDkBQGq8dJMYBAZAzczMzMzMCkBSuB6F61ELQPT91HjpJghAvp8aL90kBEBxPQrXo3ADQGiR7Xw/NfQ//Knx0k1i/j8dWmQ730/5P9v5fmq8dP0/K4cW2c73+z9t5/up8dIHQJ7vp8ZLNwFAAiuHFtnO/z/hehSuR+ECQHe+nxov3QFAGy/dJAaBBEC28/3UeOnuP9Ei2/l+agBAAAAAAAAAAEAGgZVDi2wPQA==\",\"dtype\":\"float64\",\"order\":\"little\",\"shape\":[47]},\"y\":{\"__ndarray__\":\"AAAAAACgVkBmZmZmZmZJQDMzMzMzM1ZAAAAAAAAAREBmZmZmZuZIQAAAAAAAwFhAmpmZmZl5V0DNzMzMzIxWQDMzMzMzU1RAzczMzMxMU0AAAAAAAOBWQM3MzMzMTFZAZmZmZmYmWEDNzMzMzExRQDMzMzMzMylAMzMzMzOzRkCamZmZmblYQDMzMzMzc1ZAzczMzMwMVEAAAAAAAABZQGZmZmZmZkVAzczMzMxMU0BmZmZmZkZWQAAAAAAA4FhAmpmZmZm5UUDNzMzMzMxYQJqZmZmZ+VdAAAAAAADgWECamZmZmZlPQJqZmZmZOVZAZmZmZmbGWEAzMzMzM9NYQGZmZmZm5lZAAAAAAADgVkDNzMzMzOxYQAAAAAAAgFVAmpmZmZnZWECamZmZmTlUQGZmZmZmRldAMzMzMzNzWECamZmZmZlWQJqZmZmZWVZAmpmZmZlZQ0DNzMzMzKxWQDMzMzMzU1dAmpmZmZmZWEBmZmZmZsZYQA==\",\"dtype\":\"float64\",\"order\":\"little\",\"shape\":[47]}},\"selected\":{\"id\":\"1598\"},\"selection_policy\":{\"id\":\"1599\"}},\"id\":\"1516\",\"type\":\"ColumnDataSource\"},{\"attributes\":{\"active_multi\":null,\"tools\":[{\"id\":\"1436\"},{\"id\":\"1437\"},{\"id\":\"1438\"},{\"id\":\"1439\"},{\"id\":\"1440\"},{\"id\":\"1441\"}]},\"id\":\"1443\",\"type\":\"Toolbar\"},{\"attributes\":{},\"id\":\"1437\",\"type\":\"WheelZoomTool\"},{\"attributes\":{},\"id\":\"1436\",\"type\":\"PanTool\"},{\"attributes\":{},\"id\":\"1586\",\"type\":\"AllLabels\"},{\"attributes\":{\"fill_alpha\":{\"value\":0.1},\"fill_color\":{\"value\":\"firebrick\"},\"line_alpha\":{\"value\":0.1},\"line_color\":{\"value\":\"firebrick\"},\"size\":{\"value\":10},\"x\":{\"field\":\"x\"},\"y\":{\"field\":\"y\"}},\"id\":\"1518\",\"type\":\"Circle\"},{\"attributes\":{\"overlay\":{\"id\":\"1442\"}},\"id\":\"1438\",\"type\":\"BoxZoomTool\"},{\"attributes\":{},\"id\":\"1439\",\"type\":\"SaveTool\"},{\"attributes\":{},\"id\":\"1587\",\"type\":\"BasicTickFormatter\"},{\"attributes\":{},\"id\":\"1440\",\"type\":\"ResetTool\"},{\"attributes\":{\"fill_alpha\":{\"value\":0.1},\"fill_color\":{\"value\":\"DarkOrange\"},\"line_alpha\":{\"value\":0.1},\"line_color\":{\"value\":\"DarkOrange\"},\"size\":{\"value\":10},\"x\":{\"field\":\"x\"},\"y\":{\"field\":\"y\"}},\"id\":\"1523\",\"type\":\"Circle\"},{\"attributes\":{\"data_source\":{\"id\":\"1516\"},\"glyph\":{\"id\":\"1517\"},\"hover_glyph\":null,\"muted_glyph\":null,\"nonselection_glyph\":{\"id\":\"1518\"},\"view\":{\"id\":\"1520\"}},\"id\":\"1519\",\"type\":\"GlyphRenderer\"},{\"attributes\":{\"data\":{\"x\":{\"__ndarray__\":\"/tR46SaxFEC6SQwCK4cGQPLSTWIQ2BRAbxKDwMqhF0AK16NwPQoEQBSuR+F6FBZACKwcWmQ7EEBWDi2ynW8TQCPb+X5qvAJAarx0kxgEGUB56SYxCKwCQOF6FK5H4RBAke18PzXeE0B1kxgEVg4SQHsUrkfhehJARIts5/spEkA/NV66SYwWQHe+nxovXRdAUrgehevRFUAtsp3vp0YcQB+F61G4nhVAppvEILDyFkCBlUOLbOcKQI/C9ShcjxNAbef7qfFSGEDb+X5qvHT9PzeJQWDlUBVAUrgehetRFUBQjZduEoMVQM3MzMzMzBFARIts5/upEECJQWDl0CIFQClcj8L1qBRA6SYxCKwcEkB9PzVeuskSQCUGgZVDCxRAWmQ730+NEUBSuB6F61EKQOkmMQisHApA+n5qvHSTBkDHSzeJQeATQIlBYOXQohZA7FG4HoXrCUB56SYxCKz8P5qZmZmZmQtAbxKDwMohFUAUrkfhehQPQOf7qfHSTQVAWDm0yHa+DUA=\",\"dtype\":\"float64\",\"order\":\"little\",\"shape\":[49]},\"y\":{\"__ndarray__\":\"ZmZmZmZmSEBmZmZmZuZMQM3MzMzMzDZAzczMzMwMTEBmZmZmZgZWQDMzMzMzk1BAzczMzMzMTUAzMzMzM7NUQDMzMzMz809AMzMzMzOzUEDNzMzMzAxGQGZmZmZmpk1AzczMzMwMREBmZmZmZiZGQDMzMzMzU1BAMzMzMzPzUEAAAAAAAIBMQJqZmZmZmTVAMzMzMzNzUEAzMzMzMzMuQDMzMzMzMzJAAAAAAACATkAzMzMzMzNWQAAAAAAAgEBAZmZmZmbmNUAAAAAAAMBRQGZmZmZmZjpAZmZmZmaGUECamZmZmRk8QDMzMzMz801AmpmZmZnZSkAzMzMzM1NUQGZmZmZm5jxAAAAAAABAS0DNzMzMzIxEQAAAAAAAgEpAAAAAAADASEDNzMzMzOxVQGZmZmZmxldAAAAAAADgVEBmZmZmZiZBQAAAAAAAQEJAzczMzMzMVEAzMzMzMzNVQGZmZmZmZlVAZmZmZmZGVkAzMzMzM/NQQDMzMzMz01NAMzMzMzPTVEA=\",\"dtype\":\"float64\",\"order\":\"little\",\"shape\":[49]}},\"selected\":{\"id\":\"1595\"},\"selection_policy\":{\"id\":\"1596\"}},\"id\":\"1526\",\"type\":\"ColumnDataSource\"},{\"attributes\":{\"fill_color\":{\"value\":\"DarkBlue\"},\"line_color\":{\"value\":\"DarkBlue\"},\"size\":{\"value\":10},\"x\":{\"field\":\"x\"},\"y\":{\"field\":\"y\"}},\"id\":\"1527\",\"type\":\"Circle\"},{\"attributes\":{\"source\":{\"id\":\"1526\"}},\"id\":\"1530\",\"type\":\"CDSView\"},{\"attributes\":{\"source\":{\"id\":\"1521\"}},\"id\":\"1525\",\"type\":\"CDSView\"},{\"attributes\":{\"data_source\":{\"id\":\"1526\"},\"glyph\":{\"id\":\"1527\"},\"hover_glyph\":null,\"muted_glyph\":null,\"nonselection_glyph\":{\"id\":\"1528\"},\"view\":{\"id\":\"1530\"}},\"id\":\"1529\",\"type\":\"GlyphRenderer\"},{\"attributes\":{\"bottom_units\":\"screen\",\"fill_alpha\":0.5,\"fill_color\":\"lightgrey\",\"left_units\":\"screen\",\"level\":\"overlay\",\"line_alpha\":1.0,\"line_color\":\"black\",\"line_dash\":[4,4],\"line_width\":2,\"right_units\":\"screen\",\"syncable\":false,\"top_units\":\"screen\"},\"id\":\"1442\",\"type\":\"BoxAnnotation\"}],\"root_ids\":[\"2360\"]},\"title\":\"Bokeh Application\",\"version\":\"2.3.2\"}};\n",
       "  var render_items = [{\"docid\":\"57ef5ef8-0218-49e7-842c-05541117079d\",\"root_ids\":[\"2360\"],\"roots\":{\"2360\":\"15e1955a-4dd9-4211-85a1-b470514741a8\"}}];\n",
       "  root.Bokeh.embed.embed_items_notebook(docs_json, render_items);\n",
       "\n",
       "  }\n",
       "  if (root.Bokeh !== undefined) {\n",
       "    embed_document(root);\n",
       "  } else {\n",
       "    var attempts = 0;\n",
       "    var timer = setInterval(function(root) {\n",
       "      if (root.Bokeh !== undefined) {\n",
       "        clearInterval(timer);\n",
       "        embed_document(root);\n",
       "      } else {\n",
       "        attempts++;\n",
       "        if (attempts > 100) {\n",
       "          clearInterval(timer);\n",
       "          console.log(\"Bokeh: ERROR: Unable to run BokehJS code because BokehJS library is missing\");\n",
       "        }\n",
       "      }\n",
       "    }, 10, root)\n",
       "  }\n",
       "})(window);"
      ],
      "application/vnd.bokehjs_exec.v0+json": ""
     },
     "metadata": {
      "application/vnd.bokehjs_exec.v0+json": {
       "id": "2360"
      }
     },
     "output_type": "display_data"
    }
   ],
   "source": [
    "tab1=Panel(child=p1, title=\"Asia\")\n",
    "tab2=Panel(child=p2, title=\"Europe\")\n",
    "tab3=Panel(child=p3, title=\"Africa\")\n",
    "layout=Tabs(tabs=[tab1, tab2, tab3])\n",
    "show(layout)"
   ]
  },
  {
   "cell_type": "code",
   "execution_count": 20,
   "metadata": {},
   "outputs": [
    {
     "data": {
      "text/html": [
       "\n",
       "\n",
       "\n",
       "\n",
       "\n",
       "\n",
       "  <div class=\"bk-root\" id=\"80f215b7-08ac-47bb-abf5-16a2ca42bd0b\" data-root-id=\"2676\"></div>\n"
      ]
     },
     "metadata": {},
     "output_type": "display_data"
    },
    {
     "data": {
      "application/javascript": [
       "(function(root) {\n",
       "  function embed_document(root) {\n",
       "    \n",
       "  var docs_json = {\"872f8f92-c4a1-4b05-8901-d4716a809b59\":{\"defs\":[],\"roots\":{\"references\":[{\"attributes\":{\"tabs\":[{\"id\":\"2672\"},{\"id\":\"2674\"},{\"id\":\"2675\"}]},\"id\":\"2676\",\"type\":\"Tabs\"},{\"attributes\":{},\"id\":\"1598\",\"type\":\"Selection\"},{\"attributes\":{},\"id\":\"1599\",\"type\":\"UnionRenderers\"},{\"attributes\":{},\"id\":\"1589\",\"type\":\"AllLabels\"},{\"attributes\":{},\"id\":\"1590\",\"type\":\"BasicTickFormatter\"},{\"attributes\":{},\"id\":\"1592\",\"type\":\"AllLabels\"},{\"attributes\":{},\"id\":\"1593\",\"type\":\"BasicTickFormatter\"},{\"attributes\":{\"formatter\":{\"id\":\"1590\"},\"major_label_policy\":{\"id\":\"1589\"},\"ticker\":{\"id\":\"1466\"}},\"id\":\"1465\",\"type\":\"LinearAxis\"},{\"attributes\":{},\"id\":\"1459\",\"type\":\"LinearScale\"},{\"attributes\":{},\"id\":\"1453\",\"type\":\"DataRange1d\"},{\"attributes\":{\"text\":\"Africa continent\"},\"id\":\"1484\",\"type\":\"Title\"},{\"attributes\":{},\"id\":\"1455\",\"type\":\"DataRange1d\"},{\"attributes\":{},\"id\":\"1474\",\"type\":\"HelpTool\"},{\"attributes\":{},\"id\":\"1457\",\"type\":\"LinearScale\"},{\"attributes\":{\"formatter\":{\"id\":\"1593\"},\"major_label_policy\":{\"id\":\"1592\"},\"ticker\":{\"id\":\"1462\"}},\"id\":\"1461\",\"type\":\"LinearAxis\"},{\"attributes\":{},\"id\":\"1462\",\"type\":\"BasicTicker\"},{\"attributes\":{\"axis\":{\"id\":\"1461\"},\"ticker\":null},\"id\":\"1464\",\"type\":\"Grid\"},{\"attributes\":{\"axis\":{\"id\":\"1465\"},\"dimension\":1,\"ticker\":null},\"id\":\"1468\",\"type\":\"Grid\"},{\"attributes\":{},\"id\":\"1601\",\"type\":\"Selection\"},{\"attributes\":{},\"id\":\"1466\",\"type\":\"BasicTicker\"},{\"attributes\":{},\"id\":\"1470\",\"type\":\"WheelZoomTool\"},{\"attributes\":{},\"id\":\"1602\",\"type\":\"UnionRenderers\"},{\"attributes\":{},\"id\":\"1469\",\"type\":\"PanTool\"},{\"attributes\":{\"overlay\":{\"id\":\"1475\"}},\"id\":\"1471\",\"type\":\"BoxZoomTool\"},{\"attributes\":{},\"id\":\"1472\",\"type\":\"SaveTool\"},{\"attributes\":{},\"id\":\"1473\",\"type\":\"ResetTool\"},{\"attributes\":{},\"id\":\"1595\",\"type\":\"Selection\"},{\"attributes\":{},\"id\":\"1596\",\"type\":\"UnionRenderers\"},{\"attributes\":{\"bottom_units\":\"screen\",\"fill_alpha\":0.5,\"fill_color\":\"lightgrey\",\"left_units\":\"screen\",\"level\":\"overlay\",\"line_alpha\":1.0,\"line_color\":\"black\",\"line_dash\":[4,4],\"line_width\":2,\"right_units\":\"screen\",\"syncable\":false,\"top_units\":\"screen\"},\"id\":\"1475\",\"type\":\"BoxAnnotation\"},{\"attributes\":{},\"id\":\"1422\",\"type\":\"DataRange1d\"},{\"attributes\":{\"active_multi\":null,\"tools\":[{\"id\":\"1469\"},{\"id\":\"1470\"},{\"id\":\"1471\"},{\"id\":\"1472\"},{\"id\":\"1473\"},{\"id\":\"1474\"}]},\"id\":\"1476\",\"type\":\"Toolbar\"},{\"attributes\":{\"children\":[{\"id\":\"1450\"},{\"id\":\"1483\"}]},\"id\":\"2673\",\"type\":\"Column\"},{\"attributes\":{\"formatter\":{\"id\":\"1578\"},\"major_label_policy\":{\"id\":\"1577\"},\"ticker\":{\"id\":\"1499\"}},\"id\":\"1498\",\"type\":\"LinearAxis\"},{\"attributes\":{\"child\":{\"id\":\"2673\"},\"title\":\"Second tab\"},\"id\":\"2674\",\"type\":\"Panel\"},{\"attributes\":{\"children\":[{\"id\":\"1417\"},{\"id\":\"1450\"}]},\"id\":\"2671\",\"type\":\"Row\"},{\"attributes\":{\"child\":{\"id\":\"2671\"},\"title\":\"First tab\"},\"id\":\"2672\",\"type\":\"Panel\"},{\"attributes\":{},\"id\":\"1492\",\"type\":\"LinearScale\"},{\"attributes\":{},\"id\":\"1486\",\"type\":\"DataRange1d\"},{\"attributes\":{\"fill_color\":{\"value\":\"firebrick\"},\"line_color\":{\"value\":\"firebrick\"},\"size\":{\"value\":10},\"x\":{\"field\":\"x\"},\"y\":{\"field\":\"y\"}},\"id\":\"1517\",\"type\":\"Circle\"},{\"attributes\":{},\"id\":\"1488\",\"type\":\"DataRange1d\"},{\"attributes\":{},\"id\":\"1507\",\"type\":\"HelpTool\"},{\"attributes\":{},\"id\":\"1490\",\"type\":\"LinearScale\"},{\"attributes\":{\"formatter\":{\"id\":\"1581\"},\"major_label_policy\":{\"id\":\"1580\"},\"ticker\":{\"id\":\"1495\"}},\"id\":\"1494\",\"type\":\"LinearAxis\"},{\"attributes\":{\"child\":{\"id\":\"1483\"},\"title\":\"Africa\"},\"id\":\"2675\",\"type\":\"Panel\"},{\"attributes\":{},\"id\":\"1495\",\"type\":\"BasicTicker\"},{\"attributes\":{\"axis\":{\"id\":\"1494\"},\"ticker\":null},\"id\":\"1497\",\"type\":\"Grid\"},{\"attributes\":{},\"id\":\"1577\",\"type\":\"AllLabels\"},{\"attributes\":{},\"id\":\"1578\",\"type\":\"BasicTickFormatter\"},{\"attributes\":{\"axis\":{\"id\":\"1498\"},\"dimension\":1,\"ticker\":null},\"id\":\"1501\",\"type\":\"Grid\"},{\"attributes\":{},\"id\":\"1499\",\"type\":\"BasicTicker\"},{\"attributes\":{},\"id\":\"1426\",\"type\":\"LinearScale\"},{\"attributes\":{},\"id\":\"1580\",\"type\":\"AllLabels\"},{\"attributes\":{\"data\":{\"x\":{\"__ndarray__\":\"fT81XrpJ9j/Jdr6fGi/1P39qvHSTGP4/bxKDwMqh/T89CtejcD32Py2yne+nxvU/sHJoke189z8Sg8DKoUX0PzMzMzMzM/U/wcqhRbbz+z8pXI/C9Sj2PyUGgZVDi/w/PzVeukkM9j8zMzMzMzP3P+xRuB6F6/U/5dAi2/l+9D9WDi2yne/9P1yPwvUoXPc/YOXQItv59j+YbhKDwMr5Py/dJAaBlf0/x0s3iUFg/T8pXI/C9Sj+P99PjZduEvc/c2iR7Xw//z8xCKwcWmTzP9V46SYxCPg/rBxaZDvf9T9Ei2zn+6n9PzeJQWDl0PY/YOXQItv59j99PzVeukn2P0oMAiuHFvs/qMZLN4lB+D9qvHSTGAT0P1g5tMh2vgBA\",\"dtype\":\"float64\",\"order\":\"little\",\"shape\":[36]},\"y\":{\"__ndarray__\":\"mpmZmZnZWEAAAAAAAMBYQAAAAAAAwFhAAAAAAADAWEAAAAAAAKBYQGZmZmZm5lhAmpmZmZk5WEAzMzMzM9NYQJqZmZmZOVhAAAAAAADAWECamZmZmflXQAAAAAAAwFhAmpmZmZk5V0AAAAAAAMBYQJqZmZmZuVhAzczMzMzsWEAAAAAAAMBYQAAAAAAAwFhAmpmZmZl5WEDNzMzMzAxYQAAAAAAAwFhAAAAAAAAAWUAAAAAAAABZQAAAAAAAgFhAAAAAAADAWECamZmZmflXQDMzMzMzc1hAzczMzMzsWEDNzMzMzKxYQDMzMzMz81hAmpmZmZnZV0DNzMzMzOxYQDMzMzMz81hAzczMzMwsWEAAAAAAAGBXQAAAAAAAwFhA\",\"dtype\":\"float64\",\"order\":\"little\",\"shape\":[36]}},\"selected\":{\"id\":\"1601\"},\"selection_policy\":{\"id\":\"1602\"}},\"id\":\"1521\",\"type\":\"ColumnDataSource\"},{\"attributes\":{},\"id\":\"1503\",\"type\":\"WheelZoomTool\"},{\"attributes\":{},\"id\":\"1581\",\"type\":\"BasicTickFormatter\"},{\"attributes\":{},\"id\":\"1502\",\"type\":\"PanTool\"},{\"attributes\":{\"overlay\":{\"id\":\"1508\"}},\"id\":\"1504\",\"type\":\"BoxZoomTool\"},{\"attributes\":{},\"id\":\"1505\",\"type\":\"SaveTool\"},{\"attributes\":{\"formatter\":{\"id\":\"1587\"},\"major_label_policy\":{\"id\":\"1586\"},\"ticker\":{\"id\":\"1429\"}},\"id\":\"1428\",\"type\":\"LinearAxis\"},{\"attributes\":{},\"id\":\"1506\",\"type\":\"ResetTool\"},{\"attributes\":{},\"id\":\"1424\",\"type\":\"LinearScale\"},{\"attributes\":{\"bottom_units\":\"screen\",\"fill_alpha\":0.5,\"fill_color\":\"lightgrey\",\"left_units\":\"screen\",\"level\":\"overlay\",\"line_alpha\":1.0,\"line_color\":\"black\",\"line_dash\":[4,4],\"line_width\":2,\"right_units\":\"screen\",\"syncable\":false,\"top_units\":\"screen\"},\"id\":\"1508\",\"type\":\"BoxAnnotation\"},{\"attributes\":{\"data_source\":{\"id\":\"1521\"},\"glyph\":{\"id\":\"1522\"},\"hover_glyph\":null,\"muted_glyph\":null,\"nonselection_glyph\":{\"id\":\"1523\"},\"view\":{\"id\":\"1525\"}},\"id\":\"1524\",\"type\":\"GlyphRenderer\"},{\"attributes\":{\"source\":{\"id\":\"1516\"}},\"id\":\"1520\",\"type\":\"CDSView\"},{\"attributes\":{\"below\":[{\"id\":\"1461\"}],\"center\":[{\"id\":\"1464\"},{\"id\":\"1468\"}],\"height\":300,\"left\":[{\"id\":\"1465\"}],\"renderers\":[{\"id\":\"1524\"}],\"title\":{\"id\":\"1451\"},\"toolbar\":{\"id\":\"1476\"},\"toolbar_location\":null,\"width\":300,\"x_range\":{\"id\":\"1453\"},\"x_scale\":{\"id\":\"1457\"},\"y_range\":{\"id\":\"1455\"},\"y_scale\":{\"id\":\"1459\"}},\"id\":\"1450\",\"subtype\":\"Figure\",\"type\":\"Plot\"},{\"attributes\":{\"text\":\"Europe continent\"},\"id\":\"1451\",\"type\":\"Title\"},{\"attributes\":{\"below\":[{\"id\":\"1428\"}],\"center\":[{\"id\":\"1431\"},{\"id\":\"1435\"}],\"height\":300,\"left\":[{\"id\":\"1432\"}],\"renderers\":[{\"id\":\"1519\"}],\"title\":{\"id\":\"1418\"},\"toolbar\":{\"id\":\"1443\"},\"toolbar_location\":null,\"width\":300,\"x_range\":{\"id\":\"1420\"},\"x_scale\":{\"id\":\"1424\"},\"y_range\":{\"id\":\"1422\"},\"y_scale\":{\"id\":\"1426\"}},\"id\":\"1417\",\"subtype\":\"Figure\",\"type\":\"Plot\"},{\"attributes\":{\"below\":[{\"id\":\"1494\"}],\"center\":[{\"id\":\"1497\"},{\"id\":\"1501\"}],\"height\":300,\"left\":[{\"id\":\"1498\"}],\"renderers\":[{\"id\":\"1529\"}],\"title\":{\"id\":\"1484\"},\"toolbar\":{\"id\":\"1509\"},\"toolbar_location\":null,\"width\":300,\"x_range\":{\"id\":\"1486\"},\"x_scale\":{\"id\":\"1490\"},\"y_range\":{\"id\":\"1488\"},\"y_scale\":{\"id\":\"1492\"}},\"id\":\"1483\",\"subtype\":\"Figure\",\"type\":\"Plot\"},{\"attributes\":{\"text\":\"Asia continent\"},\"id\":\"1418\",\"type\":\"Title\"},{\"attributes\":{},\"id\":\"1420\",\"type\":\"DataRange1d\"},{\"attributes\":{\"active_multi\":null,\"tools\":[{\"id\":\"1502\"},{\"id\":\"1503\"},{\"id\":\"1504\"},{\"id\":\"1505\"},{\"id\":\"1506\"},{\"id\":\"1507\"}]},\"id\":\"1509\",\"type\":\"Toolbar\"},{\"attributes\":{},\"id\":\"1429\",\"type\":\"BasicTicker\"},{\"attributes\":{\"axis\":{\"id\":\"1428\"},\"ticker\":null},\"id\":\"1431\",\"type\":\"Grid\"},{\"attributes\":{},\"id\":\"1441\",\"type\":\"HelpTool\"},{\"attributes\":{\"formatter\":{\"id\":\"1584\"},\"major_label_policy\":{\"id\":\"1583\"},\"ticker\":{\"id\":\"1433\"}},\"id\":\"1432\",\"type\":\"LinearAxis\"},{\"attributes\":{\"fill_alpha\":{\"value\":0.1},\"fill_color\":{\"value\":\"DarkBlue\"},\"line_alpha\":{\"value\":0.1},\"line_color\":{\"value\":\"DarkBlue\"},\"size\":{\"value\":10},\"x\":{\"field\":\"x\"},\"y\":{\"field\":\"y\"}},\"id\":\"1528\",\"type\":\"Circle\"},{\"attributes\":{\"axis\":{\"id\":\"1432\"},\"dimension\":1,\"ticker\":null},\"id\":\"1435\",\"type\":\"Grid\"},{\"attributes\":{},\"id\":\"1583\",\"type\":\"AllLabels\"},{\"attributes\":{},\"id\":\"1433\",\"type\":\"BasicTicker\"},{\"attributes\":{\"fill_color\":{\"value\":\"DarkOrange\"},\"line_color\":{\"value\":\"DarkOrange\"},\"size\":{\"value\":10},\"x\":{\"field\":\"x\"},\"y\":{\"field\":\"y\"}},\"id\":\"1522\",\"type\":\"Circle\"},{\"attributes\":{},\"id\":\"1584\",\"type\":\"BasicTickFormatter\"},{\"attributes\":{\"data\":{\"x\":{\"__ndarray__\":\"5/up8dJN/D/b+X5qvHQFQHWTGARWDgFAYOXQItv5DkDn+6nx0k0CQP7UeOkmMfQ/aJHtfD81CEDdJAaBlUMAQM3MzMzMzABA5dAi2/l+/D/0/dR46Sb9P3Noke18PwJAL90kBoGV8z/jpZvEILAPQIXrUbgeBRpAL90kBoGVBkCWQ4ts5/sBQKrx0k1iEARAUrgehetRCEBEi2zn+6n9P2ZmZmZmZhRA/Knx0k1iCUAQWDm0yHYCQCcxCKwcWgJArBxaZDvfBkDTTWIQWDkBQGq8dJMYBAZAzczMzMzMCkBSuB6F61ELQPT91HjpJghAvp8aL90kBEBxPQrXo3ADQGiR7Xw/NfQ//Knx0k1i/j8dWmQ730/5P9v5fmq8dP0/K4cW2c73+z9t5/up8dIHQJ7vp8ZLNwFAAiuHFtnO/z/hehSuR+ECQHe+nxov3QFAGy/dJAaBBEC28/3UeOnuP9Ei2/l+agBAAAAAAAAAAEAGgZVDi2wPQA==\",\"dtype\":\"float64\",\"order\":\"little\",\"shape\":[47]},\"y\":{\"__ndarray__\":\"AAAAAACgVkBmZmZmZmZJQDMzMzMzM1ZAAAAAAAAAREBmZmZmZuZIQAAAAAAAwFhAmpmZmZl5V0DNzMzMzIxWQDMzMzMzU1RAzczMzMxMU0AAAAAAAOBWQM3MzMzMTFZAZmZmZmYmWEDNzMzMzExRQDMzMzMzMylAMzMzMzOzRkCamZmZmblYQDMzMzMzc1ZAzczMzMwMVEAAAAAAAABZQGZmZmZmZkVAzczMzMxMU0BmZmZmZkZWQAAAAAAA4FhAmpmZmZm5UUDNzMzMzMxYQJqZmZmZ+VdAAAAAAADgWECamZmZmZlPQJqZmZmZOVZAZmZmZmbGWEAzMzMzM9NYQGZmZmZm5lZAAAAAAADgVkDNzMzMzOxYQAAAAAAAgFVAmpmZmZnZWECamZmZmTlUQGZmZmZmRldAMzMzMzNzWECamZmZmZlWQJqZmZmZWVZAmpmZmZlZQ0DNzMzMzKxWQDMzMzMzU1dAmpmZmZmZWEBmZmZmZsZYQA==\",\"dtype\":\"float64\",\"order\":\"little\",\"shape\":[47]}},\"selected\":{\"id\":\"1598\"},\"selection_policy\":{\"id\":\"1599\"}},\"id\":\"1516\",\"type\":\"ColumnDataSource\"},{\"attributes\":{\"active_multi\":null,\"tools\":[{\"id\":\"1436\"},{\"id\":\"1437\"},{\"id\":\"1438\"},{\"id\":\"1439\"},{\"id\":\"1440\"},{\"id\":\"1441\"}]},\"id\":\"1443\",\"type\":\"Toolbar\"},{\"attributes\":{},\"id\":\"1437\",\"type\":\"WheelZoomTool\"},{\"attributes\":{},\"id\":\"1436\",\"type\":\"PanTool\"},{\"attributes\":{},\"id\":\"1586\",\"type\":\"AllLabels\"},{\"attributes\":{\"fill_alpha\":{\"value\":0.1},\"fill_color\":{\"value\":\"firebrick\"},\"line_alpha\":{\"value\":0.1},\"line_color\":{\"value\":\"firebrick\"},\"size\":{\"value\":10},\"x\":{\"field\":\"x\"},\"y\":{\"field\":\"y\"}},\"id\":\"1518\",\"type\":\"Circle\"},{\"attributes\":{\"overlay\":{\"id\":\"1442\"}},\"id\":\"1438\",\"type\":\"BoxZoomTool\"},{\"attributes\":{},\"id\":\"1439\",\"type\":\"SaveTool\"},{\"attributes\":{},\"id\":\"1587\",\"type\":\"BasicTickFormatter\"},{\"attributes\":{},\"id\":\"1440\",\"type\":\"ResetTool\"},{\"attributes\":{\"fill_alpha\":{\"value\":0.1},\"fill_color\":{\"value\":\"DarkOrange\"},\"line_alpha\":{\"value\":0.1},\"line_color\":{\"value\":\"DarkOrange\"},\"size\":{\"value\":10},\"x\":{\"field\":\"x\"},\"y\":{\"field\":\"y\"}},\"id\":\"1523\",\"type\":\"Circle\"},{\"attributes\":{\"data_source\":{\"id\":\"1516\"},\"glyph\":{\"id\":\"1517\"},\"hover_glyph\":null,\"muted_glyph\":null,\"nonselection_glyph\":{\"id\":\"1518\"},\"view\":{\"id\":\"1520\"}},\"id\":\"1519\",\"type\":\"GlyphRenderer\"},{\"attributes\":{\"data\":{\"x\":{\"__ndarray__\":\"/tR46SaxFEC6SQwCK4cGQPLSTWIQ2BRAbxKDwMqhF0AK16NwPQoEQBSuR+F6FBZACKwcWmQ7EEBWDi2ynW8TQCPb+X5qvAJAarx0kxgEGUB56SYxCKwCQOF6FK5H4RBAke18PzXeE0B1kxgEVg4SQHsUrkfhehJARIts5/spEkA/NV66SYwWQHe+nxovXRdAUrgehevRFUAtsp3vp0YcQB+F61G4nhVAppvEILDyFkCBlUOLbOcKQI/C9ShcjxNAbef7qfFSGEDb+X5qvHT9PzeJQWDlUBVAUrgehetRFUBQjZduEoMVQM3MzMzMzBFARIts5/upEECJQWDl0CIFQClcj8L1qBRA6SYxCKwcEkB9PzVeuskSQCUGgZVDCxRAWmQ730+NEUBSuB6F61EKQOkmMQisHApA+n5qvHSTBkDHSzeJQeATQIlBYOXQohZA7FG4HoXrCUB56SYxCKz8P5qZmZmZmQtAbxKDwMohFUAUrkfhehQPQOf7qfHSTQVAWDm0yHa+DUA=\",\"dtype\":\"float64\",\"order\":\"little\",\"shape\":[49]},\"y\":{\"__ndarray__\":\"ZmZmZmZmSEBmZmZmZuZMQM3MzMzMzDZAzczMzMwMTEBmZmZmZgZWQDMzMzMzk1BAzczMzMzMTUAzMzMzM7NUQDMzMzMz809AMzMzMzOzUEDNzMzMzAxGQGZmZmZmpk1AzczMzMwMREBmZmZmZiZGQDMzMzMzU1BAMzMzMzPzUEAAAAAAAIBMQJqZmZmZmTVAMzMzMzNzUEAzMzMzMzMuQDMzMzMzMzJAAAAAAACATkAzMzMzMzNWQAAAAAAAgEBAZmZmZmbmNUAAAAAAAMBRQGZmZmZmZjpAZmZmZmaGUECamZmZmRk8QDMzMzMz801AmpmZmZnZSkAzMzMzM1NUQGZmZmZm5jxAAAAAAABAS0DNzMzMzIxEQAAAAAAAgEpAAAAAAADASEDNzMzMzOxVQGZmZmZmxldAAAAAAADgVEBmZmZmZiZBQAAAAAAAQEJAzczMzMzMVEAzMzMzMzNVQGZmZmZmZlVAZmZmZmZGVkAzMzMzM/NQQDMzMzMz01NAMzMzMzPTVEA=\",\"dtype\":\"float64\",\"order\":\"little\",\"shape\":[49]}},\"selected\":{\"id\":\"1595\"},\"selection_policy\":{\"id\":\"1596\"}},\"id\":\"1526\",\"type\":\"ColumnDataSource\"},{\"attributes\":{\"fill_color\":{\"value\":\"DarkBlue\"},\"line_color\":{\"value\":\"DarkBlue\"},\"size\":{\"value\":10},\"x\":{\"field\":\"x\"},\"y\":{\"field\":\"y\"}},\"id\":\"1527\",\"type\":\"Circle\"},{\"attributes\":{\"source\":{\"id\":\"1526\"}},\"id\":\"1530\",\"type\":\"CDSView\"},{\"attributes\":{\"source\":{\"id\":\"1521\"}},\"id\":\"1525\",\"type\":\"CDSView\"},{\"attributes\":{\"data_source\":{\"id\":\"1526\"},\"glyph\":{\"id\":\"1527\"},\"hover_glyph\":null,\"muted_glyph\":null,\"nonselection_glyph\":{\"id\":\"1528\"},\"view\":{\"id\":\"1530\"}},\"id\":\"1529\",\"type\":\"GlyphRenderer\"},{\"attributes\":{\"bottom_units\":\"screen\",\"fill_alpha\":0.5,\"fill_color\":\"lightgrey\",\"left_units\":\"screen\",\"level\":\"overlay\",\"line_alpha\":1.0,\"line_color\":\"black\",\"line_dash\":[4,4],\"line_width\":2,\"right_units\":\"screen\",\"syncable\":false,\"top_units\":\"screen\"},\"id\":\"1442\",\"type\":\"BoxAnnotation\"}],\"root_ids\":[\"2676\"]},\"title\":\"Bokeh Application\",\"version\":\"2.3.2\"}};\n",
       "  var render_items = [{\"docid\":\"872f8f92-c4a1-4b05-8901-d4716a809b59\",\"root_ids\":[\"2676\"],\"roots\":{\"2676\":\"80f215b7-08ac-47bb-abf5-16a2ca42bd0b\"}}];\n",
       "  root.Bokeh.embed.embed_items_notebook(docs_json, render_items);\n",
       "\n",
       "  }\n",
       "  if (root.Bokeh !== undefined) {\n",
       "    embed_document(root);\n",
       "  } else {\n",
       "    var attempts = 0;\n",
       "    var timer = setInterval(function(root) {\n",
       "      if (root.Bokeh !== undefined) {\n",
       "        clearInterval(timer);\n",
       "        embed_document(root);\n",
       "      } else {\n",
       "        attempts++;\n",
       "        if (attempts > 100) {\n",
       "          clearInterval(timer);\n",
       "          console.log(\"Bokeh: ERROR: Unable to run BokehJS code because BokehJS library is missing\");\n",
       "        }\n",
       "      }\n",
       "    }, 10, root)\n",
       "  }\n",
       "})(window);"
      ],
      "application/vnd.bokehjs_exec.v0+json": ""
     },
     "metadata": {
      "application/vnd.bokehjs_exec.v0+json": {
       "id": "2676"
      }
     },
     "output_type": "display_data"
    }
   ],
   "source": [
    "tab1=Panel(child=row(p1, p2), title=\"First tab\")\n",
    "tab2=Panel(child=column(p2,p3), title=\"Second tab\")\n",
    "tab3=Panel(child=p3, title=\"Africa\")\n",
    "layout=Tabs(tabs=[tab1, tab2, tab3])\n",
    "show(layout)"
   ]
  },
  {
   "cell_type": "markdown",
   "metadata": {},
   "source": [
    "### Linking axes"
   ]
  },
  {
   "cell_type": "code",
   "execution_count": 21,
   "metadata": {},
   "outputs": [
    {
     "data": {
      "text/html": [
       "\n",
       "\n",
       "\n",
       "\n",
       "\n",
       "\n",
       "  <div class=\"bk-root\" id=\"bd4fee89-c405-467d-a022-1781ae0ce09c\" data-root-id=\"3813\"></div>\n"
      ]
     },
     "metadata": {},
     "output_type": "display_data"
    },
    {
     "data": {
      "application/javascript": [
       "(function(root) {\n",
       "  function embed_document(root) {\n",
       "    \n",
       "  var docs_json = {\"d65f94d6-40b2-4fbf-929e-be315129367d\":{\"defs\":[],\"roots\":{\"references\":[{\"attributes\":{\"children\":[{\"id\":\"3812\"},{\"id\":\"3810\"}]},\"id\":\"3813\",\"type\":\"Column\"},{\"attributes\":{},\"id\":\"1598\",\"type\":\"Selection\"},{\"attributes\":{},\"id\":\"1599\",\"type\":\"UnionRenderers\"},{\"attributes\":{\"children\":[[{\"id\":\"1417\"},0,0],[{\"id\":\"1450\"},0,1],[{\"id\":\"1483\"},1,0]]},\"id\":\"3810\",\"type\":\"GridBox\"},{\"attributes\":{},\"id\":\"1589\",\"type\":\"AllLabels\"},{\"attributes\":{},\"id\":\"1590\",\"type\":\"BasicTickFormatter\"},{\"attributes\":{},\"id\":\"1592\",\"type\":\"AllLabels\"},{\"attributes\":{},\"id\":\"1593\",\"type\":\"BasicTickFormatter\"},{\"attributes\":{\"formatter\":{\"id\":\"1590\"},\"major_label_policy\":{\"id\":\"1589\"},\"ticker\":{\"id\":\"1466\"}},\"id\":\"1465\",\"type\":\"LinearAxis\"},{\"attributes\":{},\"id\":\"1459\",\"type\":\"LinearScale\"},{\"attributes\":{\"text\":\"Africa continent\"},\"id\":\"1484\",\"type\":\"Title\"},{\"attributes\":{},\"id\":\"1474\",\"type\":\"HelpTool\"},{\"attributes\":{},\"id\":\"1457\",\"type\":\"LinearScale\"},{\"attributes\":{\"formatter\":{\"id\":\"1593\"},\"major_label_policy\":{\"id\":\"1592\"},\"ticker\":{\"id\":\"1462\"}},\"id\":\"1461\",\"type\":\"LinearAxis\"},{\"attributes\":{},\"id\":\"1462\",\"type\":\"BasicTicker\"},{\"attributes\":{\"axis\":{\"id\":\"1461\"},\"ticker\":null},\"id\":\"1464\",\"type\":\"Grid\"},{\"attributes\":{\"axis\":{\"id\":\"1465\"},\"dimension\":1,\"ticker\":null},\"id\":\"1468\",\"type\":\"Grid\"},{\"attributes\":{},\"id\":\"1601\",\"type\":\"Selection\"},{\"attributes\":{},\"id\":\"1466\",\"type\":\"BasicTicker\"},{\"attributes\":{},\"id\":\"1470\",\"type\":\"WheelZoomTool\"},{\"attributes\":{},\"id\":\"1602\",\"type\":\"UnionRenderers\"},{\"attributes\":{},\"id\":\"1469\",\"type\":\"PanTool\"},{\"attributes\":{\"overlay\":{\"id\":\"1475\"}},\"id\":\"1471\",\"type\":\"BoxZoomTool\"},{\"attributes\":{},\"id\":\"1472\",\"type\":\"SaveTool\"},{\"attributes\":{},\"id\":\"1473\",\"type\":\"ResetTool\"},{\"attributes\":{},\"id\":\"1595\",\"type\":\"Selection\"},{\"attributes\":{},\"id\":\"1596\",\"type\":\"UnionRenderers\"},{\"attributes\":{\"bottom_units\":\"screen\",\"fill_alpha\":0.5,\"fill_color\":\"lightgrey\",\"left_units\":\"screen\",\"level\":\"overlay\",\"line_alpha\":1.0,\"line_color\":\"black\",\"line_dash\":[4,4],\"line_width\":2,\"right_units\":\"screen\",\"syncable\":false,\"top_units\":\"screen\"},\"id\":\"1475\",\"type\":\"BoxAnnotation\"},{\"attributes\":{\"active_multi\":null,\"tools\":[{\"id\":\"1469\"},{\"id\":\"1470\"},{\"id\":\"1471\"},{\"id\":\"1472\"},{\"id\":\"1473\"},{\"id\":\"1474\"}]},\"id\":\"1476\",\"type\":\"Toolbar\"},{\"attributes\":{\"formatter\":{\"id\":\"1578\"},\"major_label_policy\":{\"id\":\"1577\"},\"ticker\":{\"id\":\"1499\"}},\"id\":\"1498\",\"type\":\"LinearAxis\"},{\"attributes\":{},\"id\":\"1492\",\"type\":\"LinearScale\"},{\"attributes\":{},\"id\":\"1486\",\"type\":\"DataRange1d\"},{\"attributes\":{\"fill_color\":{\"value\":\"firebrick\"},\"line_color\":{\"value\":\"firebrick\"},\"size\":{\"value\":10},\"x\":{\"field\":\"x\"},\"y\":{\"field\":\"y\"}},\"id\":\"1517\",\"type\":\"Circle\"},{\"attributes\":{},\"id\":\"1488\",\"type\":\"DataRange1d\"},{\"attributes\":{},\"id\":\"1507\",\"type\":\"HelpTool\"},{\"attributes\":{},\"id\":\"1490\",\"type\":\"LinearScale\"},{\"attributes\":{\"formatter\":{\"id\":\"1581\"},\"major_label_policy\":{\"id\":\"1580\"},\"ticker\":{\"id\":\"1495\"}},\"id\":\"1494\",\"type\":\"LinearAxis\"},{\"attributes\":{},\"id\":\"1495\",\"type\":\"BasicTicker\"},{\"attributes\":{\"axis\":{\"id\":\"1494\"},\"ticker\":null},\"id\":\"1497\",\"type\":\"Grid\"},{\"attributes\":{},\"id\":\"1577\",\"type\":\"AllLabels\"},{\"attributes\":{},\"id\":\"1578\",\"type\":\"BasicTickFormatter\"},{\"attributes\":{\"axis\":{\"id\":\"1498\"},\"dimension\":1,\"ticker\":null},\"id\":\"1501\",\"type\":\"Grid\"},{\"attributes\":{},\"id\":\"1499\",\"type\":\"BasicTicker\"},{\"attributes\":{},\"id\":\"1426\",\"type\":\"LinearScale\"},{\"attributes\":{\"data\":{\"x\":{\"__ndarray__\":\"fT81XrpJ9j/Jdr6fGi/1P39qvHSTGP4/bxKDwMqh/T89CtejcD32Py2yne+nxvU/sHJoke189z8Sg8DKoUX0PzMzMzMzM/U/wcqhRbbz+z8pXI/C9Sj2PyUGgZVDi/w/PzVeukkM9j8zMzMzMzP3P+xRuB6F6/U/5dAi2/l+9D9WDi2yne/9P1yPwvUoXPc/YOXQItv59j+YbhKDwMr5Py/dJAaBlf0/x0s3iUFg/T8pXI/C9Sj+P99PjZduEvc/c2iR7Xw//z8xCKwcWmTzP9V46SYxCPg/rBxaZDvf9T9Ei2zn+6n9PzeJQWDl0PY/YOXQItv59j99PzVeukn2P0oMAiuHFvs/qMZLN4lB+D9qvHSTGAT0P1g5tMh2vgBA\",\"dtype\":\"float64\",\"order\":\"little\",\"shape\":[36]},\"y\":{\"__ndarray__\":\"mpmZmZnZWEAAAAAAAMBYQAAAAAAAwFhAAAAAAADAWEAAAAAAAKBYQGZmZmZm5lhAmpmZmZk5WEAzMzMzM9NYQJqZmZmZOVhAAAAAAADAWECamZmZmflXQAAAAAAAwFhAmpmZmZk5V0AAAAAAAMBYQJqZmZmZuVhAzczMzMzsWEAAAAAAAMBYQAAAAAAAwFhAmpmZmZl5WEDNzMzMzAxYQAAAAAAAwFhAAAAAAAAAWUAAAAAAAABZQAAAAAAAgFhAAAAAAADAWECamZmZmflXQDMzMzMzc1hAzczMzMzsWEDNzMzMzKxYQDMzMzMz81hAmpmZmZnZV0DNzMzMzOxYQDMzMzMz81hAzczMzMwsWEAAAAAAAGBXQAAAAAAAwFhA\",\"dtype\":\"float64\",\"order\":\"little\",\"shape\":[36]}},\"selected\":{\"id\":\"1601\"},\"selection_policy\":{\"id\":\"1602\"}},\"id\":\"1521\",\"type\":\"ColumnDataSource\"},{\"attributes\":{},\"id\":\"1580\",\"type\":\"AllLabels\"},{\"attributes\":{},\"id\":\"1503\",\"type\":\"WheelZoomTool\"},{\"attributes\":{},\"id\":\"1581\",\"type\":\"BasicTickFormatter\"},{\"attributes\":{},\"id\":\"1502\",\"type\":\"PanTool\"},{\"attributes\":{\"overlay\":{\"id\":\"1508\"}},\"id\":\"1504\",\"type\":\"BoxZoomTool\"},{\"attributes\":{},\"id\":\"1505\",\"type\":\"SaveTool\"},{\"attributes\":{},\"id\":\"1506\",\"type\":\"ResetTool\"},{\"attributes\":{\"formatter\":{\"id\":\"1587\"},\"major_label_policy\":{\"id\":\"1586\"},\"ticker\":{\"id\":\"1429\"}},\"id\":\"1428\",\"type\":\"LinearAxis\"},{\"attributes\":{},\"id\":\"1424\",\"type\":\"LinearScale\"},{\"attributes\":{\"bottom_units\":\"screen\",\"fill_alpha\":0.5,\"fill_color\":\"lightgrey\",\"left_units\":\"screen\",\"level\":\"overlay\",\"line_alpha\":1.0,\"line_color\":\"black\",\"line_dash\":[4,4],\"line_width\":2,\"right_units\":\"screen\",\"syncable\":false,\"top_units\":\"screen\"},\"id\":\"1508\",\"type\":\"BoxAnnotation\"},{\"attributes\":{\"data_source\":{\"id\":\"1521\"},\"glyph\":{\"id\":\"1522\"},\"hover_glyph\":null,\"muted_glyph\":null,\"nonselection_glyph\":{\"id\":\"1523\"},\"view\":{\"id\":\"1525\"}},\"id\":\"1524\",\"type\":\"GlyphRenderer\"},{\"attributes\":{\"source\":{\"id\":\"1516\"}},\"id\":\"1520\",\"type\":\"CDSView\"},{\"attributes\":{\"below\":[{\"id\":\"1461\"}],\"center\":[{\"id\":\"1464\"},{\"id\":\"1468\"}],\"height\":300,\"left\":[{\"id\":\"1465\"}],\"renderers\":[{\"id\":\"1524\"}],\"title\":{\"id\":\"1451\"},\"toolbar\":{\"id\":\"1476\"},\"toolbar_location\":null,\"width\":300,\"x_range\":{\"id\":\"1486\"},\"x_scale\":{\"id\":\"1457\"},\"y_range\":{\"id\":\"1488\"},\"y_scale\":{\"id\":\"1459\"}},\"id\":\"1450\",\"subtype\":\"Figure\",\"type\":\"Plot\"},{\"attributes\":{\"text\":\"Europe continent\"},\"id\":\"1451\",\"type\":\"Title\"},{\"attributes\":{\"below\":[{\"id\":\"1428\"}],\"center\":[{\"id\":\"1431\"},{\"id\":\"1435\"}],\"height\":300,\"left\":[{\"id\":\"1432\"}],\"renderers\":[{\"id\":\"1519\"}],\"title\":{\"id\":\"1418\"},\"toolbar\":{\"id\":\"1443\"},\"toolbar_location\":null,\"width\":300,\"x_range\":{\"id\":\"1486\"},\"x_scale\":{\"id\":\"1424\"},\"y_range\":{\"id\":\"1488\"},\"y_scale\":{\"id\":\"1426\"}},\"id\":\"1417\",\"subtype\":\"Figure\",\"type\":\"Plot\"},{\"attributes\":{\"below\":[{\"id\":\"1494\"}],\"center\":[{\"id\":\"1497\"},{\"id\":\"1501\"}],\"height\":300,\"left\":[{\"id\":\"1498\"}],\"renderers\":[{\"id\":\"1529\"}],\"title\":{\"id\":\"1484\"},\"toolbar\":{\"id\":\"1509\"},\"toolbar_location\":null,\"width\":300,\"x_range\":{\"id\":\"1486\"},\"x_scale\":{\"id\":\"1490\"},\"y_range\":{\"id\":\"1488\"},\"y_scale\":{\"id\":\"1492\"}},\"id\":\"1483\",\"subtype\":\"Figure\",\"type\":\"Plot\"},{\"attributes\":{\"text\":\"Asia continent\"},\"id\":\"1418\",\"type\":\"Title\"},{\"attributes\":{\"active_multi\":null,\"tools\":[{\"id\":\"1502\"},{\"id\":\"1503\"},{\"id\":\"1504\"},{\"id\":\"1505\"},{\"id\":\"1506\"},{\"id\":\"1507\"}]},\"id\":\"1509\",\"type\":\"Toolbar\"},{\"attributes\":{},\"id\":\"1429\",\"type\":\"BasicTicker\"},{\"attributes\":{\"axis\":{\"id\":\"1428\"},\"ticker\":null},\"id\":\"1431\",\"type\":\"Grid\"},{\"attributes\":{},\"id\":\"1441\",\"type\":\"HelpTool\"},{\"attributes\":{\"formatter\":{\"id\":\"1584\"},\"major_label_policy\":{\"id\":\"1583\"},\"ticker\":{\"id\":\"1433\"}},\"id\":\"1432\",\"type\":\"LinearAxis\"},{\"attributes\":{\"fill_alpha\":{\"value\":0.1},\"fill_color\":{\"value\":\"DarkBlue\"},\"line_alpha\":{\"value\":0.1},\"line_color\":{\"value\":\"DarkBlue\"},\"size\":{\"value\":10},\"x\":{\"field\":\"x\"},\"y\":{\"field\":\"y\"}},\"id\":\"1528\",\"type\":\"Circle\"},{\"attributes\":{\"axis\":{\"id\":\"1432\"},\"dimension\":1,\"ticker\":null},\"id\":\"1435\",\"type\":\"Grid\"},{\"attributes\":{},\"id\":\"1583\",\"type\":\"AllLabels\"},{\"attributes\":{},\"id\":\"1433\",\"type\":\"BasicTicker\"},{\"attributes\":{\"fill_color\":{\"value\":\"DarkOrange\"},\"line_color\":{\"value\":\"DarkOrange\"},\"size\":{\"value\":10},\"x\":{\"field\":\"x\"},\"y\":{\"field\":\"y\"}},\"id\":\"1522\",\"type\":\"Circle\"},{\"attributes\":{},\"id\":\"1584\",\"type\":\"BasicTickFormatter\"},{\"attributes\":{\"data\":{\"x\":{\"__ndarray__\":\"5/up8dJN/D/b+X5qvHQFQHWTGARWDgFAYOXQItv5DkDn+6nx0k0CQP7UeOkmMfQ/aJHtfD81CEDdJAaBlUMAQM3MzMzMzABA5dAi2/l+/D/0/dR46Sb9P3Noke18PwJAL90kBoGV8z/jpZvEILAPQIXrUbgeBRpAL90kBoGVBkCWQ4ts5/sBQKrx0k1iEARAUrgehetRCEBEi2zn+6n9P2ZmZmZmZhRA/Knx0k1iCUAQWDm0yHYCQCcxCKwcWgJArBxaZDvfBkDTTWIQWDkBQGq8dJMYBAZAzczMzMzMCkBSuB6F61ELQPT91HjpJghAvp8aL90kBEBxPQrXo3ADQGiR7Xw/NfQ//Knx0k1i/j8dWmQ730/5P9v5fmq8dP0/K4cW2c73+z9t5/up8dIHQJ7vp8ZLNwFAAiuHFtnO/z/hehSuR+ECQHe+nxov3QFAGy/dJAaBBEC28/3UeOnuP9Ei2/l+agBAAAAAAAAAAEAGgZVDi2wPQA==\",\"dtype\":\"float64\",\"order\":\"little\",\"shape\":[47]},\"y\":{\"__ndarray__\":\"AAAAAACgVkBmZmZmZmZJQDMzMzMzM1ZAAAAAAAAAREBmZmZmZuZIQAAAAAAAwFhAmpmZmZl5V0DNzMzMzIxWQDMzMzMzU1RAzczMzMxMU0AAAAAAAOBWQM3MzMzMTFZAZmZmZmYmWEDNzMzMzExRQDMzMzMzMylAMzMzMzOzRkCamZmZmblYQDMzMzMzc1ZAzczMzMwMVEAAAAAAAABZQGZmZmZmZkVAzczMzMxMU0BmZmZmZkZWQAAAAAAA4FhAmpmZmZm5UUDNzMzMzMxYQJqZmZmZ+VdAAAAAAADgWECamZmZmZlPQJqZmZmZOVZAZmZmZmbGWEAzMzMzM9NYQGZmZmZm5lZAAAAAAADgVkDNzMzMzOxYQAAAAAAAgFVAmpmZmZnZWECamZmZmTlUQGZmZmZmRldAMzMzMzNzWECamZmZmZlWQJqZmZmZWVZAmpmZmZlZQ0DNzMzMzKxWQDMzMzMzU1dAmpmZmZmZWEBmZmZmZsZYQA==\",\"dtype\":\"float64\",\"order\":\"little\",\"shape\":[47]}},\"selected\":{\"id\":\"1598\"},\"selection_policy\":{\"id\":\"1599\"}},\"id\":\"1516\",\"type\":\"ColumnDataSource\"},{\"attributes\":{\"active_multi\":null,\"tools\":[{\"id\":\"1436\"},{\"id\":\"1437\"},{\"id\":\"1438\"},{\"id\":\"1439\"},{\"id\":\"1440\"},{\"id\":\"1441\"}]},\"id\":\"1443\",\"type\":\"Toolbar\"},{\"attributes\":{},\"id\":\"1437\",\"type\":\"WheelZoomTool\"},{\"attributes\":{},\"id\":\"1436\",\"type\":\"PanTool\"},{\"attributes\":{},\"id\":\"1586\",\"type\":\"AllLabels\"},{\"attributes\":{\"fill_alpha\":{\"value\":0.1},\"fill_color\":{\"value\":\"firebrick\"},\"line_alpha\":{\"value\":0.1},\"line_color\":{\"value\":\"firebrick\"},\"size\":{\"value\":10},\"x\":{\"field\":\"x\"},\"y\":{\"field\":\"y\"}},\"id\":\"1518\",\"type\":\"Circle\"},{\"attributes\":{\"overlay\":{\"id\":\"1442\"}},\"id\":\"1438\",\"type\":\"BoxZoomTool\"},{\"attributes\":{},\"id\":\"1439\",\"type\":\"SaveTool\"},{\"attributes\":{},\"id\":\"1587\",\"type\":\"BasicTickFormatter\"},{\"attributes\":{},\"id\":\"1440\",\"type\":\"ResetTool\"},{\"attributes\":{\"fill_alpha\":{\"value\":0.1},\"fill_color\":{\"value\":\"DarkOrange\"},\"line_alpha\":{\"value\":0.1},\"line_color\":{\"value\":\"DarkOrange\"},\"size\":{\"value\":10},\"x\":{\"field\":\"x\"},\"y\":{\"field\":\"y\"}},\"id\":\"1523\",\"type\":\"Circle\"},{\"attributes\":{\"data_source\":{\"id\":\"1516\"},\"glyph\":{\"id\":\"1517\"},\"hover_glyph\":null,\"muted_glyph\":null,\"nonselection_glyph\":{\"id\":\"1518\"},\"view\":{\"id\":\"1520\"}},\"id\":\"1519\",\"type\":\"GlyphRenderer\"},{\"attributes\":{\"toolbars\":[{\"id\":\"1443\"},{\"id\":\"1476\"},{\"id\":\"1509\"}],\"tools\":[{\"id\":\"1436\"},{\"id\":\"1437\"},{\"id\":\"1438\"},{\"id\":\"1439\"},{\"id\":\"1440\"},{\"id\":\"1441\"},{\"id\":\"1469\"},{\"id\":\"1470\"},{\"id\":\"1471\"},{\"id\":\"1472\"},{\"id\":\"1473\"},{\"id\":\"1474\"},{\"id\":\"1502\"},{\"id\":\"1503\"},{\"id\":\"1504\"},{\"id\":\"1505\"},{\"id\":\"1506\"},{\"id\":\"1507\"}]},\"id\":\"3811\",\"type\":\"ProxyToolbar\"},{\"attributes\":{\"data\":{\"x\":{\"__ndarray__\":\"/tR46SaxFEC6SQwCK4cGQPLSTWIQ2BRAbxKDwMqhF0AK16NwPQoEQBSuR+F6FBZACKwcWmQ7EEBWDi2ynW8TQCPb+X5qvAJAarx0kxgEGUB56SYxCKwCQOF6FK5H4RBAke18PzXeE0B1kxgEVg4SQHsUrkfhehJARIts5/spEkA/NV66SYwWQHe+nxovXRdAUrgehevRFUAtsp3vp0YcQB+F61G4nhVAppvEILDyFkCBlUOLbOcKQI/C9ShcjxNAbef7qfFSGEDb+X5qvHT9PzeJQWDlUBVAUrgehetRFUBQjZduEoMVQM3MzMzMzBFARIts5/upEECJQWDl0CIFQClcj8L1qBRA6SYxCKwcEkB9PzVeuskSQCUGgZVDCxRAWmQ730+NEUBSuB6F61EKQOkmMQisHApA+n5qvHSTBkDHSzeJQeATQIlBYOXQohZA7FG4HoXrCUB56SYxCKz8P5qZmZmZmQtAbxKDwMohFUAUrkfhehQPQOf7qfHSTQVAWDm0yHa+DUA=\",\"dtype\":\"float64\",\"order\":\"little\",\"shape\":[49]},\"y\":{\"__ndarray__\":\"ZmZmZmZmSEBmZmZmZuZMQM3MzMzMzDZAzczMzMwMTEBmZmZmZgZWQDMzMzMzk1BAzczMzMzMTUAzMzMzM7NUQDMzMzMz809AMzMzMzOzUEDNzMzMzAxGQGZmZmZmpk1AzczMzMwMREBmZmZmZiZGQDMzMzMzU1BAMzMzMzPzUEAAAAAAAIBMQJqZmZmZmTVAMzMzMzNzUEAzMzMzMzMuQDMzMzMzMzJAAAAAAACATkAzMzMzMzNWQAAAAAAAgEBAZmZmZmbmNUAAAAAAAMBRQGZmZmZmZjpAZmZmZmaGUECamZmZmRk8QDMzMzMz801AmpmZmZnZSkAzMzMzM1NUQGZmZmZm5jxAAAAAAABAS0DNzMzMzIxEQAAAAAAAgEpAAAAAAADASEDNzMzMzOxVQGZmZmZmxldAAAAAAADgVEBmZmZmZiZBQAAAAAAAQEJAzczMzMzMVEAzMzMzMzNVQGZmZmZmZlVAZmZmZmZGVkAzMzMzM/NQQDMzMzMz01NAMzMzMzPTVEA=\",\"dtype\":\"float64\",\"order\":\"little\",\"shape\":[49]}},\"selected\":{\"id\":\"1595\"},\"selection_policy\":{\"id\":\"1596\"}},\"id\":\"1526\",\"type\":\"ColumnDataSource\"},{\"attributes\":{\"fill_color\":{\"value\":\"DarkBlue\"},\"line_color\":{\"value\":\"DarkBlue\"},\"size\":{\"value\":10},\"x\":{\"field\":\"x\"},\"y\":{\"field\":\"y\"}},\"id\":\"1527\",\"type\":\"Circle\"},{\"attributes\":{\"source\":{\"id\":\"1526\"}},\"id\":\"1530\",\"type\":\"CDSView\"},{\"attributes\":{\"source\":{\"id\":\"1521\"}},\"id\":\"1525\",\"type\":\"CDSView\"},{\"attributes\":{\"data_source\":{\"id\":\"1526\"},\"glyph\":{\"id\":\"1527\"},\"hover_glyph\":null,\"muted_glyph\":null,\"nonselection_glyph\":{\"id\":\"1528\"},\"view\":{\"id\":\"1530\"}},\"id\":\"1529\",\"type\":\"GlyphRenderer\"},{\"attributes\":{\"toolbar\":{\"id\":\"3811\"},\"toolbar_location\":\"above\"},\"id\":\"3812\",\"type\":\"ToolbarBox\"},{\"attributes\":{\"bottom_units\":\"screen\",\"fill_alpha\":0.5,\"fill_color\":\"lightgrey\",\"left_units\":\"screen\",\"level\":\"overlay\",\"line_alpha\":1.0,\"line_color\":\"black\",\"line_dash\":[4,4],\"line_width\":2,\"right_units\":\"screen\",\"syncable\":false,\"top_units\":\"screen\"},\"id\":\"1442\",\"type\":\"BoxAnnotation\"}],\"root_ids\":[\"3813\"]},\"title\":\"Bokeh Application\",\"version\":\"2.3.2\"}};\n",
       "  var render_items = [{\"docid\":\"d65f94d6-40b2-4fbf-929e-be315129367d\",\"root_ids\":[\"3813\"],\"roots\":{\"3813\":\"bd4fee89-c405-467d-a022-1781ae0ce09c\"}}];\n",
       "  root.Bokeh.embed.embed_items_notebook(docs_json, render_items);\n",
       "\n",
       "  }\n",
       "  if (root.Bokeh !== undefined) {\n",
       "    embed_document(root);\n",
       "  } else {\n",
       "    var attempts = 0;\n",
       "    var timer = setInterval(function(root) {\n",
       "      if (root.Bokeh !== undefined) {\n",
       "        clearInterval(timer);\n",
       "        embed_document(root);\n",
       "      } else {\n",
       "        attempts++;\n",
       "        if (attempts > 100) {\n",
       "          clearInterval(timer);\n",
       "          console.log(\"Bokeh: ERROR: Unable to run BokehJS code because BokehJS library is missing\");\n",
       "        }\n",
       "      }\n",
       "    }, 10, root)\n",
       "  }\n",
       "})(window);"
      ],
      "application/vnd.bokehjs_exec.v0+json": ""
     },
     "metadata": {
      "application/vnd.bokehjs_exec.v0+json": {
       "id": "3813"
      }
     },
     "output_type": "display_data"
    }
   ],
   "source": [
    "p1.x_range=p2.x_range=p3.x_range\n",
    "p1.y_range=p2.y_range=p3.y_range\n",
    "layout=gridplot([p1, p2, p3], ncols=2)\n",
    "show(layout)"
   ]
  },
  {
   "cell_type": "markdown",
   "metadata": {},
   "source": [
    "### Linking Selection"
   ]
  },
  {
   "cell_type": "code",
   "execution_count": null,
   "metadata": {},
   "outputs": [],
   "source": []
  },
  {
   "cell_type": "code",
   "execution_count": null,
   "metadata": {},
   "outputs": [],
   "source": []
  },
  {
   "cell_type": "code",
   "execution_count": null,
   "metadata": {},
   "outputs": [],
   "source": []
  },
  {
   "cell_type": "markdown",
   "metadata": {},
   "source": [
    "### Hovet tooltips"
   ]
  },
  {
   "cell_type": "code",
   "execution_count": 22,
   "metadata": {},
   "outputs": [
    {
     "data": {
      "text/html": [
       "<div>\n",
       "<style scoped>\n",
       "    .dataframe tbody tr th:only-of-type {\n",
       "        vertical-align: middle;\n",
       "    }\n",
       "\n",
       "    .dataframe tbody tr th {\n",
       "        vertical-align: top;\n",
       "    }\n",
       "\n",
       "    .dataframe thead th {\n",
       "        text-align: right;\n",
       "    }\n",
       "</style>\n",
       "<table border=\"1\" class=\"dataframe\">\n",
       "  <thead>\n",
       "    <tr style=\"text-align: right;\">\n",
       "      <th></th>\n",
       "      <th>Country</th>\n",
       "      <th>Continent</th>\n",
       "      <th>female literacy</th>\n",
       "      <th>fertility</th>\n",
       "      <th>population</th>\n",
       "    </tr>\n",
       "  </thead>\n",
       "  <tbody>\n",
       "    <tr>\n",
       "      <th>0</th>\n",
       "      <td>Chine</td>\n",
       "      <td>ASI</td>\n",
       "      <td>90.5</td>\n",
       "      <td>1.769</td>\n",
       "      <td>1.324655e+09</td>\n",
       "    </tr>\n",
       "    <tr>\n",
       "      <th>1</th>\n",
       "      <td>Inde</td>\n",
       "      <td>ASI</td>\n",
       "      <td>50.8</td>\n",
       "      <td>2.682</td>\n",
       "      <td>1.139965e+09</td>\n",
       "    </tr>\n",
       "    <tr>\n",
       "      <th>3</th>\n",
       "      <td>Indonésie</td>\n",
       "      <td>ASI</td>\n",
       "      <td>88.8</td>\n",
       "      <td>2.132</td>\n",
       "      <td>2.273451e+08</td>\n",
       "    </tr>\n",
       "    <tr>\n",
       "      <th>5</th>\n",
       "      <td>Pakistan</td>\n",
       "      <td>ASI</td>\n",
       "      <td>40.0</td>\n",
       "      <td>3.872</td>\n",
       "      <td>1.661115e+08</td>\n",
       "    </tr>\n",
       "    <tr>\n",
       "      <th>6</th>\n",
       "      <td>Bangladesh</td>\n",
       "      <td>ASI</td>\n",
       "      <td>49.8</td>\n",
       "      <td>2.288</td>\n",
       "      <td>1.600001e+08</td>\n",
       "    </tr>\n",
       "  </tbody>\n",
       "</table>\n",
       "</div>"
      ],
      "text/plain": [
       "     Country  Continent  female literacy  fertility    population\n",
       "0       Chine       ASI             90.5      1.769  1.324655e+09\n",
       "1        Inde       ASI             50.8      2.682  1.139965e+09\n",
       "3   Indonésie       ASI             88.8      2.132  2.273451e+08\n",
       "5    Pakistan       ASI             40.0      3.872  1.661115e+08\n",
       "6  Bangladesh       ASI             49.8      2.288  1.600001e+08"
      ]
     },
     "execution_count": 22,
     "metadata": {},
     "output_type": "execute_result"
    }
   ],
   "source": [
    "conti=country[country.Continent.isin([\"ASI\", \"EUR\", \"AF\"])]\n",
    "df=conti.astype({\"female literacy\": float, \"fertility\": float})\n",
    "df.head()"
   ]
  },
  {
   "cell_type": "code",
   "execution_count": 29,
   "metadata": {},
   "outputs": [],
   "source": [
    "df.columns=[\"Country\", \"Continent\", \"female_literacy\", \"fertility\", \n",
    "           \"population\"]"
   ]
  },
  {
   "cell_type": "code",
   "execution_count": 32,
   "metadata": {},
   "outputs": [
    {
     "data": {
      "text/plain": [
       "Index(['Country', 'Continent', 'female_literacy', 'fertility', 'population'], dtype='object')"
      ]
     },
     "execution_count": 32,
     "metadata": {},
     "output_type": "execute_result"
    }
   ],
   "source": [
    "df.columns"
   ]
  },
  {
   "cell_type": "code",
   "execution_count": 30,
   "metadata": {},
   "outputs": [],
   "source": [
    "source=ColumnDataSource(df)"
   ]
  },
  {
   "cell_type": "code",
   "execution_count": 34,
   "metadata": {},
   "outputs": [
    {
     "data": {
      "text/html": [
       "\n",
       "\n",
       "\n",
       "\n",
       "\n",
       "\n",
       "  <div class=\"bk-root\" id=\"07d28e58-9b1d-4f32-b088-05dc5c9cc734\" data-root-id=\"5172\"></div>\n"
      ]
     },
     "metadata": {},
     "output_type": "display_data"
    },
    {
     "data": {
      "application/javascript": [
       "(function(root) {\n",
       "  function embed_document(root) {\n",
       "    \n",
       "  var docs_json = {\"d618f628-1f3f-4c1a-9fdb-1396bf796f7d\":{\"defs\":[],\"roots\":{\"references\":[{\"attributes\":{\"below\":[{\"id\":\"5181\"}],\"center\":[{\"id\":\"5184\"},{\"id\":\"5188\"}],\"height\":300,\"left\":[{\"id\":\"5185\"}],\"renderers\":[{\"id\":\"5196\"}],\"title\":{\"id\":\"5449\"},\"toolbar\":{\"id\":\"5190\"},\"x_range\":{\"id\":\"5173\"},\"x_scale\":{\"id\":\"5177\"},\"y_range\":{\"id\":\"5175\"},\"y_scale\":{\"id\":\"5179\"}},\"id\":\"5172\",\"subtype\":\"Figure\",\"type\":\"Plot\"},{\"attributes\":{},\"id\":\"5454\",\"type\":\"AllLabels\"},{\"attributes\":{},\"id\":\"5455\",\"type\":\"BasicTickFormatter\"},{\"attributes\":{\"factors\":[\"ASI\",\"EUR\",\"AF\"],\"palette\":[\"firebrick\",\"DarkOrange\",\"DarkBlue\"]},\"id\":\"5170\",\"type\":\"CategoricalColorMapper\"},{\"attributes\":{\"callback\":null,\"tooltips\":[[\"Continent\",\"@Continent\"],[\"Country\",\"@Country\"],[\"Female literacy\",\"@female_literacy\"],[\"Fertility\",\"@fertility\"]]},\"id\":\"5171\",\"type\":\"HoverTool\"},{\"attributes\":{},\"id\":\"4790\",\"type\":\"Selection\"},{\"attributes\":{},\"id\":\"4791\",\"type\":\"UnionRenderers\"},{\"attributes\":{},\"id\":\"5179\",\"type\":\"LinearScale\"},{\"attributes\":{\"callback\":null},\"id\":\"5189\",\"type\":\"TapTool\"},{\"attributes\":{\"fill_alpha\":{\"value\":0.1},\"fill_color\":{\"field\":\"Continent\",\"transform\":{\"id\":\"5170\"}},\"line_alpha\":{\"value\":0.1},\"line_color\":{\"field\":\"Continent\",\"transform\":{\"id\":\"5170\"}},\"size\":{\"value\":10},\"x\":{\"field\":\"fertility\"},\"y\":{\"field\":\"female_literacy\"}},\"id\":\"5195\",\"type\":\"Circle\"},{\"attributes\":{},\"id\":\"5186\",\"type\":\"BasicTicker\"},{\"attributes\":{\"source\":{\"id\":\"4523\"}},\"id\":\"5197\",\"type\":\"CDSView\"},{\"attributes\":{\"formatter\":{\"id\":\"5452\"},\"major_label_policy\":{\"id\":\"5451\"},\"ticker\":{\"id\":\"5186\"}},\"id\":\"5185\",\"type\":\"LinearAxis\"},{\"attributes\":{},\"id\":\"5449\",\"type\":\"Title\"},{\"attributes\":{\"axis\":{\"id\":\"5181\"},\"ticker\":null},\"id\":\"5184\",\"type\":\"Grid\"},{\"attributes\":{\"data_source\":{\"id\":\"4523\"},\"glyph\":{\"id\":\"5194\"},\"hover_glyph\":null,\"muted_glyph\":null,\"nonselection_glyph\":{\"id\":\"5195\"},\"view\":{\"id\":\"5197\"}},\"id\":\"5196\",\"type\":\"GlyphRenderer\"},{\"attributes\":{\"active_multi\":null,\"tools\":[{\"id\":\"5171\"},{\"id\":\"5189\"}]},\"id\":\"5190\",\"type\":\"Toolbar\"},{\"attributes\":{\"axis\":{\"id\":\"5185\"},\"dimension\":1,\"ticker\":null},\"id\":\"5188\",\"type\":\"Grid\"},{\"attributes\":{\"fill_color\":{\"field\":\"Continent\",\"transform\":{\"id\":\"5170\"}},\"line_color\":{\"field\":\"Continent\",\"transform\":{\"id\":\"5170\"}},\"size\":{\"value\":10},\"x\":{\"field\":\"fertility\"},\"y\":{\"field\":\"female_literacy\"}},\"id\":\"5194\",\"type\":\"Circle\"},{\"attributes\":{\"data\":{\"Continent\":[\"ASI\",\"ASI\",\"ASI\",\"ASI\",\"ASI\",\"AF\",\"EUR\",\"ASI\",\"ASI\",\"ASI\",\"EUR\",\"AF\",\"AF\",\"ASI\",\"ASI\",\"ASI\",\"AF\",\"EUR\",\"EUR\",\"EUR\",\"ASI\",\"AF\",\"ASI\",\"EUR\",\"EUR\",\"AF\",\"AF\",\"AF\",\"EUR\",\"AF\",\"AF\",\"AF\",\"ASI\",\"ASI\",\"ASI\",\"ASI\",\"ASI\",\"ASI\",\"ASI\",\"AF\",\"ASI\",\"AF\",\"EUR\",\"AF\",\"ASI\",\"ASI\",\"AF\",\"AF\",\"AF\",\"EUR\",\"ASI\",\"AF\",\"AF\",\"AF\",\"ASI\",\"AF\",\"AF\",\"AF\",\"AF\",\"EUR\",\"AF\",\"EUR\",\"EUR\",\"EUR\",\"AF\",\"EUR\",\"AF\",\"AF\",\"EUR\",\"EUR\",\"ASI\",\"AF\",\"AF\",\"EUR\",\"EUR\",\"EUR\",\"ASI\",\"ASI\",\"AF\",\"AF\",\"ASI\",\"ASI\",\"AF\",\"EUR\",\"EUR\",\"ASI\",\"ASI\",\"AF\",\"ASI\",\"EUR\",\"ASI\",\"EUR\",\"EUR\",\"AF\",\"ASI\",\"ASI\",\"AF\",\"EUR\",\"EUR\",\"EUR\",\"AF\",\"EUR\",\"ASI\",\"ASI\",\"ASI\",\"ASI\",\"EUR\",\"AF\",\"AF\",\"EUR\",\"EUR\",\"AF\",\"AF\",\"AF\",\"AF\",\"EUR\",\"ASI\",\"AF\",\"AF\",\"EUR\",\"ASI\",\"ASI\",\"AF\",\"AF\",\"ASI\",\"AF\",\"EUR\",\"ASI\",\"EUR\",\"ASI\",\"AF\",\"ASI\"],\"Country\":[\"Chine\",\"Inde\",\"Indon\\u00e9sie\",\"Pakistan\",\"Bangladesh\",\"Nig\\u00e9ria\",\"F\\u00e9d\\u00e9ration de Russie\",\"Japan\",\"Philippines\",\"Viet Nam\",\"Germany\",\"Egypte\",\"Ethiopie\",\"Turquie\",\"Iran, R\\u00e9publique islamique d'\",\"Tha\\u00eflande\",\"R\\u00e9p. D\\u00e9mocratique du Congo\",\"France\",\"UK\",\"Italie\",\"Myanmar\",\"Afrique du Sud\",\"South Korea\",\"Ukraine\",\"Espagne\",\"R\\u00e9publique-Unie de Tanzanie\",\"Soudan\",\"Kenya\",\"Pologne\",\"Alg\\u00e9rie\",\"Ouganda\",\"Maroc\",\"Iraq\",\"Afghanistan\",\"N\\u00e9pal\",\"Ouzb\\u00e9kistan\",\"Malaisie\",\"Arabie saoudite\",\"R\\u00e9p. populaire d\\u00e9mocratique de Cor\\u00e9e\",\"Ghana\",\"Y\\u00e9men\",\"Mozambique\",\"Roumanie\",\"C\\u00f4te d'Ivoire\",\"R\\u00e9publique arabe syrienne\",\"Sri Lanka\",\"Madagascar\",\"Cameroun\",\"Angola\",\"Netherlands\",\"Kazakhstan\",\"Burkina Faso\",\"Malawi\",\"Niger\",\"Cambodge\",\"Mali\",\"Zambie\",\"Zimbabwe\",\"S\\u00e9n\\u00e9gal\",\"Gr\\u00e8ce\",\"Tchad\",\"Belgium\",\"Portugal\",\"Czech rep\",\"Tunisie\",\"Hongrie\",\"Guin\\u00e9e\",\"Rwanda\",\"B\\u00e9larus\",\"Sweden\",\"Azerba\\u00efdjan\",\"B\\u00e9nin\",\"Burundi\",\"Switzerland\",\"Bulgarie\",\"Serbie\",\"Israel\",\"Tadjikistan\",\"Togo\",\"Jamahiriya arabe libyenne\",\"R\\u00e9p. d\\u00e9mocratique populaire lao\",\"Jordanie\",\"Sierra Leone\",\"Denmark\",\"Finland\",\"Kirghizistan\",\"Turkm\\u00e9nistan\",\"Erythr\\u00e9e\",\"Singapour\",\"Norway\",\"Emirats arabes unis\",\"Croatie\",\"Ireland\",\"R\\u00e9publique centrafricaine\",\"G\\u00e9orgie\",\"Liban\",\"Lib\\u00e9ria\",\"Bosnie-Herz\\u00e9govine\",\"R\\u00e9publique de Moldova\",\"Lituanie\",\"Mauritanie\",\"Albanie\",\"Arm\\u00e9nie\",\"Oman\",\"Kowe\\u00eft\",\"Mongolie\",\"Lettonie\",\"Namibie\",\"Lesotho\",\"L'ex-R\\u00e9p. yougoslave de Mac\\u00e9doine\",\"Slov\\u00e9nie\",\"Botswana\",\"Gambie\",\"Guin\\u00e9e-Bissau\",\"Gabon\",\"Estonie\",\"Qatar\",\"Maurice\",\"Swaziland\",\"Chypre\",\"Bahre\\u00efn\",\"Bhoutan\",\"Guin\\u00e9e \\u00e9quatoriale\",\"Comores\",\"Macao, Chine\",\"Cap-Vert\",\"Malte\",\"Brun\\u00e9i Darussalam\",\"Iceland\",\"Maldives\",\"Sao Tom\\u00e9-et-Principe\",\"Tonga\"],\"female_literacy\":{\"__ndarray__\":\"AAAAAACgVkBmZmZmZmZJQDMzMzMzM1ZAAAAAAAAAREBmZmZmZuZIQGZmZmZmZkhAmpmZmZnZWEAAAAAAAMBYQJqZmZmZeVdAzczMzMyMVkAAAAAAAMBYQGZmZmZm5kxAzczMzMzMNkAzMzMzM1NUQM3MzMzMTFNAAAAAAADgVkDNzMzMzAxMQAAAAAAAwFhAAAAAAADAWEAAAAAAAKBYQM3MzMzMTFZAZmZmZmYGVkBmZmZmZiZYQGZmZmZm5lhAmpmZmZk5WEAzMzMzM5NQQM3MzMzMzE1AMzMzMzOzVEAzMzMzM9NYQDMzMzMz809AMzMzMzOzUEDNzMzMzAxGQM3MzMzMTFFAMzMzMzMzKUAzMzMzM7NGQJqZmZmZuVhAMzMzMzNzVkDNzMzMzAxUQAAAAAAAAFlAZmZmZmamTUBmZmZmZmZFQM3MzMzMDERAmpmZmZk5WEBmZmZmZiZGQM3MzMzMTFNAZmZmZmZGVkAzMzMzM1NQQDMzMzMz81BAAAAAAACATEAAAAAAAMBYQAAAAAAA4FhAmpmZmZmZNUAzMzMzM3NQQDMzMzMzMy5AmpmZmZm5UUAzMzMzMzMyQAAAAAAAgE5AMzMzMzMzVkAAAAAAAIBAQJqZmZmZ+VdAZmZmZmbmNUAAAAAAAMBYQJqZmZmZOVdAAAAAAADAWEAAAAAAAMBRQJqZmZmZuVhAZmZmZmZmOkBmZmZmZoZQQM3MzMzM7FhAAAAAAADAWEDNzMzMzMxYQJqZmZmZGTxAMzMzMzPzTUAAAAAAAMBYQJqZmZmZeVhAzczMzMwMWECamZmZmflXQAAAAAAA4FhAmpmZmZnZSkAzMzMzM1NUQJqZmZmZmU9AmpmZmZk5VkBmZmZmZuY8QAAAAAAAwFhAAAAAAAAAWUBmZmZmZsZYQDMzMzMz01hAAAAAAABAS0BmZmZmZuZWQAAAAAAAAFlAAAAAAADgVkAAAAAAAIBYQAAAAAAAwFhAzczMzMyMREDNzMzMzOxYQAAAAAAAgFVAAAAAAACASkCamZmZmflXQDMzMzMzc1hAzczMzMzsWEAAAAAAAMBIQM3MzMzMrFhAmpmZmZnZWECamZmZmTlUQGZmZmZmRldAMzMzMzNzWEAzMzMzM/NYQM3MzMzM7FVAZmZmZmbGV0CamZmZmdlXQM3MzMzM7FhAAAAAAADgVEBmZmZmZiZBQAAAAAAAQEJAzczMzMzMVEAzMzMzM/NYQJqZmZmZmVZAMzMzMzMzVUBmZmZmZmZVQM3MzMzMLFhAmpmZmZlZVkCamZmZmVlDQGZmZmZmRlZAMzMzMzPzUEDNzMzMzKxWQDMzMzMz01NAAAAAAABgV0AzMzMzM1NXQAAAAAAAwFhAmpmZmZmZWEAzMzMzM9NUQGZmZmZmxlhA\",\"dtype\":\"float64\",\"order\":\"little\",\"shape\":[132]},\"fertility\":{\"__ndarray__\":\"5/up8dJN/D/b+X5qvHQFQHWTGARWDgFAYOXQItv5DkDn+6nx0k0CQP7UeOkmsRRAfT81XrpJ9j/+1HjpJjH0P2iR7Xw/NQhA3SQGgZVDAEDJdr6fGi/1P7pJDAIrhwZA8tJNYhDYFEDNzMzMzMwAQOXQItv5fvw/9P3UeOkm/T9vEoPAyqEXQH9qvHSTGP4/bxKDwMqh/T89CtejcD32P3Noke18PwJACtejcD0KBEAv3SQGgZXzPy2yne+nxvU/sHJoke189z8UrkfhehQWQAisHFpkOxBAVg4tsp1vE0ASg8DKoUX0PyPb+X5qvAJAarx0kxgEGUB56SYxCKwCQOOlm8QgsA9AhetRuB4FGkAv3SQGgZUGQJZDi2zn+wFAqvHSTWIQBEBSuB6F61EIQESLbOf7qf0/4XoUrkfhEEBmZmZmZmYUQJHtfD813hNAMzMzMzMz9T91kxgEVg4SQPyp8dJNYglAEFg5tMh2AkB7FK5H4XoSQESLbOf7KRJAPzVeukmMFkDByqFFtvP7PycxCKwcWgJAd76fGi9dF0BSuB6F69EVQC2yne+nRhxArBxaZDvfBkAfhetRuJ4VQKabxCCw8hZAgZVDi2znCkCPwvUoXI8TQClcj8L1KPY/bef7qfFSGEAlBoGVQ4v8Pz81XrpJDPY/MzMzMzMz9z/b+X5qvHT9P+xRuB6F6/U/N4lBYOVQFUBSuB6F61EVQOXQItv5fvQ/Vg4tsp3v/T/TTWIQWDkBQFCNl24SgxVAzczMzMzMEUBcj8L1KFz3P2Dl0CLb+fY/mG4Sg8DK+T9qvHSTGAQGQM3MzMzMzApARIts5/upEECJQWDl0CIFQFK4HoXrUQtA9P3UeOkmCEApXI/C9agUQC/dJAaBlf0/x0s3iUFg/T++nxov3SQEQHE9CtejcANA6SYxCKwcEkBoke18PzX0Pylcj8L1KP4//Knx0k1i/j/fT42XbhL3P3Noke18P/8/fT81XrrJEkAdWmQ730/5P9v5fmq8dP0/JQaBlUMLFEAxCKwcWmTzP9V46SYxCPg/rBxaZDvf9T9aZDvfT40RQESLbOf7qf0/K4cW2c73+z9t5/up8dIHQJ7vp8ZLNwFAAiuHFtnO/z83iUFg5dD2P1K4HoXrUQpA6SYxCKwcCkBg5dAi2/n2P30/NV66SfY/+n5qvHSTBkDHSzeJQeATQIlBYOXQohZA7FG4HoXrCUBKDAIrhxb7P+F6FK5H4QJAeekmMQis/D+amZmZmZkLQKjGSzeJQfg/d76fGi/dAUAbL90kBoEEQG8Sg8DKIRVAFK5H4XoUD0C28/3UeOnuP+f7qfHSTQVAarx0kxgE9D/RItv5fmoAQFg5tMh2vgBAAAAAAAAAAEBYObTIdr4NQAaBlUOLbA9A\",\"dtype\":\"float64\",\"order\":\"little\",\"shape\":[132]},\"index\":[0,1,3,5,6,7,8,9,11,12,13,14,15,16,17,18,19,20,21,22,23,24,25,26,27,29,30,32,33,34,36,37,38,39,41,43,44,45,46,47,48,49,50,51,52,53,54,55,56,58,59,60,61,62,63,66,67,68,69,70,72,73,74,75,76,77,79,80,82,83,84,85,86,87,88,89,91,92,94,95,97,99,101,102,103,104,105,106,107,108,110,111,112,113,114,116,117,118,119,121,123,124,125,126,127,129,130,131,132,133,134,135,136,137,138,139,141,142,143,144,145,146,147,148,149,151,152,153,155,156,159,161],\"population\":{\"__ndarray__\":\"AAAAZii900GQFOkAn/zQQQAAAHQFGqtB7448/lHNo0EAAAAA0RKjQQAAALyhBqJBAAAAYPjroEEAAAAAb3KeQQAAAFRuipVBAAAAdOONlEEAAABEmpOTQQAAABAGcJNBAAAAaFs+k0EAAABQXp+RQToXwIbdJ5FBAAAAPPAQkEEAAADY06OOQQAAAMA5so1BAAAAcNVIjUEAAACYu4eMQQAAAFgsoodBAAAAwDw3h0EAAADAeC2HQQAAAMDADoZBAAAAIAC5hUEAAACYBkKEQQAAAFhUt4NBAAAAABh8gkEAAAD4BS6CQQAAAJD5Y4BBAAAAELowfkEAAAAANyR+QRITrwTXSX1BsGr1rzqte0EAAABgk3l7QQAAAEBiDHpBAAAAEEzDeUH3Br9eA4F3QQAAABAgt3ZBAAAA8OhEdkEAAADQFtt1QQAAAFB8WHVBAAAAYFmEdEEAAABgLKNzQSiU6p26oHNBIMFoxfI4c0EAAADQwTlyQQAAABBANHJBAAAAwJMvcUEAAAAgE15vQQAAACC65W1BAAAAgGsObUEAAADAHFFsQQAAAMDXC2xBAAAAAFvGa0EAAAAA+TtoQQAAAGA3EmhBAAAA4GPFZ0EAAACgfUpnQQAAAMDcbmVBAAAAYPDQZEEAAAAgumxkQQAAAKC5QmRBAAAAAALiY0EAAAAA37JjQQAAAIB1JWNBAAAA4EvBYkEAAADAbopiQQAAAED6dmJBAAAAoMaVYUEAAACAVI5gQQAAAMCIhWBBAAAAgAPNXkEAAADAbixdQQAAAMC4FF1BAAAAQPMJXEEAAAAAgOFbQQAAAMDcE1pBAAAAQDujWEEAAABAqQJYQQAAAEDnq1dBXanGt56HVkEAAABAizVVQQAAAEDd9FRBAAAAwN1EVEEAAAAAMyJUQQAAAIBoPVNBAAAAQGfLUkEAAAAA+nVSQQAAAAB1MFJBAAAAwNEbUUEAAAAAFOpQQQAAAMDy4VBBAAAAwI+NUEEAAADAEG5QQQAAAADv/k9BAAAAAPzwTEEAAAAAVslMQQAAAIBsuEtBAAAAgNGeSUEAAACAYYdIQQAAAIA9+0dBAAAAgO95R0EAAACAKEBFQYEYdGs00ERBAAAAAKAmREEAAAAA90lBQQAAAADfP0BBAAAAAJVFP0EAAAAA/iU/QQAAAADE1z5BAAAAAGJQPUEAAAAAKFU5QQAAAAAWCjhBAAAAAN8YNkEAAAAAA3U0QQAAAABeizNBAAAAAHZcM0EAAAAA2tExQQAAAADEUSpBAAAAAEKrJ0EAAAAAivUkQQAAAAD6HSRBqGAsoOajI0EAAAAAxA4gQQAAAADAbx5BAAAAALgkGUEAAAAAYPEXQQAAAACYXxNBAAAAAAyeEkEAAAAAcI0DQQAAAADgSPlA\",\"dtype\":\"float64\",\"order\":\"little\",\"shape\":[132]}},\"selected\":{\"id\":\"4790\"},\"selection_policy\":{\"id\":\"4791\"}},\"id\":\"4523\",\"type\":\"ColumnDataSource\"},{\"attributes\":{},\"id\":\"5175\",\"type\":\"DataRange1d\"},{\"attributes\":{},\"id\":\"5173\",\"type\":\"DataRange1d\"},{\"attributes\":{},\"id\":\"5451\",\"type\":\"AllLabels\"},{\"attributes\":{\"formatter\":{\"id\":\"5455\"},\"major_label_policy\":{\"id\":\"5454\"},\"ticker\":{\"id\":\"5182\"}},\"id\":\"5181\",\"type\":\"LinearAxis\"},{\"attributes\":{},\"id\":\"5177\",\"type\":\"LinearScale\"},{\"attributes\":{},\"id\":\"5452\",\"type\":\"BasicTickFormatter\"},{\"attributes\":{},\"id\":\"5182\",\"type\":\"BasicTicker\"}],\"root_ids\":[\"5172\"]},\"title\":\"Bokeh Application\",\"version\":\"2.3.2\"}};\n",
       "  var render_items = [{\"docid\":\"d618f628-1f3f-4c1a-9fdb-1396bf796f7d\",\"root_ids\":[\"5172\"],\"roots\":{\"5172\":\"07d28e58-9b1d-4f32-b088-05dc5c9cc734\"}}];\n",
       "  root.Bokeh.embed.embed_items_notebook(docs_json, render_items);\n",
       "\n",
       "  }\n",
       "  if (root.Bokeh !== undefined) {\n",
       "    embed_document(root);\n",
       "  } else {\n",
       "    var attempts = 0;\n",
       "    var timer = setInterval(function(root) {\n",
       "      if (root.Bokeh !== undefined) {\n",
       "        clearInterval(timer);\n",
       "        embed_document(root);\n",
       "      } else {\n",
       "        attempts++;\n",
       "        if (attempts > 100) {\n",
       "          clearInterval(timer);\n",
       "          console.log(\"Bokeh: ERROR: Unable to run BokehJS code because BokehJS library is missing\");\n",
       "        }\n",
       "      }\n",
       "    }, 10, root)\n",
       "  }\n",
       "})(window);"
      ],
      "application/vnd.bokehjs_exec.v0+json": ""
     },
     "metadata": {
      "application/vnd.bokehjs_exec.v0+json": {
       "id": "5172"
      }
     },
     "output_type": "display_data"
    }
   ],
   "source": [
    "mapper=CategoricalColorMapper(factors=[\"ASI\", \"EUR\", \"AF\"], \n",
    "                            palette=[\"firebrick\", \"DarkOrange\", \n",
    "                                     \"DarkBlue\"])\n",
    "hover=HoverTool(tooltips=[(\"Continent\", \"@Continent\"),\n",
    "                         (\"Country\", \"@Country\"),\n",
    "                         (\"Female literacy\", \"@female_literacy\"),\n",
    "                         (\"Fertility\",\"@fertility\")])\n",
    "\n",
    "p=figure(plot_width=600, plot_height=300, tools=[hover, 'tap'])\n",
    "p.circle(x=\"fertility\", y=\"female_literacy\", source=source,\n",
    "         size=10,\n",
    "         color={\"field\" :\"Continent\", \"transform\": mapper})\n",
    "\n",
    "show(p)"
   ]
  },
  {
   "cell_type": "code",
   "execution_count": null,
   "metadata": {},
   "outputs": [],
   "source": []
  }
 ],
 "metadata": {
  "kernelspec": {
   "display_name": "Python 3",
   "language": "python",
   "name": "python3"
  },
  "language_info": {
   "codemirror_mode": {
    "name": "ipython",
    "version": 3
   },
   "file_extension": ".py",
   "mimetype": "text/x-python",
   "name": "python",
   "nbconvert_exporter": "python",
   "pygments_lexer": "ipython3",
   "version": "3.8.5"
  }
 },
 "nbformat": 4,
 "nbformat_minor": 4
}
