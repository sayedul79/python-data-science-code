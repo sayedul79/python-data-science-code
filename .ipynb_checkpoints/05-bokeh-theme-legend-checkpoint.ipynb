{
 "cells": [
  {
   "cell_type": "markdown",
   "metadata": {},
   "source": [
    "### Import library"
   ]
  },
  {
   "cell_type": "code",
   "execution_count": 1,
   "metadata": {},
   "outputs": [],
   "source": [
    "import numpy as np\n",
    "import pandas as pd"
   ]
  },
  {
   "cell_type": "code",
   "execution_count": 2,
   "metadata": {},
   "outputs": [
    {
     "data": {
      "text/html": [
       "<div>\n",
       "<style scoped>\n",
       "    .dataframe tbody tr th:only-of-type {\n",
       "        vertical-align: middle;\n",
       "    }\n",
       "\n",
       "    .dataframe tbody tr th {\n",
       "        vertical-align: top;\n",
       "    }\n",
       "\n",
       "    .dataframe thead th {\n",
       "        text-align: right;\n",
       "    }\n",
       "</style>\n",
       "<table border=\"1\" class=\"dataframe\">\n",
       "  <thead>\n",
       "    <tr style=\"text-align: right;\">\n",
       "      <th></th>\n",
       "      <th>Province/State</th>\n",
       "      <th>Country/Region</th>\n",
       "      <th>Lat</th>\n",
       "      <th>Long</th>\n",
       "      <th>1/22/20</th>\n",
       "      <th>1/23/20</th>\n",
       "      <th>1/24/20</th>\n",
       "      <th>1/25/20</th>\n",
       "      <th>1/26/20</th>\n",
       "      <th>1/27/20</th>\n",
       "      <th>...</th>\n",
       "      <th>5/13/21</th>\n",
       "      <th>5/14/21</th>\n",
       "      <th>5/15/21</th>\n",
       "      <th>5/16/21</th>\n",
       "      <th>5/17/21</th>\n",
       "      <th>5/18/21</th>\n",
       "      <th>5/19/21</th>\n",
       "      <th>5/20/21</th>\n",
       "      <th>5/21/21</th>\n",
       "      <th>5/22/21</th>\n",
       "    </tr>\n",
       "  </thead>\n",
       "  <tbody>\n",
       "    <tr>\n",
       "      <th>0</th>\n",
       "      <td>NaN</td>\n",
       "      <td>Afghanistan</td>\n",
       "      <td>33.93911</td>\n",
       "      <td>67.709953</td>\n",
       "      <td>0</td>\n",
       "      <td>0</td>\n",
       "      <td>0</td>\n",
       "      <td>0</td>\n",
       "      <td>0</td>\n",
       "      <td>0</td>\n",
       "      <td>...</td>\n",
       "      <td>63045</td>\n",
       "      <td>63355</td>\n",
       "      <td>63412</td>\n",
       "      <td>63484</td>\n",
       "      <td>63598</td>\n",
       "      <td>63819</td>\n",
       "      <td>64122</td>\n",
       "      <td>64575</td>\n",
       "      <td>65080</td>\n",
       "      <td>65486</td>\n",
       "    </tr>\n",
       "    <tr>\n",
       "      <th>1</th>\n",
       "      <td>NaN</td>\n",
       "      <td>Albania</td>\n",
       "      <td>41.15330</td>\n",
       "      <td>20.168300</td>\n",
       "      <td>0</td>\n",
       "      <td>0</td>\n",
       "      <td>0</td>\n",
       "      <td>0</td>\n",
       "      <td>0</td>\n",
       "      <td>0</td>\n",
       "      <td>...</td>\n",
       "      <td>131890</td>\n",
       "      <td>131939</td>\n",
       "      <td>131978</td>\n",
       "      <td>132015</td>\n",
       "      <td>132032</td>\n",
       "      <td>132071</td>\n",
       "      <td>132095</td>\n",
       "      <td>132118</td>\n",
       "      <td>132153</td>\n",
       "      <td>132176</td>\n",
       "    </tr>\n",
       "    <tr>\n",
       "      <th>2</th>\n",
       "      <td>NaN</td>\n",
       "      <td>Algeria</td>\n",
       "      <td>28.03390</td>\n",
       "      <td>1.659600</td>\n",
       "      <td>0</td>\n",
       "      <td>0</td>\n",
       "      <td>0</td>\n",
       "      <td>0</td>\n",
       "      <td>0</td>\n",
       "      <td>0</td>\n",
       "      <td>...</td>\n",
       "      <td>124889</td>\n",
       "      <td>125059</td>\n",
       "      <td>125194</td>\n",
       "      <td>125311</td>\n",
       "      <td>125485</td>\n",
       "      <td>125693</td>\n",
       "      <td>125896</td>\n",
       "      <td>126156</td>\n",
       "      <td>126434</td>\n",
       "      <td>126651</td>\n",
       "    </tr>\n",
       "    <tr>\n",
       "      <th>3</th>\n",
       "      <td>NaN</td>\n",
       "      <td>Andorra</td>\n",
       "      <td>42.50630</td>\n",
       "      <td>1.521800</td>\n",
       "      <td>0</td>\n",
       "      <td>0</td>\n",
       "      <td>0</td>\n",
       "      <td>0</td>\n",
       "      <td>0</td>\n",
       "      <td>0</td>\n",
       "      <td>...</td>\n",
       "      <td>13470</td>\n",
       "      <td>13510</td>\n",
       "      <td>13510</td>\n",
       "      <td>13510</td>\n",
       "      <td>13555</td>\n",
       "      <td>13569</td>\n",
       "      <td>13569</td>\n",
       "      <td>13569</td>\n",
       "      <td>13569</td>\n",
       "      <td>13569</td>\n",
       "    </tr>\n",
       "    <tr>\n",
       "      <th>4</th>\n",
       "      <td>NaN</td>\n",
       "      <td>Angola</td>\n",
       "      <td>-11.20270</td>\n",
       "      <td>17.873900</td>\n",
       "      <td>0</td>\n",
       "      <td>0</td>\n",
       "      <td>0</td>\n",
       "      <td>0</td>\n",
       "      <td>0</td>\n",
       "      <td>0</td>\n",
       "      <td>...</td>\n",
       "      <td>29695</td>\n",
       "      <td>30030</td>\n",
       "      <td>30354</td>\n",
       "      <td>30637</td>\n",
       "      <td>30787</td>\n",
       "      <td>31045</td>\n",
       "      <td>31438</td>\n",
       "      <td>31661</td>\n",
       "      <td>31909</td>\n",
       "      <td>32149</td>\n",
       "    </tr>\n",
       "  </tbody>\n",
       "</table>\n",
       "<p>5 rows × 491 columns</p>\n",
       "</div>"
      ],
      "text/plain": [
       "  Province/State Country/Region       Lat       Long  1/22/20  1/23/20  \\\n",
       "0            NaN    Afghanistan  33.93911  67.709953        0        0   \n",
       "1            NaN        Albania  41.15330  20.168300        0        0   \n",
       "2            NaN        Algeria  28.03390   1.659600        0        0   \n",
       "3            NaN        Andorra  42.50630   1.521800        0        0   \n",
       "4            NaN         Angola -11.20270  17.873900        0        0   \n",
       "\n",
       "   1/24/20  1/25/20  1/26/20  1/27/20  ...  5/13/21  5/14/21  5/15/21  \\\n",
       "0        0        0        0        0  ...    63045    63355    63412   \n",
       "1        0        0        0        0  ...   131890   131939   131978   \n",
       "2        0        0        0        0  ...   124889   125059   125194   \n",
       "3        0        0        0        0  ...    13470    13510    13510   \n",
       "4        0        0        0        0  ...    29695    30030    30354   \n",
       "\n",
       "   5/16/21  5/17/21  5/18/21  5/19/21  5/20/21  5/21/21  5/22/21  \n",
       "0    63484    63598    63819    64122    64575    65080    65486  \n",
       "1   132015   132032   132071   132095   132118   132153   132176  \n",
       "2   125311   125485   125693   125896   126156   126434   126651  \n",
       "3    13510    13555    13569    13569    13569    13569    13569  \n",
       "4    30637    30787    31045    31438    31661    31909    32149  \n",
       "\n",
       "[5 rows x 491 columns]"
      ]
     },
     "execution_count": 2,
     "metadata": {},
     "output_type": "execute_result"
    }
   ],
   "source": [
    "df=pd.read_csv(\"https://raw.githubusercontent.com/CSSEGISandData/COVID-19/master/csse_covid_19_data/csse_covid_19_time_series/time_series_covid19_confirmed_global.csv\")\n",
    "df.head()"
   ]
  },
  {
   "cell_type": "code",
   "execution_count": 3,
   "metadata": {},
   "outputs": [
    {
     "data": {
      "text/plain": [
       "(275, 491)"
      ]
     },
     "execution_count": 3,
     "metadata": {},
     "output_type": "execute_result"
    }
   ],
   "source": [
    "df.shape"
   ]
  },
  {
   "cell_type": "code",
   "execution_count": 4,
   "metadata": {},
   "outputs": [],
   "source": [
    "df_melt=pd.melt(df,id_vars=[\"Province/State\", \"Country/Region\", \n",
    "                        \"Lat\", \"Long\"], \n",
    "                var_name=\"date\", \n",
    "                value_name=\"total_infection_cases\")"
   ]
  },
  {
   "cell_type": "code",
   "execution_count": 5,
   "metadata": {},
   "outputs": [
    {
     "data": {
      "text/html": [
       "<div>\n",
       "<style scoped>\n",
       "    .dataframe tbody tr th:only-of-type {\n",
       "        vertical-align: middle;\n",
       "    }\n",
       "\n",
       "    .dataframe tbody tr th {\n",
       "        vertical-align: top;\n",
       "    }\n",
       "\n",
       "    .dataframe thead th {\n",
       "        text-align: right;\n",
       "    }\n",
       "</style>\n",
       "<table border=\"1\" class=\"dataframe\">\n",
       "  <thead>\n",
       "    <tr style=\"text-align: right;\">\n",
       "      <th></th>\n",
       "      <th>Province/State</th>\n",
       "      <th>Country/Region</th>\n",
       "      <th>Lat</th>\n",
       "      <th>Long</th>\n",
       "      <th>date</th>\n",
       "      <th>total_infection_cases</th>\n",
       "    </tr>\n",
       "  </thead>\n",
       "  <tbody>\n",
       "    <tr>\n",
       "      <th>0</th>\n",
       "      <td>NaN</td>\n",
       "      <td>Afghanistan</td>\n",
       "      <td>33.93911</td>\n",
       "      <td>67.709953</td>\n",
       "      <td>1/22/20</td>\n",
       "      <td>0</td>\n",
       "    </tr>\n",
       "    <tr>\n",
       "      <th>1</th>\n",
       "      <td>NaN</td>\n",
       "      <td>Albania</td>\n",
       "      <td>41.15330</td>\n",
       "      <td>20.168300</td>\n",
       "      <td>1/22/20</td>\n",
       "      <td>0</td>\n",
       "    </tr>\n",
       "    <tr>\n",
       "      <th>2</th>\n",
       "      <td>NaN</td>\n",
       "      <td>Algeria</td>\n",
       "      <td>28.03390</td>\n",
       "      <td>1.659600</td>\n",
       "      <td>1/22/20</td>\n",
       "      <td>0</td>\n",
       "    </tr>\n",
       "    <tr>\n",
       "      <th>3</th>\n",
       "      <td>NaN</td>\n",
       "      <td>Andorra</td>\n",
       "      <td>42.50630</td>\n",
       "      <td>1.521800</td>\n",
       "      <td>1/22/20</td>\n",
       "      <td>0</td>\n",
       "    </tr>\n",
       "    <tr>\n",
       "      <th>4</th>\n",
       "      <td>NaN</td>\n",
       "      <td>Angola</td>\n",
       "      <td>-11.20270</td>\n",
       "      <td>17.873900</td>\n",
       "      <td>1/22/20</td>\n",
       "      <td>0</td>\n",
       "    </tr>\n",
       "  </tbody>\n",
       "</table>\n",
       "</div>"
      ],
      "text/plain": [
       "  Province/State Country/Region       Lat       Long     date  \\\n",
       "0            NaN    Afghanistan  33.93911  67.709953  1/22/20   \n",
       "1            NaN        Albania  41.15330  20.168300  1/22/20   \n",
       "2            NaN        Algeria  28.03390   1.659600  1/22/20   \n",
       "3            NaN        Andorra  42.50630   1.521800  1/22/20   \n",
       "4            NaN         Angola -11.20270  17.873900  1/22/20   \n",
       "\n",
       "   total_infection_cases  \n",
       "0                      0  \n",
       "1                      0  \n",
       "2                      0  \n",
       "3                      0  \n",
       "4                      0  "
      ]
     },
     "execution_count": 5,
     "metadata": {},
     "output_type": "execute_result"
    }
   ],
   "source": [
    "df_melt.head()"
   ]
  },
  {
   "cell_type": "code",
   "execution_count": 6,
   "metadata": {},
   "outputs": [
    {
     "data": {
      "text/plain": [
       "Province/State            object\n",
       "Country/Region            object\n",
       "Lat                      float64\n",
       "Long                     float64\n",
       "date                      object\n",
       "total_infection_cases      int64\n",
       "dtype: object"
      ]
     },
     "execution_count": 6,
     "metadata": {},
     "output_type": "execute_result"
    }
   ],
   "source": [
    "df_melt.dtypes"
   ]
  },
  {
   "cell_type": "code",
   "execution_count": 7,
   "metadata": {},
   "outputs": [],
   "source": [
    "df_melt[\"date\"]=pd.to_datetime(df_melt.date)"
   ]
  },
  {
   "cell_type": "code",
   "execution_count": 8,
   "metadata": {},
   "outputs": [
    {
     "data": {
      "text/plain": [
       "Province/State                   object\n",
       "Country/Region                   object\n",
       "Lat                             float64\n",
       "Long                            float64\n",
       "date                     datetime64[ns]\n",
       "total_infection_cases             int64\n",
       "dtype: object"
      ]
     },
     "execution_count": 8,
     "metadata": {},
     "output_type": "execute_result"
    }
   ],
   "source": [
    "df_melt.dtypes"
   ]
  },
  {
   "cell_type": "code",
   "execution_count": 9,
   "metadata": {},
   "outputs": [],
   "source": [
    "def get_dataset(country):\n",
    "    df=df_melt[df_melt[\"Country/Region\"].isin([country])]\n",
    "    df[\"daily_infection\"]=df.total_infection_cases.diff().fillna(0)\n",
    "    return df"
   ]
  },
  {
   "cell_type": "code",
   "execution_count": 10,
   "metadata": {},
   "outputs": [
    {
     "name": "stderr",
     "output_type": "stream",
     "text": [
      "<ipython-input-9-a4cb46a27e6d>:3: SettingWithCopyWarning: \n",
      "A value is trying to be set on a copy of a slice from a DataFrame.\n",
      "Try using .loc[row_indexer,col_indexer] = value instead\n",
      "\n",
      "See the caveats in the documentation: https://pandas.pydata.org/pandas-docs/stable/user_guide/indexing.html#returning-a-view-versus-a-copy\n",
      "  df[\"daily_infection\"]=df.total_infection_cases.diff().fillna(0)\n"
     ]
    }
   ],
   "source": [
    "bd=get_dataset(\"Bangladesh\")"
   ]
  },
  {
   "cell_type": "code",
   "execution_count": 11,
   "metadata": {},
   "outputs": [
    {
     "data": {
      "text/html": [
       "<div>\n",
       "<style scoped>\n",
       "    .dataframe tbody tr th:only-of-type {\n",
       "        vertical-align: middle;\n",
       "    }\n",
       "\n",
       "    .dataframe tbody tr th {\n",
       "        vertical-align: top;\n",
       "    }\n",
       "\n",
       "    .dataframe thead th {\n",
       "        text-align: right;\n",
       "    }\n",
       "</style>\n",
       "<table border=\"1\" class=\"dataframe\">\n",
       "  <thead>\n",
       "    <tr style=\"text-align: right;\">\n",
       "      <th></th>\n",
       "      <th>Province/State</th>\n",
       "      <th>Country/Region</th>\n",
       "      <th>Lat</th>\n",
       "      <th>Long</th>\n",
       "      <th>date</th>\n",
       "      <th>total_infection_cases</th>\n",
       "      <th>daily_infection</th>\n",
       "    </tr>\n",
       "  </thead>\n",
       "  <tbody>\n",
       "    <tr>\n",
       "      <th>132570</th>\n",
       "      <td>NaN</td>\n",
       "      <td>Bangladesh</td>\n",
       "      <td>23.685</td>\n",
       "      <td>90.3563</td>\n",
       "      <td>2021-05-18</td>\n",
       "      <td>782129</td>\n",
       "      <td>1272.0</td>\n",
       "    </tr>\n",
       "    <tr>\n",
       "      <th>132845</th>\n",
       "      <td>NaN</td>\n",
       "      <td>Bangladesh</td>\n",
       "      <td>23.685</td>\n",
       "      <td>90.3563</td>\n",
       "      <td>2021-05-19</td>\n",
       "      <td>783737</td>\n",
       "      <td>1608.0</td>\n",
       "    </tr>\n",
       "    <tr>\n",
       "      <th>133120</th>\n",
       "      <td>NaN</td>\n",
       "      <td>Bangladesh</td>\n",
       "      <td>23.685</td>\n",
       "      <td>90.3563</td>\n",
       "      <td>2021-05-20</td>\n",
       "      <td>785194</td>\n",
       "      <td>1457.0</td>\n",
       "    </tr>\n",
       "    <tr>\n",
       "      <th>133395</th>\n",
       "      <td>NaN</td>\n",
       "      <td>Bangladesh</td>\n",
       "      <td>23.685</td>\n",
       "      <td>90.3563</td>\n",
       "      <td>2021-05-21</td>\n",
       "      <td>786698</td>\n",
       "      <td>1504.0</td>\n",
       "    </tr>\n",
       "    <tr>\n",
       "      <th>133670</th>\n",
       "      <td>NaN</td>\n",
       "      <td>Bangladesh</td>\n",
       "      <td>23.685</td>\n",
       "      <td>90.3563</td>\n",
       "      <td>2021-05-22</td>\n",
       "      <td>787726</td>\n",
       "      <td>1028.0</td>\n",
       "    </tr>\n",
       "  </tbody>\n",
       "</table>\n",
       "</div>"
      ],
      "text/plain": [
       "       Province/State Country/Region     Lat     Long       date  \\\n",
       "132570            NaN     Bangladesh  23.685  90.3563 2021-05-18   \n",
       "132845            NaN     Bangladesh  23.685  90.3563 2021-05-19   \n",
       "133120            NaN     Bangladesh  23.685  90.3563 2021-05-20   \n",
       "133395            NaN     Bangladesh  23.685  90.3563 2021-05-21   \n",
       "133670            NaN     Bangladesh  23.685  90.3563 2021-05-22   \n",
       "\n",
       "        total_infection_cases  daily_infection  \n",
       "132570                 782129           1272.0  \n",
       "132845                 783737           1608.0  \n",
       "133120                 785194           1457.0  \n",
       "133395                 786698           1504.0  \n",
       "133670                 787726           1028.0  "
      ]
     },
     "execution_count": 11,
     "metadata": {},
     "output_type": "execute_result"
    }
   ],
   "source": [
    "bd.tail()"
   ]
  },
  {
   "cell_type": "code",
   "execution_count": 12,
   "metadata": {},
   "outputs": [
    {
     "data": {
      "text/plain": [
       "array([nan], dtype=object)"
      ]
     },
     "execution_count": 12,
     "metadata": {},
     "output_type": "execute_result"
    }
   ],
   "source": [
    "bd[\"Province/State\"].unique()"
   ]
  },
  {
   "cell_type": "code",
   "execution_count": 13,
   "metadata": {},
   "outputs": [
    {
     "name": "stderr",
     "output_type": "stream",
     "text": [
      "<ipython-input-9-a4cb46a27e6d>:3: SettingWithCopyWarning: \n",
      "A value is trying to be set on a copy of a slice from a DataFrame.\n",
      "Try using .loc[row_indexer,col_indexer] = value instead\n",
      "\n",
      "See the caveats in the documentation: https://pandas.pydata.org/pandas-docs/stable/user_guide/indexing.html#returning-a-view-versus-a-copy\n",
      "  df[\"daily_infection\"]=df.total_infection_cases.diff().fillna(0)\n"
     ]
    }
   ],
   "source": [
    "india=get_dataset(\"India\")"
   ]
  },
  {
   "cell_type": "code",
   "execution_count": 14,
   "metadata": {},
   "outputs": [
    {
     "data": {
      "text/html": [
       "<div>\n",
       "<style scoped>\n",
       "    .dataframe tbody tr th:only-of-type {\n",
       "        vertical-align: middle;\n",
       "    }\n",
       "\n",
       "    .dataframe tbody tr th {\n",
       "        vertical-align: top;\n",
       "    }\n",
       "\n",
       "    .dataframe thead th {\n",
       "        text-align: right;\n",
       "    }\n",
       "</style>\n",
       "<table border=\"1\" class=\"dataframe\">\n",
       "  <thead>\n",
       "    <tr style=\"text-align: right;\">\n",
       "      <th></th>\n",
       "      <th>Province/State</th>\n",
       "      <th>Country/Region</th>\n",
       "      <th>Lat</th>\n",
       "      <th>Long</th>\n",
       "      <th>date</th>\n",
       "      <th>total_infection_cases</th>\n",
       "      <th>daily_infection</th>\n",
       "    </tr>\n",
       "  </thead>\n",
       "  <tbody>\n",
       "    <tr>\n",
       "      <th>132697</th>\n",
       "      <td>NaN</td>\n",
       "      <td>India</td>\n",
       "      <td>20.593684</td>\n",
       "      <td>78.96288</td>\n",
       "      <td>2021-05-18</td>\n",
       "      <td>25496330</td>\n",
       "      <td>267334.0</td>\n",
       "    </tr>\n",
       "    <tr>\n",
       "      <th>132972</th>\n",
       "      <td>NaN</td>\n",
       "      <td>India</td>\n",
       "      <td>20.593684</td>\n",
       "      <td>78.96288</td>\n",
       "      <td>2021-05-19</td>\n",
       "      <td>25772440</td>\n",
       "      <td>276110.0</td>\n",
       "    </tr>\n",
       "    <tr>\n",
       "      <th>133247</th>\n",
       "      <td>NaN</td>\n",
       "      <td>India</td>\n",
       "      <td>20.593684</td>\n",
       "      <td>78.96288</td>\n",
       "      <td>2021-05-20</td>\n",
       "      <td>26031991</td>\n",
       "      <td>259551.0</td>\n",
       "    </tr>\n",
       "    <tr>\n",
       "      <th>133522</th>\n",
       "      <td>NaN</td>\n",
       "      <td>India</td>\n",
       "      <td>20.593684</td>\n",
       "      <td>78.96288</td>\n",
       "      <td>2021-05-21</td>\n",
       "      <td>26289290</td>\n",
       "      <td>257299.0</td>\n",
       "    </tr>\n",
       "    <tr>\n",
       "      <th>133797</th>\n",
       "      <td>NaN</td>\n",
       "      <td>India</td>\n",
       "      <td>20.593684</td>\n",
       "      <td>78.96288</td>\n",
       "      <td>2021-05-22</td>\n",
       "      <td>26530132</td>\n",
       "      <td>240842.0</td>\n",
       "    </tr>\n",
       "  </tbody>\n",
       "</table>\n",
       "</div>"
      ],
      "text/plain": [
       "       Province/State Country/Region        Lat      Long       date  \\\n",
       "132697            NaN          India  20.593684  78.96288 2021-05-18   \n",
       "132972            NaN          India  20.593684  78.96288 2021-05-19   \n",
       "133247            NaN          India  20.593684  78.96288 2021-05-20   \n",
       "133522            NaN          India  20.593684  78.96288 2021-05-21   \n",
       "133797            NaN          India  20.593684  78.96288 2021-05-22   \n",
       "\n",
       "        total_infection_cases  daily_infection  \n",
       "132697               25496330         267334.0  \n",
       "132972               25772440         276110.0  \n",
       "133247               26031991         259551.0  \n",
       "133522               26289290         257299.0  \n",
       "133797               26530132         240842.0  "
      ]
     },
     "execution_count": 14,
     "metadata": {},
     "output_type": "execute_result"
    }
   ],
   "source": [
    "india.tail()"
   ]
  },
  {
   "cell_type": "code",
   "execution_count": 15,
   "metadata": {},
   "outputs": [
    {
     "data": {
      "text/plain": [
       "array([nan], dtype=object)"
      ]
     },
     "execution_count": 15,
     "metadata": {},
     "output_type": "execute_result"
    }
   ],
   "source": [
    "india[\"Province/State\"].unique()"
   ]
  },
  {
   "cell_type": "code",
   "execution_count": 16,
   "metadata": {
    "scrolled": true
   },
   "outputs": [
    {
     "name": "stderr",
     "output_type": "stream",
     "text": [
      "<ipython-input-9-a4cb46a27e6d>:3: SettingWithCopyWarning: \n",
      "A value is trying to be set on a copy of a slice from a DataFrame.\n",
      "Try using .loc[row_indexer,col_indexer] = value instead\n",
      "\n",
      "See the caveats in the documentation: https://pandas.pydata.org/pandas-docs/stable/user_guide/indexing.html#returning-a-view-versus-a-copy\n",
      "  df[\"daily_infection\"]=df.total_infection_cases.diff().fillna(0)\n"
     ]
    }
   ],
   "source": [
    "china=get_dataset(\"China\")"
   ]
  },
  {
   "cell_type": "code",
   "execution_count": 17,
   "metadata": {},
   "outputs": [
    {
     "data": {
      "text/html": [
       "<div>\n",
       "<style scoped>\n",
       "    .dataframe tbody tr th:only-of-type {\n",
       "        vertical-align: middle;\n",
       "    }\n",
       "\n",
       "    .dataframe tbody tr th {\n",
       "        vertical-align: top;\n",
       "    }\n",
       "\n",
       "    .dataframe thead th {\n",
       "        text-align: right;\n",
       "    }\n",
       "</style>\n",
       "<table border=\"1\" class=\"dataframe\">\n",
       "  <thead>\n",
       "    <tr style=\"text-align: right;\">\n",
       "      <th></th>\n",
       "      <th>Province/State</th>\n",
       "      <th>Country/Region</th>\n",
       "      <th>Lat</th>\n",
       "      <th>Long</th>\n",
       "      <th>date</th>\n",
       "      <th>total_infection_cases</th>\n",
       "      <th>daily_infection</th>\n",
       "    </tr>\n",
       "  </thead>\n",
       "  <tbody>\n",
       "    <tr>\n",
       "      <th>58</th>\n",
       "      <td>Anhui</td>\n",
       "      <td>China</td>\n",
       "      <td>31.8257</td>\n",
       "      <td>117.2264</td>\n",
       "      <td>2020-01-22</td>\n",
       "      <td>1</td>\n",
       "      <td>0.0</td>\n",
       "    </tr>\n",
       "    <tr>\n",
       "      <th>59</th>\n",
       "      <td>Beijing</td>\n",
       "      <td>China</td>\n",
       "      <td>40.1824</td>\n",
       "      <td>116.4142</td>\n",
       "      <td>2020-01-22</td>\n",
       "      <td>14</td>\n",
       "      <td>13.0</td>\n",
       "    </tr>\n",
       "    <tr>\n",
       "      <th>60</th>\n",
       "      <td>Chongqing</td>\n",
       "      <td>China</td>\n",
       "      <td>30.0572</td>\n",
       "      <td>107.8740</td>\n",
       "      <td>2020-01-22</td>\n",
       "      <td>6</td>\n",
       "      <td>-8.0</td>\n",
       "    </tr>\n",
       "    <tr>\n",
       "      <th>61</th>\n",
       "      <td>Fujian</td>\n",
       "      <td>China</td>\n",
       "      <td>26.0789</td>\n",
       "      <td>117.9874</td>\n",
       "      <td>2020-01-22</td>\n",
       "      <td>1</td>\n",
       "      <td>-5.0</td>\n",
       "    </tr>\n",
       "    <tr>\n",
       "      <th>62</th>\n",
       "      <td>Gansu</td>\n",
       "      <td>China</td>\n",
       "      <td>35.7518</td>\n",
       "      <td>104.2861</td>\n",
       "      <td>2020-01-22</td>\n",
       "      <td>0</td>\n",
       "      <td>-1.0</td>\n",
       "    </tr>\n",
       "  </tbody>\n",
       "</table>\n",
       "</div>"
      ],
      "text/plain": [
       "   Province/State Country/Region      Lat      Long       date  \\\n",
       "58          Anhui          China  31.8257  117.2264 2020-01-22   \n",
       "59        Beijing          China  40.1824  116.4142 2020-01-22   \n",
       "60      Chongqing          China  30.0572  107.8740 2020-01-22   \n",
       "61         Fujian          China  26.0789  117.9874 2020-01-22   \n",
       "62          Gansu          China  35.7518  104.2861 2020-01-22   \n",
       "\n",
       "    total_infection_cases  daily_infection  \n",
       "58                      1              0.0  \n",
       "59                     14             13.0  \n",
       "60                      6             -8.0  \n",
       "61                      1             -5.0  \n",
       "62                      0             -1.0  "
      ]
     },
     "execution_count": 17,
     "metadata": {},
     "output_type": "execute_result"
    }
   ],
   "source": [
    "china.head()"
   ]
  },
  {
   "cell_type": "code",
   "execution_count": 18,
   "metadata": {},
   "outputs": [
    {
     "name": "stderr",
     "output_type": "stream",
     "text": [
      "<ipython-input-9-a4cb46a27e6d>:3: SettingWithCopyWarning: \n",
      "A value is trying to be set on a copy of a slice from a DataFrame.\n",
      "Try using .loc[row_indexer,col_indexer] = value instead\n",
      "\n",
      "See the caveats in the documentation: https://pandas.pydata.org/pandas-docs/stable/user_guide/indexing.html#returning-a-view-versus-a-copy\n",
      "  df[\"daily_infection\"]=df.total_infection_cases.diff().fillna(0)\n"
     ]
    },
    {
     "data": {
      "text/html": [
       "<div>\n",
       "<style scoped>\n",
       "    .dataframe tbody tr th:only-of-type {\n",
       "        vertical-align: middle;\n",
       "    }\n",
       "\n",
       "    .dataframe tbody tr th {\n",
       "        vertical-align: top;\n",
       "    }\n",
       "\n",
       "    .dataframe thead th {\n",
       "        text-align: right;\n",
       "    }\n",
       "</style>\n",
       "<table border=\"1\" class=\"dataframe\">\n",
       "  <thead>\n",
       "    <tr style=\"text-align: right;\">\n",
       "      <th></th>\n",
       "      <th>Province/State</th>\n",
       "      <th>Country/Region</th>\n",
       "      <th>Lat</th>\n",
       "      <th>Long</th>\n",
       "      <th>date</th>\n",
       "      <th>total_infection_cases</th>\n",
       "      <th>daily_infection</th>\n",
       "    </tr>\n",
       "  </thead>\n",
       "  <tbody>\n",
       "    <tr>\n",
       "      <th>204</th>\n",
       "      <td>NaN</td>\n",
       "      <td>Pakistan</td>\n",
       "      <td>30.3753</td>\n",
       "      <td>69.3451</td>\n",
       "      <td>2020-01-22</td>\n",
       "      <td>0</td>\n",
       "      <td>0.0</td>\n",
       "    </tr>\n",
       "    <tr>\n",
       "      <th>479</th>\n",
       "      <td>NaN</td>\n",
       "      <td>Pakistan</td>\n",
       "      <td>30.3753</td>\n",
       "      <td>69.3451</td>\n",
       "      <td>2020-01-23</td>\n",
       "      <td>0</td>\n",
       "      <td>0.0</td>\n",
       "    </tr>\n",
       "    <tr>\n",
       "      <th>754</th>\n",
       "      <td>NaN</td>\n",
       "      <td>Pakistan</td>\n",
       "      <td>30.3753</td>\n",
       "      <td>69.3451</td>\n",
       "      <td>2020-01-24</td>\n",
       "      <td>0</td>\n",
       "      <td>0.0</td>\n",
       "    </tr>\n",
       "    <tr>\n",
       "      <th>1029</th>\n",
       "      <td>NaN</td>\n",
       "      <td>Pakistan</td>\n",
       "      <td>30.3753</td>\n",
       "      <td>69.3451</td>\n",
       "      <td>2020-01-25</td>\n",
       "      <td>0</td>\n",
       "      <td>0.0</td>\n",
       "    </tr>\n",
       "    <tr>\n",
       "      <th>1304</th>\n",
       "      <td>NaN</td>\n",
       "      <td>Pakistan</td>\n",
       "      <td>30.3753</td>\n",
       "      <td>69.3451</td>\n",
       "      <td>2020-01-26</td>\n",
       "      <td>0</td>\n",
       "      <td>0.0</td>\n",
       "    </tr>\n",
       "  </tbody>\n",
       "</table>\n",
       "</div>"
      ],
      "text/plain": [
       "     Province/State Country/Region      Lat     Long       date  \\\n",
       "204             NaN       Pakistan  30.3753  69.3451 2020-01-22   \n",
       "479             NaN       Pakistan  30.3753  69.3451 2020-01-23   \n",
       "754             NaN       Pakistan  30.3753  69.3451 2020-01-24   \n",
       "1029            NaN       Pakistan  30.3753  69.3451 2020-01-25   \n",
       "1304            NaN       Pakistan  30.3753  69.3451 2020-01-26   \n",
       "\n",
       "      total_infection_cases  daily_infection  \n",
       "204                       0              0.0  \n",
       "479                       0              0.0  \n",
       "754                       0              0.0  \n",
       "1029                      0              0.0  \n",
       "1304                      0              0.0  "
      ]
     },
     "execution_count": 18,
     "metadata": {},
     "output_type": "execute_result"
    }
   ],
   "source": [
    "pakistan=get_dataset(\"Pakistan\")\n",
    "pakistan.head()"
   ]
  },
  {
   "cell_type": "code",
   "execution_count": 19,
   "metadata": {},
   "outputs": [
    {
     "data": {
      "text/plain": [
       "array([nan], dtype=object)"
      ]
     },
     "execution_count": 19,
     "metadata": {},
     "output_type": "execute_result"
    }
   ],
   "source": [
    "pakistan[\"Province/State\"].unique()"
   ]
  },
  {
   "cell_type": "code",
   "execution_count": 20,
   "metadata": {},
   "outputs": [],
   "source": [
    "from bokeh.io import output_notebook,curdoc, show\n",
    "from bokeh.plotting import figure"
   ]
  },
  {
   "cell_type": "code",
   "execution_count": 21,
   "metadata": {},
   "outputs": [
    {
     "data": {
      "text/html": [
       "\n",
       "    <div class=\"bk-root\">\n",
       "        <a href=\"https://bokeh.org\" target=\"_blank\" class=\"bk-logo bk-logo-small bk-logo-notebook\"></a>\n",
       "        <span id=\"1002\">Loading BokehJS ...</span>\n",
       "    </div>"
      ]
     },
     "metadata": {},
     "output_type": "display_data"
    },
    {
     "data": {
      "application/javascript": [
       "\n",
       "(function(root) {\n",
       "  function now() {\n",
       "    return new Date();\n",
       "  }\n",
       "\n",
       "  var force = true;\n",
       "\n",
       "  if (typeof root._bokeh_onload_callbacks === \"undefined\" || force === true) {\n",
       "    root._bokeh_onload_callbacks = [];\n",
       "    root._bokeh_is_loading = undefined;\n",
       "  }\n",
       "\n",
       "  var JS_MIME_TYPE = 'application/javascript';\n",
       "  var HTML_MIME_TYPE = 'text/html';\n",
       "  var EXEC_MIME_TYPE = 'application/vnd.bokehjs_exec.v0+json';\n",
       "  var CLASS_NAME = 'output_bokeh rendered_html';\n",
       "\n",
       "  /**\n",
       "   * Render data to the DOM node\n",
       "   */\n",
       "  function render(props, node) {\n",
       "    var script = document.createElement(\"script\");\n",
       "    node.appendChild(script);\n",
       "  }\n",
       "\n",
       "  /**\n",
       "   * Handle when an output is cleared or removed\n",
       "   */\n",
       "  function handleClearOutput(event, handle) {\n",
       "    var cell = handle.cell;\n",
       "\n",
       "    var id = cell.output_area._bokeh_element_id;\n",
       "    var server_id = cell.output_area._bokeh_server_id;\n",
       "    // Clean up Bokeh references\n",
       "    if (id != null && id in Bokeh.index) {\n",
       "      Bokeh.index[id].model.document.clear();\n",
       "      delete Bokeh.index[id];\n",
       "    }\n",
       "\n",
       "    if (server_id !== undefined) {\n",
       "      // Clean up Bokeh references\n",
       "      var cmd = \"from bokeh.io.state import curstate; print(curstate().uuid_to_server['\" + server_id + \"'].get_sessions()[0].document.roots[0]._id)\";\n",
       "      cell.notebook.kernel.execute(cmd, {\n",
       "        iopub: {\n",
       "          output: function(msg) {\n",
       "            var id = msg.content.text.trim();\n",
       "            if (id in Bokeh.index) {\n",
       "              Bokeh.index[id].model.document.clear();\n",
       "              delete Bokeh.index[id];\n",
       "            }\n",
       "          }\n",
       "        }\n",
       "      });\n",
       "      // Destroy server and session\n",
       "      var cmd = \"import bokeh.io.notebook as ion; ion.destroy_server('\" + server_id + \"')\";\n",
       "      cell.notebook.kernel.execute(cmd);\n",
       "    }\n",
       "  }\n",
       "\n",
       "  /**\n",
       "   * Handle when a new output is added\n",
       "   */\n",
       "  function handleAddOutput(event, handle) {\n",
       "    var output_area = handle.output_area;\n",
       "    var output = handle.output;\n",
       "\n",
       "    // limit handleAddOutput to display_data with EXEC_MIME_TYPE content only\n",
       "    if ((output.output_type != \"display_data\") || (!Object.prototype.hasOwnProperty.call(output.data, EXEC_MIME_TYPE))) {\n",
       "      return\n",
       "    }\n",
       "\n",
       "    var toinsert = output_area.element.find(\".\" + CLASS_NAME.split(' ')[0]);\n",
       "\n",
       "    if (output.metadata[EXEC_MIME_TYPE][\"id\"] !== undefined) {\n",
       "      toinsert[toinsert.length - 1].firstChild.textContent = output.data[JS_MIME_TYPE];\n",
       "      // store reference to embed id on output_area\n",
       "      output_area._bokeh_element_id = output.metadata[EXEC_MIME_TYPE][\"id\"];\n",
       "    }\n",
       "    if (output.metadata[EXEC_MIME_TYPE][\"server_id\"] !== undefined) {\n",
       "      var bk_div = document.createElement(\"div\");\n",
       "      bk_div.innerHTML = output.data[HTML_MIME_TYPE];\n",
       "      var script_attrs = bk_div.children[0].attributes;\n",
       "      for (var i = 0; i < script_attrs.length; i++) {\n",
       "        toinsert[toinsert.length - 1].firstChild.setAttribute(script_attrs[i].name, script_attrs[i].value);\n",
       "        toinsert[toinsert.length - 1].firstChild.textContent = bk_div.children[0].textContent\n",
       "      }\n",
       "      // store reference to server id on output_area\n",
       "      output_area._bokeh_server_id = output.metadata[EXEC_MIME_TYPE][\"server_id\"];\n",
       "    }\n",
       "  }\n",
       "\n",
       "  function register_renderer(events, OutputArea) {\n",
       "\n",
       "    function append_mime(data, metadata, element) {\n",
       "      // create a DOM node to render to\n",
       "      var toinsert = this.create_output_subarea(\n",
       "        metadata,\n",
       "        CLASS_NAME,\n",
       "        EXEC_MIME_TYPE\n",
       "      );\n",
       "      this.keyboard_manager.register_events(toinsert);\n",
       "      // Render to node\n",
       "      var props = {data: data, metadata: metadata[EXEC_MIME_TYPE]};\n",
       "      render(props, toinsert[toinsert.length - 1]);\n",
       "      element.append(toinsert);\n",
       "      return toinsert\n",
       "    }\n",
       "\n",
       "    /* Handle when an output is cleared or removed */\n",
       "    events.on('clear_output.CodeCell', handleClearOutput);\n",
       "    events.on('delete.Cell', handleClearOutput);\n",
       "\n",
       "    /* Handle when a new output is added */\n",
       "    events.on('output_added.OutputArea', handleAddOutput);\n",
       "\n",
       "    /**\n",
       "     * Register the mime type and append_mime function with output_area\n",
       "     */\n",
       "    OutputArea.prototype.register_mime_type(EXEC_MIME_TYPE, append_mime, {\n",
       "      /* Is output safe? */\n",
       "      safe: true,\n",
       "      /* Index of renderer in `output_area.display_order` */\n",
       "      index: 0\n",
       "    });\n",
       "  }\n",
       "\n",
       "  // register the mime type if in Jupyter Notebook environment and previously unregistered\n",
       "  if (root.Jupyter !== undefined) {\n",
       "    var events = require('base/js/events');\n",
       "    var OutputArea = require('notebook/js/outputarea').OutputArea;\n",
       "\n",
       "    if (OutputArea.prototype.mime_types().indexOf(EXEC_MIME_TYPE) == -1) {\n",
       "      register_renderer(events, OutputArea);\n",
       "    }\n",
       "  }\n",
       "\n",
       "  \n",
       "  if (typeof (root._bokeh_timeout) === \"undefined\" || force === true) {\n",
       "    root._bokeh_timeout = Date.now() + 5000;\n",
       "    root._bokeh_failed_load = false;\n",
       "  }\n",
       "\n",
       "  var NB_LOAD_WARNING = {'data': {'text/html':\n",
       "     \"<div style='background-color: #fdd'>\\n\"+\n",
       "     \"<p>\\n\"+\n",
       "     \"BokehJS does not appear to have successfully loaded. If loading BokehJS from CDN, this \\n\"+\n",
       "     \"may be due to a slow or bad network connection. Possible fixes:\\n\"+\n",
       "     \"</p>\\n\"+\n",
       "     \"<ul>\\n\"+\n",
       "     \"<li>re-rerun `output_notebook()` to attempt to load from CDN again, or</li>\\n\"+\n",
       "     \"<li>use INLINE resources instead, as so:</li>\\n\"+\n",
       "     \"</ul>\\n\"+\n",
       "     \"<code>\\n\"+\n",
       "     \"from bokeh.resources import INLINE\\n\"+\n",
       "     \"output_notebook(resources=INLINE)\\n\"+\n",
       "     \"</code>\\n\"+\n",
       "     \"</div>\"}};\n",
       "\n",
       "  function display_loaded() {\n",
       "    var el = document.getElementById(\"1002\");\n",
       "    if (el != null) {\n",
       "      el.textContent = \"BokehJS is loading...\";\n",
       "    }\n",
       "    if (root.Bokeh !== undefined) {\n",
       "      if (el != null) {\n",
       "        el.textContent = \"BokehJS \" + root.Bokeh.version + \" successfully loaded.\";\n",
       "      }\n",
       "    } else if (Date.now() < root._bokeh_timeout) {\n",
       "      setTimeout(display_loaded, 100)\n",
       "    }\n",
       "  }\n",
       "\n",
       "\n",
       "  function run_callbacks() {\n",
       "    try {\n",
       "      root._bokeh_onload_callbacks.forEach(function(callback) {\n",
       "        if (callback != null)\n",
       "          callback();\n",
       "      });\n",
       "    } finally {\n",
       "      delete root._bokeh_onload_callbacks\n",
       "    }\n",
       "    console.debug(\"Bokeh: all callbacks have finished\");\n",
       "  }\n",
       "\n",
       "  function load_libs(css_urls, js_urls, callback) {\n",
       "    if (css_urls == null) css_urls = [];\n",
       "    if (js_urls == null) js_urls = [];\n",
       "\n",
       "    root._bokeh_onload_callbacks.push(callback);\n",
       "    if (root._bokeh_is_loading > 0) {\n",
       "      console.debug(\"Bokeh: BokehJS is being loaded, scheduling callback at\", now());\n",
       "      return null;\n",
       "    }\n",
       "    if (js_urls == null || js_urls.length === 0) {\n",
       "      run_callbacks();\n",
       "      return null;\n",
       "    }\n",
       "    console.debug(\"Bokeh: BokehJS not loaded, scheduling load and callback at\", now());\n",
       "    root._bokeh_is_loading = css_urls.length + js_urls.length;\n",
       "\n",
       "    function on_load() {\n",
       "      root._bokeh_is_loading--;\n",
       "      if (root._bokeh_is_loading === 0) {\n",
       "        console.debug(\"Bokeh: all BokehJS libraries/stylesheets loaded\");\n",
       "        run_callbacks()\n",
       "      }\n",
       "    }\n",
       "\n",
       "    function on_error(url) {\n",
       "      console.error(\"failed to load \" + url);\n",
       "    }\n",
       "\n",
       "    for (let i = 0; i < css_urls.length; i++) {\n",
       "      const url = css_urls[i];\n",
       "      const element = document.createElement(\"link\");\n",
       "      element.onload = on_load;\n",
       "      element.onerror = on_error.bind(null, url);\n",
       "      element.rel = \"stylesheet\";\n",
       "      element.type = \"text/css\";\n",
       "      element.href = url;\n",
       "      console.debug(\"Bokeh: injecting link tag for BokehJS stylesheet: \", url);\n",
       "      document.body.appendChild(element);\n",
       "    }\n",
       "\n",
       "    const hashes = {\"https://cdn.bokeh.org/bokeh/release/bokeh-2.3.2.min.js\": \"XypntL49z55iwGVUW4qsEu83zKL3XEcz0MjuGOQ9SlaaQ68X/g+k1FcioZi7oQAc\", \"https://cdn.bokeh.org/bokeh/release/bokeh-tables-2.3.2.min.js\": \"bEsM86IHGDTLCS0Zod8a8WM6Y4+lafAL/eSiyQcuPzinmWNgNO2/olUF0Z2Dkn5i\", \"https://cdn.bokeh.org/bokeh/release/bokeh-widgets-2.3.2.min.js\": \"TX0gSQTdXTTeScqxj6PVQxTiRW8DOoGVwinyi1D3kxv7wuxQ02XkOxv0xwiypcAH\"};\n",
       "\n",
       "    for (let i = 0; i < js_urls.length; i++) {\n",
       "      const url = js_urls[i];\n",
       "      const element = document.createElement('script');\n",
       "      element.onload = on_load;\n",
       "      element.onerror = on_error.bind(null, url);\n",
       "      element.async = false;\n",
       "      element.src = url;\n",
       "      if (url in hashes) {\n",
       "        element.crossOrigin = \"anonymous\";\n",
       "        element.integrity = \"sha384-\" + hashes[url];\n",
       "      }\n",
       "      console.debug(\"Bokeh: injecting script tag for BokehJS library: \", url);\n",
       "      document.head.appendChild(element);\n",
       "    }\n",
       "  };\n",
       "\n",
       "  function inject_raw_css(css) {\n",
       "    const element = document.createElement(\"style\");\n",
       "    element.appendChild(document.createTextNode(css));\n",
       "    document.body.appendChild(element);\n",
       "  }\n",
       "\n",
       "  \n",
       "  var js_urls = [\"https://cdn.bokeh.org/bokeh/release/bokeh-2.3.2.min.js\", \"https://cdn.bokeh.org/bokeh/release/bokeh-widgets-2.3.2.min.js\", \"https://cdn.bokeh.org/bokeh/release/bokeh-tables-2.3.2.min.js\"];\n",
       "  var css_urls = [];\n",
       "  \n",
       "\n",
       "  var inline_js = [\n",
       "    function(Bokeh) {\n",
       "      Bokeh.set_log_level(\"info\");\n",
       "    },\n",
       "    function(Bokeh) {\n",
       "    \n",
       "    \n",
       "    }\n",
       "  ];\n",
       "\n",
       "  function run_inline_js() {\n",
       "    \n",
       "    if (root.Bokeh !== undefined || force === true) {\n",
       "      \n",
       "    for (var i = 0; i < inline_js.length; i++) {\n",
       "      inline_js[i].call(root, root.Bokeh);\n",
       "    }\n",
       "    if (force === true) {\n",
       "        display_loaded();\n",
       "      }} else if (Date.now() < root._bokeh_timeout) {\n",
       "      setTimeout(run_inline_js, 100);\n",
       "    } else if (!root._bokeh_failed_load) {\n",
       "      console.log(\"Bokeh: BokehJS failed to load within specified timeout.\");\n",
       "      root._bokeh_failed_load = true;\n",
       "    } else if (force !== true) {\n",
       "      var cell = $(document.getElementById(\"1002\")).parents('.cell').data().cell;\n",
       "      cell.output_area.append_execute_result(NB_LOAD_WARNING)\n",
       "    }\n",
       "\n",
       "  }\n",
       "\n",
       "  if (root._bokeh_is_loading === 0) {\n",
       "    console.debug(\"Bokeh: BokehJS loaded, going straight to plotting\");\n",
       "    run_inline_js();\n",
       "  } else {\n",
       "    load_libs(css_urls, js_urls, function() {\n",
       "      console.debug(\"Bokeh: BokehJS plotting callback run at\", now());\n",
       "      run_inline_js();\n",
       "    });\n",
       "  }\n",
       "}(window));"
      ],
      "application/vnd.bokehjs_load.v0+json": "\n(function(root) {\n  function now() {\n    return new Date();\n  }\n\n  var force = true;\n\n  if (typeof root._bokeh_onload_callbacks === \"undefined\" || force === true) {\n    root._bokeh_onload_callbacks = [];\n    root._bokeh_is_loading = undefined;\n  }\n\n  \n\n  \n  if (typeof (root._bokeh_timeout) === \"undefined\" || force === true) {\n    root._bokeh_timeout = Date.now() + 5000;\n    root._bokeh_failed_load = false;\n  }\n\n  var NB_LOAD_WARNING = {'data': {'text/html':\n     \"<div style='background-color: #fdd'>\\n\"+\n     \"<p>\\n\"+\n     \"BokehJS does not appear to have successfully loaded. If loading BokehJS from CDN, this \\n\"+\n     \"may be due to a slow or bad network connection. Possible fixes:\\n\"+\n     \"</p>\\n\"+\n     \"<ul>\\n\"+\n     \"<li>re-rerun `output_notebook()` to attempt to load from CDN again, or</li>\\n\"+\n     \"<li>use INLINE resources instead, as so:</li>\\n\"+\n     \"</ul>\\n\"+\n     \"<code>\\n\"+\n     \"from bokeh.resources import INLINE\\n\"+\n     \"output_notebook(resources=INLINE)\\n\"+\n     \"</code>\\n\"+\n     \"</div>\"}};\n\n  function display_loaded() {\n    var el = document.getElementById(\"1002\");\n    if (el != null) {\n      el.textContent = \"BokehJS is loading...\";\n    }\n    if (root.Bokeh !== undefined) {\n      if (el != null) {\n        el.textContent = \"BokehJS \" + root.Bokeh.version + \" successfully loaded.\";\n      }\n    } else if (Date.now() < root._bokeh_timeout) {\n      setTimeout(display_loaded, 100)\n    }\n  }\n\n\n  function run_callbacks() {\n    try {\n      root._bokeh_onload_callbacks.forEach(function(callback) {\n        if (callback != null)\n          callback();\n      });\n    } finally {\n      delete root._bokeh_onload_callbacks\n    }\n    console.debug(\"Bokeh: all callbacks have finished\");\n  }\n\n  function load_libs(css_urls, js_urls, callback) {\n    if (css_urls == null) css_urls = [];\n    if (js_urls == null) js_urls = [];\n\n    root._bokeh_onload_callbacks.push(callback);\n    if (root._bokeh_is_loading > 0) {\n      console.debug(\"Bokeh: BokehJS is being loaded, scheduling callback at\", now());\n      return null;\n    }\n    if (js_urls == null || js_urls.length === 0) {\n      run_callbacks();\n      return null;\n    }\n    console.debug(\"Bokeh: BokehJS not loaded, scheduling load and callback at\", now());\n    root._bokeh_is_loading = css_urls.length + js_urls.length;\n\n    function on_load() {\n      root._bokeh_is_loading--;\n      if (root._bokeh_is_loading === 0) {\n        console.debug(\"Bokeh: all BokehJS libraries/stylesheets loaded\");\n        run_callbacks()\n      }\n    }\n\n    function on_error(url) {\n      console.error(\"failed to load \" + url);\n    }\n\n    for (let i = 0; i < css_urls.length; i++) {\n      const url = css_urls[i];\n      const element = document.createElement(\"link\");\n      element.onload = on_load;\n      element.onerror = on_error.bind(null, url);\n      element.rel = \"stylesheet\";\n      element.type = \"text/css\";\n      element.href = url;\n      console.debug(\"Bokeh: injecting link tag for BokehJS stylesheet: \", url);\n      document.body.appendChild(element);\n    }\n\n    const hashes = {\"https://cdn.bokeh.org/bokeh/release/bokeh-2.3.2.min.js\": \"XypntL49z55iwGVUW4qsEu83zKL3XEcz0MjuGOQ9SlaaQ68X/g+k1FcioZi7oQAc\", \"https://cdn.bokeh.org/bokeh/release/bokeh-tables-2.3.2.min.js\": \"bEsM86IHGDTLCS0Zod8a8WM6Y4+lafAL/eSiyQcuPzinmWNgNO2/olUF0Z2Dkn5i\", \"https://cdn.bokeh.org/bokeh/release/bokeh-widgets-2.3.2.min.js\": \"TX0gSQTdXTTeScqxj6PVQxTiRW8DOoGVwinyi1D3kxv7wuxQ02XkOxv0xwiypcAH\"};\n\n    for (let i = 0; i < js_urls.length; i++) {\n      const url = js_urls[i];\n      const element = document.createElement('script');\n      element.onload = on_load;\n      element.onerror = on_error.bind(null, url);\n      element.async = false;\n      element.src = url;\n      if (url in hashes) {\n        element.crossOrigin = \"anonymous\";\n        element.integrity = \"sha384-\" + hashes[url];\n      }\n      console.debug(\"Bokeh: injecting script tag for BokehJS library: \", url);\n      document.head.appendChild(element);\n    }\n  };\n\n  function inject_raw_css(css) {\n    const element = document.createElement(\"style\");\n    element.appendChild(document.createTextNode(css));\n    document.body.appendChild(element);\n  }\n\n  \n  var js_urls = [\"https://cdn.bokeh.org/bokeh/release/bokeh-2.3.2.min.js\", \"https://cdn.bokeh.org/bokeh/release/bokeh-widgets-2.3.2.min.js\", \"https://cdn.bokeh.org/bokeh/release/bokeh-tables-2.3.2.min.js\"];\n  var css_urls = [];\n  \n\n  var inline_js = [\n    function(Bokeh) {\n      Bokeh.set_log_level(\"info\");\n    },\n    function(Bokeh) {\n    \n    \n    }\n  ];\n\n  function run_inline_js() {\n    \n    if (root.Bokeh !== undefined || force === true) {\n      \n    for (var i = 0; i < inline_js.length; i++) {\n      inline_js[i].call(root, root.Bokeh);\n    }\n    if (force === true) {\n        display_loaded();\n      }} else if (Date.now() < root._bokeh_timeout) {\n      setTimeout(run_inline_js, 100);\n    } else if (!root._bokeh_failed_load) {\n      console.log(\"Bokeh: BokehJS failed to load within specified timeout.\");\n      root._bokeh_failed_load = true;\n    } else if (force !== true) {\n      var cell = $(document.getElementById(\"1002\")).parents('.cell').data().cell;\n      cell.output_area.append_execute_result(NB_LOAD_WARNING)\n    }\n\n  }\n\n  if (root._bokeh_is_loading === 0) {\n    console.debug(\"Bokeh: BokehJS loaded, going straight to plotting\");\n    run_inline_js();\n  } else {\n    load_libs(css_urls, js_urls, function() {\n      console.debug(\"Bokeh: BokehJS plotting callback run at\", now());\n      run_inline_js();\n    });\n  }\n}(window));"
     },
     "metadata": {},
     "output_type": "display_data"
    }
   ],
   "source": [
    "output_notebook()"
   ]
  },
  {
   "cell_type": "markdown",
   "metadata": {},
   "source": [
    "### Legends\n",
    "\n",
    "When plots have multiple glyphs, it is desirable to include a legend to help users interpret what they see. Bokeh can generate legends easily based on the glyphs that are added. "
   ]
  },
  {
   "cell_type": "markdown",
   "metadata": {},
   "source": [
    "### Simple Legends\n",
    "\n",
    "In the simplest case, you can simply pass a string as the `legend_label` argument to a glyph function:\n",
    "```python\n",
    "p.circle(x, y, legend_label=\"sin(x)\")\n",
    "``` \n",
    "In this case Bokeh will automatically create a legend that shows a representation of that glyph, labeled by the test you provided. A full example is below."
   ]
  },
  {
   "cell_type": "code",
   "execution_count": 22,
   "metadata": {},
   "outputs": [
    {
     "data": {
      "text/html": [
       "\n",
       "\n",
       "\n",
       "\n",
       "\n",
       "\n",
       "  <div class=\"bk-root\" id=\"6deb3233-fd42-4176-a320-b1a10e89bd5a\" data-root-id=\"1003\"></div>\n"
      ]
     },
     "metadata": {},
     "output_type": "display_data"
    },
    {
     "data": {
      "application/javascript": [
       "(function(root) {\n",
       "  function embed_document(root) {\n",
       "    \n",
       "  var docs_json = {\"b6601293-f7ff-4b8f-9b99-2afd9944e758\":{\"defs\":[],\"roots\":{\"references\":[{\"attributes\":{\"below\":[{\"id\":\"1012\"}],\"center\":[{\"id\":\"1015\"},{\"id\":\"1019\"},{\"id\":\"1050\"}],\"height\":300,\"left\":[{\"id\":\"1016\"}],\"renderers\":[{\"id\":\"1037\"},{\"id\":\"1055\"}],\"title\":{\"id\":\"1040\"},\"toolbar\":{\"id\":\"1027\"},\"x_range\":{\"id\":\"1004\"},\"x_scale\":{\"id\":\"1008\"},\"y_range\":{\"id\":\"1006\"},\"y_scale\":{\"id\":\"1010\"}},\"id\":\"1003\",\"subtype\":\"Figure\",\"type\":\"Plot\"},{\"attributes\":{},\"id\":\"1020\",\"type\":\"PanTool\"},{\"attributes\":{},\"id\":\"1023\",\"type\":\"SaveTool\"},{\"attributes\":{\"source\":{\"id\":\"1034\"}},\"id\":\"1038\",\"type\":\"CDSView\"},{\"attributes\":{},\"id\":\"1024\",\"type\":\"ResetTool\"},{\"attributes\":{\"data_source\":{\"id\":\"1052\"},\"glyph\":{\"id\":\"1053\"},\"hover_glyph\":null,\"muted_glyph\":null,\"nonselection_glyph\":{\"id\":\"1054\"},\"view\":{\"id\":\"1056\"}},\"id\":\"1055\",\"type\":\"GlyphRenderer\"},{\"attributes\":{\"data_source\":{\"id\":\"1034\"},\"glyph\":{\"id\":\"1035\"},\"hover_glyph\":null,\"muted_glyph\":null,\"nonselection_glyph\":{\"id\":\"1036\"},\"view\":{\"id\":\"1038\"}},\"id\":\"1037\",\"type\":\"GlyphRenderer\"},{\"attributes\":{},\"id\":\"1048\",\"type\":\"Selection\"},{\"attributes\":{},\"id\":\"1045\",\"type\":\"BasicTickFormatter\"},{\"attributes\":{\"fill_alpha\":{\"value\":0.1},\"fill_color\":{\"value\":\"DarkOrange\"},\"line_alpha\":{\"value\":0.1},\"line_color\":{\"value\":\"DarkOrange\"},\"x\":{\"field\":\"x\"},\"y\":{\"field\":\"y\"}},\"id\":\"1054\",\"type\":\"Circle\"},{\"attributes\":{\"items\":[{\"id\":\"1051\"},{\"id\":\"1070\"}]},\"id\":\"1050\",\"type\":\"Legend\"},{\"attributes\":{},\"id\":\"1068\",\"type\":\"Selection\"},{\"attributes\":{},\"id\":\"1044\",\"type\":\"AllLabels\"},{\"attributes\":{\"source\":{\"id\":\"1052\"}},\"id\":\"1056\",\"type\":\"CDSView\"},{\"attributes\":{},\"id\":\"1049\",\"type\":\"UnionRenderers\"},{\"attributes\":{\"label\":{\"value\":\"sin(x)\"},\"renderers\":[{\"id\":\"1037\"}]},\"id\":\"1051\",\"type\":\"LegendItem\"},{\"attributes\":{\"label\":{\"value\":\"cos(x)\"},\"renderers\":[{\"id\":\"1055\"}]},\"id\":\"1070\",\"type\":\"LegendItem\"},{\"attributes\":{},\"id\":\"1040\",\"type\":\"Title\"},{\"attributes\":{},\"id\":\"1042\",\"type\":\"BasicTickFormatter\"},{\"attributes\":{},\"id\":\"1006\",\"type\":\"DataRange1d\"},{\"attributes\":{\"line_color\":\"firebrick\",\"line_dash\":[4,4],\"line_width\":2,\"x\":{\"field\":\"x\"},\"y\":{\"field\":\"y\"}},\"id\":\"1035\",\"type\":\"Line\"},{\"attributes\":{},\"id\":\"1069\",\"type\":\"UnionRenderers\"},{\"attributes\":{\"end\":10},\"id\":\"1004\",\"type\":\"Range1d\"},{\"attributes\":{\"active_multi\":null,\"tools\":[{\"id\":\"1020\"},{\"id\":\"1021\"},{\"id\":\"1022\"},{\"id\":\"1023\"},{\"id\":\"1024\"},{\"id\":\"1025\"}]},\"id\":\"1027\",\"type\":\"Toolbar\"},{\"attributes\":{},\"id\":\"1041\",\"type\":\"AllLabels\"},{\"attributes\":{\"data\":{\"x\":{\"__ndarray__\":\"AAAAAAAAAACamZmZmZm5P5qZmZmZmck/NDMzMzMz0z+amZmZmZnZPwAAAAAAAOA/NDMzMzMz4z9nZmZmZmbmP5qZmZmZmek/zczMzMzM7D8AAAAAAADwP5qZmZmZmfE/NDMzMzMz8z/NzMzMzMz0P2dmZmZmZvY/AAAAAAAA+D+amZmZmZn5PzQzMzMzM/s/zczMzMzM/D9nZmZmZmb+PwAAAAAAAABAzczMzMzMAECamZmZmZkBQGdmZmZmZgJANDMzMzMzA0AAAAAAAAAEQM3MzMzMzARAmpmZmZmZBUBnZmZmZmYGQDQzMzMzMwdAAAAAAAAACEDNzMzMzMwIQJqZmZmZmQlAZ2ZmZmZmCkA0MzMzMzMLQAAAAAAAAAxAzczMzMzMDECamZmZmZkNQGdmZmZmZg5ANDMzMzMzD0AAAAAAAAAQQGdmZmZmZhBAzczMzMzMEEAzMzMzMzMRQJqZmZmZmRFAAAAAAAAAEkBnZmZmZmYSQM3MzMzMzBJANDMzMzMzE0CamZmZmZkTQAAAAAAAABRAZ2ZmZmZmFEDNzMzMzMwUQDQzMzMzMxVAmpmZmZmZFUAAAAAAAAAWQGdmZmZmZhZAzczMzMzMFkA0MzMzMzMXQJqZmZmZmRdAAAAAAAAAGEBnZmZmZmYYQM3MzMzMzBhANDMzMzMzGUCamZmZmZkZQAAAAAAAABpAZ2ZmZmZmGkDNzMzMzMwaQDQzMzMzMxtAmpmZmZmZG0AAAAAAAAAcQGdmZmZmZhxAzczMzMzMHEA0MzMzMzMdQJqZmZmZmR1AAAAAAAAAHkBnZmZmZmYeQM3MzMzMzB5ANDMzMzMzH0CamZmZmZkfQAAAAAAAACBAMzMzMzMzIEBnZmZmZmYgQJqZmZmZmSBAzczMzMzMIEAAAAAAAAAhQDMzMzMzMyFAZ2ZmZmZmIUCamZmZmZkhQM3MzMzMzCFAAAAAAAAAIkAzMzMzMzMiQGdmZmZmZiJAmpmZmZmZIkDNzMzMzMwiQAAAAAAAACNANDMzMzMzI0BnZmZmZmYjQJqZmZmZmSNAzczMzMzMI0A=\",\"dtype\":\"float64\",\"order\":\"little\",\"shape\":[100]},\"y\":{\"__ndarray__\":\"AAAAAAAAAAAsy4vLro65P7zSPSP/bck/NLq6lc3p0j9rZyvpOuzYP/AFS3Tort4/WkGlF40R4j+5GUZpbp3kP83+v8KU9OY/QahdmAMR6T/uDAmPVO3qPzhjLUzFhOw/xVUaokPT7T9LHsX5d9XuPwPhRN/NiO8/i20sm3rr7z/FQuDHgfzvP7aYL9e3u+8/8BW9gcIp7z9XOBofF0juP0a00er2GO0/+3LrP2mf6z8I16rZM9/pPyIvWC3R3Oc/mNHD9WSd5T+wys8NrybjP7uFoLv8fuA/DKckJDFa2z/A5V0jcnDVP9MwSNa4n84/W9W2bTgQwj8uEJiCD0qlPzIt6Dk3462/lwy3ygIxxL90TP8QyVrQvx9iun47c9a/8dHwQ0FS3L9BGy7savTgv6DA7P9WlOO/zrMfLS4C5r+uHtzduTfov73I4npTL+q/2BLQ3/Lj678ligE6O1Htv/AoRTGGc+6/gEDHPe1H77+67F0TUczvv1LsNw9f/++//z0MmpTg77+k6yJ2QHDvvzOZ4PWBr+6/uSLYHEag7b/XJLqyQkXsvzcSvFTvoeq/cAUyl3y66L9XsApOyZPmv7T1lhdWM+S/oMd6STef4b/K347HCrzdvxu9C2SY7de/wKKwivHh0b9c+zPXGVHHvx3NvttYRbW/fj/Lwqk3kT8sKjUvK9a9PzzLxkANics/kgnpL0vw0z/8iDWkD+nZPwkR6pqNn98/vxrYG5SC4j8ICm3CCAblP4tjZOG2U+c/D8njJbpl6T9JdB3cxjbrP/YpBXs3wuw/MK78hhgE7j8P+BCtMvnuP1hU7vwSn+8/L7eALBH07z+pXzrVU/fvP3vPKKDSqO8/Z7RJW1YJ7z8uM+n3dhruP09hK3eX3uw/mvctz99Y6z/82V/YNI3pPy2xtFcugOc/96EuPws35T/d0spCpLfiP4A3I+RcCOA/kS8MNiZg2j8X2Z+JG2zUP2ub1R2oh8w/UCzOvj7cvz/iQUSoul6ZP3onpJQaPbO/KLcVCFdQxr9zobGuhmTRvwJus+BkdNe/cLYgoURI3b8=\",\"dtype\":\"float64\",\"order\":\"little\",\"shape\":[100]}},\"selected\":{\"id\":\"1048\"},\"selection_policy\":{\"id\":\"1049\"}},\"id\":\"1034\",\"type\":\"ColumnDataSource\"},{\"attributes\":{\"data\":{\"x\":{\"__ndarray__\":\"AAAAAAAAAACamZmZmZm5P5qZmZmZmck/NDMzMzMz0z+amZmZmZnZPwAAAAAAAOA/NDMzMzMz4z9nZmZmZmbmP5qZmZmZmek/zczMzMzM7D8AAAAAAADwP5qZmZmZmfE/NDMzMzMz8z/NzMzMzMz0P2dmZmZmZvY/AAAAAAAA+D+amZmZmZn5PzQzMzMzM/s/zczMzMzM/D9nZmZmZmb+PwAAAAAAAABAzczMzMzMAECamZmZmZkBQGdmZmZmZgJANDMzMzMzA0AAAAAAAAAEQM3MzMzMzARAmpmZmZmZBUBnZmZmZmYGQDQzMzMzMwdAAAAAAAAACEDNzMzMzMwIQJqZmZmZmQlAZ2ZmZmZmCkA0MzMzMzMLQAAAAAAAAAxAzczMzMzMDECamZmZmZkNQGdmZmZmZg5ANDMzMzMzD0AAAAAAAAAQQGdmZmZmZhBAzczMzMzMEEAzMzMzMzMRQJqZmZmZmRFAAAAAAAAAEkBnZmZmZmYSQM3MzMzMzBJANDMzMzMzE0CamZmZmZkTQAAAAAAAABRAZ2ZmZmZmFEDNzMzMzMwUQDQzMzMzMxVAmpmZmZmZFUAAAAAAAAAWQGdmZmZmZhZAzczMzMzMFkA0MzMzMzMXQJqZmZmZmRdAAAAAAAAAGEBnZmZmZmYYQM3MzMzMzBhANDMzMzMzGUCamZmZmZkZQAAAAAAAABpAZ2ZmZmZmGkDNzMzMzMwaQDQzMzMzMxtAmpmZmZmZG0AAAAAAAAAcQGdmZmZmZhxAzczMzMzMHEA0MzMzMzMdQJqZmZmZmR1AAAAAAAAAHkBnZmZmZmYeQM3MzMzMzB5ANDMzMzMzH0CamZmZmZkfQAAAAAAAACBAMzMzMzMzIEBnZmZmZmYgQJqZmZmZmSBAzczMzMzMIEAAAAAAAAAhQDMzMzMzMyFAZ2ZmZmZmIUCamZmZmZkhQM3MzMzMzCFAAAAAAAAAIkAzMzMzMzMiQGdmZmZmZiJAmpmZmZmZIkDNzMzMzMwiQAAAAAAAACNANDMzMzMzI0BnZmZmZmYjQJqZmZmZmSNAzczMzMzMI0A=\",\"dtype\":\"float64\",\"order\":\"little\",\"shape\":[100]},\"y\":{\"__ndarray__\":\"AAAAAAAA8D/BF6j5EtfvP3pid5W0XO8/ugkv1B2S7j/4otvnVHntP1B9WwYoFew/FFtIPCZp6j+SnZ9SlnnoP2WYcd5rS+Y/HOKSljrk4z+MBrUPKErhPxFhxwa4B90/0Hk7lN4w1z9fTCposx7RPwNXE7x7wcU/p/nFT9Ubsj8zFl/Feuadv45sovT5fcC/eg4lT/UUzb+vRTS5xrDUvwVyU1cmotq/yp6YBLMn4L9wrYhLANXiv+QvMBciUuW/iNGQtLqY5799i4Xv96Lpv3D0gPaha+u/pgNmsyju7L9McFd3rybuv8pAo9sWEu+/0uWFvgSu778kplZH6vjvv7bLueIH8u+/tgunLG+Z778Cvl7DAvDuv18awQN09+2/WSzStD6y7L832X2toiPrv+io24SbT+m/58g0YtY657/BJNsGpurkv2QtajD1ZOK/HceK7G5g379TOxaSsabZv6rCYnxXq9O/aj1YVFv7yr+KjVkrB7a8vzRqUEM6X4m/f0BOWFVmtj9kFnwno9/HP9lKa3CFJ9I/q1zkjskw2D/uajdZLfzdP9wydD9vveE/jLAlb2dP5D9I1Ac8bK3mP4QKg4hv0eg/Kv4Nlve16j8ncqcGLVbsPylQ+T7nre0/9SJ4Cbe57j+0mElf73bvP86peUCs4+8/QXr8idf+7z+hTB69K8jvP8jDRbE0QO8/KsRBLk5o7j8b5bVyoELtP/fciK8a0us/SxJyhmsa6j8XINme9x/oP0ClHmnO5+U/6qAMLZ134z/EAYqEoNXgP32Ia88oEdw/L1xv5kUv1j/SFqwppBTQP57FwTTBocM/elqEfQugqz+rKlYyl42nv5QvY7++n8K/Ha+2b3Qsz7/FHg2XtrTVv3GhWaCtm9u/P65TPQOe4L+OsDp3rkPjv/sgzBoTuOW/3Dpjz+n057+NFS1WefTpv3nrDy6lseu/axmmpvon7b8KtdtAvFPuv5SkFEDrMe+/1J5iU0/A778TjzJDfP3vv0gM65TV6O+/s+4sG5CC77/lOLZuscvuv33uQFENxu2/GmQNAUF07L8=\",\"dtype\":\"float64\",\"order\":\"little\",\"shape\":[100]}},\"selected\":{\"id\":\"1068\"},\"selection_policy\":{\"id\":\"1069\"}},\"id\":\"1052\",\"type\":\"ColumnDataSource\"},{\"attributes\":{\"bottom_units\":\"screen\",\"fill_alpha\":0.5,\"fill_color\":\"lightgrey\",\"left_units\":\"screen\",\"level\":\"overlay\",\"line_alpha\":1.0,\"line_color\":\"black\",\"line_dash\":[4,4],\"line_width\":2,\"right_units\":\"screen\",\"syncable\":false,\"top_units\":\"screen\"},\"id\":\"1026\",\"type\":\"BoxAnnotation\"},{\"attributes\":{\"line_alpha\":0.1,\"line_color\":\"firebrick\",\"line_dash\":[4,4],\"line_width\":2,\"x\":{\"field\":\"x\"},\"y\":{\"field\":\"y\"}},\"id\":\"1036\",\"type\":\"Line\"},{\"attributes\":{\"fill_color\":{\"value\":\"DarkOrange\"},\"line_color\":{\"value\":\"DarkOrange\"},\"x\":{\"field\":\"x\"},\"y\":{\"field\":\"y\"}},\"id\":\"1053\",\"type\":\"Circle\"},{\"attributes\":{\"formatter\":{\"id\":\"1042\"},\"major_label_policy\":{\"id\":\"1041\"},\"ticker\":{\"id\":\"1017\"}},\"id\":\"1016\",\"type\":\"LinearAxis\"},{\"attributes\":{\"formatter\":{\"id\":\"1045\"},\"major_label_policy\":{\"id\":\"1044\"},\"ticker\":{\"id\":\"1013\"}},\"id\":\"1012\",\"type\":\"LinearAxis\"},{\"attributes\":{},\"id\":\"1008\",\"type\":\"LinearScale\"},{\"attributes\":{},\"id\":\"1010\",\"type\":\"LinearScale\"},{\"attributes\":{},\"id\":\"1025\",\"type\":\"HelpTool\"},{\"attributes\":{},\"id\":\"1013\",\"type\":\"BasicTicker\"},{\"attributes\":{\"axis\":{\"id\":\"1012\"},\"ticker\":null},\"id\":\"1015\",\"type\":\"Grid\"},{\"attributes\":{\"axis\":{\"id\":\"1016\"},\"dimension\":1,\"ticker\":null},\"id\":\"1019\",\"type\":\"Grid\"},{\"attributes\":{},\"id\":\"1017\",\"type\":\"BasicTicker\"},{\"attributes\":{\"overlay\":{\"id\":\"1026\"}},\"id\":\"1022\",\"type\":\"BoxZoomTool\"},{\"attributes\":{},\"id\":\"1021\",\"type\":\"WheelZoomTool\"}],\"root_ids\":[\"1003\"]},\"title\":\"Bokeh Application\",\"version\":\"2.3.2\"}};\n",
       "  var render_items = [{\"docid\":\"b6601293-f7ff-4b8f-9b99-2afd9944e758\",\"root_ids\":[\"1003\"],\"roots\":{\"1003\":\"6deb3233-fd42-4176-a320-b1a10e89bd5a\"}}];\n",
       "  root.Bokeh.embed.embed_items_notebook(docs_json, render_items);\n",
       "\n",
       "  }\n",
       "  if (root.Bokeh !== undefined) {\n",
       "    embed_document(root);\n",
       "  } else {\n",
       "    var attempts = 0;\n",
       "    var timer = setInterval(function(root) {\n",
       "      if (root.Bokeh !== undefined) {\n",
       "        clearInterval(timer);\n",
       "        embed_document(root);\n",
       "      } else {\n",
       "        attempts++;\n",
       "        if (attempts > 100) {\n",
       "          clearInterval(timer);\n",
       "          console.log(\"Bokeh: ERROR: Unable to run BokehJS code because BokehJS library is missing\");\n",
       "        }\n",
       "      }\n",
       "    }, 10, root)\n",
       "  }\n",
       "})(window);"
      ],
      "application/vnd.bokehjs_exec.v0+json": ""
     },
     "metadata": {
      "application/vnd.bokehjs_exec.v0+json": {
       "id": "1003"
      }
     },
     "output_type": "display_data"
    }
   ],
   "source": [
    "x=np.arange(0,10,0.1)\n",
    "y1=np.sin(x)\n",
    "y2=np.cos(x)\n",
    "\n",
    "p=figure(plot_width=600, plot_height=300, \n",
    "        x_range=(0, 10))\n",
    "\n",
    "p.line(x, y1, \n",
    "      line_width=2, \n",
    "      line_color=\"firebrick\", \n",
    "      line_dash=[4,4], \n",
    "      legend_label=\"sin(x)\")\n",
    "\n",
    "p.circle(x, y2,\n",
    "        color=\"DarkOrange\", \n",
    "        legend_label=\"cos(x)\")\n",
    "\n",
    "show(p)"
   ]
  },
  {
   "cell_type": "markdown",
   "metadata": {},
   "source": [
    "### Compound legends\n",
    "\n",
    "In the example above, we provided a different legend label to each glyph method. Sometimes, two (or more) different glyphs are used with a single data source. In this case, you can make compound legends by specifying the same legend argument to multiple glyph methods when creating a plot, for example, if you plot a `sin` curve with both a line and a marker, you may give them the same label to cause them to show up together in the legend:\n",
    "\n",
    "```python\n",
    "p.circle(x, y, legend_label=\"sin(x)\")\n",
    "p.line(x, y, legend_label=\"sin(x)\", line_dash=[4, 4], line_color=\"orange\", line_width=2)\n",
    "```"
   ]
  },
  {
   "cell_type": "code",
   "execution_count": 23,
   "metadata": {},
   "outputs": [
    {
     "data": {
      "text/html": [
       "\n",
       "\n",
       "\n",
       "\n",
       "\n",
       "\n",
       "  <div class=\"bk-root\" id=\"e9e355fc-950c-4d91-b296-8b372f33c773\" data-root-id=\"1149\"></div>\n"
      ]
     },
     "metadata": {},
     "output_type": "display_data"
    },
    {
     "data": {
      "application/javascript": [
       "(function(root) {\n",
       "  function embed_document(root) {\n",
       "    \n",
       "  var docs_json = {\"2c877d6a-3be8-44a2-acd6-b3c2c3430503\":{\"defs\":[],\"roots\":{\"references\":[{\"attributes\":{\"below\":[{\"id\":\"1158\"}],\"center\":[{\"id\":\"1161\"},{\"id\":\"1165\"},{\"id\":\"1196\"}],\"height\":300,\"left\":[{\"id\":\"1162\"}],\"renderers\":[{\"id\":\"1183\"},{\"id\":\"1201\"},{\"id\":\"1219\"},{\"id\":\"1240\"}],\"title\":{\"id\":\"1186\"},\"toolbar\":{\"id\":\"1173\"},\"x_range\":{\"id\":\"1150\"},\"x_scale\":{\"id\":\"1154\"},\"y_range\":{\"id\":\"1152\"},\"y_scale\":{\"id\":\"1156\"}},\"id\":\"1149\",\"subtype\":\"Figure\",\"type\":\"Plot\"},{\"attributes\":{\"line_alpha\":0.1,\"line_color\":\"DarkOrange\",\"x\":{\"field\":\"x\"},\"y\":{\"field\":\"y\"}},\"id\":\"1239\",\"type\":\"Line\"},{\"attributes\":{\"active_multi\":null,\"tools\":[{\"id\":\"1166\"},{\"id\":\"1167\"},{\"id\":\"1168\"},{\"id\":\"1169\"},{\"id\":\"1170\"},{\"id\":\"1171\"}]},\"id\":\"1173\",\"type\":\"Toolbar\"},{\"attributes\":{\"source\":{\"id\":\"1216\"}},\"id\":\"1220\",\"type\":\"CDSView\"},{\"attributes\":{\"fill_color\":{\"value\":\"DarkOrange\"},\"line_color\":{\"value\":\"DarkOrange\"},\"x\":{\"field\":\"x\"},\"y\":{\"field\":\"y\"}},\"id\":\"1217\",\"type\":\"Circle\"},{\"attributes\":{\"fill_alpha\":{\"value\":0.1},\"fill_color\":{\"value\":\"DarkOrange\"},\"line_alpha\":{\"value\":0.1},\"line_color\":{\"value\":\"DarkOrange\"},\"x\":{\"field\":\"x\"},\"y\":{\"field\":\"y\"}},\"id\":\"1218\",\"type\":\"Circle\"},{\"attributes\":{\"data\":{\"x\":{\"__ndarray__\":\"AAAAAAAAAACamZmZmZm5P5qZmZmZmck/NDMzMzMz0z+amZmZmZnZPwAAAAAAAOA/NDMzMzMz4z9nZmZmZmbmP5qZmZmZmek/zczMzMzM7D8AAAAAAADwP5qZmZmZmfE/NDMzMzMz8z/NzMzMzMz0P2dmZmZmZvY/AAAAAAAA+D+amZmZmZn5PzQzMzMzM/s/zczMzMzM/D9nZmZmZmb+PwAAAAAAAABAzczMzMzMAECamZmZmZkBQGdmZmZmZgJANDMzMzMzA0AAAAAAAAAEQM3MzMzMzARAmpmZmZmZBUBnZmZmZmYGQDQzMzMzMwdAAAAAAAAACEDNzMzMzMwIQJqZmZmZmQlAZ2ZmZmZmCkA0MzMzMzMLQAAAAAAAAAxAzczMzMzMDECamZmZmZkNQGdmZmZmZg5ANDMzMzMzD0AAAAAAAAAQQGdmZmZmZhBAzczMzMzMEEAzMzMzMzMRQJqZmZmZmRFAAAAAAAAAEkBnZmZmZmYSQM3MzMzMzBJANDMzMzMzE0CamZmZmZkTQAAAAAAAABRAZ2ZmZmZmFEDNzMzMzMwUQDQzMzMzMxVAmpmZmZmZFUAAAAAAAAAWQGdmZmZmZhZAzczMzMzMFkA0MzMzMzMXQJqZmZmZmRdAAAAAAAAAGEBnZmZmZmYYQM3MzMzMzBhANDMzMzMzGUCamZmZmZkZQAAAAAAAABpAZ2ZmZmZmGkDNzMzMzMwaQDQzMzMzMxtAmpmZmZmZG0AAAAAAAAAcQGdmZmZmZhxAzczMzMzMHEA0MzMzMzMdQJqZmZmZmR1AAAAAAAAAHkBnZmZmZmYeQM3MzMzMzB5ANDMzMzMzH0CamZmZmZkfQAAAAAAAACBAMzMzMzMzIEBnZmZmZmYgQJqZmZmZmSBAzczMzMzMIEAAAAAAAAAhQDMzMzMzMyFAZ2ZmZmZmIUCamZmZmZkhQM3MzMzMzCFAAAAAAAAAIkAzMzMzMzMiQGdmZmZmZiJAmpmZmZmZIkDNzMzMzMwiQAAAAAAAACNANDMzMzMzI0BnZmZmZmYjQJqZmZmZmSNAzczMzMzMI0A=\",\"dtype\":\"float64\",\"order\":\"little\",\"shape\":[100]},\"y\":{\"__ndarray__\":\"AAAAAAAA8D/BF6j5EtfvP3pid5W0XO8/ugkv1B2S7j/4otvnVHntP1B9WwYoFew/FFtIPCZp6j+SnZ9SlnnoP2WYcd5rS+Y/HOKSljrk4z+MBrUPKErhPxFhxwa4B90/0Hk7lN4w1z9fTCposx7RPwNXE7x7wcU/p/nFT9Ubsj8zFl/Feuadv45sovT5fcC/eg4lT/UUzb+vRTS5xrDUvwVyU1cmotq/yp6YBLMn4L9wrYhLANXiv+QvMBciUuW/iNGQtLqY5799i4Xv96Lpv3D0gPaha+u/pgNmsyju7L9McFd3rybuv8pAo9sWEu+/0uWFvgSu778kplZH6vjvv7bLueIH8u+/tgunLG+Z778Cvl7DAvDuv18awQN09+2/WSzStD6y7L832X2toiPrv+io24SbT+m/58g0YtY657/BJNsGpurkv2QtajD1ZOK/HceK7G5g379TOxaSsabZv6rCYnxXq9O/aj1YVFv7yr+KjVkrB7a8vzRqUEM6X4m/f0BOWFVmtj9kFnwno9/HP9lKa3CFJ9I/q1zkjskw2D/uajdZLfzdP9wydD9vveE/jLAlb2dP5D9I1Ac8bK3mP4QKg4hv0eg/Kv4Nlve16j8ncqcGLVbsPylQ+T7nre0/9SJ4Cbe57j+0mElf73bvP86peUCs4+8/QXr8idf+7z+hTB69K8jvP8jDRbE0QO8/KsRBLk5o7j8b5bVyoELtP/fciK8a0us/SxJyhmsa6j8XINme9x/oP0ClHmnO5+U/6qAMLZ134z/EAYqEoNXgP32Ia88oEdw/L1xv5kUv1j/SFqwppBTQP57FwTTBocM/elqEfQugqz+rKlYyl42nv5QvY7++n8K/Ha+2b3Qsz7/FHg2XtrTVv3GhWaCtm9u/P65TPQOe4L+OsDp3rkPjv/sgzBoTuOW/3Dpjz+n057+NFS1WefTpv3nrDy6lseu/axmmpvon7b8KtdtAvFPuv5SkFEDrMe+/1J5iU0/A778TjzJDfP3vv0gM65TV6O+/s+4sG5CC77/lOLZuscvuv33uQFENxu2/GmQNAUF07L8=\",\"dtype\":\"float64\",\"order\":\"little\",\"shape\":[100]}},\"selected\":{\"id\":\"1257\"},\"selection_policy\":{\"id\":\"1258\"}},\"id\":\"1237\",\"type\":\"ColumnDataSource\"},{\"attributes\":{\"source\":{\"id\":\"1198\"}},\"id\":\"1202\",\"type\":\"CDSView\"},{\"attributes\":{},\"id\":\"1171\",\"type\":\"HelpTool\"},{\"attributes\":{},\"id\":\"1152\",\"type\":\"DataRange1d\"},{\"attributes\":{\"data\":{\"x\":{\"__ndarray__\":\"AAAAAAAAAACamZmZmZm5P5qZmZmZmck/NDMzMzMz0z+amZmZmZnZPwAAAAAAAOA/NDMzMzMz4z9nZmZmZmbmP5qZmZmZmek/zczMzMzM7D8AAAAAAADwP5qZmZmZmfE/NDMzMzMz8z/NzMzMzMz0P2dmZmZmZvY/AAAAAAAA+D+amZmZmZn5PzQzMzMzM/s/zczMzMzM/D9nZmZmZmb+PwAAAAAAAABAzczMzMzMAECamZmZmZkBQGdmZmZmZgJANDMzMzMzA0AAAAAAAAAEQM3MzMzMzARAmpmZmZmZBUBnZmZmZmYGQDQzMzMzMwdAAAAAAAAACEDNzMzMzMwIQJqZmZmZmQlAZ2ZmZmZmCkA0MzMzMzMLQAAAAAAAAAxAzczMzMzMDECamZmZmZkNQGdmZmZmZg5ANDMzMzMzD0AAAAAAAAAQQGdmZmZmZhBAzczMzMzMEEAzMzMzMzMRQJqZmZmZmRFAAAAAAAAAEkBnZmZmZmYSQM3MzMzMzBJANDMzMzMzE0CamZmZmZkTQAAAAAAAABRAZ2ZmZmZmFEDNzMzMzMwUQDQzMzMzMxVAmpmZmZmZFUAAAAAAAAAWQGdmZmZmZhZAzczMzMzMFkA0MzMzMzMXQJqZmZmZmRdAAAAAAAAAGEBnZmZmZmYYQM3MzMzMzBhANDMzMzMzGUCamZmZmZkZQAAAAAAAABpAZ2ZmZmZmGkDNzMzMzMwaQDQzMzMzMxtAmpmZmZmZG0AAAAAAAAAcQGdmZmZmZhxAzczMzMzMHEA0MzMzMzMdQJqZmZmZmR1AAAAAAAAAHkBnZmZmZmYeQM3MzMzMzB5ANDMzMzMzH0CamZmZmZkfQAAAAAAAACBAMzMzMzMzIEBnZmZmZmYgQJqZmZmZmSBAzczMzMzMIEAAAAAAAAAhQDMzMzMzMyFAZ2ZmZmZmIUCamZmZmZkhQM3MzMzMzCFAAAAAAAAAIkAzMzMzMzMiQGdmZmZmZiJAmpmZmZmZIkDNzMzMzMwiQAAAAAAAACNANDMzMzMzI0BnZmZmZmYjQJqZmZmZmSNAzczMzMzMI0A=\",\"dtype\":\"float64\",\"order\":\"little\",\"shape\":[100]},\"y\":{\"__ndarray__\":\"AAAAAAAA8D/BF6j5EtfvP3pid5W0XO8/ugkv1B2S7j/4otvnVHntP1B9WwYoFew/FFtIPCZp6j+SnZ9SlnnoP2WYcd5rS+Y/HOKSljrk4z+MBrUPKErhPxFhxwa4B90/0Hk7lN4w1z9fTCposx7RPwNXE7x7wcU/p/nFT9Ubsj8zFl/Feuadv45sovT5fcC/eg4lT/UUzb+vRTS5xrDUvwVyU1cmotq/yp6YBLMn4L9wrYhLANXiv+QvMBciUuW/iNGQtLqY5799i4Xv96Lpv3D0gPaha+u/pgNmsyju7L9McFd3rybuv8pAo9sWEu+/0uWFvgSu778kplZH6vjvv7bLueIH8u+/tgunLG+Z778Cvl7DAvDuv18awQN09+2/WSzStD6y7L832X2toiPrv+io24SbT+m/58g0YtY657/BJNsGpurkv2QtajD1ZOK/HceK7G5g379TOxaSsabZv6rCYnxXq9O/aj1YVFv7yr+KjVkrB7a8vzRqUEM6X4m/f0BOWFVmtj9kFnwno9/HP9lKa3CFJ9I/q1zkjskw2D/uajdZLfzdP9wydD9vveE/jLAlb2dP5D9I1Ac8bK3mP4QKg4hv0eg/Kv4Nlve16j8ncqcGLVbsPylQ+T7nre0/9SJ4Cbe57j+0mElf73bvP86peUCs4+8/QXr8idf+7z+hTB69K8jvP8jDRbE0QO8/KsRBLk5o7j8b5bVyoELtP/fciK8a0us/SxJyhmsa6j8XINme9x/oP0ClHmnO5+U/6qAMLZ134z/EAYqEoNXgP32Ia88oEdw/L1xv5kUv1j/SFqwppBTQP57FwTTBocM/elqEfQugqz+rKlYyl42nv5QvY7++n8K/Ha+2b3Qsz7/FHg2XtrTVv3GhWaCtm9u/P65TPQOe4L+OsDp3rkPjv/sgzBoTuOW/3Dpjz+n057+NFS1WefTpv3nrDy6lseu/axmmpvon7b8KtdtAvFPuv5SkFEDrMe+/1J5iU0/A778TjzJDfP3vv0gM65TV6O+/s+4sG5CC77/lOLZuscvuv33uQFENxu2/GmQNAUF07L8=\",\"dtype\":\"float64\",\"order\":\"little\",\"shape\":[100]}},\"selected\":{\"id\":\"1234\"},\"selection_policy\":{\"id\":\"1235\"}},\"id\":\"1216\",\"type\":\"ColumnDataSource\"},{\"attributes\":{},\"id\":\"1194\",\"type\":\"Selection\"},{\"attributes\":{\"fill_alpha\":{\"value\":0.1},\"fill_color\":{\"value\":\"firebrick\"},\"line_alpha\":{\"value\":0.1},\"line_color\":{\"value\":\"firebrick\"},\"x\":{\"field\":\"x\"},\"y\":{\"field\":\"y\"}},\"id\":\"1200\",\"type\":\"Circle\"},{\"attributes\":{},\"id\":\"1234\",\"type\":\"Selection\"},{\"attributes\":{\"data_source\":{\"id\":\"1216\"},\"glyph\":{\"id\":\"1217\"},\"hover_glyph\":null,\"muted_glyph\":null,\"nonselection_glyph\":{\"id\":\"1218\"},\"view\":{\"id\":\"1220\"}},\"id\":\"1219\",\"type\":\"GlyphRenderer\"},{\"attributes\":{},\"id\":\"1214\",\"type\":\"Selection\"},{\"attributes\":{},\"id\":\"1258\",\"type\":\"UnionRenderers\"},{\"attributes\":{},\"id\":\"1163\",\"type\":\"BasicTicker\"},{\"attributes\":{},\"id\":\"1154\",\"type\":\"LinearScale\"},{\"attributes\":{\"data_source\":{\"id\":\"1198\"},\"glyph\":{\"id\":\"1199\"},\"hover_glyph\":null,\"muted_glyph\":null,\"nonselection_glyph\":{\"id\":\"1200\"},\"view\":{\"id\":\"1202\"}},\"id\":\"1201\",\"type\":\"GlyphRenderer\"},{\"attributes\":{\"line_color\":\"firebrick\",\"line_width\":2,\"x\":{\"field\":\"x\"},\"y\":{\"field\":\"y\"}},\"id\":\"1181\",\"type\":\"Line\"},{\"attributes\":{\"label\":{\"value\":\"cos(x)\"},\"renderers\":[{\"id\":\"1219\"},{\"id\":\"1240\"}]},\"id\":\"1236\",\"type\":\"LegendItem\"},{\"attributes\":{},\"id\":\"1169\",\"type\":\"SaveTool\"},{\"attributes\":{\"source\":{\"id\":\"1180\"}},\"id\":\"1184\",\"type\":\"CDSView\"},{\"attributes\":{},\"id\":\"1195\",\"type\":\"UnionRenderers\"},{\"attributes\":{\"data_source\":{\"id\":\"1237\"},\"glyph\":{\"id\":\"1238\"},\"hover_glyph\":null,\"muted_glyph\":null,\"nonselection_glyph\":{\"id\":\"1239\"},\"view\":{\"id\":\"1241\"}},\"id\":\"1240\",\"type\":\"GlyphRenderer\"},{\"attributes\":{},\"id\":\"1156\",\"type\":\"LinearScale\"},{\"attributes\":{\"label\":{\"value\":\"sin(x)\"},\"renderers\":[{\"id\":\"1183\"},{\"id\":\"1201\"}]},\"id\":\"1197\",\"type\":\"LegendItem\"},{\"attributes\":{},\"id\":\"1235\",\"type\":\"UnionRenderers\"},{\"attributes\":{\"items\":[{\"id\":\"1197\"},{\"id\":\"1236\"}]},\"id\":\"1196\",\"type\":\"Legend\"},{\"attributes\":{\"formatter\":{\"id\":\"1191\"},\"major_label_policy\":{\"id\":\"1190\"},\"ticker\":{\"id\":\"1159\"}},\"id\":\"1158\",\"type\":\"LinearAxis\"},{\"attributes\":{},\"id\":\"1187\",\"type\":\"AllLabels\"},{\"attributes\":{\"bottom_units\":\"screen\",\"fill_alpha\":0.5,\"fill_color\":\"lightgrey\",\"left_units\":\"screen\",\"level\":\"overlay\",\"line_alpha\":1.0,\"line_color\":\"black\",\"line_dash\":[4,4],\"line_width\":2,\"right_units\":\"screen\",\"syncable\":false,\"top_units\":\"screen\"},\"id\":\"1172\",\"type\":\"BoxAnnotation\"},{\"attributes\":{\"axis\":{\"id\":\"1162\"},\"dimension\":1,\"ticker\":null},\"id\":\"1165\",\"type\":\"Grid\"},{\"attributes\":{\"line_alpha\":0.1,\"line_color\":\"firebrick\",\"line_width\":2,\"x\":{\"field\":\"x\"},\"y\":{\"field\":\"y\"}},\"id\":\"1182\",\"type\":\"Line\"},{\"attributes\":{\"data\":{\"x\":{\"__ndarray__\":\"AAAAAAAAAACamZmZmZm5P5qZmZmZmck/NDMzMzMz0z+amZmZmZnZPwAAAAAAAOA/NDMzMzMz4z9nZmZmZmbmP5qZmZmZmek/zczMzMzM7D8AAAAAAADwP5qZmZmZmfE/NDMzMzMz8z/NzMzMzMz0P2dmZmZmZvY/AAAAAAAA+D+amZmZmZn5PzQzMzMzM/s/zczMzMzM/D9nZmZmZmb+PwAAAAAAAABAzczMzMzMAECamZmZmZkBQGdmZmZmZgJANDMzMzMzA0AAAAAAAAAEQM3MzMzMzARAmpmZmZmZBUBnZmZmZmYGQDQzMzMzMwdAAAAAAAAACEDNzMzMzMwIQJqZmZmZmQlAZ2ZmZmZmCkA0MzMzMzMLQAAAAAAAAAxAzczMzMzMDECamZmZmZkNQGdmZmZmZg5ANDMzMzMzD0AAAAAAAAAQQGdmZmZmZhBAzczMzMzMEEAzMzMzMzMRQJqZmZmZmRFAAAAAAAAAEkBnZmZmZmYSQM3MzMzMzBJANDMzMzMzE0CamZmZmZkTQAAAAAAAABRAZ2ZmZmZmFEDNzMzMzMwUQDQzMzMzMxVAmpmZmZmZFUAAAAAAAAAWQGdmZmZmZhZAzczMzMzMFkA0MzMzMzMXQJqZmZmZmRdAAAAAAAAAGEBnZmZmZmYYQM3MzMzMzBhANDMzMzMzGUCamZmZmZkZQAAAAAAAABpAZ2ZmZmZmGkDNzMzMzMwaQDQzMzMzMxtAmpmZmZmZG0AAAAAAAAAcQGdmZmZmZhxAzczMzMzMHEA0MzMzMzMdQJqZmZmZmR1AAAAAAAAAHkBnZmZmZmYeQM3MzMzMzB5ANDMzMzMzH0CamZmZmZkfQAAAAAAAACBAMzMzMzMzIEBnZmZmZmYgQJqZmZmZmSBAzczMzMzMIEAAAAAAAAAhQDMzMzMzMyFAZ2ZmZmZmIUCamZmZmZkhQM3MzMzMzCFAAAAAAAAAIkAzMzMzMzMiQGdmZmZmZiJAmpmZmZmZIkDNzMzMzMwiQAAAAAAAACNANDMzMzMzI0BnZmZmZmYjQJqZmZmZmSNAzczMzMzMI0A=\",\"dtype\":\"float64\",\"order\":\"little\",\"shape\":[100]},\"y\":{\"__ndarray__\":\"AAAAAAAAAAAsy4vLro65P7zSPSP/bck/NLq6lc3p0j9rZyvpOuzYP/AFS3Tort4/WkGlF40R4j+5GUZpbp3kP83+v8KU9OY/QahdmAMR6T/uDAmPVO3qPzhjLUzFhOw/xVUaokPT7T9LHsX5d9XuPwPhRN/NiO8/i20sm3rr7z/FQuDHgfzvP7aYL9e3u+8/8BW9gcIp7z9XOBofF0juP0a00er2GO0/+3LrP2mf6z8I16rZM9/pPyIvWC3R3Oc/mNHD9WSd5T+wys8NrybjP7uFoLv8fuA/DKckJDFa2z/A5V0jcnDVP9MwSNa4n84/W9W2bTgQwj8uEJiCD0qlPzIt6Dk3462/lwy3ygIxxL90TP8QyVrQvx9iun47c9a/8dHwQ0FS3L9BGy7savTgv6DA7P9WlOO/zrMfLS4C5r+uHtzduTfov73I4npTL+q/2BLQ3/Lj678ligE6O1Htv/AoRTGGc+6/gEDHPe1H77+67F0TUczvv1LsNw9f/++//z0MmpTg77+k6yJ2QHDvvzOZ4PWBr+6/uSLYHEag7b/XJLqyQkXsvzcSvFTvoeq/cAUyl3y66L9XsApOyZPmv7T1lhdWM+S/oMd6STef4b/K347HCrzdvxu9C2SY7de/wKKwivHh0b9c+zPXGVHHvx3NvttYRbW/fj/Lwqk3kT8sKjUvK9a9PzzLxkANics/kgnpL0vw0z/8iDWkD+nZPwkR6pqNn98/vxrYG5SC4j8ICm3CCAblP4tjZOG2U+c/D8njJbpl6T9JdB3cxjbrP/YpBXs3wuw/MK78hhgE7j8P+BCtMvnuP1hU7vwSn+8/L7eALBH07z+pXzrVU/fvP3vPKKDSqO8/Z7RJW1YJ7z8uM+n3dhruP09hK3eX3uw/mvctz99Y6z/82V/YNI3pPy2xtFcugOc/96EuPws35T/d0spCpLfiP4A3I+RcCOA/kS8MNiZg2j8X2Z+JG2zUP2ub1R2oh8w/UCzOvj7cvz/iQUSoul6ZP3onpJQaPbO/KLcVCFdQxr9zobGuhmTRvwJus+BkdNe/cLYgoURI3b8=\",\"dtype\":\"float64\",\"order\":\"little\",\"shape\":[100]}},\"selected\":{\"id\":\"1214\"},\"selection_policy\":{\"id\":\"1215\"}},\"id\":\"1198\",\"type\":\"ColumnDataSource\"},{\"attributes\":{},\"id\":\"1215\",\"type\":\"UnionRenderers\"},{\"attributes\":{\"axis\":{\"id\":\"1158\"},\"ticker\":null},\"id\":\"1161\",\"type\":\"Grid\"},{\"attributes\":{},\"id\":\"1170\",\"type\":\"ResetTool\"},{\"attributes\":{\"data\":{\"x\":{\"__ndarray__\":\"AAAAAAAAAACamZmZmZm5P5qZmZmZmck/NDMzMzMz0z+amZmZmZnZPwAAAAAAAOA/NDMzMzMz4z9nZmZmZmbmP5qZmZmZmek/zczMzMzM7D8AAAAAAADwP5qZmZmZmfE/NDMzMzMz8z/NzMzMzMz0P2dmZmZmZvY/AAAAAAAA+D+amZmZmZn5PzQzMzMzM/s/zczMzMzM/D9nZmZmZmb+PwAAAAAAAABAzczMzMzMAECamZmZmZkBQGdmZmZmZgJANDMzMzMzA0AAAAAAAAAEQM3MzMzMzARAmpmZmZmZBUBnZmZmZmYGQDQzMzMzMwdAAAAAAAAACEDNzMzMzMwIQJqZmZmZmQlAZ2ZmZmZmCkA0MzMzMzMLQAAAAAAAAAxAzczMzMzMDECamZmZmZkNQGdmZmZmZg5ANDMzMzMzD0AAAAAAAAAQQGdmZmZmZhBAzczMzMzMEEAzMzMzMzMRQJqZmZmZmRFAAAAAAAAAEkBnZmZmZmYSQM3MzMzMzBJANDMzMzMzE0CamZmZmZkTQAAAAAAAABRAZ2ZmZmZmFEDNzMzMzMwUQDQzMzMzMxVAmpmZmZmZFUAAAAAAAAAWQGdmZmZmZhZAzczMzMzMFkA0MzMzMzMXQJqZmZmZmRdAAAAAAAAAGEBnZmZmZmYYQM3MzMzMzBhANDMzMzMzGUCamZmZmZkZQAAAAAAAABpAZ2ZmZmZmGkDNzMzMzMwaQDQzMzMzMxtAmpmZmZmZG0AAAAAAAAAcQGdmZmZmZhxAzczMzMzMHEA0MzMzMzMdQJqZmZmZmR1AAAAAAAAAHkBnZmZmZmYeQM3MzMzMzB5ANDMzMzMzH0CamZmZmZkfQAAAAAAAACBAMzMzMzMzIEBnZmZmZmYgQJqZmZmZmSBAzczMzMzMIEAAAAAAAAAhQDMzMzMzMyFAZ2ZmZmZmIUCamZmZmZkhQM3MzMzMzCFAAAAAAAAAIkAzMzMzMzMiQGdmZmZmZiJAmpmZmZmZIkDNzMzMzMwiQAAAAAAAACNANDMzMzMzI0BnZmZmZmYjQJqZmZmZmSNAzczMzMzMI0A=\",\"dtype\":\"float64\",\"order\":\"little\",\"shape\":[100]},\"y\":{\"__ndarray__\":\"AAAAAAAAAAAsy4vLro65P7zSPSP/bck/NLq6lc3p0j9rZyvpOuzYP/AFS3Tort4/WkGlF40R4j+5GUZpbp3kP83+v8KU9OY/QahdmAMR6T/uDAmPVO3qPzhjLUzFhOw/xVUaokPT7T9LHsX5d9XuPwPhRN/NiO8/i20sm3rr7z/FQuDHgfzvP7aYL9e3u+8/8BW9gcIp7z9XOBofF0juP0a00er2GO0/+3LrP2mf6z8I16rZM9/pPyIvWC3R3Oc/mNHD9WSd5T+wys8NrybjP7uFoLv8fuA/DKckJDFa2z/A5V0jcnDVP9MwSNa4n84/W9W2bTgQwj8uEJiCD0qlPzIt6Dk3462/lwy3ygIxxL90TP8QyVrQvx9iun47c9a/8dHwQ0FS3L9BGy7savTgv6DA7P9WlOO/zrMfLS4C5r+uHtzduTfov73I4npTL+q/2BLQ3/Lj678ligE6O1Htv/AoRTGGc+6/gEDHPe1H77+67F0TUczvv1LsNw9f/++//z0MmpTg77+k6yJ2QHDvvzOZ4PWBr+6/uSLYHEag7b/XJLqyQkXsvzcSvFTvoeq/cAUyl3y66L9XsApOyZPmv7T1lhdWM+S/oMd6STef4b/K347HCrzdvxu9C2SY7de/wKKwivHh0b9c+zPXGVHHvx3NvttYRbW/fj/Lwqk3kT8sKjUvK9a9PzzLxkANics/kgnpL0vw0z/8iDWkD+nZPwkR6pqNn98/vxrYG5SC4j8ICm3CCAblP4tjZOG2U+c/D8njJbpl6T9JdB3cxjbrP/YpBXs3wuw/MK78hhgE7j8P+BCtMvnuP1hU7vwSn+8/L7eALBH07z+pXzrVU/fvP3vPKKDSqO8/Z7RJW1YJ7z8uM+n3dhruP09hK3eX3uw/mvctz99Y6z/82V/YNI3pPy2xtFcugOc/96EuPws35T/d0spCpLfiP4A3I+RcCOA/kS8MNiZg2j8X2Z+JG2zUP2ub1R2oh8w/UCzOvj7cvz/iQUSoul6ZP3onpJQaPbO/KLcVCFdQxr9zobGuhmTRvwJus+BkdNe/cLYgoURI3b8=\",\"dtype\":\"float64\",\"order\":\"little\",\"shape\":[100]}},\"selected\":{\"id\":\"1194\"},\"selection_policy\":{\"id\":\"1195\"}},\"id\":\"1180\",\"type\":\"ColumnDataSource\"},{\"attributes\":{},\"id\":\"1190\",\"type\":\"AllLabels\"},{\"attributes\":{},\"id\":\"1159\",\"type\":\"BasicTicker\"},{\"attributes\":{},\"id\":\"1166\",\"type\":\"PanTool\"},{\"attributes\":{\"fill_color\":{\"value\":\"firebrick\"},\"line_color\":{\"value\":\"firebrick\"},\"x\":{\"field\":\"x\"},\"y\":{\"field\":\"y\"}},\"id\":\"1199\",\"type\":\"Circle\"},{\"attributes\":{\"formatter\":{\"id\":\"1188\"},\"major_label_policy\":{\"id\":\"1187\"},\"ticker\":{\"id\":\"1163\"}},\"id\":\"1162\",\"type\":\"LinearAxis\"},{\"attributes\":{},\"id\":\"1186\",\"type\":\"Title\"},{\"attributes\":{},\"id\":\"1191\",\"type\":\"BasicTickFormatter\"},{\"attributes\":{},\"id\":\"1167\",\"type\":\"WheelZoomTool\"},{\"attributes\":{\"end\":10},\"id\":\"1150\",\"type\":\"Range1d\"},{\"attributes\":{},\"id\":\"1188\",\"type\":\"BasicTickFormatter\"},{\"attributes\":{\"overlay\":{\"id\":\"1172\"}},\"id\":\"1168\",\"type\":\"BoxZoomTool\"},{\"attributes\":{},\"id\":\"1257\",\"type\":\"Selection\"},{\"attributes\":{\"source\":{\"id\":\"1237\"}},\"id\":\"1241\",\"type\":\"CDSView\"},{\"attributes\":{\"line_color\":\"DarkOrange\",\"x\":{\"field\":\"x\"},\"y\":{\"field\":\"y\"}},\"id\":\"1238\",\"type\":\"Line\"},{\"attributes\":{\"data_source\":{\"id\":\"1180\"},\"glyph\":{\"id\":\"1181\"},\"hover_glyph\":null,\"muted_glyph\":null,\"nonselection_glyph\":{\"id\":\"1182\"},\"view\":{\"id\":\"1184\"}},\"id\":\"1183\",\"type\":\"GlyphRenderer\"}],\"root_ids\":[\"1149\"]},\"title\":\"Bokeh Application\",\"version\":\"2.3.2\"}};\n",
       "  var render_items = [{\"docid\":\"2c877d6a-3be8-44a2-acd6-b3c2c3430503\",\"root_ids\":[\"1149\"],\"roots\":{\"1149\":\"e9e355fc-950c-4d91-b296-8b372f33c773\"}}];\n",
       "  root.Bokeh.embed.embed_items_notebook(docs_json, render_items);\n",
       "\n",
       "  }\n",
       "  if (root.Bokeh !== undefined) {\n",
       "    embed_document(root);\n",
       "  } else {\n",
       "    var attempts = 0;\n",
       "    var timer = setInterval(function(root) {\n",
       "      if (root.Bokeh !== undefined) {\n",
       "        clearInterval(timer);\n",
       "        embed_document(root);\n",
       "      } else {\n",
       "        attempts++;\n",
       "        if (attempts > 100) {\n",
       "          clearInterval(timer);\n",
       "          console.log(\"Bokeh: ERROR: Unable to run BokehJS code because BokehJS library is missing\");\n",
       "        }\n",
       "      }\n",
       "    }, 10, root)\n",
       "  }\n",
       "})(window);"
      ],
      "application/vnd.bokehjs_exec.v0+json": ""
     },
     "metadata": {
      "application/vnd.bokehjs_exec.v0+json": {
       "id": "1149"
      }
     },
     "output_type": "display_data"
    }
   ],
   "source": [
    "x=np.arange(0,10,0.1)\n",
    "y1=np.sin(x)\n",
    "y2=np.cos(x)\n",
    "\n",
    "p=figure(plot_width=600, plot_height=300, \n",
    "        x_range=(0, 10))\n",
    "\n",
    "p.line(x, y1, \n",
    "      line_width=2, \n",
    "      line_color=\"firebrick\", \n",
    "      legend_label=\"sin(x)\")\n",
    "p.circle(x,y1,\n",
    "        color=\"firebrick\", \n",
    "        legend_label=\"sin(x)\")\n",
    "\n",
    "p.circle(x, y2,\n",
    "        color=\"DarkOrange\", \n",
    "        legend_label=\"cos(x)\")\n",
    "p.line(x, y2, \n",
    "        line_color=\"DarkOrange\", \n",
    "        legend_label=\"cos(x)\")\n",
    "\n",
    "show(p)"
   ]
  },
  {
   "cell_type": "markdown",
   "metadata": {},
   "source": [
    "### Location\n",
    "To control the location of the legend labels, use the `location` property.\n",
    "\n",
    "#### Inside the plot area\n",
    "For legends in the central layout area, such as those created automatically by `bokeh.plotting`, set location to one of the following values:\n",
    "\n",
    "* `\"top_left\"`\n",
    "\n",
    "* `\"top_center\"`\n",
    "\n",
    "* `\"top_right\" (the default)`\n",
    "\n",
    "* `\"center_right\"`\n",
    "\n",
    "* `\"bottom_right\"`\n",
    "\n",
    "* `\"bottom_center\"`\n",
    "\n",
    "* `\"bottom_left\"`\n",
    "\n",
    "* `\"center_left\"`\n",
    "\n",
    "* `\"center\"`"
   ]
  },
  {
   "cell_type": "code",
   "execution_count": 24,
   "metadata": {},
   "outputs": [
    {
     "data": {
      "text/html": [
       "\n",
       "\n",
       "\n",
       "\n",
       "\n",
       "\n",
       "  <div class=\"bk-root\" id=\"ca8b7272-21f8-47e1-8efc-7a09e681db21\" data-root-id=\"1374\"></div>\n"
      ]
     },
     "metadata": {},
     "output_type": "display_data"
    },
    {
     "data": {
      "application/javascript": [
       "(function(root) {\n",
       "  function embed_document(root) {\n",
       "    \n",
       "  var docs_json = {\"98cc19a8-6235-40a5-94ed-68287b6e44ca\":{\"defs\":[],\"roots\":{\"references\":[{\"attributes\":{\"below\":[{\"id\":\"1383\"}],\"center\":[{\"id\":\"1386\"},{\"id\":\"1390\"},{\"id\":\"1421\"}],\"height\":300,\"left\":[{\"id\":\"1387\"}],\"renderers\":[{\"id\":\"1408\"},{\"id\":\"1426\"},{\"id\":\"1444\"},{\"id\":\"1465\"}],\"title\":{\"id\":\"1411\"},\"toolbar\":{\"id\":\"1398\"},\"x_range\":{\"id\":\"1375\"},\"x_scale\":{\"id\":\"1379\"},\"y_range\":{\"id\":\"1377\"},\"y_scale\":{\"id\":\"1381\"}},\"id\":\"1374\",\"subtype\":\"Figure\",\"type\":\"Plot\"},{\"attributes\":{},\"id\":\"1392\",\"type\":\"WheelZoomTool\"},{\"attributes\":{},\"id\":\"1396\",\"type\":\"HelpTool\"},{\"attributes\":{\"data\":{\"x\":{\"__ndarray__\":\"AAAAAAAAAACamZmZmZm5P5qZmZmZmck/NDMzMzMz0z+amZmZmZnZPwAAAAAAAOA/NDMzMzMz4z9nZmZmZmbmP5qZmZmZmek/zczMzMzM7D8AAAAAAADwP5qZmZmZmfE/NDMzMzMz8z/NzMzMzMz0P2dmZmZmZvY/AAAAAAAA+D+amZmZmZn5PzQzMzMzM/s/zczMzMzM/D9nZmZmZmb+PwAAAAAAAABAzczMzMzMAECamZmZmZkBQGdmZmZmZgJANDMzMzMzA0AAAAAAAAAEQM3MzMzMzARAmpmZmZmZBUBnZmZmZmYGQDQzMzMzMwdAAAAAAAAACEDNzMzMzMwIQJqZmZmZmQlAZ2ZmZmZmCkA0MzMzMzMLQAAAAAAAAAxAzczMzMzMDECamZmZmZkNQGdmZmZmZg5ANDMzMzMzD0AAAAAAAAAQQGdmZmZmZhBAzczMzMzMEEAzMzMzMzMRQJqZmZmZmRFAAAAAAAAAEkBnZmZmZmYSQM3MzMzMzBJANDMzMzMzE0CamZmZmZkTQAAAAAAAABRAZ2ZmZmZmFEDNzMzMzMwUQDQzMzMzMxVAmpmZmZmZFUAAAAAAAAAWQGdmZmZmZhZAzczMzMzMFkA0MzMzMzMXQJqZmZmZmRdAAAAAAAAAGEBnZmZmZmYYQM3MzMzMzBhANDMzMzMzGUCamZmZmZkZQAAAAAAAABpAZ2ZmZmZmGkDNzMzMzMwaQDQzMzMzMxtAmpmZmZmZG0AAAAAAAAAcQGdmZmZmZhxAzczMzMzMHEA0MzMzMzMdQJqZmZmZmR1AAAAAAAAAHkBnZmZmZmYeQM3MzMzMzB5ANDMzMzMzH0CamZmZmZkfQAAAAAAAACBAMzMzMzMzIEBnZmZmZmYgQJqZmZmZmSBAzczMzMzMIEAAAAAAAAAhQDMzMzMzMyFAZ2ZmZmZmIUCamZmZmZkhQM3MzMzMzCFAAAAAAAAAIkAzMzMzMzMiQGdmZmZmZiJAmpmZmZmZIkDNzMzMzMwiQAAAAAAAACNANDMzMzMzI0BnZmZmZmYjQJqZmZmZmSNAzczMzMzMI0A=\",\"dtype\":\"float64\",\"order\":\"little\",\"shape\":[100]},\"y\":{\"__ndarray__\":\"AAAAAAAA8D/BF6j5EtfvP3pid5W0XO8/ugkv1B2S7j/4otvnVHntP1B9WwYoFew/FFtIPCZp6j+SnZ9SlnnoP2WYcd5rS+Y/HOKSljrk4z+MBrUPKErhPxFhxwa4B90/0Hk7lN4w1z9fTCposx7RPwNXE7x7wcU/p/nFT9Ubsj8zFl/Feuadv45sovT5fcC/eg4lT/UUzb+vRTS5xrDUvwVyU1cmotq/yp6YBLMn4L9wrYhLANXiv+QvMBciUuW/iNGQtLqY5799i4Xv96Lpv3D0gPaha+u/pgNmsyju7L9McFd3rybuv8pAo9sWEu+/0uWFvgSu778kplZH6vjvv7bLueIH8u+/tgunLG+Z778Cvl7DAvDuv18awQN09+2/WSzStD6y7L832X2toiPrv+io24SbT+m/58g0YtY657/BJNsGpurkv2QtajD1ZOK/HceK7G5g379TOxaSsabZv6rCYnxXq9O/aj1YVFv7yr+KjVkrB7a8vzRqUEM6X4m/f0BOWFVmtj9kFnwno9/HP9lKa3CFJ9I/q1zkjskw2D/uajdZLfzdP9wydD9vveE/jLAlb2dP5D9I1Ac8bK3mP4QKg4hv0eg/Kv4Nlve16j8ncqcGLVbsPylQ+T7nre0/9SJ4Cbe57j+0mElf73bvP86peUCs4+8/QXr8idf+7z+hTB69K8jvP8jDRbE0QO8/KsRBLk5o7j8b5bVyoELtP/fciK8a0us/SxJyhmsa6j8XINme9x/oP0ClHmnO5+U/6qAMLZ134z/EAYqEoNXgP32Ia88oEdw/L1xv5kUv1j/SFqwppBTQP57FwTTBocM/elqEfQugqz+rKlYyl42nv5QvY7++n8K/Ha+2b3Qsz7/FHg2XtrTVv3GhWaCtm9u/P65TPQOe4L+OsDp3rkPjv/sgzBoTuOW/3Dpjz+n057+NFS1WefTpv3nrDy6lseu/axmmpvon7b8KtdtAvFPuv5SkFEDrMe+/1J5iU0/A778TjzJDfP3vv0gM65TV6O+/s+4sG5CC77/lOLZuscvuv33uQFENxu2/GmQNAUF07L8=\",\"dtype\":\"float64\",\"order\":\"little\",\"shape\":[100]}},\"selected\":{\"id\":\"1459\"},\"selection_policy\":{\"id\":\"1460\"}},\"id\":\"1441\",\"type\":\"ColumnDataSource\"},{\"attributes\":{},\"id\":\"1483\",\"type\":\"UnionRenderers\"},{\"attributes\":{},\"id\":\"1395\",\"type\":\"ResetTool\"},{\"attributes\":{\"fill_alpha\":{\"value\":0.1},\"fill_color\":{\"value\":\"firebrick\"},\"line_alpha\":{\"value\":0.1},\"line_color\":{\"value\":\"firebrick\"},\"x\":{\"field\":\"x\"},\"y\":{\"field\":\"y\"}},\"id\":\"1425\",\"type\":\"Circle\"},{\"attributes\":{},\"id\":\"1419\",\"type\":\"Selection\"},{\"attributes\":{\"line_alpha\":0.1,\"line_color\":\"firebrick\",\"line_width\":2,\"x\":{\"field\":\"x\"},\"y\":{\"field\":\"y\"}},\"id\":\"1407\",\"type\":\"Line\"},{\"attributes\":{},\"id\":\"1439\",\"type\":\"Selection\"},{\"attributes\":{},\"id\":\"1459\",\"type\":\"Selection\"},{\"attributes\":{\"data_source\":{\"id\":\"1423\"},\"glyph\":{\"id\":\"1424\"},\"hover_glyph\":null,\"muted_glyph\":null,\"nonselection_glyph\":{\"id\":\"1425\"},\"view\":{\"id\":\"1427\"}},\"id\":\"1426\",\"type\":\"GlyphRenderer\"},{\"attributes\":{\"source\":{\"id\":\"1405\"}},\"id\":\"1409\",\"type\":\"CDSView\"},{\"attributes\":{},\"id\":\"1420\",\"type\":\"UnionRenderers\"},{\"attributes\":{\"label\":{\"value\":\"sin(x)\"},\"renderers\":[{\"id\":\"1408\"},{\"id\":\"1426\"}]},\"id\":\"1422\",\"type\":\"LegendItem\"},{\"attributes\":{\"label\":{\"value\":\"cos(x)\"},\"renderers\":[{\"id\":\"1444\"},{\"id\":\"1465\"}]},\"id\":\"1461\",\"type\":\"LegendItem\"},{\"attributes\":{\"active_multi\":null,\"tools\":[{\"id\":\"1391\"},{\"id\":\"1392\"},{\"id\":\"1393\"},{\"id\":\"1394\"},{\"id\":\"1395\"},{\"id\":\"1396\"}]},\"id\":\"1398\",\"type\":\"Toolbar\"},{\"attributes\":{\"items\":[{\"id\":\"1422\"},{\"id\":\"1461\"}],\"location\":\"bottom_left\"},\"id\":\"1421\",\"type\":\"Legend\"},{\"attributes\":{},\"id\":\"1460\",\"type\":\"UnionRenderers\"},{\"attributes\":{\"axis\":{\"id\":\"1387\"},\"dimension\":1,\"ticker\":null},\"id\":\"1390\",\"type\":\"Grid\"},{\"attributes\":{\"formatter\":{\"id\":\"1413\"},\"major_label_policy\":{\"id\":\"1412\"},\"ticker\":{\"id\":\"1388\"}},\"id\":\"1387\",\"type\":\"LinearAxis\"},{\"attributes\":{},\"id\":\"1416\",\"type\":\"BasicTickFormatter\"},{\"attributes\":{},\"id\":\"1415\",\"type\":\"AllLabels\"},{\"attributes\":{},\"id\":\"1413\",\"type\":\"BasicTickFormatter\"},{\"attributes\":{},\"id\":\"1379\",\"type\":\"LinearScale\"},{\"attributes\":{},\"id\":\"1412\",\"type\":\"AllLabels\"},{\"attributes\":{},\"id\":\"1440\",\"type\":\"UnionRenderers\"},{\"attributes\":{\"fill_color\":{\"value\":\"DarkOrange\"},\"line_color\":{\"value\":\"DarkOrange\"},\"x\":{\"field\":\"x\"},\"y\":{\"field\":\"y\"}},\"id\":\"1442\",\"type\":\"Circle\"},{\"attributes\":{\"fill_color\":{\"value\":\"firebrick\"},\"line_color\":{\"value\":\"firebrick\"},\"x\":{\"field\":\"x\"},\"y\":{\"field\":\"y\"}},\"id\":\"1424\",\"type\":\"Circle\"},{\"attributes\":{\"data\":{\"x\":{\"__ndarray__\":\"AAAAAAAAAACamZmZmZm5P5qZmZmZmck/NDMzMzMz0z+amZmZmZnZPwAAAAAAAOA/NDMzMzMz4z9nZmZmZmbmP5qZmZmZmek/zczMzMzM7D8AAAAAAADwP5qZmZmZmfE/NDMzMzMz8z/NzMzMzMz0P2dmZmZmZvY/AAAAAAAA+D+amZmZmZn5PzQzMzMzM/s/zczMzMzM/D9nZmZmZmb+PwAAAAAAAABAzczMzMzMAECamZmZmZkBQGdmZmZmZgJANDMzMzMzA0AAAAAAAAAEQM3MzMzMzARAmpmZmZmZBUBnZmZmZmYGQDQzMzMzMwdAAAAAAAAACEDNzMzMzMwIQJqZmZmZmQlAZ2ZmZmZmCkA0MzMzMzMLQAAAAAAAAAxAzczMzMzMDECamZmZmZkNQGdmZmZmZg5ANDMzMzMzD0AAAAAAAAAQQGdmZmZmZhBAzczMzMzMEEAzMzMzMzMRQJqZmZmZmRFAAAAAAAAAEkBnZmZmZmYSQM3MzMzMzBJANDMzMzMzE0CamZmZmZkTQAAAAAAAABRAZ2ZmZmZmFEDNzMzMzMwUQDQzMzMzMxVAmpmZmZmZFUAAAAAAAAAWQGdmZmZmZhZAzczMzMzMFkA0MzMzMzMXQJqZmZmZmRdAAAAAAAAAGEBnZmZmZmYYQM3MzMzMzBhANDMzMzMzGUCamZmZmZkZQAAAAAAAABpAZ2ZmZmZmGkDNzMzMzMwaQDQzMzMzMxtAmpmZmZmZG0AAAAAAAAAcQGdmZmZmZhxAzczMzMzMHEA0MzMzMzMdQJqZmZmZmR1AAAAAAAAAHkBnZmZmZmYeQM3MzMzMzB5ANDMzMzMzH0CamZmZmZkfQAAAAAAAACBAMzMzMzMzIEBnZmZmZmYgQJqZmZmZmSBAzczMzMzMIEAAAAAAAAAhQDMzMzMzMyFAZ2ZmZmZmIUCamZmZmZkhQM3MzMzMzCFAAAAAAAAAIkAzMzMzMzMiQGdmZmZmZiJAmpmZmZmZIkDNzMzMzMwiQAAAAAAAACNANDMzMzMzI0BnZmZmZmYjQJqZmZmZmSNAzczMzMzMI0A=\",\"dtype\":\"float64\",\"order\":\"little\",\"shape\":[100]},\"y\":{\"__ndarray__\":\"AAAAAAAAAAAsy4vLro65P7zSPSP/bck/NLq6lc3p0j9rZyvpOuzYP/AFS3Tort4/WkGlF40R4j+5GUZpbp3kP83+v8KU9OY/QahdmAMR6T/uDAmPVO3qPzhjLUzFhOw/xVUaokPT7T9LHsX5d9XuPwPhRN/NiO8/i20sm3rr7z/FQuDHgfzvP7aYL9e3u+8/8BW9gcIp7z9XOBofF0juP0a00er2GO0/+3LrP2mf6z8I16rZM9/pPyIvWC3R3Oc/mNHD9WSd5T+wys8NrybjP7uFoLv8fuA/DKckJDFa2z/A5V0jcnDVP9MwSNa4n84/W9W2bTgQwj8uEJiCD0qlPzIt6Dk3462/lwy3ygIxxL90TP8QyVrQvx9iun47c9a/8dHwQ0FS3L9BGy7savTgv6DA7P9WlOO/zrMfLS4C5r+uHtzduTfov73I4npTL+q/2BLQ3/Lj678ligE6O1Htv/AoRTGGc+6/gEDHPe1H77+67F0TUczvv1LsNw9f/++//z0MmpTg77+k6yJ2QHDvvzOZ4PWBr+6/uSLYHEag7b/XJLqyQkXsvzcSvFTvoeq/cAUyl3y66L9XsApOyZPmv7T1lhdWM+S/oMd6STef4b/K347HCrzdvxu9C2SY7de/wKKwivHh0b9c+zPXGVHHvx3NvttYRbW/fj/Lwqk3kT8sKjUvK9a9PzzLxkANics/kgnpL0vw0z/8iDWkD+nZPwkR6pqNn98/vxrYG5SC4j8ICm3CCAblP4tjZOG2U+c/D8njJbpl6T9JdB3cxjbrP/YpBXs3wuw/MK78hhgE7j8P+BCtMvnuP1hU7vwSn+8/L7eALBH07z+pXzrVU/fvP3vPKKDSqO8/Z7RJW1YJ7z8uM+n3dhruP09hK3eX3uw/mvctz99Y6z/82V/YNI3pPy2xtFcugOc/96EuPws35T/d0spCpLfiP4A3I+RcCOA/kS8MNiZg2j8X2Z+JG2zUP2ub1R2oh8w/UCzOvj7cvz/iQUSoul6ZP3onpJQaPbO/KLcVCFdQxr9zobGuhmTRvwJus+BkdNe/cLYgoURI3b8=\",\"dtype\":\"float64\",\"order\":\"little\",\"shape\":[100]}},\"selected\":{\"id\":\"1439\"},\"selection_policy\":{\"id\":\"1440\"}},\"id\":\"1423\",\"type\":\"ColumnDataSource\"},{\"attributes\":{},\"id\":\"1384\",\"type\":\"BasicTicker\"},{\"attributes\":{\"bottom_units\":\"screen\",\"fill_alpha\":0.5,\"fill_color\":\"lightgrey\",\"left_units\":\"screen\",\"level\":\"overlay\",\"line_alpha\":1.0,\"line_color\":\"black\",\"line_dash\":[4,4],\"line_width\":2,\"right_units\":\"screen\",\"syncable\":false,\"top_units\":\"screen\"},\"id\":\"1397\",\"type\":\"BoxAnnotation\"},{\"attributes\":{\"axis\":{\"id\":\"1383\"},\"ticker\":null},\"id\":\"1386\",\"type\":\"Grid\"},{\"attributes\":{},\"id\":\"1388\",\"type\":\"BasicTicker\"},{\"attributes\":{},\"id\":\"1381\",\"type\":\"LinearScale\"},{\"attributes\":{\"source\":{\"id\":\"1462\"}},\"id\":\"1466\",\"type\":\"CDSView\"},{\"attributes\":{},\"id\":\"1482\",\"type\":\"Selection\"},{\"attributes\":{\"formatter\":{\"id\":\"1416\"},\"major_label_policy\":{\"id\":\"1415\"},\"ticker\":{\"id\":\"1384\"}},\"id\":\"1383\",\"type\":\"LinearAxis\"},{\"attributes\":{\"data\":{\"x\":{\"__ndarray__\":\"AAAAAAAAAACamZmZmZm5P5qZmZmZmck/NDMzMzMz0z+amZmZmZnZPwAAAAAAAOA/NDMzMzMz4z9nZmZmZmbmP5qZmZmZmek/zczMzMzM7D8AAAAAAADwP5qZmZmZmfE/NDMzMzMz8z/NzMzMzMz0P2dmZmZmZvY/AAAAAAAA+D+amZmZmZn5PzQzMzMzM/s/zczMzMzM/D9nZmZmZmb+PwAAAAAAAABAzczMzMzMAECamZmZmZkBQGdmZmZmZgJANDMzMzMzA0AAAAAAAAAEQM3MzMzMzARAmpmZmZmZBUBnZmZmZmYGQDQzMzMzMwdAAAAAAAAACEDNzMzMzMwIQJqZmZmZmQlAZ2ZmZmZmCkA0MzMzMzMLQAAAAAAAAAxAzczMzMzMDECamZmZmZkNQGdmZmZmZg5ANDMzMzMzD0AAAAAAAAAQQGdmZmZmZhBAzczMzMzMEEAzMzMzMzMRQJqZmZmZmRFAAAAAAAAAEkBnZmZmZmYSQM3MzMzMzBJANDMzMzMzE0CamZmZmZkTQAAAAAAAABRAZ2ZmZmZmFEDNzMzMzMwUQDQzMzMzMxVAmpmZmZmZFUAAAAAAAAAWQGdmZmZmZhZAzczMzMzMFkA0MzMzMzMXQJqZmZmZmRdAAAAAAAAAGEBnZmZmZmYYQM3MzMzMzBhANDMzMzMzGUCamZmZmZkZQAAAAAAAABpAZ2ZmZmZmGkDNzMzMzMwaQDQzMzMzMxtAmpmZmZmZG0AAAAAAAAAcQGdmZmZmZhxAzczMzMzMHEA0MzMzMzMdQJqZmZmZmR1AAAAAAAAAHkBnZmZmZmYeQM3MzMzMzB5ANDMzMzMzH0CamZmZmZkfQAAAAAAAACBAMzMzMzMzIEBnZmZmZmYgQJqZmZmZmSBAzczMzMzMIEAAAAAAAAAhQDMzMzMzMyFAZ2ZmZmZmIUCamZmZmZkhQM3MzMzMzCFAAAAAAAAAIkAzMzMzMzMiQGdmZmZmZiJAmpmZmZmZIkDNzMzMzMwiQAAAAAAAACNANDMzMzMzI0BnZmZmZmYjQJqZmZmZmSNAzczMzMzMI0A=\",\"dtype\":\"float64\",\"order\":\"little\",\"shape\":[100]},\"y\":{\"__ndarray__\":\"AAAAAAAAAAAsy4vLro65P7zSPSP/bck/NLq6lc3p0j9rZyvpOuzYP/AFS3Tort4/WkGlF40R4j+5GUZpbp3kP83+v8KU9OY/QahdmAMR6T/uDAmPVO3qPzhjLUzFhOw/xVUaokPT7T9LHsX5d9XuPwPhRN/NiO8/i20sm3rr7z/FQuDHgfzvP7aYL9e3u+8/8BW9gcIp7z9XOBofF0juP0a00er2GO0/+3LrP2mf6z8I16rZM9/pPyIvWC3R3Oc/mNHD9WSd5T+wys8NrybjP7uFoLv8fuA/DKckJDFa2z/A5V0jcnDVP9MwSNa4n84/W9W2bTgQwj8uEJiCD0qlPzIt6Dk3462/lwy3ygIxxL90TP8QyVrQvx9iun47c9a/8dHwQ0FS3L9BGy7savTgv6DA7P9WlOO/zrMfLS4C5r+uHtzduTfov73I4npTL+q/2BLQ3/Lj678ligE6O1Htv/AoRTGGc+6/gEDHPe1H77+67F0TUczvv1LsNw9f/++//z0MmpTg77+k6yJ2QHDvvzOZ4PWBr+6/uSLYHEag7b/XJLqyQkXsvzcSvFTvoeq/cAUyl3y66L9XsApOyZPmv7T1lhdWM+S/oMd6STef4b/K347HCrzdvxu9C2SY7de/wKKwivHh0b9c+zPXGVHHvx3NvttYRbW/fj/Lwqk3kT8sKjUvK9a9PzzLxkANics/kgnpL0vw0z/8iDWkD+nZPwkR6pqNn98/vxrYG5SC4j8ICm3CCAblP4tjZOG2U+c/D8njJbpl6T9JdB3cxjbrP/YpBXs3wuw/MK78hhgE7j8P+BCtMvnuP1hU7vwSn+8/L7eALBH07z+pXzrVU/fvP3vPKKDSqO8/Z7RJW1YJ7z8uM+n3dhruP09hK3eX3uw/mvctz99Y6z/82V/YNI3pPy2xtFcugOc/96EuPws35T/d0spCpLfiP4A3I+RcCOA/kS8MNiZg2j8X2Z+JG2zUP2ub1R2oh8w/UCzOvj7cvz/iQUSoul6ZP3onpJQaPbO/KLcVCFdQxr9zobGuhmTRvwJus+BkdNe/cLYgoURI3b8=\",\"dtype\":\"float64\",\"order\":\"little\",\"shape\":[100]}},\"selected\":{\"id\":\"1419\"},\"selection_policy\":{\"id\":\"1420\"}},\"id\":\"1405\",\"type\":\"ColumnDataSource\"},{\"attributes\":{},\"id\":\"1394\",\"type\":\"SaveTool\"},{\"attributes\":{\"data\":{\"x\":{\"__ndarray__\":\"AAAAAAAAAACamZmZmZm5P5qZmZmZmck/NDMzMzMz0z+amZmZmZnZPwAAAAAAAOA/NDMzMzMz4z9nZmZmZmbmP5qZmZmZmek/zczMzMzM7D8AAAAAAADwP5qZmZmZmfE/NDMzMzMz8z/NzMzMzMz0P2dmZmZmZvY/AAAAAAAA+D+amZmZmZn5PzQzMzMzM/s/zczMzMzM/D9nZmZmZmb+PwAAAAAAAABAzczMzMzMAECamZmZmZkBQGdmZmZmZgJANDMzMzMzA0AAAAAAAAAEQM3MzMzMzARAmpmZmZmZBUBnZmZmZmYGQDQzMzMzMwdAAAAAAAAACEDNzMzMzMwIQJqZmZmZmQlAZ2ZmZmZmCkA0MzMzMzMLQAAAAAAAAAxAzczMzMzMDECamZmZmZkNQGdmZmZmZg5ANDMzMzMzD0AAAAAAAAAQQGdmZmZmZhBAzczMzMzMEEAzMzMzMzMRQJqZmZmZmRFAAAAAAAAAEkBnZmZmZmYSQM3MzMzMzBJANDMzMzMzE0CamZmZmZkTQAAAAAAAABRAZ2ZmZmZmFEDNzMzMzMwUQDQzMzMzMxVAmpmZmZmZFUAAAAAAAAAWQGdmZmZmZhZAzczMzMzMFkA0MzMzMzMXQJqZmZmZmRdAAAAAAAAAGEBnZmZmZmYYQM3MzMzMzBhANDMzMzMzGUCamZmZmZkZQAAAAAAAABpAZ2ZmZmZmGkDNzMzMzMwaQDQzMzMzMxtAmpmZmZmZG0AAAAAAAAAcQGdmZmZmZhxAzczMzMzMHEA0MzMzMzMdQJqZmZmZmR1AAAAAAAAAHkBnZmZmZmYeQM3MzMzMzB5ANDMzMzMzH0CamZmZmZkfQAAAAAAAACBAMzMzMzMzIEBnZmZmZmYgQJqZmZmZmSBAzczMzMzMIEAAAAAAAAAhQDMzMzMzMyFAZ2ZmZmZmIUCamZmZmZkhQM3MzMzMzCFAAAAAAAAAIkAzMzMzMzMiQGdmZmZmZiJAmpmZmZmZIkDNzMzMzMwiQAAAAAAAACNANDMzMzMzI0BnZmZmZmYjQJqZmZmZmSNAzczMzMzMI0A=\",\"dtype\":\"float64\",\"order\":\"little\",\"shape\":[100]},\"y\":{\"__ndarray__\":\"AAAAAAAA8D/BF6j5EtfvP3pid5W0XO8/ugkv1B2S7j/4otvnVHntP1B9WwYoFew/FFtIPCZp6j+SnZ9SlnnoP2WYcd5rS+Y/HOKSljrk4z+MBrUPKErhPxFhxwa4B90/0Hk7lN4w1z9fTCposx7RPwNXE7x7wcU/p/nFT9Ubsj8zFl/Feuadv45sovT5fcC/eg4lT/UUzb+vRTS5xrDUvwVyU1cmotq/yp6YBLMn4L9wrYhLANXiv+QvMBciUuW/iNGQtLqY5799i4Xv96Lpv3D0gPaha+u/pgNmsyju7L9McFd3rybuv8pAo9sWEu+/0uWFvgSu778kplZH6vjvv7bLueIH8u+/tgunLG+Z778Cvl7DAvDuv18awQN09+2/WSzStD6y7L832X2toiPrv+io24SbT+m/58g0YtY657/BJNsGpurkv2QtajD1ZOK/HceK7G5g379TOxaSsabZv6rCYnxXq9O/aj1YVFv7yr+KjVkrB7a8vzRqUEM6X4m/f0BOWFVmtj9kFnwno9/HP9lKa3CFJ9I/q1zkjskw2D/uajdZLfzdP9wydD9vveE/jLAlb2dP5D9I1Ac8bK3mP4QKg4hv0eg/Kv4Nlve16j8ncqcGLVbsPylQ+T7nre0/9SJ4Cbe57j+0mElf73bvP86peUCs4+8/QXr8idf+7z+hTB69K8jvP8jDRbE0QO8/KsRBLk5o7j8b5bVyoELtP/fciK8a0us/SxJyhmsa6j8XINme9x/oP0ClHmnO5+U/6qAMLZ134z/EAYqEoNXgP32Ia88oEdw/L1xv5kUv1j/SFqwppBTQP57FwTTBocM/elqEfQugqz+rKlYyl42nv5QvY7++n8K/Ha+2b3Qsz7/FHg2XtrTVv3GhWaCtm9u/P65TPQOe4L+OsDp3rkPjv/sgzBoTuOW/3Dpjz+n057+NFS1WefTpv3nrDy6lseu/axmmpvon7b8KtdtAvFPuv5SkFEDrMe+/1J5iU0/A778TjzJDfP3vv0gM65TV6O+/s+4sG5CC77/lOLZuscvuv33uQFENxu2/GmQNAUF07L8=\",\"dtype\":\"float64\",\"order\":\"little\",\"shape\":[100]}},\"selected\":{\"id\":\"1482\"},\"selection_policy\":{\"id\":\"1483\"}},\"id\":\"1462\",\"type\":\"ColumnDataSource\"},{\"attributes\":{\"line_color\":\"DarkOrange\",\"x\":{\"field\":\"x\"},\"y\":{\"field\":\"y\"}},\"id\":\"1463\",\"type\":\"Line\"},{\"attributes\":{\"end\":10},\"id\":\"1375\",\"type\":\"Range1d\"},{\"attributes\":{\"line_alpha\":0.1,\"line_color\":\"DarkOrange\",\"x\":{\"field\":\"x\"},\"y\":{\"field\":\"y\"}},\"id\":\"1464\",\"type\":\"Line\"},{\"attributes\":{\"data_source\":{\"id\":\"1462\"},\"glyph\":{\"id\":\"1463\"},\"hover_glyph\":null,\"muted_glyph\":null,\"nonselection_glyph\":{\"id\":\"1464\"},\"view\":{\"id\":\"1466\"}},\"id\":\"1465\",\"type\":\"GlyphRenderer\"},{\"attributes\":{\"line_color\":\"firebrick\",\"line_width\":2,\"x\":{\"field\":\"x\"},\"y\":{\"field\":\"y\"}},\"id\":\"1406\",\"type\":\"Line\"},{\"attributes\":{\"overlay\":{\"id\":\"1397\"}},\"id\":\"1393\",\"type\":\"BoxZoomTool\"},{\"attributes\":{\"data_source\":{\"id\":\"1405\"},\"glyph\":{\"id\":\"1406\"},\"hover_glyph\":null,\"muted_glyph\":null,\"nonselection_glyph\":{\"id\":\"1407\"},\"view\":{\"id\":\"1409\"}},\"id\":\"1408\",\"type\":\"GlyphRenderer\"},{\"attributes\":{\"fill_alpha\":{\"value\":0.1},\"fill_color\":{\"value\":\"DarkOrange\"},\"line_alpha\":{\"value\":0.1},\"line_color\":{\"value\":\"DarkOrange\"},\"x\":{\"field\":\"x\"},\"y\":{\"field\":\"y\"}},\"id\":\"1443\",\"type\":\"Circle\"},{\"attributes\":{\"data_source\":{\"id\":\"1441\"},\"glyph\":{\"id\":\"1442\"},\"hover_glyph\":null,\"muted_glyph\":null,\"nonselection_glyph\":{\"id\":\"1443\"},\"view\":{\"id\":\"1445\"}},\"id\":\"1444\",\"type\":\"GlyphRenderer\"},{\"attributes\":{},\"id\":\"1391\",\"type\":\"PanTool\"},{\"attributes\":{},\"id\":\"1411\",\"type\":\"Title\"},{\"attributes\":{\"source\":{\"id\":\"1441\"}},\"id\":\"1445\",\"type\":\"CDSView\"},{\"attributes\":{},\"id\":\"1377\",\"type\":\"DataRange1d\"},{\"attributes\":{\"source\":{\"id\":\"1423\"}},\"id\":\"1427\",\"type\":\"CDSView\"}],\"root_ids\":[\"1374\"]},\"title\":\"Bokeh Application\",\"version\":\"2.3.2\"}};\n",
       "  var render_items = [{\"docid\":\"98cc19a8-6235-40a5-94ed-68287b6e44ca\",\"root_ids\":[\"1374\"],\"roots\":{\"1374\":\"ca8b7272-21f8-47e1-8efc-7a09e681db21\"}}];\n",
       "  root.Bokeh.embed.embed_items_notebook(docs_json, render_items);\n",
       "\n",
       "  }\n",
       "  if (root.Bokeh !== undefined) {\n",
       "    embed_document(root);\n",
       "  } else {\n",
       "    var attempts = 0;\n",
       "    var timer = setInterval(function(root) {\n",
       "      if (root.Bokeh !== undefined) {\n",
       "        clearInterval(timer);\n",
       "        embed_document(root);\n",
       "      } else {\n",
       "        attempts++;\n",
       "        if (attempts > 100) {\n",
       "          clearInterval(timer);\n",
       "          console.log(\"Bokeh: ERROR: Unable to run BokehJS code because BokehJS library is missing\");\n",
       "        }\n",
       "      }\n",
       "    }, 10, root)\n",
       "  }\n",
       "})(window);"
      ],
      "application/vnd.bokehjs_exec.v0+json": ""
     },
     "metadata": {
      "application/vnd.bokehjs_exec.v0+json": {
       "id": "1374"
      }
     },
     "output_type": "display_data"
    }
   ],
   "source": [
    "p=figure(plot_width=600, plot_height=300, \n",
    "        x_range=(0, 10))\n",
    "\n",
    "p.line(x, y1, \n",
    "      line_width=2, \n",
    "      line_color=\"firebrick\", \n",
    "      legend_label=\"sin(x)\")\n",
    "p.circle(x,y1,\n",
    "        color=\"firebrick\", \n",
    "        legend_label=\"sin(x)\")\n",
    "\n",
    "p.circle(x, y2,\n",
    "        color=\"DarkOrange\", \n",
    "        legend_label=\"cos(x)\")\n",
    "p.line(x, y2, \n",
    "        line_color=\"DarkOrange\", \n",
    "        legend_label=\"cos(x)\")\n",
    "\n",
    "p.legend.location=\"bottom_left\"\n",
    "\n",
    "show(p)"
   ]
  },
  {
   "cell_type": "markdown",
   "metadata": {},
   "source": [
    "### Interactive legends\n",
    "[Legends](https://docs.bokeh.org/en/latest/docs/user_guide/annotations.html#userguide-plotting-legends) added to Bokeh plots can be made interactive so that clicking or tapping on the legend entries will hide or mute the corresponding glyph in a plot. These modes are activated by setting the `click_policy` property on a Legend to either \"hide\" or \"mute\"."
   ]
  },
  {
   "cell_type": "code",
   "execution_count": 25,
   "metadata": {},
   "outputs": [
    {
     "data": {
      "text/html": [
       "\n",
       "\n",
       "\n",
       "\n",
       "\n",
       "\n",
       "  <div class=\"bk-root\" id=\"439ea836-88cf-4f1e-a0fd-b1b2f09914e4\" data-root-id=\"1616\"></div>\n"
      ]
     },
     "metadata": {},
     "output_type": "display_data"
    },
    {
     "data": {
      "application/javascript": [
       "(function(root) {\n",
       "  function embed_document(root) {\n",
       "    \n",
       "  var docs_json = {\"07806953-cbf2-4ccd-91ad-07098198de2e\":{\"defs\":[],\"roots\":{\"references\":[{\"attributes\":{\"below\":[{\"id\":\"1625\"}],\"center\":[{\"id\":\"1628\"},{\"id\":\"1632\"},{\"id\":\"1675\"}],\"height\":300,\"left\":[{\"id\":\"1629\"}],\"renderers\":[{\"id\":\"1650\"},{\"id\":\"1680\"}],\"title\":{\"id\":\"1653\"},\"toolbar\":{\"id\":\"1640\"},\"x_range\":{\"id\":\"1617\"},\"x_scale\":{\"id\":\"1621\"},\"y_range\":{\"id\":\"1619\"},\"y_scale\":{\"id\":\"1623\"}},\"id\":\"1616\",\"subtype\":\"Figure\",\"type\":\"Plot\"},{\"attributes\":{},\"id\":\"1658\",\"type\":\"DatetimeTickFormatter\"},{\"attributes\":{},\"id\":\"1693\",\"type\":\"Selection\"},{\"attributes\":{\"line_color\":\"DarkBlue\",\"line_width\":2,\"x\":{\"field\":\"x\"},\"y\":{\"field\":\"y\"}},\"id\":\"1648\",\"type\":\"Line\"},{\"attributes\":{\"active_multi\":null,\"tools\":[{\"id\":\"1633\"},{\"id\":\"1634\"},{\"id\":\"1635\"},{\"id\":\"1636\"},{\"id\":\"1637\"},{\"id\":\"1638\"}]},\"id\":\"1640\",\"type\":\"Toolbar\"},{\"attributes\":{\"bottom_units\":\"screen\",\"fill_alpha\":0.5,\"fill_color\":\"lightgrey\",\"left_units\":\"screen\",\"level\":\"overlay\",\"line_alpha\":1.0,\"line_color\":\"black\",\"line_dash\":[4,4],\"line_width\":2,\"right_units\":\"screen\",\"syncable\":false,\"top_units\":\"screen\"},\"id\":\"1639\",\"type\":\"BoxAnnotation\"},{\"attributes\":{\"data_source\":{\"id\":\"1677\"},\"glyph\":{\"id\":\"1678\"},\"hover_glyph\":null,\"muted_glyph\":null,\"nonselection_glyph\":{\"id\":\"1679\"},\"view\":{\"id\":\"1681\"}},\"id\":\"1680\",\"type\":\"GlyphRenderer\"},{\"attributes\":{\"source\":{\"id\":\"1647\"}},\"id\":\"1651\",\"type\":\"CDSView\"},{\"attributes\":{\"label\":{\"value\":\"Bangladesh\"},\"renderers\":[{\"id\":\"1650\"}]},\"id\":\"1676\",\"type\":\"LegendItem\"},{\"attributes\":{},\"id\":\"1694\",\"type\":\"UnionRenderers\"},{\"attributes\":{\"mantissas\":[1,2,5],\"max_interval\":500.0,\"num_minor_ticks\":0},\"id\":\"1663\",\"type\":\"AdaptiveTicker\"},{\"attributes\":{\"line_alpha\":0.1,\"line_color\":\"DarkBlue\",\"line_width\":2,\"x\":{\"field\":\"x\"},\"y\":{\"field\":\"y\"}},\"id\":\"1649\",\"type\":\"Line\"},{\"attributes\":{\"data\":{\"x\":{\"__ndarray__\":\"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\",\"dtype\":\"float64\",\"order\":\"little\",\"shape\":[487]},\"y\":{\"__ndarray__\":\"AAAAAAAAAAAAAAAAAAAAAAAAAAAAAAAAAAAAAAAAAAAAAAAAAAAAAAAAAAAAAAAAAAAAAAAAAAAAAAAAAAAAAAAAAAAAAAAAAAAAAAAAAAAAAAAAAAAAAAAAAAAAAAAAAAAAAAAAAAAAAAAAAAAAAAAAAAAAAAAAAAAAAAAAAAAAAAAAAAAAAAAAAAAAAAAAAAAAAAAAAAAAAAAAAAAAAAAAAAAAAAAAAAAAAAAAAAAAAAAAAAAAAAAAAAAAAAAAAAAAAAAAAAAAAAAAAAAAAAAAAAAAAAAAAAAAAAAAAAAAAAAAAAAAAAAAAAAAAAAAAAAAAAAAAAAAAAAAAAAAAAAAAAAAAAAAAAAAAAAAAAAAAAAAAAAAQAAAAAAAAAAAAAAAAAAAAAAAAAAAAAAAQAAAAAAAAAAAAAAAAAAAAAAAAAAAAADwPwAAAAAAAAAAAAAAAAAAAAAAAAAAAADwPwAAAAAAAAAAAAAAAAAAAAAAAAAAAAAAAAAAAAAAACRAAAAAAAAACEAAAAAAAADwPwAAAAAAACBAAAAAAAAACEAAAAAAAAA2QAAAAAAAwFRAAAAAAAAAWUAAAAAAAIBPQAAAAAAAYGNAAAAAAACAR0AAAAAAAKBsQAAAAAAAAEdAAAAAAADAWEAAAAAAAEBYQAAAAAAAwFZAAAAAAABAYUAAAAAAAIBlQAAAAAAAgF5AAAAAAACAWUAAAAAAAABeQAAAAAAAoGtAAAAAAACAZkAAAAAAAPByQAAAAAAAkHBAAAAAAACAYEAAAAAAADB1QAAAAAAACINAAAAAAADQcEAAAAAAAIBsQAAAAAAAQGxAAAAAAADAaUAAAAAAAMBzQAAAAAAAYGtAAAAAAACgcEAAAAAAAFB1QAAAAAAAEIFAAAAAAADAgEAAAAAAAIBaQAAAAAAAKINAAAAAAAAwhkAAAAAAAIBRQAAAAAAA7JFAAAAAAADwf0AAAAAAANyQQAAAAAAAiIhAAAAAAAB4iEAAAAAAAOiCQAAAAAAAWIJAAAAAAADIhUAAAAAAAIiMQAAAAAAAMJRAAAAAAABElEAAAAAAAOiOQAAAAAAAqI5AAAAAAADIikAAAAAAAFCRQAAAAAAAoJ9AAAAAAADYgUAAAAAAAPybQAAAAAAA+qFAAAAAAAD4mEAAAAAAAEybQAAAAAAAnqFAAAAAAAAQjkAAAAAAAKB+QAAAAAAAhqdAAAAAAAAAAAAAAAAAACCVQAAAAAAA2J5AAAAAAADEnEAAAAAAADCeQAAAAAAAIqFAAAAAAABWpEAAAAAAADybQAAAAAAA6KBAAAAAAABQm0AAAAAAADCVQAAAAAAAmJZAAAAAAAA4oEAAAAAAAOKlQAAAAAAA+qJAAAAAAAC+p0AAAAAAACinQAAAAAAAxK5AAAAAAADCr0AAAAAAAMGyQAAAAAAAIq9AAAAAAAB+skAAAAAAAGCzQAAAAAAAeLJAAAAAAAAmskAAAAAAAAm1QAAAAAAAyrZAAAAAAAD9uEAAAAAAAAAAAAAAAAAASLlAAAAAAICUx0AAAAAAAFuxQAAAAAAAz7ZAAAAAAADutEAAAAAAAFCzQAAAAAAAzLlAAAAAAABXs0AAAAAAAHexQAAAAAAA1K5AAAAAAABorkAAAAAAAJivQAAAAAAArqVAAAAAAACEqEAAAAAAANCvQAAAAAAAyqtAAAAAAAASpkAAAAAAACWwQAAAAAAA87BAAAAAAADur0AAAAAAAAAAAAAAAAAAdqpAAAAAAACHuUAAAAAAAAalQAAAAAAASKdAAAAAAAA+qkAAAAAAAH6lQAAAAAAAgKVAAAAAAACyo0AAAAAAAIKlQAAAAAAA7J5AAAAAAADqoEAAAAAAAMKgQAAAAAAAAAAAAAAAAABGr0AAAAAAAKyYQAAAAAAAzJhAAAAAAACoj0AAAAAAANCUQAAAAAAAjJtAAAAAAADkkkAAAAAAADyXQAAAAAAAKJNAAAAAAAAAAAAAAAAAAGCSQAAAAAAAQI1AAAAAAACckEAAAAAAAGiRQAAAAAAAOIxAAAAAAAAAAAAAAAAAAMiVQAAAAAAA0IdAAAAAAAAAAAAAAAAAABiFQAAAAAAAuIZAAAAAAABwiEAAAAAAAFCKQAAAAAAA0INAAAAAAADYgEAAAAAAAJiAQAAAAAAA0IZAAAAAAACIh0AAAAAAAJCDQAAAAAAAWIdAAAAAAABAkkAAAAAAAAAAAAAAAAAASINAAAAAAAAog0AAAAAAAAiAQAAAAAAAsINAAAAAAABQgkAAAAAAAPyQQAAAAAAAAAAAAAAAAAAgfEAAAAAAACB+QAAAAAAA0HtAAAAAAADweUAAAAAAAPBzQAAAAAAAgHBAAAAAAACgakAAAAAAAMByQAAAAAAACItAAAAAAAAgf0AAAAAAAAiAQAAAAAAAAAAAAAAAAABwi0AAAAAAAKB0QAAAAAAAoHpAAAAAAAAwd0AAAAAAAFB1QAAAAAAAQIJAAAAAAABwgEAAAAAAANiAQAAAAAAAQHlAAAAAAADIhEAAAAAAAAiBQAAAAAAAgIdAAAAAAAAohEAAAAAAAACEQAAAAAAAyINAAAAAAAAwgkAAAAAAAKCAQAAAAAAA+IhAAAAAAADwiEAAAAAAALCBQAAAAAAAsIVAAAAAAACwgUAAAAAAABiFQAAAAAAAWIdAAAAAAAD4gEAAAAAAAIiDQAAAAAAASIFAAAAAAADAg0AAAAAAAAAAAAAAAAAAXJFAAAAAAACAg0AAAAAAADiCQAAAAAAAqIRAAAAAAAD4hEAAAAAAANCEQAAAAAAAEHhAAAAAAACYgEAAAAAAADiDQAAAAAAAmIdAAAAAAACYhEAAAAAAAPiBQAAAAAAAuIFAAAAAAAAQe0AAAAAAADCCQAAAAAAAMIZAAAAAAAAAh0AAAAAAAACHQAAAAAAAeIpAAAAAAAAAikAAAAAAABiGQAAAAAAAKIhAAAAAAADIiUAAAAAAAGCMQAAAAAAA2JBAAAAAAAA4iUAAAAAAAIiOQAAAAAAAjJFAAAAAAAA8kkAAAAAAAISUQAAAAAAAWJRAAAAAAACAlUAAAAAAAHiXQAAAAAAAcJZAAAAAAADImUAAAAAAAJSZQAAAAAAAsJpAAAAAAABAnEAAAAAAAACiQAAAAAAA6qBAAAAAAAAWo0AAAAAAAKCgQAAAAAAABKBAAAAAAAD0oUAAAAAAAOajQAAAAAAAZKVAAAAAAAA2pkAAAAAAANKkQAAAAAAAiKVAAAAAAAAUp0AAAAAAAIKnQAAAAAAA1KlAAAAAAABSqEAAAAAAAMqnQAAAAAAAGqZAAAAAAAAupkAAAAAAADSjQAAAAAAAGqZAAAAAAABWq0AAAAAAAHypQAAAAAAAXqhAAAAAAADYqUAAAAAAAKatQAAAAAAAiqZAAAAAAAAmp0AAAAAAAISoQAAAAAAAzqdAAAAAAABSpUAAAAAAAFKqQAAAAAAAdKJAAAAAAAA2o0AAAAAAAFalQAAAAAAA4qNAAAAAAAA4p0AAAAAAANaoQAAAAAAAbqRAAAAAAABAmkAAAAAAAKCaQAAAAAAAvKBAAAAAAACgoUAAAAAAANCgQAAAAAAAqKFAAAAAAAD0nEAAAAAAANieQAAAAAAAwJtAAAAAAADWoEAAAAAAAFajQAAAAAAAPqNAAAAAAAAQoUAAAAAAAMChQAAAAAAAnJ1AAAAAAABsnkAAAAAAAIygQAAAAAAAYqNAAAAAAAAGo0AAAAAAAFyfQAAAAAAApqZAAAAAAABUnUAAAAAAANCiQAAAAAAAlqBAAAAAAAAyqEAAAAAAAOKiQAAAAAAAAKNAAAAAAACyo0AAAAAAAACeQAAAAAAAIJxAAAAAAACwm0AAAAAAAHaiQAAAAAAARJtAAAAAAAAcnkAAAAAAAOiYQAAAAAAAdJlAAAAAAABEnUAAAAAAAGyYQAAAAAAA2J1AAAAAAACwmUAAAAAAAA6hQAAAAAAA/JhAAAAAAAA8mUAAAAAAABCTQAAAAAAAoJVAAAAAAACQl0AAAAAAAFiUQAAAAAAAGJRAAAAAAAAIlUAAAAAAADSQQAAAAAAAgI9AAAAAAADAkEAAAAAAAHiXQAAAAAAA2JNAAAAAAAC4k0AAAAAAAPCVQAAAAAAAYJBAAAAAAAAAAAAAAAAAAOCdQAAAAAAA4JNAAAAAAAB0k0AAAAAAAPCUQAAAAAAAwJRAAAAAAAAgkkAAAAAAAGiQQAAAAAAAsJJAAAAAAABElUAAAAAAABSYQAAAAAAAjJRAAAAAAABgkkAAAAAAAMCVQAAAAAAALJJAAAAAAACwlUAAAAAAALyXQAAAAAAArJhAAAAAAADImkAAAAAAANCbQAAAAAAA4JhAAAAAAAAklUAAAAAAAOibQAAAAAAApKFAAAAAAAAapUAAAAAAAESiQAAAAAAA0KRAAAAAAACaoUAAAAAAAJ6jQAAAAAAAXqJAAAAAAABOq0AAAAAAAPKqQAAAAAAASK5AAAAAAACmrEAAAAAAAKqsQAAAAAAAjKlAAAAAAADKqUAAAAAAANSuQAAAAAAAELFAAAAAAAB0sUAAAAAAAJ+yQAAAAAAArbFAAAAAAADor0AAAAAAAJWyQAAAAAAAbrNAAAAAAABytEAAAAAAAHOyQAAAAAAAnLNAAAAAAADjsEAAAAAAAOKuQAAAAAAASK9AAAAAAADRtEAAAAAAAMC0QAAAAAAAE7RAAAAAAAC6s0AAAAAAAOixQAAAAAAA3rBAAAAAAACXsUAAAAAAABO1QAAAAAAA9LRAAAAAAABws0AAAAAAAO+3QAAAAAAAILRAAAAAAABFtUAAAAAAAHu1QAAAAAAA4bZAAAAAAADutkAAAAAAABS3QAAAAAAA67VAAAAAAADZskAAAAAAAIexQAAAAAAArLRAAAAAAABotUAAAAAAAPizQAAAAAAAWLJAAAAAAAA+sUAAAAAAAHWwQAAAAAAAYqpAAAAAAAAAAAAAAAAAABGwQAAAAACAl8BAAAAAAAANsEAAAAAAAJStQAAAAAAA7qpAAAAAAAAYqEAAAAAAAIKmQAAAAAAAgqlAAAAAAACqo0AAAAAAAOyXQAAAAAAAlqJAAAAAAABAqUAAAAAAAAykQAAAAAAAcKlAAAAAAABvsEAAAAAAAPynQAAAAAAATq9AAAAAAAAYqEA=\",\"dtype\":\"float64\",\"order\":\"little\",\"shape\":[487]}},\"selected\":{\"id\":\"1693\"},\"selection_policy\":{\"id\":\"1694\"}},\"id\":\"1677\",\"type\":\"ColumnDataSource\"},{\"attributes\":{\"base\":60,\"mantissas\":[1,2,5,10,15,20,30],\"max_interval\":1800000.0,\"min_interval\":1000.0,\"num_minor_ticks\":0},\"id\":\"1664\",\"type\":\"AdaptiveTicker\"},{\"attributes\":{\"click_policy\":\"hide\",\"items\":[{\"id\":\"1676\"},{\"id\":\"1707\"}],\"location\":\"top_left\"},\"id\":\"1675\",\"type\":\"Legend\"},{\"attributes\":{\"days\":[1,2,3,4,5,6,7,8,9,10,11,12,13,14,15,16,17,18,19,20,21,22,23,24,25,26,27,28,29,30,31]},\"id\":\"1666\",\"type\":\"DaysTicker\"},{\"attributes\":{},\"id\":\"1653\",\"type\":\"Title\"},{\"attributes\":{\"base\":24,\"mantissas\":[1,2,4,6,8,12],\"max_interval\":43200000.0,\"min_interval\":3600000.0,\"num_minor_ticks\":0},\"id\":\"1665\",\"type\":\"AdaptiveTicker\"},{\"attributes\":{\"months\":[0,1,2,3,4,5,6,7,8,9,10,11]},\"id\":\"1670\",\"type\":\"MonthsTicker\"},{\"attributes\":{\"label\":{\"value\":\"Pakistan\"},\"renderers\":[{\"id\":\"1680\"}]},\"id\":\"1707\",\"type\":\"LegendItem\"},{\"attributes\":{\"months\":[0,2,4,6,8,10]},\"id\":\"1671\",\"type\":\"MonthsTicker\"},{\"attributes\":{\"days\":[1,4,7,10,13,16,19,22,25,28]},\"id\":\"1667\",\"type\":\"DaysTicker\"},{\"attributes\":{\"days\":[1,15]},\"id\":\"1669\",\"type\":\"DaysTicker\"},{\"attributes\":{\"months\":[0,6]},\"id\":\"1673\",\"type\":\"MonthsTicker\"},{\"attributes\":{\"days\":[1,8,15,22]},\"id\":\"1668\",\"type\":\"DaysTicker\"},{\"attributes\":{},\"id\":\"1621\",\"type\":\"LinearScale\"},{\"attributes\":{\"source\":{\"id\":\"1677\"}},\"id\":\"1681\",\"type\":\"CDSView\"},{\"attributes\":{},\"id\":\"1617\",\"type\":\"DataRange1d\"},{\"attributes\":{},\"id\":\"1674\",\"type\":\"YearsTicker\"},{\"attributes\":{},\"id\":\"1619\",\"type\":\"DataRange1d\"},{\"attributes\":{\"months\":[0,4,8]},\"id\":\"1672\",\"type\":\"MonthsTicker\"},{\"attributes\":{},\"id\":\"1623\",\"type\":\"LinearScale\"},{\"attributes\":{\"formatter\":{\"id\":\"1658\"},\"major_label_policy\":{\"id\":\"1657\"},\"ticker\":{\"id\":\"1626\"}},\"id\":\"1625\",\"type\":\"DatetimeAxis\"},{\"attributes\":{},\"id\":\"1633\",\"type\":\"PanTool\"},{\"attributes\":{\"num_minor_ticks\":5,\"tickers\":[{\"id\":\"1663\"},{\"id\":\"1664\"},{\"id\":\"1665\"},{\"id\":\"1666\"},{\"id\":\"1667\"},{\"id\":\"1668\"},{\"id\":\"1669\"},{\"id\":\"1670\"},{\"id\":\"1671\"},{\"id\":\"1672\"},{\"id\":\"1673\"},{\"id\":\"1674\"}]},\"id\":\"1626\",\"type\":\"DatetimeTicker\"},{\"attributes\":{\"axis\":{\"id\":\"1625\"},\"ticker\":null},\"id\":\"1628\",\"type\":\"Grid\"},{\"attributes\":{},\"id\":\"1661\",\"type\":\"Selection\"},{\"attributes\":{},\"id\":\"1637\",\"type\":\"ResetTool\"},{\"attributes\":{\"line_alpha\":0.1,\"line_color\":\"firebrick\",\"x\":{\"field\":\"x\"},\"y\":{\"field\":\"y\"}},\"id\":\"1679\",\"type\":\"Line\"},{\"attributes\":{},\"id\":\"1636\",\"type\":\"SaveTool\"},{\"attributes\":{\"formatter\":{\"id\":\"1655\"},\"major_label_policy\":{\"id\":\"1654\"},\"ticker\":{\"id\":\"1630\"}},\"id\":\"1629\",\"type\":\"LinearAxis\"},{\"attributes\":{},\"id\":\"1654\",\"type\":\"AllLabels\"},{\"attributes\":{\"axis\":{\"id\":\"1629\"},\"dimension\":1,\"ticker\":null},\"id\":\"1632\",\"type\":\"Grid\"},{\"attributes\":{},\"id\":\"1630\",\"type\":\"BasicTicker\"},{\"attributes\":{\"line_color\":\"firebrick\",\"x\":{\"field\":\"x\"},\"y\":{\"field\":\"y\"}},\"id\":\"1678\",\"type\":\"Line\"},{\"attributes\":{},\"id\":\"1655\",\"type\":\"BasicTickFormatter\"},{\"attributes\":{\"data\":{\"x\":{\"__ndarray__\":\"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\",\"dtype\":\"float64\",\"order\":\"little\",\"shape\":[487]},\"y\":{\"__ndarray__\":\"AAAAAAAAAAAAAAAAAAAAAAAAAAAAAAAAAAAAAAAAAAAAAAAAAAAAAAAAAAAAAAAAAAAAAAAAAAAAAAAAAAAAAAAAAAAAAAAAAAAAAAAAAAAAAAAAAAAAAAAAAAAAAAAAAAAAAAAAAAAAAAAAAAAAAAAAAAAAAAAAAAAAAAAAAAAAAAAAAAAAAAAAAAAAAAAAAAAAAAAAAAAAAAAAAAAAAAAAAAAAAAAAAAAAAAAAAAAAAAAAAAAAAAAAAAAAAAAAAAAAAAAAAAAAAAAAAAAAAAAAAAAAAAAAAAAAAAAAAAAAAAAAAAAAAAAAAAAAAAAAAAAAAAAAAAAAAAAAAAAAAAAAAAAAAAAAAAAAAAAAAAAAAAAAAAAAAAAAAAAAAAAAAAAAAAAAAAAAAAAAAAAAAAAAAAAAAAAAAAAAAAAAAAAAAAAAAAAAAAAAAAAAAAAAAAAAAAAAAAAAAAAAAAAAAAAAAAAAAAAAAAAAAAAAAAAAAAAAAAAIQAAAAAAAAAAAAAAAAAAAAAAAAAAAAAAAAAAAAAAAAAAAAAAAAAAAAAAAAAAAAAAAAAAAAAAAAABAAAAAAAAACEAAAAAAAAAAQAAAAAAAABBAAAAAAAAACEAAAAAAAAAIQAAAAAAAABRAAAAAAAAAAEAAAAAAAAAYQAAAAAAAABhAAAAAAAAAAAAAAAAAAAAUQAAAAAAAABBAAAAAAAAAAAAAAAAAAAAAAAAAAAAAAPA/AAAAAAAAAEAAAAAAAAAIQAAAAAAAAABAAAAAAAAAFEAAAAAAAAAiQAAAAAAAADJAAAAAAACAQUAAAAAAAIBEQAAAAAAAAEtAAAAAAAAAXEAAAAAAAIBXQAAAAAAAAE1AAAAAAABgYUAAAAAAAMBmQAAAAAAAIGpAAAAAAABga0AAAAAAAFB1QAAAAAAAoHBAAAAAAAAgc0AAAAAAAIBzQAAAAAAAwH5AAAAAAAAge0AAAAAAAGB4QAAAAAAA4HlAAAAAAABwf0AAAAAAAFBzQAAAAAAAIHpAAAAAAAAQf0AAAAAAACiBQAAAAAAACIRAAAAAAACggUAAAAAAANiBQAAAAAAAQIFAAAAAAADIhEAAAAAAAICFQAAAAAAAkIhAAAAAAACwiEAAAAAAABCGQAAAAAAAKIZAAAAAAADgg0AAAAAAALiLQAAAAAAAKJBAAAAAAABIjkAAAAAAACiSQAAAAAAARJBAAAAAAADIkkAAAAAAABCNQAAAAAAA5JNAAAAAAAAImUAAAAAAAIyTQAAAAAAARJlAAAAAAAC0m0AAAAAAAHiaQAAAAAAARJ1AAAAAAADwl0AAAAAAANyeQAAAAAAAOJJAAAAAAAAUmEAAAAAAALSfQAAAAAAAtqNAAAAAAACQm0AAAAAAAOKjQAAAAAAAmqJAAAAAAAC+pkAAAAAAAA6lQAAAAAAA7qJAAAAAAAAYpkAAAAAAAJakQAAAAAAAbqVAAAAAAABepUAAAAAAAMaoQAAAAAAA7KhAAAAAAADmqEAAAAAAAB6rQAAAAAAAUKZAAAAAAACKqEAAAAAAADaoQAAAAAAALK5AAAAAAABQr0AAAAAAALatQAAAAAAAVqlAAAAAAABQqUAAAAAAAJarQAAAAAAAMKtAAAAAAACoqkAAAAAAAAyrQAAAAAAA1K5AAAAAAAA4rkAAAAAAAGCrQAAAAAAAwq1AAAAAAABcr0AAAAAAAMSsQAAAAAAAfq1AAAAAAABmr0AAAAAAAFSoQAAAAAAAsKlAAAAAAABkpUAAAAAAAAKpQAAAAAAApqdAAAAAAABCq0AAAAAAAECqQAAAAAAACqdAAAAAAAD8pEAAAAAAANSkQAAAAAAANqhAAAAAAAC2qEAAAAAAAJqrQAAAAAAAWqVAAAAAAAC0p0AAAAAAACqlQAAAAAAANqNAAAAAAADgpkAAAAAAAOKnQAAAAAAAcKVAAAAAAABQpkAAAAAAAOijQAAAAAAAsKNAAAAAAADGoUAAAAAAAKilQAAAAAAAIKdAAAAAAACCp0AAAAAAAA6lQAAAAAAAqKVAAAAAAAAuoUAAAAAAALCLQAAAAAAAMJVAAAAAAAD4nUAAAAAAALykQAAAAAAAQqdAAAAAAABGpkAAAAAAAGakQAAAAAAAbqNAAAAAAAC2pkAAAAAAAGinQAAAAAAAZqdAAAAAAABypEAAAAAAAJylQAAAAAAAqKRAAAAAAACgn0AAAAAAAEakQAAAAAAAAKlAAAAAAAB2pUAAAAAAAGimQAAAAAAAwqJAAAAAAACyoUAAAAAAANSeQAAAAAAAaqNAAAAAAADio0AAAAAAAK6jQAAAAAAACKNAAAAAAABGoUAAAAAAAKagQAAAAAAApJ1AAAAAAAD8oEAAAAAAAHieQAAAAAAALKRAAAAAAADcoEAAAAAAACSeQAAAAAAAeJ5AAAAAAADgmEAAAAAAADShQAAAAAAAkJ1AAAAAAACMnEAAAAAAAJCdQAAAAAAAAJxAAAAAAAAIlEAAAAAAABCXQAAAAAAAUJxAAAAAAADwmkAAAAAAADyZQAAAAAAA5JhAAAAAAAAUmEAAAAAAAHyYQAAAAAAAKJhAAAAAAACcmkAAAAAAAFSYQAAAAAAACJpAAAAAAAAQmEAAAAAAAJyVQAAAAAAASJFAAAAAAADsk0AAAAAAAPyVQAAAAAAAQJdAAAAAAABwlkAAAAAAAJCXQAAAAAAA0JVAAAAAAAB4kkAAAAAAAJSRQAAAAAAAiJZAAAAAAABsl0AAAAAAAMCXQAAAAAAAhJZAAAAAAAD4k0AAAAAAAMySQAAAAAAApJJAAAAAAAAAl0AAAAAAAASYQAAAAAAAUJpAAAAAAAAAmUAAAAAAANyXQAAAAAAA5JJAAAAAAADok0AAAAAAAJSZQAAAAAAAkJVAAAAAAAAkmEAAAAAAAICaQAAAAAAAyJhAAAAAAAAYkUAAAAAAAHCUQAAAAAAAcJZAAAAAAADclEAAAAAAAFSXQAAAAAAARJpAAAAAAAAQmUAAAAAAAKCUQAAAAAAAgJhAAAAAAAAgm0AAAAAAAOyZQAAAAAAAtJdAAAAAAADInEAAAAAAAPSWQAAAAAAAJJRAAAAAAAAIl0AAAAAAAEyaQAAAAAAAjJpAAAAAAAAUm0AAAAAAANScQAAAAAAAnJtAAAAAAADsl0AAAAAAALScQAAAAAAAtqBAAAAAAABIoUAAAAAAAH6gQAAAAAAAeKJAAAAAAADGoUAAAAAAANycQAAAAAAAGKBAAAAAAADmokAAAAAAAGyhQAAAAAAA2KBAAAAAAADooUAAAAAAAMKhQAAAAAAA0J1AAAAAAADwm0AAAAAAALqjQAAAAAAA6qFAAAAAAAAsoUAAAAAAABiiQAAAAAAAmKFAAAAAAAAYnEAAAAAAAHCbQAAAAAAALKFAAAAAAAA0oUAAAAAAAN6gQAAAAAAAFJ1AAAAAAABwnUAAAAAAAMSUQAAAAAAALJVAAAAAAAAcnEAAAAAAAFSdQAAAAAAAgJlAAAAAAAC4kUAAAAAAAJiUQAAAAAAAzJNAAAAAAAAEkkAAAAAAAPiWQAAAAAAAmJRAAAAAAABclUAAAAAAAEiTQAAAAAAALJJAAAAAAAAQikAAAAAAAGSQQAAAAAAAII1AAAAAAAB0kkAAAAAAAEyTQAAAAAAAsI9AAAAAAADwjkAAAAAAAGCFQAAAAAAAGIpAAAAAAABwjEAAAAAAAPiOQAAAAAAAkI5AAAAAAAB4j0AAAAAAAIiIQAAAAAAAoIVAAAAAAAC8kEAAAAAAAIiKQAAAAAAAcIZAAAAAAADQi0AAAAAAAGiJQAAAAAAA0IdAAAAAAAAQgkAAAAAAAMiBQAAAAAAAyIVAAAAAAADwhUAAAAAAAICEQAAAAAAAQIJAAAAAAABYg0AAAAAAAEB7QAAAAAAAkH1AAAAAAADQgkAAAAAAABiAQAAAAAAAgIBAAAAAAADQf0AAAAAAAGB8QAAAAAAAsHZAAAAAAAAQd0AAAAAAALB7QAAAAAAAaIBAAAAAAABge0AAAAAAAFB+QAAAAAAAMHtAAAAAAAAQc0AAAAAAAEByQAAAAAAAwHNAAAAAAAAweEAAAAAAAEB4QAAAAAAAoHdAAAAAAADAe0AAAAAAADByQAAAAAAAYHRAAAAAAADge0AAAAAAAMB4QAAAAAAAsHtAAAAAAABweEAAAAAAAGB5QAAAAAAA4HVAAAAAAABwdEAAAAAAAOB2QAAAAAAA8HhAAAAAAADAekAAAAAAAKB5QAAAAAAAYH1AAAAAAABweUAAAAAAABB4QAAAAAAASIJAAAAAAAAYgEAAAAAAADCDQAAAAAAAWINAAAAAAADYg0AAAAAAAOCAQAAAAAAA8IJAAAAAAABoikAAAAAAAICMQAAAAAAA0I9AAAAAAABskEAAAAAAAKiQQAAAAAAAsI9AAAAAAAAckkAAAAAAALSbQAAAAAAA3JpAAAAAAAAknUAAAAAAABahQAAAAAAArJ1AAAAAAAAwnUAAAAAAAPigQAAAAAAA8qVAAAAAAADEq0AAAAAAAN6rQAAAAAAABqxAAAAAAAAyrUAAAAAAALSsQAAAAAAAiK5AAAAAAAA9tEAAAAAAALKzQAAAAAAA7rRAAAAAAABFuUAAAAAAAK66QAAAAAAAM7ZAAAAAAACvu0AAAAAAAKO7QAAAAAAALbxAAAAAAADKvUAAAAAAAMa6QAAAAAAAJr1AAAAAAADftEAAAAAAALu2QAAAAAAAIbxAAAAAAACMt0AAAAAAAEG0QAAAAAAAYLBAAAAAAABBsUAAAAAAACKrQAAAAAAA5KxAAAAAAACvsEAAAAAAAM+xQAAAAAAAuLBAAAAAAABcr0AAAAAAAFqsQAAAAAAAEqVAAAAAAADUpkAAAAAAANSpQAAAAAAArqdAAAAAAAAWp0AAAAAAAEqiQAAAAAAAAqFAAAAAAACwlkAAAAAAADyVQAAAAAAALJtAAAAAAADonUAAAAAAADibQAAAAAAAeJxAAAAAAABImkAAAAAAABSUQAAAAAAAqJVAAAAAAACol0AAAAAAADiTQAAAAAAA0JFAAAAAAAAolEAAAAAAAICKQAAAAAAAUHBAAAAAAACwdkAAAAAAANCFQAAAAAAA4JNAAAAAAAAgmUAAAAAAAMSWQAAAAAAAgJdAAAAAAAAQkEA=\",\"dtype\":\"float64\",\"order\":\"little\",\"shape\":[487]}},\"selected\":{\"id\":\"1661\"},\"selection_policy\":{\"id\":\"1662\"}},\"id\":\"1647\",\"type\":\"ColumnDataSource\"},{\"attributes\":{},\"id\":\"1662\",\"type\":\"UnionRenderers\"},{\"attributes\":{\"data_source\":{\"id\":\"1647\"},\"glyph\":{\"id\":\"1648\"},\"hover_glyph\":null,\"muted_glyph\":null,\"nonselection_glyph\":{\"id\":\"1649\"},\"view\":{\"id\":\"1651\"}},\"id\":\"1650\",\"type\":\"GlyphRenderer\"},{\"attributes\":{},\"id\":\"1638\",\"type\":\"HelpTool\"},{\"attributes\":{},\"id\":\"1657\",\"type\":\"AllLabels\"},{\"attributes\":{\"overlay\":{\"id\":\"1639\"}},\"id\":\"1635\",\"type\":\"BoxZoomTool\"},{\"attributes\":{},\"id\":\"1634\",\"type\":\"WheelZoomTool\"}],\"root_ids\":[\"1616\"]},\"title\":\"Bokeh Application\",\"version\":\"2.3.2\"}};\n",
       "  var render_items = [{\"docid\":\"07806953-cbf2-4ccd-91ad-07098198de2e\",\"root_ids\":[\"1616\"],\"roots\":{\"1616\":\"439ea836-88cf-4f1e-a0fd-b1b2f09914e4\"}}];\n",
       "  root.Bokeh.embed.embed_items_notebook(docs_json, render_items);\n",
       "\n",
       "  }\n",
       "  if (root.Bokeh !== undefined) {\n",
       "    embed_document(root);\n",
       "  } else {\n",
       "    var attempts = 0;\n",
       "    var timer = setInterval(function(root) {\n",
       "      if (root.Bokeh !== undefined) {\n",
       "        clearInterval(timer);\n",
       "        embed_document(root);\n",
       "      } else {\n",
       "        attempts++;\n",
       "        if (attempts > 100) {\n",
       "          clearInterval(timer);\n",
       "          console.log(\"Bokeh: ERROR: Unable to run BokehJS code because BokehJS library is missing\");\n",
       "        }\n",
       "      }\n",
       "    }, 10, root)\n",
       "  }\n",
       "})(window);"
      ],
      "application/vnd.bokehjs_exec.v0+json": ""
     },
     "metadata": {
      "application/vnd.bokehjs_exec.v0+json": {
       "id": "1616"
      }
     },
     "output_type": "display_data"
    }
   ],
   "source": [
    "p=figure(plot_width=600, plot_height=300, \n",
    "        x_axis_type=\"datetime\")\n",
    "p.line(bd.date, bd.daily_infection, \n",
    "      line_width=2, \n",
    "      line_color=\"DarkBlue\", \n",
    "      legend_label=\"Bangladesh\")\n",
    "p.line(pakistan.date, pakistan.daily_infection, \n",
    "      line_width=1, \n",
    "      line_color=\"firebrick\", \n",
    "      legend_label=\"Pakistan\")\n",
    "\n",
    "p.legend.location=\"top_left\"\n",
    "p.legend.click_policy=\"hide\"\n",
    "show(p)"
   ]
  },
  {
   "cell_type": "markdown",
   "metadata": {},
   "source": [
    "### Muting glyphs\n",
    "Other times it is preferable for legend interaction to mute a glyph, instead of hiding it entirely. In this case, set `click_policy` property to `\"mute\"`. Additionally, the visual properties of a “muted glyph” also need to be specified. In general, this is done in exactly the same way as for [Selected and unselected glyphs](https://docs.bokeh.org/en/latest/docs/user_guide/styling.html#userguide-styling-selected-unselected-glyphs) or [Hover inspections](https://docs.bokeh.org/en/latest/docs/user_guide/styling.html#userguide-styling-hover-inspections). In the example below, `muted_alpha=0.2` and `muted_color=gray` are passed to circle to specify that muted lines should be drawn with a low alpha muted glyph."
   ]
  },
  {
   "cell_type": "code",
   "execution_count": 26,
   "metadata": {},
   "outputs": [
    {
     "data": {
      "text/html": [
       "\n",
       "\n",
       "\n",
       "\n",
       "\n",
       "\n",
       "  <div class=\"bk-root\" id=\"91cb3c51-bea3-4ba2-8f6b-f698f522cfb8\" data-root-id=\"1905\"></div>\n"
      ]
     },
     "metadata": {},
     "output_type": "display_data"
    },
    {
     "data": {
      "application/javascript": [
       "(function(root) {\n",
       "  function embed_document(root) {\n",
       "    \n",
       "  var docs_json = {\"1db2e6b6-d7e8-4e4b-887c-c62a00e4d574\":{\"defs\":[],\"roots\":{\"references\":[{\"attributes\":{\"below\":[{\"id\":\"1914\"}],\"center\":[{\"id\":\"1917\"},{\"id\":\"1921\"},{\"id\":\"1965\"}],\"height\":300,\"left\":[{\"id\":\"1918\"}],\"renderers\":[{\"id\":\"1940\"},{\"id\":\"1971\"}],\"title\":{\"id\":\"1943\"},\"toolbar\":{\"id\":\"1929\"},\"x_range\":{\"id\":\"1906\"},\"x_scale\":{\"id\":\"1910\"},\"y_range\":{\"id\":\"1908\"},\"y_scale\":{\"id\":\"1912\"}},\"id\":\"1905\",\"subtype\":\"Figure\",\"type\":\"Plot\"},{\"attributes\":{\"line_alpha\":0.2,\"line_color\":\"gray\",\"line_width\":2,\"x\":{\"field\":\"x\"},\"y\":{\"field\":\"y\"}},\"id\":\"1939\",\"type\":\"Line\"},{\"attributes\":{},\"id\":\"1984\",\"type\":\"Selection\"},{\"attributes\":{\"data_source\":{\"id\":\"1967\"},\"glyph\":{\"id\":\"1968\"},\"hover_glyph\":null,\"muted_glyph\":{\"id\":\"1970\"},\"nonselection_glyph\":{\"id\":\"1969\"},\"view\":{\"id\":\"1972\"}},\"id\":\"1971\",\"type\":\"GlyphRenderer\"},{\"attributes\":{\"line_alpha\":0.1,\"line_color\":\"DarkBlue\",\"line_width\":2,\"x\":{\"field\":\"x\"},\"y\":{\"field\":\"y\"}},\"id\":\"1938\",\"type\":\"Line\"},{\"attributes\":{\"mantissas\":[1,2,5],\"max_interval\":500.0,\"num_minor_ticks\":0},\"id\":\"1953\",\"type\":\"AdaptiveTicker\"},{\"attributes\":{\"label\":{\"value\":\"Bangladesh\"},\"renderers\":[{\"id\":\"1940\"}]},\"id\":\"1966\",\"type\":\"LegendItem\"},{\"attributes\":{\"base\":60,\"mantissas\":[1,2,5,10,15,20,30],\"max_interval\":1800000.0,\"min_interval\":1000.0,\"num_minor_ticks\":0},\"id\":\"1954\",\"type\":\"AdaptiveTicker\"},{\"attributes\":{\"overlay\":{\"id\":\"1928\"}},\"id\":\"1924\",\"type\":\"BoxZoomTool\"},{\"attributes\":{\"line_color\":\"DarkBlue\",\"line_width\":2,\"x\":{\"field\":\"x\"},\"y\":{\"field\":\"y\"}},\"id\":\"1937\",\"type\":\"Line\"},{\"attributes\":{},\"id\":\"1985\",\"type\":\"UnionRenderers\"},{\"attributes\":{\"base\":24,\"mantissas\":[1,2,4,6,8,12],\"max_interval\":43200000.0,\"min_interval\":3600000.0,\"num_minor_ticks\":0},\"id\":\"1955\",\"type\":\"AdaptiveTicker\"},{\"attributes\":{\"days\":[1,2,3,4,5,6,7,8,9,10,11,12,13,14,15,16,17,18,19,20,21,22,23,24,25,26,27,28,29,30,31]},\"id\":\"1956\",\"type\":\"DaysTicker\"},{\"attributes\":{\"data\":{\"x\":{\"__ndarray__\":\"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\",\"dtype\":\"float64\",\"order\":\"little\",\"shape\":[487]},\"y\":{\"__ndarray__\":\"AAAAAAAAAAAAAAAAAAAAAAAAAAAAAAAAAAAAAAAAAAAAAAAAAAAAAAAAAAAAAAAAAAAAAAAAAAAAAAAAAAAAAAAAAAAAAAAAAAAAAAAAAAAAAAAAAAAAAAAAAAAAAAAAAAAAAAAAAAAAAAAAAAAAAAAAAAAAAAAAAAAAAAAAAAAAAAAAAAAAAAAAAAAAAAAAAAAAAAAAAAAAAAAAAAAAAAAAAAAAAAAAAAAAAAAAAAAAAAAAAAAAAAAAAAAAAAAAAAAAAAAAAAAAAAAAAAAAAAAAAAAAAAAAAAAAAAAAAAAAAAAAAAAAAAAAAAAAAAAAAAAAAAAAAAAAAAAAAAAAAAAAAAAAAAAAAAAAAAAAAAAAAAAAAAAAAAAAAAAAAAAAAAAAAAAAAAAAAAAAAAAAAAAAAAAAAAAAAAAAAAAAAAAAAAAAAAAAAAAAAAAAAAAAAAAAAAAAAAAAAAAAAAAAAAAAAAAAAAAAAAAAAAAAAAAAAAAAAAAIQAAAAAAAAAAAAAAAAAAAAAAAAAAAAAAAAAAAAAAAAAAAAAAAAAAAAAAAAAAAAAAAAAAAAAAAAABAAAAAAAAACEAAAAAAAAAAQAAAAAAAABBAAAAAAAAACEAAAAAAAAAIQAAAAAAAABRAAAAAAAAAAEAAAAAAAAAYQAAAAAAAABhAAAAAAAAAAAAAAAAAAAAUQAAAAAAAABBAAAAAAAAAAAAAAAAAAAAAAAAAAAAAAPA/AAAAAAAAAEAAAAAAAAAIQAAAAAAAAABAAAAAAAAAFEAAAAAAAAAiQAAAAAAAADJAAAAAAACAQUAAAAAAAIBEQAAAAAAAAEtAAAAAAAAAXEAAAAAAAIBXQAAAAAAAAE1AAAAAAABgYUAAAAAAAMBmQAAAAAAAIGpAAAAAAABga0AAAAAAAFB1QAAAAAAAoHBAAAAAAAAgc0AAAAAAAIBzQAAAAAAAwH5AAAAAAAAge0AAAAAAAGB4QAAAAAAA4HlAAAAAAABwf0AAAAAAAFBzQAAAAAAAIHpAAAAAAAAQf0AAAAAAACiBQAAAAAAACIRAAAAAAACggUAAAAAAANiBQAAAAAAAQIFAAAAAAADIhEAAAAAAAICFQAAAAAAAkIhAAAAAAACwiEAAAAAAABCGQAAAAAAAKIZAAAAAAADgg0AAAAAAALiLQAAAAAAAKJBAAAAAAABIjkAAAAAAACiSQAAAAAAARJBAAAAAAADIkkAAAAAAABCNQAAAAAAA5JNAAAAAAAAImUAAAAAAAIyTQAAAAAAARJlAAAAAAAC0m0AAAAAAAHiaQAAAAAAARJ1AAAAAAADwl0AAAAAAANyeQAAAAAAAOJJAAAAAAAAUmEAAAAAAALSfQAAAAAAAtqNAAAAAAACQm0AAAAAAAOKjQAAAAAAAmqJAAAAAAAC+pkAAAAAAAA6lQAAAAAAA7qJAAAAAAAAYpkAAAAAAAJakQAAAAAAAbqVAAAAAAABepUAAAAAAAMaoQAAAAAAA7KhAAAAAAADmqEAAAAAAAB6rQAAAAAAAUKZAAAAAAACKqEAAAAAAADaoQAAAAAAALK5AAAAAAABQr0AAAAAAALatQAAAAAAAVqlAAAAAAABQqUAAAAAAAJarQAAAAAAAMKtAAAAAAACoqkAAAAAAAAyrQAAAAAAA1K5AAAAAAAA4rkAAAAAAAGCrQAAAAAAAwq1AAAAAAABcr0AAAAAAAMSsQAAAAAAAfq1AAAAAAABmr0AAAAAAAFSoQAAAAAAAsKlAAAAAAABkpUAAAAAAAAKpQAAAAAAApqdAAAAAAABCq0AAAAAAAECqQAAAAAAACqdAAAAAAAD8pEAAAAAAANSkQAAAAAAANqhAAAAAAAC2qEAAAAAAAJqrQAAAAAAAWqVAAAAAAAC0p0AAAAAAACqlQAAAAAAANqNAAAAAAADgpkAAAAAAAOKnQAAAAAAAcKVAAAAAAABQpkAAAAAAAOijQAAAAAAAsKNAAAAAAADGoUAAAAAAAKilQAAAAAAAIKdAAAAAAACCp0AAAAAAAA6lQAAAAAAAqKVAAAAAAAAuoUAAAAAAALCLQAAAAAAAMJVAAAAAAAD4nUAAAAAAALykQAAAAAAAQqdAAAAAAABGpkAAAAAAAGakQAAAAAAAbqNAAAAAAAC2pkAAAAAAAGinQAAAAAAAZqdAAAAAAABypEAAAAAAAJylQAAAAAAAqKRAAAAAAACgn0AAAAAAAEakQAAAAAAAAKlAAAAAAAB2pUAAAAAAAGimQAAAAAAAwqJAAAAAAACyoUAAAAAAANSeQAAAAAAAaqNAAAAAAADio0AAAAAAAK6jQAAAAAAACKNAAAAAAABGoUAAAAAAAKagQAAAAAAApJ1AAAAAAAD8oEAAAAAAAHieQAAAAAAALKRAAAAAAADcoEAAAAAAACSeQAAAAAAAeJ5AAAAAAADgmEAAAAAAADShQAAAAAAAkJ1AAAAAAACMnEAAAAAAAJCdQAAAAAAAAJxAAAAAAAAIlEAAAAAAABCXQAAAAAAAUJxAAAAAAADwmkAAAAAAADyZQAAAAAAA5JhAAAAAAAAUmEAAAAAAAHyYQAAAAAAAKJhAAAAAAACcmkAAAAAAAFSYQAAAAAAACJpAAAAAAAAQmEAAAAAAAJyVQAAAAAAASJFAAAAAAADsk0AAAAAAAPyVQAAAAAAAQJdAAAAAAABwlkAAAAAAAJCXQAAAAAAA0JVAAAAAAAB4kkAAAAAAAJSRQAAAAAAAiJZAAAAAAABsl0AAAAAAAMCXQAAAAAAAhJZAAAAAAAD4k0AAAAAAAMySQAAAAAAApJJAAAAAAAAAl0AAAAAAAASYQAAAAAAAUJpAAAAAAAAAmUAAAAAAANyXQAAAAAAA5JJAAAAAAADok0AAAAAAAJSZQAAAAAAAkJVAAAAAAAAkmEAAAAAAAICaQAAAAAAAyJhAAAAAAAAYkUAAAAAAAHCUQAAAAAAAcJZAAAAAAADclEAAAAAAAFSXQAAAAAAARJpAAAAAAAAQmUAAAAAAAKCUQAAAAAAAgJhAAAAAAAAgm0AAAAAAAOyZQAAAAAAAtJdAAAAAAADInEAAAAAAAPSWQAAAAAAAJJRAAAAAAAAIl0AAAAAAAEyaQAAAAAAAjJpAAAAAAAAUm0AAAAAAANScQAAAAAAAnJtAAAAAAADsl0AAAAAAALScQAAAAAAAtqBAAAAAAABIoUAAAAAAAH6gQAAAAAAAeKJAAAAAAADGoUAAAAAAANycQAAAAAAAGKBAAAAAAADmokAAAAAAAGyhQAAAAAAA2KBAAAAAAADooUAAAAAAAMKhQAAAAAAA0J1AAAAAAADwm0AAAAAAALqjQAAAAAAA6qFAAAAAAAAsoUAAAAAAABiiQAAAAAAAmKFAAAAAAAAYnEAAAAAAAHCbQAAAAAAALKFAAAAAAAA0oUAAAAAAAN6gQAAAAAAAFJ1AAAAAAABwnUAAAAAAAMSUQAAAAAAALJVAAAAAAAAcnEAAAAAAAFSdQAAAAAAAgJlAAAAAAAC4kUAAAAAAAJiUQAAAAAAAzJNAAAAAAAAEkkAAAAAAAPiWQAAAAAAAmJRAAAAAAABclUAAAAAAAEiTQAAAAAAALJJAAAAAAAAQikAAAAAAAGSQQAAAAAAAII1AAAAAAAB0kkAAAAAAAEyTQAAAAAAAsI9AAAAAAADwjkAAAAAAAGCFQAAAAAAAGIpAAAAAAABwjEAAAAAAAPiOQAAAAAAAkI5AAAAAAAB4j0AAAAAAAIiIQAAAAAAAoIVAAAAAAAC8kEAAAAAAAIiKQAAAAAAAcIZAAAAAAADQi0AAAAAAAGiJQAAAAAAA0IdAAAAAAAAQgkAAAAAAAMiBQAAAAAAAyIVAAAAAAADwhUAAAAAAAICEQAAAAAAAQIJAAAAAAABYg0AAAAAAAEB7QAAAAAAAkH1AAAAAAADQgkAAAAAAABiAQAAAAAAAgIBAAAAAAADQf0AAAAAAAGB8QAAAAAAAsHZAAAAAAAAQd0AAAAAAALB7QAAAAAAAaIBAAAAAAABge0AAAAAAAFB+QAAAAAAAMHtAAAAAAAAQc0AAAAAAAEByQAAAAAAAwHNAAAAAAAAweEAAAAAAAEB4QAAAAAAAoHdAAAAAAADAe0AAAAAAADByQAAAAAAAYHRAAAAAAADge0AAAAAAAMB4QAAAAAAAsHtAAAAAAABweEAAAAAAAGB5QAAAAAAA4HVAAAAAAABwdEAAAAAAAOB2QAAAAAAA8HhAAAAAAADAekAAAAAAAKB5QAAAAAAAYH1AAAAAAABweUAAAAAAABB4QAAAAAAASIJAAAAAAAAYgEAAAAAAADCDQAAAAAAAWINAAAAAAADYg0AAAAAAAOCAQAAAAAAA8IJAAAAAAABoikAAAAAAAICMQAAAAAAA0I9AAAAAAABskEAAAAAAAKiQQAAAAAAAsI9AAAAAAAAckkAAAAAAALSbQAAAAAAA3JpAAAAAAAAknUAAAAAAABahQAAAAAAArJ1AAAAAAAAwnUAAAAAAAPigQAAAAAAA8qVAAAAAAADEq0AAAAAAAN6rQAAAAAAABqxAAAAAAAAyrUAAAAAAALSsQAAAAAAAiK5AAAAAAAA9tEAAAAAAALKzQAAAAAAA7rRAAAAAAABFuUAAAAAAAK66QAAAAAAAM7ZAAAAAAACvu0AAAAAAAKO7QAAAAAAALbxAAAAAAADKvUAAAAAAAMa6QAAAAAAAJr1AAAAAAADftEAAAAAAALu2QAAAAAAAIbxAAAAAAACMt0AAAAAAAEG0QAAAAAAAYLBAAAAAAABBsUAAAAAAACKrQAAAAAAA5KxAAAAAAACvsEAAAAAAAM+xQAAAAAAAuLBAAAAAAABcr0AAAAAAAFqsQAAAAAAAEqVAAAAAAADUpkAAAAAAANSpQAAAAAAArqdAAAAAAAAWp0AAAAAAAEqiQAAAAAAAAqFAAAAAAACwlkAAAAAAADyVQAAAAAAALJtAAAAAAADonUAAAAAAADibQAAAAAAAeJxAAAAAAABImkAAAAAAABSUQAAAAAAAqJVAAAAAAACol0AAAAAAADiTQAAAAAAA0JFAAAAAAAAolEAAAAAAAICKQAAAAAAAUHBAAAAAAACwdkAAAAAAANCFQAAAAAAA4JNAAAAAAAAgmUAAAAAAAMSWQAAAAAAAgJdAAAAAAAAQkEA=\",\"dtype\":\"float64\",\"order\":\"little\",\"shape\":[487]}},\"selected\":{\"id\":\"1951\"},\"selection_policy\":{\"id\":\"1952\"}},\"id\":\"1936\",\"type\":\"ColumnDataSource\"},{\"attributes\":{\"source\":{\"id\":\"1936\"}},\"id\":\"1941\",\"type\":\"CDSView\"},{\"attributes\":{\"months\":[0,1,2,3,4,5,6,7,8,9,10,11]},\"id\":\"1960\",\"type\":\"MonthsTicker\"},{\"attributes\":{\"months\":[0,2,4,6,8,10]},\"id\":\"1961\",\"type\":\"MonthsTicker\"},{\"attributes\":{\"click_policy\":\"mute\",\"items\":[{\"id\":\"1966\"},{\"id\":\"1998\"}],\"location\":\"top_left\"},\"id\":\"1965\",\"type\":\"Legend\"},{\"attributes\":{\"days\":[1,4,7,10,13,16,19,22,25,28]},\"id\":\"1957\",\"type\":\"DaysTicker\"},{\"attributes\":{\"days\":[1,15]},\"id\":\"1959\",\"type\":\"DaysTicker\"},{\"attributes\":{\"months\":[0,6]},\"id\":\"1963\",\"type\":\"MonthsTicker\"},{\"attributes\":{},\"id\":\"1943\",\"type\":\"Title\"},{\"attributes\":{\"data\":{\"x\":{\"__ndarray__\":\"AABAx6j8dkIAAAAt+/x2QgAAwJJN/XZCAACA+J/9dkIAAEBe8v12QgAAAMRE/nZCAADAKZf+dkIAAICP6f52QgAAQPU7/3ZCAAAAW47/dkIAAMDA4P92QgAAgCYzAHdCAABAjIUAd0IAAADy1wB3QgAAwFcqAXdCAACAvXwBd0IAAEAjzwF3QgAAAIkhAndCAADA7nMCd0IAAIBUxgJ3QgAAQLoYA3dCAAAAIGsDd0IAAMCFvQN3QgAAgOsPBHdCAABAUWIEd0IAAAC3tAR3QgAAwBwHBXdCAACAglkFd0IAAEDoqwV3QgAAAE7+BXdCAADAs1AGd0IAAIAZowZ3QgAAQH/1BndCAAAA5UcHd0IAAMBKmgd3QgAAgLDsB3dCAABAFj8Id0IAAAB8kQh3QgAAwOHjCHdCAACARzYJd0IAAECtiAl3QgAAABPbCXdCAADAeC0Kd0IAAIDefwp3QgAAQETSCndCAAAAqiQLd0IAAMAPdwt3QgAAgHXJC3dCAABA2xsMd0IAAABBbgx3QgAAwKbADHdCAACADBMNd0IAAEByZQ13QgAAANi3DXdCAADAPQoOd0IAAICjXA53QgAAQAmvDndCAAAAbwEPd0IAAMDUUw93QgAAgDqmD3dCAABAoPgPd0IAAAAGSxB3QgAAwGudEHdCAACA0e8Qd0IAAEA3QhF3QgAAAJ2UEXdCAADAAucRd0IAAIBoORJ3QgAAQM6LEndCAAAANN4Sd0IAAMCZMBN3QgAAgP+CE3dCAABAZdUTd0IAAADLJxR3QgAAwDB6FHdCAACAlswUd0IAAED8HhV3QgAAAGJxFXdCAADAx8MVd0IAAIAtFhZ3QgAAQJNoFndCAAAA+boWd0IAAMBeDRd3QgAAgMRfF3dCAABAKrIXd0IAAACQBBh3QgAAwPVWGHdCAACAW6kYd0IAAEDB+xh3QgAAACdOGXdCAADAjKAZd0IAAIDy8hl3QgAAQFhFGndCAAAAvpcad0IAAMAj6hp3QgAAgIk8G3dCAABA744bd0IAAABV4Rt3QgAAwLozHHdCAACAIIYcd0IAAECG2Bx3QgAAAOwqHXdCAADAUX0dd0IAAIC3zx13QgAAQB0iHndCAAAAg3Qed0IAAMDoxh53QgAAgE4ZH3dCAABAtGsfd0IAAAAavh93QgAAwH8QIHdCAACA5WIgd0IAAEBLtSB3QgAAALEHIXdCAADAFlohd0IAAIB8rCF3QgAAQOL+IXdCAAAASFEid0IAAMCtoyJ3QgAAgBP2IndCAABAeUgjd0IAAADfmiN3QgAAwETtI3dCAACAqj8kd0IAAEAQkiR3QgAAAHbkJHdCAADA2zYld0IAAIBBiSV3QgAAQKfbJXdCAAAADS4md0IAAMBygCZ3QgAAgNjSJndCAABAPiUnd0IAAACkdyd3QgAAwAnKJ3dCAACAbxwod0IAAEDVbih3QgAAADvBKHdCAADAoBMpd0IAAIAGZil3QgAAQGy4KXdCAAAA0goqd0IAAMA3XSp3QgAAgJ2vKndCAABAAwIrd0IAAABpVCt3QgAAwM6mK3dCAACANPkrd0IAAECaSyx3QgAAAACeLHdCAADAZfAsd0IAAIDLQi13QgAAQDGVLXdCAAAAl+ctd0IAAMD8OS53QgAAgGKMLndCAABAyN4ud0IAAAAuMS93QgAAwJODL3dCAACA+dUvd0IAAEBfKDB3QgAAAMV6MHdCAADAKs0wd0IAAICQHzF3QgAAQPZxMXdCAAAAXMQxd0IAAMDBFjJ3QgAAgCdpMndCAABAjbsyd0IAAADzDTN3QgAAwFhgM3dCAACAvrIzd0IAAEAkBTR3QgAAAIpXNHdCAADA76k0d0IAAIBV/DR3QgAAQLtONXdCAAAAIaE1d0IAAMCG8zV3QgAAgOxFNndCAABAUpg2d0IAAAC46jZ3QgAAwB09N3dCAACAg483d0IAAEDp4Td3QgAAAE80OHdCAADAtIY4d0IAAIAa2Th3QgAAQIArOXdCAAAA5n05d0IAAMBL0Dl3QgAAgLEiOndCAABAF3U6d0IAAAB9xzp3QgAAwOIZO3dCAACASGw7d0IAAECuvjt3QgAAABQRPHdCAADAeWM8d0IAAIDftTx3QgAAQEUIPXdCAAAAq1o9d0IAAMAQrT13QgAAgHb/PXdCAABA3FE+d0IAAABCpD53QgAAwKf2PndCAACADUk/d0IAAEBzmz93QgAAANntP3dCAADAPkBAd0IAAICkkkB3QgAAQArlQHdCAAAAcDdBd0IAAMDViUF3QgAAgDvcQXdCAABAoS5Cd0IAAAAHgUJ3QgAAwGzTQndCAACA0iVDd0IAAEA4eEN3QgAAAJ7KQ3dCAADAAx1Ed0IAAIBpb0R3QgAAQM/BRHdCAAAANRRFd0IAAMCaZkV3QgAAgAC5RXdCAABAZgtGd0IAAADMXUZ3QgAAwDGwRndCAACAlwJHd0IAAED9VEd3QgAAAGOnR3dCAADAyPlHd0IAAIAuTEh3QgAAQJSeSHdCAAAA+vBId0IAAMBfQ0l3QgAAgMWVSXdCAABAK+hJd0IAAACROkp3QgAAwPaMSndCAACAXN9Kd0IAAEDCMUt3QgAAACiES3dCAADAjdZLd0IAAIDzKEx3QgAAQFl7THdCAAAAv81Md0IAAMAkIE13QgAAgIpyTXdCAABA8MRNd0IAAABWF053QgAAwLtpTndCAACAIbxOd0IAAECHDk93QgAAAO1gT3dCAADAUrNPd0IAAIC4BVB3QgAAQB5YUHdCAAAAhKpQd0IAAMDp/FB3QgAAgE9PUXdCAABAtaFRd0IAAAAb9FF3QgAAwIBGUndCAACA5phSd0IAAEBM61J3QgAAALI9U3dCAADAF5BTd0IAAIB94lN3QgAAQOM0VHdCAAAASYdUd0IAAMCu2VR3QgAAgBQsVXdCAABAen5Vd0IAAADg0FV3QgAAwEUjVndCAACAq3VWd0IAAEARyFZ3QgAAAHcaV3dCAADA3GxXd0IAAIBCv1d3QgAAQKgRWHdCAAAADmRYd0IAAMBztlh3QgAAgNkIWXdCAABAP1tZd0IAAAClrVl3QgAAwAoAWndCAACAcFJad0IAAEDWpFp3QgAAADz3WndCAADAoUlbd0IAAIAHnFt3QgAAQG3uW3dCAAAA00Bcd0IAAMA4k1x3QgAAgJ7lXHdCAABABDhdd0IAAABqil13QgAAwM/cXXdCAACANS9ed0IAAECbgV53QgAAAAHUXndCAADAZiZfd0IAAIDMeF93QgAAQDLLX3dCAAAAmB1gd0IAAMD9b2B3QgAAgGPCYHdCAABAyRRhd0IAAAAvZ2F3QgAAwJS5YXdCAACA+gtid0IAAEBgXmJ3QgAAAMawYndCAADAKwNjd0IAAICRVWN3QgAAQPenY3dCAAAAXfpjd0IAAMDCTGR3QgAAgCifZHdCAABAjvFkd0IAAAD0Q2V3QgAAwFmWZXdCAACAv+hld0IAAEAlO2Z3QgAAAIuNZndCAADA8N9md0IAAIBWMmd3QgAAQLyEZ3dCAAAAItdnd0IAAMCHKWh3QgAAgO17aHdCAABAU85od0IAAAC5IGl3QgAAwB5zaXdCAACAhMVpd0IAAEDqF2p3QgAAAFBqandCAADAtbxqd0IAAIAbD2t3QgAAQIFha3dCAAAA57Nrd0IAAMBMBmx3QgAAgLJYbHdCAABAGKtsd0IAAAB+/Wx3QgAAwONPbXdCAACASaJtd0IAAECv9G13QgAAABVHbndCAADAeplud0IAAIDg6253QgAAQEY+b3dCAAAArJBvd0IAAMAR4293QgAAgHc1cHdCAABA3Ydwd0IAAABD2nB3QgAAwKgscXdCAACADn9xd0IAAEB00XF3QgAAANojcndCAADAP3Zyd0IAAIClyHJ3QgAAQAsbc3dCAAAAcW1zd0IAAMDWv3N3QgAAgDwSdHdCAABAomR0d0IAAAAIt3R3QgAAwG0JdXdCAACA01t1d0IAAEA5rnV3QgAAAJ8AdndCAADABFN2d0IAAIBqpXZ3QgAAQND3dndCAAAANkp3d0IAAMCbnHd3QgAAgAHvd3dCAABAZ0F4d0IAAADNk3h3QgAAwDLmeHdCAACAmDh5d0IAAED+inl3QgAAAGTdeXdCAADAyS96d0IAAIAvgnp3QgAAQJXUendCAAAA+yZ7d0IAAMBgeXt3QgAAgMbLe3dCAABALB58d0IAAACScHx3QgAAwPfCfHdCAACAXRV9d0IAAEDDZ313QgAAACm6fXdCAADAjgx+d0IAAID0Xn53QgAAQFqxfndCAAAAwAN/d0IAAMAlVn93QgAAgIuof3dCAABA8fp/d0IAAABXTYB3QgAAwLyfgHdCAACAIvKAd0IAAECIRIF3QgAAAO6WgXdCAADAU+mBd0IAAIC5O4J3QgAAQB+OgndCAAAAheCCd0IAAMDqMoN3QgAAgFCFg3dCAABAtteDd0IAAAAcKoR3QgAAwIF8hHdCAACA586Ed0IAAEBNIYV3QgAAALNzhXdCAADAGMaFd0IAAIB+GIZ3QgAAQORqhndCAAAASr2Gd0IAAMCvD4d3QgAAgBVih3dCAABAe7SHd0IAAADhBoh3QgAAwEZZiHdCAACArKuId0IAAEAS/oh3QgAAAHhQiXdCAADA3aKJd0IAAIBD9Yl3QgAAQKlHindCAAAAD5qKd0IAAMB07Ip3QgAAgNo+i3dCAABAQJGLd0IAAACm44t3QgAAwAs2jHdCAACAcYiMd0IAAEDX2ox3QgAAAD0tjXdCAADAon+Nd0IAAIAI0o13QgAAQG4kjndCAAAA1HaOd0IAAMA5yY53QgAAgJ8bj3dCAABABW6Pd0IAAABrwI93QgAAwNASkHdCAACANmWQd0IAAECct5B3QgAAAAIKkXdCAADAZ1yRd0IAAIDNrpF3QgAAQDMBkndCAAAAmVOSd0IAAMD+pZJ3QgAAgGT4kndCAABAykqTd0IAAAAwnZN3QgAAwJXvk3dCAACA+0GUd0IAAEBhlJR3QgAAAMfmlHdCAADALDmVd0IAAICSi5V3QgAAQPjdlXdCAAAAXjCWd0IAAMDDgpZ3QgAAgCnVlndCAABAjyeXd0IAAAD1eZd3QgAAwFrMl3dCAACAwB6Yd0IAAEAmcZh3QgAAAIzDmHdCAADA8RWZd0I=\",\"dtype\":\"float64\",\"order\":\"little\",\"shape\":[487]},\"y\":{\"__ndarray__\":\"AAAAAAAAAAAAAAAAAAAAAAAAAAAAAAAAAAAAAAAAAAAAAAAAAAAAAAAAAAAAAAAAAAAAAAAAAAAAAAAAAAAAAAAAAAAAAAAAAAAAAAAAAAAAAAAAAAAAAAAAAAAAAAAAAAAAAAAAAAAAAAAAAAAAAAAAAAAAAAAAAAAAAAAAAAAAAAAAAAAAAAAAAAAAAAAAAAAAAAAAAAAAAAAAAAAAAAAAAAAAAAAAAAAAAAAAAAAAAAAAAAAAAAAAAAAAAAAAAAAAAAAAAAAAAAAAAAAAAAAAAAAAAAAAAAAAAAAAAAAAAAAAAAAAAAAAAAAAAAAAAAAAAAAAAAAAAAAAAAAAAAAAAAAAAAAAAAAAAAAAAAAAAAAAAAAAQAAAAAAAAAAAAAAAAAAAAAAAAAAAAAAAQAAAAAAAAAAAAAAAAAAAAAAAAAAAAADwPwAAAAAAAAAAAAAAAAAAAAAAAAAAAADwPwAAAAAAAAAAAAAAAAAAAAAAAAAAAAAAAAAAAAAAACRAAAAAAAAACEAAAAAAAADwPwAAAAAAACBAAAAAAAAACEAAAAAAAAA2QAAAAAAAwFRAAAAAAAAAWUAAAAAAAIBPQAAAAAAAYGNAAAAAAACAR0AAAAAAAKBsQAAAAAAAAEdAAAAAAADAWEAAAAAAAEBYQAAAAAAAwFZAAAAAAABAYUAAAAAAAIBlQAAAAAAAgF5AAAAAAACAWUAAAAAAAABeQAAAAAAAoGtAAAAAAACAZkAAAAAAAPByQAAAAAAAkHBAAAAAAACAYEAAAAAAADB1QAAAAAAACINAAAAAAADQcEAAAAAAAIBsQAAAAAAAQGxAAAAAAADAaUAAAAAAAMBzQAAAAAAAYGtAAAAAAACgcEAAAAAAAFB1QAAAAAAAEIFAAAAAAADAgEAAAAAAAIBaQAAAAAAAKINAAAAAAAAwhkAAAAAAAIBRQAAAAAAA7JFAAAAAAADwf0AAAAAAANyQQAAAAAAAiIhAAAAAAAB4iEAAAAAAAOiCQAAAAAAAWIJAAAAAAADIhUAAAAAAAIiMQAAAAAAAMJRAAAAAAABElEAAAAAAAOiOQAAAAAAAqI5AAAAAAADIikAAAAAAAFCRQAAAAAAAoJ9AAAAAAADYgUAAAAAAAPybQAAAAAAA+qFAAAAAAAD4mEAAAAAAAEybQAAAAAAAnqFAAAAAAAAQjkAAAAAAAKB+QAAAAAAAhqdAAAAAAAAAAAAAAAAAACCVQAAAAAAA2J5AAAAAAADEnEAAAAAAADCeQAAAAAAAIqFAAAAAAABWpEAAAAAAADybQAAAAAAA6KBAAAAAAABQm0AAAAAAADCVQAAAAAAAmJZAAAAAAAA4oEAAAAAAAOKlQAAAAAAA+qJAAAAAAAC+p0AAAAAAACinQAAAAAAAxK5AAAAAAADCr0AAAAAAAMGyQAAAAAAAIq9AAAAAAAB+skAAAAAAAGCzQAAAAAAAeLJAAAAAAAAmskAAAAAAAAm1QAAAAAAAyrZAAAAAAAD9uEAAAAAAAAAAAAAAAAAASLlAAAAAAICUx0AAAAAAAFuxQAAAAAAAz7ZAAAAAAADutEAAAAAAAFCzQAAAAAAAzLlAAAAAAABXs0AAAAAAAHexQAAAAAAA1K5AAAAAAABorkAAAAAAAJivQAAAAAAArqVAAAAAAACEqEAAAAAAANCvQAAAAAAAyqtAAAAAAAASpkAAAAAAACWwQAAAAAAA87BAAAAAAADur0AAAAAAAAAAAAAAAAAAdqpAAAAAAACHuUAAAAAAAAalQAAAAAAASKdAAAAAAAA+qkAAAAAAAH6lQAAAAAAAgKVAAAAAAACyo0AAAAAAAIKlQAAAAAAA7J5AAAAAAADqoEAAAAAAAMKgQAAAAAAAAAAAAAAAAABGr0AAAAAAAKyYQAAAAAAAzJhAAAAAAACoj0AAAAAAANCUQAAAAAAAjJtAAAAAAADkkkAAAAAAADyXQAAAAAAAKJNAAAAAAAAAAAAAAAAAAGCSQAAAAAAAQI1AAAAAAACckEAAAAAAAGiRQAAAAAAAOIxAAAAAAAAAAAAAAAAAAMiVQAAAAAAA0IdAAAAAAAAAAAAAAAAAABiFQAAAAAAAuIZAAAAAAABwiEAAAAAAAFCKQAAAAAAA0INAAAAAAADYgEAAAAAAAJiAQAAAAAAA0IZAAAAAAACIh0AAAAAAAJCDQAAAAAAAWIdAAAAAAABAkkAAAAAAAAAAAAAAAAAASINAAAAAAAAog0AAAAAAAAiAQAAAAAAAsINAAAAAAABQgkAAAAAAAPyQQAAAAAAAAAAAAAAAAAAgfEAAAAAAACB+QAAAAAAA0HtAAAAAAADweUAAAAAAAPBzQAAAAAAAgHBAAAAAAACgakAAAAAAAMByQAAAAAAACItAAAAAAAAgf0AAAAAAAAiAQAAAAAAAAAAAAAAAAABwi0AAAAAAAKB0QAAAAAAAoHpAAAAAAAAwd0AAAAAAAFB1QAAAAAAAQIJAAAAAAABwgEAAAAAAANiAQAAAAAAAQHlAAAAAAADIhEAAAAAAAAiBQAAAAAAAgIdAAAAAAAAohEAAAAAAAACEQAAAAAAAyINAAAAAAAAwgkAAAAAAAKCAQAAAAAAA+IhAAAAAAADwiEAAAAAAALCBQAAAAAAAsIVAAAAAAACwgUAAAAAAABiFQAAAAAAAWIdAAAAAAAD4gEAAAAAAAIiDQAAAAAAASIFAAAAAAADAg0AAAAAAAAAAAAAAAAAAXJFAAAAAAACAg0AAAAAAADiCQAAAAAAAqIRAAAAAAAD4hEAAAAAAANCEQAAAAAAAEHhAAAAAAACYgEAAAAAAADiDQAAAAAAAmIdAAAAAAACYhEAAAAAAAPiBQAAAAAAAuIFAAAAAAAAQe0AAAAAAADCCQAAAAAAAMIZAAAAAAAAAh0AAAAAAAACHQAAAAAAAeIpAAAAAAAAAikAAAAAAABiGQAAAAAAAKIhAAAAAAADIiUAAAAAAAGCMQAAAAAAA2JBAAAAAAAA4iUAAAAAAAIiOQAAAAAAAjJFAAAAAAAA8kkAAAAAAAISUQAAAAAAAWJRAAAAAAACAlUAAAAAAAHiXQAAAAAAAcJZAAAAAAADImUAAAAAAAJSZQAAAAAAAsJpAAAAAAABAnEAAAAAAAACiQAAAAAAA6qBAAAAAAAAWo0AAAAAAAKCgQAAAAAAABKBAAAAAAAD0oUAAAAAAAOajQAAAAAAAZKVAAAAAAAA2pkAAAAAAANKkQAAAAAAAiKVAAAAAAAAUp0AAAAAAAIKnQAAAAAAA1KlAAAAAAABSqEAAAAAAAMqnQAAAAAAAGqZAAAAAAAAupkAAAAAAADSjQAAAAAAAGqZAAAAAAABWq0AAAAAAAHypQAAAAAAAXqhAAAAAAADYqUAAAAAAAKatQAAAAAAAiqZAAAAAAAAmp0AAAAAAAISoQAAAAAAAzqdAAAAAAABSpUAAAAAAAFKqQAAAAAAAdKJAAAAAAAA2o0AAAAAAAFalQAAAAAAA4qNAAAAAAAA4p0AAAAAAANaoQAAAAAAAbqRAAAAAAABAmkAAAAAAAKCaQAAAAAAAvKBAAAAAAACgoUAAAAAAANCgQAAAAAAAqKFAAAAAAAD0nEAAAAAAANieQAAAAAAAwJtAAAAAAADWoEAAAAAAAFajQAAAAAAAPqNAAAAAAAAQoUAAAAAAAMChQAAAAAAAnJ1AAAAAAABsnkAAAAAAAIygQAAAAAAAYqNAAAAAAAAGo0AAAAAAAFyfQAAAAAAApqZAAAAAAABUnUAAAAAAANCiQAAAAAAAlqBAAAAAAAAyqEAAAAAAAOKiQAAAAAAAAKNAAAAAAACyo0AAAAAAAACeQAAAAAAAIJxAAAAAAACwm0AAAAAAAHaiQAAAAAAARJtAAAAAAAAcnkAAAAAAAOiYQAAAAAAAdJlAAAAAAABEnUAAAAAAAGyYQAAAAAAA2J1AAAAAAACwmUAAAAAAAA6hQAAAAAAA/JhAAAAAAAA8mUAAAAAAABCTQAAAAAAAoJVAAAAAAACQl0AAAAAAAFiUQAAAAAAAGJRAAAAAAAAIlUAAAAAAADSQQAAAAAAAgI9AAAAAAADAkEAAAAAAAHiXQAAAAAAA2JNAAAAAAAC4k0AAAAAAAPCVQAAAAAAAYJBAAAAAAAAAAAAAAAAAAOCdQAAAAAAA4JNAAAAAAAB0k0AAAAAAAPCUQAAAAAAAwJRAAAAAAAAgkkAAAAAAAGiQQAAAAAAAsJJAAAAAAABElUAAAAAAABSYQAAAAAAAjJRAAAAAAABgkkAAAAAAAMCVQAAAAAAALJJAAAAAAACwlUAAAAAAALyXQAAAAAAArJhAAAAAAADImkAAAAAAANCbQAAAAAAA4JhAAAAAAAAklUAAAAAAAOibQAAAAAAApKFAAAAAAAAapUAAAAAAAESiQAAAAAAA0KRAAAAAAACaoUAAAAAAAJ6jQAAAAAAAXqJAAAAAAABOq0AAAAAAAPKqQAAAAAAASK5AAAAAAACmrEAAAAAAAKqsQAAAAAAAjKlAAAAAAADKqUAAAAAAANSuQAAAAAAAELFAAAAAAAB0sUAAAAAAAJ+yQAAAAAAArbFAAAAAAADor0AAAAAAAJWyQAAAAAAAbrNAAAAAAABytEAAAAAAAHOyQAAAAAAAnLNAAAAAAADjsEAAAAAAAOKuQAAAAAAASK9AAAAAAADRtEAAAAAAAMC0QAAAAAAAE7RAAAAAAAC6s0AAAAAAAOixQAAAAAAA3rBAAAAAAACXsUAAAAAAABO1QAAAAAAA9LRAAAAAAABws0AAAAAAAO+3QAAAAAAAILRAAAAAAABFtUAAAAAAAHu1QAAAAAAA4bZAAAAAAADutkAAAAAAABS3QAAAAAAA67VAAAAAAADZskAAAAAAAIexQAAAAAAArLRAAAAAAABotUAAAAAAAPizQAAAAAAAWLJAAAAAAAA+sUAAAAAAAHWwQAAAAAAAYqpAAAAAAAAAAAAAAAAAABGwQAAAAACAl8BAAAAAAAANsEAAAAAAAJStQAAAAAAA7qpAAAAAAAAYqEAAAAAAAIKmQAAAAAAAgqlAAAAAAACqo0AAAAAAAOyXQAAAAAAAlqJAAAAAAABAqUAAAAAAAAykQAAAAAAAcKlAAAAAAABvsEAAAAAAAPynQAAAAAAATq9AAAAAAAAYqEA=\",\"dtype\":\"float64\",\"order\":\"little\",\"shape\":[487]}},\"selected\":{\"id\":\"1984\"},\"selection_policy\":{\"id\":\"1985\"}},\"id\":\"1967\",\"type\":\"ColumnDataSource\"},{\"attributes\":{\"days\":[1,8,15,22]},\"id\":\"1958\",\"type\":\"DaysTicker\"},{\"attributes\":{\"data_source\":{\"id\":\"1936\"},\"glyph\":{\"id\":\"1937\"},\"hover_glyph\":null,\"muted_glyph\":{\"id\":\"1939\"},\"nonselection_glyph\":{\"id\":\"1938\"},\"view\":{\"id\":\"1941\"}},\"id\":\"1940\",\"type\":\"GlyphRenderer\"},{\"attributes\":{},\"id\":\"1964\",\"type\":\"YearsTicker\"},{\"attributes\":{\"axis\":{\"id\":\"1914\"},\"ticker\":null},\"id\":\"1917\",\"type\":\"Grid\"},{\"attributes\":{},\"id\":\"1906\",\"type\":\"DataRange1d\"},{\"attributes\":{\"months\":[0,4,8]},\"id\":\"1962\",\"type\":\"MonthsTicker\"},{\"attributes\":{\"num_minor_ticks\":5,\"tickers\":[{\"id\":\"1953\"},{\"id\":\"1954\"},{\"id\":\"1955\"},{\"id\":\"1956\"},{\"id\":\"1957\"},{\"id\":\"1958\"},{\"id\":\"1959\"},{\"id\":\"1960\"},{\"id\":\"1961\"},{\"id\":\"1962\"},{\"id\":\"1963\"},{\"id\":\"1964\"}]},\"id\":\"1915\",\"type\":\"DatetimeTicker\"},{\"attributes\":{},\"id\":\"1944\",\"type\":\"AllLabels\"},{\"attributes\":{},\"id\":\"1910\",\"type\":\"LinearScale\"},{\"attributes\":{\"formatter\":{\"id\":\"1948\"},\"major_label_policy\":{\"id\":\"1947\"},\"ticker\":{\"id\":\"1915\"}},\"id\":\"1914\",\"type\":\"DatetimeAxis\"},{\"attributes\":{},\"id\":\"1945\",\"type\":\"BasicTickFormatter\"},{\"attributes\":{\"bottom_units\":\"screen\",\"fill_alpha\":0.5,\"fill_color\":\"lightgrey\",\"left_units\":\"screen\",\"level\":\"overlay\",\"line_alpha\":1.0,\"line_color\":\"black\",\"line_dash\":[4,4],\"line_width\":2,\"right_units\":\"screen\",\"syncable\":false,\"top_units\":\"screen\"},\"id\":\"1928\",\"type\":\"BoxAnnotation\"},{\"attributes\":{},\"id\":\"1951\",\"type\":\"Selection\"},{\"attributes\":{},\"id\":\"1908\",\"type\":\"DataRange1d\"},{\"attributes\":{\"label\":{\"value\":\"Pakistan\"},\"renderers\":[{\"id\":\"1971\"}]},\"id\":\"1998\",\"type\":\"LegendItem\"},{\"attributes\":{},\"id\":\"1927\",\"type\":\"HelpTool\"},{\"attributes\":{},\"id\":\"1952\",\"type\":\"UnionRenderers\"},{\"attributes\":{\"source\":{\"id\":\"1967\"}},\"id\":\"1972\",\"type\":\"CDSView\"},{\"attributes\":{},\"id\":\"1947\",\"type\":\"AllLabels\"},{\"attributes\":{\"line_color\":\"firebrick\",\"x\":{\"field\":\"x\"},\"y\":{\"field\":\"y\"}},\"id\":\"1968\",\"type\":\"Line\"},{\"attributes\":{\"line_alpha\":0.2,\"line_color\":\"gray\",\"x\":{\"field\":\"x\"},\"y\":{\"field\":\"y\"}},\"id\":\"1970\",\"type\":\"Line\"},{\"attributes\":{\"line_alpha\":0.1,\"line_color\":\"firebrick\",\"x\":{\"field\":\"x\"},\"y\":{\"field\":\"y\"}},\"id\":\"1969\",\"type\":\"Line\"},{\"attributes\":{},\"id\":\"1948\",\"type\":\"DatetimeTickFormatter\"},{\"attributes\":{},\"id\":\"1925\",\"type\":\"SaveTool\"},{\"attributes\":{\"active_multi\":null,\"tools\":[{\"id\":\"1922\"},{\"id\":\"1923\"},{\"id\":\"1924\"},{\"id\":\"1925\"},{\"id\":\"1926\"},{\"id\":\"1927\"}]},\"id\":\"1929\",\"type\":\"Toolbar\"},{\"attributes\":{},\"id\":\"1912\",\"type\":\"LinearScale\"},{\"attributes\":{\"formatter\":{\"id\":\"1945\"},\"major_label_policy\":{\"id\":\"1944\"},\"ticker\":{\"id\":\"1919\"}},\"id\":\"1918\",\"type\":\"LinearAxis\"},{\"attributes\":{},\"id\":\"1919\",\"type\":\"BasicTicker\"},{\"attributes\":{},\"id\":\"1922\",\"type\":\"PanTool\"},{\"attributes\":{},\"id\":\"1926\",\"type\":\"ResetTool\"},{\"attributes\":{},\"id\":\"1923\",\"type\":\"WheelZoomTool\"},{\"attributes\":{\"axis\":{\"id\":\"1918\"},\"dimension\":1,\"ticker\":null},\"id\":\"1921\",\"type\":\"Grid\"}],\"root_ids\":[\"1905\"]},\"title\":\"Bokeh Application\",\"version\":\"2.3.2\"}};\n",
       "  var render_items = [{\"docid\":\"1db2e6b6-d7e8-4e4b-887c-c62a00e4d574\",\"root_ids\":[\"1905\"],\"roots\":{\"1905\":\"91cb3c51-bea3-4ba2-8f6b-f698f522cfb8\"}}];\n",
       "  root.Bokeh.embed.embed_items_notebook(docs_json, render_items);\n",
       "\n",
       "  }\n",
       "  if (root.Bokeh !== undefined) {\n",
       "    embed_document(root);\n",
       "  } else {\n",
       "    var attempts = 0;\n",
       "    var timer = setInterval(function(root) {\n",
       "      if (root.Bokeh !== undefined) {\n",
       "        clearInterval(timer);\n",
       "        embed_document(root);\n",
       "      } else {\n",
       "        attempts++;\n",
       "        if (attempts > 100) {\n",
       "          clearInterval(timer);\n",
       "          console.log(\"Bokeh: ERROR: Unable to run BokehJS code because BokehJS library is missing\");\n",
       "        }\n",
       "      }\n",
       "    }, 10, root)\n",
       "  }\n",
       "})(window);"
      ],
      "application/vnd.bokehjs_exec.v0+json": ""
     },
     "metadata": {
      "application/vnd.bokehjs_exec.v0+json": {
       "id": "1905"
      }
     },
     "output_type": "display_data"
    }
   ],
   "source": [
    "p=figure(plot_width=600, plot_height=300, \n",
    "        x_axis_type=\"datetime\")\n",
    "p.line(bd.date, bd.daily_infection, \n",
    "      line_width=2, \n",
    "      line_color=\"DarkBlue\", \n",
    "      legend_label=\"Bangladesh\", \n",
    "      muted_color=\"gray\", \n",
    "      muted_alpha=0.2)\n",
    "\n",
    "p.line(pakistan.date, pakistan.daily_infection, \n",
    "      line_width=1, \n",
    "      line_color=\"firebrick\", \n",
    "      legend_label=\"Pakistan\", \n",
    "      muted_color=\"gray\", \n",
    "      muted_alpha=0.2)\n",
    "\n",
    "p.legend.location=\"top_left\"\n",
    "p.legend.click_policy=\"mute\"\n",
    "show(p)"
   ]
  },
  {
   "cell_type": "code",
   "execution_count": null,
   "metadata": {},
   "outputs": [],
   "source": []
  }
 ],
 "metadata": {
  "kernelspec": {
   "display_name": "Python 3",
   "language": "python",
   "name": "python3"
  },
  "language_info": {
   "codemirror_mode": {
    "name": "ipython",
    "version": 3
   },
   "file_extension": ".py",
   "mimetype": "text/x-python",
   "name": "python",
   "nbconvert_exporter": "python",
   "pygments_lexer": "ipython3",
   "version": "3.8.5"
  }
 },
 "nbformat": 4,
 "nbformat_minor": 4
}
